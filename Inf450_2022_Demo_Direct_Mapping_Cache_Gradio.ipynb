{
  "cells": [
    {
      "cell_type": "markdown",
      "metadata": {
        "id": "view-in-github",
        "colab_type": "text"
      },
      "source": [
        "<a href=\"https://colab.research.google.com/github/jpmedras/inf450_2023-1/blob/main/Inf450_2022_Demo_Direct_Mapping_Cache_Gradio.ipynb\" target=\"_parent\"><img src=\"https://colab.research.google.com/assets/colab-badge.svg\" alt=\"Open In Colab\"/></a>"
      ]
    },
    {
      "cell_type": "markdown",
      "metadata": {
        "id": "MQoqiaaluonZ"
      },
      "source": [
        "# Direct Mapping Cache Assignment\n",
        "\n",
        "* Implement the **Gradio Interface** for a Verilog code to simulate a direct mapping cache\n",
        "* The Cache will be read only.\n",
        "* This Colab NB has already a direct mapping parametrized cache as your starting point."
      ]
    },
    {
      "cell_type": "markdown",
      "metadata": {
        "id": "v34hZvteg3ya"
      },
      "source": [
        "# Installing"
      ]
    },
    {
      "cell_type": "code",
      "execution_count": null,
      "metadata": {
        "id": "r1pzW9K0kJs8"
      },
      "outputs": [],
      "source": [
        "!pip install git+https://github.com/lesc-ufv/cad4u >& /dev/null\n",
        "!git clone https://github.com/lesc-ufv/cad4u >& /dev/null\n",
        "%load_ext plugin"
      ]
    },
    {
      "cell_type": "markdown",
      "metadata": {
        "id": "mMcvvWyui5fk"
      },
      "source": [
        "## Cache Schematic\n",
        "\n",
        "[Link desenho Excalidraw](https://excalidraw.com/#json=ej9ztRutvSeb-U4kcyzoU,9vOhV989mUYXB_yNNr03jA)"
      ]
    },
    {
      "cell_type": "markdown",
      "metadata": {
        "id": "G3yAbiFKTgbj"
      },
      "source": [
        "<img src=\"https://github.com/arduinoufv/inf450/blob/master/cache/figuras/cacheMD_gradio_esboco.png?raw=true\" alt=\"blind\" width=\"600\"/>"
      ]
    },
    {
      "cell_type": "markdown",
      "metadata": {
        "id": "b4Nmbodni8mE"
      },
      "source": [
        "## Verilog Code\n",
        "* All modules are implelemented on different files.\n"
      ]
    },
    {
      "cell_type": "markdown",
      "metadata": {
        "id": "Sf7UQ7VyJgwW"
      },
      "source": [
        "### Block address multiplexer\n",
        "\n",
        "* For the DM cache, it is used to select between request block address and the internal block counter to fill the cache block."
      ]
    },
    {
      "cell_type": "code",
      "execution_count": null,
      "metadata": {
        "colab": {
          "base_uri": "https://localhost:8080/"
        },
        "id": "aeELsCEJJldL",
        "outputId": "744f7777-23cf-4671-f190-b4eb445c48e8"
      },
      "outputs": [
        {
          "output_type": "stream",
          "name": "stdout",
          "text": [
            "Writing mux.v\n"
          ]
        }
      ],
      "source": [
        "%%writefile mux.v\n",
        "module  mux(\n",
        "din_0      , // Mux first input\n",
        "din_1      , // Mux Second input\n",
        "sel        , // Select input\n",
        "mux_out      // Mux output\n",
        ");\n",
        "parameter bitsBlock = 3;\n",
        "//-----------Input Ports---------------\n",
        "input [bitsBlock-1:0] din_0;\n",
        "inout [bitsBlock-1:0] din_1;\n",
        "input sel ;\n",
        "//-----------Output Ports---------------\n",
        "output [bitsBlock-1:0] mux_out;\n",
        "//-------------Code Start-----------------\n",
        "assign mux_out = (sel) ? din_1 : din_0;\n",
        "\n",
        "endmodule //End Of Module mux\n"
      ]
    },
    {
      "cell_type": "markdown",
      "metadata": {
        "id": "jOyWzpmyKWrj"
      },
      "source": [
        "### Tag Comparator\n",
        "\n",
        "* Compare current address tag to Cache tag address"
      ]
    },
    {
      "cell_type": "code",
      "execution_count": null,
      "metadata": {
        "colab": {
          "base_uri": "https://localhost:8080/"
        },
        "id": "-uJe86WGe3su",
        "outputId": "c4636298-3881-4990-89f9-3b4386a2d375"
      },
      "outputs": [
        {
          "output_type": "stream",
          "name": "stdout",
          "text": [
            "Writing comparator.v\n"
          ]
        }
      ],
      "source": [
        "%%writefile comparator.v\n",
        "module comparator(out, tag, tag_in);\n",
        "parameter bitsTag = 6;\n",
        "  output  out;\n",
        "  input   [bitsTag-1:0] tag;\n",
        "  input   [bitsTag-1:0] tag_in;\n",
        "\n",
        "assign out =  ( tag == tag_in )? 1 : 0;\n",
        "\n",
        "endmodule"
      ]
    },
    {
      "cell_type": "markdown",
      "metadata": {
        "id": "Tl8yTmk6fG7d"
      },
      "source": [
        "### Mtag Cache\n",
        "* Memory to store the cache Tags."
      ]
    },
    {
      "cell_type": "code",
      "execution_count": null,
      "metadata": {
        "colab": {
          "base_uri": "https://localhost:8080/"
        },
        "id": "D4dqOyf-fmlH",
        "outputId": "8cf7deaa-afea-4d83-e51f-1cb5024cdba6"
      },
      "outputs": [
        {
          "output_type": "stream",
          "name": "stdout",
          "text": [
            "Writing Mtag.v\n"
          ]
        }
      ],
      "source": [
        "\n",
        "%%writefile Mtag.v\n",
        "module Mtag ( clk, line,  din, wr, dout , reset);\n",
        "parameter bitsLinesCache = 2;\n",
        "parameter bitsTag = 6;\n",
        "parameter linesCache = 4;\n",
        "\n",
        "input clk;\n",
        "input [bitsLinesCache-1:0] line;\n",
        "input [bitsTag-1:0] din;\n",
        "input wr;\n",
        "output [bitsTag-1:0] dout;\n",
        "input reset;\n",
        "\n",
        "\n",
        "reg [bitsTag-1:0] memory[0:linesCache-1];\n",
        "reg [bitsTag-1:0] dout;\n",
        "\n",
        "always @(posedge clk )\n",
        "  begin\n",
        "    if (wr)\n",
        "      memory[line] <= din;\n",
        "  end\n",
        "\n",
        "always @ (*)\n",
        "  begin\n",
        "  dout <= memory[line];\n",
        "  end\n",
        "\n",
        "always @( posedge reset)\n",
        "\t\t\tif(reset)\n",
        "\t\t\t\tbegin\n",
        "\t\t\t\t  memory[0] <= 6'h3;\n",
        "\t\t\t\t  memory[1] <= 6'h4;\n",
        "\t\t\t\t  memory[2] <= 6'h5;\n",
        "\t\t\t\t  memory[3] <= 6'h6;\n",
        "\t\t\t\tend\n",
        "\n",
        "\n",
        "endmodule"
      ]
    },
    {
      "cell_type": "markdown",
      "metadata": {
        "id": "sbExwnSdfyHA"
      },
      "source": [
        "### Cache Valid Bit\n",
        "* Memory with reset signal to store the valid bit. One per line."
      ]
    },
    {
      "cell_type": "code",
      "execution_count": null,
      "metadata": {
        "colab": {
          "base_uri": "https://localhost:8080/"
        },
        "id": "sG3UOMqef9ou",
        "outputId": "e7a7bc9f-723b-4cd7-aad1-9fbf68b233bf"
      },
      "outputs": [
        {
          "output_type": "stream",
          "name": "stdout",
          "text": [
            "Writing valid.v\n"
          ]
        }
      ],
      "source": [
        "\n",
        "%%writefile valid.v\n",
        "module valid ( clk, line,  reset, wr, dout );\n",
        "parameter bitsLinesCache = 2;\n",
        "parameter linesCache = 4;\n",
        "input clk;\n",
        "input [bitsLinesCache-1:0] line;\n",
        "input reset;\n",
        "input wr;\n",
        "output dout;\n",
        "\n",
        "reg memory[0:linesCache-1];\n",
        "reg dout;\n",
        "\n",
        "always @(posedge clk )\n",
        "  begin\n",
        "    if (wr)\n",
        "      memory[line] <= 1;\n",
        "  end\n",
        "\n",
        "always @ (*)\n",
        "  begin\n",
        "  dout = memory[line];\n",
        "  end\n",
        "\n",
        "reg integer i;\n",
        "always @ (reset)\n",
        "  begin\n",
        "  for(i =0;i<linesCache;i=1+i)begin\n",
        "    memory[i]=0;\n",
        "  end\n",
        "  end\n",
        "endmodule"
      ]
    },
    {
      "cell_type": "markdown",
      "metadata": {
        "id": "HRfEdyVOhNH6"
      },
      "source": [
        "###Data cache\n",
        "* Memory module to store the data\n",
        "* May be used to write din in cache. The position is given by {line, blk}\n"
      ]
    },
    {
      "cell_type": "code",
      "execution_count": null,
      "metadata": {
        "colab": {
          "base_uri": "https://localhost:8080/"
        },
        "id": "n9EF4H3zg84w",
        "outputId": "414c5a9f-393d-43d6-c873-ccb9210ad29a"
      },
      "outputs": [
        {
          "output_type": "stream",
          "name": "stdout",
          "text": [
            "Writing datacache.v\n"
          ]
        }
      ],
      "source": [
        "%%writefile datacache.v\n",
        "module datacache ( clk, line, blk, din, wr, dout );\n",
        "parameter bitsBlock = 3;\n",
        "parameter bitLinesCache = 2;\n",
        "parameter cacheSize = 32;\n",
        "input clk;\n",
        "input [bitLinesCache-1:0] line;\n",
        "input [bitsBlock-1:0] blk;\n",
        "input [7:0] din;\n",
        "input wr;\n",
        "output [7:0] dout;\n",
        "\n",
        "reg [7:0] memory[0:cacheSize-1];\n",
        "reg [7:0] dout;\n",
        "\n",
        "always @(posedge clk )\n",
        "  begin\n",
        "    if (wr)\n",
        "      memory[{line,blk}] <= din;\n",
        "  end\n",
        "\n",
        "always @ (*)\n",
        "  begin\n",
        "  dout <= memory[{line,blk}];\n",
        "  end\n",
        "\n",
        "endmodule"
      ]
    },
    {
      "cell_type": "markdown",
      "metadata": {
        "id": "J6S1jLitlAf5"
      },
      "source": [
        "### Ram\n",
        "* Ram Memory Module\n",
        "* Returns memory address in dout\n",
        "* Write din if wr == 1"
      ]
    },
    {
      "cell_type": "code",
      "execution_count": null,
      "metadata": {
        "colab": {
          "base_uri": "https://localhost:8080/"
        },
        "id": "J2iqP6fHk4-2",
        "outputId": "f9d911f0-84ad-4ba0-bd41-51a33156e81b"
      },
      "outputs": [
        {
          "output_type": "stream",
          "name": "stdout",
          "text": [
            "Writing ram.v\n"
          ]
        }
      ],
      "source": [
        "%%writefile ram.v\n",
        "module ram ( clk, addr, din, wr, dout, reset );\n",
        "parameter bitsRam = 11;\n",
        "parameter ramSize = 2048;\n",
        "input clk;\n",
        "input [bitsRam-1:0] addr;\n",
        "input [7:0] din;\n",
        "input wr;\n",
        "output [7:0] dout;\n",
        "input reset;\n",
        "\n",
        "reg [7:0] memory[0:ramSize-1];\n",
        "reg [7:0] dout;\n",
        "\n",
        "\n",
        "always @(posedge clk )\n",
        "  begin\n",
        "    if (wr)\n",
        "      memory[addr] <= din;\n",
        "  end\n",
        "\n",
        "always @ (*)\n",
        "  begin\n",
        "  dout <= memory[addr];\n",
        "  end\n",
        "\n",
        "reg integer i;\n",
        " always @(posedge reset)\n",
        "\t\t\tif(reset) // starts for testing\n",
        "\t\t\t\tbegin\n",
        "            for(i = 0;i<ramSize;i=i+1)begin\n",
        "              memory[i] <= i;\n",
        "\n",
        "            end\n",
        "\t\t\t\tend\n",
        "endmodule"
      ]
    },
    {
      "cell_type": "markdown",
      "metadata": {
        "id": "z_-yiM9_lz8-"
      },
      "source": [
        "### Counter Module\n",
        "* parameterized Counter: 0 to blockSize - 1\n",
        "* This counter generates the address to fill the data cache line with a data block."
      ]
    },
    {
      "cell_type": "code",
      "execution_count": null,
      "metadata": {
        "colab": {
          "base_uri": "https://localhost:8080/"
        },
        "id": "MSO4vOARlq_R",
        "outputId": "ce3d1620-3a9d-4e05-922d-ca46df985e88"
      },
      "outputs": [
        {
          "output_type": "stream",
          "name": "stdout",
          "text": [
            "Writing counter.v\n"
          ]
        }
      ],
      "source": [
        "%%writefile counter.v\n",
        "module counter(out, clk, reset, End);\n",
        "  parameter bitsBlock = 3;\n",
        "  parameter blockSize = 8;\n",
        "  output [bitsBlock-1 : 0] out;\n",
        "  input \t       clk, reset;\n",
        "  output End;\n",
        "\n",
        "  reg [bitsBlock-1 : 0]   out;\n",
        "  reg End;\n",
        "  wire \t       clk, reset;\n",
        "  wire [bitsBlock-1: 0] limitCounter = blockSize-1;\n",
        "  always @(posedge clk)\n",
        "    out <= out + 1;\n",
        "\n",
        "  always @(posedge clk)\n",
        "    if ( out == limitCounter )\n",
        "       End <= 1;\n",
        "    else\n",
        "       End <= 0;\n",
        "\n",
        "\n",
        "  always @(reset)\n",
        "    if (reset)\n",
        "      out <= 0;\n",
        "\n",
        "endmodule // counter"
      ]
    },
    {
      "cell_type": "markdown",
      "metadata": {
        "id": "Zm5j--CDIO5C"
      },
      "source": [
        "## Cache Finite State Machine\n",
        "\n",
        "* Provide FSM diagram using Graphviz"
      ]
    },
    {
      "cell_type": "markdown",
      "metadata": {
        "id": "B0UmC8hhSvEC"
      },
      "source": [
        "### Graphviz installation"
      ]
    },
    {
      "cell_type": "code",
      "execution_count": null,
      "metadata": {
        "id": "AjDpXb2xS4RY"
      },
      "outputs": [],
      "source": [
        "# installing the Graphviz\n",
        "!apt install -y graphviz >& /dev/null\n",
        "!pip install graphviz  >& /dev/null"
      ]
    },
    {
      "cell_type": "code",
      "execution_count": null,
      "metadata": {
        "colab": {
          "base_uri": "https://localhost:8080/",
          "height": 36
        },
        "id": "zwgGcybH9fdk",
        "outputId": "82fe7453-bd71-46e1-bacb-f6d902943420"
      },
      "outputs": [
        {
          "output_type": "execute_result",
          "data": {
            "text/plain": [
              "'fsmCache.gv.pdf'"
            ],
            "application/vnd.google.colaboratory.intrinsic+json": {
              "type": "string"
            }
          },
          "metadata": {},
          "execution_count": 1
        }
      ],
      "source": [
        "\n",
        "from graphviz import Digraph\n",
        "e = Digraph('fsmCache', filename='fsmCache.gv')\n",
        "\n",
        "e.attr('node', shape='box')\n",
        "\n",
        "with e.subgraph() as s:\n",
        "    s.attr(rank='bottom')\n",
        "    s.node('ReadData', label = 'ReadData Done == 1')\n",
        "    s.node('ReadTag', label = 'ReadTag Cnt == 1',shape=\"box3d\")\n",
        "\n",
        "e.edge('ReadTag','ReadData','c&v');\n",
        "e.edge('ReadTag','ReadBlock','¬(c&v)');\n",
        "\n",
        "e.edge('ReadData','ReadTag');\n",
        "\n",
        "\n",
        "with e.subgraph() as s:\n",
        "    s.attr(rank='top')\n",
        "    s.node('ReadBlock', label = 'ReadBlock Dwr == & 1 Mux == 1')\n",
        "    s.node('UpdateTag', label = 'UpdateTag Twr == 1')\n",
        "\n",
        "e.edge('ReadBlock','UpdateTag','END');\n",
        "e.edge('ReadBlock','ReadBlock','¬END');\n",
        "\n",
        "e.edge(\"UpdateTag\",\"ReadTag\")\n",
        "e.view()"
      ]
    },
    {
      "cell_type": "code",
      "execution_count": null,
      "metadata": {
        "colab": {
          "base_uri": "https://localhost:8080/",
          "height": 429
        },
        "id": "Tqvciiix923k",
        "outputId": "d5c88146-4cf7-4f81-c78f-61cb170bc887"
      },
      "outputs": [
        {
          "output_type": "execute_result",
          "data": {
            "image/svg+xml": "<?xml version=\"1.0\" encoding=\"UTF-8\" standalone=\"no\"?>\n<!DOCTYPE svg PUBLIC \"-//W3C//DTD SVG 1.1//EN\"\n \"http://www.w3.org/Graphics/SVG/1.1/DTD/svg11.dtd\">\n<!-- Generated by graphviz version 2.43.0 (0)\n -->\n<!-- Title: fsmCache Pages: 1 -->\n<svg width=\"288pt\" height=\"305pt\"\n viewBox=\"0.00 0.00 288.40 305.00\" xmlns=\"http://www.w3.org/2000/svg\" xmlns:xlink=\"http://www.w3.org/1999/xlink\">\n<g id=\"graph0\" class=\"graph\" transform=\"scale(1 1) rotate(0) translate(4 301)\">\n<title>fsmCache</title>\n<polygon fill=\"white\" stroke=\"transparent\" points=\"-4,4 -4,-301 284.4,-301 284.4,4 -4,4\"/>\n<!-- ReadData -->\n<g id=\"node1\" class=\"node\">\n<title>ReadData</title>\n<polygon fill=\"none\" stroke=\"black\" points=\"266.5,-297 132.5,-297 132.5,-261 266.5,-261 266.5,-297\"/>\n<text text-anchor=\"middle\" x=\"199.5\" y=\"-275.3\" font-family=\"Times,serif\" font-size=\"14.00\">ReadData Done == 1</text>\n</g>\n<!-- ReadTag -->\n<g id=\"node2\" class=\"node\">\n<title>ReadTag</title>\n<polygon fill=\"none\" stroke=\"black\" points=\"259,-210 144,-210 140,-206 140,-174 255,-174 259,-178 259,-210\"/>\n<polyline fill=\"none\" stroke=\"black\" points=\"255,-206 140,-206 \"/>\n<polyline fill=\"none\" stroke=\"black\" points=\"255,-206 255,-174 \"/>\n<polyline fill=\"none\" stroke=\"black\" points=\"255,-206 259,-210 \"/>\n<text text-anchor=\"middle\" x=\"199.5\" y=\"-188.3\" font-family=\"Times,serif\" font-size=\"14.00\">ReadTag Cnt == 1</text>\n</g>\n<!-- ReadData&#45;&gt;ReadTag -->\n<g id=\"edge3\" class=\"edge\">\n<title>ReadData&#45;&gt;ReadTag</title>\n<path fill=\"none\" stroke=\"black\" d=\"M198.23,-260.88C197.67,-251.23 197.19,-238.94 197.5,-228 197.57,-225.44 197.68,-222.79 197.8,-220.13\"/>\n<polygon fill=\"black\" stroke=\"black\" points=\"201.29,-220.25 198.33,-210.08 194.3,-219.88 201.29,-220.25\"/>\n</g>\n<!-- ReadTag&#45;&gt;ReadData -->\n<g id=\"edge1\" class=\"edge\">\n<title>ReadTag&#45;&gt;ReadData</title>\n<path fill=\"none\" stroke=\"black\" d=\"M199.5,-210.18C199.5,-221.81 199.5,-237.42 199.5,-250.73\"/>\n<polygon fill=\"black\" stroke=\"black\" points=\"196,-250.8 199.5,-260.8 203,-250.8 196,-250.8\"/>\n<text text-anchor=\"middle\" x=\"212\" y=\"-231.8\" font-family=\"Times,serif\" font-size=\"14.00\">c&amp;v</text>\n</g>\n<!-- ReadBlock -->\n<g id=\"node3\" class=\"node\">\n<title>ReadBlock</title>\n<polygon fill=\"none\" stroke=\"black\" points=\"211,-123 0,-123 0,-87 211,-87 211,-123\"/>\n<text text-anchor=\"middle\" x=\"105.5\" y=\"-101.3\" font-family=\"Times,serif\" font-size=\"14.00\">ReadBlock Dwr == &amp; 1 Mux == 1</text>\n</g>\n<!-- ReadTag&#45;&gt;ReadBlock -->\n<g id=\"edge2\" class=\"edge\">\n<title>ReadTag&#45;&gt;ReadBlock</title>\n<path fill=\"none\" stroke=\"black\" d=\"M180.48,-173.8C166.59,-161.24 147.58,-144.05 132.17,-130.12\"/>\n<polygon fill=\"black\" stroke=\"black\" points=\"134.26,-127.29 124.49,-123.18 129.56,-132.48 134.26,-127.29\"/>\n<text text-anchor=\"middle\" x=\"179.5\" y=\"-144.8\" font-family=\"Times,serif\" font-size=\"14.00\">¬(c&amp;v)</text>\n</g>\n<!-- ReadBlock&#45;&gt;ReadBlock -->\n<g id=\"edge5\" class=\"edge\">\n<title>ReadBlock&#45;&gt;ReadBlock</title>\n<path fill=\"none\" stroke=\"black\" d=\"M211.34,-111.47C222.12,-110.19 229,-108.04 229,-105 229,-103.06 226.18,-101.47 221.31,-100.25\"/>\n<polygon fill=\"black\" stroke=\"black\" points=\"221.79,-96.78 211.34,-98.53 220.6,-103.68 221.79,-96.78\"/>\n<text text-anchor=\"middle\" x=\"247.5\" y=\"-101.3\" font-family=\"Times,serif\" font-size=\"14.00\">¬END</text>\n</g>\n<!-- UpdateTag -->\n<g id=\"node4\" class=\"node\">\n<title>UpdateTag</title>\n<polygon fill=\"none\" stroke=\"black\" points=\"265,-36 134,-36 134,0 265,0 265,-36\"/>\n<text text-anchor=\"middle\" x=\"199.5\" y=\"-14.3\" font-family=\"Times,serif\" font-size=\"14.00\">UpdateTag Twr == 1</text>\n</g>\n<!-- ReadBlock&#45;&gt;UpdateTag -->\n<g id=\"edge4\" class=\"edge\">\n<title>ReadBlock&#45;&gt;UpdateTag</title>\n<path fill=\"none\" stroke=\"black\" d=\"M124.52,-86.8C138.41,-74.24 157.42,-57.05 172.83,-43.12\"/>\n<polygon fill=\"black\" stroke=\"black\" points=\"175.44,-45.48 180.51,-36.18 170.74,-40.29 175.44,-45.48\"/>\n<text text-anchor=\"middle\" x=\"172.5\" y=\"-57.8\" font-family=\"Times,serif\" font-size=\"14.00\">END</text>\n</g>\n<!-- UpdateTag&#45;&gt;ReadTag -->\n<g id=\"edge6\" class=\"edge\">\n<title>UpdateTag&#45;&gt;ReadTag</title>\n<path fill=\"none\" stroke=\"black\" d=\"M228.62,-36.12C245.75,-47.99 265.89,-65.5 275.5,-87 282.03,-101.61 282.03,-108.39 275.5,-123 267.39,-141.14 251.79,-156.44 236.82,-167.91\"/>\n<polygon fill=\"black\" stroke=\"black\" points=\"234.64,-165.16 228.62,-173.88 238.76,-170.82 234.64,-165.16\"/>\n</g>\n</g>\n</svg>\n",
            "text/plain": [
              "<graphviz.sources.Source at 0x7fb2bc1c1f00>"
            ]
          },
          "metadata": {},
          "execution_count": 10
        }
      ],
      "source": [
        "#@title Final State Machine Visualization\n",
        "from graphviz import Source\n",
        "Source.from_file('fsmCache.gv') # visualizando"
      ]
    },
    {
      "cell_type": "markdown",
      "metadata": {
        "id": "0HH_n3TmT4NR"
      },
      "source": [
        "### Verilog FSM module"
      ]
    },
    {
      "cell_type": "code",
      "execution_count": null,
      "metadata": {
        "colab": {
          "base_uri": "https://localhost:8080/"
        },
        "id": "Mjisylw9Eb9s",
        "outputId": "8774e123-4b9e-45c6-a8c9-9cb22ef229a3"
      },
      "outputs": [
        {
          "output_type": "stream",
          "name": "stdout",
          "text": [
            "Writing fsm.v\n"
          ]
        }
      ],
      "source": [
        "\n",
        "%%writefile fsm.v\n",
        "module fsm(\n",
        "  input wire clk, reset, c, v, END,\n",
        "  output reg Twr, Dwr, Rwr, Cnt, Mux,Done);\n",
        "\n",
        "reg [2:0] state;\n",
        "\n",
        "parameter ReadTag = 3'b00, ReadData = 3'b01,\n",
        "ReadBlk = 3'b10, UpdateTag = 3'b11, RESET = 3'b100;\n",
        "\n",
        "/* State register (synchronous reset) */\n",
        "always @(posedge clk or posedge reset)\n",
        "begin\n",
        "  if (reset)\n",
        "    state <= RESET;\n",
        "  else\n",
        "    case (state)\n",
        "    RESET: state <= ReadTag;\n",
        "    ReadTag:\n",
        "      if (c && v)  state <= ReadData;\n",
        "      else state <= ReadBlk;\n",
        "\n",
        "    ReadData:\n",
        "      state <= ReadTag;\n",
        "\n",
        "    ReadBlk:\n",
        "      if (END) state <= UpdateTag;\n",
        "      else     state <= ReadBlk;\n",
        "\n",
        "    UpdateTag:\n",
        "      state <= ReadTag;\n",
        "\n",
        "  endcase\n",
        "end\n",
        "\n",
        "/* Output logic */\n",
        "always @(*) begin\n",
        "  Cnt = (state == ReadTag);\n",
        "  Twr = (state == UpdateTag);\n",
        "  Dwr = (state == ReadBlk);\n",
        "  Rwr = 0;\n",
        "  Mux = (state == ReadBlk);\n",
        "  Done = (state == ReadData);\n",
        "end\n",
        "\n",
        "endmodule\n"
      ]
    },
    {
      "cell_type": "markdown",
      "metadata": {
        "id": "zrD-T4n9UER0"
      },
      "source": [
        "## Main Project"
      ]
    },
    {
      "cell_type": "markdown",
      "metadata": {
        "id": "p4AdhlEhU_Ye"
      },
      "source": [
        "### Modulo Main.v\n",
        "\n",
        "Must include submodules created to parameterized cache implementation\n"
      ]
    },
    {
      "cell_type": "code",
      "execution_count": null,
      "metadata": {
        "colab": {
          "base_uri": "https://localhost:8080/",
          "height": 710
        },
        "id": "3TLKzm9g6M8T",
        "outputId": "0671d804-5d9b-4b82-de9b-d9dd98981233"
      },
      "outputs": [
        {
          "output_type": "stream",
          "name": "stdout",
          "text": [
            "Installing. Please wait... done!\n",
            "/content/cad4u/verilog/yosys_command.sh cache_read_only code.v\n"
          ]
        },
        {
          "output_type": "display_data",
          "data": {
            "text/plain": [
              "<IPython.core.display.SVG object>"
            ],
            "image/svg+xml": "<svg xmlns=\"http://www.w3.org/2000/svg\" xmlns:xlink=\"http://www.w3.org/1999/xlink\" xmlns:s=\"https://github.com/nturley/netlistsvg\" width=\"1030\" height=\"654\"><style>svg {\n  stroke:#000;\n  fill:none;\n}\ntext {\n  fill:#000;\n  stroke:none;\n  font-size:10px;\n  font-weight: bold;\n  font-family: &quot;Courier New&quot;, monospace;\n}\nline {\n    stroke-linecap: round;\n}\n.nodelabel {\n  text-anchor: middle;\n}\n.inputPortLabel {\n  text-anchor: end;\n}\n.splitjoinBody {\n  fill:#000;\n}</style><g s:type=\"generic\" transform=\"translate(587,22)\" s:width=\"30\" s:height=\"40\" id=\"cell_DataMux\"><text x=\"15\" y=\"-4\" class=\"nodelabel cell_DataMux\" s:attribute=\"ref\">mux</text><rect width=\"30\" height=\"40\" s:generic=\"body\" class=\"cell_DataMux\"/><g transform=\"translate(0,10)\" s:x=\"0\" s:y=\"10\" s:pid=\"in0\" id=\"port_DataMux~din_0\"><text x=\"-3\" y=\"-4\" class=\"inputPortLabel cell_DataMux\">din_0</text></g><g transform=\"translate(0,30)\" s:x=\"0\" s:y=\"10\" s:pid=\"in0\" id=\"port_DataMux~sel\"><text x=\"-3\" y=\"-4\" class=\"inputPortLabel cell_DataMux\">sel</text></g><g transform=\"translate(30,10)\" s:x=\"30\" s:y=\"10\" s:pid=\"out0\" id=\"port_DataMux~mux_out\"><text x=\"5\" y=\"-4\" style=\"fill:#000; stroke:none\" class=\"cell_DataMux\">mux_out</text></g></g><g s:type=\"generic\" transform=\"translate(440,264)\" s:width=\"30\" s:height=\"40\" id=\"cell_FSM\"><text x=\"15\" y=\"-4\" class=\"nodelabel cell_FSM\" s:attribute=\"ref\">fsm</text><rect width=\"30\" height=\"120\" s:generic=\"body\" class=\"cell_FSM\"/><g transform=\"translate(0,10)\" s:x=\"0\" s:y=\"10\" s:pid=\"in0\" id=\"port_FSM~END\"><text x=\"-3\" y=\"-4\" class=\"inputPortLabel cell_FSM\">END</text></g><g transform=\"translate(0,30)\" s:x=\"0\" s:y=\"10\" s:pid=\"in0\" id=\"port_FSM~c\"><text x=\"-3\" y=\"-4\" class=\"inputPortLabel cell_FSM\">c</text></g><g transform=\"translate(0,50)\" s:x=\"0\" s:y=\"10\" s:pid=\"in0\" id=\"port_FSM~clk\"><text x=\"-3\" y=\"-4\" class=\"inputPortLabel cell_FSM\">clk</text></g><g transform=\"translate(0,70)\" s:x=\"0\" s:y=\"10\" s:pid=\"in0\" id=\"port_FSM~reset\"><text x=\"-3\" y=\"-4\" class=\"inputPortLabel cell_FSM\">reset</text></g><g transform=\"translate(0,90)\" s:x=\"0\" s:y=\"10\" s:pid=\"in0\" id=\"port_FSM~v\"><text x=\"-3\" y=\"-4\" class=\"inputPortLabel cell_FSM\">v</text></g><g transform=\"translate(30,10)\" s:x=\"30\" s:y=\"10\" s:pid=\"out0\" id=\"port_FSM~Cnt\"><text x=\"5\" y=\"-4\" style=\"fill:#000; stroke:none\" class=\"cell_FSM\">Cnt</text></g><g transform=\"translate(30,30)\" s:x=\"30\" s:y=\"10\" s:pid=\"out0\" id=\"port_FSM~Done\"><text x=\"5\" y=\"-4\" style=\"fill:#000; stroke:none\" class=\"cell_FSM\">Done</text></g><g transform=\"translate(30,50)\" s:x=\"30\" s:y=\"10\" s:pid=\"out0\" id=\"port_FSM~Dwr\"><text x=\"5\" y=\"-4\" style=\"fill:#000; stroke:none\" class=\"cell_FSM\">Dwr</text></g><g transform=\"translate(30,70)\" s:x=\"30\" s:y=\"10\" s:pid=\"out0\" id=\"port_FSM~Mux\"><text x=\"5\" y=\"-4\" style=\"fill:#000; stroke:none\" class=\"cell_FSM\">Mux</text></g><g transform=\"translate(30,90)\" s:x=\"30\" s:y=\"10\" s:pid=\"out0\" id=\"port_FSM~Rwr\"><text x=\"5\" y=\"-4\" style=\"fill:#000; stroke:none\" class=\"cell_FSM\">Rwr</text></g><g transform=\"translate(30,110)\" s:x=\"30\" s:y=\"10\" s:pid=\"out0\" id=\"port_FSM~Twr\"><text x=\"5\" y=\"-4\" style=\"fill:#000; stroke:none\" class=\"cell_FSM\">Twr</text></g></g><g s:type=\"generic\" transform=\"translate(589.1666666666666,98)\" s:width=\"30\" s:height=\"40\" id=\"cell_R\"><text x=\"15\" y=\"-4\" class=\"nodelabel cell_R\" s:attribute=\"ref\">ram</text><rect width=\"30\" height=\"100\" s:generic=\"body\" class=\"cell_R\"/><g transform=\"translate(0,10)\" s:x=\"0\" s:y=\"10\" s:pid=\"in0\" id=\"port_R~addr\"><text x=\"-3\" y=\"-4\" class=\"inputPortLabel cell_R\">addr</text></g><g transform=\"translate(0,30)\" s:x=\"0\" s:y=\"10\" s:pid=\"in0\" id=\"port_R~clk\"><text x=\"-3\" y=\"-4\" class=\"inputPortLabel cell_R\">clk</text></g><g transform=\"translate(0,50)\" s:x=\"0\" s:y=\"10\" s:pid=\"in0\" id=\"port_R~din\"><text x=\"-3\" y=\"-4\" class=\"inputPortLabel cell_R\">din</text></g><g transform=\"translate(0,70)\" s:x=\"0\" s:y=\"10\" s:pid=\"in0\" id=\"port_R~reset\"><text x=\"-3\" y=\"-4\" class=\"inputPortLabel cell_R\">reset</text></g><g transform=\"translate(0,90)\" s:x=\"0\" s:y=\"10\" s:pid=\"in0\" id=\"port_R~wr\"><text x=\"-3\" y=\"-4\" class=\"inputPortLabel cell_R\">wr</text></g><g transform=\"translate(30,10)\" s:x=\"30\" s:y=\"10\" s:pid=\"out0\" id=\"port_R~dout\"><text x=\"5\" y=\"-4\" style=\"fill:#000; stroke:none\" class=\"cell_R\">dout</text></g></g><g s:type=\"generic\" transform=\"translate(781,456.5)\" s:width=\"30\" s:height=\"40\" id=\"cell_T\"><text x=\"15\" y=\"-4\" class=\"nodelabel cell_T\" s:attribute=\"ref\">Mtag</text><rect width=\"30\" height=\"100\" s:generic=\"body\" class=\"cell_T\"/><g transform=\"translate(0,10)\" s:x=\"0\" s:y=\"10\" s:pid=\"in0\" id=\"port_T~clk\"><text x=\"-3\" y=\"-4\" class=\"inputPortLabel cell_T\">clk</text></g><g transform=\"translate(0,30)\" s:x=\"0\" s:y=\"10\" s:pid=\"in0\" id=\"port_T~din\"><text x=\"-3\" y=\"-4\" class=\"inputPortLabel cell_T\">din</text></g><g transform=\"translate(0,50)\" s:x=\"0\" s:y=\"10\" s:pid=\"in0\" id=\"port_T~line\"><text x=\"-3\" y=\"-4\" class=\"inputPortLabel cell_T\">line</text></g><g transform=\"translate(0,70)\" s:x=\"0\" s:y=\"10\" s:pid=\"in0\" id=\"port_T~reset\"><text x=\"-3\" y=\"-4\" class=\"inputPortLabel cell_T\">reset</text></g><g transform=\"translate(0,90)\" s:x=\"0\" s:y=\"10\" s:pid=\"in0\" id=\"port_T~wr\"><text x=\"-3\" y=\"-4\" class=\"inputPortLabel cell_T\">wr</text></g><g transform=\"translate(30,10)\" s:x=\"30\" s:y=\"10\" s:pid=\"out0\" id=\"port_T~dout\"><text x=\"5\" y=\"-4\" style=\"fill:#000; stroke:none\" class=\"cell_T\">dout</text></g></g><g s:type=\"generic\" transform=\"translate(942,559)\" s:width=\"30\" s:height=\"40\" id=\"cell_V\"><text x=\"15\" y=\"-4\" class=\"nodelabel cell_V\" s:attribute=\"ref\">valid</text><rect width=\"30\" height=\"80\" s:generic=\"body\" class=\"cell_V\"/><g transform=\"translate(0,10)\" s:x=\"0\" s:y=\"10\" s:pid=\"in0\" id=\"port_V~clk\"><text x=\"-3\" y=\"-4\" class=\"inputPortLabel cell_V\">clk</text></g><g transform=\"translate(0,30)\" s:x=\"0\" s:y=\"10\" s:pid=\"in0\" id=\"port_V~line\"><text x=\"-3\" y=\"-4\" class=\"inputPortLabel cell_V\">line</text></g><g transform=\"translate(0,50)\" s:x=\"0\" s:y=\"10\" s:pid=\"in0\" id=\"port_V~reset\"><text x=\"-3\" y=\"-4\" class=\"inputPortLabel cell_V\">reset</text></g><g transform=\"translate(0,70)\" s:x=\"0\" s:y=\"10\" s:pid=\"in0\" id=\"port_V~wr\"><text x=\"-3\" y=\"-4\" class=\"inputPortLabel cell_V\">wr</text></g><g transform=\"translate(30,10)\" s:x=\"30\" s:y=\"10\" s:pid=\"out0\" id=\"port_V~dout\"><text x=\"5\" y=\"-4\" style=\"fill:#000; stroke:none\" class=\"cell_V\">dout</text></g></g><g s:type=\"generic\" transform=\"translate(948,417)\" s:width=\"30\" s:height=\"40\" id=\"cell_comp\"><text x=\"15\" y=\"-4\" class=\"nodelabel cell_comp\" s:attribute=\"ref\">comparator</text><rect width=\"30\" height=\"40\" s:generic=\"body\" class=\"cell_comp\"/><g transform=\"translate(0,10)\" s:x=\"0\" s:y=\"10\" s:pid=\"in0\" id=\"port_comp~tag\"><text x=\"-3\" y=\"-4\" class=\"inputPortLabel cell_comp\">tag</text></g><g transform=\"translate(0,30)\" s:x=\"0\" s:y=\"10\" s:pid=\"in0\" id=\"port_comp~tag_in\"><text x=\"-3\" y=\"-4\" class=\"inputPortLabel cell_comp\">tag_in</text></g><g transform=\"translate(30,10)\" s:x=\"30\" s:y=\"10\" s:pid=\"out0\" id=\"port_comp~out\"><text x=\"5\" y=\"-4\" style=\"fill:#000; stroke:none\" class=\"cell_comp\">out</text></g></g><g s:type=\"generic\" transform=\"translate(185,96)\" s:width=\"30\" s:height=\"40\" id=\"cell_count\"><text x=\"15\" y=\"-4\" class=\"nodelabel cell_count\" s:attribute=\"ref\">counter</text><rect width=\"30\" height=\"40\" s:generic=\"body\" class=\"cell_count\"/><g transform=\"translate(0,10)\" s:x=\"0\" s:y=\"10\" s:pid=\"in0\" id=\"port_count~clk\"><text x=\"-3\" y=\"-4\" class=\"inputPortLabel cell_count\">clk</text></g><g transform=\"translate(0,30)\" s:x=\"0\" s:y=\"10\" s:pid=\"in0\" id=\"port_count~reset\"><text x=\"-3\" y=\"-4\" class=\"inputPortLabel cell_count\">reset</text></g><g transform=\"translate(30,10)\" s:x=\"30\" s:y=\"10\" s:pid=\"out0\" id=\"port_count~End\"><text x=\"5\" y=\"-4\" style=\"fill:#000; stroke:none\" class=\"cell_count\">End</text></g><g transform=\"translate(30,30)\" s:x=\"30\" s:y=\"10\" s:pid=\"out0\" id=\"port_count~out\"><text x=\"5\" y=\"-4\" style=\"fill:#000; stroke:none\" class=\"cell_count\">out</text></g></g><g s:type=\"generic\" transform=\"translate(780.1666666666666,22)\" s:width=\"30\" s:height=\"40\" id=\"cell_dcache\"><text x=\"15\" y=\"-4\" class=\"nodelabel cell_dcache\" s:attribute=\"ref\">datacache</text><rect width=\"30\" height=\"100\" s:generic=\"body\" class=\"cell_dcache\"/><g transform=\"translate(0,10)\" s:x=\"0\" s:y=\"10\" s:pid=\"in0\" id=\"port_dcache~blk\"><text x=\"-3\" y=\"-4\" class=\"inputPortLabel cell_dcache\">blk</text></g><g transform=\"translate(0,30)\" s:x=\"0\" s:y=\"10\" s:pid=\"in0\" id=\"port_dcache~clk\"><text x=\"-3\" y=\"-4\" class=\"inputPortLabel cell_dcache\">clk</text></g><g transform=\"translate(0,50)\" s:x=\"0\" s:y=\"10\" s:pid=\"in0\" id=\"port_dcache~din\"><text x=\"-3\" y=\"-4\" class=\"inputPortLabel cell_dcache\">din</text></g><g transform=\"translate(0,70)\" s:x=\"0\" s:y=\"10\" s:pid=\"in0\" id=\"port_dcache~line\"><text x=\"-3\" y=\"-4\" class=\"inputPortLabel cell_dcache\">line</text></g><g transform=\"translate(0,90)\" s:x=\"0\" s:y=\"10\" s:pid=\"in0\" id=\"port_dcache~wr\"><text x=\"-3\" y=\"-4\" class=\"inputPortLabel cell_dcache\">wr</text></g><g transform=\"translate(30,10)\" s:x=\"30\" s:y=\"10\" s:pid=\"out0\" id=\"port_dcache~dout\"><text x=\"5\" y=\"-4\" style=\"fill:#000; stroke:none\" class=\"cell_dcache\">dout</text></g></g><g s:type=\"inputExt\" transform=\"translate(89,96.5)\" s:width=\"30\" s:height=\"20\" id=\"cell_clk\"><text x=\"15\" y=\"-4\" class=\"nodelabel cell_clk\" s:attribute=\"ref\">clk</text><s:alias val=\"$_inputExt_\"/><path d=\"M0,0 L0,20 L15,20 L30,10 L15,0 Z\" class=\"cell_clk\"/><g s:x=\"30\" s:y=\"10\" s:pid=\"Y\"/></g><g s:type=\"inputExt\" transform=\"translate(344,335.5)\" s:width=\"30\" s:height=\"20\" id=\"cell_reset\"><text x=\"15\" y=\"-4\" class=\"nodelabel cell_reset\" s:attribute=\"ref\">reset</text><s:alias val=\"$_inputExt_\"/><path d=\"M0,0 L0,20 L15,20 L30,10 L15,0 Z\" class=\"cell_reset\"/><g s:x=\"30\" s:y=\"10\" s:pid=\"Y\"/></g><g s:type=\"inputExt\" transform=\"translate(12,387.5)\" s:width=\"30\" s:height=\"20\" id=\"cell_address\"><text x=\"15\" y=\"-4\" class=\"nodelabel cell_address\" s:attribute=\"ref\">address</text><s:alias val=\"$_inputExt_\"/><path d=\"M0,0 L0,20 L15,20 L30,10 L15,0 Z\" class=\"cell_address\"/><g s:x=\"30\" s:y=\"10\" s:pid=\"Y\"/></g><g s:type=\"outputExt\" transform=\"translate(948,22.5)\" s:width=\"30\" s:height=\"20\" id=\"cell_dout\"><text x=\"15\" y=\"-4\" class=\"nodelabel cell_dout\" s:attribute=\"ref\">dout</text><s:alias val=\"$_outputExt_\"/><path d=\"M30,0 L30,20 L15,20 L0,10 L15,0 Z\" class=\"cell_dout\"/><g s:x=\"0\" s:y=\"10\" s:pid=\"A\"/></g><g s:type=\"inputExt\" transform=\"translate(344,159)\" s:width=\"30\" s:height=\"20\" id=\"cell_din\"><text x=\"15\" y=\"-4\" class=\"nodelabel cell_din\" s:attribute=\"ref\">din</text><s:alias val=\"$_inputExt_\"/><path d=\"M0,0 L0,20 L15,20 L30,10 L15,0 Z\" class=\"cell_din\"/><g s:x=\"30\" s:y=\"10\" s:pid=\"Y\"/></g><g s:type=\"join\" transform=\"translate(363,88)\" s:width=\"4\" s:height=\"40\" id=\"cell_$join$,31,32,33,7,8,9,10,11,12,13,14,\"><rect width=\"5\" height=\"40\" class=\"splitjoinBody\" s:generic=\"body\"/><s:alias val=\"$_join_\"/><g s:x=\"5\" s:y=\"20\" s:pid=\"out\"/><g transform=\"translate(0,10)\" s:x=\"0\" s:y=\"10\" s:pid=\"in0\"><text x=\"-3\" y=\"-4\" class=\"inputPortLabel\">0:2</text></g><g transform=\"translate(0,30)\" s:x=\"0\" s:y=\"10\" s:pid=\"in0\"><text x=\"-3\" y=\"-4\" class=\"inputPortLabel\">3:10</text></g></g><g s:type=\"split\" transform=\"translate(202.8,377)\" s:width=\"5\" s:height=\"40\" id=\"cell_$split$,4,5,6,7,8,9,10,11,12,13,14,\"><rect width=\"5\" height=\"80\" class=\"splitjoinBody\" s:generic=\"body\"/><s:alias val=\"$_split_\"/><g s:x=\"0\" s:y=\"20\" s:pid=\"in\"/><g transform=\"translate(4,10)\" s:x=\"4\" s:y=\"10\" s:pid=\"out0\"><text x=\"5\" y=\"-4\">0:2</text></g><g transform=\"translate(4,30)\" s:x=\"4\" s:y=\"10\" s:pid=\"out0\"><text x=\"5\" y=\"-4\">3:10</text></g><g transform=\"translate(4,50)\" s:x=\"4\" s:y=\"10\" s:pid=\"out0\"><text x=\"5\" y=\"-4\">5:10</text></g><g transform=\"translate(4,70)\" s:x=\"4\" s:y=\"10\" s:pid=\"out0\"><text x=\"5\" y=\"-4\">3:4</text></g></g><line x1=\"207.8\" x2=\"265\" y1=\"387.5\" y2=\"387.5\" class=\"net_4,5,6 width_3\" style=\"stroke-width: 2\"/><line x1=\"265\" x2=\"265\" y1=\"387.5\" y2=\"32.5\" class=\"net_4,5,6 width_3\" style=\"stroke-width: 2\"/><line x1=\"265\" x2=\"587\" y1=\"32.5\" y2=\"32.5\" class=\"net_4,5,6 width_3\" style=\"stroke-width: 2\"/><line x1=\"471\" x2=\"516\" y1=\"334.5\" y2=\"334.5\" class=\"net_37 width_1\" style=\"stroke-width: 1\"/><line x1=\"516\" x2=\"516\" y1=\"334.5\" y2=\"52.5\" class=\"net_37 width_1\" style=\"stroke-width: 1\"/><line x1=\"516\" x2=\"587\" y1=\"52.5\" y2=\"52.5\" class=\"net_37 width_1\" style=\"stroke-width: 1\"/><line x1=\"216\" x2=\"245\" y1=\"106.5\" y2=\"106.5\" class=\"net_41 width_1\" style=\"stroke-width: 1\"/><line x1=\"245\" x2=\"245\" y1=\"106.5\" y2=\"274.5\" class=\"net_41 width_1\" style=\"stroke-width: 1\"/><line x1=\"245\" x2=\"440\" y1=\"274.5\" y2=\"274.5\" class=\"net_41 width_1\" style=\"stroke-width: 1\"/><line x1=\"979\" x2=\"1018\" y1=\"427.5\" y2=\"427.5\" class=\"net_44 width_1\" style=\"stroke-width: 1\"/><line x1=\"1018\" x2=\"1018\" y1=\"427.5\" y2=\"234\" class=\"net_44 width_1\" style=\"stroke-width: 1\"/><line x1=\"1018\" x2=\"394\" y1=\"234\" y2=\"234\" class=\"net_44 width_1\" style=\"stroke-width: 1\"/><line x1=\"394\" x2=\"394\" y1=\"234\" y2=\"294.5\" class=\"net_44 width_1\" style=\"stroke-width: 1\"/><line x1=\"394\" x2=\"440\" y1=\"294.5\" y2=\"294.5\" class=\"net_44 width_1\" style=\"stroke-width: 1\"/><line x1=\"119\" x2=\"129\" y1=\"106.5\" y2=\"106.5\" class=\"net_2 width_1\" style=\"stroke-width: 1\"/><line x1=\"129\" x2=\"129\" y1=\"106.5\" y2=\"314.5\" class=\"net_2 width_1\" style=\"stroke-width: 1\"/><circle cx=\"129\" cy=\"106.5\" r=\"2\" style=\"fill:#000\" class=\"net_2 width_1\"/><circle cx=\"129\" cy=\"314.5\" r=\"2\" style=\"fill:#000\" class=\"net_2 width_1\"/><line x1=\"129\" x2=\"440\" y1=\"314.5\" y2=\"314.5\" class=\"net_2 width_1\" style=\"stroke-width: 1\"/><line x1=\"119\" x2=\"129\" y1=\"106.5\" y2=\"106.5\" class=\"net_2 width_1\" style=\"stroke-width: 1\"/><line x1=\"129\" x2=\"129\" y1=\"106.5\" y2=\"75\" class=\"net_2 width_1\" style=\"stroke-width: 1\"/><line x1=\"129\" x2=\"285\" y1=\"75\" y2=\"75\" class=\"net_2 width_1\" style=\"stroke-width: 1\"/><line x1=\"285\" x2=\"285\" y1=\"75\" y2=\"138\" class=\"net_2 width_1\" style=\"stroke-width: 1\"/><line x1=\"285\" x2=\"526\" y1=\"138\" y2=\"138\" class=\"net_2 width_1\" style=\"stroke-width: 1\"/><line x1=\"526\" x2=\"526\" y1=\"138\" y2=\"128.5\" class=\"net_2 width_1\" style=\"stroke-width: 1\"/><circle cx=\"285\" cy=\"75\" r=\"2\" style=\"fill:#000\" class=\"net_2 width_1\"/><line x1=\"526\" x2=\"589.1666666666666\" y1=\"128.5\" y2=\"128.5\" class=\"net_2 width_1\" style=\"stroke-width: 1\"/><line x1=\"119\" x2=\"129\" y1=\"106.5\" y2=\"106.5\" class=\"net_2 width_1\" style=\"stroke-width: 1\"/><line x1=\"129\" x2=\"129\" y1=\"106.5\" y2=\"467\" class=\"net_2 width_1\" style=\"stroke-width: 1\"/><line x1=\"129\" x2=\"781\" y1=\"467\" y2=\"467\" class=\"net_2 width_1\" style=\"stroke-width: 1\"/><line x1=\"119\" x2=\"129\" y1=\"106.5\" y2=\"106.5\" class=\"net_2 width_1\" style=\"stroke-width: 1\"/><line x1=\"129\" x2=\"129\" y1=\"106.5\" y2=\"467\" class=\"net_2 width_1\" style=\"stroke-width: 1\"/><line x1=\"129\" x2=\"245\" y1=\"467\" y2=\"467\" class=\"net_2 width_1\" style=\"stroke-width: 1\"/><line x1=\"245\" x2=\"245\" y1=\"467\" y2=\"569.5\" class=\"net_2 width_1\" style=\"stroke-width: 1\"/><circle cx=\"245\" cy=\"467\" r=\"2\" style=\"fill:#000\" class=\"net_2 width_1\"/><line x1=\"245\" x2=\"942\" y1=\"569.5\" y2=\"569.5\" class=\"net_2 width_1\" style=\"stroke-width: 1\"/><line x1=\"119\" x2=\"185\" y1=\"106.5\" y2=\"106.5\" class=\"net_2 width_1\" style=\"stroke-width: 1\"/><line x1=\"119\" x2=\"129\" y1=\"106.5\" y2=\"106.5\" class=\"net_2 width_1\" style=\"stroke-width: 1\"/><line x1=\"129\" x2=\"129\" y1=\"106.5\" y2=\"75\" class=\"net_2 width_1\" style=\"stroke-width: 1\"/><line x1=\"129\" x2=\"710\" y1=\"75\" y2=\"75\" class=\"net_2 width_1\" style=\"stroke-width: 1\"/><line x1=\"710\" x2=\"710\" y1=\"75\" y2=\"52.5\" class=\"net_2 width_1\" style=\"stroke-width: 1\"/><line x1=\"710\" x2=\"780.1666666666666\" y1=\"52.5\" y2=\"52.5\" class=\"net_2 width_1\" style=\"stroke-width: 1\"/><line x1=\"374\" x2=\"384\" y1=\"345.5\" y2=\"345.5\" class=\"net_3 width_1\" style=\"stroke-width: 1\"/><line x1=\"384\" x2=\"384\" y1=\"345.5\" y2=\"334.5\" class=\"net_3 width_1\" style=\"stroke-width: 1\"/><circle cx=\"384\" cy=\"345.5\" r=\"2\" style=\"fill:#000\" class=\"net_3 width_1\"/><circle cx=\"384\" cy=\"334.5\" r=\"2\" style=\"fill:#000\" class=\"net_3 width_1\"/><line x1=\"384\" x2=\"440\" y1=\"334.5\" y2=\"334.5\" class=\"net_3 width_1\" style=\"stroke-width: 1\"/><line x1=\"374\" x2=\"384\" y1=\"345.5\" y2=\"345.5\" class=\"net_3 width_1\" style=\"stroke-width: 1\"/><line x1=\"384\" x2=\"384\" y1=\"345.5\" y2=\"185\" class=\"net_3 width_1\" style=\"stroke-width: 1\"/><line x1=\"384\" x2=\"526\" y1=\"185\" y2=\"185\" class=\"net_3 width_1\" style=\"stroke-width: 1\"/><line x1=\"526\" x2=\"526\" y1=\"185\" y2=\"168.5\" class=\"net_3 width_1\" style=\"stroke-width: 1\"/><line x1=\"526\" x2=\"589.1666666666666\" y1=\"168.5\" y2=\"168.5\" class=\"net_3 width_1\" style=\"stroke-width: 1\"/><line x1=\"374\" x2=\"384\" y1=\"345.5\" y2=\"345.5\" class=\"net_3 width_1\" style=\"stroke-width: 1\"/><line x1=\"384\" x2=\"384\" y1=\"345.5\" y2=\"527\" class=\"net_3 width_1\" style=\"stroke-width: 1\"/><circle cx=\"384\" cy=\"527\" r=\"2\" style=\"fill:#000\" class=\"net_3 width_1\"/><line x1=\"384\" x2=\"781\" y1=\"527\" y2=\"527\" class=\"net_3 width_1\" style=\"stroke-width: 1\"/><line x1=\"374\" x2=\"384\" y1=\"345.5\" y2=\"345.5\" class=\"net_3 width_1\" style=\"stroke-width: 1\"/><line x1=\"384\" x2=\"384\" y1=\"345.5\" y2=\"609.5\" class=\"net_3 width_1\" style=\"stroke-width: 1\"/><line x1=\"384\" x2=\"942\" y1=\"609.5\" y2=\"609.5\" class=\"net_3 width_1\" style=\"stroke-width: 1\"/><line x1=\"973\" x2=\"1008\" y1=\"569.5\" y2=\"569.5\" class=\"net_45 width_1\" style=\"stroke-width: 1\"/><line x1=\"1008\" x2=\"1008\" y1=\"569.5\" y2=\"397\" class=\"net_45 width_1\" style=\"stroke-width: 1\"/><line x1=\"1008\" x2=\"394\" y1=\"397\" y2=\"397\" class=\"net_45 width_1\" style=\"stroke-width: 1\"/><line x1=\"394\" x2=\"394\" y1=\"397\" y2=\"354.5\" class=\"net_45 width_1\" style=\"stroke-width: 1\"/><line x1=\"394\" x2=\"440\" y1=\"354.5\" y2=\"354.5\" class=\"net_45 width_1\" style=\"stroke-width: 1\"/><line x1=\"369\" x2=\"589.1666666666666\" y1=\"108.5\" y2=\"108.5\" class=\"net_31,32,33,7,8,9,10,11,12,13,14 width_11\" style=\"stroke-width: 2\"/><line x1=\"374\" x2=\"506\" y1=\"169\" y2=\"169\" class=\"net_23,24,25,26,27,28,29,30 width_8\" style=\"stroke-width: 2\"/><line x1=\"506\" x2=\"506\" y1=\"169\" y2=\"148.5\" class=\"net_23,24,25,26,27,28,29,30 width_8\" style=\"stroke-width: 2\"/><line x1=\"506\" x2=\"589.1666666666666\" y1=\"148.5\" y2=\"148.5\" class=\"net_23,24,25,26,27,28,29,30 width_8\" style=\"stroke-width: 2\"/><line x1=\"471\" x2=\"536\" y1=\"354.5\" y2=\"354.5\" class=\"net_42 width_1\" style=\"stroke-width: 1\"/><line x1=\"536\" x2=\"536\" y1=\"354.5\" y2=\"188.5\" class=\"net_42 width_1\" style=\"stroke-width: 1\"/><line x1=\"536\" x2=\"589.1666666666666\" y1=\"188.5\" y2=\"188.5\" class=\"net_42 width_1\" style=\"stroke-width: 1\"/><line x1=\"207.8\" x2=\"295\" y1=\"427.5\" y2=\"427.5\" class=\"net_9,10,11,12,13,14 width_6\" style=\"stroke-width: 2\"/><line x1=\"295\" x2=\"295\" y1=\"427.5\" y2=\"487\" class=\"net_9,10,11,12,13,14 width_6\" style=\"stroke-width: 2\"/><circle cx=\"295\" cy=\"427.5\" r=\"3\" style=\"fill:#000\" class=\"net_9,10,11,12,13,14 width_6\"/><line x1=\"295\" x2=\"781\" y1=\"487\" y2=\"487\" class=\"net_9,10,11,12,13,14 width_6\" style=\"stroke-width: 2\"/><line x1=\"207.8\" x2=\"948\" y1=\"427.5\" y2=\"427.5\" class=\"net_9,10,11,12,13,14 width_6\" style=\"stroke-width: 2\"/><line x1=\"207.8\" x2=\"285\" y1=\"447.5\" y2=\"447.5\" class=\"net_7,8 width_2\" style=\"stroke-width: 2\"/><line x1=\"285\" x2=\"285\" y1=\"447.5\" y2=\"507\" class=\"net_7,8 width_2\" style=\"stroke-width: 2\"/><circle cx=\"285\" cy=\"447.5\" r=\"3\" style=\"fill:#000\" class=\"net_7,8 width_2\"/><circle cx=\"285\" cy=\"507\" r=\"3\" style=\"fill:#000\" class=\"net_7,8 width_2\"/><line x1=\"285\" x2=\"781\" y1=\"507\" y2=\"507\" class=\"net_7,8 width_2\" style=\"stroke-width: 2\"/><line x1=\"207.8\" x2=\"285\" y1=\"447.5\" y2=\"447.5\" class=\"net_7,8 width_2\" style=\"stroke-width: 2\"/><line x1=\"285\" x2=\"285\" y1=\"447.5\" y2=\"589.5\" class=\"net_7,8 width_2\" style=\"stroke-width: 2\"/><line x1=\"285\" x2=\"942\" y1=\"589.5\" y2=\"589.5\" class=\"net_7,8 width_2\" style=\"stroke-width: 2\"/><line x1=\"207.8\" x2=\"285\" y1=\"447.5\" y2=\"447.5\" class=\"net_7,8 width_2\" style=\"stroke-width: 2\"/><line x1=\"285\" x2=\"285\" y1=\"447.5\" y2=\"212\" class=\"net_7,8 width_2\" style=\"stroke-width: 2\"/><line x1=\"285\" x2=\"730\" y1=\"212\" y2=\"212\" class=\"net_7,8 width_2\" style=\"stroke-width: 2\"/><line x1=\"730\" x2=\"730\" y1=\"212\" y2=\"92.5\" class=\"net_7,8 width_2\" style=\"stroke-width: 2\"/><line x1=\"730\" x2=\"780.1666666666666\" y1=\"92.5\" y2=\"92.5\" class=\"net_7,8 width_2\" style=\"stroke-width: 2\"/><line x1=\"471\" x2=\"506\" y1=\"374.5\" y2=\"374.5\" class=\"net_43 width_1\" style=\"stroke-width: 1\"/><line x1=\"506\" x2=\"506\" y1=\"374.5\" y2=\"547\" class=\"net_43 width_1\" style=\"stroke-width: 1\"/><circle cx=\"506\" cy=\"547\" r=\"2\" style=\"fill:#000\" class=\"net_43 width_1\"/><line x1=\"506\" x2=\"781\" y1=\"547\" y2=\"547\" class=\"net_43 width_1\" style=\"stroke-width: 1\"/><line x1=\"471\" x2=\"506\" y1=\"374.5\" y2=\"374.5\" class=\"net_43 width_1\" style=\"stroke-width: 1\"/><line x1=\"506\" x2=\"506\" y1=\"374.5\" y2=\"629.5\" class=\"net_43 width_1\" style=\"stroke-width: 1\"/><line x1=\"506\" x2=\"942\" y1=\"629.5\" y2=\"629.5\" class=\"net_43 width_1\" style=\"stroke-width: 1\"/><line x1=\"812\" x2=\"886\" y1=\"467\" y2=\"467\" class=\"net_54,55,56,57,58,59 width_6\" style=\"stroke-width: 2\"/><line x1=\"886\" x2=\"886\" y1=\"467\" y2=\"447.5\" class=\"net_54,55,56,57,58,59 width_6\" style=\"stroke-width: 2\"/><line x1=\"886\" x2=\"948\" y1=\"447.5\" y2=\"447.5\" class=\"net_54,55,56,57,58,59 width_6\" style=\"stroke-width: 2\"/><line x1=\"471\" x2=\"506\" y1=\"274.5\" y2=\"274.5\" class=\"net_38 width_1\" style=\"stroke-width: 1\"/><line x1=\"506\" x2=\"506\" y1=\"274.5\" y2=\"244\" class=\"net_38 width_1\" style=\"stroke-width: 1\"/><line x1=\"506\" x2=\"139\" y1=\"244\" y2=\"244\" class=\"net_38 width_1\" style=\"stroke-width: 1\"/><line x1=\"139\" x2=\"139\" y1=\"244\" y2=\"126.5\" class=\"net_38 width_1\" style=\"stroke-width: 1\"/><line x1=\"139\" x2=\"185\" y1=\"126.5\" y2=\"126.5\" class=\"net_38 width_1\" style=\"stroke-width: 1\"/><line x1=\"618\" x2=\"780.1666666666666\" y1=\"32.5\" y2=\"32.5\" class=\"net_34,35,36 width_3\" style=\"stroke-width: 2\"/><line x1=\"620.1666666666666\" x2=\"720\" y1=\"108.5\" y2=\"108.5\" class=\"net_46,47,48,49,50,51,52,53 width_8\" style=\"stroke-width: 2\"/><line x1=\"720\" x2=\"720\" y1=\"108.5\" y2=\"72.5\" class=\"net_46,47,48,49,50,51,52,53 width_8\" style=\"stroke-width: 2\"/><line x1=\"720\" x2=\"780.1666666666666\" y1=\"72.5\" y2=\"72.5\" class=\"net_46,47,48,49,50,51,52,53 width_8\" style=\"stroke-width: 2\"/><line x1=\"471\" x2=\"546\" y1=\"314.5\" y2=\"314.5\" class=\"net_40 width_1\" style=\"stroke-width: 1\"/><line x1=\"546\" x2=\"546\" y1=\"314.5\" y2=\"223\" class=\"net_40 width_1\" style=\"stroke-width: 1\"/><line x1=\"546\" x2=\"740\" y1=\"223\" y2=\"223\" class=\"net_40 width_1\" style=\"stroke-width: 1\"/><line x1=\"740\" x2=\"740\" y1=\"223\" y2=\"112.5\" class=\"net_40 width_1\" style=\"stroke-width: 1\"/><line x1=\"740\" x2=\"780.1666666666666\" y1=\"112.5\" y2=\"112.5\" class=\"net_40 width_1\" style=\"stroke-width: 1\"/><line x1=\"811.1666666666666\" x2=\"948\" y1=\"32.5\" y2=\"32.5\" class=\"net_15,16,17,18,19,20,21,22 width_8\" style=\"stroke-width: 2\"/><line x1=\"216\" x2=\"255\" y1=\"126.5\" y2=\"126.5\" class=\"net_31,32,33 width_3\" style=\"stroke-width: 2\"/><line x1=\"255\" x2=\"255\" y1=\"126.5\" y2=\"98.5\" class=\"net_31,32,33 width_3\" style=\"stroke-width: 2\"/><line x1=\"255\" x2=\"363\" y1=\"98.5\" y2=\"98.5\" class=\"net_31,32,33 width_3\" style=\"stroke-width: 2\"/><line x1=\"207.8\" x2=\"275\" y1=\"407.5\" y2=\"407.5\" class=\"net_7,8,9,10,11,12,13,14 width_8\" style=\"stroke-width: 2\"/><line x1=\"275\" x2=\"275\" y1=\"407.5\" y2=\"118.5\" class=\"net_7,8,9,10,11,12,13,14 width_8\" style=\"stroke-width: 2\"/><line x1=\"275\" x2=\"363\" y1=\"118.5\" y2=\"118.5\" class=\"net_7,8,9,10,11,12,13,14 width_8\" style=\"stroke-width: 2\"/><line x1=\"42\" x2=\"202.8\" y1=\"397.5\" y2=\"397.5\" class=\"net_4,5,6,7,8,9,10,11,12,13,14 width_11\" style=\"stroke-width: 2\"/><rect x=\"358\" y=\"27.5\" width=\"16\" height=\"9\" class=\"net_4,5,6 width_3 busLabel_3\" style=\"fill: white; stroke: none\"/><text x=\"357\" y=\"35.5\" class=\"net_4,5,6 width_3 busLabel_3\">/3/</text><rect x=\"451.5\" y=\"103.5\" width=\"22\" height=\"9\" class=\"net_31,32,33,7,8,9,10,11,12,13,14 width_11 busLabel_11\" style=\"fill: white; stroke: none\"/><text x=\"450.5\" y=\"111.5\" class=\"net_31,32,33,7,8,9,10,11,12,13,14 width_11 busLabel_11\">/11/</text><rect x=\"451.5\" y=\"164\" width=\"16\" height=\"9\" class=\"net_23,24,25,26,27,28,29,30 width_8 busLabel_8\" style=\"fill: white; stroke: none\"/><text x=\"450.5\" y=\"172\" class=\"net_23,24,25,26,27,28,29,30 width_8 busLabel_8\">/8/</text><rect x=\"607.5\" y=\"422.5\" width=\"16\" height=\"9\" class=\"net_9,10,11,12,13,14 width_6 busLabel_6\" style=\"fill: white; stroke: none\"/><text x=\"606.5\" y=\"430.5\" class=\"net_9,10,11,12,13,14 width_6 busLabel_6\">/6/</text><rect x=\"607.5\" y=\"422.5\" width=\"16\" height=\"9\" class=\"net_9,10,11,12,13,14 width_6 busLabel_6\" style=\"fill: white; stroke: none\"/><text x=\"606.5\" y=\"430.5\" class=\"net_9,10,11,12,13,14 width_6 busLabel_6\">/6/</text><rect x=\"451.5\" y=\"207\" width=\"16\" height=\"9\" class=\"net_7,8 width_2 busLabel_2\" style=\"fill: white; stroke: none\"/><text x=\"450.5\" y=\"215\" class=\"net_7,8 width_2 busLabel_2\">/2/</text><rect x=\"451.5\" y=\"207\" width=\"16\" height=\"9\" class=\"net_7,8 width_2 busLabel_2\" style=\"fill: white; stroke: none\"/><text x=\"450.5\" y=\"215\" class=\"net_7,8 width_2 busLabel_2\">/2/</text><rect x=\"451.5\" y=\"207\" width=\"16\" height=\"9\" class=\"net_7,8 width_2 busLabel_2\" style=\"fill: white; stroke: none\"/><text x=\"450.5\" y=\"215\" class=\"net_7,8 width_2 busLabel_2\">/2/</text><rect x=\"873\" y=\"462\" width=\"16\" height=\"9\" class=\"net_54,55,56,57,58,59 width_6 busLabel_6\" style=\"fill: white; stroke: none\"/><text x=\"872\" y=\"470\" class=\"net_54,55,56,57,58,59 width_6 busLabel_6\">/6/</text><rect x=\"697\" y=\"27.5\" width=\"16\" height=\"9\" class=\"net_34,35,36 width_3 busLabel_3\" style=\"fill: white; stroke: none\"/><text x=\"696\" y=\"35.5\" class=\"net_34,35,36 width_3 busLabel_3\">/3/</text><rect x=\"697\" y=\"103.5\" width=\"16\" height=\"9\" class=\"net_46,47,48,49,50,51,52,53 width_8 busLabel_8\" style=\"fill: white; stroke: none\"/><text x=\"696\" y=\"111.5\" class=\"net_46,47,48,49,50,51,52,53 width_8 busLabel_8\">/8/</text><rect x=\"873\" y=\"27.5\" width=\"16\" height=\"9\" class=\"net_15,16,17,18,19,20,21,22 width_8 busLabel_8\" style=\"fill: white; stroke: none\"/><text x=\"872\" y=\"35.5\" class=\"net_15,16,17,18,19,20,21,22 width_8 busLabel_8\">/8/</text><rect x=\"306\" y=\"93.5\" width=\"16\" height=\"9\" class=\"net_31,32,33 width_3 busLabel_3\" style=\"fill: white; stroke: none\"/><text x=\"305\" y=\"101.5\" class=\"net_31,32,33 width_3 busLabel_3\">/3/</text><rect x=\"306\" y=\"113.5\" width=\"16\" height=\"9\" class=\"net_7,8,9,10,11,12,13,14 width_8 busLabel_8\" style=\"fill: white; stroke: none\"/><text x=\"305\" y=\"121.5\" class=\"net_7,8,9,10,11,12,13,14 width_8 busLabel_8\">/8/</text><rect x=\"103\" y=\"392.5\" width=\"22\" height=\"9\" class=\"net_4,5,6,7,8,9,10,11,12,13,14 width_11 busLabel_11\" style=\"fill: white; stroke: none\"/><text x=\"102\" y=\"400.5\" class=\"net_4,5,6,7,8,9,10,11,12,13,14 width_11 busLabel_11\">/11/</text></svg>"
          },
          "metadata": {}
        }
      ],
      "source": [
        "%%print_verilog -top cache_read_only\n",
        "\n",
        "`include \"fsm.v\"\n",
        "`include \"mux.v\"\n",
        "`include \"ram.v\"\n",
        "`include \"valid.v\"\n",
        "`include \"comparator.v\"\n",
        "`include \"counter.v\"\n",
        "`include \"Mtag.v\"\n",
        "`include \"datacache.v\"\n",
        "\n",
        "// *** ADD MODULES HERE ***\n",
        "\n",
        "module cache_read_only(\n",
        "clk, reset, address, dout, din\n",
        ");\n",
        "parameter cacheSize = 32;\n",
        "parameter ramSize = 2048;\n",
        "parameter blockSize = 8;\n",
        "\n",
        "parameter cacheLines = 4;\n",
        "parameter cacheLineBits = 2;\n",
        "parameter ramBits = 11;\n",
        "parameter blockBits = 3;\n",
        "parameter tagBits = 6;\n",
        "\n",
        "input clk;\n",
        "input reset;\n",
        "\n",
        "input [ramBits-1:0] address;\n",
        "\n",
        "output [7:0] dout;\n",
        "input [7:0] din;\n",
        "\n",
        "reg [7:0] dout;\n",
        "\n",
        "wire [cacheLineBits-1:0] line;\n",
        "\n",
        "wire [blockBits-1:0] blk;\n",
        "\n",
        "//wire [5:0] tag;\n",
        "wire [tagBits-1:0] tag;\n",
        "\n",
        "wire Done;\n",
        "\n",
        "assign tag = address[ramBits-1:blockBits+cacheLineBits];\n",
        "\n",
        "assign line = address[blockBits+cacheLineBits-1:blockBits];\n",
        "\n",
        "assign blk = address[blockBits-1:0];\n",
        "\n",
        "wire Twr,Dwr,Rwr;\n",
        "wire END, cnt, c, v, Dmux;\n",
        "wire [7:0] Ram2Cache;\n",
        "\n",
        "wire [blockBits-1:0] Mux1;\n",
        "\n",
        "wire [blockBits-1:0] Muxout;\n",
        "\n",
        "wire MuxSel;\n",
        "\n",
        "wire [tagBits-1:0] Tout;\n",
        "\n",
        "wire [7:0] Cache2out;\n",
        "\n",
        "always @(*) begin\n",
        " dout = Cache2out;\n",
        "end\n",
        "\n",
        "fsm  FSM(\n",
        "  .clk (clk),\n",
        "  .reset (reset),\n",
        "  .c (c) ,\n",
        "  .v (v),\n",
        "  .END (END),\n",
        "  .Twr (Twr),\n",
        "  .Dwr (Dwr),\n",
        "  .Rwr (Rwr),\n",
        "  .Cnt (Cnt),\n",
        "  .Mux (MuxSel) , .Done(Done));\n",
        "\n",
        "valid V( .clk (clk), .line (line), .reset (reset),\n",
        "         .wr (Twr), .dout(v) );\n",
        "\n",
        "Mtag  T( .clk (clk), .line (line),  .din(tag),\n",
        "       .wr(Twr), .dout(Tout), .reset(reset) );\n",
        "\n",
        "comparator comp(.out(c), .tag(tag), .tag_in(Tout));\n",
        "\n",
        "datacache  dcache( .clk (clk), .line (line), .blk(Muxout),\n",
        "                  .din(Ram2Cache), .wr(Dwr), .dout(Cache2out) );\n",
        "\n",
        "ram  R ( .clk(clk), .addr({tag,line,Mux1}), .din(din), .wr(Rwr), .dout(Ram2Cache), .reset(reset) );\n",
        "\n",
        "wire [ramBits:0] concat_addr;\n",
        "\n",
        "assign concat_addr = {tag,line,Muxout};\n",
        "\n",
        "mux  DataMux( .din_0 (blk), .din_1(Mux1), .sel(MuxSel) , .mux_out (Muxout));\n",
        "\n",
        "\n",
        "counter count(.out(Mux1), .clk(clk), .reset(Cnt), .End(END));\n",
        "\n",
        "\n",
        "endmodule\n"
      ]
    },
    {
      "cell_type": "markdown",
      "source": [],
      "metadata": {
        "id": "tiZc-1CO99Bs"
      }
    },
    {
      "cell_type": "code",
      "execution_count": null,
      "metadata": {
        "colab": {
          "base_uri": "https://localhost:8080/"
        },
        "id": "5BVo9l9POM7b",
        "outputId": "4dc67007-7649-43cf-bbb0-a405b40acbdc"
      },
      "outputs": [
        {
          "output_type": "stream",
          "name": "stdout",
          "text": [
            "Looking in indexes: https://pypi.org/simple, https://us-python.pkg.dev/colab-wheels/public/simple/\n",
            "Collecting svgutils\n",
            "  Downloading svgutils-0.3.4-py3-none-any.whl (10 kB)\n",
            "Requirement already satisfied: lxml in /usr/local/lib/python3.10/dist-packages (from svgutils) (4.9.2)\n",
            "Installing collected packages: svgutils\n",
            "Successfully installed svgutils-0.3.4\n"
          ]
        }
      ],
      "source": [
        "!pip install svgutils"
      ]
    },
    {
      "cell_type": "code",
      "execution_count": null,
      "metadata": {
        "id": "nSUOjYmJ_THz"
      },
      "outputs": [],
      "source": [
        "from IPython.display import SVG\n",
        "SVG(\"out.svg\")\n",
        "\n",
        "import svgutils\n",
        "svg = svgutils.transform.fromfile('out.svg')\n",
        "originalSVG = svgutils.compose.SVG('out.svg')\n",
        "originalSVG.scale(0.5)\n",
        "figure = svgutils.compose.Figure(float(svg.height) * 2, float(svg.width) * 2, originalSVG)\n",
        "figure.save('New.svg')\n",
        "\n"
      ]
    },
    {
      "cell_type": "markdown",
      "metadata": {
        "id": "5mNOB1yHfPdH"
      },
      "source": []
    },
    {
      "cell_type": "code",
      "execution_count": null,
      "metadata": {
        "colab": {
          "base_uri": "https://localhost:8080/"
        },
        "id": "AbnchreNUWKI",
        "outputId": "0618b73d-2c29-45d0-b840-a9fa29317233"
      },
      "outputs": [
        {
          "output_type": "stream",
          "name": "stdout",
          "text": [
            "Writing main.v\n"
          ]
        }
      ],
      "source": [
        "%%writefile main.v\n",
        "\n",
        "`include \"fsm.v\"\n",
        "`include \"mux.v\"\n",
        "`include \"ram.v\"\n",
        "`include \"valid.v\"\n",
        "`include \"comparator.v\"\n",
        "`include \"counter.v\"\n",
        "`include \"Mtag.v\"\n",
        "`include \"datacache.v\"\n",
        "\n",
        "// *** ADD MODULES HERE ***\n",
        "\n",
        "module cache_read_only(\n",
        "clk, reset, address, dout, din\n",
        ");\n",
        "parameter cacheSize = 32;\n",
        "parameter ramSize = 2048;\n",
        "parameter blockSize = 8;\n",
        "\n",
        "parameter cacheLines = 4;\n",
        "parameter cacheLineBits = 2;\n",
        "parameter ramBits = 11;\n",
        "parameter blockBits = 3;\n",
        "parameter tagBits = 6;\n",
        "\n",
        "input clk;\n",
        "input reset;\n",
        "\n",
        "//input [10:0] address;\n",
        "input [ramBits-1:0] address;\n",
        "\n",
        "output [7:0] dout;\n",
        "input [7:0] din;\n",
        "\n",
        "output [5:0] debug;\n",
        "//output [tagBits-1:0] debug;\n",
        "\n",
        "reg [5:0] debug;\n",
        "//reg [tagBits-1:0] debug;\n",
        "\n",
        "reg [7:0] dout;\n",
        "\n",
        "//wire [1:0] line;\n",
        "wire [cacheLineBits-1:0] line;\n",
        "\n",
        "//wire [2:0] blk;\n",
        "wire [blockBits-1:0] blk;\n",
        "\n",
        "//wire [5:0] tag;\n",
        "wire [tagBits-1:0] tag;\n",
        "\n",
        "wire Done;\n",
        "\n",
        "assign tag = address[ramBits-1:blockBits+cacheLineBits];\n",
        "\n",
        "assign line = address[blockBits+cacheLineBits-1:blockBits];\n",
        "\n",
        "assign blk = address[blockBits-1:0];\n",
        "\n",
        "wire Twr,Dwr,Rwr;\n",
        "wire END, cnt, c, v, Dmux;\n",
        "wire [7:0] Ram2Cache;\n",
        "\n",
        "wire [blockBits-1:0] Mux1;\n",
        "\n",
        "wire [blockBits-1:0] Muxout;\n",
        "\n",
        "wire MuxSel;\n",
        "\n",
        "wire [tagBits-1:0] Tout;\n",
        "\n",
        "wire [7:0] Cache2out;\n",
        "\n",
        "always @(*) begin\n",
        " dout = Cache2out;\n",
        "end\n",
        "\n",
        "fsm  FSM(\n",
        "  .clk (clk),\n",
        "  .reset (reset),\n",
        "  .c (c) ,\n",
        "  .v (v),\n",
        "  .END (END),\n",
        "  .Twr (Twr),\n",
        "  .Dwr (Dwr),\n",
        "  .Rwr (Rwr),\n",
        "  .Cnt (Cnt),\n",
        "  .Mux (MuxSel) , .Done(Done));\n",
        "\n",
        "valid #(cacheLineBits,cacheLines,\"validData.txt\")V( .clk (clk), .line (line), .reset (reset),\n",
        "         .wr (Twr), .dout(v) );\n",
        "\n",
        "Mtag #(cacheLineBits,tagBits,cacheLines,\"mtagData.txt\") T( .clk (clk), .line (line),  .din(tag),\n",
        "       .wr(Twr), .dout(Tout), .reset(reset) );\n",
        "\n",
        "comparator #(tagBits) comp(.out(c), .tag(tag), .tag_in(Tout));\n",
        "\n",
        "datacache #(blockBits,cacheLineBits,cacheSize) dcache( .clk (clk), .line (line), .blk(Muxout),\n",
        "                  .din(Ram2Cache), .wr(Dwr), .dout(Cache2out) );\n",
        "\n",
        "ram #(ramBits,ramSize) R ( .clk(clk), .addr({tag,line,Mux1}), .din(din), .wr(Rwr), .dout(Ram2Cache), .reset(reset) );\n",
        "\n",
        "wire [ramBits:0] concat_addr;\n",
        "\n",
        "assign concat_addr = {tag,line,Muxout};\n",
        "\n",
        "mux #(blockBits) DataMux( .din_0 (blk), .din_1(Mux1), .sel(MuxSel) , .mux_out (Muxout));\n",
        "\n",
        "counter #(blockBits,blockSize) count(.out(Mux1), .clk(clk), .reset(Cnt), .End(END));\n",
        "\n",
        "\n",
        "endmodule\n"
      ]
    },
    {
      "cell_type": "markdown",
      "metadata": {
        "id": "-ABevsq6Vm7S"
      },
      "source": [
        "### Testbench Module\n",
        "\n",
        "Evaluate a cache:\n",
        "* Cache Size of 64 bytes;\n",
        "* Ram Size of 4096 bytes;\n",
        "* Cache Data block of 4 bytes;"
      ]
    },
    {
      "cell_type": "markdown",
      "metadata": {
        "id": "yM5siRQYe4wn"
      },
      "source": [
        "#### Parameters file\n",
        "\n",
        "[Desenho Excalidraw](https://excalidraw.com/#json=Zoi-SJiNSixjRiGovKZp8,zojAkxOQCNkw2CRle1S0vw)"
      ]
    },
    {
      "cell_type": "code",
      "execution_count": null,
      "metadata": {
        "colab": {
          "base_uri": "https://localhost:8080/"
        },
        "id": "ozCG9u4CXgIB",
        "outputId": "b475095f-8d1b-4cea-8066-b8df80c3e64f"
      },
      "outputs": [
        {
          "output_type": "stream",
          "name": "stdout",
          "text": [
            "Writing parameter.v\n"
          ]
        }
      ],
      "source": [
        "%%writefile parameter.v\n",
        "parameter cacheSize = 16;\n",
        "parameter ramSize = 1024;\n",
        "parameter blockSize = 4;"
      ]
    },
    {
      "cell_type": "markdown",
      "metadata": {
        "id": "JbQuRHWko6OL"
      },
      "source": [
        "##### Second Example\n",
        " [Address Sequence](https://excalidraw.com/#json=XcXAHhqEgrpJDPQbZGR96,23lrXTNCEafioIZjnS5fNw)"
      ]
    },
    {
      "cell_type": "code",
      "execution_count": null,
      "metadata": {
        "colab": {
          "base_uri": "https://localhost:8080/"
        },
        "id": "tiMsdxC4pEF4",
        "outputId": "f3ec1257-359a-4908-e433-221419139a64"
      },
      "outputs": [
        {
          "output_type": "stream",
          "name": "stdout",
          "text": [
            "Overwriting parameter.v\n"
          ]
        }
      ],
      "source": [
        "%%writefile parameter.v\n",
        "parameter cacheSize = 64;\n",
        "parameter ramSize = 4096;\n",
        "parameter blockSize = 4;"
      ]
    },
    {
      "cell_type": "code",
      "execution_count": null,
      "metadata": {
        "colab": {
          "base_uri": "https://localhost:8080/"
        },
        "id": "jJ-zOGTQo5NU",
        "outputId": "44e4520c-6ed1-4fdf-ea7f-8587a5a4190c"
      },
      "outputs": [
        {
          "name": "stdout",
          "output_type": "stream",
          "text": [
            "Overwriting parameter.v\n"
          ]
        }
      ],
      "source": [
        "%%writefile parameter.v\n",
        "parameter cacheSize = 16;\n",
        "parameter ramSize = 1024;\n",
        "parameter blockSize = 4;"
      ]
    },
    {
      "cell_type": "markdown",
      "metadata": {
        "id": "AoP6NjSPe8lx"
      },
      "source": [
        "#### A Sequence of addresses\n",
        "\n",
        "To validate the cache. Assuming 25 clock cycles (50 ticks) to be sure that the block is in the cache in case of miss."
      ]
    },
    {
      "cell_type": "code",
      "execution_count": null,
      "metadata": {
        "colab": {
          "base_uri": "https://localhost:8080/"
        },
        "id": "Vk3ZJHR4YWSU",
        "outputId": "06db114b-9144-4b2a-9fba-38f8c0395c09"
      },
      "outputs": [
        {
          "output_type": "stream",
          "name": "stdout",
          "text": [
            "Writing input.v\n"
          ]
        }
      ],
      "source": [
        "%%writefile input.v\n",
        "address=0;\n",
        "#16\n",
        "address=20;\n",
        "#16\n",
        "address=72;\n",
        "#16\n",
        "address=12;\n",
        "#16\n",
        "address=29;\n",
        "#16"
      ]
    },
    {
      "cell_type": "markdown",
      "metadata": {
        "id": "RUOynOajfPAm"
      },
      "source": [
        "#### Create the Parametrizable Testbench\n",
        "* Parameter.v file\n",
        "  * Receive the Cache parameters (size and block)\n",
        "  * Receive the Ram memory size\n",
        "* Input.v file  \n",
        "  * Receive a sequence of addresses to evaluate the cache design\n",
        "\n",
        "* Assuming the initial RAM contents is M[i] = i;"
      ]
    },
    {
      "cell_type": "code",
      "execution_count": null,
      "metadata": {
        "colab": {
          "base_uri": "https://localhost:8080/"
        },
        "id": "rEvR7VsGVqv7",
        "outputId": "d9eb56cc-5a94-44e9-b8a0-a80f83497374"
      },
      "outputs": [
        {
          "output_type": "stream",
          "name": "stdout",
          "text": [
            "Overwriting tb.v\n"
          ]
        }
      ],
      "source": [
        "%%writefile tb.v\n",
        "`include \"main.v\"\n",
        "\n",
        "module tb();\n",
        "//fill here the new values ​​for your memory\n",
        "`include \"parameter.v\"\n",
        "\n",
        "//parameters generated from current memory\n",
        "parameter cacheLine = cacheSize/blockSize; //lines of cache\n",
        "parameter cacheLineBits = $clog2(cacheLine);\n",
        "parameter ramBits = $clog2(ramSize);\n",
        "parameter blockBits = $clog2(blockSize);\n",
        "parameter tagBits = ramBits-blockBits-cacheLineBits;\n",
        "\n",
        "wire[32:0] a = cacheSize;\n",
        "wire[32:0] b = ramSize ;\n",
        "wire[32:0] c = blockSize;\n",
        "\n",
        "//parameters generated from current memory\n",
        "wire[32:0] d = cacheLine ;\n",
        "wire[32:0] e = cacheLineBits;\n",
        "wire[32:0] f = ramBits;\n",
        "wire[32:0] g = blockBits;\n",
        "wire[32:0] h = tagBits;\n",
        "\n",
        "reg [ramBits-1:0] address;\n",
        "reg [7:0] din;\n",
        "reg clk,reset;\n",
        "wire [7:0] dout;\n",
        "integer k;\n",
        "\n",
        "cache_read_only #(cacheSize,ramSize,blockSize,cacheLine,cacheLineBits,ramBits,blockBits,tagBits)\n",
        " Cache (clk, reset, address, dout, din);\n",
        "\n",
        "\n",
        "initial begin\n",
        "  clk=0;\n",
        "     forever #1 clk = ~clk;\n",
        "end\n",
        "\n",
        "reg  [5:0] clock_counter;\n",
        "\tinitial begin\n",
        "\t\tclock_counter <= 6'd1;\n",
        "\tend\n",
        "        always @(posedge clk) begin\n",
        "                clock_counter <= clock_counter + 1;\n",
        "\tend\n",
        "\n",
        "\n",
        "initial begin\n",
        "$dumpfile(\"test.vcd\");\n",
        "$dumpvars;\n",
        "address=0;\n",
        "reset = 1;\n",
        "#2\n",
        "reset=0;\n",
        "#4\n",
        "`include \"input.v\"\n",
        "\n",
        "//very important to remember to call both caches\n",
        "$writememh(\"cache.data\", tb.Cache.dcache.memory, 0, cacheSize-1);\n",
        "$writememh(\"tag.data\", tb.Cache.T.memory, 0, cacheLine-1);\n",
        "$writememh(\"valid.data\", tb.Cache.V.memory, 0, cacheLine-1);\n",
        "$writememh(\"ram.data\", tb.Cache.R.memory, 0, ramSize-1);\n",
        "$dumpoff;\n",
        "$finish;\n",
        "end\n",
        "endmodule\n"
      ]
    },
    {
      "cell_type": "markdown",
      "metadata": {
        "id": "aeL0Cpfh9-x8"
      },
      "source": [
        "### Test for modularized part"
      ]
    },
    {
      "cell_type": "code",
      "execution_count": null,
      "metadata": {
        "colab": {
          "base_uri": "https://localhost:8080/"
        },
        "id": "0UyqBQkBzsaF",
        "outputId": "e3737ef2-a4bb-4753-c266-a4df32b6a146"
      },
      "outputs": [
        {
          "output_type": "stream",
          "name": "stdout",
          "text": [
            "VCD info: dumpfile test.vcd opened for output.\n",
            "\n"
          ]
        }
      ],
      "source": [
        "%%verilog\n",
        "`include \"tb.v\""
      ]
    },
    {
      "cell_type": "markdown",
      "metadata": {
        "id": "I1Ajc9bWvn-3"
      },
      "source": [
        "ramBits-1:blockBits+cacheLineBits"
      ]
    },
    {
      "cell_type": "code",
      "execution_count": null,
      "metadata": {
        "colab": {
          "base_uri": "https://localhost:8080/",
          "height": 756
        },
        "id": "wnNGk8QErIL8",
        "outputId": "ad51943c-6687-4dbf-f4c3-b9a4db41c53e"
      },
      "outputs": [
        {
          "output_type": "display_data",
          "data": {
            "text/plain": [
              "<Figure size 2100x1800 with 1 Axes>"
            ],
            "image/png": "[encoded data removed]"
          },
          "metadata": {}
        }
      ],
      "source": [
        "%%waveform test.vcd\n",
        "\n",
        "op_dict = [{'0':'ReadTag','1':'ReadData','10':'ReadBlk', '11':'UpdateTag', '100':'Reset'}]\n",
        "\n",
        "\n",
        "sign_list = ['tb.clk', 'tb.e', 'tb.f','tb.g', 'tb.h','tb.Cache.concat_addr', 'tb.Cache.address', 'tb.Cache.tag','tb.Cache.line', 'tb.Cache.Mux1','tb.Cache.Ram2Cache', 'tb.Cache.FSM.state,r[0]','tb.Cache.v', 'tb.Cache.Done', 'tb.clock_counter', 'tb.address', 'tb.dout']\n",
        "time_begin = 36\n",
        "time_end = 56\n",
        "base = 'dec' # bin, dec, dec2, hex, octal"
      ]
    },
    {
      "cell_type": "code",
      "execution_count": null,
      "metadata": {
        "colab": {
          "base_uri": "https://localhost:8080/"
        },
        "id": "p5bnTmjUmwxe",
        "outputId": "3ec297ea-3ff9-411c-b4ef-6c7f869fc6a3"
      },
      "outputs": [
        {
          "output_type": "stream",
          "name": "stdout",
          "text": [
            "Line| V | Tag | Data\n",
            "---|---|---|---|\n",
            "0 | 1 | 00 | 00 01 02 03 \n",
            "1 | 0 | 04 | xx xx xx xx \n",
            "2 | 1 | 01 | 48 49 4a 4b \n",
            "3 | 1 | 00 | 0c 0d 0e 0f \n",
            "4 | 0 | xx | xx xx xx xx \n",
            "5 | 1 | 00 | 14 15 16 17 \n",
            "6 | 0 | xx | xx xx xx xx \n",
            "7 | 1 | 00 | 1c 1d 1e 1f \n",
            "8 | 0 | xx | xx xx xx xx \n",
            "9 | 0 | xx | xx xx xx xx \n",
            "10 | 0 | xx | xx xx xx xx \n",
            "11 | 0 | xx | xx xx xx xx \n",
            "12 | 0 | xx | xx xx xx xx \n",
            "13 | 0 | xx | xx xx xx xx \n",
            "14 | 0 | xx | xx xx xx xx \n",
            "15 | 0 | xx | xx xx xx xx \n"
          ]
        }
      ],
      "source": [
        "def printAux(arq1,arq2,arq3):\n",
        "  arq_valid = open(arq1,'r')\n",
        "  arq_tag = open(arq2,'r')\n",
        "  arq_caches = open(arq3,'r')\n",
        "\n",
        "  def erase(list):\n",
        "    for auto in list:\n",
        "      if auto[0] == '/': list.remove(auto)\n",
        "\n",
        "  valids = arq_valid.readlines()\n",
        "  tags = arq_tag.readlines()\n",
        "  caches = arq_caches.readlines()\n",
        "\n",
        "  erase(valids)\n",
        "  erase(tags)\n",
        "  erase(caches)\n",
        "\n",
        "  stop = int((len(caches))/len(tags))\n",
        "  valid = iter(valids)\n",
        "  cache = iter(caches)\n",
        "\n",
        "  j = int(0)\n",
        "  i = int(0)\n",
        "\n",
        "  print(\"Line| V | Tag | Data\")\n",
        "  print(\"---|---|---|---|\")\n",
        "\n",
        "  for tag in tags:\n",
        "    print(i,end = \" | \")\n",
        "    aux = valid.__next__().rstrip('\\n')\n",
        "    print(aux,end=\" | \")\n",
        "    print(tag.rstrip('\\n'),end=\" | \")\n",
        "    # for cache in caches:\n",
        "    try:\n",
        "      while True:\n",
        "        if  j == stop * (i+1):\n",
        "          print()\n",
        "          break\n",
        "        print(cache.__next__().rstrip('\\n'),end = \" \")\n",
        "        j+=1\n",
        "    except StopIteration:\n",
        "      aux = 1  #ignore\n",
        "    i+=1\n",
        "    arq_valid.close()\n",
        "    arq_tag.close()\n",
        "    arq_caches.close()\n",
        "def printData():\n",
        "    printAux(\"valid.data\",\"tag.data\",\"cache.data\")\n",
        "\n",
        "printData()"
      ]
    },
    {
      "cell_type": "markdown",
      "source": [
        "Line| V | Tag | Data\n",
        "---|---|---|---|\n",
        "0 | 1 | 00 | 00 01 02 03\n",
        "1 | 0 | 04 | xx xx xx xx\n",
        "2 | 1 | 01 | 48 49 4a 4b\n",
        "3 | 1 | 00 | 0c 0d 0e 0f\n",
        "4 | 0 | xx | xx xx xx xx\n",
        "5 | 1 | 00 | 14 15 16 17\n",
        "6 | 0 | xx | xx xx xx xx\n",
        "7 | 1 | 00 | 1c 1d 1e 1f\n",
        "8 | 0 | xx | xx xx xx xx\n",
        "9 | 0 | xx | xx xx xx xx\n",
        "10 | 0 | xx | xx xx xx xx\n",
        "11 | 0 | xx | xx xx xx xx\n",
        "12 | 0 | xx | xx xx xx xx\n",
        "13 | 0 | xx | xx xx xx xx\n",
        "14 | 0 | xx | xx xx xx xx\n",
        "15 | 0 | xx | xx xx xx xx"
      ],
      "metadata": {
        "id": "wk6ratR5_O8M"
      }
    },
    {
      "cell_type": "markdown",
      "metadata": {
        "id": "XbARnDwyoXrX"
      },
      "source": [
        "The previous table is code in Markdown format, copy and paste it here\n",
        "\n",
        "[Excalidraw](https://excalidraw.com/#json=DDALUe6srMoFgedZ_flB-,ie_pgkZ2v-8zhfrhHO2CFQ)\n",
        "\n",
        "Line| V | Tag | Data\n",
        "---|---|---|---|\n",
        "0 | 1 | 00 | 00 01 02 03\n",
        "1 | 1 | 01 | 14 15 16 17\n",
        "2 | 1 | 04 | 48 49 4a 4b\n",
        "3 | 1 | 01 | 1c 1d 1e 1f"
      ]
    },
    {
      "cell_type": "markdown",
      "metadata": {
        "id": "50L9J5OIkGN1"
      },
      "source": [
        "## Interface Gradio\n",
        "\n",
        "**Gradio** is an interface module that allows you create an url so you may communicate to Colab.\n",
        "\n",
        "This Gradio module receive cache parameters and generate a verilog file with cache and sequence of access, then it compiles the file and run it. Once it's done, returns the interface showing the table data."
      ]
    },
    {
      "cell_type": "markdown",
      "metadata": {
        "id": "XO_pXox_j3vj"
      },
      "source": [
        "### Installing Gradio"
      ]
    },
    {
      "cell_type": "code",
      "execution_count": null,
      "metadata": {
        "id": "JXKnfqy_kh-C"
      },
      "outputs": [],
      "source": [
        "!pip install gradio &> /dev/null"
      ]
    },
    {
      "cell_type": "markdown",
      "metadata": {
        "id": "aoz9Tf8VPMZ7"
      },
      "source": [
        "### This python function is responsable for compiling and executing verilog code\n"
      ]
    },
    {
      "cell_type": "code",
      "execution_count": null,
      "metadata": {
        "colab": {
          "base_uri": "https://localhost:8080/"
        },
        "id": "VUw5DZJ_PKON",
        "outputId": "6c93e8c8-28fc-408e-e44c-c25d44015f09"
      },
      "outputs": [
        {
          "output_type": "stream",
          "name": "stdout",
          "text": [
            "Installing iverilog. Please wait... done!\n",
            "VCD info: dumpfile test.vcd opened for output.\n",
            "\n"
          ]
        }
      ],
      "source": [
        "\n",
        "import os\n",
        "import subprocess\n",
        "import tempfile\n",
        "import uuid\n",
        "\n",
        "from IPython.core.magic import Magics, cell_magic, magics_class\n",
        "from IPython.core.magic_arguments import argument, magic_arguments, parse_argstring\n",
        "from common import helper\n",
        "\n",
        "compiler = 'iverilog'\n",
        "ext = '.v'\n",
        "\n",
        "def Install():\n",
        "        print(\"Installing iverilog. Please wait... \", end=\"\")\n",
        "        args = [\"sh\", \"/content/cad4u/verilog/update_install.sh\"]\n",
        "\n",
        "        output = subprocess.check_output(args, stderr=subprocess.STDOUT)\n",
        "        output = output.decode('utf8')\n",
        "        #helper.print_out(output)\n",
        "        print(\"done!\")\n",
        "\n",
        "def compile(file_path, flags):\n",
        "\n",
        "        args = [compiler, file_path + ext, \"-o\", file_path + \".out\"]\n",
        "\n",
        "        # adding flags: -O3, -unroll-loops, ...\n",
        "        for flag in flags:\n",
        "            if flag == \"<\":\n",
        "                break\n",
        "            args.append(flag)\n",
        "\n",
        "        subprocess.check_output(args, stderr=subprocess.STDOUT)\n",
        "\n",
        "\n",
        "def run(file_path, flags):\n",
        "        file_path = file_path + \".out\"\n",
        "        args = [file_path]\n",
        "        for flag in flags:\n",
        "          args.append(flag)\n",
        "\n",
        "        output = subprocess.check_output(args, stderr=subprocess.STDOUT)\n",
        "        output = output.decode('utf8')\n",
        "        helper.print_out(output)\n",
        "\n",
        "Install()\n",
        "flags = \"\"\n",
        "file_path = \"/content/tb\"\n",
        "compile(file_path, flags)\n",
        "run(file_path,\"1\")"
      ]
    },
    {
      "cell_type": "code",
      "execution_count": null,
      "metadata": {
        "colab": {
          "base_uri": "https://localhost:8080/",
          "height": 874
        },
        "id": "O3eDe1xPie0G",
        "outputId": "79d68594-f5c9-4bd2-d9d7-9dfee0e2e375"
      },
      "outputs": [
        {
          "output_type": "stream",
          "name": "stderr",
          "text": [
            "/usr/local/lib/python3.10/dist-packages/gradio/inputs.py:27: UserWarning: Usage of gradio.inputs is deprecated, and will not be supported in the future, please import your component from gradio.components\n",
            "  warnings.warn(\n",
            "/usr/local/lib/python3.10/dist-packages/gradio/deprecation.py:40: UserWarning: `optional` parameter is deprecated, and it has no effect\n",
            "  warnings.warn(value)\n",
            "/usr/local/lib/python3.10/dist-packages/gradio/deprecation.py:40: UserWarning: `numeric` parameter is deprecated, and it has no effect\n",
            "  warnings.warn(value)\n",
            "/usr/local/lib/python3.10/dist-packages/gradio/inputs.py:219: UserWarning: Usage of gradio.inputs is deprecated, and will not be supported in the future, please import your component from gradio.components\n",
            "  warnings.warn(\n",
            "/usr/local/lib/python3.10/dist-packages/gradio/inputs.py:185: UserWarning: Usage of gradio.inputs is deprecated, and will not be supported in the future, please import your component from gradio.components\n",
            "  warnings.warn(\n",
            "/usr/local/lib/python3.10/dist-packages/gradio/outputs.py:22: UserWarning: Usage of gradio.outputs is deprecated, and will not be supported in the future, please import your components from gradio.components\n",
            "  warnings.warn(\n",
            "/usr/local/lib/python3.10/dist-packages/gradio/outputs.py:128: UserWarning: Usage of gradio.outputs is deprecated, and will not be supported in the future, please import your components from gradio.components\n",
            "  warnings.warn(\n"
          ]
        },
        {
          "output_type": "stream",
          "name": "stdout",
          "text": [
            "Colab notebook detected. To show errors in colab notebook, set debug=True in launch()\n",
            "Running on public URL: https://0dc50ad16f0843ad1e.gradio.live\n",
            "\n",
            "This share link expires in 72 hours. For free permanent hosting and GPU upgrades (NEW!), check out Spaces: https://huggingface.co/spaces\n"
          ]
        },
        {
          "output_type": "display_data",
          "data": {
            "text/plain": [
              "<IPython.core.display.HTML object>"
            ],
            "text/html": [
              "<div><iframe src=\"https://0dc50ad16f0843ad1e.gradio.live\" width=\"100%\" height=\"500\" allow=\"autoplay; camera; microphone; clipboard-read; clipboard-write;\" frameborder=\"0\" allowfullscreen></iframe></div>"
            ]
          },
          "metadata": {}
        },
        {
          "output_type": "execute_result",
          "data": {
            "text/plain": []
          },
          "metadata": {},
          "execution_count": 26
        }
      ],
      "source": [
        "import gradio as gr\n",
        "import time\n",
        "import math\n",
        "\n",
        "# def numberInByts(n):\n",
        "#   if (n == 0 or n == 1): return 1\n",
        "#   return int((math.log(n) / math.log(2)) + 1)\n",
        "\n",
        "def result(tagFormat):\n",
        "  arq_valid = open('valid.data','r')\n",
        "  arq_tag = open('tag.data','r')\n",
        "  arq_caches = open('cache.data','r')\n",
        "\n",
        "  def erase(list):\n",
        "    for auto in list:\n",
        "      if auto[0] == '/': list.remove(auto)\n",
        "\n",
        "  #read files and delete comments\n",
        "  valids = arq_valid.readlines()\n",
        "  tags = arq_tag.readlines()\n",
        "  caches = arq_caches.readlines()\n",
        "\n",
        "  #closes used files\n",
        "  arq_valid.close()\n",
        "  arq_tag.close()\n",
        "  arq_caches.close()\n",
        "\n",
        "  erase(valids)\n",
        "  erase(tags)\n",
        "  erase(caches)\n",
        "\n",
        "  #iterator for data list\n",
        "  valid = iter(valids)\n",
        "  cache = iter(caches)\n",
        "  tag = iter(tags)\n",
        "\n",
        "  #current cache row counter\n",
        "  k = int(0)\n",
        "  lineNumber = int(len(caches)/len(tags))\n",
        "\n",
        "  #list of list (here will be added as table rows)\n",
        "  result = []\n",
        "\n",
        "  for i in range(len(tags)):\n",
        "\n",
        "    aux = []\n",
        "    #adds the line, valid bit and tag, to the current column(aux)\n",
        "    aux.append(i)\n",
        "    aux.append(valid.__next__().rstrip('\\n'))\n",
        "    aux.append(tag.__next__().rstrip('\\n'))\n",
        "\n",
        "    #add all block values\n",
        "    s = \"\"\n",
        "    for j in range(lineNumber):\n",
        "      s = s + caches[j + k].rstrip('\\n') + \" \"\n",
        "\n",
        "    aux.append(s)\n",
        "    k = lineNumber *(i+1)\n",
        "\n",
        "    if (aux[2] != \"xx\" and aux[2] != \"x\"):\n",
        "      tagInHex = hex(int(aux[2], 16))\n",
        "      tagInBits = bin(int(tagInHex, 16))\n",
        "\n",
        "      aux[2] = tagInHex\n",
        "\n",
        "      if (tagFormat == \"binary\"):\n",
        "        aux[2] = tagInBits\n",
        "\n",
        "      if (tagFormat == \"decimal\"):\n",
        "        aux[2] = int(tagInBits,2)\n",
        "\n",
        "    result.append(aux)\n",
        "\n",
        "  return result\n",
        "\n",
        "def newcode(address,cacheSize,ramSize,blockSize,tagFormat):\n",
        "  address = address[:-1] if address[-1] == \",\" else address\n",
        "  newAddress = str(address).strip().split(',')\n",
        "\n",
        "  #write the addresses consulted\n",
        "  my_file=open(\"/content/input.v\",\"w\")\n",
        "  for i in range(len(newAddress)):\n",
        "    my_file.write(\"address = \")\n",
        "    my_file.write(newAddress[i])\n",
        "    my_file.write(';\\n#50\\n')\n",
        "  my_file.close()\n",
        "\n",
        "  #write the parameter data\n",
        "  parameter=open(\"/content/parameter.v\",\"w\")\n",
        "  parameter.write(\"parameter cacheSize = \")\n",
        "  parameter.write(str(int(cacheSize)))\n",
        "  parameter.write(\";\\nparameter ramSize = \")\n",
        "  parameter.write(str(int(ramSize)))\n",
        "  parameter.write(\";\\nparameter blockSize = \")\n",
        "  parameter.write(str(int(blockSize)))\n",
        "  parameter.write(\";\\n\")\n",
        "  parameter.close()\n",
        "\n",
        "  time.sleep(0.25)\n",
        "  compile(file_path, flags)\n",
        "  run(file_path,\"1\")\n",
        "\n",
        "  addressBitsSize = math.ceil(math.log(int(ramSize), 2))\n",
        "  blockBitsSize = math.ceil(math.log(int(blockSize), 2))\n",
        "  linesTotal = math.ceil(math.log(int(cacheSize) / int(blockSize), 2))\n",
        "  tagBitsSize = addressBitsSize - int(blockBitsSize) - linesTotal\n",
        "\n",
        "  INSTRUCTION_BREAKDOWN = f\"Addres= {addressBitsSize} bits, Tag = {tagBitsSize} bits, Lines = {int(linesTotal)} bits, blk = {blockBitsSize} bits\"\n",
        "\n",
        "  return [INSTRUCTION_BREAKDOWN, result(tagFormat)]\n",
        "\n",
        "\n",
        "firstFieldLabel = \"Insert the address numbers to consult\"\n",
        "secondFieldLabel = \"Cache size\"\n",
        "thirdFieldLabel = \"Ram size\"\n",
        "fourthFieldLabel = \"Block size\"\n",
        "defaultHeaders = [\"Line\",\"V\",\"Tag\", \"Data\"]\n",
        "tagDisplayFormat = \"TAG DISPLAY FORMAT\"\n",
        "\n",
        "iface = gr.Interface(\n",
        "    fn=newcode,\n",
        "    inputs=[\n",
        "        gr.inputs.Textbox(3,label=firstFieldLabel),\n",
        "        gr.inputs.Dropdown(choices=[8,16,32,64,128],label=secondFieldLabel),\n",
        "        gr.inputs.Dropdown(choices=[1024,2048,4096,8192],label=thirdFieldLabel),\n",
        "        gr.inputs.Dropdown(choices=[4,8,16,32],label=fourthFieldLabel),\n",
        "        gr.inputs.Radio(choices=[\"decimal\", \"binary\", \"hex\"], default=\"decimal\", label=tagDisplayFormat)],\n",
        "outputs=[\n",
        "         gr.outputs.Textbox(label=\"Instruction Breakdown\"),\n",
        "         gr.outputs.Dataframe(label=\"Cache Table\", headers=defaultHeaders, max_rows=128, type=\"array\")])\n",
        "\n",
        "iface.launch(share=True)"
      ]
    }
  ],
  "metadata": {
    "colab": {
      "collapsed_sections": [
        "mMcvvWyui5fk",
        "Sf7UQ7VyJgwW"
      ],
      "provenance": [],
      "toc_visible": true,
      "include_colab_link": true
    },
    "kernelspec": {
      "display_name": "Python 3",
      "name": "python3"
    }
  },
  "nbformat": 4,
  "nbformat_minor": 0
}