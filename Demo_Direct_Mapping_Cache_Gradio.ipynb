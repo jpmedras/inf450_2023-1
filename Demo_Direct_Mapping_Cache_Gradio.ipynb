{
  "cells": [
    {
      "cell_type": "markdown",
      "metadata": {
        "id": "view-in-github",
        "colab_type": "text"
      },
      "source": [
        "<a href=\"https://colab.research.google.com/github/jpmedras/inf450_2023-1/blob/main/Inf450_2022_Demo_Direct_Mapping_Cache_Gradio.ipynb\" target=\"_parent\"><img src=\"https://colab.research.google.com/assets/colab-badge.svg\" alt=\"Open In Colab\"/></a>"
      ]
    },
    {
      "cell_type": "markdown",
      "metadata": {
        "id": "MQoqiaaluonZ"
      },
      "source": [
        "# Direct Mapping Cache Assignment (Leitura e Escrita)\n",
        "\n",
        "* Implement the **Gradio Interface** for a Verilog code to simulate a direct mapping cache\n",
        "* The Cache will be read only.\n",
        "* This Colab NB has already a direct mapping parametrized cache as your starting point."
      ]
    },
    {
      "cell_type": "markdown",
      "metadata": {
        "id": "v34hZvteg3ya"
      },
      "source": [
        "# Installing"
      ]
    },
    {
      "cell_type": "code",
      "execution_count": null,
      "metadata": {
        "id": "r1pzW9K0kJs8"
      },
      "outputs": [],
      "source": [
        "!pip install git+https://github.com/lesc-ufv/cad4u >& /dev/null\n",
        "!git clone https://github.com/lesc-ufv/cad4u >& /dev/null\n",
        "%load_ext plugin"
      ]
    },
    {
      "cell_type": "markdown",
      "metadata": {
        "id": "mMcvvWyui5fk"
      },
      "source": [
        "## Cache Schematic\n",
        "\n",
        "[Link desenho Excalidraw](https://excalidraw.com/#json=ej9ztRutvSeb-U4kcyzoU,9vOhV989mUYXB_yNNr03jA)"
      ]
    },
    {
      "cell_type": "markdown",
      "metadata": {
        "id": "G3yAbiFKTgbj"
      },
      "source": [
        "<img src=\"https://github.com/arduinoufv/inf450/blob/master/cache/figuras/cacheMD_gradio_esboco.png?raw=true\" alt=\"blind\" width=\"600\"/>"
      ]
    },
    {
      "cell_type": "markdown",
      "metadata": {
        "id": "b4Nmbodni8mE"
      },
      "source": [
        "## Verilog Code\n",
        "* All modules are implelemented on different files.\n"
      ]
    },
    {
      "cell_type": "markdown",
      "metadata": {
        "id": "Sf7UQ7VyJgwW"
      },
      "source": [
        "### Block address multiplexer\n",
        "\n",
        "* For the DM cache, it is used to select between request block address and the internal block counter to fill the cache block."
      ]
    },
    {
      "cell_type": "code",
      "execution_count": null,
      "metadata": {
        "colab": {
          "base_uri": "https://localhost:8080/"
        },
        "id": "aeELsCEJJldL",
        "outputId": "dab2efa3-3f82-4a15-d771-56b74131c178"
      },
      "outputs": [
        {
          "output_type": "stream",
          "name": "stdout",
          "text": [
            "Writing mux.v\n"
          ]
        }
      ],
      "source": [
        "%%writefile mux.v\n",
        "module  mux(\n",
        "din_0      , // Mux first input\n",
        "din_1      , // Mux Second input\n",
        "sel        , // Select input\n",
        "mux_out      // Mux output\n",
        ");\n",
        "parameter bitsBlock = 3;\n",
        "//-----------Input Ports---------------\n",
        "input [bitsBlock-1:0] din_0;\n",
        "inout [bitsBlock-1:0] din_1;\n",
        "input sel ;\n",
        "//-----------Output Ports---------------\n",
        "output [bitsBlock-1:0] mux_out;\n",
        "//-------------Code Start-----------------\n",
        "assign mux_out = (sel) ? din_1 : din_0;\n",
        "\n",
        "endmodule //End Of Module mux\n"
      ]
    },
    {
      "cell_type": "markdown",
      "metadata": {
        "id": "jOyWzpmyKWrj"
      },
      "source": [
        "### Tag Comparator\n",
        "\n",
        "* Compare current address tag to Cache tag address"
      ]
    },
    {
      "cell_type": "code",
      "execution_count": null,
      "metadata": {
        "colab": {
          "base_uri": "https://localhost:8080/"
        },
        "id": "-uJe86WGe3su",
        "outputId": "7d903655-486d-423d-f53c-302a37cb72e2"
      },
      "outputs": [
        {
          "output_type": "stream",
          "name": "stdout",
          "text": [
            "Writing comparator.v\n"
          ]
        }
      ],
      "source": [
        "%%writefile comparator.v\n",
        "module comparator(out, tag, tag_in);\n",
        "parameter bitsTag = 6;\n",
        "  output  out;\n",
        "  input   [bitsTag-1:0] tag;\n",
        "  input   [bitsTag-1:0] tag_in;\n",
        "\n",
        "assign out =  ( tag == tag_in )? 1 : 0;\n",
        "\n",
        "endmodule"
      ]
    },
    {
      "cell_type": "markdown",
      "metadata": {
        "id": "Tl8yTmk6fG7d"
      },
      "source": [
        "### Mtag Cache\n",
        "* Memory to store the cache Tags."
      ]
    },
    {
      "cell_type": "code",
      "execution_count": null,
      "metadata": {
        "colab": {
          "base_uri": "https://localhost:8080/"
        },
        "id": "D4dqOyf-fmlH",
        "outputId": "57a8f432-a91e-42f3-d78d-f9ba3673511c"
      },
      "outputs": [
        {
          "output_type": "stream",
          "name": "stdout",
          "text": [
            "Writing Mtag.v\n"
          ]
        }
      ],
      "source": [
        "\n",
        "%%writefile Mtag.v\n",
        "module Mtag ( clk, line,  din, wr, dout , reset);\n",
        "parameter bitsLinesCache = 2;\n",
        "parameter bitsTag = 6;\n",
        "parameter linesCache = 4;\n",
        "\n",
        "input clk;\n",
        "input [bitsLinesCache-1:0] line;\n",
        "input [bitsTag-1:0] din;\n",
        "input wr;\n",
        "output [bitsTag-1:0] dout;\n",
        "input reset;\n",
        "\n",
        "\n",
        "reg [bitsTag-1:0] memory[0:linesCache-1];\n",
        "reg [bitsTag-1:0] dout;\n",
        "\n",
        "always @(posedge clk )\n",
        "  begin\n",
        "    if (wr)\n",
        "      memory[line] <= din;\n",
        "  end\n",
        "\n",
        "always @ (*)\n",
        "  begin\n",
        "  dout <= memory[line];\n",
        "  end\n",
        "\n",
        "always @( posedge reset)\n",
        "\t\t\tif(reset)\n",
        "\t\t\t\tbegin\n",
        "\t\t\t\t  memory[0] <= 6'h3;\n",
        "\t\t\t\t  memory[1] <= 6'h4;\n",
        "\t\t\t\t  memory[2] <= 6'h5;\n",
        "\t\t\t\t  memory[3] <= 6'h6;\n",
        "\t\t\t\tend\n",
        "\n",
        "\n",
        "endmodule"
      ]
    },
    {
      "cell_type": "markdown",
      "metadata": {
        "id": "sbExwnSdfyHA"
      },
      "source": [
        "### Cache Valid Bit\n",
        "* Memory with reset signal to store the valid bit. One per line."
      ]
    },
    {
      "cell_type": "code",
      "execution_count": null,
      "metadata": {
        "colab": {
          "base_uri": "https://localhost:8080/"
        },
        "id": "sG3UOMqef9ou",
        "outputId": "37d92990-d82e-4938-be86-f9e226e8db55"
      },
      "outputs": [
        {
          "output_type": "stream",
          "name": "stdout",
          "text": [
            "Writing valid.v\n"
          ]
        }
      ],
      "source": [
        "\n",
        "%%writefile valid.v\n",
        "module valid ( clk, line,  reset, wr, dout );\n",
        "parameter bitsLinesCache = 2;\n",
        "parameter linesCache = 4;\n",
        "input clk;\n",
        "input [bitsLinesCache-1:0] line;\n",
        "input reset;\n",
        "input wr;\n",
        "output dout;\n",
        "\n",
        "reg memory[0:linesCache-1];\n",
        "reg dout;\n",
        "\n",
        "always @(posedge clk )\n",
        "  begin\n",
        "    if (wr)\n",
        "      memory[line] <= 1;\n",
        "  end\n",
        "\n",
        "always @ (*)\n",
        "  begin\n",
        "  dout = memory[line];\n",
        "  end\n",
        "\n",
        "reg integer i;\n",
        "always @ (reset)\n",
        "  begin\n",
        "  for(i =0;i<linesCache;i=1+i)begin\n",
        "    memory[i]=0;\n",
        "  end\n",
        "  end\n",
        "endmodule"
      ]
    },
    {
      "cell_type": "markdown",
      "metadata": {
        "id": "8SAsyay2JA1P"
      },
      "source": [
        "### Cache Dirty Bit\n",
        "* Memory with reset signal to store the dirty bit. One per line."
      ]
    },
    {
      "cell_type": "code",
      "execution_count": null,
      "metadata": {
        "colab": {
          "base_uri": "https://localhost:8080/"
        },
        "outputId": "306469d4-a6a2-4e49-e6a1-24a18112a22e",
        "id": "RYwdXQVIJA1i"
      },
      "outputs": [
        {
          "output_type": "stream",
          "name": "stdout",
          "text": [
            "Writing dirty.v\n"
          ]
        }
      ],
      "source": [
        "%%writefile dirty.v\n",
        "module dirty ( clk, line,  reset, wr, dout );\n",
        "parameter bitsLinesCache = 2;\n",
        "parameter linesCache = 4;\n",
        "input clk;\n",
        "input [bitsLinesCache-1:0] line;\n",
        "input reset;\n",
        "input wr;\n",
        "output dout;\n",
        "\n",
        "reg memory[0:linesCache-1];\n",
        "reg dout;\n",
        "\n",
        "always @(posedge clk )\n",
        "  begin\n",
        "    if (wr)\n",
        "      memory[line] <= 1;\n",
        "  end\n",
        "\n",
        "always @ (*)\n",
        "  begin\n",
        "  dout = memory[line];\n",
        "  end\n",
        "\n",
        "reg integer i;\n",
        "always @ (reset)\n",
        "  begin\n",
        "  for(i =0;i<linesCache;i=1+i)begin\n",
        "    memory[i]=0;\n",
        "  end\n",
        "  end\n",
        "endmodule"
      ]
    },
    {
      "cell_type": "markdown",
      "metadata": {
        "id": "HRfEdyVOhNH6"
      },
      "source": [
        "###Data cache\n",
        "* Memory module to store the data\n",
        "* May be used to write din in cache. The position is given by {line, blk}\n"
      ]
    },
    {
      "cell_type": "code",
      "execution_count": null,
      "metadata": {
        "colab": {
          "base_uri": "https://localhost:8080/"
        },
        "id": "n9EF4H3zg84w",
        "outputId": "4cf74cbe-5ea6-47cf-aa20-304fe86745c9"
      },
      "outputs": [
        {
          "output_type": "stream",
          "name": "stdout",
          "text": [
            "Writing datacache.v\n"
          ]
        }
      ],
      "source": [
        "%%writefile datacache.v\n",
        "module datacache ( clk, line, blk, din, wr, dout );\n",
        "parameter bitsBlock = 3;\n",
        "parameter bitLinesCache = 2;\n",
        "parameter cacheSize = 32;\n",
        "input clk;\n",
        "input [bitLinesCache-1:0] line;\n",
        "input [bitsBlock-1:0] blk;\n",
        "input [7:0] din;\n",
        "input wr;\n",
        "output [7:0] dout;\n",
        "\n",
        "reg [7:0] memory[0:cacheSize-1];\n",
        "reg [7:0] dout;\n",
        "\n",
        "always @(posedge clk )\n",
        "  begin\n",
        "    if (wr)\n",
        "      memory[{line,blk}] <= din;\n",
        "  end\n",
        "\n",
        "always @ (*)\n",
        "  begin\n",
        "  dout <= memory[{line,blk}];\n",
        "  end\n",
        "\n",
        "endmodule"
      ]
    },
    {
      "cell_type": "markdown",
      "metadata": {
        "id": "J6S1jLitlAf5"
      },
      "source": [
        "### Ram\n",
        "* Ram Memory Module\n",
        "* Returns memory address in dout\n",
        "* Write din if wr == 1"
      ]
    },
    {
      "cell_type": "code",
      "execution_count": null,
      "metadata": {
        "colab": {
          "base_uri": "https://localhost:8080/"
        },
        "id": "J2iqP6fHk4-2",
        "outputId": "c2727217-ed06-48c1-b8c4-c363027b21f5"
      },
      "outputs": [
        {
          "output_type": "stream",
          "name": "stdout",
          "text": [
            "Writing ram.v\n"
          ]
        }
      ],
      "source": [
        "%%writefile ram.v\n",
        "module ram ( clk, addr, din, wr, dout, reset );\n",
        "parameter bitsRam = 11;\n",
        "parameter ramSize = 2048;\n",
        "input clk;\n",
        "input [bitsRam-1:0] addr;\n",
        "input [7:0] din;\n",
        "input wr;\n",
        "output [7:0] dout;\n",
        "input reset;\n",
        "\n",
        "reg [7:0] memory[0:ramSize-1];\n",
        "reg [7:0] dout;\n",
        "\n",
        "\n",
        "always @(posedge clk )\n",
        "  begin\n",
        "    if (wr)\n",
        "      memory[addr] <= din;\n",
        "  end\n",
        "\n",
        "always @ (*)\n",
        "  begin\n",
        "  dout <= memory[addr];\n",
        "  end\n",
        "\n",
        "reg integer i;\n",
        " always @(posedge reset)\n",
        "\t\t\tif(reset) // starts for testing\n",
        "\t\t\t\tbegin\n",
        "            for(i = 0;i<ramSize;i=i+1)begin\n",
        "              memory[i] <= i;\n",
        "\n",
        "            end\n",
        "\t\t\t\tend\n",
        "endmodule"
      ]
    },
    {
      "cell_type": "markdown",
      "metadata": {
        "id": "z_-yiM9_lz8-"
      },
      "source": [
        "### Counter Module\n",
        "* parameterized Counter: 0 to blockSize - 1\n",
        "* This counter generates the address to fill the data cache line with a data block."
      ]
    },
    {
      "cell_type": "code",
      "execution_count": null,
      "metadata": {
        "colab": {
          "base_uri": "https://localhost:8080/"
        },
        "id": "MSO4vOARlq_R",
        "outputId": "9d95b501-8a4b-4a5b-9683-a2a5eee95848"
      },
      "outputs": [
        {
          "output_type": "stream",
          "name": "stdout",
          "text": [
            "Writing counter.v\n"
          ]
        }
      ],
      "source": [
        "%%writefile counter.v\n",
        "module counter(out, clk, reset, End);\n",
        "  parameter bitsBlock = 3;\n",
        "  parameter blockSize = 8;\n",
        "  output [bitsBlock-1 : 0] out;\n",
        "  input \t       clk, reset;\n",
        "  output End;\n",
        "\n",
        "  reg [bitsBlock-1 : 0]   out;\n",
        "  reg End;\n",
        "  wire \t       clk, reset;\n",
        "  wire [bitsBlock-1: 0] limitCounter = blockSize-1;\n",
        "  always @(posedge clk)\n",
        "    out <= out + 1;\n",
        "\n",
        "  always @(posedge clk)\n",
        "    if ( out == limitCounter )\n",
        "       End <= 1;\n",
        "    else\n",
        "       End <= 0;\n",
        "\n",
        "\n",
        "  always @(reset)\n",
        "    if (reset)\n",
        "      out <= 0;\n",
        "\n",
        "endmodule // counter"
      ]
    },
    {
      "cell_type": "markdown",
      "metadata": {
        "id": "Zm5j--CDIO5C"
      },
      "source": [
        "### Cache Finite State Machine\n",
        "\n",
        "* Provide FSM diagram using Graphviz"
      ]
    },
    {
      "cell_type": "markdown",
      "metadata": {
        "id": "B0UmC8hhSvEC"
      },
      "source": [
        "#### Graphviz installation"
      ]
    },
    {
      "cell_type": "code",
      "execution_count": null,
      "metadata": {
        "id": "AjDpXb2xS4RY"
      },
      "outputs": [],
      "source": [
        "# installing the Graphviz\n",
        "!apt install -y graphviz >& /dev/null\n",
        "!pip install graphviz  >& /dev/null"
      ]
    },
    {
      "cell_type": "code",
      "execution_count": null,
      "metadata": {
        "colab": {
          "base_uri": "https://localhost:8080/",
          "height": 35
        },
        "id": "zwgGcybH9fdk",
        "outputId": "6a34043d-2a05-4af5-af6c-0d5ff9733d7c"
      },
      "outputs": [
        {
          "output_type": "execute_result",
          "data": {
            "text/plain": [
              "'fsmCache.gv.pdf'"
            ],
            "application/vnd.google.colaboratory.intrinsic+json": {
              "type": "string"
            }
          },
          "metadata": {},
          "execution_count": 19
        }
      ],
      "source": [
        "\n",
        "from graphviz import Digraph\n",
        "e = Digraph('fsmCache', filename='fsmCache.gv')\n",
        "\n",
        "e.attr('node', shape='box')\n",
        "\n",
        "with e.subgraph() as s:\n",
        "    s.attr(rank='bottom')\n",
        "    s.node('ReadData', label = 'ReadData Done == 1')\n",
        "    s.node('ReadTag', label = 'ReadTag Cnt == 1',shape=\"box3d\")\n",
        "\n",
        "e.edge('ReadTag','ReadData','c&v');\n",
        "e.edge('ReadTag','ReadBlock','¬(c&v)');\n",
        "\n",
        "e.edge('ReadData','ReadTag');\n",
        "\n",
        "\n",
        "with e.subgraph() as s:\n",
        "    s.attr(rank='top')\n",
        "    s.node('ReadBlock', label = 'ReadBlock Dwr == & 1 Mux == 1')\n",
        "    s.node('UpdateTag', label = 'UpdateTag Twr == 1')\n",
        "\n",
        "e.edge('ReadBlock','UpdateTag','END');\n",
        "e.edge('ReadBlock','ReadBlock','¬END');\n",
        "\n",
        "e.edge(\"UpdateTag\",\"ReadTag\")\n",
        "e.view()"
      ]
    },
    {
      "cell_type": "code",
      "execution_count": null,
      "metadata": {
        "colab": {
          "base_uri": "https://localhost:8080/",
          "height": 428
        },
        "id": "Tqvciiix923k",
        "outputId": "5c579265-e56c-4e60-ee79-17ea30cb171f"
      },
      "outputs": [
        {
          "output_type": "execute_result",
          "data": {
            "image/svg+xml": "<?xml version=\"1.0\" encoding=\"UTF-8\" standalone=\"no\"?>\n<!DOCTYPE svg PUBLIC \"-//W3C//DTD SVG 1.1//EN\"\n \"http://www.w3.org/Graphics/SVG/1.1/DTD/svg11.dtd\">\n<!-- Generated by graphviz version 2.43.0 (0)\n -->\n<!-- Title: fsmCache Pages: 1 -->\n<svg width=\"288pt\" height=\"305pt\"\n viewBox=\"0.00 0.00 288.40 305.00\" xmlns=\"http://www.w3.org/2000/svg\" xmlns:xlink=\"http://www.w3.org/1999/xlink\">\n<g id=\"graph0\" class=\"graph\" transform=\"scale(1 1) rotate(0) translate(4 301)\">\n<title>fsmCache</title>\n<polygon fill=\"white\" stroke=\"transparent\" points=\"-4,4 -4,-301 284.4,-301 284.4,4 -4,4\"/>\n<!-- ReadData -->\n<g id=\"node1\" class=\"node\">\n<title>ReadData</title>\n<polygon fill=\"none\" stroke=\"black\" points=\"266.5,-297 132.5,-297 132.5,-261 266.5,-261 266.5,-297\"/>\n<text text-anchor=\"middle\" x=\"199.5\" y=\"-275.3\" font-family=\"Times,serif\" font-size=\"14.00\">ReadData Done == 1</text>\n</g>\n<!-- ReadTag -->\n<g id=\"node2\" class=\"node\">\n<title>ReadTag</title>\n<polygon fill=\"none\" stroke=\"black\" points=\"259,-210 144,-210 140,-206 140,-174 255,-174 259,-178 259,-210\"/>\n<polyline fill=\"none\" stroke=\"black\" points=\"255,-206 140,-206 \"/>\n<polyline fill=\"none\" stroke=\"black\" points=\"255,-206 255,-174 \"/>\n<polyline fill=\"none\" stroke=\"black\" points=\"255,-206 259,-210 \"/>\n<text text-anchor=\"middle\" x=\"199.5\" y=\"-188.3\" font-family=\"Times,serif\" font-size=\"14.00\">ReadTag Cnt == 1</text>\n</g>\n<!-- ReadData&#45;&gt;ReadTag -->\n<g id=\"edge3\" class=\"edge\">\n<title>ReadData&#45;&gt;ReadTag</title>\n<path fill=\"none\" stroke=\"black\" d=\"M198.23,-260.88C197.67,-251.23 197.19,-238.94 197.5,-228 197.57,-225.44 197.68,-222.79 197.8,-220.13\"/>\n<polygon fill=\"black\" stroke=\"black\" points=\"201.29,-220.25 198.33,-210.08 194.3,-219.88 201.29,-220.25\"/>\n</g>\n<!-- ReadTag&#45;&gt;ReadData -->\n<g id=\"edge1\" class=\"edge\">\n<title>ReadTag&#45;&gt;ReadData</title>\n<path fill=\"none\" stroke=\"black\" d=\"M199.5,-210.18C199.5,-221.81 199.5,-237.42 199.5,-250.73\"/>\n<polygon fill=\"black\" stroke=\"black\" points=\"196,-250.8 199.5,-260.8 203,-250.8 196,-250.8\"/>\n<text text-anchor=\"middle\" x=\"212\" y=\"-231.8\" font-family=\"Times,serif\" font-size=\"14.00\">c&amp;v</text>\n</g>\n<!-- ReadBlock -->\n<g id=\"node3\" class=\"node\">\n<title>ReadBlock</title>\n<polygon fill=\"none\" stroke=\"black\" points=\"211,-123 0,-123 0,-87 211,-87 211,-123\"/>\n<text text-anchor=\"middle\" x=\"105.5\" y=\"-101.3\" font-family=\"Times,serif\" font-size=\"14.00\">ReadBlock Dwr == &amp; 1 Mux == 1</text>\n</g>\n<!-- ReadTag&#45;&gt;ReadBlock -->\n<g id=\"edge2\" class=\"edge\">\n<title>ReadTag&#45;&gt;ReadBlock</title>\n<path fill=\"none\" stroke=\"black\" d=\"M180.48,-173.8C166.59,-161.24 147.58,-144.05 132.17,-130.12\"/>\n<polygon fill=\"black\" stroke=\"black\" points=\"134.26,-127.29 124.49,-123.18 129.56,-132.48 134.26,-127.29\"/>\n<text text-anchor=\"middle\" x=\"179.5\" y=\"-144.8\" font-family=\"Times,serif\" font-size=\"14.00\">¬(c&amp;v)</text>\n</g>\n<!-- ReadBlock&#45;&gt;ReadBlock -->\n<g id=\"edge5\" class=\"edge\">\n<title>ReadBlock&#45;&gt;ReadBlock</title>\n<path fill=\"none\" stroke=\"black\" d=\"M211.34,-111.47C222.12,-110.19 229,-108.04 229,-105 229,-103.06 226.18,-101.47 221.31,-100.25\"/>\n<polygon fill=\"black\" stroke=\"black\" points=\"221.79,-96.78 211.34,-98.53 220.6,-103.68 221.79,-96.78\"/>\n<text text-anchor=\"middle\" x=\"247.5\" y=\"-101.3\" font-family=\"Times,serif\" font-size=\"14.00\">¬END</text>\n</g>\n<!-- UpdateTag -->\n<g id=\"node4\" class=\"node\">\n<title>UpdateTag</title>\n<polygon fill=\"none\" stroke=\"black\" points=\"265,-36 134,-36 134,0 265,0 265,-36\"/>\n<text text-anchor=\"middle\" x=\"199.5\" y=\"-14.3\" font-family=\"Times,serif\" font-size=\"14.00\">UpdateTag Twr == 1</text>\n</g>\n<!-- ReadBlock&#45;&gt;UpdateTag -->\n<g id=\"edge4\" class=\"edge\">\n<title>ReadBlock&#45;&gt;UpdateTag</title>\n<path fill=\"none\" stroke=\"black\" d=\"M124.52,-86.8C138.41,-74.24 157.42,-57.05 172.83,-43.12\"/>\n<polygon fill=\"black\" stroke=\"black\" points=\"175.44,-45.48 180.51,-36.18 170.74,-40.29 175.44,-45.48\"/>\n<text text-anchor=\"middle\" x=\"172.5\" y=\"-57.8\" font-family=\"Times,serif\" font-size=\"14.00\">END</text>\n</g>\n<!-- UpdateTag&#45;&gt;ReadTag -->\n<g id=\"edge6\" class=\"edge\">\n<title>UpdateTag&#45;&gt;ReadTag</title>\n<path fill=\"none\" stroke=\"black\" d=\"M228.62,-36.12C245.75,-47.99 265.89,-65.5 275.5,-87 282.03,-101.61 282.03,-108.39 275.5,-123 267.39,-141.14 251.79,-156.44 236.82,-167.91\"/>\n<polygon fill=\"black\" stroke=\"black\" points=\"234.64,-165.16 228.62,-173.88 238.76,-170.82 234.64,-165.16\"/>\n</g>\n</g>\n</svg>\n",
            "text/plain": [
              "<graphviz.sources.Source at 0x7fc83d731510>"
            ]
          },
          "metadata": {},
          "execution_count": 20
        }
      ],
      "source": [
        "#@title Final State Machine Visualization\n",
        "from graphviz import Source\n",
        "Source.from_file('fsmCache.gv') # visualizando"
      ]
    },
    {
      "cell_type": "markdown",
      "metadata": {
        "id": "0HH_n3TmT4NR"
      },
      "source": [
        "### Verilog FSM module"
      ]
    },
    {
      "cell_type": "code",
      "execution_count": null,
      "metadata": {
        "colab": {
          "base_uri": "https://localhost:8080/"
        },
        "id": "Mjisylw9Eb9s",
        "outputId": "dd0c9d92-d3cd-44ea-a55a-19d5c36b9ef1"
      },
      "outputs": [
        {
          "output_type": "stream",
          "name": "stdout",
          "text": [
            "Overwriting fsm.v\n"
          ]
        }
      ],
      "source": [
        "%%writefile fsm.v\n",
        "module fsm(\n",
        "  input wire clk, reset, c, v, w, op, RB_End, WB_End,\n",
        "  output reg Twr, DTwr, Dwr, Rwr, Cnt, Mux, Done);\n",
        "\n",
        "reg [2:0] state;\n",
        "\n",
        "parameter ReadTag = 3'b00, ReadData = 3'b01,\n",
        "ReadBlk = 3'b10, UpdateTag = 3'b11, WriteBlock = 3'b100,\n",
        "WriteData = 3'b101, UpdateDirty = 3'b110, RESET = 3'b111;\n",
        "\n",
        "/* State register (synchronous reset) */\n",
        "always @(posedge clk or posedge reset)\n",
        "begin\n",
        "  if (reset)\n",
        "    state <= RESET;\n",
        "  else\n",
        "    case (state)\n",
        "      RESET: state <= ReadTag;\n",
        "\n",
        "      ReadTag:\n",
        "        if (c & v & ~op) state <= ReadData;\n",
        "        else if (c & v & op) state <= WriteData;\n",
        "        else if ((~v) || (~c & ~w))  state <= ReadBlk;\n",
        "        else state <= WriteBlock;\n",
        "      ReadData:\n",
        "        state <= ReadTag;\n",
        "\n",
        "      WriteData:\n",
        "        state <= ReadTag;\n",
        "\n",
        "      ReadBlk:\n",
        "        if (RB_End) state <= UpdateTag;\n",
        "        else     state <= ReadBlk;\n",
        "\n",
        "      WriteBlock:\n",
        "        if (WB_End) state <= ReadBlock;\n",
        "        else        state <= WriteBlock;\n",
        "\n",
        "      UpdateTag:\n",
        "        if (op) state <= UpdateDirty;\n",
        "        else    state <= ReadData;\n",
        "\n",
        "      UpdateDirty:\n",
        "        state <= WriteData;\n",
        "\n",
        "  endcase\n",
        "end\n",
        "\n",
        "/* Output logic */\n",
        "always @(*) begin\n",
        "  Cnt = (state == ReadTag);\n",
        "  Twr = (state == UpdateTag);\n",
        "  DTwr = (state == UpdateDirty);\n",
        "  Dwr = (state == ReadBlk || state == WriteData);\n",
        "  Rwr = (state == WriteBlock);  // RAM Write\n",
        "  Mux = (state == ReadBlk || state == WriteBlock);\n",
        "  Done = (state == ReadData || state == WriteData);\n",
        "end\n",
        "\n",
        "endmodule\n"
      ]
    },
    {
      "cell_type": "markdown",
      "metadata": {
        "id": "zrD-T4n9UER0"
      },
      "source": [
        "## Main Project"
      ]
    },
    {
      "cell_type": "markdown",
      "metadata": {
        "id": "p4AdhlEhU_Ye"
      },
      "source": [
        "### Modulo Main.v\n",
        "\n",
        "Must include submodules created to parameterized cache implementation\n"
      ]
    },
    {
      "cell_type": "code",
      "execution_count": null,
      "metadata": {
        "colab": {
          "base_uri": "https://localhost:8080/",
          "height": 1000
        },
        "id": "3TLKzm9g6M8T",
        "outputId": "20b13167-b559-43e6-afc1-2250085e21ba"
      },
      "outputs": [
        {
          "output_type": "stream",
          "name": "stdout",
          "text": [
            "Installing. Please wait... done!\n",
            "/content/cad4u/verilog/yosys_command.sh cache_read_only code.v\n",
            "The process occurred error, see below the error:\n",
            "\n",
            "./fsm.v:21: syntax error\n",
            "./fsm.v:23: syntax error\n",
            "./fsm.v:23: Syntax in assignment statement l-value.\n",
            "./fsm.v:23: error: Malformed conditional expression.\n",
            "./fsm.v:21: error: Malformed conditional expression.\n",
            "\n",
            "\n",
            " /----------------------------------------------------------------------------\\\n",
            " |                                                                            |\n",
            " |  yosys -- Yosys Open SYnthesis Suite                                       |\n",
            " |                                                                            |\n",
            " |  Copyright (C) 2012 - 2019  Clifford Wolf <clifford@clifford.at>           |\n",
            " |                                                                            |\n",
            " |  Permission to use, copy, modify, and/or distribute this software for any  |\n",
            " |  purpose with or without fee is hereby granted, provided that the above    |\n",
            " |  copyright notice and this permission notice appear in all copies.         |\n",
            " |                                                                            |\n",
            " |  THE SOFTWARE IS PROVIDED \"AS IS\" AND THE AUTHOR DISCLAIMS ALL WARRANTIES  |\n",
            " |  WITH REGARD TO THIS SOFTWARE INCLUDING ALL IMPLIED WARRANTIES OF          |\n",
            " |  MERCHANTABILITY AND FITNESS. IN NO EVENT SHALL THE AUTHOR BE LIABLE FOR   |\n",
            " |  ANY SPECIAL, DIRECT, INDIRECT, OR CONSEQUENTIAL DAMAGES OR ANY DAMAGES    |\n",
            " |  WHATSOEVER RESULTING FROM LOSS OF USE, DATA OR PROFITS, WHETHER IN AN     |\n",
            " |  ACTION OF CONTRACT, NEGLIGENCE OR OTHER TORTIOUS ACTION, ARISING OUT OF   |\n",
            " |  OR IN CONNECTION WITH THE USE OR PERFORMANCE OF THIS SOFTWARE.            |\n",
            " |                                                                            |\n",
            " \\----------------------------------------------------------------------------/\n",
            "\n",
            " Yosys 0.9 (git sha1 1979e0b)\n",
            "\n",
            "\n",
            "-- Parsing `/content/code.v' using frontend `verilog' --\n",
            "\n",
            "1. Executing Verilog-2005 frontend: /content/code.v\n",
            "fsm.v:21: ERROR: syntax error, unexpected TOK_PRIMITIVE\n",
            "\n",
            "/content/cad4u/verilog/netlistsvg/bin/netlistsvg.js:35\n",
            "            if (err) throw err;\n",
            "                     ^\n",
            "\n",
            "[Error: ENOENT: no such file or directory, open 'output.json'] {\n",
            "  errno: -2,\n",
            "  code: 'ENOENT',\n",
            "  syscall: 'open',\n",
            "  path: 'output.json'\n",
            "}\n",
            "\n"
          ]
        },
        {
          "output_type": "error",
          "ename": "ExpatError",
          "evalue": "ignored",
          "traceback": [
            "\u001b[0;31m---------------------------------------------------------------------------\u001b[0m",
            "\u001b[0;31mExpatError\u001b[0m                                Traceback (most recent call last)",
            "\u001b[0;32m<ipython-input-22-1e5a53299272>\u001b[0m in \u001b[0;36m<cell line: 1>\u001b[0;34m()\u001b[0m\n\u001b[0;32m----> 1\u001b[0;31m \u001b[0mget_ipython\u001b[0m\u001b[0;34m(\u001b[0m\u001b[0;34m)\u001b[0m\u001b[0;34m.\u001b[0m\u001b[0mrun_cell_magic\u001b[0m\u001b[0;34m(\u001b[0m\u001b[0;34m'print_verilog'\u001b[0m\u001b[0;34m,\u001b[0m \u001b[0;34m'-top cache_read_only'\u001b[0m\u001b[0;34m,\u001b[0m \u001b[0;34m'\\n`include \"fsm.v\"\\n`include \"mux.v\"\\n`include \"ram.v\"\\n`include \"valid.v\"\\n`include \"dirty.v\"\\n`include \"comparator.v\"\\n`include \"counter.v\"\\n`include \"Mtag.v\"\\n`include \"datacache.v\"\\n\\n// *** ADD MODULES HERE ***\\n\\nmodule cache_read_only(\\nclk, reset, address, dout, din\\n);\\nparameter cacheSize = 32;\\nparameter ramSize = 2048;\\nparameter blockSize = 8;\\n\\nparameter cacheLines = 4;\\nparameter cacheLineBits = 2;\\nparameter ramBits = 11;\\nparameter blockBits = 3;\\nparameter tagBits = 6;\\n\\ninput clk;\\ninput reset;\\n\\ninput [ramBits-1:0] address;\\n\\noutput [7:0] dout;\\ninput [7:0] din;\\n\\nreg [7:0] dout;\\n\\nwire [cacheLineBits-1:0] line;\\n\\nwire [blockBits-1:0] blk;\\n\\n//wire [5:0] tag;\\nwire [tagBits-1:0] tag;\\n\\nwire Done;\\n\\nassign tag = address[ramBits-1:blockBits+cacheLineBits];\\n\\nassign line = address[blockBits+cacheLineBits-1:blockBits];\\n\\nassign blk = address[blockBits-1:0];\\n\\nwire Twr,DTwr,Dwr,Rwr;\\nwire RB_End, WB_End, cnt, c, v, w, Dmux;\\nwire [7:0] Ram2Cache;\\n\\nwire [blockBits-1:0] Mux1;\\n\\nwire [blockBits-1:0] Muxout;\\n\\nwire MuxSel;\\n\\nwire [tagBits-1:0] Tout;\\n\\nwire [7:0] Cache2out;\\n\\nalways @(*) begin\\n dout = Cache2out;\\nend\\n\\nfsm  FSM(\\n  .clk (clk),\\n  .reset (reset),\\n  .c (c) ,\\n  .v (v),\\n  .RB_End (RB_End),\\n  .WB_End (WB_End),\\n  .Twr (Twr),\\...\n\u001b[0m",
            "\u001b[0;32m/usr/local/lib/python3.10/dist-packages/google/colab/_shell.py\u001b[0m in \u001b[0;36mrun_cell_magic\u001b[0;34m(self, magic_name, line, cell)\u001b[0m\n\u001b[1;32m    332\u001b[0m     \u001b[0;32mif\u001b[0m \u001b[0mline\u001b[0m \u001b[0;32mand\u001b[0m \u001b[0;32mnot\u001b[0m \u001b[0mcell\u001b[0m\u001b[0;34m:\u001b[0m\u001b[0;34m\u001b[0m\u001b[0;34m\u001b[0m\u001b[0m\n\u001b[1;32m    333\u001b[0m       \u001b[0mcell\u001b[0m \u001b[0;34m=\u001b[0m \u001b[0;34m' '\u001b[0m\u001b[0;34m\u001b[0m\u001b[0;34m\u001b[0m\u001b[0m\n\u001b[0;32m--> 334\u001b[0;31m     \u001b[0;32mreturn\u001b[0m \u001b[0msuper\u001b[0m\u001b[0;34m(\u001b[0m\u001b[0;34m)\u001b[0m\u001b[0;34m.\u001b[0m\u001b[0mrun_cell_magic\u001b[0m\u001b[0;34m(\u001b[0m\u001b[0mmagic_name\u001b[0m\u001b[0;34m,\u001b[0m \u001b[0mline\u001b[0m\u001b[0;34m,\u001b[0m \u001b[0mcell\u001b[0m\u001b[0;34m)\u001b[0m\u001b[0;34m\u001b[0m\u001b[0;34m\u001b[0m\u001b[0m\n\u001b[0m\u001b[1;32m    335\u001b[0m \u001b[0;34m\u001b[0m\u001b[0m\n\u001b[1;32m    336\u001b[0m \u001b[0;34m\u001b[0m\u001b[0m\n",
            "\u001b[0;32m/usr/local/lib/python3.10/dist-packages/IPython/core/interactiveshell.py\u001b[0m in \u001b[0;36mrun_cell_magic\u001b[0;34m(self, magic_name, line, cell)\u001b[0m\n\u001b[1;32m   2471\u001b[0m             \u001b[0;32mwith\u001b[0m \u001b[0mself\u001b[0m\u001b[0;34m.\u001b[0m\u001b[0mbuiltin_trap\u001b[0m\u001b[0;34m:\u001b[0m\u001b[0;34m\u001b[0m\u001b[0;34m\u001b[0m\u001b[0m\n\u001b[1;32m   2472\u001b[0m                 \u001b[0margs\u001b[0m \u001b[0;34m=\u001b[0m \u001b[0;34m(\u001b[0m\u001b[0mmagic_arg_s\u001b[0m\u001b[0;34m,\u001b[0m \u001b[0mcell\u001b[0m\u001b[0;34m)\u001b[0m\u001b[0;34m\u001b[0m\u001b[0;34m\u001b[0m\u001b[0m\n\u001b[0;32m-> 2473\u001b[0;31m                 \u001b[0mresult\u001b[0m \u001b[0;34m=\u001b[0m \u001b[0mfn\u001b[0m\u001b[0;34m(\u001b[0m\u001b[0;34m*\u001b[0m\u001b[0margs\u001b[0m\u001b[0;34m,\u001b[0m \u001b[0;34m**\u001b[0m\u001b[0mkwargs\u001b[0m\u001b[0;34m)\u001b[0m\u001b[0;34m\u001b[0m\u001b[0;34m\u001b[0m\u001b[0m\n\u001b[0m\u001b[1;32m   2474\u001b[0m             \u001b[0;32mreturn\u001b[0m \u001b[0mresult\u001b[0m\u001b[0;34m\u001b[0m\u001b[0;34m\u001b[0m\u001b[0m\n\u001b[1;32m   2475\u001b[0m \u001b[0;34m\u001b[0m\u001b[0m\n",
            "\u001b[0;32m<decorator-gen-127>\u001b[0m in \u001b[0;36mprint_verilog\u001b[0;34m(self, line, cell)\u001b[0m\n",
            "\u001b[0;32m/usr/local/lib/python3.10/dist-packages/IPython/core/magic.py\u001b[0m in \u001b[0;36m<lambda>\u001b[0;34m(f, *a, **k)\u001b[0m\n\u001b[1;32m    185\u001b[0m     \u001b[0;31m# but it's overkill for just that one bit of state.\u001b[0m\u001b[0;34m\u001b[0m\u001b[0;34m\u001b[0m\u001b[0m\n\u001b[1;32m    186\u001b[0m     \u001b[0;32mdef\u001b[0m \u001b[0mmagic_deco\u001b[0m\u001b[0;34m(\u001b[0m\u001b[0marg\u001b[0m\u001b[0;34m)\u001b[0m\u001b[0;34m:\u001b[0m\u001b[0;34m\u001b[0m\u001b[0;34m\u001b[0m\u001b[0m\n\u001b[0;32m--> 187\u001b[0;31m         \u001b[0mcall\u001b[0m \u001b[0;34m=\u001b[0m \u001b[0;32mlambda\u001b[0m \u001b[0mf\u001b[0m\u001b[0;34m,\u001b[0m \u001b[0;34m*\u001b[0m\u001b[0ma\u001b[0m\u001b[0;34m,\u001b[0m \u001b[0;34m**\u001b[0m\u001b[0mk\u001b[0m\u001b[0;34m:\u001b[0m \u001b[0mf\u001b[0m\u001b[0;34m(\u001b[0m\u001b[0;34m*\u001b[0m\u001b[0ma\u001b[0m\u001b[0;34m,\u001b[0m \u001b[0;34m**\u001b[0m\u001b[0mk\u001b[0m\u001b[0;34m)\u001b[0m\u001b[0;34m\u001b[0m\u001b[0;34m\u001b[0m\u001b[0m\n\u001b[0m\u001b[1;32m    188\u001b[0m \u001b[0;34m\u001b[0m\u001b[0m\n\u001b[1;32m    189\u001b[0m         \u001b[0;32mif\u001b[0m \u001b[0mcallable\u001b[0m\u001b[0;34m(\u001b[0m\u001b[0marg\u001b[0m\u001b[0;34m)\u001b[0m\u001b[0;34m:\u001b[0m\u001b[0;34m\u001b[0m\u001b[0;34m\u001b[0m\u001b[0m\n",
            "\u001b[0;32m/usr/local/lib/python3.10/dist-packages/verilog/verilog.py\u001b[0m in \u001b[0;36mprint_verilog\u001b[0;34m(self, line, cell)\u001b[0m\n\u001b[1;32m     32\u001b[0m         \u001b[0mcolab\u001b[0m\u001b[0;34m.\u001b[0m\u001b[0mcommand_line\u001b[0m\u001b[0;34m(\u001b[0m\u001b[0margs\u001b[0m\u001b[0;34m)\u001b[0m\u001b[0;34m\u001b[0m\u001b[0;34m\u001b[0m\u001b[0m\n\u001b[1;32m     33\u001b[0m         \u001b[0mcolab\u001b[0m\u001b[0;34m.\u001b[0m\u001b[0mcommand_line\u001b[0m\u001b[0;34m(\u001b[0m\u001b[0;34m'/content/cad4u/verilog/netlistsvg/bin/netlistsvg.js output.json --skin /content/cad4u/verilog/netlistsvg/lib/default.svg'\u001b[0m\u001b[0;34m)\u001b[0m\u001b[0;34m\u001b[0m\u001b[0;34m\u001b[0m\u001b[0m\n\u001b[0;32m---> 34\u001b[0;31m         \u001b[0mcolab\u001b[0m\u001b[0;34m.\u001b[0m\u001b[0mdisplay_svg\u001b[0m\u001b[0;34m(\u001b[0m\u001b[0;34m'out.svg'\u001b[0m\u001b[0;34m)\u001b[0m\u001b[0;34m\u001b[0m\u001b[0;34m\u001b[0m\u001b[0m\n\u001b[0m\u001b[1;32m     35\u001b[0m \u001b[0;34m\u001b[0m\u001b[0m\n\u001b[1;32m     36\u001b[0m     \u001b[0;34m@\u001b[0m\u001b[0mcell_magic\u001b[0m\u001b[0;34m\u001b[0m\u001b[0;34m\u001b[0m\u001b[0m\n",
            "\u001b[0;32m/usr/local/lib/python3.10/dist-packages/common/tool.py\u001b[0m in \u001b[0;36mdisplay_svg\u001b[0;34m(self, file_path)\u001b[0m\n\u001b[1;32m    125\u001b[0m         \u001b[0;32mif\u001b[0m \u001b[0;34m\".svg\"\u001b[0m \u001b[0;32mnot\u001b[0m \u001b[0;32min\u001b[0m \u001b[0mfile_path\u001b[0m\u001b[0;34m:\u001b[0m\u001b[0;34m\u001b[0m\u001b[0;34m\u001b[0m\u001b[0m\n\u001b[1;32m    126\u001b[0m             \u001b[0mfile_path\u001b[0m \u001b[0;34m+=\u001b[0m \u001b[0;34m\".svg\"\u001b[0m\u001b[0;34m\u001b[0m\u001b[0;34m\u001b[0m\u001b[0m\n\u001b[0;32m--> 127\u001b[0;31m         \u001b[0mdisplay\u001b[0m\u001b[0;34m(\u001b[0m\u001b[0mSVG\u001b[0m\u001b[0;34m(\u001b[0m\u001b[0;34m'/content/'\u001b[0m\u001b[0;34m+\u001b[0m\u001b[0mfile_path\u001b[0m\u001b[0;34m)\u001b[0m\u001b[0;34m)\u001b[0m\u001b[0;34m\u001b[0m\u001b[0;34m\u001b[0m\u001b[0m\n\u001b[0m\u001b[1;32m    128\u001b[0m \u001b[0;34m\u001b[0m\u001b[0m\n\u001b[1;32m    129\u001b[0m     \u001b[0;32mdef\u001b[0m \u001b[0mdisplay_wavedrowm\u001b[0m\u001b[0;34m(\u001b[0m\u001b[0mself\u001b[0m\u001b[0;34m,\u001b[0m \u001b[0mfile_path\u001b[0m\u001b[0;34m)\u001b[0m\u001b[0;34m:\u001b[0m\u001b[0;34m\u001b[0m\u001b[0;34m\u001b[0m\u001b[0m\n",
            "\u001b[0;32m/usr/local/lib/python3.10/dist-packages/IPython/core/display.py\u001b[0m in \u001b[0;36m__init__\u001b[0;34m(self, data, url, filename, metadata)\u001b[0m\n\u001b[1;32m    628\u001b[0m         \u001b[0;31m# subclasses ensure url and filename are set\u001b[0m\u001b[0;34m\u001b[0m\u001b[0;34m\u001b[0m\u001b[0m\n\u001b[1;32m    629\u001b[0m         \u001b[0;31m# before assigning to self.data\u001b[0m\u001b[0;34m\u001b[0m\u001b[0;34m\u001b[0m\u001b[0m\n\u001b[0;32m--> 630\u001b[0;31m         \u001b[0mself\u001b[0m\u001b[0;34m.\u001b[0m\u001b[0mdata\u001b[0m \u001b[0;34m=\u001b[0m \u001b[0mdata\u001b[0m\u001b[0;34m\u001b[0m\u001b[0;34m\u001b[0m\u001b[0m\n\u001b[0m\u001b[1;32m    631\u001b[0m \u001b[0;34m\u001b[0m\u001b[0m\n\u001b[1;32m    632\u001b[0m         \u001b[0;32mif\u001b[0m \u001b[0mmetadata\u001b[0m \u001b[0;32mis\u001b[0m \u001b[0;32mnot\u001b[0m \u001b[0;32mNone\u001b[0m\u001b[0;34m:\u001b[0m\u001b[0;34m\u001b[0m\u001b[0;34m\u001b[0m\u001b[0m\n",
            "\u001b[0;32m/usr/local/lib/python3.10/dist-packages/IPython/core/display.py\u001b[0m in \u001b[0;36mdata\u001b[0;34m(self, svg)\u001b[0m\n\u001b[1;32m    782\u001b[0m         \u001b[0;31m# parse into dom object\u001b[0m\u001b[0;34m\u001b[0m\u001b[0;34m\u001b[0m\u001b[0m\n\u001b[1;32m    783\u001b[0m         \u001b[0;32mfrom\u001b[0m \u001b[0mxml\u001b[0m\u001b[0;34m.\u001b[0m\u001b[0mdom\u001b[0m \u001b[0;32mimport\u001b[0m \u001b[0mminidom\u001b[0m\u001b[0;34m\u001b[0m\u001b[0;34m\u001b[0m\u001b[0m\n\u001b[0;32m--> 784\u001b[0;31m         \u001b[0mx\u001b[0m \u001b[0;34m=\u001b[0m \u001b[0mminidom\u001b[0m\u001b[0;34m.\u001b[0m\u001b[0mparseString\u001b[0m\u001b[0;34m(\u001b[0m\u001b[0msvg\u001b[0m\u001b[0;34m)\u001b[0m\u001b[0;34m\u001b[0m\u001b[0;34m\u001b[0m\u001b[0m\n\u001b[0m\u001b[1;32m    785\u001b[0m         \u001b[0;31m# get svg tag (should be 1)\u001b[0m\u001b[0;34m\u001b[0m\u001b[0;34m\u001b[0m\u001b[0m\n\u001b[1;32m    786\u001b[0m         \u001b[0mfound_svg\u001b[0m \u001b[0;34m=\u001b[0m \u001b[0mx\u001b[0m\u001b[0;34m.\u001b[0m\u001b[0mgetElementsByTagName\u001b[0m\u001b[0;34m(\u001b[0m\u001b[0;34m'svg'\u001b[0m\u001b[0;34m)\u001b[0m\u001b[0;34m\u001b[0m\u001b[0;34m\u001b[0m\u001b[0m\n",
            "\u001b[0;32m/usr/lib/python3.10/xml/dom/minidom.py\u001b[0m in \u001b[0;36mparseString\u001b[0;34m(string, parser)\u001b[0m\n\u001b[1;32m   1998\u001b[0m     \u001b[0;32mif\u001b[0m \u001b[0mparser\u001b[0m \u001b[0;32mis\u001b[0m \u001b[0;32mNone\u001b[0m\u001b[0;34m:\u001b[0m\u001b[0;34m\u001b[0m\u001b[0;34m\u001b[0m\u001b[0m\n\u001b[1;32m   1999\u001b[0m         \u001b[0;32mfrom\u001b[0m \u001b[0mxml\u001b[0m\u001b[0;34m.\u001b[0m\u001b[0mdom\u001b[0m \u001b[0;32mimport\u001b[0m \u001b[0mexpatbuilder\u001b[0m\u001b[0;34m\u001b[0m\u001b[0;34m\u001b[0m\u001b[0m\n\u001b[0;32m-> 2000\u001b[0;31m         \u001b[0;32mreturn\u001b[0m \u001b[0mexpatbuilder\u001b[0m\u001b[0;34m.\u001b[0m\u001b[0mparseString\u001b[0m\u001b[0;34m(\u001b[0m\u001b[0mstring\u001b[0m\u001b[0;34m)\u001b[0m\u001b[0;34m\u001b[0m\u001b[0;34m\u001b[0m\u001b[0m\n\u001b[0m\u001b[1;32m   2001\u001b[0m     \u001b[0;32melse\u001b[0m\u001b[0;34m:\u001b[0m\u001b[0;34m\u001b[0m\u001b[0;34m\u001b[0m\u001b[0m\n\u001b[1;32m   2002\u001b[0m         \u001b[0;32mfrom\u001b[0m \u001b[0mxml\u001b[0m\u001b[0;34m.\u001b[0m\u001b[0mdom\u001b[0m \u001b[0;32mimport\u001b[0m \u001b[0mpulldom\u001b[0m\u001b[0;34m\u001b[0m\u001b[0;34m\u001b[0m\u001b[0m\n",
            "\u001b[0;32m/usr/lib/python3.10/xml/dom/expatbuilder.py\u001b[0m in \u001b[0;36mparseString\u001b[0;34m(string, namespaces)\u001b[0m\n\u001b[1;32m    923\u001b[0m     \u001b[0;32melse\u001b[0m\u001b[0;34m:\u001b[0m\u001b[0;34m\u001b[0m\u001b[0;34m\u001b[0m\u001b[0m\n\u001b[1;32m    924\u001b[0m         \u001b[0mbuilder\u001b[0m \u001b[0;34m=\u001b[0m \u001b[0mExpatBuilder\u001b[0m\u001b[0;34m(\u001b[0m\u001b[0;34m)\u001b[0m\u001b[0;34m\u001b[0m\u001b[0;34m\u001b[0m\u001b[0m\n\u001b[0;32m--> 925\u001b[0;31m     \u001b[0;32mreturn\u001b[0m \u001b[0mbuilder\u001b[0m\u001b[0;34m.\u001b[0m\u001b[0mparseString\u001b[0m\u001b[0;34m(\u001b[0m\u001b[0mstring\u001b[0m\u001b[0;34m)\u001b[0m\u001b[0;34m\u001b[0m\u001b[0;34m\u001b[0m\u001b[0m\n\u001b[0m\u001b[1;32m    926\u001b[0m \u001b[0;34m\u001b[0m\u001b[0m\n\u001b[1;32m    927\u001b[0m \u001b[0;34m\u001b[0m\u001b[0m\n",
            "\u001b[0;32m/usr/lib/python3.10/xml/dom/expatbuilder.py\u001b[0m in \u001b[0;36mparseString\u001b[0;34m(self, string)\u001b[0m\n\u001b[1;32m    221\u001b[0m         \u001b[0mparser\u001b[0m \u001b[0;34m=\u001b[0m \u001b[0mself\u001b[0m\u001b[0;34m.\u001b[0m\u001b[0mgetParser\u001b[0m\u001b[0;34m(\u001b[0m\u001b[0;34m)\u001b[0m\u001b[0;34m\u001b[0m\u001b[0;34m\u001b[0m\u001b[0m\n\u001b[1;32m    222\u001b[0m         \u001b[0;32mtry\u001b[0m\u001b[0;34m:\u001b[0m\u001b[0;34m\u001b[0m\u001b[0;34m\u001b[0m\u001b[0m\n\u001b[0;32m--> 223\u001b[0;31m             \u001b[0mparser\u001b[0m\u001b[0;34m.\u001b[0m\u001b[0mParse\u001b[0m\u001b[0;34m(\u001b[0m\u001b[0mstring\u001b[0m\u001b[0;34m,\u001b[0m \u001b[0;32mTrue\u001b[0m\u001b[0;34m)\u001b[0m\u001b[0;34m\u001b[0m\u001b[0;34m\u001b[0m\u001b[0m\n\u001b[0m\u001b[1;32m    224\u001b[0m             \u001b[0mself\u001b[0m\u001b[0;34m.\u001b[0m\u001b[0m_setup_subset\u001b[0m\u001b[0;34m(\u001b[0m\u001b[0mstring\u001b[0m\u001b[0;34m)\u001b[0m\u001b[0;34m\u001b[0m\u001b[0;34m\u001b[0m\u001b[0m\n\u001b[1;32m    225\u001b[0m         \u001b[0;32mexcept\u001b[0m \u001b[0mParseEscape\u001b[0m\u001b[0;34m:\u001b[0m\u001b[0;34m\u001b[0m\u001b[0;34m\u001b[0m\u001b[0m\n",
            "\u001b[0;31mExpatError\u001b[0m: not well-formed (invalid token): line 1, column 0"
          ]
        }
      ],
      "source": [
        "%%print_verilog -top cache_read_only\n",
        "\n",
        "`include \"fsm.v\"\n",
        "`include \"mux.v\"\n",
        "`include \"ram.v\"\n",
        "`include \"valid.v\"\n",
        "`include \"dirty.v\"\n",
        "`include \"comparator.v\"\n",
        "`include \"counter.v\"\n",
        "`include \"Mtag.v\"\n",
        "`include \"datacache.v\"\n",
        "\n",
        "// *** ADD MODULES HERE ***\n",
        "\n",
        "module cache_read_only(\n",
        "clk, reset, address, dout, din\n",
        ");\n",
        "parameter cacheSize = 32;\n",
        "parameter ramSize = 2048;\n",
        "parameter blockSize = 8;\n",
        "\n",
        "parameter cacheLines = 4;\n",
        "parameter cacheLineBits = 2;\n",
        "parameter ramBits = 11;\n",
        "parameter blockBits = 3;\n",
        "parameter tagBits = 6;\n",
        "\n",
        "input clk;\n",
        "input reset;\n",
        "\n",
        "input [ramBits-1:0] address;\n",
        "\n",
        "output [7:0] dout;\n",
        "input [7:0] din;\n",
        "\n",
        "reg [7:0] dout;\n",
        "\n",
        "wire [cacheLineBits-1:0] line;\n",
        "\n",
        "wire [blockBits-1:0] blk;\n",
        "\n",
        "//wire [5:0] tag;\n",
        "wire [tagBits-1:0] tag;\n",
        "\n",
        "wire Done;\n",
        "\n",
        "assign tag = address[ramBits-1:blockBits+cacheLineBits];\n",
        "\n",
        "assign line = address[blockBits+cacheLineBits-1:blockBits];\n",
        "\n",
        "assign blk = address[blockBits-1:0];\n",
        "\n",
        "wire Twr,DTwr,Dwr,Rwr;\n",
        "wire RB_End, WB_End, cnt, c, v, w, Dmux;\n",
        "wire [7:0] Ram2Cache;\n",
        "\n",
        "wire [blockBits-1:0] Mux1;\n",
        "\n",
        "wire [blockBits-1:0] Muxout;\n",
        "\n",
        "wire MuxSel;\n",
        "\n",
        "wire [tagBits-1:0] Tout;\n",
        "\n",
        "wire [7:0] Cache2out;\n",
        "\n",
        "always @(*) begin\n",
        " dout = Cache2out;\n",
        "end\n",
        "\n",
        "fsm  FSM(\n",
        "  .clk (clk),\n",
        "  .reset (reset),\n",
        "  .op (op),\n",
        "  .c (c) ,\n",
        "  .v (v),\n",
        "  .RB_End (RB_End),\n",
        "  .WB_End (WB_End),\n",
        "  .Twr (Twr),\n",
        "  .DTwr (DTwr),\n",
        "  .Dwr (Dwr),\n",
        "  .Rwr (Rwr),\n",
        "  .Cnt (Cnt),\n",
        "  .Mux (MuxSel) , .Done(Done));\n",
        "\n",
        "valid V( .clk (clk), .line (line), .reset (reset),\n",
        "         .wr (Twr), .dout(v) );\n",
        "\n",
        "dirty D( .clk (clk), .line (line), .reset (reset),\n",
        "         .wr (DTwr), .dout(w) );\n",
        "\n",
        "Mtag  T( .clk (clk), .line (line),  .din(tag),\n",
        "       .wr(Twr), .dout(Tout), .reset(reset) );\n",
        "\n",
        "comparator comp(.out(c), .tag(tag), .tag_in(Tout));\n",
        "\n",
        "datacache  dcache( .clk (clk), .line (line), .blk(Muxout),\n",
        "                  .din(Ram2Cache), .wr(Dwr), .dout(Cache2out) );\n",
        "\n",
        "ram  R ( .clk(clk), .addr({tag,line,Mux1}), .din(din), .wr(Rwr), .dout(Ram2Cache), .reset(reset) );\n",
        "\n",
        "wire [ramBits:0] concat_addr;\n",
        "\n",
        "assign concat_addr = {tag,line,Muxout};\n",
        "\n",
        "mux  DataMux( .din_0 (blk), .din_1(Mux1), .sel(MuxSel) , .mux_out (Muxout));\n",
        "\n",
        "\n",
        "counter countR(.out(Mux1), .clk(clk), .reset(Cnt), .End(RB_End));\n",
        "\n",
        "counter countW(.out(Mux1), .clk(clk), .reset(Cnt), .End(WB_End));\n",
        "\n",
        "\n",
        "endmodule\n"
      ]
    },
    {
      "cell_type": "markdown",
      "source": [],
      "metadata": {
        "id": "tiZc-1CO99Bs"
      }
    },
    {
      "cell_type": "code",
      "execution_count": null,
      "metadata": {
        "colab": {
          "base_uri": "https://localhost:8080/"
        },
        "id": "5BVo9l9POM7b",
        "outputId": "1b5a19c9-6882-45cb-eccd-fc7daeec0ae5"
      },
      "outputs": [
        {
          "output_type": "stream",
          "name": "stdout",
          "text": [
            "Collecting svgutils\n",
            "  Downloading svgutils-0.3.4-py3-none-any.whl (10 kB)\n",
            "Requirement already satisfied: lxml in /usr/local/lib/python3.10/dist-packages (from svgutils) (4.9.2)\n",
            "Installing collected packages: svgutils\n",
            "Successfully installed svgutils-0.3.4\n"
          ]
        }
      ],
      "source": [
        "!pip install svgutils"
      ]
    },
    {
      "cell_type": "code",
      "execution_count": null,
      "metadata": {
        "id": "nSUOjYmJ_THz",
        "colab": {
          "base_uri": "https://localhost:8080/",
          "height": 380
        },
        "outputId": "8fdc1a37-d271-4d19-c504-7a88372ee324"
      },
      "outputs": [
        {
          "output_type": "error",
          "ename": "ExpatError",
          "evalue": "ignored",
          "traceback": [
            "\u001b[0;31m---------------------------------------------------------------------------\u001b[0m",
            "\u001b[0;31mExpatError\u001b[0m                                Traceback (most recent call last)",
            "\u001b[0;32m<ipython-input-24-b6a8e9c1d0cd>\u001b[0m in \u001b[0;36m<cell line: 2>\u001b[0;34m()\u001b[0m\n\u001b[1;32m      1\u001b[0m \u001b[0;32mfrom\u001b[0m \u001b[0mIPython\u001b[0m\u001b[0;34m.\u001b[0m\u001b[0mdisplay\u001b[0m \u001b[0;32mimport\u001b[0m \u001b[0mSVG\u001b[0m\u001b[0;34m\u001b[0m\u001b[0;34m\u001b[0m\u001b[0m\n\u001b[0;32m----> 2\u001b[0;31m \u001b[0mSVG\u001b[0m\u001b[0;34m(\u001b[0m\u001b[0;34m\"out.svg\"\u001b[0m\u001b[0;34m)\u001b[0m\u001b[0;34m\u001b[0m\u001b[0;34m\u001b[0m\u001b[0m\n\u001b[0m\u001b[1;32m      3\u001b[0m \u001b[0;34m\u001b[0m\u001b[0m\n\u001b[1;32m      4\u001b[0m \u001b[0;32mimport\u001b[0m \u001b[0msvgutils\u001b[0m\u001b[0;34m\u001b[0m\u001b[0;34m\u001b[0m\u001b[0m\n\u001b[1;32m      5\u001b[0m \u001b[0msvg\u001b[0m \u001b[0;34m=\u001b[0m \u001b[0msvgutils\u001b[0m\u001b[0;34m.\u001b[0m\u001b[0mtransform\u001b[0m\u001b[0;34m.\u001b[0m\u001b[0mfromfile\u001b[0m\u001b[0;34m(\u001b[0m\u001b[0;34m'out.svg'\u001b[0m\u001b[0;34m)\u001b[0m\u001b[0;34m\u001b[0m\u001b[0;34m\u001b[0m\u001b[0m\n",
            "\u001b[0;32m/usr/local/lib/python3.10/dist-packages/IPython/core/display.py\u001b[0m in \u001b[0;36m__init__\u001b[0;34m(self, data, url, filename, metadata)\u001b[0m\n\u001b[1;32m    628\u001b[0m         \u001b[0;31m# subclasses ensure url and filename are set\u001b[0m\u001b[0;34m\u001b[0m\u001b[0;34m\u001b[0m\u001b[0m\n\u001b[1;32m    629\u001b[0m         \u001b[0;31m# before assigning to self.data\u001b[0m\u001b[0;34m\u001b[0m\u001b[0;34m\u001b[0m\u001b[0m\n\u001b[0;32m--> 630\u001b[0;31m         \u001b[0mself\u001b[0m\u001b[0;34m.\u001b[0m\u001b[0mdata\u001b[0m \u001b[0;34m=\u001b[0m \u001b[0mdata\u001b[0m\u001b[0;34m\u001b[0m\u001b[0;34m\u001b[0m\u001b[0m\n\u001b[0m\u001b[1;32m    631\u001b[0m \u001b[0;34m\u001b[0m\u001b[0m\n\u001b[1;32m    632\u001b[0m         \u001b[0;32mif\u001b[0m \u001b[0mmetadata\u001b[0m \u001b[0;32mis\u001b[0m \u001b[0;32mnot\u001b[0m \u001b[0;32mNone\u001b[0m\u001b[0;34m:\u001b[0m\u001b[0;34m\u001b[0m\u001b[0;34m\u001b[0m\u001b[0m\n",
            "\u001b[0;32m/usr/local/lib/python3.10/dist-packages/IPython/core/display.py\u001b[0m in \u001b[0;36mdata\u001b[0;34m(self, svg)\u001b[0m\n\u001b[1;32m    782\u001b[0m         \u001b[0;31m# parse into dom object\u001b[0m\u001b[0;34m\u001b[0m\u001b[0;34m\u001b[0m\u001b[0m\n\u001b[1;32m    783\u001b[0m         \u001b[0;32mfrom\u001b[0m \u001b[0mxml\u001b[0m\u001b[0;34m.\u001b[0m\u001b[0mdom\u001b[0m \u001b[0;32mimport\u001b[0m \u001b[0mminidom\u001b[0m\u001b[0;34m\u001b[0m\u001b[0;34m\u001b[0m\u001b[0m\n\u001b[0;32m--> 784\u001b[0;31m         \u001b[0mx\u001b[0m \u001b[0;34m=\u001b[0m \u001b[0mminidom\u001b[0m\u001b[0;34m.\u001b[0m\u001b[0mparseString\u001b[0m\u001b[0;34m(\u001b[0m\u001b[0msvg\u001b[0m\u001b[0;34m)\u001b[0m\u001b[0;34m\u001b[0m\u001b[0;34m\u001b[0m\u001b[0m\n\u001b[0m\u001b[1;32m    785\u001b[0m         \u001b[0;31m# get svg tag (should be 1)\u001b[0m\u001b[0;34m\u001b[0m\u001b[0;34m\u001b[0m\u001b[0m\n\u001b[1;32m    786\u001b[0m         \u001b[0mfound_svg\u001b[0m \u001b[0;34m=\u001b[0m \u001b[0mx\u001b[0m\u001b[0;34m.\u001b[0m\u001b[0mgetElementsByTagName\u001b[0m\u001b[0;34m(\u001b[0m\u001b[0;34m'svg'\u001b[0m\u001b[0;34m)\u001b[0m\u001b[0;34m\u001b[0m\u001b[0;34m\u001b[0m\u001b[0m\n",
            "\u001b[0;32m/usr/lib/python3.10/xml/dom/minidom.py\u001b[0m in \u001b[0;36mparseString\u001b[0;34m(string, parser)\u001b[0m\n\u001b[1;32m   1998\u001b[0m     \u001b[0;32mif\u001b[0m \u001b[0mparser\u001b[0m \u001b[0;32mis\u001b[0m \u001b[0;32mNone\u001b[0m\u001b[0;34m:\u001b[0m\u001b[0;34m\u001b[0m\u001b[0;34m\u001b[0m\u001b[0m\n\u001b[1;32m   1999\u001b[0m         \u001b[0;32mfrom\u001b[0m \u001b[0mxml\u001b[0m\u001b[0;34m.\u001b[0m\u001b[0mdom\u001b[0m \u001b[0;32mimport\u001b[0m \u001b[0mexpatbuilder\u001b[0m\u001b[0;34m\u001b[0m\u001b[0;34m\u001b[0m\u001b[0m\n\u001b[0;32m-> 2000\u001b[0;31m         \u001b[0;32mreturn\u001b[0m \u001b[0mexpatbuilder\u001b[0m\u001b[0;34m.\u001b[0m\u001b[0mparseString\u001b[0m\u001b[0;34m(\u001b[0m\u001b[0mstring\u001b[0m\u001b[0;34m)\u001b[0m\u001b[0;34m\u001b[0m\u001b[0;34m\u001b[0m\u001b[0m\n\u001b[0m\u001b[1;32m   2001\u001b[0m     \u001b[0;32melse\u001b[0m\u001b[0;34m:\u001b[0m\u001b[0;34m\u001b[0m\u001b[0;34m\u001b[0m\u001b[0m\n\u001b[1;32m   2002\u001b[0m         \u001b[0;32mfrom\u001b[0m \u001b[0mxml\u001b[0m\u001b[0;34m.\u001b[0m\u001b[0mdom\u001b[0m \u001b[0;32mimport\u001b[0m \u001b[0mpulldom\u001b[0m\u001b[0;34m\u001b[0m\u001b[0;34m\u001b[0m\u001b[0m\n",
            "\u001b[0;32m/usr/lib/python3.10/xml/dom/expatbuilder.py\u001b[0m in \u001b[0;36mparseString\u001b[0;34m(string, namespaces)\u001b[0m\n\u001b[1;32m    923\u001b[0m     \u001b[0;32melse\u001b[0m\u001b[0;34m:\u001b[0m\u001b[0;34m\u001b[0m\u001b[0;34m\u001b[0m\u001b[0m\n\u001b[1;32m    924\u001b[0m         \u001b[0mbuilder\u001b[0m \u001b[0;34m=\u001b[0m \u001b[0mExpatBuilder\u001b[0m\u001b[0;34m(\u001b[0m\u001b[0;34m)\u001b[0m\u001b[0;34m\u001b[0m\u001b[0;34m\u001b[0m\u001b[0m\n\u001b[0;32m--> 925\u001b[0;31m     \u001b[0;32mreturn\u001b[0m \u001b[0mbuilder\u001b[0m\u001b[0;34m.\u001b[0m\u001b[0mparseString\u001b[0m\u001b[0;34m(\u001b[0m\u001b[0mstring\u001b[0m\u001b[0;34m)\u001b[0m\u001b[0;34m\u001b[0m\u001b[0;34m\u001b[0m\u001b[0m\n\u001b[0m\u001b[1;32m    926\u001b[0m \u001b[0;34m\u001b[0m\u001b[0m\n\u001b[1;32m    927\u001b[0m \u001b[0;34m\u001b[0m\u001b[0m\n",
            "\u001b[0;32m/usr/lib/python3.10/xml/dom/expatbuilder.py\u001b[0m in \u001b[0;36mparseString\u001b[0;34m(self, string)\u001b[0m\n\u001b[1;32m    221\u001b[0m         \u001b[0mparser\u001b[0m \u001b[0;34m=\u001b[0m \u001b[0mself\u001b[0m\u001b[0;34m.\u001b[0m\u001b[0mgetParser\u001b[0m\u001b[0;34m(\u001b[0m\u001b[0;34m)\u001b[0m\u001b[0;34m\u001b[0m\u001b[0;34m\u001b[0m\u001b[0m\n\u001b[1;32m    222\u001b[0m         \u001b[0;32mtry\u001b[0m\u001b[0;34m:\u001b[0m\u001b[0;34m\u001b[0m\u001b[0;34m\u001b[0m\u001b[0m\n\u001b[0;32m--> 223\u001b[0;31m             \u001b[0mparser\u001b[0m\u001b[0;34m.\u001b[0m\u001b[0mParse\u001b[0m\u001b[0;34m(\u001b[0m\u001b[0mstring\u001b[0m\u001b[0;34m,\u001b[0m \u001b[0;32mTrue\u001b[0m\u001b[0;34m)\u001b[0m\u001b[0;34m\u001b[0m\u001b[0;34m\u001b[0m\u001b[0m\n\u001b[0m\u001b[1;32m    224\u001b[0m             \u001b[0mself\u001b[0m\u001b[0;34m.\u001b[0m\u001b[0m_setup_subset\u001b[0m\u001b[0;34m(\u001b[0m\u001b[0mstring\u001b[0m\u001b[0;34m)\u001b[0m\u001b[0;34m\u001b[0m\u001b[0;34m\u001b[0m\u001b[0m\n\u001b[1;32m    225\u001b[0m         \u001b[0;32mexcept\u001b[0m \u001b[0mParseEscape\u001b[0m\u001b[0;34m:\u001b[0m\u001b[0;34m\u001b[0m\u001b[0;34m\u001b[0m\u001b[0m\n",
            "\u001b[0;31mExpatError\u001b[0m: syntax error: line 1, column 0"
          ]
        }
      ],
      "source": [
        "from IPython.display import SVG\n",
        "SVG(\"out.svg\")\n",
        "\n",
        "import svgutils\n",
        "svg = svgutils.transform.fromfile('out.svg')\n",
        "originalSVG = svgutils.compose.SVG('out.svg')\n",
        "originalSVG.scale(0.5)\n",
        "figure = svgutils.compose.Figure(float(svg.height) * 2, float(svg.width) * 2, originalSVG)\n",
        "figure.save('New.svg')\n",
        "\n"
      ]
    },
    {
      "cell_type": "markdown",
      "metadata": {
        "id": "5mNOB1yHfPdH"
      },
      "source": []
    },
    {
      "cell_type": "code",
      "execution_count": null,
      "metadata": {
        "id": "AbnchreNUWKI"
      },
      "outputs": [],
      "source": [
        "%%writefile main.v\n",
        "\n",
        "`include \"fsm.v\"\n",
        "`include \"mux.v\"\n",
        "`include \"ram.v\"\n",
        "`include \"valid.v\"\n",
        "`include \"comparator.v\"\n",
        "`include \"counter.v\"\n",
        "`include \"Mtag.v\"\n",
        "`include \"datacache.v\"\n",
        "\n",
        "// *** ADD MODULES HERE ***\n",
        "\n",
        "module cache_read_only(\n",
        "clk, reset, address, dout, din\n",
        ");\n",
        "parameter cacheSize = 32;\n",
        "parameter ramSize = 2048;\n",
        "parameter blockSize = 8;\n",
        "\n",
        "parameter cacheLines = 4;\n",
        "parameter cacheLineBits = 2;\n",
        "parameter ramBits = 11;\n",
        "parameter blockBits = 3;\n",
        "parameter tagBits = 6;\n",
        "\n",
        "input clk;\n",
        "input reset;\n",
        "\n",
        "//input [10:0] address;\n",
        "input [ramBits-1:0] address;\n",
        "\n",
        "output [7:0] dout;\n",
        "input [7:0] din;\n",
        "\n",
        "output [5:0] debug;\n",
        "//output [tagBits-1:0] debug;\n",
        "\n",
        "reg [5:0] debug;\n",
        "//reg [tagBits-1:0] debug;\n",
        "\n",
        "reg [7:0] dout;\n",
        "\n",
        "//wire [1:0] line;\n",
        "wire [cacheLineBits-1:0] line;\n",
        "\n",
        "//wire [2:0] blk;\n",
        "wire [blockBits-1:0] blk;\n",
        "\n",
        "//wire [5:0] tag;\n",
        "wire [tagBits-1:0] tag;\n",
        "\n",
        "wire Done;\n",
        "\n",
        "assign tag = address[ramBits-1:blockBits+cacheLineBits];\n",
        "\n",
        "assign line = address[blockBits+cacheLineBits-1:blockBits];\n",
        "\n",
        "assign blk = address[blockBits-1:0];\n",
        "\n",
        "wire Twr,Dwr,Rwr;\n",
        "wire END, cnt, c, v, Dmux;\n",
        "wire [7:0] Ram2Cache;\n",
        "\n",
        "wire [blockBits-1:0] Mux1;\n",
        "\n",
        "wire [blockBits-1:0] Muxout;\n",
        "\n",
        "wire MuxSel;\n",
        "\n",
        "wire [tagBits-1:0] Tout;\n",
        "\n",
        "wire [7:0] Cache2out;\n",
        "\n",
        "always @(*) begin\n",
        " dout = Cache2out;\n",
        "end\n",
        "\n",
        "fsm  FSM(\n",
        "  .clk (clk),\n",
        "  .reset (reset),\n",
        "  .c (c) ,\n",
        "  .v (v),\n",
        "  .END (END),\n",
        "  .Twr (Twr),\n",
        "  .Dwr (Dwr),\n",
        "  .Rwr (Rwr),\n",
        "  .Cnt (Cnt),\n",
        "  .Mux (MuxSel) , .Done(Done));\n",
        "\n",
        "valid #(cacheLineBits,cacheLines,\"validData.txt\")V( .clk (clk), .line (line), .reset (reset),\n",
        "         .wr (Twr), .dout(v) );\n",
        "\n",
        "Mtag #(cacheLineBits,tagBits,cacheLines,\"mtagData.txt\") T( .clk (clk), .line (line),  .din(tag),\n",
        "       .wr(Twr), .dout(Tout), .reset(reset) );\n",
        "\n",
        "comparator #(tagBits) comp(.out(c), .tag(tag), .tag_in(Tout));\n",
        "\n",
        "datacache #(blockBits,cacheLineBits,cacheSize) dcache( .clk (clk), .line (line), .blk(Muxout),\n",
        "                  .din(Ram2Cache), .wr(Dwr), .dout(Cache2out) );\n",
        "\n",
        "ram #(ramBits,ramSize) R ( .clk(clk), .addr({tag,line,Mux1}), .din(din), .wr(Rwr), .dout(Ram2Cache), .reset(reset) );\n",
        "\n",
        "wire [ramBits:0] concat_addr;\n",
        "\n",
        "assign concat_addr = {tag,line,Muxout};\n",
        "\n",
        "mux #(blockBits) DataMux( .din_0 (blk), .din_1(Mux1), .sel(MuxSel) , .mux_out (Muxout));\n",
        "\n",
        "counter #(blockBits,blockSize) count(.out(Mux1), .clk(clk), .reset(Cnt), .End(END));\n",
        "\n",
        "\n",
        "endmodule\n"
      ]
    },
    {
      "cell_type": "markdown",
      "metadata": {
        "id": "-ABevsq6Vm7S"
      },
      "source": [
        "### Testbench Module\n",
        "\n",
        "Evaluate a cache:\n",
        "* Cache Size of 64 bytes;\n",
        "* Ram Size of 4096 bytes;\n",
        "* Cache Data block of 4 bytes;"
      ]
    },
    {
      "cell_type": "markdown",
      "metadata": {
        "id": "yM5siRQYe4wn"
      },
      "source": [
        "#### Parameters file\n",
        "\n",
        "[Desenho Excalidraw](https://excalidraw.com/#json=Zoi-SJiNSixjRiGovKZp8,zojAkxOQCNkw2CRle1S0vw)"
      ]
    },
    {
      "cell_type": "code",
      "execution_count": null,
      "metadata": {
        "id": "ozCG9u4CXgIB"
      },
      "outputs": [],
      "source": [
        "%%writefile parameter.v\n",
        "parameter cacheSize = 16;\n",
        "parameter ramSize = 1024;\n",
        "parameter blockSize = 4;"
      ]
    },
    {
      "cell_type": "markdown",
      "metadata": {
        "id": "JbQuRHWko6OL"
      },
      "source": [
        "##### Second Example\n",
        " [Address Sequence](https://excalidraw.com/#json=XcXAHhqEgrpJDPQbZGR96,23lrXTNCEafioIZjnS5fNw)"
      ]
    },
    {
      "cell_type": "code",
      "execution_count": null,
      "metadata": {
        "id": "tiMsdxC4pEF4"
      },
      "outputs": [],
      "source": [
        "%%writefile parameter.v\n",
        "parameter cacheSize = 64;\n",
        "parameter ramSize = 4096;\n",
        "parameter blockSize = 4;"
      ]
    },
    {
      "cell_type": "code",
      "execution_count": null,
      "metadata": {
        "id": "jJ-zOGTQo5NU"
      },
      "outputs": [],
      "source": [
        "%%writefile parameter.v\n",
        "parameter cacheSize = 16;\n",
        "parameter ramSize = 1024;\n",
        "parameter blockSize = 4;"
      ]
    },
    {
      "cell_type": "markdown",
      "metadata": {
        "id": "AoP6NjSPe8lx"
      },
      "source": [
        "#### A Sequence of addresses\n",
        "\n",
        "To validate the cache. Assuming 25 clock cycles (50 ticks) to be sure that the block is in the cache in case of miss."
      ]
    },
    {
      "cell_type": "code",
      "execution_count": null,
      "metadata": {
        "id": "Vk3ZJHR4YWSU"
      },
      "outputs": [],
      "source": [
        "%%writefile input.v\n",
        "address=0;\n",
        "#16\n",
        "address=20;\n",
        "#16\n",
        "address=72;\n",
        "#16\n",
        "address=12;\n",
        "#16\n",
        "address=29;\n",
        "#16"
      ]
    },
    {
      "cell_type": "markdown",
      "metadata": {
        "id": "RUOynOajfPAm"
      },
      "source": [
        "#### Create the Parametrizable Testbench\n",
        "* Parameter.v file\n",
        "  * Receive the Cache parameters (size and block)\n",
        "  * Receive the Ram memory size\n",
        "* Input.v file  \n",
        "  * Receive a sequence of addresses to evaluate the cache design\n",
        "\n",
        "* Assuming the initial RAM contents is M[i] = i;"
      ]
    },
    {
      "cell_type": "code",
      "execution_count": null,
      "metadata": {
        "id": "rEvR7VsGVqv7"
      },
      "outputs": [],
      "source": [
        "%%writefile tb.v\n",
        "`include \"main.v\"\n",
        "\n",
        "module tb();\n",
        "//fill here the new values ​​for your memory\n",
        "`include \"parameter.v\"\n",
        "\n",
        "//parameters generated from current memory\n",
        "parameter cacheLine = cacheSize/blockSize; //lines of cache\n",
        "parameter cacheLineBits = $clog2(cacheLine);\n",
        "parameter ramBits = $clog2(ramSize);\n",
        "parameter blockBits = $clog2(blockSize);\n",
        "parameter tagBits = ramBits-blockBits-cacheLineBits;\n",
        "\n",
        "wire[32:0] a = cacheSize;\n",
        "wire[32:0] b = ramSize ;\n",
        "wire[32:0] c = blockSize;\n",
        "\n",
        "//parameters generated from current memory\n",
        "wire[32:0] d = cacheLine ;\n",
        "wire[32:0] e = cacheLineBits;\n",
        "wire[32:0] f = ramBits;\n",
        "wire[32:0] g = blockBits;\n",
        "wire[32:0] h = tagBits;\n",
        "\n",
        "reg op;\n",
        "reg [ramBits-1:0] address;\n",
        "reg [7:0] din;\n",
        "reg clk,reset;\n",
        "wire [7:0] dout;\n",
        "integer k;\n",
        "\n",
        "cache_read_only #(cacheSize,ramSize,blockSize,cacheLine,cacheLineBits,ramBits,blockBits,tagBits)\n",
        " Cache (clk, reset, address, dout, din);\n",
        "\n",
        "\n",
        "initial begin\n",
        "  clk=0;\n",
        "     forever #1 clk = ~clk;\n",
        "end\n",
        "\n",
        "reg  [5:0] clock_counter;\n",
        "\tinitial begin\n",
        "\t\tclock_counter <= 6'd1;\n",
        "\tend\n",
        "        always @(posedge clk) begin\n",
        "                clock_counter <= clock_counter + 1;\n",
        "\tend\n",
        "\n",
        "\n",
        "initial begin\n",
        "$dumpfile(\"test.vcd\");\n",
        "$dumpvars;\n",
        "address=0;\n",
        "reset = 1;\n",
        "#2\n",
        "op=0;\n",
        "reset=0;\n",
        "#4\n",
        "`include \"input.v\"\n",
        "\n",
        "//very important to remember to call both caches\n",
        "$writememh(\"cache.data\", tb.Cache.dcache.memory, 0, cacheSize-1);\n",
        "$writememh(\"tag.data\", tb.Cache.T.memory, 0, cacheLine-1);\n",
        "$writememh(\"valid.data\", tb.Cache.V.memory, 0, cacheLine-1);\n",
        "$writememh(\"ram.data\", tb.Cache.R.memory, 0, ramSize-1);\n",
        "$dumpoff;\n",
        "$finish;\n",
        "end\n",
        "endmodule\n"
      ]
    },
    {
      "cell_type": "markdown",
      "metadata": {
        "id": "aeL0Cpfh9-x8"
      },
      "source": [
        "### Test for modularized part"
      ]
    },
    {
      "cell_type": "code",
      "execution_count": null,
      "metadata": {
        "id": "0UyqBQkBzsaF"
      },
      "outputs": [],
      "source": [
        "%%verilog\n",
        "`include \"tb.v\""
      ]
    },
    {
      "cell_type": "markdown",
      "metadata": {
        "id": "I1Ajc9bWvn-3"
      },
      "source": [
        "ramBits-1:blockBits+cacheLineBits"
      ]
    },
    {
      "cell_type": "code",
      "execution_count": null,
      "metadata": {
        "id": "wnNGk8QErIL8"
      },
      "outputs": [],
      "source": [
        "%%waveform test.vcd\n",
        "\n",
        "op_dict = [{'0':'ReadTag','1':'ReadData','10':'ReadBlk', '11':'UpdateTag', '100':'Reset'}]\n",
        "\n",
        "\n",
        "sign_list = ['tb.clk', 'tb.e', 'tb.f','tb.g', 'tb.h','tb.Cache.concat_addr', 'tb.Cache.address', 'tb.Cache.tag','tb.Cache.line', 'tb.Cache.Mux1','tb.Cache.Ram2Cache', 'tb.Cache.FSM.state,r[0]','tb.Cache.v', 'tb.Cache.Done', 'tb.clock_counter', 'tb.address', 'tb.dout']\n",
        "time_begin = 36\n",
        "time_end = 56\n",
        "base = 'dec' # bin, dec, dec2, hex, octal"
      ]
    },
    {
      "cell_type": "code",
      "execution_count": null,
      "metadata": {
        "id": "p5bnTmjUmwxe"
      },
      "outputs": [],
      "source": [
        "def printAux(arq1,arq2,arq3):\n",
        "  arq_valid = open(arq1,'r')\n",
        "  arq_tag = open(arq2,'r')\n",
        "  arq_caches = open(arq3,'r')\n",
        "\n",
        "  def erase(list):\n",
        "    for auto in list:\n",
        "      if auto[0] == '/': list.remove(auto)\n",
        "\n",
        "  valids = arq_valid.readlines()\n",
        "  tags = arq_tag.readlines()\n",
        "  caches = arq_caches.readlines()\n",
        "\n",
        "  erase(valids)\n",
        "  erase(tags)\n",
        "  erase(caches)\n",
        "\n",
        "  stop = int((len(caches))/len(tags))\n",
        "  valid = iter(valids)\n",
        "  cache = iter(caches)\n",
        "\n",
        "  j = int(0)\n",
        "  i = int(0)\n",
        "\n",
        "  print(\"Line| V | Tag | Data\")\n",
        "  print(\"---|---|---|---|\")\n",
        "\n",
        "  for tag in tags:\n",
        "    print(i,end = \" | \")\n",
        "    aux = valid.__next__().rstrip('\\n')\n",
        "    print(aux,end=\" | \")\n",
        "    print(tag.rstrip('\\n'),end=\" | \")\n",
        "    # for cache in caches:\n",
        "    try:\n",
        "      while True:\n",
        "        if  j == stop * (i+1):\n",
        "          print()\n",
        "          break\n",
        "        print(cache.__next__().rstrip('\\n'),end = \" \")\n",
        "        j+=1\n",
        "    except StopIteration:\n",
        "      aux = 1  #ignore\n",
        "    i+=1\n",
        "    arq_valid.close()\n",
        "    arq_tag.close()\n",
        "    arq_caches.close()\n",
        "def printData():\n",
        "    printAux(\"valid.data\",\"tag.data\",\"cache.data\")\n",
        "\n",
        "printData()"
      ]
    },
    {
      "cell_type": "markdown",
      "source": [
        "Line| V | Tag | Data\n",
        "---|---|---|---|\n",
        "0 | 1 | 00 | 00 01 02 03\n",
        "1 | 0 | 04 | xx xx xx xx\n",
        "2 | 1 | 01 | 48 49 4a 4b\n",
        "3 | 1 | 00 | 0c 0d 0e 0f\n",
        "4 | 0 | xx | xx xx xx xx\n",
        "5 | 1 | 00 | 14 15 16 17\n",
        "6 | 0 | xx | xx xx xx xx\n",
        "7 | 1 | 00 | 1c 1d 1e 1f\n",
        "8 | 0 | xx | xx xx xx xx\n",
        "9 | 0 | xx | xx xx xx xx\n",
        "10 | 0 | xx | xx xx xx xx\n",
        "11 | 0 | xx | xx xx xx xx\n",
        "12 | 0 | xx | xx xx xx xx\n",
        "13 | 0 | xx | xx xx xx xx\n",
        "14 | 0 | xx | xx xx xx xx\n",
        "15 | 0 | xx | xx xx xx xx"
      ],
      "metadata": {
        "id": "wk6ratR5_O8M"
      }
    },
    {
      "cell_type": "markdown",
      "metadata": {
        "id": "XbARnDwyoXrX"
      },
      "source": [
        "The previous table is code in Markdown format, copy and paste it here\n",
        "\n",
        "[Excalidraw](https://excalidraw.com/#json=DDALUe6srMoFgedZ_flB-,ie_pgkZ2v-8zhfrhHO2CFQ)\n",
        "\n",
        "Line| V | Tag | Data\n",
        "---|---|---|---|\n",
        "0 | 1 | 00 | 00 01 02 03\n",
        "1 | 1 | 01 | 14 15 16 17\n",
        "2 | 1 | 04 | 48 49 4a 4b\n",
        "3 | 1 | 01 | 1c 1d 1e 1f"
      ]
    },
    {
      "cell_type": "markdown",
      "metadata": {
        "id": "50L9J5OIkGN1"
      },
      "source": [
        "## Interface Gradio\n",
        "\n",
        "**Gradio** is an interface module that allows you create an url so you may communicate to Colab.\n",
        "\n",
        "This Gradio module receive cache parameters and generate a verilog file with cache and sequence of access, then it compiles the file and run it. Once it's done, returns the interface showing the table data."
      ]
    },
    {
      "cell_type": "markdown",
      "metadata": {
        "id": "XO_pXox_j3vj"
      },
      "source": [
        "### Installing Gradio"
      ]
    },
    {
      "cell_type": "code",
      "execution_count": null,
      "metadata": {
        "id": "JXKnfqy_kh-C"
      },
      "outputs": [],
      "source": [
        "!pip install gradio &> /dev/null"
      ]
    },
    {
      "cell_type": "markdown",
      "metadata": {
        "id": "aoz9Tf8VPMZ7"
      },
      "source": [
        "### This python function is responsable for compiling and executing verilog code\n"
      ]
    },
    {
      "cell_type": "code",
      "execution_count": null,
      "metadata": {
        "id": "VUw5DZJ_PKON"
      },
      "outputs": [],
      "source": [
        "\n",
        "import os\n",
        "import subprocess\n",
        "import tempfile\n",
        "import uuid\n",
        "\n",
        "from IPython.core.magic import Magics, cell_magic, magics_class\n",
        "from IPython.core.magic_arguments import argument, magic_arguments, parse_argstring\n",
        "from common import helper\n",
        "\n",
        "compiler = 'iverilog'\n",
        "ext = '.v'\n",
        "\n",
        "def Install():\n",
        "        print(\"Installing iverilog. Please wait... \", end=\"\")\n",
        "        args = [\"sh\", \"/content/cad4u/verilog/update_install.sh\"]\n",
        "\n",
        "        output = subprocess.check_output(args, stderr=subprocess.STDOUT)\n",
        "        output = output.decode('utf8')\n",
        "        #helper.print_out(output)\n",
        "        print(\"done!\")\n",
        "\n",
        "def compile(file_path, flags):\n",
        "\n",
        "        args = [compiler, file_path + ext, \"-o\", file_path + \".out\"]\n",
        "\n",
        "        # adding flags: -O3, -unroll-loops, ...\n",
        "        for flag in flags:\n",
        "            if flag == \"<\":\n",
        "                break\n",
        "            args.append(flag)\n",
        "\n",
        "        subprocess.check_output(args, stderr=subprocess.STDOUT)\n",
        "\n",
        "\n",
        "def run(file_path, flags):\n",
        "        file_path = file_path + \".out\"\n",
        "        args = [file_path]\n",
        "        for flag in flags:\n",
        "          args.append(flag)\n",
        "\n",
        "        output = subprocess.check_output(args, stderr=subprocess.STDOUT)\n",
        "        output = output.decode('utf8')\n",
        "        helper.print_out(output)\n",
        "\n",
        "Install()\n",
        "flags = \"\"\n",
        "file_path = \"/content/tb\"\n",
        "compile(file_path, flags)\n",
        "run(file_path,\"1\")"
      ]
    },
    {
      "cell_type": "code",
      "execution_count": null,
      "metadata": {
        "id": "O3eDe1xPie0G"
      },
      "outputs": [],
      "source": [
        "import gradio as gr\n",
        "import time\n",
        "import math\n",
        "\n",
        "# def numberInByts(n):\n",
        "#   if (n == 0 or n == 1): return 1\n",
        "#   return int((math.log(n) / math.log(2)) + 1)\n",
        "\n",
        "def result(tagFormat):\n",
        "  arq_valid = open('valid.data','r')\n",
        "  arq_tag = open('tag.data','r')\n",
        "  arq_caches = open('cache.data','r')\n",
        "\n",
        "  def erase(list):\n",
        "    for auto in list:\n",
        "      if auto[0] == '/': list.remove(auto)\n",
        "\n",
        "  #read files and delete comments\n",
        "  valids = arq_valid.readlines()\n",
        "  tags = arq_tag.readlines()\n",
        "  caches = arq_caches.readlines()\n",
        "\n",
        "  #closes used files\n",
        "  arq_valid.close()\n",
        "  arq_tag.close()\n",
        "  arq_caches.close()\n",
        "\n",
        "  erase(valids)\n",
        "  erase(tags)\n",
        "  erase(caches)\n",
        "\n",
        "  #iterator for data list\n",
        "  valid = iter(valids)\n",
        "  cache = iter(caches)\n",
        "  tag = iter(tags)\n",
        "\n",
        "  #current cache row counter\n",
        "  k = int(0)\n",
        "  lineNumber = int(len(caches)/len(tags))\n",
        "\n",
        "  #list of list (here will be added as table rows)\n",
        "  result = []\n",
        "\n",
        "  for i in range(len(tags)):\n",
        "\n",
        "    aux = []\n",
        "    #adds the line, valid bit and tag, to the current column(aux)\n",
        "    aux.append(i)\n",
        "    aux.append(valid.__next__().rstrip('\\n'))\n",
        "    aux.append(tag.__next__().rstrip('\\n'))\n",
        "\n",
        "    #add all block values\n",
        "    s = \"\"\n",
        "    for j in range(lineNumber):\n",
        "      s = s + caches[j + k].rstrip('\\n') + \" \"\n",
        "\n",
        "    aux.append(s)\n",
        "    k = lineNumber *(i+1)\n",
        "\n",
        "    if (aux[2] != \"xx\" and aux[2] != \"x\"):\n",
        "      tagInHex = hex(int(aux[2], 16))\n",
        "      tagInBits = bin(int(tagInHex, 16))\n",
        "\n",
        "      aux[2] = tagInHex\n",
        "\n",
        "      if (tagFormat == \"binary\"):\n",
        "        aux[2] = tagInBits\n",
        "\n",
        "      if (tagFormat == \"decimal\"):\n",
        "        aux[2] = int(tagInBits,2)\n",
        "\n",
        "    result.append(aux)\n",
        "\n",
        "  return result\n",
        "\n",
        "def newcode(address,cacheSize,ramSize,blockSize,tagFormat):\n",
        "  address = address[:-1] if address[-1] == \",\" else address\n",
        "  newAddress = str(address).strip().split(',')\n",
        "\n",
        "  #write the addresses consulted\n",
        "  my_file=open(\"/content/input.v\",\"w\")\n",
        "  for i in range(len(newAddress)):\n",
        "    my_file.write(\"address = \")\n",
        "    my_file.write(newAddress[i])\n",
        "    my_file.write(';\\n#50\\n')\n",
        "  my_file.close()\n",
        "\n",
        "  #write the parameter data\n",
        "  parameter=open(\"/content/parameter.v\",\"w\")\n",
        "  parameter.write(\"parameter cacheSize = \")\n",
        "  parameter.write(str(int(cacheSize)))\n",
        "  parameter.write(\";\\nparameter ramSize = \")\n",
        "  parameter.write(str(int(ramSize)))\n",
        "  parameter.write(\";\\nparameter blockSize = \")\n",
        "  parameter.write(str(int(blockSize)))\n",
        "  parameter.write(\";\\n\")\n",
        "  parameter.close()\n",
        "\n",
        "  time.sleep(0.25)\n",
        "  compile(file_path, flags)\n",
        "  run(file_path,\"1\")\n",
        "\n",
        "  addressBitsSize = math.ceil(math.log(int(ramSize), 2))\n",
        "  blockBitsSize = math.ceil(math.log(int(blockSize), 2))\n",
        "  linesTotal = math.ceil(math.log(int(cacheSize) / int(blockSize), 2))\n",
        "  tagBitsSize = addressBitsSize - int(blockBitsSize) - linesTotal\n",
        "\n",
        "  INSTRUCTION_BREAKDOWN = f\"Addres= {addressBitsSize} bits, Tag = {tagBitsSize} bits, Lines = {int(linesTotal)} bits, blk = {blockBitsSize} bits\"\n",
        "\n",
        "  return [INSTRUCTION_BREAKDOWN, result(tagFormat)]\n",
        "\n",
        "\n",
        "firstFieldLabel = \"Insert the address numbers to consult\"\n",
        "secondFieldLabel = \"Cache size\"\n",
        "thirdFieldLabel = \"Ram size\"\n",
        "fourthFieldLabel = \"Block size\"\n",
        "defaultHeaders = [\"Line\",\"V\",\"Tag\", \"Data\"]\n",
        "tagDisplayFormat = \"TAG DISPLAY FORMAT\"\n",
        "\n",
        "iface = gr.Interface(\n",
        "    fn=newcode,\n",
        "    inputs=[\n",
        "        gr.inputs.Textbox(3,label=firstFieldLabel),\n",
        "        gr.inputs.Dropdown(choices=[8,16,32,64,128],label=secondFieldLabel),\n",
        "        gr.inputs.Dropdown(choices=[1024,2048,4096,8192],label=thirdFieldLabel),\n",
        "        gr.inputs.Dropdown(choices=[4,8,16,32],label=fourthFieldLabel),\n",
        "        gr.inputs.Radio(choices=[\"decimal\", \"binary\", \"hex\"], default=\"decimal\", label=tagDisplayFormat)],\n",
        "outputs=[\n",
        "         gr.outputs.Textbox(label=\"Instruction Breakdown\"),\n",
        "         gr.outputs.Dataframe(label=\"Cache Table\", headers=defaultHeaders, max_rows=128, type=\"array\")])\n",
        "\n",
        "iface.launch(share=True)"
      ]
    }
  ],
  "metadata": {
    "colab": {
      "collapsed_sections": [
        "mMcvvWyui5fk",
        "Sf7UQ7VyJgwW"
      ],
      "provenance": [],
      "toc_visible": true,
      "include_colab_link": true
    },
    "kernelspec": {
      "display_name": "Python 3",
      "name": "python3"
    }
  },
  "nbformat": 4,
  "nbformat_minor": 0
}
