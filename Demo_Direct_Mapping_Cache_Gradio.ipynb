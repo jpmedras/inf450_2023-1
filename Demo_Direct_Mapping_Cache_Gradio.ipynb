{
  "cells": [
    {
      "cell_type": "markdown",
      "metadata": {
        "id": "view-in-github",
        "colab_type": "text"
      },
      "source": [
        "<a href=\"https://colab.research.google.com/github/jpmedras/inf450_2023-1/blob/main/Demo_Direct_Mapping_Cache_Gradio.ipynb\" target=\"_parent\"><img src=\"https://colab.research.google.com/assets/colab-badge.svg\" alt=\"Open In Colab\"/></a>"
      ]
    },
    {
      "cell_type": "markdown",
      "source": [
        "# Trabalho inf450 Cache Write-back\n",
        "\n",
        "* Cache Mapeamento Direto\n",
        "* Write-back\n",
        "* Máquina de estados para Teste da Cache\n",
        "  * Ler um sequencia da memoria\n",
        "\n",
        "  \n",
        "posicao | operacao | endereco | dado\n",
        "---     | ---      | ---|---\n",
        "0 | 0 (read) | 30 |\n",
        "1 | 1 (write) | 21 | 3\n",
        "... |\n",
        "10 | 1 (write) | 44 | 1\n",
        "\n",
        "* O sistema deve monitorar o total de ciclos para a execução da sequencia\n",
        "* Mostrar o número de MISS\n",
        "\n",
        "\n",
        "[playlist com explicações](https://www.youtube.com/playlist?list=PLcvOyD_LMr6kDv1GhR8eLMkzxwKzXGDvo)\n",
        "\n"
      ],
      "metadata": {
        "id": "Rlrhkw8acgPi"
      }
    },
    {
      "cell_type": "markdown",
      "source": [
        "# Referencias\n",
        "\n",
        "* Fazer as adaptações no trabalho de cache  [Colab Mapeamento Direto em Verilog](https://colab.research.google.com/drive/1bh5ODMjvlMs8Zem0-SQ6tOvOpMCL16Ob?usp=sharing)\n",
        "\n",
        "\n",
        "\n",
        "* Referências para Memória [com colab](https://colab.research.google.com/drive/1EKR4iBx_EGQgHr4tDHwQXRv_OY65b5CP?usp=sharing)\n",
        "\n"
      ],
      "metadata": {
        "id": "9Pq3pTeZdZsi"
      }
    },
    {
      "cell_type": "markdown",
      "source": [
        "# Maquina de Estados com Write-back"
      ],
      "metadata": {
        "id": "kVD6hpOpe8FX"
      }
    },
    {
      "cell_type": "markdown",
      "source": [
        "## [Descrição do projeto](https://excalidraw.com/#json=NUkS9gpN7MOLbnIfPlsuJ,lbAEMzmIIlkMNQfdWim_Yg)"
      ],
      "metadata": {
        "id": "pWNdEZKvsMkx"
      }
    },
    {
      "cell_type": "markdown",
      "source": [
        "## Diagrama da Maquina\n",
        "\n",
        "* Alterar a FSM da read-only"
      ],
      "metadata": {
        "id": "PiAHALaTfOwk"
      }
    },
    {
      "cell_type": "code",
      "source": [
        "from graphviz import Digraph\n",
        "e = Digraph('fsmCache', filename='fsmCache.gv')\n",
        "\n",
        "e.attr('node', shape='box')\n",
        "\n",
        "with e.subgraph() as s:\n",
        "    s.attr(rank='bottom')\n",
        "    s.node('ReadData', label = 'ReadData Done == 1')\n",
        "    s.node('ReadTag', label = 'ReadTag Cnt == 1 & Mux == 0',shape=\"box3d\")\n",
        "    s.node('WriteData', label = 'WriteData Done == 1')\n",
        "\n",
        "e.edge('ReadTag','ReadData','c & v & ~op')\n",
        "e.edge('ReadTag','ReadBlock','(~v) | (~c & ~w)')\n",
        "e.edge('ReadTag','WriteBlock','~c & v & w')\n",
        "\n",
        "\n",
        "with e.subgraph() as s:\n",
        "    s.attr(rank='top')\n",
        "    s.node('ReadBlock', label = 'ReadBlock Dwr == 1 & Mux == 1')\n",
        "    s.node('UpdateTag', label = 'UpdateTag Twr == 1')\n",
        "    s.node('WriteBlock', label = 'WriteBlock \\n RAMwr == 1 & Mux == 1')\n",
        "\n",
        "e.edge('ReadData','ReadTag')\n",
        "e.edge('ReadBlock','UpdateTag','RB_End');\n",
        "e.edge('ReadBlock','ReadBlock','¬RB_End')\n",
        "e.edge('WriteBlock','ReadBlock','WB_End')\n",
        "e.edge('WriteBlock','WriteBlock','¬WB_End')\n",
        "e.edge(\"UpdateTag\",\"ReadData\", '~op')\n",
        "\n",
        "with e.subgraph() as s:\n",
        "    s.node('WriteData', label = 'WriteData Done == 1 Dwr == 1')\n",
        "    s.node('UpdateDirty', label = 'UpdateDirty DTwr == 1')\n",
        "\n",
        "e.edge('ReadTag','WriteData','c & v & op');\n",
        "e.edge('UpdateTag','UpdateDirty','op');\n",
        "e.edge('UpdateDirty','WriteData');\n",
        "e.edge('WriteData', 'ReadTag')\n",
        "\n",
        "e.view()\n",
        "\n",
        "\n",
        "# assign wRAM = (~c & v & w);\n",
        "# assign rRAM = (~v) | (~c & ~w);\n",
        "# assign rCache = (c & v);"
      ],
      "metadata": {
        "colab": {
          "base_uri": "https://localhost:8080/",
          "height": 35
        },
        "id": "Dz2ljhIGPmTa",
        "outputId": "2c1f6343-5ea7-4739-98d0-63d28120af00"
      },
      "execution_count": 25,
      "outputs": [
        {
          "output_type": "execute_result",
          "data": {
            "text/plain": [
              "'fsmCache.gv.pdf'"
            ],
            "application/vnd.google.colaboratory.intrinsic+json": {
              "type": "string"
            }
          },
          "metadata": {},
          "execution_count": 25
        }
      ]
    },
    {
      "cell_type": "code",
      "source": [
        "#@title Final State Machine Visualization\n",
        "from graphviz import Source\n",
        "Source.from_file('fsmCache.gv') # visualizando"
      ],
      "metadata": {
        "colab": {
          "base_uri": "https://localhost:8080/",
          "height": 760
        },
        "id": "KfLJx2kB7hNG",
        "outputId": "ec993afa-44ab-4fed-8f4a-ccfa5e4583b3"
      },
      "execution_count": 26,
      "outputs": [
        {
          "output_type": "execute_result",
          "data": {
            "image/svg+xml": "<?xml version=\"1.0\" encoding=\"UTF-8\" standalone=\"no\"?>\n<!DOCTYPE svg PUBLIC \"-//W3C//DTD SVG 1.1//EN\"\n \"http://www.w3.org/Graphics/SVG/1.1/DTD/svg11.dtd\">\n<!-- Generated by graphviz version 2.43.0 (0)\n -->\n<!-- Title: fsmCache Pages: 1 -->\n<svg width=\"573pt\" height=\"554pt\"\n viewBox=\"0.00 0.00 572.50 554.00\" xmlns=\"http://www.w3.org/2000/svg\" xmlns:xlink=\"http://www.w3.org/1999/xlink\">\n<g id=\"graph0\" class=\"graph\" transform=\"scale(1 1) rotate(0) translate(4 550)\">\n<title>fsmCache</title>\n<polygon fill=\"white\" stroke=\"transparent\" points=\"-4,4 -4,-550 568.5,-550 568.5,4 -4,4\"/>\n<!-- ReadData -->\n<g id=\"node1\" class=\"node\">\n<title>ReadData</title>\n<polygon fill=\"none\" stroke=\"black\" points=\"243.5,-546 109.5,-546 109.5,-510 243.5,-510 243.5,-546\"/>\n<text text-anchor=\"middle\" x=\"176.5\" y=\"-524.3\" font-family=\"Times,serif\" font-size=\"14.00\">ReadData Done == 1</text>\n</g>\n<!-- ReadTag -->\n<g id=\"node2\" class=\"node\">\n<title>ReadTag</title>\n<polygon fill=\"none\" stroke=\"black\" points=\"240.5,-459 50.5,-459 46.5,-455 46.5,-423 236.5,-423 240.5,-427 240.5,-459\"/>\n<polyline fill=\"none\" stroke=\"black\" points=\"236.5,-455 46.5,-455 \"/>\n<polyline fill=\"none\" stroke=\"black\" points=\"236.5,-455 236.5,-423 \"/>\n<polyline fill=\"none\" stroke=\"black\" points=\"236.5,-455 240.5,-459 \"/>\n<text text-anchor=\"middle\" x=\"143.5\" y=\"-437.3\" font-family=\"Times,serif\" font-size=\"14.00\">ReadTag Cnt == 1 &amp; Mux == 0</text>\n</g>\n<!-- ReadData&#45;&gt;ReadTag -->\n<g id=\"edge4\" class=\"edge\">\n<title>ReadData&#45;&gt;ReadTag</title>\n<path fill=\"none\" stroke=\"black\" d=\"M166.24,-509.93C163.15,-504.34 159.94,-498.02 157.5,-492 154.57,-484.76 152.01,-476.7 149.92,-469.2\"/>\n<polygon fill=\"black\" stroke=\"black\" points=\"153.29,-468.23 147.36,-459.44 146.52,-470 153.29,-468.23\"/>\n</g>\n<!-- ReadTag&#45;&gt;ReadData -->\n<g id=\"edge1\" class=\"edge\">\n<title>ReadTag&#45;&gt;ReadData</title>\n<path fill=\"none\" stroke=\"black\" d=\"M150.17,-459.18C154.73,-470.92 160.87,-486.73 166.07,-500.13\"/>\n<polygon fill=\"black\" stroke=\"black\" points=\"162.94,-501.74 169.82,-509.8 169.47,-499.21 162.94,-501.74\"/>\n<text text-anchor=\"middle\" x=\"198.5\" y=\"-480.8\" font-family=\"Times,serif\" font-size=\"14.00\">c &amp; v &amp; ~op</text>\n</g>\n<!-- WriteData -->\n<g id=\"node3\" class=\"node\">\n<title>WriteData</title>\n<polygon fill=\"none\" stroke=\"black\" points=\"195,-36 0,-36 0,0 195,0 195,-36\"/>\n<text text-anchor=\"middle\" x=\"97.5\" y=\"-14.3\" font-family=\"Times,serif\" font-size=\"14.00\">WriteData Done == 1 Dwr == 1</text>\n</g>\n<!-- ReadTag&#45;&gt;WriteData -->\n<g id=\"edge10\" class=\"edge\">\n<title>ReadTag&#45;&gt;WriteData</title>\n<path fill=\"none\" stroke=\"black\" d=\"M82.46,-422.89C50.73,-409.89 18.5,-388.24 18.5,-354 18.5,-354 18.5,-354 18.5,-90 18.5,-69.59 33.27,-53.55 50.04,-41.92\"/>\n<polygon fill=\"black\" stroke=\"black\" points=\"52.38,-44.58 58.93,-36.25 48.61,-38.68 52.38,-44.58\"/>\n<text text-anchor=\"middle\" x=\"50.5\" y=\"-217.8\" font-family=\"Times,serif\" font-size=\"14.00\">c &amp; v &amp; op</text>\n</g>\n<!-- ReadBlock -->\n<g id=\"node4\" class=\"node\">\n<title>ReadBlock</title>\n<polygon fill=\"none\" stroke=\"black\" points=\"407,-283 196,-283 196,-247 407,-247 407,-283\"/>\n<text text-anchor=\"middle\" x=\"301.5\" y=\"-261.3\" font-family=\"Times,serif\" font-size=\"14.00\">ReadBlock Dwr == 1 &amp; Mux == 1</text>\n</g>\n<!-- ReadTag&#45;&gt;ReadBlock -->\n<g id=\"edge2\" class=\"edge\">\n<title>ReadTag&#45;&gt;ReadBlock</title>\n<path fill=\"none\" stroke=\"black\" d=\"M140.04,-422.82C136.52,-400.25 133.89,-360.42 152.5,-334 168.04,-311.94 192.52,-296.9 217.19,-286.69\"/>\n<polygon fill=\"black\" stroke=\"black\" points=\"218.59,-289.9 226.64,-283.01 216.05,-283.38 218.59,-289.9\"/>\n<text text-anchor=\"middle\" x=\"199\" y=\"-349.3\" font-family=\"Times,serif\" font-size=\"14.00\">(~v) | (~c &amp; ~w)</text>\n</g>\n<!-- WriteBlock -->\n<g id=\"node5\" class=\"node\">\n<title>WriteBlock</title>\n<polygon fill=\"none\" stroke=\"black\" points=\"428,-372 255,-372 255,-334 428,-334 428,-372\"/>\n<text text-anchor=\"middle\" x=\"341.5\" y=\"-356.8\" font-family=\"Times,serif\" font-size=\"14.00\">WriteBlock </text>\n<text text-anchor=\"middle\" x=\"341.5\" y=\"-341.8\" font-family=\"Times,serif\" font-size=\"14.00\"> RAMwr == 1 &amp; Mux == 1</text>\n</g>\n<!-- ReadTag&#45;&gt;WriteBlock -->\n<g id=\"edge3\" class=\"edge\">\n<title>ReadTag&#45;&gt;WriteBlock</title>\n<path fill=\"none\" stroke=\"black\" d=\"M183.09,-422.8C213.91,-409.42 256.91,-390.74 290.33,-376.22\"/>\n<polygon fill=\"black\" stroke=\"black\" points=\"292.15,-379.25 299.93,-372.06 289.36,-372.83 292.15,-379.25\"/>\n<text text-anchor=\"middle\" x=\"288.5\" y=\"-393.8\" font-family=\"Times,serif\" font-size=\"14.00\">~c &amp; v &amp; w</text>\n</g>\n<!-- WriteData&#45;&gt;ReadTag -->\n<g id=\"edge13\" class=\"edge\">\n<title>WriteData&#45;&gt;ReadTag</title>\n<path fill=\"none\" stroke=\"black\" d=\"M97.5,-36.22C97.5,-50.59 97.5,-71.63 97.5,-90 97.5,-354 97.5,-354 97.5,-354 97.5,-376.49 109.89,-398.8 121.8,-415.06\"/>\n<polygon fill=\"black\" stroke=\"black\" points=\"119.04,-417.2 127.93,-422.98 124.58,-412.92 119.04,-417.2\"/>\n</g>\n<!-- ReadBlock&#45;&gt;ReadBlock -->\n<g id=\"edge6\" class=\"edge\">\n<title>ReadBlock&#45;&gt;ReadBlock</title>\n<path fill=\"none\" stroke=\"black\" d=\"M407.34,-271.47C418.12,-270.19 425,-268.04 425,-265 425,-263.06 422.18,-261.47 417.31,-260.25\"/>\n<polygon fill=\"black\" stroke=\"black\" points=\"417.79,-256.78 407.34,-258.53 416.6,-263.68 417.79,-256.78\"/>\n<text text-anchor=\"middle\" x=\"452.5\" y=\"-261.3\" font-family=\"Times,serif\" font-size=\"14.00\">¬RB_End</text>\n</g>\n<!-- UpdateTag -->\n<g id=\"node6\" class=\"node\">\n<title>UpdateTag</title>\n<polygon fill=\"none\" stroke=\"black\" points=\"367,-196 236,-196 236,-160 367,-160 367,-196\"/>\n<text text-anchor=\"middle\" x=\"301.5\" y=\"-174.3\" font-family=\"Times,serif\" font-size=\"14.00\">UpdateTag Twr == 1</text>\n</g>\n<!-- ReadBlock&#45;&gt;UpdateTag -->\n<g id=\"edge5\" class=\"edge\">\n<title>ReadBlock&#45;&gt;UpdateTag</title>\n<path fill=\"none\" stroke=\"black\" d=\"M301.5,-246.8C301.5,-235.16 301.5,-219.55 301.5,-206.24\"/>\n<polygon fill=\"black\" stroke=\"black\" points=\"305,-206.18 301.5,-196.18 298,-206.18 305,-206.18\"/>\n<text text-anchor=\"middle\" x=\"325\" y=\"-217.8\" font-family=\"Times,serif\" font-size=\"14.00\">RB_End</text>\n</g>\n<!-- WriteBlock&#45;&gt;ReadBlock -->\n<g id=\"edge7\" class=\"edge\">\n<title>WriteBlock&#45;&gt;ReadBlock</title>\n<path fill=\"none\" stroke=\"black\" d=\"M333.02,-333.76C327.41,-321.7 319.96,-305.7 313.72,-292.27\"/>\n<polygon fill=\"black\" stroke=\"black\" points=\"316.82,-290.63 309.43,-283.04 310.47,-293.59 316.82,-290.63\"/>\n<text text-anchor=\"middle\" x=\"349.5\" y=\"-304.8\" font-family=\"Times,serif\" font-size=\"14.00\">WB_End</text>\n</g>\n<!-- WriteBlock&#45;&gt;WriteBlock -->\n<g id=\"edge8\" class=\"edge\">\n<title>WriteBlock&#45;&gt;WriteBlock</title>\n<path fill=\"none\" stroke=\"black\" d=\"M428.39,-360.14C439.03,-358.86 446,-356.48 446,-353 446,-350.77 443.14,-348.99 438.28,-347.67\"/>\n<polygon fill=\"black\" stroke=\"black\" points=\"438.85,-344.21 428.39,-345.86 437.6,-351.1 438.85,-344.21\"/>\n<text text-anchor=\"middle\" x=\"476\" y=\"-349.3\" font-family=\"Times,serif\" font-size=\"14.00\">¬WB_End</text>\n</g>\n<!-- UpdateTag&#45;&gt;ReadData -->\n<g id=\"edge9\" class=\"edge\">\n<title>UpdateTag&#45;&gt;ReadData</title>\n<path fill=\"none\" stroke=\"black\" d=\"M367.04,-188.96C438.4,-201.7 542.5,-226.68 542.5,-264 542.5,-442 542.5,-442 542.5,-442 542.5,-500.77 361.18,-518.92 253.78,-524.51\"/>\n<polygon fill=\"black\" stroke=\"black\" points=\"253.44,-521.03 243.63,-525.02 253.79,-528.02 253.44,-521.03\"/>\n<text text-anchor=\"middle\" x=\"553.5\" y=\"-349.3\" font-family=\"Times,serif\" font-size=\"14.00\">~op</text>\n</g>\n<!-- UpdateDirty -->\n<g id=\"node7\" class=\"node\">\n<title>UpdateDirty</title>\n<polygon fill=\"none\" stroke=\"black\" points=\"342.5,-109 192.5,-109 192.5,-73 342.5,-73 342.5,-109\"/>\n<text text-anchor=\"middle\" x=\"267.5\" y=\"-87.3\" font-family=\"Times,serif\" font-size=\"14.00\">UpdateDirty DTwr == 1</text>\n</g>\n<!-- UpdateTag&#45;&gt;UpdateDirty -->\n<g id=\"edge11\" class=\"edge\">\n<title>UpdateTag&#45;&gt;UpdateDirty</title>\n<path fill=\"none\" stroke=\"black\" d=\"M294.62,-159.8C289.92,-148.05 283.6,-132.24 278.24,-118.84\"/>\n<polygon fill=\"black\" stroke=\"black\" points=\"281.33,-117.16 274.37,-109.18 274.83,-119.76 281.33,-117.16\"/>\n<text text-anchor=\"middle\" x=\"293.5\" y=\"-130.8\" font-family=\"Times,serif\" font-size=\"14.00\">op</text>\n</g>\n<!-- UpdateDirty&#45;&gt;WriteData -->\n<g id=\"edge12\" class=\"edge\">\n<title>UpdateDirty&#45;&gt;WriteData</title>\n<path fill=\"none\" stroke=\"black\" d=\"M226.78,-72.99C203.09,-63.1 173.03,-50.54 147.86,-40.03\"/>\n<polygon fill=\"black\" stroke=\"black\" points=\"149.05,-36.74 138.48,-36.11 146.35,-43.2 149.05,-36.74\"/>\n</g>\n</g>\n</svg>\n",
            "text/plain": [
              "<graphviz.sources.Source at 0x7d2bd4b6ba60>"
            ]
          },
          "metadata": {},
          "execution_count": 26
        }
      ]
    },
    {
      "cell_type": "markdown",
      "source": [
        "## Código Verilog\n",
        "\n",
        "[esboço das mudancas](https://excalidraw.com/#json=tA8BlVuaEDYLh1P6uK1IV,wtL9VBNzucDj81_xj67iAA)\n",
        "\n",
        "* criar uma memoria de 1 bit (clonar a memoria de valido) para anotar se os dados mudaram na cache (write back).\n"
      ],
      "metadata": {
        "id": "HzvjjjyufSVl"
      }
    },
    {
      "cell_type": "markdown",
      "source": [
        "# Projeto da Cache Mapeamento Direto com Write-back\n",
        "\n",
        "Adaptar a cache só de leitura."
      ],
      "metadata": {
        "id": "Ch24zp9vfCis"
      }
    },
    {
      "cell_type": "markdown",
      "source": [
        "# Funções para Visualizar o Resultado\n",
        "\n",
        "* Mostrar a Cache\n",
        "* Mostrar as células de memória que foram atualizadas"
      ],
      "metadata": {
        "id": "zlEWJFHKfYrs"
      }
    },
    {
      "cell_type": "markdown",
      "source": [
        "# Maquina de Estados para Consulta e Teste da Cache"
      ],
      "metadata": {
        "id": "-ErFOdY-gDwD"
      }
    },
    {
      "cell_type": "markdown",
      "metadata": {
        "id": "MQoqiaaluonZ"
      },
      "source": [
        "# Direct Mapping Cache Assignment (Leitura e Escrita)\n",
        "\n",
        "* Implement the **Gradio Interface** for a Verilog code to simulate a direct mapping cache\n",
        "* The Cache will be read only.\n",
        "* This Colab NB has already a direct mapping parametrized cache as your starting point."
      ]
    },
    {
      "cell_type": "markdown",
      "metadata": {
        "id": "v34hZvteg3ya"
      },
      "source": [
        "# Installing"
      ]
    },
    {
      "cell_type": "code",
      "execution_count": 27,
      "metadata": {
        "id": "r1pzW9K0kJs8",
        "colab": {
          "base_uri": "https://localhost:8080/"
        },
        "outputId": "120bc93f-a83d-4bc8-9b52-be76c33d9fb1"
      },
      "outputs": [
        {
          "output_type": "stream",
          "name": "stdout",
          "text": [
            "The plugin extension is already loaded. To reload it, use:\n",
            "  %reload_ext plugin\n"
          ]
        }
      ],
      "source": [
        "!pip install git+https://github.com/lesc-ufv/cad4u >& /dev/null\n",
        "!git clone https://github.com/lesc-ufv/cad4u >& /dev/null\n",
        "%load_ext plugin"
      ]
    },
    {
      "cell_type": "markdown",
      "metadata": {
        "id": "mMcvvWyui5fk"
      },
      "source": [
        "## Cache Schematic\n",
        "\n",
        "[Link desenho Excalidraw](https://excalidraw.com/#json=ej9ztRutvSeb-U4kcyzoU,9vOhV989mUYXB_yNNr03jA)"
      ]
    },
    {
      "cell_type": "markdown",
      "metadata": {
        "id": "G3yAbiFKTgbj"
      },
      "source": [
        "<img src=\"https://github.com/arduinoufv/inf450/blob/master/cache/figuras/cacheMD_gradio_esboco.png?raw=true\" alt=\"blind\" width=\"600\"/>"
      ]
    },
    {
      "cell_type": "markdown",
      "metadata": {
        "id": "b4Nmbodni8mE"
      },
      "source": [
        "## Verilog Code\n",
        "* All modules are implelemented on different files.\n"
      ]
    },
    {
      "cell_type": "markdown",
      "metadata": {
        "id": "Sf7UQ7VyJgwW"
      },
      "source": [
        "### Block address multiplexer\n",
        "\n",
        "* For the DM cache, it is used to select between request block address and the internal block counter to fill the cache block."
      ]
    },
    {
      "cell_type": "code",
      "execution_count": 28,
      "metadata": {
        "colab": {
          "base_uri": "https://localhost:8080/"
        },
        "id": "aeELsCEJJldL",
        "outputId": "1329766a-9f94-43d1-bd0b-dc6b0835c4ac"
      },
      "outputs": [
        {
          "output_type": "stream",
          "name": "stdout",
          "text": [
            "Overwriting mux.v\n"
          ]
        }
      ],
      "source": [
        "%%writefile mux.v\n",
        "module  mux(\n",
        "din_0      , // Mux first input\n",
        "din_1      , // Mux Second input\n",
        "sel        , // Select input\n",
        "mux_out      // Mux output\n",
        ");\n",
        "parameter bitsBlock = 3;\n",
        "//-----------Input Ports---------------\n",
        "input [bitsBlock-1:0] din_0;\n",
        "inout [bitsBlock-1:0] din_1;\n",
        "input sel ;\n",
        "//-----------Output Ports---------------\n",
        "output [bitsBlock-1:0] mux_out;\n",
        "//-------------Code Start-----------------\n",
        "assign mux_out = (sel) ? din_1 : din_0;\n",
        "\n",
        "endmodule //End Of Module mux\n"
      ]
    },
    {
      "cell_type": "markdown",
      "metadata": {
        "id": "jOyWzpmyKWrj"
      },
      "source": [
        "### Tag Comparator\n",
        "\n",
        "* Compare current address tag to Cache tag address"
      ]
    },
    {
      "cell_type": "code",
      "execution_count": 29,
      "metadata": {
        "colab": {
          "base_uri": "https://localhost:8080/"
        },
        "id": "-uJe86WGe3su",
        "outputId": "497e8851-3611-4ff4-9d6e-374afaa35003"
      },
      "outputs": [
        {
          "output_type": "stream",
          "name": "stdout",
          "text": [
            "Overwriting comparator.v\n"
          ]
        }
      ],
      "source": [
        "%%writefile comparator.v\n",
        "module comparator(out, tag, tag_in);\n",
        "parameter bitsTag = 6;\n",
        "  output  out;\n",
        "  input   [bitsTag-1:0] tag;\n",
        "  input   [bitsTag-1:0] tag_in;\n",
        "\n",
        "assign out =  ( tag == tag_in )? 1 : 0;\n",
        "\n",
        "endmodule"
      ]
    },
    {
      "cell_type": "markdown",
      "metadata": {
        "id": "Tl8yTmk6fG7d"
      },
      "source": [
        "### Mtag Cache\n",
        "* Memory to store the cache Tags."
      ]
    },
    {
      "cell_type": "code",
      "execution_count": 30,
      "metadata": {
        "colab": {
          "base_uri": "https://localhost:8080/"
        },
        "id": "D4dqOyf-fmlH",
        "outputId": "75ef21bb-b523-4013-ddda-6cc0ae543917"
      },
      "outputs": [
        {
          "output_type": "stream",
          "name": "stdout",
          "text": [
            "Overwriting Mtag.v\n"
          ]
        }
      ],
      "source": [
        "\n",
        "%%writefile Mtag.v\n",
        "module Mtag ( clk, line,  din, wr, dout , reset);\n",
        "parameter bitsLinesCache = 2;\n",
        "parameter bitsTag = 6;\n",
        "parameter linesCache = 4;\n",
        "\n",
        "input clk;\n",
        "input [bitsLinesCache-1:0] line;\n",
        "input [bitsTag-1:0] din;\n",
        "input wr;\n",
        "output [bitsTag-1:0] dout;\n",
        "input reset;\n",
        "\n",
        "\n",
        "reg [bitsTag-1:0] memory[0:linesCache-1];\n",
        "reg [bitsTag-1:0] dout;\n",
        "\n",
        "always @(posedge clk )\n",
        "  begin\n",
        "    if (wr)\n",
        "      memory[line] <= din;\n",
        "  end\n",
        "\n",
        "always @ (*)\n",
        "  begin\n",
        "  dout <= memory[line];\n",
        "  end\n",
        "\n",
        "always @( posedge reset)\n",
        "\t\t\tif(reset)\n",
        "\t\t\t\tbegin\n",
        "\t\t\t\t  memory[0] <= 6'h3;\n",
        "\t\t\t\t  memory[1] <= 6'h4;\n",
        "\t\t\t\t  memory[2] <= 6'h5;\n",
        "\t\t\t\t  memory[3] <= 6'h6;\n",
        "\t\t\t\tend\n",
        "\n",
        "\n",
        "endmodule"
      ]
    },
    {
      "cell_type": "markdown",
      "metadata": {
        "id": "sbExwnSdfyHA"
      },
      "source": [
        "### Cache Valid Bit\n",
        "* Memory with reset signal to store the valid bit. One per line."
      ]
    },
    {
      "cell_type": "code",
      "execution_count": 31,
      "metadata": {
        "colab": {
          "base_uri": "https://localhost:8080/"
        },
        "id": "sG3UOMqef9ou",
        "outputId": "5f619e60-2b35-44e6-f554-17052a2564b0"
      },
      "outputs": [
        {
          "output_type": "stream",
          "name": "stdout",
          "text": [
            "Overwriting valid.v\n"
          ]
        }
      ],
      "source": [
        "\n",
        "%%writefile valid.v\n",
        "module valid ( clk, line,  reset, wr, dout );\n",
        "parameter bitsLinesCache = 2;\n",
        "parameter linesCache = 4;\n",
        "input clk;\n",
        "input [bitsLinesCache-1:0] line;\n",
        "input reset;\n",
        "input wr;\n",
        "output dout;\n",
        "\n",
        "reg memory[0:linesCache-1];\n",
        "reg dout;\n",
        "\n",
        "always @(posedge clk )\n",
        "  begin\n",
        "    if (wr)\n",
        "      memory[line] <= 1;\n",
        "  end\n",
        "\n",
        "always @ (*)\n",
        "  begin\n",
        "  dout = memory[line];\n",
        "  end\n",
        "\n",
        "reg integer i;\n",
        "always @ (reset)\n",
        "  begin\n",
        "  for(i =0;i<linesCache;i=1+i)begin\n",
        "    memory[i]=0;\n",
        "  end\n",
        "  end\n",
        "endmodule"
      ]
    },
    {
      "cell_type": "markdown",
      "metadata": {
        "id": "8SAsyay2JA1P"
      },
      "source": [
        "### Cache Dirty Bit\n",
        "* Memory with reset signal to store the dirty bit. One per line."
      ]
    },
    {
      "cell_type": "code",
      "execution_count": 32,
      "metadata": {
        "colab": {
          "base_uri": "https://localhost:8080/"
        },
        "outputId": "9e678aa8-15ec-41f9-943d-2a66c3b67f6f",
        "id": "RYwdXQVIJA1i"
      },
      "outputs": [
        {
          "output_type": "stream",
          "name": "stdout",
          "text": [
            "Overwriting dirty.v\n"
          ]
        }
      ],
      "source": [
        "%%writefile dirty.v\n",
        "module dirty ( clk, line,  reset, wr, dout );\n",
        "parameter bitsLinesCache = 2;\n",
        "parameter linesCache = 4;\n",
        "input clk;\n",
        "input [bitsLinesCache-1:0] line;\n",
        "input reset;\n",
        "input wr;\n",
        "output dout;\n",
        "\n",
        "reg memory[0:linesCache-1];\n",
        "reg dout;\n",
        "\n",
        "always @(posedge clk )\n",
        "  begin\n",
        "    if (wr)\n",
        "      memory[line] <= 1;\n",
        "  end\n",
        "\n",
        "always @ (*)\n",
        "  begin\n",
        "  dout = memory[line];\n",
        "  end\n",
        "\n",
        "reg integer i;\n",
        "always @ (reset)\n",
        "  begin\n",
        "  for(i =0;i<linesCache;i=1+i)begin\n",
        "    memory[i]=0;\n",
        "  end\n",
        "  end\n",
        "endmodule"
      ]
    },
    {
      "cell_type": "markdown",
      "metadata": {
        "id": "HRfEdyVOhNH6"
      },
      "source": [
        "###Data cache\n",
        "* Memory module to store the data\n",
        "* May be used to write din in cache. The position is given by {line, blk}\n"
      ]
    },
    {
      "cell_type": "code",
      "execution_count": 33,
      "metadata": {
        "colab": {
          "base_uri": "https://localhost:8080/"
        },
        "id": "n9EF4H3zg84w",
        "outputId": "7a49804d-2298-49d8-b708-78175959a9f8"
      },
      "outputs": [
        {
          "output_type": "stream",
          "name": "stdout",
          "text": [
            "Overwriting datacache.v\n"
          ]
        }
      ],
      "source": [
        "%%writefile datacache.v\n",
        "module datacache ( clk, line, blk, din, wr, dout );\n",
        "parameter bitsBlock = 3;\n",
        "parameter bitLinesCache = 2;\n",
        "parameter cacheSize = 32;\n",
        "input clk;\n",
        "input [bitLinesCache-1:0] line;\n",
        "input [bitsBlock-1:0] blk;\n",
        "input [7:0] din;\n",
        "input wr;\n",
        "output [7:0] dout;\n",
        "\n",
        "reg [7:0] memory[0:cacheSize-1];\n",
        "reg [7:0] dout;\n",
        "\n",
        "always @(posedge clk )\n",
        "  begin\n",
        "    if (wr)\n",
        "      memory[{line,blk}] <= din;\n",
        "  end\n",
        "\n",
        "always @ (*)\n",
        "  begin\n",
        "  dout <= memory[{line,blk}];\n",
        "  end\n",
        "\n",
        "endmodule"
      ]
    },
    {
      "cell_type": "markdown",
      "metadata": {
        "id": "J6S1jLitlAf5"
      },
      "source": [
        "### Ram\n",
        "* Ram Memory Module\n",
        "* Returns memory address in dout\n",
        "* Write din if wr == 1"
      ]
    },
    {
      "cell_type": "code",
      "execution_count": 34,
      "metadata": {
        "colab": {
          "base_uri": "https://localhost:8080/"
        },
        "id": "J2iqP6fHk4-2",
        "outputId": "c74c436e-50d4-4560-937b-a9cb0df53215"
      },
      "outputs": [
        {
          "output_type": "stream",
          "name": "stdout",
          "text": [
            "Overwriting ram.v\n"
          ]
        }
      ],
      "source": [
        "%%writefile ram.v\n",
        "module ram ( clk, addr, din, wr, dout, reset );\n",
        "parameter bitsRam = 11;\n",
        "parameter ramSize = 2048;\n",
        "input clk;\n",
        "input [bitsRam-1:0] addr;\n",
        "input [7:0] din;\n",
        "input wr;\n",
        "output [7:0] dout;\n",
        "input reset;\n",
        "\n",
        "reg [7:0] memory[0:ramSize-1];\n",
        "reg [7:0] dout;\n",
        "\n",
        "\n",
        "always @(posedge clk )\n",
        "  begin\n",
        "    if (wr)\n",
        "      memory[addr] <= din;\n",
        "  end\n",
        "\n",
        "always @ (*)\n",
        "  begin\n",
        "  dout <= memory[addr];\n",
        "  end\n",
        "\n",
        "reg integer i;\n",
        " always @(posedge reset)\n",
        "\t\t\tif(reset) // starts for testing\n",
        "\t\t\t\tbegin\n",
        "            for(i = 0;i<ramSize;i=i+1)begin\n",
        "              memory[i] <= i;\n",
        "\n",
        "            end\n",
        "\t\t\t\tend\n",
        "endmodule"
      ]
    },
    {
      "cell_type": "markdown",
      "metadata": {
        "id": "z_-yiM9_lz8-"
      },
      "source": [
        "### Counter Module\n",
        "* parameterized Counter: 0 to blockSize - 1\n",
        "* This counter generates the address to fill the data cache line with a data block."
      ]
    },
    {
      "cell_type": "code",
      "execution_count": 35,
      "metadata": {
        "colab": {
          "base_uri": "https://localhost:8080/"
        },
        "id": "MSO4vOARlq_R",
        "outputId": "57e61884-d625-4fe6-9c72-568876dad3a0"
      },
      "outputs": [
        {
          "output_type": "stream",
          "name": "stdout",
          "text": [
            "Overwriting counter.v\n"
          ]
        }
      ],
      "source": [
        "%%writefile counter.v\n",
        "module counter(out, clk, reset, End);\n",
        "  parameter bitsBlock = 3;\n",
        "  parameter blockSize = 8;\n",
        "  output [bitsBlock-1 : 0] out;\n",
        "  input \t       clk, reset;\n",
        "  output End;\n",
        "\n",
        "  reg [bitsBlock-1 : 0]   out;\n",
        "  reg End;\n",
        "  wire \t       clk, reset;\n",
        "  wire [bitsBlock-1: 0] limitCounter = blockSize-1;\n",
        "  always @(posedge clk)\n",
        "    out <= out + 1;\n",
        "\n",
        "  always @(posedge clk)\n",
        "    if ( out == limitCounter )\n",
        "       End <= 1;\n",
        "    else\n",
        "       End <= 0;\n",
        "\n",
        "\n",
        "  always @(reset)\n",
        "    if (reset)\n",
        "      out <= 0;\n",
        "\n",
        "endmodule // counter"
      ]
    },
    {
      "cell_type": "markdown",
      "metadata": {
        "id": "Zm5j--CDIO5C"
      },
      "source": [
        "### Cache Finite State Machine\n",
        "\n",
        "* Provide FSM diagram using Graphviz"
      ]
    },
    {
      "cell_type": "code",
      "execution_count": 46,
      "metadata": {
        "colab": {
          "base_uri": "https://localhost:8080/"
        },
        "id": "Mjisylw9Eb9s",
        "outputId": "98019585-f499-49f8-9ede-6c6d9ebbf489"
      },
      "outputs": [
        {
          "output_type": "stream",
          "name": "stdout",
          "text": [
            "Overwriting fsm.v\n"
          ]
        }
      ],
      "source": [
        "%%writefile fsm.v\n",
        "module fsm(\n",
        "  input wire clk, reset, c, v, w, op, RB_End, WB_End,\n",
        "  output reg Twr, DTwr, Dwr, Rwr, Cnt, Mux, Done);\n",
        "\n",
        "reg [2:0] state;\n",
        "\n",
        "parameter ReadTag = 3'b00, ReadData = 3'b01,\n",
        "ReadBlk = 3'b10, UpdateTag = 3'b11, WriteBlock = 3'b100,\n",
        "WriteData = 3'b101, UpdateDirty = 3'b110, RESET = 3'b111;\n",
        "\n",
        "/* State register (synchronous reset) */\n",
        "always @(posedge clk or posedge reset)\n",
        "begin\n",
        "  if (reset)\n",
        "    state <= RESET;\n",
        "  else\n",
        "    case (state)\n",
        "      RESET: state <= ReadTag;\n",
        "\n",
        "      ReadTag:\n",
        "        if (c & v & ~op) state <= ReadData;\n",
        "        else if (c & v & op) state <= WriteData;\n",
        "        else if ((~v) || (~c & ~w))  state <= ReadBlk;\n",
        "        else state <= WriteBlock;\n",
        "      ReadData:\n",
        "        state <= ReadTag;\n",
        "\n",
        "      WriteData:\n",
        "        state <= ReadTag;\n",
        "\n",
        "      ReadBlk:\n",
        "        if (RB_End) state <= UpdateTag;\n",
        "        else     state <= ReadBlk;\n",
        "\n",
        "      WriteBlock:\n",
        "        if (WB_End) state <= ReadBlk;\n",
        "        else        state <= WriteBlock;\n",
        "\n",
        "      UpdateTag:\n",
        "        if (op) state <= UpdateDirty;\n",
        "        else    state <= ReadData;\n",
        "\n",
        "      UpdateDirty:\n",
        "        state <= WriteData;\n",
        "\n",
        "  endcase\n",
        "end\n",
        "\n",
        "/* Output logic */\n",
        "always @(*) begin\n",
        "  Cnt = (state == ReadTag);\n",
        "  Twr = (state == UpdateTag);\n",
        "  DTwr = (state == UpdateDirty);\n",
        "  Dwr = (state == ReadBlk || state == WriteData);\n",
        "  Rwr = (state == WriteBlock);  // RAM Write\n",
        "  Mux = (state == ReadBlk || state == WriteBlock);\n",
        "  Done = (state == ReadData || state == WriteData);\n",
        "end\n",
        "\n",
        "endmodule"
      ]
    },
    {
      "cell_type": "markdown",
      "metadata": {
        "id": "B0UmC8hhSvEC"
      },
      "source": [
        "#### Graphviz"
      ]
    },
    {
      "cell_type": "code",
      "execution_count": 43,
      "metadata": {
        "id": "AjDpXb2xS4RY"
      },
      "outputs": [],
      "source": [
        "# installing the Graphviz\n",
        "!apt install -y graphviz >& /dev/null\n",
        "!pip install graphviz  >& /dev/null"
      ]
    },
    {
      "cell_type": "code",
      "execution_count": 44,
      "metadata": {
        "colab": {
          "base_uri": "https://localhost:8080/",
          "height": 35
        },
        "id": "zwgGcybH9fdk",
        "outputId": "c6781edd-4ce7-4325-802c-68ee7d66d1f4"
      },
      "outputs": [
        {
          "output_type": "execute_result",
          "data": {
            "text/plain": [
              "'fsmCache.gv.pdf'"
            ],
            "application/vnd.google.colaboratory.intrinsic+json": {
              "type": "string"
            }
          },
          "metadata": {},
          "execution_count": 44
        }
      ],
      "source": [
        "\n",
        "from graphviz import Digraph\n",
        "e = Digraph('fsmCache', filename='fsmCache.gv')\n",
        "\n",
        "e.attr('node', shape='box')\n",
        "\n",
        "with e.subgraph() as s:\n",
        "    s.attr(rank='bottom')\n",
        "    s.node('ReadData', label = 'ReadData Done == 1')\n",
        "    s.node('ReadTag', label = 'ReadTag Cnt == 1',shape=\"box3d\")\n",
        "\n",
        "e.edge('ReadTag','ReadData','c&v');\n",
        "e.edge('ReadTag','ReadBlock','¬(c&v)');\n",
        "\n",
        "e.edge('ReadData','ReadTag');\n",
        "\n",
        "\n",
        "with e.subgraph() as s:\n",
        "    s.attr(rank='top')\n",
        "    s.node('ReadBlock', label = 'ReadBlock Dwr == & 1 Mux == 1')\n",
        "    s.node('UpdateTag', label = 'UpdateTag Twr == 1')\n",
        "\n",
        "e.edge('ReadBlock','UpdateTag','END');\n",
        "e.edge('ReadBlock','ReadBlock','¬END');\n",
        "\n",
        "e.edge(\"UpdateTag\",\"ReadTag\")\n",
        "e.view()"
      ]
    },
    {
      "cell_type": "code",
      "execution_count": 45,
      "metadata": {
        "colab": {
          "base_uri": "https://localhost:8080/",
          "height": 428
        },
        "id": "Tqvciiix923k",
        "outputId": "00dc322f-53f9-417a-81df-3525740a5777"
      },
      "outputs": [
        {
          "output_type": "execute_result",
          "data": {
            "image/svg+xml": "<?xml version=\"1.0\" encoding=\"UTF-8\" standalone=\"no\"?>\n<!DOCTYPE svg PUBLIC \"-//W3C//DTD SVG 1.1//EN\"\n \"http://www.w3.org/Graphics/SVG/1.1/DTD/svg11.dtd\">\n<!-- Generated by graphviz version 2.43.0 (0)\n -->\n<!-- Title: fsmCache Pages: 1 -->\n<svg width=\"288pt\" height=\"305pt\"\n viewBox=\"0.00 0.00 288.40 305.00\" xmlns=\"http://www.w3.org/2000/svg\" xmlns:xlink=\"http://www.w3.org/1999/xlink\">\n<g id=\"graph0\" class=\"graph\" transform=\"scale(1 1) rotate(0) translate(4 301)\">\n<title>fsmCache</title>\n<polygon fill=\"white\" stroke=\"transparent\" points=\"-4,4 -4,-301 284.4,-301 284.4,4 -4,4\"/>\n<!-- ReadData -->\n<g id=\"node1\" class=\"node\">\n<title>ReadData</title>\n<polygon fill=\"none\" stroke=\"black\" points=\"266.5,-297 132.5,-297 132.5,-261 266.5,-261 266.5,-297\"/>\n<text text-anchor=\"middle\" x=\"199.5\" y=\"-275.3\" font-family=\"Times,serif\" font-size=\"14.00\">ReadData Done == 1</text>\n</g>\n<!-- ReadTag -->\n<g id=\"node2\" class=\"node\">\n<title>ReadTag</title>\n<polygon fill=\"none\" stroke=\"black\" points=\"259,-210 144,-210 140,-206 140,-174 255,-174 259,-178 259,-210\"/>\n<polyline fill=\"none\" stroke=\"black\" points=\"255,-206 140,-206 \"/>\n<polyline fill=\"none\" stroke=\"black\" points=\"255,-206 255,-174 \"/>\n<polyline fill=\"none\" stroke=\"black\" points=\"255,-206 259,-210 \"/>\n<text text-anchor=\"middle\" x=\"199.5\" y=\"-188.3\" font-family=\"Times,serif\" font-size=\"14.00\">ReadTag Cnt == 1</text>\n</g>\n<!-- ReadData&#45;&gt;ReadTag -->\n<g id=\"edge3\" class=\"edge\">\n<title>ReadData&#45;&gt;ReadTag</title>\n<path fill=\"none\" stroke=\"black\" d=\"M198.23,-260.88C197.67,-251.23 197.19,-238.94 197.5,-228 197.57,-225.44 197.68,-222.79 197.8,-220.13\"/>\n<polygon fill=\"black\" stroke=\"black\" points=\"201.29,-220.25 198.33,-210.08 194.3,-219.88 201.29,-220.25\"/>\n</g>\n<!-- ReadTag&#45;&gt;ReadData -->\n<g id=\"edge1\" class=\"edge\">\n<title>ReadTag&#45;&gt;ReadData</title>\n<path fill=\"none\" stroke=\"black\" d=\"M199.5,-210.18C199.5,-221.81 199.5,-237.42 199.5,-250.73\"/>\n<polygon fill=\"black\" stroke=\"black\" points=\"196,-250.8 199.5,-260.8 203,-250.8 196,-250.8\"/>\n<text text-anchor=\"middle\" x=\"212\" y=\"-231.8\" font-family=\"Times,serif\" font-size=\"14.00\">c&amp;v</text>\n</g>\n<!-- ReadBlock -->\n<g id=\"node3\" class=\"node\">\n<title>ReadBlock</title>\n<polygon fill=\"none\" stroke=\"black\" points=\"211,-123 0,-123 0,-87 211,-87 211,-123\"/>\n<text text-anchor=\"middle\" x=\"105.5\" y=\"-101.3\" font-family=\"Times,serif\" font-size=\"14.00\">ReadBlock Dwr == &amp; 1 Mux == 1</text>\n</g>\n<!-- ReadTag&#45;&gt;ReadBlock -->\n<g id=\"edge2\" class=\"edge\">\n<title>ReadTag&#45;&gt;ReadBlock</title>\n<path fill=\"none\" stroke=\"black\" d=\"M180.48,-173.8C166.59,-161.24 147.58,-144.05 132.17,-130.12\"/>\n<polygon fill=\"black\" stroke=\"black\" points=\"134.26,-127.29 124.49,-123.18 129.56,-132.48 134.26,-127.29\"/>\n<text text-anchor=\"middle\" x=\"179.5\" y=\"-144.8\" font-family=\"Times,serif\" font-size=\"14.00\">¬(c&amp;v)</text>\n</g>\n<!-- ReadBlock&#45;&gt;ReadBlock -->\n<g id=\"edge5\" class=\"edge\">\n<title>ReadBlock&#45;&gt;ReadBlock</title>\n<path fill=\"none\" stroke=\"black\" d=\"M211.34,-111.47C222.12,-110.19 229,-108.04 229,-105 229,-103.06 226.18,-101.47 221.31,-100.25\"/>\n<polygon fill=\"black\" stroke=\"black\" points=\"221.79,-96.78 211.34,-98.53 220.6,-103.68 221.79,-96.78\"/>\n<text text-anchor=\"middle\" x=\"247.5\" y=\"-101.3\" font-family=\"Times,serif\" font-size=\"14.00\">¬END</text>\n</g>\n<!-- UpdateTag -->\n<g id=\"node4\" class=\"node\">\n<title>UpdateTag</title>\n<polygon fill=\"none\" stroke=\"black\" points=\"265,-36 134,-36 134,0 265,0 265,-36\"/>\n<text text-anchor=\"middle\" x=\"199.5\" y=\"-14.3\" font-family=\"Times,serif\" font-size=\"14.00\">UpdateTag Twr == 1</text>\n</g>\n<!-- ReadBlock&#45;&gt;UpdateTag -->\n<g id=\"edge4\" class=\"edge\">\n<title>ReadBlock&#45;&gt;UpdateTag</title>\n<path fill=\"none\" stroke=\"black\" d=\"M124.52,-86.8C138.41,-74.24 157.42,-57.05 172.83,-43.12\"/>\n<polygon fill=\"black\" stroke=\"black\" points=\"175.44,-45.48 180.51,-36.18 170.74,-40.29 175.44,-45.48\"/>\n<text text-anchor=\"middle\" x=\"172.5\" y=\"-57.8\" font-family=\"Times,serif\" font-size=\"14.00\">END</text>\n</g>\n<!-- UpdateTag&#45;&gt;ReadTag -->\n<g id=\"edge6\" class=\"edge\">\n<title>UpdateTag&#45;&gt;ReadTag</title>\n<path fill=\"none\" stroke=\"black\" d=\"M228.62,-36.12C245.75,-47.99 265.89,-65.5 275.5,-87 282.03,-101.61 282.03,-108.39 275.5,-123 267.39,-141.14 251.79,-156.44 236.82,-167.91\"/>\n<polygon fill=\"black\" stroke=\"black\" points=\"234.64,-165.16 228.62,-173.88 238.76,-170.82 234.64,-165.16\"/>\n</g>\n</g>\n</svg>\n",
            "text/plain": [
              "<graphviz.sources.Source at 0x7d2bd4b68c10>"
            ]
          },
          "metadata": {},
          "execution_count": 45
        }
      ],
      "source": [
        "from graphviz import Source\n",
        "Source.from_file('fsmCache.gv') # visualizando"
      ]
    },
    {
      "cell_type": "markdown",
      "metadata": {
        "id": "zrD-T4n9UER0"
      },
      "source": [
        "## Main Project"
      ]
    },
    {
      "cell_type": "markdown",
      "metadata": {
        "id": "p4AdhlEhU_Ye"
      },
      "source": [
        "### Modulo Main.v\n",
        "\n",
        "Must include submodules created to parameterized cache implementation\n"
      ]
    },
    {
      "cell_type": "code",
      "execution_count": 17,
      "metadata": {
        "colab": {
          "base_uri": "https://localhost:8080/",
          "height": 882
        },
        "id": "3TLKzm9g6M8T",
        "outputId": "06286d25-3d06-448e-a182-8b5cfb2c2342"
      },
      "outputs": [
        {
          "output_type": "stream",
          "name": "stdout",
          "text": [
            "Installing. Please wait... done!\n",
            "The process occurred error, see below the error:\n",
            "\n",
            "./fsm.v:36: error: Unable to bind wire/reg/memory `ReadBlock' in `cache_read_only.FSM'\n",
            "1 error(s) during elaboration.\n",
            "\n"
          ]
        },
        {
          "output_type": "display_data",
          "data": {
            "text/plain": [
              "<IPython.core.display.SVG object>"
            ],
            "image/svg+xml": "<svg xmlns=\"http://www.w3.org/2000/svg\" xmlns:xlink=\"http://www.w3.org/1999/xlink\" xmlns:s=\"https://github.com/nturley/netlistsvg\" width=\"1127\" height=\"756\"><style>svg {\n  stroke:#000;\n  fill:none;\n}\ntext {\n  fill:#000;\n  stroke:none;\n  font-size:10px;\n  font-weight: bold;\n  font-family: &quot;Courier New&quot;, monospace;\n}\nline {\n    stroke-linecap: round;\n}\n.nodelabel {\n  text-anchor: middle;\n}\n.inputPortLabel {\n  text-anchor: end;\n}\n.splitjoinBody {\n  fill:#000;\n}</style><g s:type=\"generic\" transform=\"translate(675,22)\" s:width=\"30\" s:height=\"40\" id=\"cell_DataMux\"><text x=\"15\" y=\"-4\" class=\"nodelabel cell_DataMux\" s:attribute=\"ref\">mux</text><rect width=\"30\" height=\"40\" s:generic=\"body\" class=\"cell_DataMux\"/><g transform=\"translate(0,10)\" s:x=\"0\" s:y=\"10\" s:pid=\"in0\" id=\"port_DataMux~din_0\"><text x=\"-3\" y=\"-4\" class=\"inputPortLabel cell_DataMux\">din_0</text></g><g transform=\"translate(0,30)\" s:x=\"0\" s:y=\"10\" s:pid=\"in0\" id=\"port_DataMux~sel\"><text x=\"-3\" y=\"-4\" class=\"inputPortLabel cell_DataMux\">sel</text></g><g transform=\"translate(30,10)\" s:x=\"30\" s:y=\"10\" s:pid=\"out0\" id=\"port_DataMux~mux_out\"><text x=\"5\" y=\"-4\" style=\"fill:#000; stroke:none\" class=\"cell_DataMux\">mux_out</text></g></g><g s:type=\"generic\" transform=\"translate(528,267.5)\" s:width=\"30\" s:height=\"40\" id=\"cell_FSM\"><text x=\"15\" y=\"-4\" class=\"nodelabel cell_FSM\" s:attribute=\"ref\">fsm</text><rect width=\"30\" height=\"140\" s:generic=\"body\" class=\"cell_FSM\"/><g transform=\"translate(0,10)\" s:x=\"0\" s:y=\"10\" s:pid=\"in0\" id=\"port_FSM~RB_End\"><text x=\"-3\" y=\"-4\" class=\"inputPortLabel cell_FSM\">RB_End</text></g><g transform=\"translate(0,30)\" s:x=\"0\" s:y=\"10\" s:pid=\"in0\" id=\"port_FSM~WB_End\"><text x=\"-3\" y=\"-4\" class=\"inputPortLabel cell_FSM\">WB_End</text></g><g transform=\"translate(0,50)\" s:x=\"0\" s:y=\"10\" s:pid=\"in0\" id=\"port_FSM~c\"><text x=\"-3\" y=\"-4\" class=\"inputPortLabel cell_FSM\">c</text></g><g transform=\"translate(0,70)\" s:x=\"0\" s:y=\"10\" s:pid=\"in0\" id=\"port_FSM~clk\"><text x=\"-3\" y=\"-4\" class=\"inputPortLabel cell_FSM\">clk</text></g><g transform=\"translate(0,90)\" s:x=\"0\" s:y=\"10\" s:pid=\"in0\" id=\"port_FSM~op\"><text x=\"-3\" y=\"-4\" class=\"inputPortLabel cell_FSM\">op</text></g><g transform=\"translate(0,110)\" s:x=\"0\" s:y=\"10\" s:pid=\"in0\" id=\"port_FSM~reset\"><text x=\"-3\" y=\"-4\" class=\"inputPortLabel cell_FSM\">reset</text></g><g transform=\"translate(0,130)\" s:x=\"0\" s:y=\"10\" s:pid=\"in0\" id=\"port_FSM~v\"><text x=\"-3\" y=\"-4\" class=\"inputPortLabel cell_FSM\">v</text></g><g transform=\"translate(30,10)\" s:x=\"30\" s:y=\"10\" s:pid=\"out0\" id=\"port_FSM~Cnt\"><text x=\"5\" y=\"-4\" style=\"fill:#000; stroke:none\" class=\"cell_FSM\">Cnt</text></g><g transform=\"translate(30,30)\" s:x=\"30\" s:y=\"10\" s:pid=\"out0\" id=\"port_FSM~DTwr\"><text x=\"5\" y=\"-4\" style=\"fill:#000; stroke:none\" class=\"cell_FSM\">DTwr</text></g><g transform=\"translate(30,50)\" s:x=\"30\" s:y=\"10\" s:pid=\"out0\" id=\"port_FSM~Done\"><text x=\"5\" y=\"-4\" style=\"fill:#000; stroke:none\" class=\"cell_FSM\">Done</text></g><g transform=\"translate(30,70)\" s:x=\"30\" s:y=\"10\" s:pid=\"out0\" id=\"port_FSM~Dwr\"><text x=\"5\" y=\"-4\" style=\"fill:#000; stroke:none\" class=\"cell_FSM\">Dwr</text></g><g transform=\"translate(30,90)\" s:x=\"30\" s:y=\"10\" s:pid=\"out0\" id=\"port_FSM~Mux\"><text x=\"5\" y=\"-4\" style=\"fill:#000; stroke:none\" class=\"cell_FSM\">Mux</text></g><g transform=\"translate(30,110)\" s:x=\"30\" s:y=\"10\" s:pid=\"out0\" id=\"port_FSM~Rwr\"><text x=\"5\" y=\"-4\" style=\"fill:#000; stroke:none\" class=\"cell_FSM\">Rwr</text></g><g transform=\"translate(30,130)\" s:x=\"30\" s:y=\"10\" s:pid=\"out0\" id=\"port_FSM~Twr\"><text x=\"5\" y=\"-4\" style=\"fill:#000; stroke:none\" class=\"cell_FSM\">Twr</text></g></g><g s:type=\"generic\" transform=\"translate(677.1666666666666,98)\" s:width=\"30\" s:height=\"40\" id=\"cell_R\"><text x=\"15\" y=\"-4\" class=\"nodelabel cell_R\" s:attribute=\"ref\">ram</text><rect width=\"30\" height=\"100\" s:generic=\"body\" class=\"cell_R\"/><g transform=\"translate(0,10)\" s:x=\"0\" s:y=\"10\" s:pid=\"in0\" id=\"port_R~addr\"><text x=\"-3\" y=\"-4\" class=\"inputPortLabel cell_R\">addr</text></g><g transform=\"translate(0,30)\" s:x=\"0\" s:y=\"10\" s:pid=\"in0\" id=\"port_R~clk\"><text x=\"-3\" y=\"-4\" class=\"inputPortLabel cell_R\">clk</text></g><g transform=\"translate(0,50)\" s:x=\"0\" s:y=\"10\" s:pid=\"in0\" id=\"port_R~din\"><text x=\"-3\" y=\"-4\" class=\"inputPortLabel cell_R\">din</text></g><g transform=\"translate(0,70)\" s:x=\"0\" s:y=\"10\" s:pid=\"in0\" id=\"port_R~reset\"><text x=\"-3\" y=\"-4\" class=\"inputPortLabel cell_R\">reset</text></g><g transform=\"translate(0,90)\" s:x=\"0\" s:y=\"10\" s:pid=\"in0\" id=\"port_R~wr\"><text x=\"-3\" y=\"-4\" class=\"inputPortLabel cell_R\">wr</text></g><g transform=\"translate(30,10)\" s:x=\"30\" s:y=\"10\" s:pid=\"out0\" id=\"port_R~dout\"><text x=\"5\" y=\"-4\" style=\"fill:#000; stroke:none\" class=\"cell_R\">dout</text></g></g><g s:type=\"generic\" transform=\"translate(1039,482)\" s:width=\"30\" s:height=\"40\" id=\"cell_T\"><text x=\"15\" y=\"-4\" class=\"nodelabel cell_T\" s:attribute=\"ref\">Mtag</text><rect width=\"30\" height=\"100\" s:generic=\"body\" class=\"cell_T\"/><g transform=\"translate(0,10)\" s:x=\"0\" s:y=\"10\" s:pid=\"in0\" id=\"port_T~clk\"><text x=\"-3\" y=\"-4\" class=\"inputPortLabel cell_T\">clk</text></g><g transform=\"translate(0,30)\" s:x=\"0\" s:y=\"10\" s:pid=\"in0\" id=\"port_T~din\"><text x=\"-3\" y=\"-4\" class=\"inputPortLabel cell_T\">din</text></g><g transform=\"translate(0,50)\" s:x=\"0\" s:y=\"10\" s:pid=\"in0\" id=\"port_T~line\"><text x=\"-3\" y=\"-4\" class=\"inputPortLabel cell_T\">line</text></g><g transform=\"translate(0,70)\" s:x=\"0\" s:y=\"10\" s:pid=\"in0\" id=\"port_T~reset\"><text x=\"-3\" y=\"-4\" class=\"inputPortLabel cell_T\">reset</text></g><g transform=\"translate(0,90)\" s:x=\"0\" s:y=\"10\" s:pid=\"in0\" id=\"port_T~wr\"><text x=\"-3\" y=\"-4\" class=\"inputPortLabel cell_T\">wr</text></g><g transform=\"translate(30,10)\" s:x=\"30\" s:y=\"10\" s:pid=\"out0\" id=\"port_T~dout\"><text x=\"5\" y=\"-4\" style=\"fill:#000; stroke:none\" class=\"cell_T\">dout</text></g></g><g s:type=\"generic\" transform=\"translate(1039,645)\" s:width=\"30\" s:height=\"40\" id=\"cell_V\"><text x=\"15\" y=\"-4\" class=\"nodelabel cell_V\" s:attribute=\"ref\">valid</text><rect width=\"30\" height=\"80\" s:generic=\"body\" class=\"cell_V\"/><g transform=\"translate(0,10)\" s:x=\"0\" s:y=\"10\" s:pid=\"in0\" id=\"port_V~clk\"><text x=\"-3\" y=\"-4\" class=\"inputPortLabel cell_V\">clk</text></g><g transform=\"translate(0,30)\" s:x=\"0\" s:y=\"10\" s:pid=\"in0\" id=\"port_V~line\"><text x=\"-3\" y=\"-4\" class=\"inputPortLabel cell_V\">line</text></g><g transform=\"translate(0,50)\" s:x=\"0\" s:y=\"10\" s:pid=\"in0\" id=\"port_V~reset\"><text x=\"-3\" y=\"-4\" class=\"inputPortLabel cell_V\">reset</text></g><g transform=\"translate(0,70)\" s:x=\"0\" s:y=\"10\" s:pid=\"in0\" id=\"port_V~wr\"><text x=\"-3\" y=\"-4\" class=\"inputPortLabel cell_V\">wr</text></g><g transform=\"translate(30,10)\" s:x=\"30\" s:y=\"10\" s:pid=\"out0\" id=\"port_V~dout\"><text x=\"5\" y=\"-4\" style=\"fill:#000; stroke:none\" class=\"cell_V\">dout</text></g></g><g s:type=\"generic\" transform=\"translate(381,543.5)\" s:width=\"30\" s:height=\"40\" id=\"cell_comp\"><text x=\"15\" y=\"-4\" class=\"nodelabel cell_comp\" s:attribute=\"ref\">comparator</text><rect width=\"30\" height=\"40\" s:generic=\"body\" class=\"cell_comp\"/><g transform=\"translate(0,10)\" s:x=\"0\" s:y=\"10\" s:pid=\"in0\" id=\"port_comp~tag\"><text x=\"-3\" y=\"-4\" class=\"inputPortLabel cell_comp\">tag</text></g><g transform=\"translate(0,30)\" s:x=\"0\" s:y=\"10\" s:pid=\"in0\" id=\"port_comp~tag_in\"><text x=\"-3\" y=\"-4\" class=\"inputPortLabel cell_comp\">tag_in</text></g><g transform=\"translate(30,10)\" s:x=\"30\" s:y=\"10\" s:pid=\"out0\" id=\"port_comp~out\"><text x=\"5\" y=\"-4\" style=\"fill:#000; stroke:none\" class=\"cell_comp\">out</text></g></g><g s:type=\"generic\" transform=\"translate(185,267.5)\" s:width=\"30\" s:height=\"40\" id=\"cell_countR\"><text x=\"15\" y=\"-4\" class=\"nodelabel cell_countR\" s:attribute=\"ref\">counter</text><rect width=\"30\" height=\"40\" s:generic=\"body\" class=\"cell_countR\"/><g transform=\"translate(0,10)\" s:x=\"0\" s:y=\"10\" s:pid=\"in0\" id=\"port_countR~clk\"><text x=\"-3\" y=\"-4\" class=\"inputPortLabel cell_countR\">clk</text></g><g transform=\"translate(0,30)\" s:x=\"0\" s:y=\"10\" s:pid=\"in0\" id=\"port_countR~reset\"><text x=\"-3\" y=\"-4\" class=\"inputPortLabel cell_countR\">reset</text></g><g transform=\"translate(30,10)\" s:x=\"30\" s:y=\"10\" s:pid=\"out0\" id=\"port_countR~End\"><text x=\"5\" y=\"-4\" style=\"fill:#000; stroke:none\" class=\"cell_countR\">End</text></g><g transform=\"translate(30,30)\" s:x=\"30\" s:y=\"10\" s:pid=\"out0\" id=\"port_countR~out\"><text x=\"5\" y=\"-4\" style=\"fill:#000; stroke:none\" class=\"cell_countR\">out</text></g></g><g s:type=\"generic\" transform=\"translate(185,355.5)\" s:width=\"30\" s:height=\"40\" id=\"cell_countW\"><text x=\"15\" y=\"-4\" class=\"nodelabel cell_countW\" s:attribute=\"ref\">counter</text><rect width=\"30\" height=\"40\" s:generic=\"body\" class=\"cell_countW\"/><g transform=\"translate(0,10)\" s:x=\"0\" s:y=\"10\" s:pid=\"in0\" id=\"port_countW~clk\"><text x=\"-3\" y=\"-4\" class=\"inputPortLabel cell_countW\">clk</text></g><g transform=\"translate(0,30)\" s:x=\"0\" s:y=\"10\" s:pid=\"in0\" id=\"port_countW~reset\"><text x=\"-3\" y=\"-4\" class=\"inputPortLabel cell_countW\">reset</text></g><g transform=\"translate(30,10)\" s:x=\"30\" s:y=\"10\" s:pid=\"out0\" id=\"port_countW~End\"><text x=\"5\" y=\"-4\" style=\"fill:#000; stroke:none\" class=\"cell_countW\">End</text></g><g transform=\"translate(30,30)\" s:x=\"30\" s:y=\"10\" s:pid=\"out0\" id=\"port_countW~out\"><text x=\"5\" y=\"-4\" style=\"fill:#000; stroke:none\" class=\"cell_countW\">out</text></g></g><g s:type=\"generic\" transform=\"translate(863,22)\" s:width=\"30\" s:height=\"40\" id=\"cell_dcache\"><text x=\"15\" y=\"-4\" class=\"nodelabel cell_dcache\" s:attribute=\"ref\">datacache</text><rect width=\"30\" height=\"100\" s:generic=\"body\" class=\"cell_dcache\"/><g transform=\"translate(0,10)\" s:x=\"0\" s:y=\"10\" s:pid=\"in0\" id=\"port_dcache~blk\"><text x=\"-3\" y=\"-4\" class=\"inputPortLabel cell_dcache\">blk</text></g><g transform=\"translate(0,30)\" s:x=\"0\" s:y=\"10\" s:pid=\"in0\" id=\"port_dcache~clk\"><text x=\"-3\" y=\"-4\" class=\"inputPortLabel cell_dcache\">clk</text></g><g transform=\"translate(0,50)\" s:x=\"0\" s:y=\"10\" s:pid=\"in0\" id=\"port_dcache~din\"><text x=\"-3\" y=\"-4\" class=\"inputPortLabel cell_dcache\">din</text></g><g transform=\"translate(0,70)\" s:x=\"0\" s:y=\"10\" s:pid=\"in0\" id=\"port_dcache~line\"><text x=\"-3\" y=\"-4\" class=\"inputPortLabel cell_dcache\">line</text></g><g transform=\"translate(0,90)\" s:x=\"0\" s:y=\"10\" s:pid=\"in0\" id=\"port_dcache~wr\"><text x=\"-3\" y=\"-4\" class=\"inputPortLabel cell_dcache\">wr</text></g><g transform=\"translate(30,10)\" s:x=\"30\" s:y=\"10\" s:pid=\"out0\" id=\"port_dcache~dout\"><text x=\"5\" y=\"-4\" style=\"fill:#000; stroke:none\" class=\"cell_dcache\">dout</text></g></g><g s:type=\"inputExt\" transform=\"translate(89,356)\" s:width=\"30\" s:height=\"20\" id=\"cell_clk\"><text x=\"15\" y=\"-4\" class=\"nodelabel cell_clk\" s:attribute=\"ref\">clk</text><s:alias val=\"$_inputExt_\"/><path d=\"M0,0 L0,20 L15,20 L30,10 L15,0 Z\" class=\"cell_clk\"/><g s:x=\"30\" s:y=\"10\" s:pid=\"Y\"/></g><g s:type=\"inputExt\" transform=\"translate(381,451.5)\" s:width=\"30\" s:height=\"20\" id=\"cell_reset\"><text x=\"15\" y=\"-4\" class=\"nodelabel cell_reset\" s:attribute=\"ref\">reset</text><s:alias val=\"$_inputExt_\"/><path d=\"M0,0 L0,20 L15,20 L30,10 L15,0 Z\" class=\"cell_reset\"/><g s:x=\"30\" s:y=\"10\" s:pid=\"Y\"/></g><g s:type=\"inputExt\" transform=\"translate(12,514)\" s:width=\"30\" s:height=\"20\" id=\"cell_address\"><text x=\"15\" y=\"-4\" class=\"nodelabel cell_address\" s:attribute=\"ref\">address</text><s:alias val=\"$_inputExt_\"/><path d=\"M0,0 L0,20 L15,20 L30,10 L15,0 Z\" class=\"cell_address\"/><g s:x=\"30\" s:y=\"10\" s:pid=\"Y\"/></g><g s:type=\"outputExt\" transform=\"translate(1039,22.5)\" s:width=\"30\" s:height=\"20\" id=\"cell_dout\"><text x=\"15\" y=\"-4\" class=\"nodelabel cell_dout\" s:attribute=\"ref\">dout</text><s:alias val=\"$_outputExt_\"/><path d=\"M30,0 L30,20 L15,20 L0,10 L15,0 Z\" class=\"cell_dout\"/><g s:x=\"0\" s:y=\"10\" s:pid=\"A\"/></g><g s:type=\"inputExt\" transform=\"translate(381,175.5)\" s:width=\"30\" s:height=\"20\" id=\"cell_din\"><text x=\"15\" y=\"-4\" class=\"nodelabel cell_din\" s:attribute=\"ref\">din</text><s:alias val=\"$_inputExt_\"/><path d=\"M0,0 L0,20 L15,20 L30,10 L15,0 Z\" class=\"cell_din\"/><g s:x=\"30\" s:y=\"10\" s:pid=\"Y\"/></g><g s:type=\"join\" transform=\"translate(384,88)\" s:width=\"4\" s:height=\"40\" id=\"cell_$join$,31,32,33,7,8,9,10,11,12,13,14,\"><rect width=\"5\" height=\"40\" class=\"splitjoinBody\" s:generic=\"body\"/><s:alias val=\"$_join_\"/><g s:x=\"5\" s:y=\"20\" s:pid=\"out\"/><g transform=\"translate(0,10)\" s:x=\"0\" s:y=\"10\" s:pid=\"in0\"><text x=\"-3\" y=\"-4\" class=\"inputPortLabel\">0:2</text></g><g transform=\"translate(0,30)\" s:x=\"0\" s:y=\"10\" s:pid=\"in0\"><text x=\"-3\" y=\"-4\" class=\"inputPortLabel\">3:10</text></g></g><g s:type=\"split\" transform=\"translate(202.8,503.5)\" s:width=\"5\" s:height=\"40\" id=\"cell_$split$,4,5,6,7,8,9,10,11,12,13,14,\"><rect width=\"5\" height=\"80\" class=\"splitjoinBody\" s:generic=\"body\"/><s:alias val=\"$_split_\"/><g s:x=\"0\" s:y=\"20\" s:pid=\"in\"/><g transform=\"translate(4,10)\" s:x=\"4\" s:y=\"10\" s:pid=\"out0\"><text x=\"5\" y=\"-4\">0:2</text></g><g transform=\"translate(4,30)\" s:x=\"4\" s:y=\"10\" s:pid=\"out0\"><text x=\"5\" y=\"-4\">3:10</text></g><g transform=\"translate(4,50)\" s:x=\"4\" s:y=\"10\" s:pid=\"out0\"><text x=\"5\" y=\"-4\">5:10</text></g><g transform=\"translate(4,70)\" s:x=\"4\" s:y=\"10\" s:pid=\"out0\"><text x=\"5\" y=\"-4\">3:4</text></g></g><line x1=\"207.8\" x2=\"255\" y1=\"514\" y2=\"514\" class=\"net_4,5,6 width_3\" style=\"stroke-width: 2\"/><line x1=\"255\" x2=\"255\" y1=\"514\" y2=\"32.5\" class=\"net_4,5,6 width_3\" style=\"stroke-width: 2\"/><line x1=\"255\" x2=\"675\" y1=\"32.5\" y2=\"32.5\" class=\"net_4,5,6 width_3\" style=\"stroke-width: 2\"/><line x1=\"559\" x2=\"604\" y1=\"358\" y2=\"358\" class=\"net_37 width_1\" style=\"stroke-width: 1\"/><line x1=\"604\" x2=\"604\" y1=\"358\" y2=\"52.5\" class=\"net_37 width_1\" style=\"stroke-width: 1\"/><line x1=\"604\" x2=\"675\" y1=\"52.5\" y2=\"52.5\" class=\"net_37 width_1\" style=\"stroke-width: 1\"/><line x1=\"216\" x2=\"528\" y1=\"278\" y2=\"278\" class=\"net_42 width_1\" style=\"stroke-width: 1\"/><line x1=\"216\" x2=\"441\" y1=\"366\" y2=\"366\" class=\"net_45 width_1\" style=\"stroke-width: 1\"/><line x1=\"441\" x2=\"441\" y1=\"366\" y2=\"298\" class=\"net_45 width_1\" style=\"stroke-width: 1\"/><line x1=\"441\" x2=\"528\" y1=\"298\" y2=\"298\" class=\"net_45 width_1\" style=\"stroke-width: 1\"/><line x1=\"412\" x2=\"461\" y1=\"554\" y2=\"554\" class=\"net_46 width_1\" style=\"stroke-width: 1\"/><line x1=\"461\" x2=\"461\" y1=\"554\" y2=\"318\" class=\"net_46 width_1\" style=\"stroke-width: 1\"/><line x1=\"461\" x2=\"528\" y1=\"318\" y2=\"318\" class=\"net_46 width_1\" style=\"stroke-width: 1\"/><line x1=\"119\" x2=\"129\" y1=\"366\" y2=\"366\" class=\"net_2 width_1\" style=\"stroke-width: 1\"/><line x1=\"129\" x2=\"129\" y1=\"366\" y2=\"408.5\" class=\"net_2 width_1\" style=\"stroke-width: 1\"/><line x1=\"129\" x2=\"451\" y1=\"408.5\" y2=\"408.5\" class=\"net_2 width_1\" style=\"stroke-width: 1\"/><line x1=\"451\" x2=\"451\" y1=\"408.5\" y2=\"338\" class=\"net_2 width_1\" style=\"stroke-width: 1\"/><circle cx=\"129\" cy=\"366\" r=\"2\" style=\"fill:#000\" class=\"net_2 width_1\"/><circle cx=\"129\" cy=\"408.5\" r=\"2\" style=\"fill:#000\" class=\"net_2 width_1\"/><line x1=\"451\" x2=\"528\" y1=\"338\" y2=\"338\" class=\"net_2 width_1\" style=\"stroke-width: 1\"/><line x1=\"119\" x2=\"129\" y1=\"366\" y2=\"366\" class=\"net_2 width_1\" style=\"stroke-width: 1\"/><line x1=\"129\" x2=\"129\" y1=\"366\" y2=\"75\" class=\"net_2 width_1\" style=\"stroke-width: 1\"/><line x1=\"129\" x2=\"285\" y1=\"75\" y2=\"75\" class=\"net_2 width_1\" style=\"stroke-width: 1\"/><line x1=\"285\" x2=\"285\" y1=\"75\" y2=\"154.5\" class=\"net_2 width_1\" style=\"stroke-width: 1\"/><line x1=\"285\" x2=\"594\" y1=\"154.5\" y2=\"154.5\" class=\"net_2 width_1\" style=\"stroke-width: 1\"/><line x1=\"594\" x2=\"594\" y1=\"154.5\" y2=\"128.5\" class=\"net_2 width_1\" style=\"stroke-width: 1\"/><circle cx=\"285\" cy=\"75\" r=\"2\" style=\"fill:#000\" class=\"net_2 width_1\"/><line x1=\"594\" x2=\"677.1666666666666\" y1=\"128.5\" y2=\"128.5\" class=\"net_2 width_1\" style=\"stroke-width: 1\"/><line x1=\"119\" x2=\"129\" y1=\"366\" y2=\"366\" class=\"net_2 width_1\" style=\"stroke-width: 1\"/><line x1=\"129\" x2=\"129\" y1=\"366\" y2=\"492.5\" class=\"net_2 width_1\" style=\"stroke-width: 1\"/><circle cx=\"129\" cy=\"492.5\" r=\"2\" style=\"fill:#000\" class=\"net_2 width_1\"/><line x1=\"129\" x2=\"1039\" y1=\"492.5\" y2=\"492.5\" class=\"net_2 width_1\" style=\"stroke-width: 1\"/><line x1=\"119\" x2=\"129\" y1=\"366\" y2=\"366\" class=\"net_2 width_1\" style=\"stroke-width: 1\"/><line x1=\"129\" x2=\"129\" y1=\"366\" y2=\"655.5\" class=\"net_2 width_1\" style=\"stroke-width: 1\"/><line x1=\"129\" x2=\"1039\" y1=\"655.5\" y2=\"655.5\" class=\"net_2 width_1\" style=\"stroke-width: 1\"/><line x1=\"119\" x2=\"129\" y1=\"366\" y2=\"366\" class=\"net_2 width_1\" style=\"stroke-width: 1\"/><line x1=\"129\" x2=\"129\" y1=\"366\" y2=\"278\" class=\"net_2 width_1\" style=\"stroke-width: 1\"/><circle cx=\"129\" cy=\"278\" r=\"2\" style=\"fill:#000\" class=\"net_2 width_1\"/><line x1=\"129\" x2=\"185\" y1=\"278\" y2=\"278\" class=\"net_2 width_1\" style=\"stroke-width: 1\"/><line x1=\"119\" x2=\"185\" y1=\"366\" y2=\"366\" class=\"net_2 width_1\" style=\"stroke-width: 1\"/><line x1=\"119\" x2=\"129\" y1=\"366\" y2=\"366\" class=\"net_2 width_1\" style=\"stroke-width: 1\"/><line x1=\"129\" x2=\"129\" y1=\"366\" y2=\"75\" class=\"net_2 width_1\" style=\"stroke-width: 1\"/><line x1=\"129\" x2=\"798\" y1=\"75\" y2=\"75\" class=\"net_2 width_1\" style=\"stroke-width: 1\"/><line x1=\"798\" x2=\"798\" y1=\"75\" y2=\"52.5\" class=\"net_2 width_1\" style=\"stroke-width: 1\"/><line x1=\"798\" x2=\"863\" y1=\"52.5\" y2=\"52.5\" class=\"net_2 width_1\" style=\"stroke-width: 1\"/><line x1=\"411\" x2=\"471\" y1=\"461.5\" y2=\"461.5\" class=\"net_3 width_1\" style=\"stroke-width: 1\"/><line x1=\"471\" x2=\"471\" y1=\"461.5\" y2=\"378\" class=\"net_3 width_1\" style=\"stroke-width: 1\"/><circle cx=\"471\" cy=\"461.5\" r=\"2\" style=\"fill:#000\" class=\"net_3 width_1\"/><circle cx=\"471\" cy=\"378\" r=\"2\" style=\"fill:#000\" class=\"net_3 width_1\"/><line x1=\"471\" x2=\"528\" y1=\"378\" y2=\"378\" class=\"net_3 width_1\" style=\"stroke-width: 1\"/><line x1=\"411\" x2=\"471\" y1=\"461.5\" y2=\"461.5\" class=\"net_3 width_1\" style=\"stroke-width: 1\"/><line x1=\"471\" x2=\"471\" y1=\"461.5\" y2=\"201.5\" class=\"net_3 width_1\" style=\"stroke-width: 1\"/><line x1=\"471\" x2=\"624\" y1=\"201.5\" y2=\"201.5\" class=\"net_3 width_1\" style=\"stroke-width: 1\"/><line x1=\"624\" x2=\"624\" y1=\"201.5\" y2=\"168.5\" class=\"net_3 width_1\" style=\"stroke-width: 1\"/><line x1=\"624\" x2=\"677.1666666666666\" y1=\"168.5\" y2=\"168.5\" class=\"net_3 width_1\" style=\"stroke-width: 1\"/><line x1=\"411\" x2=\"471\" y1=\"461.5\" y2=\"461.5\" class=\"net_3 width_1\" style=\"stroke-width: 1\"/><line x1=\"471\" x2=\"471\" y1=\"461.5\" y2=\"633.5\" class=\"net_3 width_1\" style=\"stroke-width: 1\"/><line x1=\"471\" x2=\"988\" y1=\"633.5\" y2=\"633.5\" class=\"net_3 width_1\" style=\"stroke-width: 1\"/><line x1=\"988\" x2=\"988\" y1=\"633.5\" y2=\"552.5\" class=\"net_3 width_1\" style=\"stroke-width: 1\"/><circle cx=\"471\" cy=\"633.5\" r=\"2\" style=\"fill:#000\" class=\"net_3 width_1\"/><line x1=\"988\" x2=\"1039\" y1=\"552.5\" y2=\"552.5\" class=\"net_3 width_1\" style=\"stroke-width: 1\"/><line x1=\"411\" x2=\"471\" y1=\"461.5\" y2=\"461.5\" class=\"net_3 width_1\" style=\"stroke-width: 1\"/><line x1=\"471\" x2=\"471\" y1=\"461.5\" y2=\"695.5\" class=\"net_3 width_1\" style=\"stroke-width: 1\"/><line x1=\"471\" x2=\"1039\" y1=\"695.5\" y2=\"695.5\" class=\"net_3 width_1\" style=\"stroke-width: 1\"/><line x1=\"1070\" x2=\"1115\" y1=\"655.5\" y2=\"655.5\" class=\"net_48 width_1\" style=\"stroke-width: 1\"/><line x1=\"1115\" x2=\"1115\" y1=\"655.5\" y2=\"420.5\" class=\"net_48 width_1\" style=\"stroke-width: 1\"/><line x1=\"1115\" x2=\"481\" y1=\"420.5\" y2=\"420.5\" class=\"net_48 width_1\" style=\"stroke-width: 1\"/><line x1=\"481\" x2=\"481\" y1=\"420.5\" y2=\"398\" class=\"net_48 width_1\" style=\"stroke-width: 1\"/><line x1=\"481\" x2=\"528\" y1=\"398\" y2=\"398\" class=\"net_48 width_1\" style=\"stroke-width: 1\"/><line x1=\"390\" x2=\"677.1666666666666\" y1=\"108.5\" y2=\"108.5\" class=\"net_31,32,33,7,8,9,10,11,12,13,14 width_11\" style=\"stroke-width: 2\"/><line x1=\"411\" x2=\"614\" y1=\"185.5\" y2=\"185.5\" class=\"net_23,24,25,26,27,28,29,30 width_8\" style=\"stroke-width: 2\"/><line x1=\"614\" x2=\"614\" y1=\"185.5\" y2=\"148.5\" class=\"net_23,24,25,26,27,28,29,30 width_8\" style=\"stroke-width: 2\"/><line x1=\"614\" x2=\"677.1666666666666\" y1=\"148.5\" y2=\"148.5\" class=\"net_23,24,25,26,27,28,29,30 width_8\" style=\"stroke-width: 2\"/><line x1=\"559\" x2=\"634\" y1=\"378\" y2=\"378\" class=\"net_43 width_1\" style=\"stroke-width: 1\"/><line x1=\"634\" x2=\"634\" y1=\"378\" y2=\"188.5\" class=\"net_43 width_1\" style=\"stroke-width: 1\"/><line x1=\"634\" x2=\"677.1666666666666\" y1=\"188.5\" y2=\"188.5\" class=\"net_43 width_1\" style=\"stroke-width: 1\"/><line x1=\"207.8\" x2=\"295\" y1=\"554\" y2=\"554\" class=\"net_9,10,11,12,13,14 width_6\" style=\"stroke-width: 2\"/><line x1=\"295\" x2=\"295\" y1=\"554\" y2=\"597.5\" class=\"net_9,10,11,12,13,14 width_6\" style=\"stroke-width: 2\"/><line x1=\"295\" x2=\"968\" y1=\"597.5\" y2=\"597.5\" class=\"net_9,10,11,12,13,14 width_6\" style=\"stroke-width: 2\"/><line x1=\"968\" x2=\"968\" y1=\"597.5\" y2=\"512.5\" class=\"net_9,10,11,12,13,14 width_6\" style=\"stroke-width: 2\"/><circle cx=\"295\" cy=\"554\" r=\"3\" style=\"fill:#000\" class=\"net_9,10,11,12,13,14 width_6\"/><line x1=\"968\" x2=\"1039\" y1=\"512.5\" y2=\"512.5\" class=\"net_9,10,11,12,13,14 width_6\" style=\"stroke-width: 2\"/><line x1=\"207.8\" x2=\"381\" y1=\"554\" y2=\"554\" class=\"net_9,10,11,12,13,14 width_6\" style=\"stroke-width: 2\"/><line x1=\"207.8\" x2=\"285\" y1=\"574\" y2=\"574\" class=\"net_7,8 width_2\" style=\"stroke-width: 2\"/><line x1=\"285\" x2=\"285\" y1=\"574\" y2=\"617.5\" class=\"net_7,8 width_2\" style=\"stroke-width: 2\"/><line x1=\"285\" x2=\"978\" y1=\"617.5\" y2=\"617.5\" class=\"net_7,8 width_2\" style=\"stroke-width: 2\"/><line x1=\"978\" x2=\"978\" y1=\"617.5\" y2=\"532.5\" class=\"net_7,8 width_2\" style=\"stroke-width: 2\"/><circle cx=\"285\" cy=\"574\" r=\"3\" style=\"fill:#000\" class=\"net_7,8 width_2\"/><circle cx=\"285\" cy=\"617.5\" r=\"3\" style=\"fill:#000\" class=\"net_7,8 width_2\"/><line x1=\"978\" x2=\"1039\" y1=\"532.5\" y2=\"532.5\" class=\"net_7,8 width_2\" style=\"stroke-width: 2\"/><line x1=\"207.8\" x2=\"285\" y1=\"574\" y2=\"574\" class=\"net_7,8 width_2\" style=\"stroke-width: 2\"/><line x1=\"285\" x2=\"285\" y1=\"574\" y2=\"675.5\" class=\"net_7,8 width_2\" style=\"stroke-width: 2\"/><line x1=\"285\" x2=\"1039\" y1=\"675.5\" y2=\"675.5\" class=\"net_7,8 width_2\" style=\"stroke-width: 2\"/><line x1=\"207.8\" x2=\"285\" y1=\"574\" y2=\"574\" class=\"net_7,8 width_2\" style=\"stroke-width: 2\"/><line x1=\"285\" x2=\"285\" y1=\"574\" y2=\"216.5\" class=\"net_7,8 width_2\" style=\"stroke-width: 2\"/><line x1=\"285\" x2=\"818\" y1=\"216.5\" y2=\"216.5\" class=\"net_7,8 width_2\" style=\"stroke-width: 2\"/><line x1=\"818\" x2=\"818\" y1=\"216.5\" y2=\"92.5\" class=\"net_7,8 width_2\" style=\"stroke-width: 2\"/><line x1=\"818\" x2=\"863\" y1=\"92.5\" y2=\"92.5\" class=\"net_7,8 width_2\" style=\"stroke-width: 2\"/><line x1=\"559\" x2=\"624\" y1=\"398\" y2=\"398\" class=\"net_44 width_1\" style=\"stroke-width: 1\"/><line x1=\"624\" x2=\"624\" y1=\"398\" y2=\"644.5\" class=\"net_44 width_1\" style=\"stroke-width: 1\"/><line x1=\"624\" x2=\"998\" y1=\"644.5\" y2=\"644.5\" class=\"net_44 width_1\" style=\"stroke-width: 1\"/><line x1=\"998\" x2=\"998\" y1=\"644.5\" y2=\"572.5\" class=\"net_44 width_1\" style=\"stroke-width: 1\"/><circle cx=\"624\" cy=\"644.5\" r=\"2\" style=\"fill:#000\" class=\"net_44 width_1\"/><line x1=\"998\" x2=\"1039\" y1=\"572.5\" y2=\"572.5\" class=\"net_44 width_1\" style=\"stroke-width: 1\"/><line x1=\"559\" x2=\"624\" y1=\"398\" y2=\"398\" class=\"net_44 width_1\" style=\"stroke-width: 1\"/><line x1=\"624\" x2=\"624\" y1=\"398\" y2=\"715.5\" class=\"net_44 width_1\" style=\"stroke-width: 1\"/><line x1=\"624\" x2=\"1039\" y1=\"715.5\" y2=\"715.5\" class=\"net_44 width_1\" style=\"stroke-width: 1\"/><line x1=\"1070\" x2=\"1105\" y1=\"492.5\" y2=\"492.5\" class=\"net_57,58,59,60,61,62 width_6\" style=\"stroke-width: 2\"/><line x1=\"1105\" x2=\"1105\" y1=\"492.5\" y2=\"738\" class=\"net_57,58,59,60,61,62 width_6\" style=\"stroke-width: 2\"/><line x1=\"1105\" x2=\"329\" y1=\"738\" y2=\"738\" class=\"net_57,58,59,60,61,62 width_6\" style=\"stroke-width: 2\"/><line x1=\"329\" x2=\"329\" y1=\"738\" y2=\"574\" class=\"net_57,58,59,60,61,62 width_6\" style=\"stroke-width: 2\"/><line x1=\"329\" x2=\"381\" y1=\"574\" y2=\"574\" class=\"net_57,58,59,60,61,62 width_6\" style=\"stroke-width: 2\"/><line x1=\"559\" x2=\"614\" y1=\"278\" y2=\"278\" class=\"net_38 width_1\" style=\"stroke-width: 1\"/><line x1=\"614\" x2=\"614\" y1=\"278\" y2=\"430.5\" class=\"net_38 width_1\" style=\"stroke-width: 1\"/><line x1=\"614\" x2=\"441\" y1=\"430.5\" y2=\"430.5\" class=\"net_38 width_1\" style=\"stroke-width: 1\"/><line x1=\"441\" x2=\"441\" y1=\"430.5\" y2=\"481.5\" class=\"net_38 width_1\" style=\"stroke-width: 1\"/><line x1=\"441\" x2=\"319\" y1=\"481.5\" y2=\"481.5\" class=\"net_38 width_1\" style=\"stroke-width: 1\"/><line x1=\"319\" x2=\"319\" y1=\"481.5\" y2=\"430.5\" class=\"net_38 width_1\" style=\"stroke-width: 1\"/><line x1=\"319\" x2=\"139\" y1=\"430.5\" y2=\"430.5\" class=\"net_38 width_1\" style=\"stroke-width: 1\"/><line x1=\"139\" x2=\"139\" y1=\"430.5\" y2=\"298\" class=\"net_38 width_1\" style=\"stroke-width: 1\"/><circle cx=\"319\" cy=\"430.5\" r=\"2\" style=\"fill:#000\" class=\"net_38 width_1\"/><circle cx=\"441\" cy=\"430.5\" r=\"2\" style=\"fill:#000\" class=\"net_38 width_1\"/><line x1=\"139\" x2=\"185\" y1=\"298\" y2=\"298\" class=\"net_38 width_1\" style=\"stroke-width: 1\"/><line x1=\"559\" x2=\"614\" y1=\"278\" y2=\"278\" class=\"net_38 width_1\" style=\"stroke-width: 1\"/><line x1=\"614\" x2=\"614\" y1=\"278\" y2=\"430.5\" class=\"net_38 width_1\" style=\"stroke-width: 1\"/><line x1=\"614\" x2=\"139\" y1=\"430.5\" y2=\"430.5\" class=\"net_38 width_1\" style=\"stroke-width: 1\"/><line x1=\"139\" x2=\"139\" y1=\"430.5\" y2=\"386\" class=\"net_38 width_1\" style=\"stroke-width: 1\"/><circle cx=\"139\" cy=\"386\" r=\"2\" style=\"fill:#000\" class=\"net_38 width_1\"/><line x1=\"139\" x2=\"185\" y1=\"386\" y2=\"386\" class=\"net_38 width_1\" style=\"stroke-width: 1\"/><line x1=\"706\" x2=\"863\" y1=\"32.5\" y2=\"32.5\" class=\"net_34,35,36 width_3\" style=\"stroke-width: 2\"/><line x1=\"708.1666666666666\" x2=\"808\" y1=\"108.5\" y2=\"108.5\" class=\"net_49,50,51,52,53,54,55,56 width_8\" style=\"stroke-width: 2\"/><line x1=\"808\" x2=\"808\" y1=\"108.5\" y2=\"72.5\" class=\"net_49,50,51,52,53,54,55,56 width_8\" style=\"stroke-width: 2\"/><line x1=\"808\" x2=\"863\" y1=\"72.5\" y2=\"72.5\" class=\"net_49,50,51,52,53,54,55,56 width_8\" style=\"stroke-width: 2\"/><line x1=\"559\" x2=\"828\" y1=\"338\" y2=\"338\" class=\"net_41 width_1\" style=\"stroke-width: 1\"/><line x1=\"828\" x2=\"828\" y1=\"338\" y2=\"112.5\" class=\"net_41 width_1\" style=\"stroke-width: 1\"/><line x1=\"828\" x2=\"863\" y1=\"112.5\" y2=\"112.5\" class=\"net_41 width_1\" style=\"stroke-width: 1\"/><line x1=\"894\" x2=\"1039\" y1=\"32.5\" y2=\"32.5\" class=\"net_15,16,17,18,19,20,21,22 width_8\" style=\"stroke-width: 2\"/><line x1=\"216\" x2=\"245\" y1=\"298\" y2=\"298\" class=\"net_31,32,33 width_3\" style=\"stroke-width: 2\"/><line x1=\"245\" x2=\"245\" y1=\"298\" y2=\"98.5\" class=\"net_31,32,33 width_3\" style=\"stroke-width: 2\"/><line x1=\"245\" x2=\"384\" y1=\"98.5\" y2=\"98.5\" class=\"net_31,32,33 width_3\" style=\"stroke-width: 2\"/><line x1=\"216\" x2=\"265\" y1=\"386\" y2=\"386\" class=\"net_31,32,33 width_3\" style=\"stroke-width: 2\"/><line x1=\"265\" x2=\"265\" y1=\"386\" y2=\"118.5\" class=\"net_31,32,33 width_3\" style=\"stroke-width: 2\"/><line x1=\"265\" x2=\"319\" y1=\"118.5\" y2=\"118.5\" class=\"net_31,32,33 width_3\" style=\"stroke-width: 2\"/><line x1=\"319\" x2=\"319\" y1=\"118.5\" y2=\"98.5\" class=\"net_31,32,33 width_3\" style=\"stroke-width: 2\"/><circle cx=\"319\" cy=\"98.5\" r=\"3\" style=\"fill:#000\" class=\"net_31,32,33 width_3\"/><line x1=\"319\" x2=\"384\" y1=\"98.5\" y2=\"98.5\" class=\"net_31,32,33 width_3\" style=\"stroke-width: 2\"/><line x1=\"207.8\" x2=\"275\" y1=\"534\" y2=\"534\" class=\"net_7,8,9,10,11,12,13,14 width_8\" style=\"stroke-width: 2\"/><line x1=\"275\" x2=\"275\" y1=\"534\" y2=\"138.5\" class=\"net_7,8,9,10,11,12,13,14 width_8\" style=\"stroke-width: 2\"/><line x1=\"275\" x2=\"329\" y1=\"138.5\" y2=\"138.5\" class=\"net_7,8,9,10,11,12,13,14 width_8\" style=\"stroke-width: 2\"/><line x1=\"329\" x2=\"329\" y1=\"138.5\" y2=\"118.5\" class=\"net_7,8,9,10,11,12,13,14 width_8\" style=\"stroke-width: 2\"/><line x1=\"329\" x2=\"384\" y1=\"118.5\" y2=\"118.5\" class=\"net_7,8,9,10,11,12,13,14 width_8\" style=\"stroke-width: 2\"/><line x1=\"42\" x2=\"202.8\" y1=\"524\" y2=\"524\" class=\"net_4,5,6,7,8,9,10,11,12,13,14 width_11\" style=\"stroke-width: 2\"/><rect x=\"386.5\" y=\"27.5\" width=\"16\" height=\"9\" class=\"net_4,5,6 width_3 busLabel_3\" style=\"fill: white; stroke: none\"/><text x=\"385.5\" y=\"35.5\" class=\"net_4,5,6 width_3 busLabel_3\">/3/</text><rect x=\"536.5\" y=\"103.5\" width=\"22\" height=\"9\" class=\"net_31,32,33,7,8,9,10,11,12,13,14 width_11 busLabel_11\" style=\"fill: white; stroke: none\"/><text x=\"535.5\" y=\"111.5\" class=\"net_31,32,33,7,8,9,10,11,12,13,14 width_11 busLabel_11\">/11/</text><rect x=\"536.5\" y=\"180.5\" width=\"16\" height=\"9\" class=\"net_23,24,25,26,27,28,29,30 width_8 busLabel_8\" style=\"fill: white; stroke: none\"/><text x=\"535.5\" y=\"188.5\" class=\"net_23,24,25,26,27,28,29,30 width_8 busLabel_8\">/8/</text><rect x=\"306\" y=\"549\" width=\"16\" height=\"9\" class=\"net_9,10,11,12,13,14 width_6 busLabel_6\" style=\"fill: white; stroke: none\"/><text x=\"305\" y=\"557\" class=\"net_9,10,11,12,13,14 width_6 busLabel_6\">/6/</text><rect x=\"306\" y=\"549\" width=\"16\" height=\"9\" class=\"net_9,10,11,12,13,14 width_6 busLabel_6\" style=\"fill: white; stroke: none\"/><text x=\"305\" y=\"557\" class=\"net_9,10,11,12,13,14 width_6 busLabel_6\">/6/</text><rect x=\"536.5\" y=\"211.5\" width=\"16\" height=\"9\" class=\"net_7,8 width_2 busLabel_2\" style=\"fill: white; stroke: none\"/><text x=\"535.5\" y=\"219.5\" class=\"net_7,8 width_2 busLabel_2\">/2/</text><rect x=\"536.5\" y=\"211.5\" width=\"16\" height=\"9\" class=\"net_7,8 width_2 busLabel_2\" style=\"fill: white; stroke: none\"/><text x=\"535.5\" y=\"219.5\" class=\"net_7,8 width_2 busLabel_2\">/2/</text><rect x=\"536.5\" y=\"211.5\" width=\"16\" height=\"9\" class=\"net_7,8 width_2 busLabel_2\" style=\"fill: white; stroke: none\"/><text x=\"535.5\" y=\"219.5\" class=\"net_7,8 width_2 busLabel_2\">/2/</text><rect x=\"785\" y=\"733\" width=\"16\" height=\"9\" class=\"net_57,58,59,60,61,62 width_6 busLabel_6\" style=\"fill: white; stroke: none\"/><text x=\"784\" y=\"741\" class=\"net_57,58,59,60,61,62 width_6 busLabel_6\">/6/</text><rect x=\"785\" y=\"27.5\" width=\"16\" height=\"9\" class=\"net_34,35,36 width_3 busLabel_3\" style=\"fill: white; stroke: none\"/><text x=\"784\" y=\"35.5\" class=\"net_34,35,36 width_3 busLabel_3\">/3/</text><rect x=\"785\" y=\"103.5\" width=\"16\" height=\"9\" class=\"net_49,50,51,52,53,54,55,56 width_8 busLabel_8\" style=\"fill: white; stroke: none\"/><text x=\"784\" y=\"111.5\" class=\"net_49,50,51,52,53,54,55,56 width_8 busLabel_8\">/8/</text><rect x=\"955\" y=\"27.5\" width=\"16\" height=\"9\" class=\"net_15,16,17,18,19,20,21,22 width_8 busLabel_8\" style=\"fill: white; stroke: none\"/><text x=\"954\" y=\"35.5\" class=\"net_15,16,17,18,19,20,21,22 width_8 busLabel_8\">/8/</text><rect x=\"306\" y=\"93.5\" width=\"16\" height=\"9\" class=\"net_31,32,33 width_3 busLabel_3\" style=\"fill: white; stroke: none\"/><text x=\"305\" y=\"101.5\" class=\"net_31,32,33 width_3 busLabel_3\">/3/</text><rect x=\"306\" y=\"113.5\" width=\"16\" height=\"9\" class=\"net_31,32,33 width_3 busLabel_3\" style=\"fill: white; stroke: none\"/><text x=\"305\" y=\"121.5\" class=\"net_31,32,33 width_3 busLabel_3\">/3/</text><rect x=\"306\" y=\"133.5\" width=\"16\" height=\"9\" class=\"net_7,8,9,10,11,12,13,14 width_8 busLabel_8\" style=\"fill: white; stroke: none\"/><text x=\"305\" y=\"141.5\" class=\"net_7,8,9,10,11,12,13,14 width_8 busLabel_8\">/8/</text><rect x=\"103\" y=\"519\" width=\"22\" height=\"9\" class=\"net_4,5,6,7,8,9,10,11,12,13,14 width_11 busLabel_11\" style=\"fill: white; stroke: none\"/><text x=\"102\" y=\"527\" class=\"net_4,5,6,7,8,9,10,11,12,13,14 width_11 busLabel_11\">/11/</text></svg>"
          },
          "metadata": {}
        }
      ],
      "source": [
        "%%print_verilog -top cache_read_only\n",
        "\n",
        "`include \"fsm.v\"\n",
        "`include \"mux.v\"\n",
        "`include \"ram.v\"\n",
        "`include \"valid.v\"\n",
        "`include \"dirty.v\"\n",
        "`include \"comparator.v\"\n",
        "`include \"counter.v\"\n",
        "`include \"Mtag.v\"\n",
        "`include \"datacache.v\"\n",
        "\n",
        "// *** ADD MODULES HERE ***\n",
        "\n",
        "module cache_read_only(\n",
        "clk, reset, address, dout, din\n",
        ");\n",
        "parameter cacheSize = 32;\n",
        "parameter ramSize = 2048;\n",
        "parameter blockSize = 8;\n",
        "\n",
        "parameter cacheLines = 4;\n",
        "parameter cacheLineBits = 2;\n",
        "parameter ramBits = 11;\n",
        "parameter blockBits = 3;\n",
        "parameter tagBits = 6;\n",
        "\n",
        "input clk;\n",
        "input reset;\n",
        "\n",
        "input [ramBits-1:0] address;\n",
        "\n",
        "output [7:0] dout;\n",
        "input [7:0] din;\n",
        "\n",
        "reg [7:0] dout;\n",
        "\n",
        "wire [cacheLineBits-1:0] line;\n",
        "\n",
        "wire [blockBits-1:0] blk;\n",
        "\n",
        "//wire [5:0] tag;\n",
        "wire [tagBits-1:0] tag;\n",
        "\n",
        "wire Done;\n",
        "\n",
        "assign tag = address[ramBits-1:blockBits+cacheLineBits];\n",
        "\n",
        "assign line = address[blockBits+cacheLineBits-1:blockBits];\n",
        "\n",
        "assign blk = address[blockBits-1:0];\n",
        "\n",
        "wire Twr,DTwr,Dwr,Rwr;\n",
        "wire RB_End, WB_End, cnt, c, v, w, Dmux;\n",
        "wire [7:0] Ram2Cache;\n",
        "\n",
        "wire [blockBits-1:0] Mux1;\n",
        "\n",
        "wire [blockBits-1:0] Muxout;\n",
        "\n",
        "wire MuxSel;\n",
        "\n",
        "wire [tagBits-1:0] Tout;\n",
        "\n",
        "wire [7:0] Cache2out;\n",
        "\n",
        "always @(*) begin\n",
        " dout = Cache2out;\n",
        "end\n",
        "\n",
        "fsm  FSM(\n",
        "  .clk (clk),\n",
        "  .reset (reset),\n",
        "  .op (op),\n",
        "  .c (c) ,\n",
        "  .v (v),\n",
        "  .RB_End (RB_End),\n",
        "  .WB_End (WB_End),\n",
        "  .Twr (Twr),\n",
        "  .DTwr (DTwr),\n",
        "  .Dwr (Dwr),\n",
        "  .Rwr (Rwr),\n",
        "  .Cnt (Cnt),\n",
        "  .Mux (MuxSel) , .Done(Done));\n",
        "\n",
        "valid V( .clk (clk), .line (line), .reset (reset),\n",
        "         .wr (Twr), .dout(v) );\n",
        "\n",
        "dirty D( .clk (clk), .line (line), .reset (reset),\n",
        "         .wr (DTwr), .dout(w) );\n",
        "\n",
        "Mtag  T( .clk (clk), .line (line),  .din(tag),\n",
        "       .wr(Twr), .dout(Tout), .reset(reset) );\n",
        "\n",
        "comparator comp(.out(c), .tag(tag), .tag_in(Tout));\n",
        "\n",
        "datacache  dcache( .clk (clk), .line (line), .blk(Muxout),\n",
        "                  .din(Ram2Cache), .wr(Dwr), .dout(Cache2out) );\n",
        "\n",
        "ram  R ( .clk(clk), .addr({tag,line,Mux1}), .din(din), .wr(Rwr), .dout(Ram2Cache), .reset(reset) );\n",
        "\n",
        "wire [ramBits:0] concat_addr;\n",
        "\n",
        "assign concat_addr = {tag,line,Muxout};\n",
        "\n",
        "mux  DataMux( .din_0 (blk), .din_1(Mux1), .sel(MuxSel) , .mux_out (Muxout));\n",
        "\n",
        "\n",
        "counter countR(.out(Mux1), .clk(clk), .reset(Cnt), .End(RB_End));\n",
        "\n",
        "counter countW(.out(Mux1), .clk(clk), .reset(Cnt), .End(WB_End));\n",
        "\n",
        "\n",
        "endmodule\n"
      ]
    },
    {
      "cell_type": "markdown",
      "source": [],
      "metadata": {
        "id": "tiZc-1CO99Bs"
      }
    },
    {
      "cell_type": "code",
      "execution_count": 18,
      "metadata": {
        "colab": {
          "base_uri": "https://localhost:8080/"
        },
        "id": "5BVo9l9POM7b",
        "outputId": "0c0a048f-b632-49a1-8eec-dc3ecdd08414"
      },
      "outputs": [
        {
          "output_type": "stream",
          "name": "stdout",
          "text": [
            "Collecting svgutils\n",
            "  Downloading svgutils-0.3.4-py3-none-any.whl (10 kB)\n",
            "Requirement already satisfied: lxml in /usr/local/lib/python3.10/dist-packages (from svgutils) (4.9.3)\n",
            "Installing collected packages: svgutils\n",
            "Successfully installed svgutils-0.3.4\n"
          ]
        }
      ],
      "source": [
        "!pip install svgutils"
      ]
    },
    {
      "cell_type": "code",
      "execution_count": 19,
      "metadata": {
        "id": "nSUOjYmJ_THz"
      },
      "outputs": [],
      "source": [
        "from IPython.display import SVG\n",
        "SVG(\"out.svg\")\n",
        "\n",
        "import svgutils\n",
        "svg = svgutils.transform.fromfile('out.svg')\n",
        "originalSVG = svgutils.compose.SVG('out.svg')\n",
        "originalSVG.scale(0.5)\n",
        "figure = svgutils.compose.Figure(float(svg.height) * 2, float(svg.width) * 2, originalSVG)\n",
        "figure.save('New.svg')\n",
        "\n"
      ]
    },
    {
      "cell_type": "markdown",
      "metadata": {
        "id": "5mNOB1yHfPdH"
      },
      "source": []
    },
    {
      "cell_type": "code",
      "execution_count": 56,
      "metadata": {
        "id": "AbnchreNUWKI",
        "colab": {
          "base_uri": "https://localhost:8080/"
        },
        "outputId": "3417b7d5-0b49-4872-b858-e3e6648b395c"
      },
      "outputs": [
        {
          "output_type": "stream",
          "name": "stdout",
          "text": [
            "Overwriting main.v\n"
          ]
        }
      ],
      "source": [
        "%%writefile main.v\n",
        "`include \"fsm.v\"\n",
        "`include \"mux.v\"\n",
        "`include \"ram.v\"\n",
        "`include \"valid.v\"\n",
        "`include \"comparator.v\"\n",
        "`include \"counter.v\"\n",
        "`include \"Mtag.v\"\n",
        "`include \"datacache.v\"\n",
        "\n",
        "// *** ADD MODULES HERE ***\n",
        "\n",
        "module cache_read_only(\n",
        "clk, reset, op, address, dout, din\n",
        ");\n",
        "parameter cacheSize = 32;\n",
        "parameter ramSize = 2048;\n",
        "parameter blockSize = 8;\n",
        "\n",
        "parameter cacheLines = 4;\n",
        "parameter cacheLineBits = 2;\n",
        "parameter ramBits = 11;\n",
        "parameter blockBits = 3;\n",
        "parameter tagBits = 6;\n",
        "\n",
        "input clk;\n",
        "input reset;\n",
        "\n",
        "//input [10:0] address;\n",
        "input [ramBits-1:0] address;\n",
        "input op;\n",
        "\n",
        "output [7:0] dout;\n",
        "input [7:0] din;\n",
        "\n",
        "output [5:0] debug;\n",
        "//output [tagBits-1:0] debug;\n",
        "\n",
        "reg [5:0] debug;\n",
        "//reg [tagBits-1:0] debug;\n",
        "\n",
        "reg [7:0] dout;\n",
        "\n",
        "//wire [1:0] line;\n",
        "wire [cacheLineBits-1:0] line;\n",
        "\n",
        "//wire [2:0] blk;\n",
        "wire [blockBits-1:0] blk;\n",
        "\n",
        "//wire [5:0] tag;\n",
        "wire [tagBits-1:0] tag;\n",
        "\n",
        "wire Done;\n",
        "\n",
        "assign tag = address[ramBits-1:blockBits+cacheLineBits];\n",
        "\n",
        "assign line = address[blockBits+cacheLineBits-1:blockBits];\n",
        "\n",
        "assign blk = address[blockBits-1:0];\n",
        "\n",
        "wire Twr,Dwr,Rwr;\n",
        "wire RB_End, WB_End, op, cnt, c, v, Dmux;\n",
        "wire [7:0] Ram2Cache;\n",
        "\n",
        "wire [blockBits-1:0] Mux1;\n",
        "\n",
        "wire [blockBits-1:0] Muxout;\n",
        "\n",
        "wire MuxSel;\n",
        "\n",
        "wire [tagBits-1:0] Tout;\n",
        "\n",
        "wire [7:0] Cache2out;\n",
        "\n",
        "always @(*) begin\n",
        " dout = Cache2out;\n",
        "end\n",
        "\n",
        "fsm  FSM(\n",
        "  .clk (clk),\n",
        "  .reset (reset),\n",
        "  .op (op),\n",
        "  .c (c) ,\n",
        "  .v (v),\n",
        "  .RB_End (RB_End),\n",
        "  .WB_End (WB_End),\n",
        "  .Twr (Twr),\n",
        "  .DTwr (DTwr),\n",
        "  .Dwr (Dwr),\n",
        "  .Rwr (Rwr),\n",
        "  .Cnt (Cnt),\n",
        "  .Mux (MuxSel) , .Done(Done));\n",
        "\n",
        "valid #(cacheLineBits,cacheLines,\"validData.txt\")V( .clk (clk), .line (line), .reset (reset),\n",
        "         .wr (Twr), .dout(v) );\n",
        "\n",
        "Mtag #(cacheLineBits,tagBits,cacheLines,\"mtagData.txt\") T( .clk (clk), .line (line),  .din(tag),\n",
        "       .wr(Twr), .dout(Tout), .reset(reset) );\n",
        "\n",
        "comparator #(tagBits) comp(.out(c), .tag(tag), .tag_in(Tout));\n",
        "\n",
        "datacache #(blockBits,cacheLineBits,cacheSize) dcache( .clk (clk), .line (line), .blk(Muxout),\n",
        "                  .din(Ram2Cache), .wr(Dwr), .dout(Cache2out) );\n",
        "\n",
        "ram #(ramBits,ramSize) R ( .clk(clk), .addr({tag,line,Mux1}), .din(din), .wr(Rwr), .dout(Ram2Cache), .reset(reset) );\n",
        "\n",
        "wire [ramBits:0] concat_addr;\n",
        "\n",
        "assign concat_addr = {tag,line,Muxout};\n",
        "\n",
        "mux #(blockBits) DataMux( .din_0 (blk), .din_1(Mux1), .sel(MuxSel) , .mux_out (Muxout));\n",
        "\n",
        "counter #(blockBits,blockSize) count_RB(.out(Mux1), .clk(clk), .reset(Cnt), .End(RB_End));\n",
        "counter #(blockBits,blockSize) count_WB(.out(Mux1), .clk(clk), .reset(Cnt), .End(WB_End));\n",
        "\n",
        "endmodule\n"
      ]
    },
    {
      "cell_type": "markdown",
      "metadata": {
        "id": "-ABevsq6Vm7S"
      },
      "source": [
        "### Testbench Module\n",
        "\n",
        "Evaluate a cache:\n",
        "* Cache Size of 64 bytes;\n",
        "* Ram Size of 4096 bytes;\n",
        "* Cache Data block of 4 bytes;"
      ]
    },
    {
      "cell_type": "markdown",
      "metadata": {
        "id": "yM5siRQYe4wn"
      },
      "source": [
        "#### Parameters file\n",
        "\n",
        "[Desenho Excalidraw](https://excalidraw.com/#json=Zoi-SJiNSixjRiGovKZp8,zojAkxOQCNkw2CRle1S0vw)"
      ]
    },
    {
      "cell_type": "code",
      "execution_count": 48,
      "metadata": {
        "id": "ozCG9u4CXgIB",
        "colab": {
          "base_uri": "https://localhost:8080/"
        },
        "outputId": "23adb724-b710-478d-9508-3180b091d377"
      },
      "outputs": [
        {
          "output_type": "stream",
          "name": "stdout",
          "text": [
            "Overwriting parameter.v\n"
          ]
        }
      ],
      "source": [
        "%%writefile parameter.v\n",
        "parameter cacheSize = 16;\n",
        "parameter ramSize = 1024;\n",
        "parameter blockSize = 4;"
      ]
    },
    {
      "cell_type": "markdown",
      "metadata": {
        "id": "JbQuRHWko6OL"
      },
      "source": [
        "##### Second Example\n",
        " [Address Sequence](https://excalidraw.com/#json=XcXAHhqEgrpJDPQbZGR96,23lrXTNCEafioIZjnS5fNw)"
      ]
    },
    {
      "cell_type": "code",
      "execution_count": null,
      "metadata": {
        "id": "tiMsdxC4pEF4"
      },
      "outputs": [],
      "source": [
        "%%writefile parameter.v\n",
        "parameter cacheSize = 64;\n",
        "parameter ramSize = 4096;\n",
        "parameter blockSize = 4;"
      ]
    },
    {
      "cell_type": "code",
      "execution_count": null,
      "metadata": {
        "id": "jJ-zOGTQo5NU"
      },
      "outputs": [],
      "source": [
        "%%writefile parameter.v\n",
        "parameter cacheSize = 16;\n",
        "parameter ramSize = 1024;\n",
        "parameter blockSize = 4;"
      ]
    },
    {
      "cell_type": "markdown",
      "metadata": {
        "id": "AoP6NjSPe8lx"
      },
      "source": [
        "#### A Sequence of addresses\n",
        "\n",
        "To validate the cache. Assuming 25 clock cycles (50 ticks) to be sure that the block is in the cache in case of miss."
      ]
    },
    {
      "cell_type": "code",
      "execution_count": 62,
      "metadata": {
        "id": "Vk3ZJHR4YWSU",
        "colab": {
          "base_uri": "https://localhost:8080/"
        },
        "outputId": "b65afea1-5f3e-4fe2-f163-7a0ff6ea2cb2"
      },
      "outputs": [
        {
          "output_type": "stream",
          "name": "stdout",
          "text": [
            "Overwriting input.v\n"
          ]
        }
      ],
      "source": [
        "%%writefile input.v\n",
        "address=0;\n",
        "#16\n",
        "op=1;\n",
        "din=15;\n",
        "address=20;\n",
        "#16\n",
        "address=72;\n",
        "#16\n",
        "address=12;\n",
        "#16\n",
        "address=29;\n",
        "#16"
      ]
    },
    {
      "cell_type": "markdown",
      "metadata": {
        "id": "RUOynOajfPAm"
      },
      "source": [
        "#### Create the Parametrizable Testbench\n",
        "* Parameter.v file\n",
        "  * Receive the Cache parameters (size and block)\n",
        "  * Receive the Ram memory size\n",
        "* Input.v file  \n",
        "  * Receive a sequence of addresses to evaluate the cache design\n",
        "\n",
        "* Assuming the initial RAM contents is M[i] = i;"
      ]
    },
    {
      "cell_type": "code",
      "execution_count": 63,
      "metadata": {
        "id": "rEvR7VsGVqv7",
        "colab": {
          "base_uri": "https://localhost:8080/"
        },
        "outputId": "0b1368fd-2364-41e3-b80a-541a6883b709"
      },
      "outputs": [
        {
          "output_type": "stream",
          "name": "stdout",
          "text": [
            "Overwriting tb.v\n"
          ]
        }
      ],
      "source": [
        "%%writefile tb.v\n",
        "`include \"main.v\"\n",
        "\n",
        "module tb();\n",
        "//fill here the new values ​​for your memory\n",
        "`include \"parameter.v\"\n",
        "\n",
        "//parameters generated from current memory\n",
        "parameter cacheLine = cacheSize/blockSize; //lines of cache\n",
        "parameter cacheLineBits = $clog2(cacheLine);\n",
        "parameter ramBits = $clog2(ramSize);\n",
        "parameter blockBits = $clog2(blockSize);\n",
        "parameter tagBits = ramBits-blockBits-cacheLineBits;\n",
        "\n",
        "wire[32:0] a = cacheSize;\n",
        "wire[32:0] b = ramSize ;\n",
        "wire[32:0] c = blockSize;\n",
        "\n",
        "//parameters generated from current memory\n",
        "wire[32:0] d = cacheLine ;\n",
        "wire[32:0] e = cacheLineBits;\n",
        "wire[32:0] f = ramBits;\n",
        "wire[32:0] g = blockBits;\n",
        "wire[32:0] h = tagBits;\n",
        "\n",
        "reg op;\n",
        "reg [ramBits-1:0] address;\n",
        "reg [7:0] din;\n",
        "reg clk,reset;\n",
        "wire [7:0] dout;\n",
        "integer k;\n",
        "\n",
        "cache_read_only #(cacheSize,ramSize,blockSize,cacheLine,cacheLineBits,ramBits,blockBits,tagBits)\n",
        " Cache (clk, reset, op, address, dout, din);\n",
        "\n",
        "\n",
        "initial begin\n",
        "  clk=0;\n",
        "     forever #1 clk = ~clk;\n",
        "end\n",
        "\n",
        "reg  [5:0] clock_counter;\n",
        "\tinitial begin\n",
        "\t\tclock_counter <= 6'd1;\n",
        "\tend\n",
        "        always @(posedge clk) begin\n",
        "                clock_counter <= clock_counter + 1;\n",
        "\tend\n",
        "\n",
        "\n",
        "initial begin\n",
        "$dumpfile(\"test.vcd\");\n",
        "$dumpvars;\n",
        "address=0;\n",
        "reset = 1;\n",
        "#2\n",
        "op=0;\n",
        "reset=0;\n",
        "#4\n",
        "`include \"input.v\"\n",
        "\n",
        "//very important to remember to call both caches\n",
        "$writememh(\"cache.data\", tb.Cache.dcache.memory, 0, cacheSize-1);\n",
        "$writememh(\"tag.data\", tb.Cache.T.memory, 0, cacheLine-1);\n",
        "$writememh(\"valid.data\", tb.Cache.V.memory, 0, cacheLine-1);\n",
        "$writememh(\"ram.data\", tb.Cache.R.memory, 0, ramSize-1);\n",
        "$dumpoff;\n",
        "$finish;\n",
        "end\n",
        "endmodule\n"
      ]
    },
    {
      "cell_type": "markdown",
      "metadata": {
        "id": "aeL0Cpfh9-x8"
      },
      "source": [
        "### Test for modularized part"
      ]
    },
    {
      "cell_type": "code",
      "execution_count": 64,
      "metadata": {
        "id": "0UyqBQkBzsaF",
        "colab": {
          "base_uri": "https://localhost:8080/"
        },
        "outputId": "a9b0db70-dc5d-4775-d188-62c9b2eac237"
      },
      "outputs": [
        {
          "output_type": "stream",
          "name": "stdout",
          "text": [
            "VCD info: dumpfile test.vcd opened for output.\n",
            "\n"
          ]
        }
      ],
      "source": [
        "%%verilog\n",
        "`include \"tb.v\""
      ]
    },
    {
      "cell_type": "markdown",
      "metadata": {
        "id": "I1Ajc9bWvn-3"
      },
      "source": [
        "ramBits-1:blockBits+cacheLineBits"
      ]
    },
    {
      "cell_type": "code",
      "execution_count": 65,
      "metadata": {
        "id": "wnNGk8QErIL8",
        "colab": {
          "base_uri": "https://localhost:8080/",
          "height": 1000
        },
        "outputId": "549c4597-0192-4e5c-ec80-14cf48238ca4"
      },
      "outputs": [
        {
          "output_type": "display_data",
          "data": {
            "text/plain": [
              "<Figure size 2100x1800 with 1 Axes>"
            ],
            "image/png": "[encoded data removed]"
          },
          "metadata": {}
        }
      ],
      "source": [
        "%%waveform test.vcd\n",
        "\n",
        "op_dict = [{'0':'ReadTag','1':'ReadData','10':'ReadBlk', '11':'UpdateTag', '100':'Reset'}]\n",
        "\n",
        "\n",
        "sign_list = ['tb.clk', 'tb.e', 'tb.f','tb.g', 'tb.h','tb.Cache.concat_addr', 'tb.Cache.address', 'tb.Cache.tag','tb.Cache.line', 'tb.Cache.Mux1','tb.Cache.Ram2Cache', 'tb.Cache.FSM.state,r[0]','tb.Cache.v', 'tb.Cache.Done', 'tb.clock_counter', 'tb.address', 'tb.dout']\n",
        "time_begin = 36\n",
        "time_end = 56\n",
        "base = 'dec' # bin, dec, dec2, hex, octal"
      ]
    },
    {
      "cell_type": "code",
      "execution_count": null,
      "metadata": {
        "id": "p5bnTmjUmwxe"
      },
      "outputs": [],
      "source": [
        "def printAux(arq1,arq2,arq3):\n",
        "  arq_valid = open(arq1,'r')\n",
        "  arq_tag = open(arq2,'r')\n",
        "  arq_caches = open(arq3,'r')\n",
        "\n",
        "  def erase(list):\n",
        "    for auto in list:\n",
        "      if auto[0] == '/': list.remove(auto)\n",
        "\n",
        "  valids = arq_valid.readlines()\n",
        "  tags = arq_tag.readlines()\n",
        "  caches = arq_caches.readlines()\n",
        "\n",
        "  erase(valids)\n",
        "  erase(tags)\n",
        "  erase(caches)\n",
        "\n",
        "  stop = int((len(caches))/len(tags))\n",
        "  valid = iter(valids)\n",
        "  cache = iter(caches)\n",
        "\n",
        "  j = int(0)\n",
        "  i = int(0)\n",
        "\n",
        "  print(\"Line| V | Tag | Data\")\n",
        "  print(\"---|---|---|---|\")\n",
        "\n",
        "  for tag in tags:\n",
        "    print(i,end = \" | \")\n",
        "    aux = valid.__next__().rstrip('\\n')\n",
        "    print(aux,end=\" | \")\n",
        "    print(tag.rstrip('\\n'),end=\" | \")\n",
        "    # for cache in caches:\n",
        "    try:\n",
        "      while True:\n",
        "        if  j == stop * (i+1):\n",
        "          print()\n",
        "          break\n",
        "        print(cache.__next__().rstrip('\\n'),end = \" \")\n",
        "        j+=1\n",
        "    except StopIteration:\n",
        "      aux = 1  #ignore\n",
        "    i+=1\n",
        "    arq_valid.close()\n",
        "    arq_tag.close()\n",
        "    arq_caches.close()\n",
        "def printData():\n",
        "    printAux(\"valid.data\",\"tag.data\",\"cache.data\")\n",
        "\n",
        "printData()"
      ]
    },
    {
      "cell_type": "markdown",
      "source": [
        "Line| V | Tag | Data\n",
        "---|---|---|---|\n",
        "0 | 1 | 00 | 00 01 02 03\n",
        "1 | 0 | 04 | xx xx xx xx\n",
        "2 | 1 | 01 | 48 49 4a 4b\n",
        "3 | 1 | 00 | 0c 0d 0e 0f\n",
        "4 | 0 | xx | xx xx xx xx\n",
        "5 | 1 | 00 | 14 15 16 17\n",
        "6 | 0 | xx | xx xx xx xx\n",
        "7 | 1 | 00 | 1c 1d 1e 1f\n",
        "8 | 0 | xx | xx xx xx xx\n",
        "9 | 0 | xx | xx xx xx xx\n",
        "10 | 0 | xx | xx xx xx xx\n",
        "11 | 0 | xx | xx xx xx xx\n",
        "12 | 0 | xx | xx xx xx xx\n",
        "13 | 0 | xx | xx xx xx xx\n",
        "14 | 0 | xx | xx xx xx xx\n",
        "15 | 0 | xx | xx xx xx xx"
      ],
      "metadata": {
        "id": "wk6ratR5_O8M"
      }
    },
    {
      "cell_type": "markdown",
      "metadata": {
        "id": "XbARnDwyoXrX"
      },
      "source": [
        "The previous table is code in Markdown format, copy and paste it here\n",
        "\n",
        "[Excalidraw](https://excalidraw.com/#json=DDALUe6srMoFgedZ_flB-,ie_pgkZ2v-8zhfrhHO2CFQ)\n",
        "\n",
        "Line| V | Tag | Data\n",
        "---|---|---|---|\n",
        "0 | 1 | 00 | 00 01 02 03\n",
        "1 | 1 | 01 | 14 15 16 17\n",
        "2 | 1 | 04 | 48 49 4a 4b\n",
        "3 | 1 | 01 | 1c 1d 1e 1f"
      ]
    },
    {
      "cell_type": "markdown",
      "metadata": {
        "id": "50L9J5OIkGN1"
      },
      "source": [
        "## Interface Gradio\n",
        "\n",
        "**Gradio** is an interface module that allows you create an url so you may communicate to Colab.\n",
        "\n",
        "This Gradio module receive cache parameters and generate a verilog file with cache and sequence of access, then it compiles the file and run it. Once it's done, returns the interface showing the table data."
      ]
    },
    {
      "cell_type": "markdown",
      "metadata": {
        "id": "XO_pXox_j3vj"
      },
      "source": [
        "### Installing Gradio"
      ]
    },
    {
      "cell_type": "code",
      "execution_count": null,
      "metadata": {
        "id": "JXKnfqy_kh-C"
      },
      "outputs": [],
      "source": [
        "!pip install gradio &> /dev/null"
      ]
    },
    {
      "cell_type": "markdown",
      "metadata": {
        "id": "aoz9Tf8VPMZ7"
      },
      "source": [
        "### This python function is responsable for compiling and executing verilog code\n"
      ]
    },
    {
      "cell_type": "code",
      "execution_count": null,
      "metadata": {
        "id": "VUw5DZJ_PKON"
      },
      "outputs": [],
      "source": [
        "\n",
        "import os\n",
        "import subprocess\n",
        "import tempfile\n",
        "import uuid\n",
        "\n",
        "from IPython.core.magic import Magics, cell_magic, magics_class\n",
        "from IPython.core.magic_arguments import argument, magic_arguments, parse_argstring\n",
        "from common import helper\n",
        "\n",
        "compiler = 'iverilog'\n",
        "ext = '.v'\n",
        "\n",
        "def Install():\n",
        "        print(\"Installing iverilog. Please wait... \", end=\"\")\n",
        "        args = [\"sh\", \"/content/cad4u/verilog/update_install.sh\"]\n",
        "\n",
        "        output = subprocess.check_output(args, stderr=subprocess.STDOUT)\n",
        "        output = output.decode('utf8')\n",
        "        #helper.print_out(output)\n",
        "        print(\"done!\")\n",
        "\n",
        "def compile(file_path, flags):\n",
        "\n",
        "        args = [compiler, file_path + ext, \"-o\", file_path + \".out\"]\n",
        "\n",
        "        # adding flags: -O3, -unroll-loops, ...\n",
        "        for flag in flags:\n",
        "            if flag == \"<\":\n",
        "                break\n",
        "            args.append(flag)\n",
        "\n",
        "        subprocess.check_output(args, stderr=subprocess.STDOUT)\n",
        "\n",
        "\n",
        "def run(file_path, flags):\n",
        "        file_path = file_path + \".out\"\n",
        "        args = [file_path]\n",
        "        for flag in flags:\n",
        "          args.append(flag)\n",
        "\n",
        "        output = subprocess.check_output(args, stderr=subprocess.STDOUT)\n",
        "        output = output.decode('utf8')\n",
        "        helper.print_out(output)\n",
        "\n",
        "Install()\n",
        "flags = \"\"\n",
        "file_path = \"/content/tb\"\n",
        "compile(file_path, flags)\n",
        "run(file_path,\"1\")"
      ]
    },
    {
      "cell_type": "code",
      "execution_count": null,
      "metadata": {
        "id": "O3eDe1xPie0G"
      },
      "outputs": [],
      "source": [
        "import gradio as gr\n",
        "import time\n",
        "import math\n",
        "\n",
        "# def numberInByts(n):\n",
        "#   if (n == 0 or n == 1): return 1\n",
        "#   return int((math.log(n) / math.log(2)) + 1)\n",
        "\n",
        "def result(tagFormat):\n",
        "  arq_valid = open('valid.data','r')\n",
        "  arq_tag = open('tag.data','r')\n",
        "  arq_caches = open('cache.data','r')\n",
        "\n",
        "  def erase(list):\n",
        "    for auto in list:\n",
        "      if auto[0] == '/': list.remove(auto)\n",
        "\n",
        "  #read files and delete comments\n",
        "  valids = arq_valid.readlines()\n",
        "  tags = arq_tag.readlines()\n",
        "  caches = arq_caches.readlines()\n",
        "\n",
        "  #closes used files\n",
        "  arq_valid.close()\n",
        "  arq_tag.close()\n",
        "  arq_caches.close()\n",
        "\n",
        "  erase(valids)\n",
        "  erase(tags)\n",
        "  erase(caches)\n",
        "\n",
        "  #iterator for data list\n",
        "  valid = iter(valids)\n",
        "  cache = iter(caches)\n",
        "  tag = iter(tags)\n",
        "\n",
        "  #current cache row counter\n",
        "  k = int(0)\n",
        "  lineNumber = int(len(caches)/len(tags))\n",
        "\n",
        "  #list of list (here will be added as table rows)\n",
        "  result = []\n",
        "\n",
        "  for i in range(len(tags)):\n",
        "\n",
        "    aux = []\n",
        "    #adds the line, valid bit and tag, to the current column(aux)\n",
        "    aux.append(i)\n",
        "    aux.append(valid.__next__().rstrip('\\n'))\n",
        "    aux.append(tag.__next__().rstrip('\\n'))\n",
        "\n",
        "    #add all block values\n",
        "    s = \"\"\n",
        "    for j in range(lineNumber):\n",
        "      s = s + caches[j + k].rstrip('\\n') + \" \"\n",
        "\n",
        "    aux.append(s)\n",
        "    k = lineNumber *(i+1)\n",
        "\n",
        "    if (aux[2] != \"xx\" and aux[2] != \"x\"):\n",
        "      tagInHex = hex(int(aux[2], 16))\n",
        "      tagInBits = bin(int(tagInHex, 16))\n",
        "\n",
        "      aux[2] = tagInHex\n",
        "\n",
        "      if (tagFormat == \"binary\"):\n",
        "        aux[2] = tagInBits\n",
        "\n",
        "      if (tagFormat == \"decimal\"):\n",
        "        aux[2] = int(tagInBits,2)\n",
        "\n",
        "    result.append(aux)\n",
        "\n",
        "  return result\n",
        "\n",
        "def newcode(address,cacheSize,ramSize,blockSize,tagFormat):\n",
        "  address = address[:-1] if address[-1] == \",\" else address\n",
        "  newAddress = str(address).strip().split(',')\n",
        "\n",
        "  #write the addresses consulted\n",
        "  my_file=open(\"/content/input.v\",\"w\")\n",
        "  for i in range(len(newAddress)):\n",
        "    my_file.write(\"address = \")\n",
        "    my_file.write(newAddress[i])\n",
        "    my_file.write(';\\n#50\\n')\n",
        "  my_file.close()\n",
        "\n",
        "  #write the parameter data\n",
        "  parameter=open(\"/content/parameter.v\",\"w\")\n",
        "  parameter.write(\"parameter cacheSize = \")\n",
        "  parameter.write(str(int(cacheSize)))\n",
        "  parameter.write(\";\\nparameter ramSize = \")\n",
        "  parameter.write(str(int(ramSize)))\n",
        "  parameter.write(\";\\nparameter blockSize = \")\n",
        "  parameter.write(str(int(blockSize)))\n",
        "  parameter.write(\";\\n\")\n",
        "  parameter.close()\n",
        "\n",
        "  time.sleep(0.25)\n",
        "  compile(file_path, flags)\n",
        "  run(file_path,\"1\")\n",
        "\n",
        "  addressBitsSize = math.ceil(math.log(int(ramSize), 2))\n",
        "  blockBitsSize = math.ceil(math.log(int(blockSize), 2))\n",
        "  linesTotal = math.ceil(math.log(int(cacheSize) / int(blockSize), 2))\n",
        "  tagBitsSize = addressBitsSize - int(blockBitsSize) - linesTotal\n",
        "\n",
        "  INSTRUCTION_BREAKDOWN = f\"Addres= {addressBitsSize} bits, Tag = {tagBitsSize} bits, Lines = {int(linesTotal)} bits, blk = {blockBitsSize} bits\"\n",
        "\n",
        "  return [INSTRUCTION_BREAKDOWN, result(tagFormat)]\n",
        "\n",
        "\n",
        "firstFieldLabel = \"Insert the address numbers to consult\"\n",
        "secondFieldLabel = \"Cache size\"\n",
        "thirdFieldLabel = \"Ram size\"\n",
        "fourthFieldLabel = \"Block size\"\n",
        "defaultHeaders = [\"Line\",\"V\",\"Tag\", \"Data\"]\n",
        "tagDisplayFormat = \"TAG DISPLAY FORMAT\"\n",
        "\n",
        "iface = gr.Interface(\n",
        "    fn=newcode,\n",
        "    inputs=[\n",
        "        gr.inputs.Textbox(3,label=firstFieldLabel),\n",
        "        gr.inputs.Dropdown(choices=[8,16,32,64,128],label=secondFieldLabel),\n",
        "        gr.inputs.Dropdown(choices=[1024,2048,4096,8192],label=thirdFieldLabel),\n",
        "        gr.inputs.Dropdown(choices=[4,8,16,32],label=fourthFieldLabel),\n",
        "        gr.inputs.Radio(choices=[\"decimal\", \"binary\", \"hex\"], default=\"decimal\", label=tagDisplayFormat)],\n",
        "outputs=[\n",
        "         gr.outputs.Textbox(label=\"Instruction Breakdown\"),\n",
        "         gr.outputs.Dataframe(label=\"Cache Table\", headers=defaultHeaders, max_rows=128, type=\"array\")])\n",
        "\n",
        "iface.launch(share=True)"
      ]
    }
  ],
  "metadata": {
    "colab": {
      "collapsed_sections": [
        "mMcvvWyui5fk",
        "Sf7UQ7VyJgwW"
      ],
      "provenance": [],
      "toc_visible": true,
      "include_colab_link": true
    },
    "kernelspec": {
      "display_name": "Python 3",
      "name": "python3"
    }
  },
  "nbformat": 4,
  "nbformat_minor": 0
}