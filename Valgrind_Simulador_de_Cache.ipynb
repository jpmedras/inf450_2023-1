{
  "nbformat": 4,
  "nbformat_minor": 0,
  "metadata": {
    "colab": {
      "provenance": [],
      "include_colab_link": true
    },
    "kernelspec": {
      "name": "python3",
      "display_name": "Python 3"
    },
    "widgets": {
      "application/vnd.jupyter.widget-state+json": {
        "221aaec17ae94a7abcafd75e88d347cb": {
          "model_module": "@jupyter-widgets/controls",
          "model_name": "GridBoxModel",
          "model_module_version": "1.5.0",
          "state": {
            "_dom_classes": [],
            "_model_module": "@jupyter-widgets/controls",
            "_model_module_version": "1.5.0",
            "_model_name": "GridBoxModel",
            "_view_count": null,
            "_view_module": "@jupyter-widgets/controls",
            "_view_module_version": "1.5.0",
            "_view_name": "GridBoxView",
            "box_style": "",
            "children": [
              "IPY_MODEL_a4791f5c19d748e58655c96a992ab316",
              "IPY_MODEL_b74a59e9c2154e3c9daa5dfba70be016",
              "IPY_MODEL_6b5f499ca9a348e9ab69c1c62f5db635",
              "IPY_MODEL_493e55bc8662486abd2e5d94b639c3dd",
              "IPY_MODEL_6b0d4a6e522046feb9eddf0c3e5b8450",
              "IPY_MODEL_c43b3b0d96de4be39ee64e2b8e319125",
              "IPY_MODEL_ec4b4d73edc24d41b0891ffe9fa0687c",
              "IPY_MODEL_197361601e6b436b830d22726672c950"
            ],
            "layout": "IPY_MODEL_1ef7348951fb4c9ca759194af9709edc"
          }
        },
        "a4791f5c19d748e58655c96a992ab316": {
          "model_module": "@jupyter-widgets/controls",
          "model_name": "ButtonModel",
          "model_module_version": "1.5.0",
          "state": {
            "_dom_classes": [],
            "_model_module": "@jupyter-widgets/controls",
            "_model_module_version": "1.5.0",
            "_model_name": "ButtonModel",
            "_view_count": null,
            "_view_module": "@jupyter-widgets/controls",
            "_view_module_version": "1.5.0",
            "_view_name": "ButtonView",
            "button_style": "warning",
            "description": "Data Cache",
            "disabled": false,
            "icon": "",
            "layout": "IPY_MODEL_f8371fc429f641689df46fdf1d205837",
            "style": "IPY_MODEL_48103bf5f8884c97920e71f647aeb309",
            "tooltip": ""
          }
        },
        "b74a59e9c2154e3c9daa5dfba70be016": {
          "model_module": "@jupyter-widgets/controls",
          "model_name": "ButtonModel",
          "model_module_version": "1.5.0",
          "state": {
            "_dom_classes": [],
            "_model_module": "@jupyter-widgets/controls",
            "_model_module_version": "1.5.0",
            "_model_name": "ButtonModel",
            "_view_count": null,
            "_view_module": "@jupyter-widgets/controls",
            "_view_module_version": "1.5.0",
            "_view_name": "ButtonView",
            "button_style": "warning",
            "description": "Size (kB)",
            "disabled": false,
            "icon": "",
            "layout": "IPY_MODEL_20c7e67e62d84740b1f0974bb0086857",
            "style": "IPY_MODEL_368c06633f714e2e9882331e400b0fef",
            "tooltip": ""
          }
        },
        "6b5f499ca9a348e9ab69c1c62f5db635": {
          "model_module": "@jupyter-widgets/controls",
          "model_name": "DropdownModel",
          "model_module_version": "1.5.0",
          "state": {
            "_dom_classes": [],
            "_model_module": "@jupyter-widgets/controls",
            "_model_module_version": "1.5.0",
            "_model_name": "DropdownModel",
            "_options_labels": [
              "1",
              "2",
              "4",
              "8",
              "16"
            ],
            "_view_count": null,
            "_view_module": "@jupyter-widgets/controls",
            "_view_module_version": "1.5.0",
            "_view_name": "DropdownView",
            "description": "",
            "description_tooltip": null,
            "disabled": false,
            "index": 0,
            "layout": "IPY_MODEL_6e49aa72fb3149c296ca13bb1bc00b00",
            "style": "IPY_MODEL_060e631c24de4c4ebc5e11e609a07407"
          }
        },
        "493e55bc8662486abd2e5d94b639c3dd": {
          "model_module": "@jupyter-widgets/controls",
          "model_name": "ButtonModel",
          "model_module_version": "1.5.0",
          "state": {
            "_dom_classes": [],
            "_model_module": "@jupyter-widgets/controls",
            "_model_module_version": "1.5.0",
            "_model_name": "ButtonModel",
            "_view_count": null,
            "_view_module": "@jupyter-widgets/controls",
            "_view_module_version": "1.5.0",
            "_view_name": "ButtonView",
            "button_style": "warning",
            "description": "Associative",
            "disabled": false,
            "icon": "",
            "layout": "IPY_MODEL_b558bf9e9e3042d2822f64c3278ebba5",
            "style": "IPY_MODEL_8dee2044f129491c90d20189c91e1424",
            "tooltip": ""
          }
        },
        "6b0d4a6e522046feb9eddf0c3e5b8450": {
          "model_module": "@jupyter-widgets/controls",
          "model_name": "DropdownModel",
          "model_module_version": "1.5.0",
          "state": {
            "_dom_classes": [],
            "_model_module": "@jupyter-widgets/controls",
            "_model_module_version": "1.5.0",
            "_model_name": "DropdownModel",
            "_options_labels": [
              "1",
              "2",
              "4",
              "8",
              "16",
              "32"
            ],
            "_view_count": null,
            "_view_module": "@jupyter-widgets/controls",
            "_view_module_version": "1.5.0",
            "_view_name": "DropdownView",
            "description": "",
            "description_tooltip": null,
            "disabled": false,
            "index": 0,
            "layout": "IPY_MODEL_293e8640c88c41dc95d1594972d93c23",
            "style": "IPY_MODEL_e65d2fd7fd034e1ca5fc1364acd31a8a"
          }
        },
        "c43b3b0d96de4be39ee64e2b8e319125": {
          "model_module": "@jupyter-widgets/controls",
          "model_name": "ButtonModel",
          "model_module_version": "1.5.0",
          "state": {
            "_dom_classes": [],
            "_model_module": "@jupyter-widgets/controls",
            "_model_module_version": "1.5.0",
            "_model_name": "ButtonModel",
            "_view_count": null,
            "_view_module": "@jupyter-widgets/controls",
            "_view_module_version": "1.5.0",
            "_view_name": "ButtonView",
            "button_style": "warning",
            "description": "Line (Bytes)",
            "disabled": false,
            "icon": "",
            "layout": "IPY_MODEL_c79441bbb4404a01a92bc5c8f37c52ea",
            "style": "IPY_MODEL_5b14f914b5344456ae456c35bd9ff090",
            "tooltip": ""
          }
        },
        "ec4b4d73edc24d41b0891ffe9fa0687c": {
          "model_module": "@jupyter-widgets/controls",
          "model_name": "DropdownModel",
          "model_module_version": "1.5.0",
          "state": {
            "_dom_classes": [],
            "_model_module": "@jupyter-widgets/controls",
            "_model_module_version": "1.5.0",
            "_model_name": "DropdownModel",
            "_options_labels": [
              "32",
              "64",
              "128"
            ],
            "_view_count": null,
            "_view_module": "@jupyter-widgets/controls",
            "_view_module_version": "1.5.0",
            "_view_name": "DropdownView",
            "description": "",
            "description_tooltip": null,
            "disabled": false,
            "index": 0,
            "layout": "IPY_MODEL_837bef428563480b9935fc825b6a6cc4",
            "style": "IPY_MODEL_a3c6959f32954bd896ff7aaabae60bd8"
          }
        },
        "197361601e6b436b830d22726672c950": {
          "model_module": "@jupyter-widgets/controls",
          "model_name": "ButtonModel",
          "model_module_version": "1.5.0",
          "state": {
            "_dom_classes": [],
            "_model_module": "@jupyter-widgets/controls",
            "_model_module_version": "1.5.0",
            "_model_name": "ButtonModel",
            "_view_count": null,
            "_view_module": "@jupyter-widgets/controls",
            "_view_module_version": "1.5.0",
            "_view_name": "ButtonView",
            "button_style": "success",
            "description": "Start execution",
            "disabled": false,
            "icon": "",
            "layout": "IPY_MODEL_9a0a97d246a74271a4bae33a22de2281",
            "style": "IPY_MODEL_0654d546a6d7476db945c28359308a8c",
            "tooltip": ""
          }
        },
        "1ef7348951fb4c9ca759194af9709edc": {
          "model_module": "@jupyter-widgets/base",
          "model_name": "LayoutModel",
          "model_module_version": "1.2.0",
          "state": {
            "_model_module": "@jupyter-widgets/base",
            "_model_module_version": "1.2.0",
            "_model_name": "LayoutModel",
            "_view_count": null,
            "_view_module": "@jupyter-widgets/base",
            "_view_module_version": "1.2.0",
            "_view_name": "LayoutView",
            "align_content": null,
            "align_items": null,
            "align_self": null,
            "border": null,
            "bottom": null,
            "display": null,
            "flex": null,
            "flex_flow": null,
            "grid_area": null,
            "grid_auto_columns": null,
            "grid_auto_flow": null,
            "grid_auto_rows": null,
            "grid_column": null,
            "grid_gap": null,
            "grid_row": null,
            "grid_template_areas": "\"widget001 . . . . . . . . .\"\n\"widget002 widget003 . . . . . . . .\"\n\"widget004 widget005 . . . . . . . .\"\n\"widget006 widget007 . . . . . . . .\"\n\"widget008 . . . . . . . . .\"",
            "grid_template_columns": "repeat(10, 1fr)",
            "grid_template_rows": "repeat(5, 1fr)",
            "height": null,
            "justify_content": null,
            "justify_items": null,
            "left": null,
            "margin": null,
            "max_height": null,
            "max_width": null,
            "min_height": null,
            "min_width": null,
            "object_fit": null,
            "object_position": null,
            "order": null,
            "overflow": null,
            "overflow_x": null,
            "overflow_y": null,
            "padding": null,
            "right": null,
            "top": null,
            "visibility": null,
            "width": null
          }
        },
        "f8371fc429f641689df46fdf1d205837": {
          "model_module": "@jupyter-widgets/base",
          "model_name": "LayoutModel",
          "model_module_version": "1.2.0",
          "state": {
            "_model_module": "@jupyter-widgets/base",
            "_model_module_version": "1.2.0",
            "_model_name": "LayoutModel",
            "_view_count": null,
            "_view_module": "@jupyter-widgets/base",
            "_view_module_version": "1.2.0",
            "_view_name": "LayoutView",
            "align_content": null,
            "align_items": null,
            "align_self": null,
            "border": null,
            "bottom": null,
            "display": null,
            "flex": null,
            "flex_flow": null,
            "grid_area": "widget001",
            "grid_auto_columns": null,
            "grid_auto_flow": null,
            "grid_auto_rows": null,
            "grid_column": null,
            "grid_gap": null,
            "grid_row": null,
            "grid_template_areas": null,
            "grid_template_columns": null,
            "grid_template_rows": null,
            "height": "auto",
            "justify_content": null,
            "justify_items": null,
            "left": null,
            "margin": null,
            "max_height": null,
            "max_width": null,
            "min_height": null,
            "min_width": null,
            "object_fit": null,
            "object_position": null,
            "order": null,
            "overflow": null,
            "overflow_x": null,
            "overflow_y": null,
            "padding": null,
            "right": null,
            "top": null,
            "visibility": null,
            "width": "auto"
          }
        },
        "48103bf5f8884c97920e71f647aeb309": {
          "model_module": "@jupyter-widgets/controls",
          "model_name": "ButtonStyleModel",
          "model_module_version": "1.5.0",
          "state": {
            "_model_module": "@jupyter-widgets/controls",
            "_model_module_version": "1.5.0",
            "_model_name": "ButtonStyleModel",
            "_view_count": null,
            "_view_module": "@jupyter-widgets/base",
            "_view_module_version": "1.2.0",
            "_view_name": "StyleView",
            "button_color": null,
            "font_weight": ""
          }
        },
        "20c7e67e62d84740b1f0974bb0086857": {
          "model_module": "@jupyter-widgets/base",
          "model_name": "LayoutModel",
          "model_module_version": "1.2.0",
          "state": {
            "_model_module": "@jupyter-widgets/base",
            "_model_module_version": "1.2.0",
            "_model_name": "LayoutModel",
            "_view_count": null,
            "_view_module": "@jupyter-widgets/base",
            "_view_module_version": "1.2.0",
            "_view_name": "LayoutView",
            "align_content": null,
            "align_items": null,
            "align_self": null,
            "border": null,
            "bottom": null,
            "display": null,
            "flex": null,
            "flex_flow": null,
            "grid_area": "widget002",
            "grid_auto_columns": null,
            "grid_auto_flow": null,
            "grid_auto_rows": null,
            "grid_column": null,
            "grid_gap": null,
            "grid_row": null,
            "grid_template_areas": null,
            "grid_template_columns": null,
            "grid_template_rows": null,
            "height": "auto",
            "justify_content": null,
            "justify_items": null,
            "left": null,
            "margin": null,
            "max_height": null,
            "max_width": null,
            "min_height": null,
            "min_width": null,
            "object_fit": null,
            "object_position": null,
            "order": null,
            "overflow": null,
            "overflow_x": null,
            "overflow_y": null,
            "padding": null,
            "right": null,
            "top": null,
            "visibility": null,
            "width": "auto"
          }
        },
        "368c06633f714e2e9882331e400b0fef": {
          "model_module": "@jupyter-widgets/controls",
          "model_name": "ButtonStyleModel",
          "model_module_version": "1.5.0",
          "state": {
            "_model_module": "@jupyter-widgets/controls",
            "_model_module_version": "1.5.0",
            "_model_name": "ButtonStyleModel",
            "_view_count": null,
            "_view_module": "@jupyter-widgets/base",
            "_view_module_version": "1.2.0",
            "_view_name": "StyleView",
            "button_color": null,
            "font_weight": ""
          }
        },
        "6e49aa72fb3149c296ca13bb1bc00b00": {
          "model_module": "@jupyter-widgets/base",
          "model_name": "LayoutModel",
          "model_module_version": "1.2.0",
          "state": {
            "_model_module": "@jupyter-widgets/base",
            "_model_module_version": "1.2.0",
            "_model_name": "LayoutModel",
            "_view_count": null,
            "_view_module": "@jupyter-widgets/base",
            "_view_module_version": "1.2.0",
            "_view_name": "LayoutView",
            "align_content": null,
            "align_items": null,
            "align_self": null,
            "border": null,
            "bottom": null,
            "display": null,
            "flex": null,
            "flex_flow": null,
            "grid_area": "widget003",
            "grid_auto_columns": null,
            "grid_auto_flow": null,
            "grid_auto_rows": null,
            "grid_column": null,
            "grid_gap": null,
            "grid_row": null,
            "grid_template_areas": null,
            "grid_template_columns": null,
            "grid_template_rows": null,
            "height": "30px",
            "justify_content": null,
            "justify_items": null,
            "left": null,
            "margin": null,
            "max_height": null,
            "max_width": null,
            "min_height": null,
            "min_width": null,
            "object_fit": null,
            "object_position": null,
            "order": null,
            "overflow": null,
            "overflow_x": null,
            "overflow_y": null,
            "padding": null,
            "right": null,
            "top": null,
            "visibility": null,
            "width": "auto"
          }
        },
        "060e631c24de4c4ebc5e11e609a07407": {
          "model_module": "@jupyter-widgets/controls",
          "model_name": "DescriptionStyleModel",
          "model_module_version": "1.5.0",
          "state": {
            "_model_module": "@jupyter-widgets/controls",
            "_model_module_version": "1.5.0",
            "_model_name": "DescriptionStyleModel",
            "_view_count": null,
            "_view_module": "@jupyter-widgets/base",
            "_view_module_version": "1.2.0",
            "_view_name": "StyleView",
            "description_width": ""
          }
        },
        "b558bf9e9e3042d2822f64c3278ebba5": {
          "model_module": "@jupyter-widgets/base",
          "model_name": "LayoutModel",
          "model_module_version": "1.2.0",
          "state": {
            "_model_module": "@jupyter-widgets/base",
            "_model_module_version": "1.2.0",
            "_model_name": "LayoutModel",
            "_view_count": null,
            "_view_module": "@jupyter-widgets/base",
            "_view_module_version": "1.2.0",
            "_view_name": "LayoutView",
            "align_content": null,
            "align_items": null,
            "align_self": null,
            "border": null,
            "bottom": null,
            "display": null,
            "flex": null,
            "flex_flow": null,
            "grid_area": "widget004",
            "grid_auto_columns": null,
            "grid_auto_flow": null,
            "grid_auto_rows": null,
            "grid_column": null,
            "grid_gap": null,
            "grid_row": null,
            "grid_template_areas": null,
            "grid_template_columns": null,
            "grid_template_rows": null,
            "height": "auto",
            "justify_content": null,
            "justify_items": null,
            "left": null,
            "margin": null,
            "max_height": null,
            "max_width": null,
            "min_height": null,
            "min_width": null,
            "object_fit": null,
            "object_position": null,
            "order": null,
            "overflow": null,
            "overflow_x": null,
            "overflow_y": null,
            "padding": null,
            "right": null,
            "top": null,
            "visibility": null,
            "width": "auto"
          }
        },
        "8dee2044f129491c90d20189c91e1424": {
          "model_module": "@jupyter-widgets/controls",
          "model_name": "ButtonStyleModel",
          "model_module_version": "1.5.0",
          "state": {
            "_model_module": "@jupyter-widgets/controls",
            "_model_module_version": "1.5.0",
            "_model_name": "ButtonStyleModel",
            "_view_count": null,
            "_view_module": "@jupyter-widgets/base",
            "_view_module_version": "1.2.0",
            "_view_name": "StyleView",
            "button_color": null,
            "font_weight": ""
          }
        },
        "293e8640c88c41dc95d1594972d93c23": {
          "model_module": "@jupyter-widgets/base",
          "model_name": "LayoutModel",
          "model_module_version": "1.2.0",
          "state": {
            "_model_module": "@jupyter-widgets/base",
            "_model_module_version": "1.2.0",
            "_model_name": "LayoutModel",
            "_view_count": null,
            "_view_module": "@jupyter-widgets/base",
            "_view_module_version": "1.2.0",
            "_view_name": "LayoutView",
            "align_content": null,
            "align_items": null,
            "align_self": null,
            "border": null,
            "bottom": null,
            "display": null,
            "flex": null,
            "flex_flow": null,
            "grid_area": "widget005",
            "grid_auto_columns": null,
            "grid_auto_flow": null,
            "grid_auto_rows": null,
            "grid_column": null,
            "grid_gap": null,
            "grid_row": null,
            "grid_template_areas": null,
            "grid_template_columns": null,
            "grid_template_rows": null,
            "height": "30px",
            "justify_content": null,
            "justify_items": null,
            "left": null,
            "margin": null,
            "max_height": null,
            "max_width": null,
            "min_height": null,
            "min_width": null,
            "object_fit": null,
            "object_position": null,
            "order": null,
            "overflow": null,
            "overflow_x": null,
            "overflow_y": null,
            "padding": null,
            "right": null,
            "top": null,
            "visibility": null,
            "width": "auto"
          }
        },
        "e65d2fd7fd034e1ca5fc1364acd31a8a": {
          "model_module": "@jupyter-widgets/controls",
          "model_name": "DescriptionStyleModel",
          "model_module_version": "1.5.0",
          "state": {
            "_model_module": "@jupyter-widgets/controls",
            "_model_module_version": "1.5.0",
            "_model_name": "DescriptionStyleModel",
            "_view_count": null,
            "_view_module": "@jupyter-widgets/base",
            "_view_module_version": "1.2.0",
            "_view_name": "StyleView",
            "description_width": ""
          }
        },
        "c79441bbb4404a01a92bc5c8f37c52ea": {
          "model_module": "@jupyter-widgets/base",
          "model_name": "LayoutModel",
          "model_module_version": "1.2.0",
          "state": {
            "_model_module": "@jupyter-widgets/base",
            "_model_module_version": "1.2.0",
            "_model_name": "LayoutModel",
            "_view_count": null,
            "_view_module": "@jupyter-widgets/base",
            "_view_module_version": "1.2.0",
            "_view_name": "LayoutView",
            "align_content": null,
            "align_items": null,
            "align_self": null,
            "border": null,
            "bottom": null,
            "display": null,
            "flex": null,
            "flex_flow": null,
            "grid_area": "widget006",
            "grid_auto_columns": null,
            "grid_auto_flow": null,
            "grid_auto_rows": null,
            "grid_column": null,
            "grid_gap": null,
            "grid_row": null,
            "grid_template_areas": null,
            "grid_template_columns": null,
            "grid_template_rows": null,
            "height": "auto",
            "justify_content": null,
            "justify_items": null,
            "left": null,
            "margin": null,
            "max_height": null,
            "max_width": null,
            "min_height": null,
            "min_width": null,
            "object_fit": null,
            "object_position": null,
            "order": null,
            "overflow": null,
            "overflow_x": null,
            "overflow_y": null,
            "padding": null,
            "right": null,
            "top": null,
            "visibility": null,
            "width": "auto"
          }
        },
        "5b14f914b5344456ae456c35bd9ff090": {
          "model_module": "@jupyter-widgets/controls",
          "model_name": "ButtonStyleModel",
          "model_module_version": "1.5.0",
          "state": {
            "_model_module": "@jupyter-widgets/controls",
            "_model_module_version": "1.5.0",
            "_model_name": "ButtonStyleModel",
            "_view_count": null,
            "_view_module": "@jupyter-widgets/base",
            "_view_module_version": "1.2.0",
            "_view_name": "StyleView",
            "button_color": null,
            "font_weight": ""
          }
        },
        "837bef428563480b9935fc825b6a6cc4": {
          "model_module": "@jupyter-widgets/base",
          "model_name": "LayoutModel",
          "model_module_version": "1.2.0",
          "state": {
            "_model_module": "@jupyter-widgets/base",
            "_model_module_version": "1.2.0",
            "_model_name": "LayoutModel",
            "_view_count": null,
            "_view_module": "@jupyter-widgets/base",
            "_view_module_version": "1.2.0",
            "_view_name": "LayoutView",
            "align_content": null,
            "align_items": null,
            "align_self": null,
            "border": null,
            "bottom": null,
            "display": null,
            "flex": null,
            "flex_flow": null,
            "grid_area": "widget007",
            "grid_auto_columns": null,
            "grid_auto_flow": null,
            "grid_auto_rows": null,
            "grid_column": null,
            "grid_gap": null,
            "grid_row": null,
            "grid_template_areas": null,
            "grid_template_columns": null,
            "grid_template_rows": null,
            "height": "30px",
            "justify_content": null,
            "justify_items": null,
            "left": null,
            "margin": null,
            "max_height": null,
            "max_width": null,
            "min_height": null,
            "min_width": null,
            "object_fit": null,
            "object_position": null,
            "order": null,
            "overflow": null,
            "overflow_x": null,
            "overflow_y": null,
            "padding": null,
            "right": null,
            "top": null,
            "visibility": null,
            "width": "auto"
          }
        },
        "a3c6959f32954bd896ff7aaabae60bd8": {
          "model_module": "@jupyter-widgets/controls",
          "model_name": "DescriptionStyleModel",
          "model_module_version": "1.5.0",
          "state": {
            "_model_module": "@jupyter-widgets/controls",
            "_model_module_version": "1.5.0",
            "_model_name": "DescriptionStyleModel",
            "_view_count": null,
            "_view_module": "@jupyter-widgets/base",
            "_view_module_version": "1.2.0",
            "_view_name": "StyleView",
            "description_width": ""
          }
        },
        "9a0a97d246a74271a4bae33a22de2281": {
          "model_module": "@jupyter-widgets/base",
          "model_name": "LayoutModel",
          "model_module_version": "1.2.0",
          "state": {
            "_model_module": "@jupyter-widgets/base",
            "_model_module_version": "1.2.0",
            "_model_name": "LayoutModel",
            "_view_count": null,
            "_view_module": "@jupyter-widgets/base",
            "_view_module_version": "1.2.0",
            "_view_name": "LayoutView",
            "align_content": null,
            "align_items": null,
            "align_self": null,
            "border": null,
            "bottom": null,
            "display": null,
            "flex": null,
            "flex_flow": null,
            "grid_area": "widget008",
            "grid_auto_columns": null,
            "grid_auto_flow": null,
            "grid_auto_rows": null,
            "grid_column": null,
            "grid_gap": null,
            "grid_row": null,
            "grid_template_areas": null,
            "grid_template_columns": null,
            "grid_template_rows": null,
            "height": "auto",
            "justify_content": null,
            "justify_items": null,
            "left": null,
            "margin": null,
            "max_height": null,
            "max_width": null,
            "min_height": null,
            "min_width": null,
            "object_fit": null,
            "object_position": null,
            "order": null,
            "overflow": null,
            "overflow_x": null,
            "overflow_y": null,
            "padding": null,
            "right": null,
            "top": null,
            "visibility": null,
            "width": "auto"
          }
        },
        "0654d546a6d7476db945c28359308a8c": {
          "model_module": "@jupyter-widgets/controls",
          "model_name": "ButtonStyleModel",
          "model_module_version": "1.5.0",
          "state": {
            "_model_module": "@jupyter-widgets/controls",
            "_model_module_version": "1.5.0",
            "_model_name": "ButtonStyleModel",
            "_view_count": null,
            "_view_module": "@jupyter-widgets/base",
            "_view_module_version": "1.2.0",
            "_view_name": "StyleView",
            "button_color": null,
            "font_weight": ""
          }
        },
        "e13ee569a2c948dcaa4fa9229bdb9b83": {
          "model_module": "@jupyter-widgets/controls",
          "model_name": "GridBoxModel",
          "model_module_version": "1.5.0",
          "state": {
            "_dom_classes": [],
            "_model_module": "@jupyter-widgets/controls",
            "_model_module_version": "1.5.0",
            "_model_name": "GridBoxModel",
            "_view_count": null,
            "_view_module": "@jupyter-widgets/controls",
            "_view_module_version": "1.5.0",
            "_view_name": "GridBoxView",
            "box_style": "",
            "children": [
              "IPY_MODEL_ff43f4ab4d874d9ebf326a92fce07484",
              "IPY_MODEL_725162f2a3644fc79e5d3a90632e04a5",
              "IPY_MODEL_8b24444f8c3e49ba8b5b427431a6908f",
              "IPY_MODEL_76e2a40a32fc4bb380dee98f3d564a39",
              "IPY_MODEL_05472c51b7d94480950408b196bd295f",
              "IPY_MODEL_6730e31075f8482db4ed8db307c77f2f",
              "IPY_MODEL_4969f2450b684795a7ec308071c59ee5",
              "IPY_MODEL_8dac10509c594112a1fb5e40916eae61"
            ],
            "layout": "IPY_MODEL_f760dcc7af124783bcc998356dabbb26"
          }
        },
        "ff43f4ab4d874d9ebf326a92fce07484": {
          "model_module": "@jupyter-widgets/controls",
          "model_name": "ButtonModel",
          "model_module_version": "1.5.0",
          "state": {
            "_dom_classes": [],
            "_model_module": "@jupyter-widgets/controls",
            "_model_module_version": "1.5.0",
            "_model_name": "ButtonModel",
            "_view_count": null,
            "_view_module": "@jupyter-widgets/controls",
            "_view_module_version": "1.5.0",
            "_view_name": "ButtonView",
            "button_style": "warning",
            "description": "Data Cache",
            "disabled": false,
            "icon": "",
            "layout": "IPY_MODEL_3b7e5c76226b490e857898fa850e14fd",
            "style": "IPY_MODEL_b0df99215ae2468aa7891bf02dd62c2e",
            "tooltip": ""
          }
        },
        "725162f2a3644fc79e5d3a90632e04a5": {
          "model_module": "@jupyter-widgets/controls",
          "model_name": "ButtonModel",
          "model_module_version": "1.5.0",
          "state": {
            "_dom_classes": [],
            "_model_module": "@jupyter-widgets/controls",
            "_model_module_version": "1.5.0",
            "_model_name": "ButtonModel",
            "_view_count": null,
            "_view_module": "@jupyter-widgets/controls",
            "_view_module_version": "1.5.0",
            "_view_name": "ButtonView",
            "button_style": "warning",
            "description": "Size (kB)",
            "disabled": false,
            "icon": "",
            "layout": "IPY_MODEL_ca4fa83cd7224d14bd2336d3b54f9852",
            "style": "IPY_MODEL_a8b17c2331734c9f96c2b1b6ae9c498d",
            "tooltip": ""
          }
        },
        "8b24444f8c3e49ba8b5b427431a6908f": {
          "model_module": "@jupyter-widgets/controls",
          "model_name": "DropdownModel",
          "model_module_version": "1.5.0",
          "state": {
            "_dom_classes": [],
            "_model_module": "@jupyter-widgets/controls",
            "_model_module_version": "1.5.0",
            "_model_name": "DropdownModel",
            "_options_labels": [
              "1",
              "2",
              "4",
              "8",
              "16"
            ],
            "_view_count": null,
            "_view_module": "@jupyter-widgets/controls",
            "_view_module_version": "1.5.0",
            "_view_name": "DropdownView",
            "description": "",
            "description_tooltip": null,
            "disabled": false,
            "index": 0,
            "layout": "IPY_MODEL_6e190538cee14d2786f31124c133869e",
            "style": "IPY_MODEL_50c8ed63a1f940f3a1e6fe0b4cdc911d"
          }
        },
        "76e2a40a32fc4bb380dee98f3d564a39": {
          "model_module": "@jupyter-widgets/controls",
          "model_name": "ButtonModel",
          "model_module_version": "1.5.0",
          "state": {
            "_dom_classes": [],
            "_model_module": "@jupyter-widgets/controls",
            "_model_module_version": "1.5.0",
            "_model_name": "ButtonModel",
            "_view_count": null,
            "_view_module": "@jupyter-widgets/controls",
            "_view_module_version": "1.5.0",
            "_view_name": "ButtonView",
            "button_style": "warning",
            "description": "Associative",
            "disabled": false,
            "icon": "",
            "layout": "IPY_MODEL_e501ee6da50d441db523ae0fcdc0d048",
            "style": "IPY_MODEL_ab58b6122b9a432e84e55e07ae2c3eac",
            "tooltip": ""
          }
        },
        "05472c51b7d94480950408b196bd295f": {
          "model_module": "@jupyter-widgets/controls",
          "model_name": "DropdownModel",
          "model_module_version": "1.5.0",
          "state": {
            "_dom_classes": [],
            "_model_module": "@jupyter-widgets/controls",
            "_model_module_version": "1.5.0",
            "_model_name": "DropdownModel",
            "_options_labels": [
              "1",
              "2",
              "4",
              "8",
              "16",
              "32"
            ],
            "_view_count": null,
            "_view_module": "@jupyter-widgets/controls",
            "_view_module_version": "1.5.0",
            "_view_name": "DropdownView",
            "description": "",
            "description_tooltip": null,
            "disabled": false,
            "index": 0,
            "layout": "IPY_MODEL_1491a74d2433405eb0e0b848994a5e2d",
            "style": "IPY_MODEL_522e91fb7d1c41948f990abbe6377375"
          }
        },
        "6730e31075f8482db4ed8db307c77f2f": {
          "model_module": "@jupyter-widgets/controls",
          "model_name": "ButtonModel",
          "model_module_version": "1.5.0",
          "state": {
            "_dom_classes": [],
            "_model_module": "@jupyter-widgets/controls",
            "_model_module_version": "1.5.0",
            "_model_name": "ButtonModel",
            "_view_count": null,
            "_view_module": "@jupyter-widgets/controls",
            "_view_module_version": "1.5.0",
            "_view_name": "ButtonView",
            "button_style": "warning",
            "description": "Line (Bytes)",
            "disabled": false,
            "icon": "",
            "layout": "IPY_MODEL_9a639179e98b404d8234f48d0ab18c1b",
            "style": "IPY_MODEL_950edfbe79a24d659421d31bbddd35c1",
            "tooltip": ""
          }
        },
        "4969f2450b684795a7ec308071c59ee5": {
          "model_module": "@jupyter-widgets/controls",
          "model_name": "DropdownModel",
          "model_module_version": "1.5.0",
          "state": {
            "_dom_classes": [],
            "_model_module": "@jupyter-widgets/controls",
            "_model_module_version": "1.5.0",
            "_model_name": "DropdownModel",
            "_options_labels": [
              "32",
              "64",
              "128"
            ],
            "_view_count": null,
            "_view_module": "@jupyter-widgets/controls",
            "_view_module_version": "1.5.0",
            "_view_name": "DropdownView",
            "description": "",
            "description_tooltip": null,
            "disabled": false,
            "index": 0,
            "layout": "IPY_MODEL_5a1d82185e2347bfad089d7c58f8f117",
            "style": "IPY_MODEL_6fea9c2c6e8d440a94007f08ed03d369"
          }
        },
        "8dac10509c594112a1fb5e40916eae61": {
          "model_module": "@jupyter-widgets/controls",
          "model_name": "ButtonModel",
          "model_module_version": "1.5.0",
          "state": {
            "_dom_classes": [],
            "_model_module": "@jupyter-widgets/controls",
            "_model_module_version": "1.5.0",
            "_model_name": "ButtonModel",
            "_view_count": null,
            "_view_module": "@jupyter-widgets/controls",
            "_view_module_version": "1.5.0",
            "_view_name": "ButtonView",
            "button_style": "success",
            "description": "Start execution",
            "disabled": false,
            "icon": "",
            "layout": "IPY_MODEL_f7f80d9448c24d65a6b68580b114fbde",
            "style": "IPY_MODEL_99001be0fdaf459e9e5bdb7d377b309d",
            "tooltip": ""
          }
        },
        "f760dcc7af124783bcc998356dabbb26": {
          "model_module": "@jupyter-widgets/base",
          "model_name": "LayoutModel",
          "model_module_version": "1.2.0",
          "state": {
            "_model_module": "@jupyter-widgets/base",
            "_model_module_version": "1.2.0",
            "_model_name": "LayoutModel",
            "_view_count": null,
            "_view_module": "@jupyter-widgets/base",
            "_view_module_version": "1.2.0",
            "_view_name": "LayoutView",
            "align_content": null,
            "align_items": null,
            "align_self": null,
            "border": null,
            "bottom": null,
            "display": null,
            "flex": null,
            "flex_flow": null,
            "grid_area": null,
            "grid_auto_columns": null,
            "grid_auto_flow": null,
            "grid_auto_rows": null,
            "grid_column": null,
            "grid_gap": null,
            "grid_row": null,
            "grid_template_areas": "\"widget001 . . . . . . . . .\"\n\"widget002 widget003 . . . . . . . .\"\n\"widget004 widget005 . . . . . . . .\"\n\"widget006 widget007 . . . . . . . .\"\n\"widget008 . . . . . . . . .\"",
            "grid_template_columns": "repeat(10, 1fr)",
            "grid_template_rows": "repeat(5, 1fr)",
            "height": null,
            "justify_content": null,
            "justify_items": null,
            "left": null,
            "margin": null,
            "max_height": null,
            "max_width": null,
            "min_height": null,
            "min_width": null,
            "object_fit": null,
            "object_position": null,
            "order": null,
            "overflow": null,
            "overflow_x": null,
            "overflow_y": null,
            "padding": null,
            "right": null,
            "top": null,
            "visibility": null,
            "width": null
          }
        },
        "3b7e5c76226b490e857898fa850e14fd": {
          "model_module": "@jupyter-widgets/base",
          "model_name": "LayoutModel",
          "model_module_version": "1.2.0",
          "state": {
            "_model_module": "@jupyter-widgets/base",
            "_model_module_version": "1.2.0",
            "_model_name": "LayoutModel",
            "_view_count": null,
            "_view_module": "@jupyter-widgets/base",
            "_view_module_version": "1.2.0",
            "_view_name": "LayoutView",
            "align_content": null,
            "align_items": null,
            "align_self": null,
            "border": null,
            "bottom": null,
            "display": null,
            "flex": null,
            "flex_flow": null,
            "grid_area": "widget001",
            "grid_auto_columns": null,
            "grid_auto_flow": null,
            "grid_auto_rows": null,
            "grid_column": null,
            "grid_gap": null,
            "grid_row": null,
            "grid_template_areas": null,
            "grid_template_columns": null,
            "grid_template_rows": null,
            "height": "auto",
            "justify_content": null,
            "justify_items": null,
            "left": null,
            "margin": null,
            "max_height": null,
            "max_width": null,
            "min_height": null,
            "min_width": null,
            "object_fit": null,
            "object_position": null,
            "order": null,
            "overflow": null,
            "overflow_x": null,
            "overflow_y": null,
            "padding": null,
            "right": null,
            "top": null,
            "visibility": null,
            "width": "auto"
          }
        },
        "b0df99215ae2468aa7891bf02dd62c2e": {
          "model_module": "@jupyter-widgets/controls",
          "model_name": "ButtonStyleModel",
          "model_module_version": "1.5.0",
          "state": {
            "_model_module": "@jupyter-widgets/controls",
            "_model_module_version": "1.5.0",
            "_model_name": "ButtonStyleModel",
            "_view_count": null,
            "_view_module": "@jupyter-widgets/base",
            "_view_module_version": "1.2.0",
            "_view_name": "StyleView",
            "button_color": null,
            "font_weight": ""
          }
        },
        "ca4fa83cd7224d14bd2336d3b54f9852": {
          "model_module": "@jupyter-widgets/base",
          "model_name": "LayoutModel",
          "model_module_version": "1.2.0",
          "state": {
            "_model_module": "@jupyter-widgets/base",
            "_model_module_version": "1.2.0",
            "_model_name": "LayoutModel",
            "_view_count": null,
            "_view_module": "@jupyter-widgets/base",
            "_view_module_version": "1.2.0",
            "_view_name": "LayoutView",
            "align_content": null,
            "align_items": null,
            "align_self": null,
            "border": null,
            "bottom": null,
            "display": null,
            "flex": null,
            "flex_flow": null,
            "grid_area": "widget002",
            "grid_auto_columns": null,
            "grid_auto_flow": null,
            "grid_auto_rows": null,
            "grid_column": null,
            "grid_gap": null,
            "grid_row": null,
            "grid_template_areas": null,
            "grid_template_columns": null,
            "grid_template_rows": null,
            "height": "auto",
            "justify_content": null,
            "justify_items": null,
            "left": null,
            "margin": null,
            "max_height": null,
            "max_width": null,
            "min_height": null,
            "min_width": null,
            "object_fit": null,
            "object_position": null,
            "order": null,
            "overflow": null,
            "overflow_x": null,
            "overflow_y": null,
            "padding": null,
            "right": null,
            "top": null,
            "visibility": null,
            "width": "auto"
          }
        },
        "a8b17c2331734c9f96c2b1b6ae9c498d": {
          "model_module": "@jupyter-widgets/controls",
          "model_name": "ButtonStyleModel",
          "model_module_version": "1.5.0",
          "state": {
            "_model_module": "@jupyter-widgets/controls",
            "_model_module_version": "1.5.0",
            "_model_name": "ButtonStyleModel",
            "_view_count": null,
            "_view_module": "@jupyter-widgets/base",
            "_view_module_version": "1.2.0",
            "_view_name": "StyleView",
            "button_color": null,
            "font_weight": ""
          }
        },
        "6e190538cee14d2786f31124c133869e": {
          "model_module": "@jupyter-widgets/base",
          "model_name": "LayoutModel",
          "model_module_version": "1.2.0",
          "state": {
            "_model_module": "@jupyter-widgets/base",
            "_model_module_version": "1.2.0",
            "_model_name": "LayoutModel",
            "_view_count": null,
            "_view_module": "@jupyter-widgets/base",
            "_view_module_version": "1.2.0",
            "_view_name": "LayoutView",
            "align_content": null,
            "align_items": null,
            "align_self": null,
            "border": null,
            "bottom": null,
            "display": null,
            "flex": null,
            "flex_flow": null,
            "grid_area": "widget003",
            "grid_auto_columns": null,
            "grid_auto_flow": null,
            "grid_auto_rows": null,
            "grid_column": null,
            "grid_gap": null,
            "grid_row": null,
            "grid_template_areas": null,
            "grid_template_columns": null,
            "grid_template_rows": null,
            "height": "30px",
            "justify_content": null,
            "justify_items": null,
            "left": null,
            "margin": null,
            "max_height": null,
            "max_width": null,
            "min_height": null,
            "min_width": null,
            "object_fit": null,
            "object_position": null,
            "order": null,
            "overflow": null,
            "overflow_x": null,
            "overflow_y": null,
            "padding": null,
            "right": null,
            "top": null,
            "visibility": null,
            "width": "auto"
          }
        },
        "50c8ed63a1f940f3a1e6fe0b4cdc911d": {
          "model_module": "@jupyter-widgets/controls",
          "model_name": "DescriptionStyleModel",
          "model_module_version": "1.5.0",
          "state": {
            "_model_module": "@jupyter-widgets/controls",
            "_model_module_version": "1.5.0",
            "_model_name": "DescriptionStyleModel",
            "_view_count": null,
            "_view_module": "@jupyter-widgets/base",
            "_view_module_version": "1.2.0",
            "_view_name": "StyleView",
            "description_width": ""
          }
        },
        "e501ee6da50d441db523ae0fcdc0d048": {
          "model_module": "@jupyter-widgets/base",
          "model_name": "LayoutModel",
          "model_module_version": "1.2.0",
          "state": {
            "_model_module": "@jupyter-widgets/base",
            "_model_module_version": "1.2.0",
            "_model_name": "LayoutModel",
            "_view_count": null,
            "_view_module": "@jupyter-widgets/base",
            "_view_module_version": "1.2.0",
            "_view_name": "LayoutView",
            "align_content": null,
            "align_items": null,
            "align_self": null,
            "border": null,
            "bottom": null,
            "display": null,
            "flex": null,
            "flex_flow": null,
            "grid_area": "widget004",
            "grid_auto_columns": null,
            "grid_auto_flow": null,
            "grid_auto_rows": null,
            "grid_column": null,
            "grid_gap": null,
            "grid_row": null,
            "grid_template_areas": null,
            "grid_template_columns": null,
            "grid_template_rows": null,
            "height": "auto",
            "justify_content": null,
            "justify_items": null,
            "left": null,
            "margin": null,
            "max_height": null,
            "max_width": null,
            "min_height": null,
            "min_width": null,
            "object_fit": null,
            "object_position": null,
            "order": null,
            "overflow": null,
            "overflow_x": null,
            "overflow_y": null,
            "padding": null,
            "right": null,
            "top": null,
            "visibility": null,
            "width": "auto"
          }
        },
        "ab58b6122b9a432e84e55e07ae2c3eac": {
          "model_module": "@jupyter-widgets/controls",
          "model_name": "ButtonStyleModel",
          "model_module_version": "1.5.0",
          "state": {
            "_model_module": "@jupyter-widgets/controls",
            "_model_module_version": "1.5.0",
            "_model_name": "ButtonStyleModel",
            "_view_count": null,
            "_view_module": "@jupyter-widgets/base",
            "_view_module_version": "1.2.0",
            "_view_name": "StyleView",
            "button_color": null,
            "font_weight": ""
          }
        },
        "1491a74d2433405eb0e0b848994a5e2d": {
          "model_module": "@jupyter-widgets/base",
          "model_name": "LayoutModel",
          "model_module_version": "1.2.0",
          "state": {
            "_model_module": "@jupyter-widgets/base",
            "_model_module_version": "1.2.0",
            "_model_name": "LayoutModel",
            "_view_count": null,
            "_view_module": "@jupyter-widgets/base",
            "_view_module_version": "1.2.0",
            "_view_name": "LayoutView",
            "align_content": null,
            "align_items": null,
            "align_self": null,
            "border": null,
            "bottom": null,
            "display": null,
            "flex": null,
            "flex_flow": null,
            "grid_area": "widget005",
            "grid_auto_columns": null,
            "grid_auto_flow": null,
            "grid_auto_rows": null,
            "grid_column": null,
            "grid_gap": null,
            "grid_row": null,
            "grid_template_areas": null,
            "grid_template_columns": null,
            "grid_template_rows": null,
            "height": "30px",
            "justify_content": null,
            "justify_items": null,
            "left": null,
            "margin": null,
            "max_height": null,
            "max_width": null,
            "min_height": null,
            "min_width": null,
            "object_fit": null,
            "object_position": null,
            "order": null,
            "overflow": null,
            "overflow_x": null,
            "overflow_y": null,
            "padding": null,
            "right": null,
            "top": null,
            "visibility": null,
            "width": "auto"
          }
        },
        "522e91fb7d1c41948f990abbe6377375": {
          "model_module": "@jupyter-widgets/controls",
          "model_name": "DescriptionStyleModel",
          "model_module_version": "1.5.0",
          "state": {
            "_model_module": "@jupyter-widgets/controls",
            "_model_module_version": "1.5.0",
            "_model_name": "DescriptionStyleModel",
            "_view_count": null,
            "_view_module": "@jupyter-widgets/base",
            "_view_module_version": "1.2.0",
            "_view_name": "StyleView",
            "description_width": ""
          }
        },
        "9a639179e98b404d8234f48d0ab18c1b": {
          "model_module": "@jupyter-widgets/base",
          "model_name": "LayoutModel",
          "model_module_version": "1.2.0",
          "state": {
            "_model_module": "@jupyter-widgets/base",
            "_model_module_version": "1.2.0",
            "_model_name": "LayoutModel",
            "_view_count": null,
            "_view_module": "@jupyter-widgets/base",
            "_view_module_version": "1.2.0",
            "_view_name": "LayoutView",
            "align_content": null,
            "align_items": null,
            "align_self": null,
            "border": null,
            "bottom": null,
            "display": null,
            "flex": null,
            "flex_flow": null,
            "grid_area": "widget006",
            "grid_auto_columns": null,
            "grid_auto_flow": null,
            "grid_auto_rows": null,
            "grid_column": null,
            "grid_gap": null,
            "grid_row": null,
            "grid_template_areas": null,
            "grid_template_columns": null,
            "grid_template_rows": null,
            "height": "auto",
            "justify_content": null,
            "justify_items": null,
            "left": null,
            "margin": null,
            "max_height": null,
            "max_width": null,
            "min_height": null,
            "min_width": null,
            "object_fit": null,
            "object_position": null,
            "order": null,
            "overflow": null,
            "overflow_x": null,
            "overflow_y": null,
            "padding": null,
            "right": null,
            "top": null,
            "visibility": null,
            "width": "auto"
          }
        },
        "950edfbe79a24d659421d31bbddd35c1": {
          "model_module": "@jupyter-widgets/controls",
          "model_name": "ButtonStyleModel",
          "model_module_version": "1.5.0",
          "state": {
            "_model_module": "@jupyter-widgets/controls",
            "_model_module_version": "1.5.0",
            "_model_name": "ButtonStyleModel",
            "_view_count": null,
            "_view_module": "@jupyter-widgets/base",
            "_view_module_version": "1.2.0",
            "_view_name": "StyleView",
            "button_color": null,
            "font_weight": ""
          }
        },
        "5a1d82185e2347bfad089d7c58f8f117": {
          "model_module": "@jupyter-widgets/base",
          "model_name": "LayoutModel",
          "model_module_version": "1.2.0",
          "state": {
            "_model_module": "@jupyter-widgets/base",
            "_model_module_version": "1.2.0",
            "_model_name": "LayoutModel",
            "_view_count": null,
            "_view_module": "@jupyter-widgets/base",
            "_view_module_version": "1.2.0",
            "_view_name": "LayoutView",
            "align_content": null,
            "align_items": null,
            "align_self": null,
            "border": null,
            "bottom": null,
            "display": null,
            "flex": null,
            "flex_flow": null,
            "grid_area": "widget007",
            "grid_auto_columns": null,
            "grid_auto_flow": null,
            "grid_auto_rows": null,
            "grid_column": null,
            "grid_gap": null,
            "grid_row": null,
            "grid_template_areas": null,
            "grid_template_columns": null,
            "grid_template_rows": null,
            "height": "30px",
            "justify_content": null,
            "justify_items": null,
            "left": null,
            "margin": null,
            "max_height": null,
            "max_width": null,
            "min_height": null,
            "min_width": null,
            "object_fit": null,
            "object_position": null,
            "order": null,
            "overflow": null,
            "overflow_x": null,
            "overflow_y": null,
            "padding": null,
            "right": null,
            "top": null,
            "visibility": null,
            "width": "auto"
          }
        },
        "6fea9c2c6e8d440a94007f08ed03d369": {
          "model_module": "@jupyter-widgets/controls",
          "model_name": "DescriptionStyleModel",
          "model_module_version": "1.5.0",
          "state": {
            "_model_module": "@jupyter-widgets/controls",
            "_model_module_version": "1.5.0",
            "_model_name": "DescriptionStyleModel",
            "_view_count": null,
            "_view_module": "@jupyter-widgets/base",
            "_view_module_version": "1.2.0",
            "_view_name": "StyleView",
            "description_width": ""
          }
        },
        "f7f80d9448c24d65a6b68580b114fbde": {
          "model_module": "@jupyter-widgets/base",
          "model_name": "LayoutModel",
          "model_module_version": "1.2.0",
          "state": {
            "_model_module": "@jupyter-widgets/base",
            "_model_module_version": "1.2.0",
            "_model_name": "LayoutModel",
            "_view_count": null,
            "_view_module": "@jupyter-widgets/base",
            "_view_module_version": "1.2.0",
            "_view_name": "LayoutView",
            "align_content": null,
            "align_items": null,
            "align_self": null,
            "border": null,
            "bottom": null,
            "display": null,
            "flex": null,
            "flex_flow": null,
            "grid_area": "widget008",
            "grid_auto_columns": null,
            "grid_auto_flow": null,
            "grid_auto_rows": null,
            "grid_column": null,
            "grid_gap": null,
            "grid_row": null,
            "grid_template_areas": null,
            "grid_template_columns": null,
            "grid_template_rows": null,
            "height": "auto",
            "justify_content": null,
            "justify_items": null,
            "left": null,
            "margin": null,
            "max_height": null,
            "max_width": null,
            "min_height": null,
            "min_width": null,
            "object_fit": null,
            "object_position": null,
            "order": null,
            "overflow": null,
            "overflow_x": null,
            "overflow_y": null,
            "padding": null,
            "right": null,
            "top": null,
            "visibility": null,
            "width": "auto"
          }
        },
        "99001be0fdaf459e9e5bdb7d377b309d": {
          "model_module": "@jupyter-widgets/controls",
          "model_name": "ButtonStyleModel",
          "model_module_version": "1.5.0",
          "state": {
            "_model_module": "@jupyter-widgets/controls",
            "_model_module_version": "1.5.0",
            "_model_name": "ButtonStyleModel",
            "_view_count": null,
            "_view_module": "@jupyter-widgets/base",
            "_view_module_version": "1.2.0",
            "_view_name": "StyleView",
            "button_color": null,
            "font_weight": ""
          }
        },
        "b08a7f912fc142c996befa98d9d7b171": {
          "model_module": "@jupyter-widgets/controls",
          "model_name": "GridBoxModel",
          "model_module_version": "1.5.0",
          "state": {
            "_dom_classes": [],
            "_model_module": "@jupyter-widgets/controls",
            "_model_module_version": "1.5.0",
            "_model_name": "GridBoxModel",
            "_view_count": null,
            "_view_module": "@jupyter-widgets/controls",
            "_view_module_version": "1.5.0",
            "_view_name": "GridBoxView",
            "box_style": "",
            "children": [
              "IPY_MODEL_d0a7d596abed41a7a9c1930c9e50dc4c",
              "IPY_MODEL_bc650def4c5a49cd999ae4da28b3dd97",
              "IPY_MODEL_49ab6661e270414997c0386c9ae40da3",
              "IPY_MODEL_439b840b8fd0473d8fa8d6de7bb6ce74",
              "IPY_MODEL_0e59afe58bd747efbf49bbd54a3eada7",
              "IPY_MODEL_3fdaefbb1277474193f89d08a98128e5",
              "IPY_MODEL_eaf34f4c3fc14725b9f85cabeca44264",
              "IPY_MODEL_c75f5a20e8e34c999e65b7f79165d862"
            ],
            "layout": "IPY_MODEL_d8d6af16f7754432851fddbd3c9bfbf2"
          }
        },
        "d0a7d596abed41a7a9c1930c9e50dc4c": {
          "model_module": "@jupyter-widgets/controls",
          "model_name": "ButtonModel",
          "model_module_version": "1.5.0",
          "state": {
            "_dom_classes": [],
            "_model_module": "@jupyter-widgets/controls",
            "_model_module_version": "1.5.0",
            "_model_name": "ButtonModel",
            "_view_count": null,
            "_view_module": "@jupyter-widgets/controls",
            "_view_module_version": "1.5.0",
            "_view_name": "ButtonView",
            "button_style": "warning",
            "description": "Data Cache",
            "disabled": false,
            "icon": "",
            "layout": "IPY_MODEL_7722b9d7ea644fea98e854dedb755b5a",
            "style": "IPY_MODEL_8a4a443bb4094e9f9fd279f08924476b",
            "tooltip": ""
          }
        },
        "bc650def4c5a49cd999ae4da28b3dd97": {
          "model_module": "@jupyter-widgets/controls",
          "model_name": "ButtonModel",
          "model_module_version": "1.5.0",
          "state": {
            "_dom_classes": [],
            "_model_module": "@jupyter-widgets/controls",
            "_model_module_version": "1.5.0",
            "_model_name": "ButtonModel",
            "_view_count": null,
            "_view_module": "@jupyter-widgets/controls",
            "_view_module_version": "1.5.0",
            "_view_name": "ButtonView",
            "button_style": "warning",
            "description": "Size (kB)",
            "disabled": false,
            "icon": "",
            "layout": "IPY_MODEL_f5202b86874143ac977e5bc9b49023c4",
            "style": "IPY_MODEL_3cd9f9e80cd949658e5321ae12446302",
            "tooltip": ""
          }
        },
        "49ab6661e270414997c0386c9ae40da3": {
          "model_module": "@jupyter-widgets/controls",
          "model_name": "DropdownModel",
          "model_module_version": "1.5.0",
          "state": {
            "_dom_classes": [],
            "_model_module": "@jupyter-widgets/controls",
            "_model_module_version": "1.5.0",
            "_model_name": "DropdownModel",
            "_options_labels": [
              "1",
              "2",
              "4",
              "8",
              "16"
            ],
            "_view_count": null,
            "_view_module": "@jupyter-widgets/controls",
            "_view_module_version": "1.5.0",
            "_view_name": "DropdownView",
            "description": "",
            "description_tooltip": null,
            "disabled": false,
            "index": 0,
            "layout": "IPY_MODEL_c35ec1ca9a0d4202856d5a461025ddcd",
            "style": "IPY_MODEL_adef617d930249ae882e86795a893aa5"
          }
        },
        "439b840b8fd0473d8fa8d6de7bb6ce74": {
          "model_module": "@jupyter-widgets/controls",
          "model_name": "ButtonModel",
          "model_module_version": "1.5.0",
          "state": {
            "_dom_classes": [],
            "_model_module": "@jupyter-widgets/controls",
            "_model_module_version": "1.5.0",
            "_model_name": "ButtonModel",
            "_view_count": null,
            "_view_module": "@jupyter-widgets/controls",
            "_view_module_version": "1.5.0",
            "_view_name": "ButtonView",
            "button_style": "warning",
            "description": "Associative",
            "disabled": false,
            "icon": "",
            "layout": "IPY_MODEL_7df5c9f3d71644eea19e7187d91b3c15",
            "style": "IPY_MODEL_63b66b211e994e46bb219361251063f8",
            "tooltip": ""
          }
        },
        "0e59afe58bd747efbf49bbd54a3eada7": {
          "model_module": "@jupyter-widgets/controls",
          "model_name": "DropdownModel",
          "model_module_version": "1.5.0",
          "state": {
            "_dom_classes": [],
            "_model_module": "@jupyter-widgets/controls",
            "_model_module_version": "1.5.0",
            "_model_name": "DropdownModel",
            "_options_labels": [
              "1",
              "2",
              "4",
              "8",
              "16",
              "32"
            ],
            "_view_count": null,
            "_view_module": "@jupyter-widgets/controls",
            "_view_module_version": "1.5.0",
            "_view_name": "DropdownView",
            "description": "",
            "description_tooltip": null,
            "disabled": false,
            "index": 0,
            "layout": "IPY_MODEL_3b4b456c91a04cc79b1cb043d37433d5",
            "style": "IPY_MODEL_17beece4c9e846158c68066e1fefc3b5"
          }
        },
        "3fdaefbb1277474193f89d08a98128e5": {
          "model_module": "@jupyter-widgets/controls",
          "model_name": "ButtonModel",
          "model_module_version": "1.5.0",
          "state": {
            "_dom_classes": [],
            "_model_module": "@jupyter-widgets/controls",
            "_model_module_version": "1.5.0",
            "_model_name": "ButtonModel",
            "_view_count": null,
            "_view_module": "@jupyter-widgets/controls",
            "_view_module_version": "1.5.0",
            "_view_name": "ButtonView",
            "button_style": "warning",
            "description": "Line (Bytes)",
            "disabled": false,
            "icon": "",
            "layout": "IPY_MODEL_e62b64645f804d5fa57e057ce3955838",
            "style": "IPY_MODEL_d7c1a43525574ed6a9918dc84b0c385b",
            "tooltip": ""
          }
        },
        "eaf34f4c3fc14725b9f85cabeca44264": {
          "model_module": "@jupyter-widgets/controls",
          "model_name": "DropdownModel",
          "model_module_version": "1.5.0",
          "state": {
            "_dom_classes": [],
            "_model_module": "@jupyter-widgets/controls",
            "_model_module_version": "1.5.0",
            "_model_name": "DropdownModel",
            "_options_labels": [
              "32",
              "64",
              "128"
            ],
            "_view_count": null,
            "_view_module": "@jupyter-widgets/controls",
            "_view_module_version": "1.5.0",
            "_view_name": "DropdownView",
            "description": "",
            "description_tooltip": null,
            "disabled": false,
            "index": 0,
            "layout": "IPY_MODEL_aa1c7afb6f8047c7b41e26f3d2d2a13c",
            "style": "IPY_MODEL_c03b0326684e41a69ec13c4f9c37e127"
          }
        },
        "c75f5a20e8e34c999e65b7f79165d862": {
          "model_module": "@jupyter-widgets/controls",
          "model_name": "ButtonModel",
          "model_module_version": "1.5.0",
          "state": {
            "_dom_classes": [],
            "_model_module": "@jupyter-widgets/controls",
            "_model_module_version": "1.5.0",
            "_model_name": "ButtonModel",
            "_view_count": null,
            "_view_module": "@jupyter-widgets/controls",
            "_view_module_version": "1.5.0",
            "_view_name": "ButtonView",
            "button_style": "success",
            "description": "Start execution",
            "disabled": false,
            "icon": "",
            "layout": "IPY_MODEL_c8dfce22f25b4eda87f203e771ba87a8",
            "style": "IPY_MODEL_f0b6b46d458a402b86b5863279621270",
            "tooltip": ""
          }
        },
        "d8d6af16f7754432851fddbd3c9bfbf2": {
          "model_module": "@jupyter-widgets/base",
          "model_name": "LayoutModel",
          "model_module_version": "1.2.0",
          "state": {
            "_model_module": "@jupyter-widgets/base",
            "_model_module_version": "1.2.0",
            "_model_name": "LayoutModel",
            "_view_count": null,
            "_view_module": "@jupyter-widgets/base",
            "_view_module_version": "1.2.0",
            "_view_name": "LayoutView",
            "align_content": null,
            "align_items": null,
            "align_self": null,
            "border": null,
            "bottom": null,
            "display": null,
            "flex": null,
            "flex_flow": null,
            "grid_area": null,
            "grid_auto_columns": null,
            "grid_auto_flow": null,
            "grid_auto_rows": null,
            "grid_column": null,
            "grid_gap": null,
            "grid_row": null,
            "grid_template_areas": "\"widget001 . . . . . . . . .\"\n\"widget002 widget003 . . . . . . . .\"\n\"widget004 widget005 . . . . . . . .\"\n\"widget006 widget007 . . . . . . . .\"\n\"widget008 . . . . . . . . .\"",
            "grid_template_columns": "repeat(10, 1fr)",
            "grid_template_rows": "repeat(5, 1fr)",
            "height": null,
            "justify_content": null,
            "justify_items": null,
            "left": null,
            "margin": null,
            "max_height": null,
            "max_width": null,
            "min_height": null,
            "min_width": null,
            "object_fit": null,
            "object_position": null,
            "order": null,
            "overflow": null,
            "overflow_x": null,
            "overflow_y": null,
            "padding": null,
            "right": null,
            "top": null,
            "visibility": null,
            "width": null
          }
        },
        "7722b9d7ea644fea98e854dedb755b5a": {
          "model_module": "@jupyter-widgets/base",
          "model_name": "LayoutModel",
          "model_module_version": "1.2.0",
          "state": {
            "_model_module": "@jupyter-widgets/base",
            "_model_module_version": "1.2.0",
            "_model_name": "LayoutModel",
            "_view_count": null,
            "_view_module": "@jupyter-widgets/base",
            "_view_module_version": "1.2.0",
            "_view_name": "LayoutView",
            "align_content": null,
            "align_items": null,
            "align_self": null,
            "border": null,
            "bottom": null,
            "display": null,
            "flex": null,
            "flex_flow": null,
            "grid_area": "widget001",
            "grid_auto_columns": null,
            "grid_auto_flow": null,
            "grid_auto_rows": null,
            "grid_column": null,
            "grid_gap": null,
            "grid_row": null,
            "grid_template_areas": null,
            "grid_template_columns": null,
            "grid_template_rows": null,
            "height": "auto",
            "justify_content": null,
            "justify_items": null,
            "left": null,
            "margin": null,
            "max_height": null,
            "max_width": null,
            "min_height": null,
            "min_width": null,
            "object_fit": null,
            "object_position": null,
            "order": null,
            "overflow": null,
            "overflow_x": null,
            "overflow_y": null,
            "padding": null,
            "right": null,
            "top": null,
            "visibility": null,
            "width": "auto"
          }
        },
        "8a4a443bb4094e9f9fd279f08924476b": {
          "model_module": "@jupyter-widgets/controls",
          "model_name": "ButtonStyleModel",
          "model_module_version": "1.5.0",
          "state": {
            "_model_module": "@jupyter-widgets/controls",
            "_model_module_version": "1.5.0",
            "_model_name": "ButtonStyleModel",
            "_view_count": null,
            "_view_module": "@jupyter-widgets/base",
            "_view_module_version": "1.2.0",
            "_view_name": "StyleView",
            "button_color": null,
            "font_weight": ""
          }
        },
        "f5202b86874143ac977e5bc9b49023c4": {
          "model_module": "@jupyter-widgets/base",
          "model_name": "LayoutModel",
          "model_module_version": "1.2.0",
          "state": {
            "_model_module": "@jupyter-widgets/base",
            "_model_module_version": "1.2.0",
            "_model_name": "LayoutModel",
            "_view_count": null,
            "_view_module": "@jupyter-widgets/base",
            "_view_module_version": "1.2.0",
            "_view_name": "LayoutView",
            "align_content": null,
            "align_items": null,
            "align_self": null,
            "border": null,
            "bottom": null,
            "display": null,
            "flex": null,
            "flex_flow": null,
            "grid_area": "widget002",
            "grid_auto_columns": null,
            "grid_auto_flow": null,
            "grid_auto_rows": null,
            "grid_column": null,
            "grid_gap": null,
            "grid_row": null,
            "grid_template_areas": null,
            "grid_template_columns": null,
            "grid_template_rows": null,
            "height": "auto",
            "justify_content": null,
            "justify_items": null,
            "left": null,
            "margin": null,
            "max_height": null,
            "max_width": null,
            "min_height": null,
            "min_width": null,
            "object_fit": null,
            "object_position": null,
            "order": null,
            "overflow": null,
            "overflow_x": null,
            "overflow_y": null,
            "padding": null,
            "right": null,
            "top": null,
            "visibility": null,
            "width": "auto"
          }
        },
        "3cd9f9e80cd949658e5321ae12446302": {
          "model_module": "@jupyter-widgets/controls",
          "model_name": "ButtonStyleModel",
          "model_module_version": "1.5.0",
          "state": {
            "_model_module": "@jupyter-widgets/controls",
            "_model_module_version": "1.5.0",
            "_model_name": "ButtonStyleModel",
            "_view_count": null,
            "_view_module": "@jupyter-widgets/base",
            "_view_module_version": "1.2.0",
            "_view_name": "StyleView",
            "button_color": null,
            "font_weight": ""
          }
        },
        "c35ec1ca9a0d4202856d5a461025ddcd": {
          "model_module": "@jupyter-widgets/base",
          "model_name": "LayoutModel",
          "model_module_version": "1.2.0",
          "state": {
            "_model_module": "@jupyter-widgets/base",
            "_model_module_version": "1.2.0",
            "_model_name": "LayoutModel",
            "_view_count": null,
            "_view_module": "@jupyter-widgets/base",
            "_view_module_version": "1.2.0",
            "_view_name": "LayoutView",
            "align_content": null,
            "align_items": null,
            "align_self": null,
            "border": null,
            "bottom": null,
            "display": null,
            "flex": null,
            "flex_flow": null,
            "grid_area": "widget003",
            "grid_auto_columns": null,
            "grid_auto_flow": null,
            "grid_auto_rows": null,
            "grid_column": null,
            "grid_gap": null,
            "grid_row": null,
            "grid_template_areas": null,
            "grid_template_columns": null,
            "grid_template_rows": null,
            "height": "30px",
            "justify_content": null,
            "justify_items": null,
            "left": null,
            "margin": null,
            "max_height": null,
            "max_width": null,
            "min_height": null,
            "min_width": null,
            "object_fit": null,
            "object_position": null,
            "order": null,
            "overflow": null,
            "overflow_x": null,
            "overflow_y": null,
            "padding": null,
            "right": null,
            "top": null,
            "visibility": null,
            "width": "auto"
          }
        },
        "adef617d930249ae882e86795a893aa5": {
          "model_module": "@jupyter-widgets/controls",
          "model_name": "DescriptionStyleModel",
          "model_module_version": "1.5.0",
          "state": {
            "_model_module": "@jupyter-widgets/controls",
            "_model_module_version": "1.5.0",
            "_model_name": "DescriptionStyleModel",
            "_view_count": null,
            "_view_module": "@jupyter-widgets/base",
            "_view_module_version": "1.2.0",
            "_view_name": "StyleView",
            "description_width": ""
          }
        },
        "7df5c9f3d71644eea19e7187d91b3c15": {
          "model_module": "@jupyter-widgets/base",
          "model_name": "LayoutModel",
          "model_module_version": "1.2.0",
          "state": {
            "_model_module": "@jupyter-widgets/base",
            "_model_module_version": "1.2.0",
            "_model_name": "LayoutModel",
            "_view_count": null,
            "_view_module": "@jupyter-widgets/base",
            "_view_module_version": "1.2.0",
            "_view_name": "LayoutView",
            "align_content": null,
            "align_items": null,
            "align_self": null,
            "border": null,
            "bottom": null,
            "display": null,
            "flex": null,
            "flex_flow": null,
            "grid_area": "widget004",
            "grid_auto_columns": null,
            "grid_auto_flow": null,
            "grid_auto_rows": null,
            "grid_column": null,
            "grid_gap": null,
            "grid_row": null,
            "grid_template_areas": null,
            "grid_template_columns": null,
            "grid_template_rows": null,
            "height": "auto",
            "justify_content": null,
            "justify_items": null,
            "left": null,
            "margin": null,
            "max_height": null,
            "max_width": null,
            "min_height": null,
            "min_width": null,
            "object_fit": null,
            "object_position": null,
            "order": null,
            "overflow": null,
            "overflow_x": null,
            "overflow_y": null,
            "padding": null,
            "right": null,
            "top": null,
            "visibility": null,
            "width": "auto"
          }
        },
        "63b66b211e994e46bb219361251063f8": {
          "model_module": "@jupyter-widgets/controls",
          "model_name": "ButtonStyleModel",
          "model_module_version": "1.5.0",
          "state": {
            "_model_module": "@jupyter-widgets/controls",
            "_model_module_version": "1.5.0",
            "_model_name": "ButtonStyleModel",
            "_view_count": null,
            "_view_module": "@jupyter-widgets/base",
            "_view_module_version": "1.2.0",
            "_view_name": "StyleView",
            "button_color": null,
            "font_weight": ""
          }
        },
        "3b4b456c91a04cc79b1cb043d37433d5": {
          "model_module": "@jupyter-widgets/base",
          "model_name": "LayoutModel",
          "model_module_version": "1.2.0",
          "state": {
            "_model_module": "@jupyter-widgets/base",
            "_model_module_version": "1.2.0",
            "_model_name": "LayoutModel",
            "_view_count": null,
            "_view_module": "@jupyter-widgets/base",
            "_view_module_version": "1.2.0",
            "_view_name": "LayoutView",
            "align_content": null,
            "align_items": null,
            "align_self": null,
            "border": null,
            "bottom": null,
            "display": null,
            "flex": null,
            "flex_flow": null,
            "grid_area": "widget005",
            "grid_auto_columns": null,
            "grid_auto_flow": null,
            "grid_auto_rows": null,
            "grid_column": null,
            "grid_gap": null,
            "grid_row": null,
            "grid_template_areas": null,
            "grid_template_columns": null,
            "grid_template_rows": null,
            "height": "30px",
            "justify_content": null,
            "justify_items": null,
            "left": null,
            "margin": null,
            "max_height": null,
            "max_width": null,
            "min_height": null,
            "min_width": null,
            "object_fit": null,
            "object_position": null,
            "order": null,
            "overflow": null,
            "overflow_x": null,
            "overflow_y": null,
            "padding": null,
            "right": null,
            "top": null,
            "visibility": null,
            "width": "auto"
          }
        },
        "17beece4c9e846158c68066e1fefc3b5": {
          "model_module": "@jupyter-widgets/controls",
          "model_name": "DescriptionStyleModel",
          "model_module_version": "1.5.0",
          "state": {
            "_model_module": "@jupyter-widgets/controls",
            "_model_module_version": "1.5.0",
            "_model_name": "DescriptionStyleModel",
            "_view_count": null,
            "_view_module": "@jupyter-widgets/base",
            "_view_module_version": "1.2.0",
            "_view_name": "StyleView",
            "description_width": ""
          }
        },
        "e62b64645f804d5fa57e057ce3955838": {
          "model_module": "@jupyter-widgets/base",
          "model_name": "LayoutModel",
          "model_module_version": "1.2.0",
          "state": {
            "_model_module": "@jupyter-widgets/base",
            "_model_module_version": "1.2.0",
            "_model_name": "LayoutModel",
            "_view_count": null,
            "_view_module": "@jupyter-widgets/base",
            "_view_module_version": "1.2.0",
            "_view_name": "LayoutView",
            "align_content": null,
            "align_items": null,
            "align_self": null,
            "border": null,
            "bottom": null,
            "display": null,
            "flex": null,
            "flex_flow": null,
            "grid_area": "widget006",
            "grid_auto_columns": null,
            "grid_auto_flow": null,
            "grid_auto_rows": null,
            "grid_column": null,
            "grid_gap": null,
            "grid_row": null,
            "grid_template_areas": null,
            "grid_template_columns": null,
            "grid_template_rows": null,
            "height": "auto",
            "justify_content": null,
            "justify_items": null,
            "left": null,
            "margin": null,
            "max_height": null,
            "max_width": null,
            "min_height": null,
            "min_width": null,
            "object_fit": null,
            "object_position": null,
            "order": null,
            "overflow": null,
            "overflow_x": null,
            "overflow_y": null,
            "padding": null,
            "right": null,
            "top": null,
            "visibility": null,
            "width": "auto"
          }
        },
        "d7c1a43525574ed6a9918dc84b0c385b": {
          "model_module": "@jupyter-widgets/controls",
          "model_name": "ButtonStyleModel",
          "model_module_version": "1.5.0",
          "state": {
            "_model_module": "@jupyter-widgets/controls",
            "_model_module_version": "1.5.0",
            "_model_name": "ButtonStyleModel",
            "_view_count": null,
            "_view_module": "@jupyter-widgets/base",
            "_view_module_version": "1.2.0",
            "_view_name": "StyleView",
            "button_color": null,
            "font_weight": ""
          }
        },
        "aa1c7afb6f8047c7b41e26f3d2d2a13c": {
          "model_module": "@jupyter-widgets/base",
          "model_name": "LayoutModel",
          "model_module_version": "1.2.0",
          "state": {
            "_model_module": "@jupyter-widgets/base",
            "_model_module_version": "1.2.0",
            "_model_name": "LayoutModel",
            "_view_count": null,
            "_view_module": "@jupyter-widgets/base",
            "_view_module_version": "1.2.0",
            "_view_name": "LayoutView",
            "align_content": null,
            "align_items": null,
            "align_self": null,
            "border": null,
            "bottom": null,
            "display": null,
            "flex": null,
            "flex_flow": null,
            "grid_area": "widget007",
            "grid_auto_columns": null,
            "grid_auto_flow": null,
            "grid_auto_rows": null,
            "grid_column": null,
            "grid_gap": null,
            "grid_row": null,
            "grid_template_areas": null,
            "grid_template_columns": null,
            "grid_template_rows": null,
            "height": "30px",
            "justify_content": null,
            "justify_items": null,
            "left": null,
            "margin": null,
            "max_height": null,
            "max_width": null,
            "min_height": null,
            "min_width": null,
            "object_fit": null,
            "object_position": null,
            "order": null,
            "overflow": null,
            "overflow_x": null,
            "overflow_y": null,
            "padding": null,
            "right": null,
            "top": null,
            "visibility": null,
            "width": "auto"
          }
        },
        "c03b0326684e41a69ec13c4f9c37e127": {
          "model_module": "@jupyter-widgets/controls",
          "model_name": "DescriptionStyleModel",
          "model_module_version": "1.5.0",
          "state": {
            "_model_module": "@jupyter-widgets/controls",
            "_model_module_version": "1.5.0",
            "_model_name": "DescriptionStyleModel",
            "_view_count": null,
            "_view_module": "@jupyter-widgets/base",
            "_view_module_version": "1.2.0",
            "_view_name": "StyleView",
            "description_width": ""
          }
        },
        "c8dfce22f25b4eda87f203e771ba87a8": {
          "model_module": "@jupyter-widgets/base",
          "model_name": "LayoutModel",
          "model_module_version": "1.2.0",
          "state": {
            "_model_module": "@jupyter-widgets/base",
            "_model_module_version": "1.2.0",
            "_model_name": "LayoutModel",
            "_view_count": null,
            "_view_module": "@jupyter-widgets/base",
            "_view_module_version": "1.2.0",
            "_view_name": "LayoutView",
            "align_content": null,
            "align_items": null,
            "align_self": null,
            "border": null,
            "bottom": null,
            "display": null,
            "flex": null,
            "flex_flow": null,
            "grid_area": "widget008",
            "grid_auto_columns": null,
            "grid_auto_flow": null,
            "grid_auto_rows": null,
            "grid_column": null,
            "grid_gap": null,
            "grid_row": null,
            "grid_template_areas": null,
            "grid_template_columns": null,
            "grid_template_rows": null,
            "height": "auto",
            "justify_content": null,
            "justify_items": null,
            "left": null,
            "margin": null,
            "max_height": null,
            "max_width": null,
            "min_height": null,
            "min_width": null,
            "object_fit": null,
            "object_position": null,
            "order": null,
            "overflow": null,
            "overflow_x": null,
            "overflow_y": null,
            "padding": null,
            "right": null,
            "top": null,
            "visibility": null,
            "width": "auto"
          }
        },
        "f0b6b46d458a402b86b5863279621270": {
          "model_module": "@jupyter-widgets/controls",
          "model_name": "ButtonStyleModel",
          "model_module_version": "1.5.0",
          "state": {
            "_model_module": "@jupyter-widgets/controls",
            "_model_module_version": "1.5.0",
            "_model_name": "ButtonStyleModel",
            "_view_count": null,
            "_view_module": "@jupyter-widgets/base",
            "_view_module_version": "1.2.0",
            "_view_name": "StyleView",
            "button_color": null,
            "font_weight": ""
          }
        },
        "89dff4abff4a450fb01628186cfd2c72": {
          "model_module": "@jupyter-widgets/controls",
          "model_name": "GridBoxModel",
          "model_module_version": "1.5.0",
          "state": {
            "_dom_classes": [],
            "_model_module": "@jupyter-widgets/controls",
            "_model_module_version": "1.5.0",
            "_model_name": "GridBoxModel",
            "_view_count": null,
            "_view_module": "@jupyter-widgets/controls",
            "_view_module_version": "1.5.0",
            "_view_name": "GridBoxView",
            "box_style": "",
            "children": [
              "IPY_MODEL_9628af8dda9a4eb2b2febe25abe0c62f",
              "IPY_MODEL_91458c9a653c4052b199f85041f997f3",
              "IPY_MODEL_1fb72424dadd4042bf9d6a37b6f62660",
              "IPY_MODEL_cef17e907a2047ab9429802d277b69bb",
              "IPY_MODEL_3782e615b54c45dbb1db346ad6c87a8f",
              "IPY_MODEL_a5a47a78d79445faadfef043b0ea4184",
              "IPY_MODEL_d25699df51664a489bbd06b0affb1a91",
              "IPY_MODEL_571da369bc464179a9500160a9e12a60"
            ],
            "layout": "IPY_MODEL_79f711d4ff424c4fb2d8e1cda71fd79d"
          }
        },
        "9628af8dda9a4eb2b2febe25abe0c62f": {
          "model_module": "@jupyter-widgets/controls",
          "model_name": "ButtonModel",
          "model_module_version": "1.5.0",
          "state": {
            "_dom_classes": [],
            "_model_module": "@jupyter-widgets/controls",
            "_model_module_version": "1.5.0",
            "_model_name": "ButtonModel",
            "_view_count": null,
            "_view_module": "@jupyter-widgets/controls",
            "_view_module_version": "1.5.0",
            "_view_name": "ButtonView",
            "button_style": "warning",
            "description": "Data Cache",
            "disabled": false,
            "icon": "",
            "layout": "IPY_MODEL_6494133c79124449934b7eed622b5493",
            "style": "IPY_MODEL_e982d19ee20d44d480de25d2d3a72f44",
            "tooltip": ""
          }
        },
        "91458c9a653c4052b199f85041f997f3": {
          "model_module": "@jupyter-widgets/controls",
          "model_name": "ButtonModel",
          "model_module_version": "1.5.0",
          "state": {
            "_dom_classes": [],
            "_model_module": "@jupyter-widgets/controls",
            "_model_module_version": "1.5.0",
            "_model_name": "ButtonModel",
            "_view_count": null,
            "_view_module": "@jupyter-widgets/controls",
            "_view_module_version": "1.5.0",
            "_view_name": "ButtonView",
            "button_style": "warning",
            "description": "Size (kB)",
            "disabled": false,
            "icon": "",
            "layout": "IPY_MODEL_6e4a190cdea64db88b0df78c5e9a0f1e",
            "style": "IPY_MODEL_fdb157eac77a43e6adff5562492b8205",
            "tooltip": ""
          }
        },
        "1fb72424dadd4042bf9d6a37b6f62660": {
          "model_module": "@jupyter-widgets/controls",
          "model_name": "DropdownModel",
          "model_module_version": "1.5.0",
          "state": {
            "_dom_classes": [],
            "_model_module": "@jupyter-widgets/controls",
            "_model_module_version": "1.5.0",
            "_model_name": "DropdownModel",
            "_options_labels": [
              "1",
              "2",
              "4",
              "8",
              "16"
            ],
            "_view_count": null,
            "_view_module": "@jupyter-widgets/controls",
            "_view_module_version": "1.5.0",
            "_view_name": "DropdownView",
            "description": "",
            "description_tooltip": null,
            "disabled": false,
            "index": 1,
            "layout": "IPY_MODEL_82f758a746d8429d8f1f1b19da86aa68",
            "style": "IPY_MODEL_ff89842bddf94affb0806c5b1feecd5a"
          }
        },
        "cef17e907a2047ab9429802d277b69bb": {
          "model_module": "@jupyter-widgets/controls",
          "model_name": "ButtonModel",
          "model_module_version": "1.5.0",
          "state": {
            "_dom_classes": [],
            "_model_module": "@jupyter-widgets/controls",
            "_model_module_version": "1.5.0",
            "_model_name": "ButtonModel",
            "_view_count": null,
            "_view_module": "@jupyter-widgets/controls",
            "_view_module_version": "1.5.0",
            "_view_name": "ButtonView",
            "button_style": "warning",
            "description": "Associative",
            "disabled": false,
            "icon": "",
            "layout": "IPY_MODEL_2067a369e7ca44f89735f3536bb44266",
            "style": "IPY_MODEL_f32870047b434b88ae4b172d8952c0a7",
            "tooltip": ""
          }
        },
        "3782e615b54c45dbb1db346ad6c87a8f": {
          "model_module": "@jupyter-widgets/controls",
          "model_name": "DropdownModel",
          "model_module_version": "1.5.0",
          "state": {
            "_dom_classes": [],
            "_model_module": "@jupyter-widgets/controls",
            "_model_module_version": "1.5.0",
            "_model_name": "DropdownModel",
            "_options_labels": [
              "1",
              "2",
              "4",
              "8",
              "16",
              "32"
            ],
            "_view_count": null,
            "_view_module": "@jupyter-widgets/controls",
            "_view_module_version": "1.5.0",
            "_view_name": "DropdownView",
            "description": "",
            "description_tooltip": null,
            "disabled": false,
            "index": 0,
            "layout": "IPY_MODEL_a99866208fb345539498cdb67637d3c4",
            "style": "IPY_MODEL_2205cb4080f84313ae97fe4d817c4f55"
          }
        },
        "a5a47a78d79445faadfef043b0ea4184": {
          "model_module": "@jupyter-widgets/controls",
          "model_name": "ButtonModel",
          "model_module_version": "1.5.0",
          "state": {
            "_dom_classes": [],
            "_model_module": "@jupyter-widgets/controls",
            "_model_module_version": "1.5.0",
            "_model_name": "ButtonModel",
            "_view_count": null,
            "_view_module": "@jupyter-widgets/controls",
            "_view_module_version": "1.5.0",
            "_view_name": "ButtonView",
            "button_style": "warning",
            "description": "Line (Bytes)",
            "disabled": false,
            "icon": "",
            "layout": "IPY_MODEL_24752dd9fc054decae9707f5a6e01625",
            "style": "IPY_MODEL_64fea57fa815442daf2139af6b7b77a0",
            "tooltip": ""
          }
        },
        "d25699df51664a489bbd06b0affb1a91": {
          "model_module": "@jupyter-widgets/controls",
          "model_name": "DropdownModel",
          "model_module_version": "1.5.0",
          "state": {
            "_dom_classes": [],
            "_model_module": "@jupyter-widgets/controls",
            "_model_module_version": "1.5.0",
            "_model_name": "DropdownModel",
            "_options_labels": [
              "32",
              "64",
              "128"
            ],
            "_view_count": null,
            "_view_module": "@jupyter-widgets/controls",
            "_view_module_version": "1.5.0",
            "_view_name": "DropdownView",
            "description": "",
            "description_tooltip": null,
            "disabled": false,
            "index": 2,
            "layout": "IPY_MODEL_812e202b42f04f57bb898b6aaa63a08f",
            "style": "IPY_MODEL_68a84b86e2484f90ae70681f0fe9bd83"
          }
        },
        "571da369bc464179a9500160a9e12a60": {
          "model_module": "@jupyter-widgets/controls",
          "model_name": "ButtonModel",
          "model_module_version": "1.5.0",
          "state": {
            "_dom_classes": [],
            "_model_module": "@jupyter-widgets/controls",
            "_model_module_version": "1.5.0",
            "_model_name": "ButtonModel",
            "_view_count": null,
            "_view_module": "@jupyter-widgets/controls",
            "_view_module_version": "1.5.0",
            "_view_name": "ButtonView",
            "button_style": "success",
            "description": "Start execution",
            "disabled": false,
            "icon": "",
            "layout": "IPY_MODEL_baea957e3d8d42668ba00466cb6fc145",
            "style": "IPY_MODEL_fa34aa5b83d14d718927ec6e91081f95",
            "tooltip": ""
          }
        },
        "79f711d4ff424c4fb2d8e1cda71fd79d": {
          "model_module": "@jupyter-widgets/base",
          "model_name": "LayoutModel",
          "model_module_version": "1.2.0",
          "state": {
            "_model_module": "@jupyter-widgets/base",
            "_model_module_version": "1.2.0",
            "_model_name": "LayoutModel",
            "_view_count": null,
            "_view_module": "@jupyter-widgets/base",
            "_view_module_version": "1.2.0",
            "_view_name": "LayoutView",
            "align_content": null,
            "align_items": null,
            "align_self": null,
            "border": null,
            "bottom": null,
            "display": null,
            "flex": null,
            "flex_flow": null,
            "grid_area": null,
            "grid_auto_columns": null,
            "grid_auto_flow": null,
            "grid_auto_rows": null,
            "grid_column": null,
            "grid_gap": null,
            "grid_row": null,
            "grid_template_areas": "\"widget001 . . . . . . . . .\"\n\"widget002 widget003 . . . . . . . .\"\n\"widget004 widget005 . . . . . . . .\"\n\"widget006 widget007 . . . . . . . .\"\n\"widget008 . . . . . . . . .\"",
            "grid_template_columns": "repeat(10, 1fr)",
            "grid_template_rows": "repeat(5, 1fr)",
            "height": null,
            "justify_content": null,
            "justify_items": null,
            "left": null,
            "margin": null,
            "max_height": null,
            "max_width": null,
            "min_height": null,
            "min_width": null,
            "object_fit": null,
            "object_position": null,
            "order": null,
            "overflow": null,
            "overflow_x": null,
            "overflow_y": null,
            "padding": null,
            "right": null,
            "top": null,
            "visibility": null,
            "width": null
          }
        },
        "6494133c79124449934b7eed622b5493": {
          "model_module": "@jupyter-widgets/base",
          "model_name": "LayoutModel",
          "model_module_version": "1.2.0",
          "state": {
            "_model_module": "@jupyter-widgets/base",
            "_model_module_version": "1.2.0",
            "_model_name": "LayoutModel",
            "_view_count": null,
            "_view_module": "@jupyter-widgets/base",
            "_view_module_version": "1.2.0",
            "_view_name": "LayoutView",
            "align_content": null,
            "align_items": null,
            "align_self": null,
            "border": null,
            "bottom": null,
            "display": null,
            "flex": null,
            "flex_flow": null,
            "grid_area": "widget001",
            "grid_auto_columns": null,
            "grid_auto_flow": null,
            "grid_auto_rows": null,
            "grid_column": null,
            "grid_gap": null,
            "grid_row": null,
            "grid_template_areas": null,
            "grid_template_columns": null,
            "grid_template_rows": null,
            "height": "auto",
            "justify_content": null,
            "justify_items": null,
            "left": null,
            "margin": null,
            "max_height": null,
            "max_width": null,
            "min_height": null,
            "min_width": null,
            "object_fit": null,
            "object_position": null,
            "order": null,
            "overflow": null,
            "overflow_x": null,
            "overflow_y": null,
            "padding": null,
            "right": null,
            "top": null,
            "visibility": null,
            "width": "auto"
          }
        },
        "e982d19ee20d44d480de25d2d3a72f44": {
          "model_module": "@jupyter-widgets/controls",
          "model_name": "ButtonStyleModel",
          "model_module_version": "1.5.0",
          "state": {
            "_model_module": "@jupyter-widgets/controls",
            "_model_module_version": "1.5.0",
            "_model_name": "ButtonStyleModel",
            "_view_count": null,
            "_view_module": "@jupyter-widgets/base",
            "_view_module_version": "1.2.0",
            "_view_name": "StyleView",
            "button_color": null,
            "font_weight": ""
          }
        },
        "6e4a190cdea64db88b0df78c5e9a0f1e": {
          "model_module": "@jupyter-widgets/base",
          "model_name": "LayoutModel",
          "model_module_version": "1.2.0",
          "state": {
            "_model_module": "@jupyter-widgets/base",
            "_model_module_version": "1.2.0",
            "_model_name": "LayoutModel",
            "_view_count": null,
            "_view_module": "@jupyter-widgets/base",
            "_view_module_version": "1.2.0",
            "_view_name": "LayoutView",
            "align_content": null,
            "align_items": null,
            "align_self": null,
            "border": null,
            "bottom": null,
            "display": null,
            "flex": null,
            "flex_flow": null,
            "grid_area": "widget002",
            "grid_auto_columns": null,
            "grid_auto_flow": null,
            "grid_auto_rows": null,
            "grid_column": null,
            "grid_gap": null,
            "grid_row": null,
            "grid_template_areas": null,
            "grid_template_columns": null,
            "grid_template_rows": null,
            "height": "auto",
            "justify_content": null,
            "justify_items": null,
            "left": null,
            "margin": null,
            "max_height": null,
            "max_width": null,
            "min_height": null,
            "min_width": null,
            "object_fit": null,
            "object_position": null,
            "order": null,
            "overflow": null,
            "overflow_x": null,
            "overflow_y": null,
            "padding": null,
            "right": null,
            "top": null,
            "visibility": null,
            "width": "auto"
          }
        },
        "fdb157eac77a43e6adff5562492b8205": {
          "model_module": "@jupyter-widgets/controls",
          "model_name": "ButtonStyleModel",
          "model_module_version": "1.5.0",
          "state": {
            "_model_module": "@jupyter-widgets/controls",
            "_model_module_version": "1.5.0",
            "_model_name": "ButtonStyleModel",
            "_view_count": null,
            "_view_module": "@jupyter-widgets/base",
            "_view_module_version": "1.2.0",
            "_view_name": "StyleView",
            "button_color": null,
            "font_weight": ""
          }
        },
        "82f758a746d8429d8f1f1b19da86aa68": {
          "model_module": "@jupyter-widgets/base",
          "model_name": "LayoutModel",
          "model_module_version": "1.2.0",
          "state": {
            "_model_module": "@jupyter-widgets/base",
            "_model_module_version": "1.2.0",
            "_model_name": "LayoutModel",
            "_view_count": null,
            "_view_module": "@jupyter-widgets/base",
            "_view_module_version": "1.2.0",
            "_view_name": "LayoutView",
            "align_content": null,
            "align_items": null,
            "align_self": null,
            "border": null,
            "bottom": null,
            "display": null,
            "flex": null,
            "flex_flow": null,
            "grid_area": "widget003",
            "grid_auto_columns": null,
            "grid_auto_flow": null,
            "grid_auto_rows": null,
            "grid_column": null,
            "grid_gap": null,
            "grid_row": null,
            "grid_template_areas": null,
            "grid_template_columns": null,
            "grid_template_rows": null,
            "height": "30px",
            "justify_content": null,
            "justify_items": null,
            "left": null,
            "margin": null,
            "max_height": null,
            "max_width": null,
            "min_height": null,
            "min_width": null,
            "object_fit": null,
            "object_position": null,
            "order": null,
            "overflow": null,
            "overflow_x": null,
            "overflow_y": null,
            "padding": null,
            "right": null,
            "top": null,
            "visibility": null,
            "width": "auto"
          }
        },
        "ff89842bddf94affb0806c5b1feecd5a": {
          "model_module": "@jupyter-widgets/controls",
          "model_name": "DescriptionStyleModel",
          "model_module_version": "1.5.0",
          "state": {
            "_model_module": "@jupyter-widgets/controls",
            "_model_module_version": "1.5.0",
            "_model_name": "DescriptionStyleModel",
            "_view_count": null,
            "_view_module": "@jupyter-widgets/base",
            "_view_module_version": "1.2.0",
            "_view_name": "StyleView",
            "description_width": ""
          }
        },
        "2067a369e7ca44f89735f3536bb44266": {
          "model_module": "@jupyter-widgets/base",
          "model_name": "LayoutModel",
          "model_module_version": "1.2.0",
          "state": {
            "_model_module": "@jupyter-widgets/base",
            "_model_module_version": "1.2.0",
            "_model_name": "LayoutModel",
            "_view_count": null,
            "_view_module": "@jupyter-widgets/base",
            "_view_module_version": "1.2.0",
            "_view_name": "LayoutView",
            "align_content": null,
            "align_items": null,
            "align_self": null,
            "border": null,
            "bottom": null,
            "display": null,
            "flex": null,
            "flex_flow": null,
            "grid_area": "widget004",
            "grid_auto_columns": null,
            "grid_auto_flow": null,
            "grid_auto_rows": null,
            "grid_column": null,
            "grid_gap": null,
            "grid_row": null,
            "grid_template_areas": null,
            "grid_template_columns": null,
            "grid_template_rows": null,
            "height": "auto",
            "justify_content": null,
            "justify_items": null,
            "left": null,
            "margin": null,
            "max_height": null,
            "max_width": null,
            "min_height": null,
            "min_width": null,
            "object_fit": null,
            "object_position": null,
            "order": null,
            "overflow": null,
            "overflow_x": null,
            "overflow_y": null,
            "padding": null,
            "right": null,
            "top": null,
            "visibility": null,
            "width": "auto"
          }
        },
        "f32870047b434b88ae4b172d8952c0a7": {
          "model_module": "@jupyter-widgets/controls",
          "model_name": "ButtonStyleModel",
          "model_module_version": "1.5.0",
          "state": {
            "_model_module": "@jupyter-widgets/controls",
            "_model_module_version": "1.5.0",
            "_model_name": "ButtonStyleModel",
            "_view_count": null,
            "_view_module": "@jupyter-widgets/base",
            "_view_module_version": "1.2.0",
            "_view_name": "StyleView",
            "button_color": null,
            "font_weight": ""
          }
        },
        "a99866208fb345539498cdb67637d3c4": {
          "model_module": "@jupyter-widgets/base",
          "model_name": "LayoutModel",
          "model_module_version": "1.2.0",
          "state": {
            "_model_module": "@jupyter-widgets/base",
            "_model_module_version": "1.2.0",
            "_model_name": "LayoutModel",
            "_view_count": null,
            "_view_module": "@jupyter-widgets/base",
            "_view_module_version": "1.2.0",
            "_view_name": "LayoutView",
            "align_content": null,
            "align_items": null,
            "align_self": null,
            "border": null,
            "bottom": null,
            "display": null,
            "flex": null,
            "flex_flow": null,
            "grid_area": "widget005",
            "grid_auto_columns": null,
            "grid_auto_flow": null,
            "grid_auto_rows": null,
            "grid_column": null,
            "grid_gap": null,
            "grid_row": null,
            "grid_template_areas": null,
            "grid_template_columns": null,
            "grid_template_rows": null,
            "height": "30px",
            "justify_content": null,
            "justify_items": null,
            "left": null,
            "margin": null,
            "max_height": null,
            "max_width": null,
            "min_height": null,
            "min_width": null,
            "object_fit": null,
            "object_position": null,
            "order": null,
            "overflow": null,
            "overflow_x": null,
            "overflow_y": null,
            "padding": null,
            "right": null,
            "top": null,
            "visibility": null,
            "width": "auto"
          }
        },
        "2205cb4080f84313ae97fe4d817c4f55": {
          "model_module": "@jupyter-widgets/controls",
          "model_name": "DescriptionStyleModel",
          "model_module_version": "1.5.0",
          "state": {
            "_model_module": "@jupyter-widgets/controls",
            "_model_module_version": "1.5.0",
            "_model_name": "DescriptionStyleModel",
            "_view_count": null,
            "_view_module": "@jupyter-widgets/base",
            "_view_module_version": "1.2.0",
            "_view_name": "StyleView",
            "description_width": ""
          }
        },
        "24752dd9fc054decae9707f5a6e01625": {
          "model_module": "@jupyter-widgets/base",
          "model_name": "LayoutModel",
          "model_module_version": "1.2.0",
          "state": {
            "_model_module": "@jupyter-widgets/base",
            "_model_module_version": "1.2.0",
            "_model_name": "LayoutModel",
            "_view_count": null,
            "_view_module": "@jupyter-widgets/base",
            "_view_module_version": "1.2.0",
            "_view_name": "LayoutView",
            "align_content": null,
            "align_items": null,
            "align_self": null,
            "border": null,
            "bottom": null,
            "display": null,
            "flex": null,
            "flex_flow": null,
            "grid_area": "widget006",
            "grid_auto_columns": null,
            "grid_auto_flow": null,
            "grid_auto_rows": null,
            "grid_column": null,
            "grid_gap": null,
            "grid_row": null,
            "grid_template_areas": null,
            "grid_template_columns": null,
            "grid_template_rows": null,
            "height": "auto",
            "justify_content": null,
            "justify_items": null,
            "left": null,
            "margin": null,
            "max_height": null,
            "max_width": null,
            "min_height": null,
            "min_width": null,
            "object_fit": null,
            "object_position": null,
            "order": null,
            "overflow": null,
            "overflow_x": null,
            "overflow_y": null,
            "padding": null,
            "right": null,
            "top": null,
            "visibility": null,
            "width": "auto"
          }
        },
        "64fea57fa815442daf2139af6b7b77a0": {
          "model_module": "@jupyter-widgets/controls",
          "model_name": "ButtonStyleModel",
          "model_module_version": "1.5.0",
          "state": {
            "_model_module": "@jupyter-widgets/controls",
            "_model_module_version": "1.5.0",
            "_model_name": "ButtonStyleModel",
            "_view_count": null,
            "_view_module": "@jupyter-widgets/base",
            "_view_module_version": "1.2.0",
            "_view_name": "StyleView",
            "button_color": null,
            "font_weight": ""
          }
        },
        "812e202b42f04f57bb898b6aaa63a08f": {
          "model_module": "@jupyter-widgets/base",
          "model_name": "LayoutModel",
          "model_module_version": "1.2.0",
          "state": {
            "_model_module": "@jupyter-widgets/base",
            "_model_module_version": "1.2.0",
            "_model_name": "LayoutModel",
            "_view_count": null,
            "_view_module": "@jupyter-widgets/base",
            "_view_module_version": "1.2.0",
            "_view_name": "LayoutView",
            "align_content": null,
            "align_items": null,
            "align_self": null,
            "border": null,
            "bottom": null,
            "display": null,
            "flex": null,
            "flex_flow": null,
            "grid_area": "widget007",
            "grid_auto_columns": null,
            "grid_auto_flow": null,
            "grid_auto_rows": null,
            "grid_column": null,
            "grid_gap": null,
            "grid_row": null,
            "grid_template_areas": null,
            "grid_template_columns": null,
            "grid_template_rows": null,
            "height": "30px",
            "justify_content": null,
            "justify_items": null,
            "left": null,
            "margin": null,
            "max_height": null,
            "max_width": null,
            "min_height": null,
            "min_width": null,
            "object_fit": null,
            "object_position": null,
            "order": null,
            "overflow": null,
            "overflow_x": null,
            "overflow_y": null,
            "padding": null,
            "right": null,
            "top": null,
            "visibility": null,
            "width": "auto"
          }
        },
        "68a84b86e2484f90ae70681f0fe9bd83": {
          "model_module": "@jupyter-widgets/controls",
          "model_name": "DescriptionStyleModel",
          "model_module_version": "1.5.0",
          "state": {
            "_model_module": "@jupyter-widgets/controls",
            "_model_module_version": "1.5.0",
            "_model_name": "DescriptionStyleModel",
            "_view_count": null,
            "_view_module": "@jupyter-widgets/base",
            "_view_module_version": "1.2.0",
            "_view_name": "StyleView",
            "description_width": ""
          }
        },
        "baea957e3d8d42668ba00466cb6fc145": {
          "model_module": "@jupyter-widgets/base",
          "model_name": "LayoutModel",
          "model_module_version": "1.2.0",
          "state": {
            "_model_module": "@jupyter-widgets/base",
            "_model_module_version": "1.2.0",
            "_model_name": "LayoutModel",
            "_view_count": null,
            "_view_module": "@jupyter-widgets/base",
            "_view_module_version": "1.2.0",
            "_view_name": "LayoutView",
            "align_content": null,
            "align_items": null,
            "align_self": null,
            "border": null,
            "bottom": null,
            "display": null,
            "flex": null,
            "flex_flow": null,
            "grid_area": "widget008",
            "grid_auto_columns": null,
            "grid_auto_flow": null,
            "grid_auto_rows": null,
            "grid_column": null,
            "grid_gap": null,
            "grid_row": null,
            "grid_template_areas": null,
            "grid_template_columns": null,
            "grid_template_rows": null,
            "height": "auto",
            "justify_content": null,
            "justify_items": null,
            "left": null,
            "margin": null,
            "max_height": null,
            "max_width": null,
            "min_height": null,
            "min_width": null,
            "object_fit": null,
            "object_position": null,
            "order": null,
            "overflow": null,
            "overflow_x": null,
            "overflow_y": null,
            "padding": null,
            "right": null,
            "top": null,
            "visibility": null,
            "width": "auto"
          }
        },
        "fa34aa5b83d14d718927ec6e91081f95": {
          "model_module": "@jupyter-widgets/controls",
          "model_name": "ButtonStyleModel",
          "model_module_version": "1.5.0",
          "state": {
            "_model_module": "@jupyter-widgets/controls",
            "_model_module_version": "1.5.0",
            "_model_name": "ButtonStyleModel",
            "_view_count": null,
            "_view_module": "@jupyter-widgets/base",
            "_view_module_version": "1.2.0",
            "_view_name": "StyleView",
            "button_color": null,
            "font_weight": ""
          }
        }
      }
    }
  },
  "cells": [
    {
      "cell_type": "markdown",
      "metadata": {
        "id": "view-in-github",
        "colab_type": "text"
      },
      "source": [
        "<a href=\"https://colab.research.google.com/github/jpmedras/inf450_2023-1/blob/main/Valgrind_Simulador_de_Cache.ipynb\" target=\"_parent\"><img src=\"https://colab.research.google.com/assets/colab-badge.svg\" alt=\"Open In Colab\"/></a>"
      ]
    },
    {
      "cell_type": "markdown",
      "metadata": {
        "id": "RAQEhS3SxSRw"
      },
      "source": [
        "# Trabalho com  Valgrind e  Simulação de Cache: **Cachegrind**\n",
        "\n",
        "* [Introdução ao Trabalho](https://youtu.be/NMGbFyh2Q78)\n"
      ]
    },
    {
      "cell_type": "markdown",
      "metadata": {
        "id": "F6dL1CPWLPp6"
      },
      "source": [
        "\n",
        "\n",
        "Este laboratório apresenta o uso da ferramenta cachegrind do ambiente Valgrind, [para maiores informações consulte aqui](https://valgrind.org/docs/manual/cg-manual.html)\n",
        "\n",
        "**Importante**:\n",
        "* A primeira execução do Cachegrind irá fazer a instalação da ferramenta e pode demorar um pouco mais.\n",
        "* Os laboratorios usam uma multiplicação de matrizes como exemplo. O tamanho da matriz cresce com  $O(N^2)$ e o tempo de execução com $O(N^3)$.\n",
        "* Os exemplos estão em C. Mas o Cachegrind trabalha sobre o executável e pode ser usado em qualquer binário.\n",
        "* Fique a vontade para contribuir. Qualquer dúvidas escreva para ricardo@ufv.br\n"
      ]
    },
    {
      "cell_type": "markdown",
      "metadata": {
        "id": "m6xj7BkeMOzf"
      },
      "source": [
        "## Inicialização\n",
        "\n",
        "Primeiro, configurar o laboratório."
      ]
    },
    {
      "cell_type": "code",
      "metadata": {
        "id": "mibTjp3bOJl_",
        "outputId": "bd762157-ac8a-4dbf-d5f6-e4149c52d123",
        "colab": {
          "base_uri": "https://localhost:8080/"
        }
      },
      "source": [
        "!pip install git+https://github.com/lesc-ufv/cad4u >& /dev/null\n",
        "!git clone https://github.com/lesc-ufv/cad4u >& /dev/null\n",
        "%load_ext plugin"
      ],
      "execution_count": 10,
      "outputs": [
        {
          "output_type": "stream",
          "name": "stdout",
          "text": [
            "The plugin extension is already loaded. To reload it, use:\n",
            "  %reload_ext plugin\n"
          ]
        }
      ]
    },
    {
      "cell_type": "markdown",
      "metadata": {
        "id": "RKkT82syMVAR"
      },
      "source": [
        "# Cache de Dados\n",
        "\n",
        "Criamos a extensão **\\%\\%datacache**, onde um código em C pode ser adicionado e compilado, para depois ser executado com  **cachegrind**. A cache de instrução tem o default: 32K, linhas de 64 Bytes, 8-way. A cache LL (Last level Cache) tem tamanho default de\n",
        "58.720.256 Bytes, linhas de 64 Bytes, 28-way.\n",
        "\n",
        "Criamos uma interface amigável onde o usuário especifica os parametros da cache de dados. Depois basta clicar no  **Start Execution** para ter os resultados de falhas (miss) e da taxa de falhas (miss rate).\n",
        "\n",
        "Caso, voce execute mais de uma vez, os resultados ficam temporariamente na sessão para efeitos de comparação.\n"
      ]
    },
    {
      "cell_type": "code",
      "metadata": {
        "id": "couX8O_gzI0v",
        "colab": {
          "base_uri": "https://localhost:8080/",
          "height": 187,
          "referenced_widgets": [
            "e13ee569a2c948dcaa4fa9229bdb9b83",
            "ff43f4ab4d874d9ebf326a92fce07484",
            "725162f2a3644fc79e5d3a90632e04a5",
            "8b24444f8c3e49ba8b5b427431a6908f",
            "76e2a40a32fc4bb380dee98f3d564a39",
            "05472c51b7d94480950408b196bd295f",
            "6730e31075f8482db4ed8db307c77f2f",
            "4969f2450b684795a7ec308071c59ee5",
            "8dac10509c594112a1fb5e40916eae61",
            "f760dcc7af124783bcc998356dabbb26",
            "3b7e5c76226b490e857898fa850e14fd",
            "b0df99215ae2468aa7891bf02dd62c2e",
            "ca4fa83cd7224d14bd2336d3b54f9852",
            "a8b17c2331734c9f96c2b1b6ae9c498d",
            "6e190538cee14d2786f31124c133869e",
            "50c8ed63a1f940f3a1e6fe0b4cdc911d",
            "e501ee6da50d441db523ae0fcdc0d048",
            "ab58b6122b9a432e84e55e07ae2c3eac",
            "1491a74d2433405eb0e0b848994a5e2d",
            "522e91fb7d1c41948f990abbe6377375",
            "9a639179e98b404d8234f48d0ab18c1b",
            "950edfbe79a24d659421d31bbddd35c1",
            "5a1d82185e2347bfad089d7c58f8f117",
            "6fea9c2c6e8d440a94007f08ed03d369",
            "f7f80d9448c24d65a6b68580b114fbde",
            "99001be0fdaf459e9e5bdb7d377b309d"
          ]
        },
        "outputId": "4568df16-38ad-4f93-ef22-2cbca4fd7518"
      },
      "source": [
        "%%datacache\n",
        "#include <stdio.h>\n",
        "#include <stdlib.h>\n",
        "\n",
        "int main(int argc, char const *argv[]) {\n",
        "\n",
        "  int n = 90;\n",
        "  char a[n][n], b[n][n], c[n][n];\n",
        "\n",
        "  int s = 0;\n",
        "  for (int i = 0; i < n; ++i) {\n",
        "      for (int j = 0; j < n; ++j) {\n",
        "        a[i][j] = i + j;\n",
        "        b[i][j] = i*2 + j;\n",
        "      }\n",
        "  }\n",
        "\n",
        "  int temp;\n",
        "  for (int i = 0; i < n; ++i) {\n",
        "      for (int j = 0; j < n; ++j) {\n",
        "          temp = 0;\n",
        "          for (int k = 0; k < n; ++k) {\n",
        "              temp += a[i][k] * b[k][j];\n",
        "          }\n",
        "          c[i][j] = temp;\n",
        "      }\n",
        "  }\n",
        "\n",
        "  return 0;\n",
        "}"
      ],
      "execution_count": 11,
      "outputs": [
        {
          "output_type": "display_data",
          "data": {
            "text/plain": [
              "GridspecLayout(children=(Button(button_style='warning', description='Data Cache', layout=Layout(grid_area='wid…"
            ],
            "application/vnd.jupyter.widget-view+json": {
              "version_major": 2,
              "version_minor": 0,
              "model_id": "e13ee569a2c948dcaa4fa9229bdb9b83"
            }
          },
          "metadata": {}
        }
      ]
    },
    {
      "cell_type": "markdown",
      "metadata": {
        "id": "By0nurvCHgFx"
      },
      "source": [
        "## Outros Resultados\n",
        "\n",
        "Cada simulação irá criar um arquivo temporário com o número do processo **cachegrind.out.**\\<NumeroProcesso\\>.\n",
        "\n",
        "O comando abaixo lista as execuções que já foram realizadas."
      ]
    },
    {
      "cell_type": "code",
      "metadata": {
        "id": "sXQT2nBoHmyw",
        "colab": {
          "base_uri": "https://localhost:8080/"
        },
        "outputId": "660a3294-9036-4d98-925e-06db040dfe07"
      },
      "source": [
        "!ls -la cachegrind*"
      ],
      "execution_count": 12,
      "outputs": [
        {
          "output_type": "stream",
          "name": "stdout",
          "text": [
            "-rw------- 1 root root 79471 Jul 10 22:59 cachegrind.out.2041\n"
          ]
        }
      ]
    },
    {
      "cell_type": "code",
      "metadata": {
        "id": "2JPEjQ4gH_U7",
        "colab": {
          "base_uri": "https://localhost:8080/"
        },
        "outputId": "89810d70-7e9e-499b-829e-53d7ba6886b1"
      },
      "source": [
        "# Podemos listar o arquivo, mas o arquivo é grande 120K, tem muitas informações\n",
        "# Abaixo um exemplo (adaptar para o seu numero de processo) para ver apenas os tamanhos das caches.\n",
        "!grep desc cachegrind.out.1063"
      ],
      "execution_count": 13,
      "outputs": [
        {
          "output_type": "stream",
          "name": "stdout",
          "text": [
            "grep: cachegrind.out.1063: No such file or directory\n"
          ]
        }
      ]
    },
    {
      "cell_type": "markdown",
      "source": [
        "# Parte I"
      ],
      "metadata": {
        "id": "sLvqOhLg1E06"
      }
    },
    {
      "cell_type": "code",
      "source": [
        "# Digitar a lista das matriculas\n",
        "\n",
        "Mat = [105460, 105463, 105466, 105468, 105475]"
      ],
      "metadata": {
        "id": "TT0cP1g91HxG"
      },
      "execution_count": 14,
      "outputs": []
    },
    {
      "cell_type": "code",
      "source": [
        "#@title Gerando a parte I - Tem que **EXECUTAR ESTA CÉLULA !!!**\n",
        "L = [ [\"Cache 2k, Matrix 20x20, 60x60, 90x90 \"],[\"Cache 4k, Matrix 40x40, 60x60, 120x120\"],[\"Cache 2k, Matrix 15x15, 50x50, 100x100. \"],\n",
        " [\"Cache 4k, Matrix 30x30, 60x60, 110x110\"],[\"Cache 8k, Matrix 50x50, 100x100, 150x150.\"],[\"Cache 16k, Matrix 80x80, 160x160, 320x320\"]]\n",
        "\n",
        "D = {}\n",
        "print(\"Faça os testes usando estes tamanhos: \",L[(sum(Mat)//197)%len(L)])"
      ],
      "metadata": {
        "colab": {
          "base_uri": "https://localhost:8080/"
        },
        "id": "HeHFDrRw1O7z",
        "outputId": "4f32e0af-3736-40db-b0a7-680d1e962f6c"
      },
      "execution_count": 15,
      "outputs": [
        {
          "output_type": "stream",
          "name": "stdout",
          "text": [
            "Faça os testes usando estes tamanhos:  ['Cache 2k, Matrix 20x20, 60x60, 90x90 ']\n"
          ]
        }
      ]
    },
    {
      "cell_type": "markdown",
      "source": [
        "\n",
        "\n",
        "Fazer três versões da multiplicação de Matrizes\n",
        "\n",
        "###**a.** Exemplo Anterior\n",
        "\n",
        "###**b.** Armazenar B na forma transposta para reduzir as falhas no acesso por coluna\n",
        "\n",
        "###**c.** Fazer a versão com Tile que seja o maior possivel que possa estar armazenado na Cache.\n",
        "\n",
        "Não considerar as falhas de inicialização.\n",
        "\n",
        "1. Mantendo o tamanho da cache. A associatividade faz diferença para alguma das três versões em relação a taxa de falhas? Execute para três tamanhos diferentes de matrizes (menor ou igual, maior que a cache) para as três versões e mostre na forma gráfica. Explique os resultados.\n",
        "\n",
        "2. Mantendo o tamanho da cache. O tamanho do bloco faz diferença para alguma das três versões em relação a taxa de falhas? Explique os resultados e mostre na forma gráfica."
      ],
      "metadata": {
        "id": "9SZoZZ-7b-Rx"
      }
    },
    {
      "cell_type": "markdown",
      "source": [
        "## Parte A"
      ],
      "metadata": {
        "id": "ZTyzPgUTyOiB"
      }
    },
    {
      "cell_type": "code",
      "metadata": {
        "colab": {
          "base_uri": "https://localhost:8080/",
          "height": 187,
          "referenced_widgets": [
            "b08a7f912fc142c996befa98d9d7b171",
            "d0a7d596abed41a7a9c1930c9e50dc4c",
            "bc650def4c5a49cd999ae4da28b3dd97",
            "49ab6661e270414997c0386c9ae40da3",
            "439b840b8fd0473d8fa8d6de7bb6ce74",
            "0e59afe58bd747efbf49bbd54a3eada7",
            "3fdaefbb1277474193f89d08a98128e5",
            "eaf34f4c3fc14725b9f85cabeca44264",
            "c75f5a20e8e34c999e65b7f79165d862",
            "d8d6af16f7754432851fddbd3c9bfbf2",
            "7722b9d7ea644fea98e854dedb755b5a",
            "8a4a443bb4094e9f9fd279f08924476b",
            "f5202b86874143ac977e5bc9b49023c4",
            "3cd9f9e80cd949658e5321ae12446302",
            "c35ec1ca9a0d4202856d5a461025ddcd",
            "adef617d930249ae882e86795a893aa5",
            "7df5c9f3d71644eea19e7187d91b3c15",
            "63b66b211e994e46bb219361251063f8",
            "3b4b456c91a04cc79b1cb043d37433d5",
            "17beece4c9e846158c68066e1fefc3b5",
            "e62b64645f804d5fa57e057ce3955838",
            "d7c1a43525574ed6a9918dc84b0c385b",
            "aa1c7afb6f8047c7b41e26f3d2d2a13c",
            "c03b0326684e41a69ec13c4f9c37e127",
            "c8dfce22f25b4eda87f203e771ba87a8",
            "f0b6b46d458a402b86b5863279621270"
          ]
        },
        "outputId": "64856087-2f3e-4973-faa2-424ed64b02ad",
        "id": "ZItwM8qVySx9"
      },
      "source": [
        "%%datacache\n",
        "#include <stdio.h>\n",
        "#include <stdlib.h>\n",
        "\n",
        "int main(int argc, char const *argv[]) {\n",
        "\n",
        "  int n = 20;\n",
        "  char a[n][n], b[n][n], c[n][n];\n",
        "\n",
        "  int s = 0;\n",
        "  for (int i = 0; i < n; ++i) {\n",
        "      for (int j = 0; j < n; ++j) {\n",
        "        a[i][j] = i + j;\n",
        "        b[i][j] = i*2 + j;\n",
        "        c[i][j] = 0;\n",
        "      }\n",
        "  }\n",
        "\n",
        "  for (int i = 0; i < n; ++i) {\n",
        "      for (int j = 0; j < n; ++j) {\n",
        "          for (int k = 0; k < n; ++k) {\n",
        "              c[i][j] += a[i][k] * b[k][j];\n",
        "          }\n",
        "      }\n",
        "  }\n",
        "\n",
        "  return 0;\n",
        "}"
      ],
      "execution_count": 16,
      "outputs": [
        {
          "output_type": "display_data",
          "data": {
            "text/plain": [
              "GridspecLayout(children=(Button(button_style='warning', description='Data Cache', layout=Layout(grid_area='wid…"
            ],
            "application/vnd.jupyter.widget-view+json": {
              "version_major": 2,
              "version_minor": 0,
              "model_id": "b08a7f912fc142c996befa98d9d7b171"
            }
          },
          "metadata": {}
        }
      ]
    },
    {
      "cell_type": "markdown",
      "source": [
        "### Associative\n",
        "\n",
        "size=2\n",
        "line=32\n",
        "\n",
        "#### 20\n",
        "associative = ['1', '4', '16']\n",
        "misses = [7611, 4232, 4124]\n",
        "\n",
        "#### 60\n",
        "associative = ['1', '4', '16']\n",
        "misses = [63177, 32842, 5687]\n",
        "\n",
        "#### 90\n",
        "associative = ['1', '4', '16']\n",
        "misses = [233398, 42604, 28325]"
      ],
      "metadata": {
        "id": "Q_btSzmR1Gki"
      }
    },
    {
      "cell_type": "markdown",
      "source": [
        "### Line\n",
        "\n",
        "size=2\n",
        "associative=1\n",
        "\n",
        "#### 20\n",
        "line = ['32', '64', '128']\n",
        "misses = [7613, 7212, 7004]\n",
        "\n",
        "#### 60\n",
        "line = ['32', '64', '128']\n",
        "misses = [63179, 95547, 128425]\n",
        "\n",
        "#### 90\n",
        "line = ['32', '64', '128']\n",
        "misses = [234323, 708200, 933525]"
      ],
      "metadata": {
        "id": "f1pN9fvA0wvJ"
      }
    },
    {
      "cell_type": "markdown",
      "source": [
        "### Associative"
      ],
      "metadata": {
        "id": "qXMpQqUL6n5r"
      }
    },
    {
      "cell_type": "code",
      "source": [
        "#@title Size=20\n",
        "import matplotlib.pyplot as plt\n",
        "\n",
        "x = ['1', '4', '16']\n",
        "y = [7611, 4232, 4124]\n",
        "\n",
        "# Espessura das barras\n",
        "width = 0.5\n",
        "\n",
        "# Plotar o gráfico de barras\n",
        "plt.bar(x, y, width=width)\n",
        "\n",
        "# Definir rótulos e título\n",
        "plt.xlabel('Line (Bytes)')\n",
        "plt.ylabel('Misses')\n",
        "plt.title('Misses by associative')\n",
        "\n",
        "# Definir margem para o intervalo de variação dos valores em y\n",
        "margin = 0.01 * max(y)\n",
        "\n",
        "# Definir os limites do eixo y com margem\n",
        "plt.ylim(min(y) - margin, max(y) + margin)\n",
        "\n",
        "# Exibir o gráfico\n",
        "plt.show()"
      ],
      "metadata": {
        "cellView": "form",
        "outputId": "444e2e91-0133-45c1-a5d5-3aef382e996e",
        "colab": {
          "base_uri": "https://localhost:8080/",
          "height": 472
        },
        "id": "Cn1E2ZzW6n6B"
      },
      "execution_count": 17,
      "outputs": [
        {
          "output_type": "display_data",
          "data": {
            "text/plain": [
              "<Figure size 640x480 with 1 Axes>"
            ],
            "image/png": "[encoded data removed]"
          },
          "metadata": {}
        }
      ]
    },
    {
      "cell_type": "code",
      "source": [
        "#@title Size=60\n",
        "import matplotlib.pyplot as plt\n",
        "\n",
        "x = ['1', '4', '16']\n",
        "y = [63177, 32842, 5687]\n",
        "\n",
        "# Espessura das barras\n",
        "width = 0.5\n",
        "\n",
        "# Plotar o gráfico de barras\n",
        "plt.bar(x, y, width=width)\n",
        "\n",
        "# Definir rótulos e título\n",
        "plt.xlabel('Line (Bytes)')\n",
        "plt.ylabel('Misses')\n",
        "plt.title('Misses by associative')\n",
        "\n",
        "# Definir margem para o intervalo de variação dos valores em y\n",
        "margin = 0.01 * max(y)\n",
        "\n",
        "# Definir os limites do eixo y com margem\n",
        "plt.ylim(min(y) - margin, max(y) + margin)\n",
        "\n",
        "# Exibir o gráfico\n",
        "plt.show()"
      ],
      "metadata": {
        "colab": {
          "base_uri": "https://localhost:8080/",
          "height": 472
        },
        "cellView": "form",
        "outputId": "dba979cc-2ea6-434c-d69a-8b9762c20da6",
        "id": "tDLNPlfd6n6C"
      },
      "execution_count": 18,
      "outputs": [
        {
          "output_type": "display_data",
          "data": {
            "text/plain": [
              "<Figure size 640x480 with 1 Axes>"
            ],
            "image/png": "[encoded data removed]"
          },
          "metadata": {}
        }
      ]
    },
    {
      "cell_type": "code",
      "source": [
        "#@title Size=90\n",
        "import matplotlib.pyplot as plt\n",
        "\n",
        "x = ['1', '4', '16']\n",
        "y = [233398, 42604, 28325]\n",
        "\n",
        "# Espessura das barras\n",
        "width = 0.5\n",
        "\n",
        "# Plotar o gráfico de barras\n",
        "plt.bar(x, y, width=width)\n",
        "\n",
        "# Definir rótulos e título\n",
        "plt.xlabel('Line (Bytes)')\n",
        "plt.ylabel('Misses')\n",
        "plt.title('Misses by associative')\n",
        "\n",
        "# Definir margem para o intervalo de variação dos valores em y\n",
        "margin = 0.01 * max(y)\n",
        "\n",
        "# Definir os limites do eixo y com margem\n",
        "plt.ylim(min(y) - margin, max(y) + margin)\n",
        "\n",
        "# Exibir o gráfico\n",
        "plt.show()"
      ],
      "metadata": {
        "cellView": "form",
        "outputId": "254b2859-5018-41af-aaaf-b781f574bd9d",
        "colab": {
          "base_uri": "https://localhost:8080/",
          "height": 472
        },
        "id": "ey9neehP6n6E"
      },
      "execution_count": 19,
      "outputs": [
        {
          "output_type": "display_data",
          "data": {
            "text/plain": [
              "<Figure size 640x480 with 1 Axes>"
            ],
            "image/png": "[encoded data removed]"
          },
          "metadata": {}
        }
      ]
    },
    {
      "cell_type": "markdown",
      "source": [
        "### Line (Bytes)"
      ],
      "metadata": {
        "id": "vIPTCnoa5sJd"
      }
    },
    {
      "cell_type": "code",
      "source": [
        "#@title Size=20\n",
        "import matplotlib.pyplot as plt\n",
        "\n",
        "x = ['32', '64', '128']\n",
        "y = [7613, 7212, 7004]\n",
        "\n",
        "# Espessura das barras\n",
        "width = 0.5\n",
        "\n",
        "# Plotar o gráfico de barras\n",
        "plt.bar(x, y, width=width)\n",
        "\n",
        "# Definir rótulos e título\n",
        "plt.xlabel('Line (Bytes)')\n",
        "plt.ylabel('Misses')\n",
        "plt.title('Misses by line size')\n",
        "\n",
        "# Definir margem para o intervalo de variação dos valores em y\n",
        "margin = 0.01 * max(y)\n",
        "\n",
        "# Definir os limites do eixo y com margem\n",
        "plt.ylim(min(y) - margin, max(y) + margin)\n",
        "\n",
        "# Exibir o gráfico\n",
        "plt.show()"
      ],
      "metadata": {
        "colab": {
          "base_uri": "https://localhost:8080/",
          "height": 472
        },
        "cellView": "form",
        "id": "EVlXDa8y3v4s",
        "outputId": "d84145f7-3794-41b9-93c9-4ffdc9329d96"
      },
      "execution_count": 20,
      "outputs": [
        {
          "output_type": "display_data",
          "data": {
            "text/plain": [
              "<Figure size 640x480 with 1 Axes>"
            ],
            "image/png": "[encoded data removed]"
          },
          "metadata": {}
        }
      ]
    },
    {
      "cell_type": "code",
      "source": [
        "#@title Size=60\n",
        "import matplotlib.pyplot as plt\n",
        "\n",
        "x = ['32', '64', '128']\n",
        "y = [63179, 95547, 128425]\n",
        "\n",
        "# Espessura das barras\n",
        "width = 0.5\n",
        "\n",
        "# Plotar o gráfico de barras\n",
        "plt.bar(x, y, width=width)\n",
        "\n",
        "# Definir rótulos e título\n",
        "plt.xlabel('Line (Bytes)')\n",
        "plt.ylabel('Misses')\n",
        "plt.title('Misses by line size')\n",
        "\n",
        "# Definir margem para o intervalo de variação dos valores em y\n",
        "margin = 0.01 * max(y)\n",
        "\n",
        "# Definir os limites do eixo y com margem\n",
        "plt.ylim(min(y) - margin, max(y) + margin)\n",
        "\n",
        "# Exibir o gráfico\n",
        "plt.show()"
      ],
      "metadata": {
        "colab": {
          "base_uri": "https://localhost:8080/",
          "height": 472
        },
        "cellView": "form",
        "id": "O-Wx0xeE6BJ0",
        "outputId": "0753ac68-2b17-4892-ade9-663871bb3265"
      },
      "execution_count": 21,
      "outputs": [
        {
          "output_type": "display_data",
          "data": {
            "text/plain": [
              "<Figure size 640x480 with 1 Axes>"
            ],
            "image/png": "[encoded data removed]"
          },
          "metadata": {}
        }
      ]
    },
    {
      "cell_type": "code",
      "source": [
        "#@title Size=90\n",
        "import matplotlib.pyplot as plt\n",
        "\n",
        "x = ['32', '64', '128']\n",
        "y = [234323, 708200, 933525]\n",
        "\n",
        "# Espessura das barras\n",
        "width = 0.5\n",
        "\n",
        "# Plotar o gráfico de barras\n",
        "plt.bar(x, y, width=width)\n",
        "\n",
        "# Definir rótulos e título\n",
        "plt.xlabel('Line (Bytes)')\n",
        "plt.ylabel('Misses')\n",
        "plt.title('Misses by line size')\n",
        "\n",
        "# Definir margem para o intervalo de variação dos valores em y\n",
        "margin = 0.01 * max(y)\n",
        "\n",
        "# Definir os limites do eixo y com margem\n",
        "plt.ylim(min(y) - margin, max(y) + margin)\n",
        "\n",
        "# Exibir o gráfico\n",
        "plt.show()"
      ],
      "metadata": {
        "colab": {
          "base_uri": "https://localhost:8080/",
          "height": 472
        },
        "cellView": "form",
        "id": "JHHpD3mk6HQe",
        "outputId": "3aa3e730-7031-4631-d271-1573c093c10f"
      },
      "execution_count": 22,
      "outputs": [
        {
          "output_type": "display_data",
          "data": {
            "text/plain": [
              "<Figure size 640x480 with 1 Axes>"
            ],
            "image/png": "[encoded data removed]"
          },
          "metadata": {}
        }
      ]
    },
    {
      "cell_type": "markdown",
      "source": [
        "## Parte B"
      ],
      "metadata": {
        "id": "diNOlCqDyQD1"
      }
    },
    {
      "cell_type": "code",
      "source": [
        "%%datacache\n",
        "#include <stdio.h>\n",
        "#include <stdlib.h>\n",
        "\n",
        "int main(int argc, char const *argv[]) {\n",
        "\n",
        "  int n = 60;\n",
        "  char a[n][n], b[n][n], c[n][n];\n",
        "\n",
        "  int s = 0;\n",
        "  for (int i = 0; i < n; ++i) {\n",
        "      for (int j = 0; j < n; ++j) {\n",
        "        a[i][j] = i + j;\n",
        "        b[j][i] = i*2 + j;\n",
        "        c[i][j] = 0;\n",
        "      }\n",
        "  }\n",
        "\n",
        "  for (int i = 0; i < n; ++i) {\n",
        "      for (int j = 0; j < n; ++j) {\n",
        "          for (int k = 0; k < n; ++k) {\n",
        "              c[i][j] += a[i][k] * b[j][k];\n",
        "          }\n",
        "      }\n",
        "  }\n",
        "\n",
        "  return 0;\n",
        "}"
      ],
      "metadata": {
        "colab": {
          "base_uri": "https://localhost:8080/",
          "height": 968,
          "referenced_widgets": [
            "89dff4abff4a450fb01628186cfd2c72",
            "9628af8dda9a4eb2b2febe25abe0c62f",
            "91458c9a653c4052b199f85041f997f3",
            "1fb72424dadd4042bf9d6a37b6f62660",
            "cef17e907a2047ab9429802d277b69bb",
            "3782e615b54c45dbb1db346ad6c87a8f",
            "a5a47a78d79445faadfef043b0ea4184",
            "d25699df51664a489bbd06b0affb1a91",
            "571da369bc464179a9500160a9e12a60",
            "79f711d4ff424c4fb2d8e1cda71fd79d",
            "6494133c79124449934b7eed622b5493",
            "e982d19ee20d44d480de25d2d3a72f44",
            "6e4a190cdea64db88b0df78c5e9a0f1e",
            "fdb157eac77a43e6adff5562492b8205",
            "82f758a746d8429d8f1f1b19da86aa68",
            "ff89842bddf94affb0806c5b1feecd5a",
            "2067a369e7ca44f89735f3536bb44266",
            "f32870047b434b88ae4b172d8952c0a7",
            "a99866208fb345539498cdb67637d3c4",
            "2205cb4080f84313ae97fe4d817c4f55",
            "24752dd9fc054decae9707f5a6e01625",
            "64fea57fa815442daf2139af6b7b77a0",
            "812e202b42f04f57bb898b6aaa63a08f",
            "68a84b86e2484f90ae70681f0fe9bd83",
            "baea957e3d8d42668ba00466cb6fc145",
            "fa34aa5b83d14d718927ec6e91081f95"
          ]
        },
        "id": "0YJb5-j2zVs2",
        "outputId": "d3df1572-7a43-4f22-a3b5-26d18969f6ef"
      },
      "execution_count": 28,
      "outputs": [
        {
          "output_type": "display_data",
          "data": {
            "text/plain": [
              "GridspecLayout(children=(Button(button_style='warning', description='Data Cache', layout=Layout(grid_area='wid…"
            ],
            "application/vnd.jupyter.widget-view+json": {
              "version_major": 2,
              "version_minor": 0,
              "model_id": "89dff4abff4a450fb01628186cfd2c72"
            }
          },
          "metadata": {}
        },
        {
          "output_type": "stream",
          "name": "stdout",
          "text": [
            "------------------------------------------------------------\n",
            "Parameters: 4096, 1, 32\n",
            "\n",
            "LLi miss rate:       0.01%\n",
            "\n",
            "D   refs:       4,241,773  (3,999,551 rd   + 242,222 wr)\n",
            "D1  misses:        57,892  (   46,104 rd   +  11,788 wr)\n",
            "LLd misses:         1,799  (    1,177 rd   +     622 wr)\n",
            "D1  miss rate:        1.4% (      1.2%     +     4.9%  )\n",
            "LLd miss rate:        0.0% (      0.0%     +     0.3%  )\n",
            "\n",
            "LL refs:           58,815  (   47,027 rd   +  11,788 wr)\n",
            "LL misses:          2,712  (    2,090 rd   +     622 wr)\n",
            "LL miss rate:         0.0% (      0.0%     +     0.3%  )\n",
            "------------------------------------------------------------\n",
            "------------------------------------------------------------\n",
            "Parameters: 4096, 1, 64\n",
            "\n",
            "LLi miss rate:       0.01%\n",
            "\n",
            "D   refs:       4,241,773  (3,999,551 rd   + 242,222 wr)\n",
            "D1  misses:        90,578  (   73,819 rd   +  16,759 wr)\n",
            "LLd misses:         1,799  (    1,177 rd   +     622 wr)\n",
            "D1  miss rate:        2.1% (      1.8%     +     6.9%  )\n",
            "LLd miss rate:        0.0% (      0.0%     +     0.3%  )\n",
            "\n",
            "LL refs:           91,501  (   74,742 rd   +  16,759 wr)\n",
            "LL misses:          2,712  (    2,090 rd   +     622 wr)\n",
            "LL miss rate:         0.0% (      0.0%     +     0.3%  )\n",
            "------------------------------------------------------------\n",
            "------------------------------------------------------------\n",
            "Parameters: 4096, 1, 128\n",
            "\n",
            "LLi miss rate:       0.01%\n",
            "\n",
            "D   refs:       4,241,773  (3,999,551 rd   + 242,222 wr)\n",
            "D1  misses:       125,968  (  102,435 rd   +  23,533 wr)\n",
            "LLd misses:         1,344  (      917 rd   +     427 wr)\n",
            "D1  miss rate:        3.0% (      2.6%     +     9.7%  )\n",
            "LLd miss rate:        0.0% (      0.0%     +     0.2%  )\n",
            "\n",
            "LL refs:          126,891  (  103,358 rd   +  23,533 wr)\n",
            "LL misses:          2,257  (    1,830 rd   +     427 wr)\n",
            "LL miss rate:         0.0% (      0.0%     +     0.2%  )\n",
            "------------------------------------------------------------\n"
          ]
        }
      ]
    },
    {
      "cell_type": "markdown",
      "source": [
        "# Associative\n",
        "size=2\n",
        "line=32\n",
        "\n",
        "#### 20\n",
        "associative = ['1', '4', '16'] misses = [7611, 4232, 4124]\n",
        "\n",
        "#### 60\n",
        "associative = ['1', '4', '16'] misses = [57892, 6986 , 6090]\n",
        "\n",
        "#### 90\n",
        "associative = ['1', '4', '16'] misses = [204352, 28622, 28320]\n",
        "\n",
        "# Line\n",
        "size=2 associative=1\n",
        "\n",
        "#### 20\n",
        "line = ['32', '64', '128'] misses = [7611, 7213, 7004]\n",
        "\n",
        "#### 60\n",
        "line = ['32', '64', '128'] misses = [57892, 90578, 125968]\n",
        "\n",
        "#### 90\n",
        "line = ['32', '64', '128'] misses = [204352, 309374, 470653]"
      ],
      "metadata": {
        "id": "5fxEeAQ5OR2K"
      }
    },
    {
      "cell_type": "markdown",
      "source": [
        "### Associative"
      ],
      "metadata": {
        "id": "j0jB6DyAR0sr"
      }
    },
    {
      "cell_type": "code",
      "source": [
        "#@title Size=20\n",
        "import matplotlib.pyplot as plt\n",
        "\n",
        "associative = ['1', '4', '16']\n",
        "misses = [7611, 4232, 4124]\n",
        "\n",
        "# Espessura das barras\n",
        "width = 0.5\n",
        "\n",
        "# Plotar o gráfico de barras\n",
        "plt.bar(x, y, width=width)\n",
        "\n",
        "# Definir rótulos e título\n",
        "plt.xlabel('Line (Bytes)')\n",
        "plt.ylabel('Misses')\n",
        "plt.title('Misses by associative')\n",
        "\n",
        "# Definir margem para o intervalo de variação dos valores em y\n",
        "margin = 0.01 * max(y)\n",
        "\n",
        "# Definir os limites do eixo y com margem\n",
        "plt.ylim(min(y) - margin, max(y) + margin)\n",
        "\n",
        "# Exibir o gráfico\n",
        "plt.show()"
      ],
      "metadata": {
        "cellView": "form",
        "id": "YFC5xFsNRzQr",
        "outputId": "67b4bac7-09dd-4980-98d6-be025af7376d",
        "colab": {
          "base_uri": "https://localhost:8080/",
          "height": 472
        }
      },
      "execution_count": 29,
      "outputs": [
        {
          "output_type": "display_data",
          "data": {
            "text/plain": [
              "<Figure size 640x480 with 1 Axes>"
            ],
            "image/png": "[encoded data removed]"
          },
          "metadata": {}
        }
      ]
    },
    {
      "cell_type": "code",
      "source": [
        "#@title Size=60\n",
        "import matplotlib.pyplot as plt\n",
        "\n",
        "associative = ['1', '4', '16']\n",
        "misses = [57892, 6986 , 6090]\n",
        "\n",
        "# Espessura das barras\n",
        "width = 0.5\n",
        "\n",
        "# Plotar o gráfico de barras\n",
        "plt.bar(x, y, width=width)\n",
        "\n",
        "# Definir rótulos e título\n",
        "plt.xlabel('Line (Bytes)')\n",
        "plt.ylabel('Misses')\n",
        "plt.title('Misses by associative')\n",
        "\n",
        "# Definir margem para o intervalo de variação dos valores em y\n",
        "margin = 0.01 * max(y)\n",
        "\n",
        "# Definir os limites do eixo y com margem\n",
        "plt.ylim(min(y) - margin, max(y) + margin)\n",
        "\n",
        "# Exibir o gráfico\n",
        "plt.show()"
      ],
      "metadata": {
        "cellView": "form",
        "id": "5BCvt_CCR-l-",
        "outputId": "c7da51ea-5847-4541-e92c-d6ad7ebd0a19",
        "colab": {
          "base_uri": "https://localhost:8080/",
          "height": 472
        }
      },
      "execution_count": 30,
      "outputs": [
        {
          "output_type": "display_data",
          "data": {
            "text/plain": [
              "<Figure size 640x480 with 1 Axes>"
            ],
            "image/png": "[encoded data removed]"
          },
          "metadata": {}
        }
      ]
    },
    {
      "cell_type": "code",
      "source": [
        "#@title Size=90\n",
        "import matplotlib.pyplot as plt\n",
        "\n",
        "associative = ['1', '4', '16']\n",
        "misses = [204352, 28622, 28320]\n",
        "\n",
        "# Espessura das barras\n",
        "width = 0.5\n",
        "\n",
        "# Plotar o gráfico de barras\n",
        "plt.bar(x, y, width=width)\n",
        "\n",
        "# Definir rótulos e título\n",
        "plt.xlabel('Line (Bytes)')\n",
        "plt.ylabel('Misses')\n",
        "plt.title('Misses by associative')\n",
        "\n",
        "# Definir margem para o intervalo de variação dos valores em y\n",
        "margin = 0.01 * max(y)\n",
        "\n",
        "# Definir os limites do eixo y com margem\n",
        "plt.ylim(min(y) - margin, max(y) + margin)\n",
        "\n",
        "# Exibir o gráfico\n",
        "plt.show()"
      ],
      "metadata": {
        "cellView": "form",
        "id": "FxTj9GPhSJuu",
        "outputId": "4d33630b-2f6c-4490-de67-96aaf4c0383b",
        "colab": {
          "base_uri": "https://localhost:8080/",
          "height": 472
        }
      },
      "execution_count": 31,
      "outputs": [
        {
          "output_type": "display_data",
          "data": {
            "text/plain": [
              "<Figure size 640x480 with 1 Axes>"
            ],
            "image/png": "[encoded data removed]"
          },
          "metadata": {}
        }
      ]
    },
    {
      "cell_type": "markdown",
      "source": [
        "### Lines (Bytes)"
      ],
      "metadata": {
        "id": "SGehgQS_SipN"
      }
    },
    {
      "cell_type": "code",
      "source": [
        "#@title Size=20\n",
        "import matplotlib.pyplot as plt\n",
        "\n",
        "line = ['32', '64', '128']\n",
        "misses = [7611, 7213, 7004]\n",
        "\n",
        "# Espessura das barras\n",
        "width = 0.5\n",
        "\n",
        "# Plotar o gráfico de barras\n",
        "plt.bar(x, y, width=width)\n",
        "\n",
        "# Definir rótulos e título\n",
        "plt.xlabel('Line (Bytes)')\n",
        "plt.ylabel('Misses')\n",
        "plt.title('Misses by associative')\n",
        "\n",
        "# Definir margem para o intervalo de variação dos valores em y\n",
        "margin = 0.01 * max(y)\n",
        "\n",
        "# Definir os limites do eixo y com margem\n",
        "plt.ylim(min(y) - margin, max(y) + margin)\n",
        "\n",
        "# Exibir o gráfico\n",
        "plt.show()"
      ],
      "metadata": {
        "cellView": "form",
        "id": "hkTU1cg_SkTu",
        "outputId": "c6d58a22-9400-4478-cb78-6987f6283b41",
        "colab": {
          "base_uri": "https://localhost:8080/",
          "height": 472
        }
      },
      "execution_count": 36,
      "outputs": [
        {
          "output_type": "display_data",
          "data": {
            "text/plain": [
              "<Figure size 640x480 with 1 Axes>"
            ],
            "image/png": "[encoded data removed]"
          },
          "metadata": {}
        }
      ]
    },
    {
      "cell_type": "code",
      "source": [
        "#@title Size=60\n",
        "import matplotlib.pyplot as plt\n",
        "\n",
        "line = ['32', '64', '128']\n",
        "misses = [62917, 104065, 142541]\n",
        "\n",
        "# Espessura das barras\n",
        "width = 0.5\n",
        "\n",
        "# Plotar o gráfico de barras\n",
        "plt.bar(x, y, width=width)\n",
        "\n",
        "# Definir rótulos e título\n",
        "plt.xlabel('Line (Bytes)')\n",
        "plt.ylabel('Misses')\n",
        "plt.title('Misses by line size')\n",
        "\n",
        "# Definir margem para o intervalo de variação dos valores em y\n",
        "margin = 0.01 * max(y)\n",
        "\n",
        "# Definir os limites do eixo y com margem\n",
        "plt.ylim(min(y) - margin, max(y) + margin)\n",
        "\n",
        "# Exibir o gráfico\n",
        "plt.show()"
      ],
      "metadata": {
        "cellView": "form",
        "id": "5_V_yUFjTDFH",
        "outputId": "5b2ca074-7959-493c-b129-028c8e06fb40",
        "colab": {
          "base_uri": "https://localhost:8080/",
          "height": 472
        }
      },
      "execution_count": 34,
      "outputs": [
        {
          "output_type": "display_data",
          "data": {
            "text/plain": [
              "<Figure size 640x480 with 1 Axes>"
            ],
            "image/png": "[encoded data removed]"
          },
          "metadata": {}
        }
      ]
    },
    {
      "cell_type": "code",
      "source": [
        "#@title Size=90\n",
        "import matplotlib.pyplot as plt\n",
        "\n",
        "line = ['32', '64', '128']\n",
        "misses = [204352, 309374, 470653]\n",
        "\n",
        "# Espessura das barras\n",
        "width = 0.5\n",
        "\n",
        "# Plotar o gráfico de barras\n",
        "plt.bar(x, y, width=width)\n",
        "\n",
        "# Definir rótulos e título\n",
        "plt.xlabel('Line (Bytes)')\n",
        "plt.ylabel('Misses')\n",
        "plt.title('Misses by line size')\n",
        "\n",
        "# Definir margem para o intervalo de variação dos valores em y\n",
        "margin = 0.01 * max(y)\n",
        "\n",
        "# Definir os limites do eixo y com margem\n",
        "plt.ylim(min(y) - margin, max(y) + margin)\n",
        "\n",
        "# Exibir o gráfico\n",
        "plt.show()"
      ],
      "metadata": {
        "cellView": "form",
        "id": "ePCw3t_9TXmh",
        "outputId": "fa4acbe4-fb67-48b3-d1b1-8b53ade242b2",
        "colab": {
          "base_uri": "https://localhost:8080/",
          "height": 472
        }
      },
      "execution_count": 38,
      "outputs": [
        {
          "output_type": "display_data",
          "data": {
            "text/plain": [
              "<Figure size 640x480 with 1 Axes>"
            ],
            "image/png": "[encoded data removed]"
          },
          "metadata": {}
        }
      ]
    },
    {
      "cell_type": "markdown",
      "source": [
        "## Parte C"
      ],
      "metadata": {
        "id": "ZA70l6K3yRQn"
      }
    },
    {
      "cell_type": "code",
      "source": [
        "%%datacache\n",
        "#include <stdio.h>\n",
        "#include <stdlib.h>\n",
        "\n",
        "int main(int argc, char const *argv[]) {\n",
        "\n",
        "  int n = 90;\n",
        "  char a[n][n], b[n][n], c[n][n];\n",
        "  int tilesize=8;\n",
        "\n",
        "  int s = 0;\n",
        "  for (int i = 0; i < n; ++i) {\n",
        "      for (int j = 0; j < n; ++j) {\n",
        "        a[i][j] = i + j;\n",
        "        b[i][j] = i*2 + j;\n",
        "        c[i][j] = 0;\n",
        "      }\n",
        "  }\n",
        "\n",
        "  for (int ih = 0; ih < n; ih += tilesize) {                         ///\\lilabel{block_loop_i}\n",
        "    for (int jh = 0; jh < n; jh += tilesize) {                       ///\\lilabel{block_loop_k}\n",
        "      for (int kh = 0; kh < n; kh += tilesize) {                     ///\\lilabel{block_loop_j}\n",
        "        for (int il = 0; il < tilesize; ++il) {                      ///\\lilabel{base_loop_i}\n",
        "          for (int kl = 0; kl < tilesize; ++kl) {                    ///\\lilabel{base_loop_k}\n",
        "            for (int jl = 0; jl < tilesize; ++jl) {                  ///\\lilabel{base_loop_j}\n",
        "              c[ih+il][jh+jl] += a[ih+il][kh+kl] * b[kh+kl][jh+jl];  ///\\lilabel{base_multiply}\n",
        "        } } }\n",
        "      }\n",
        "    }\n",
        "  }\n",
        "\n",
        "  return 0;\n",
        "}"
      ],
      "metadata": {
        "colab": {
          "base_uri": "https://localhost:8080/",
          "height": 187,
          "referenced_widgets": [
            "221aaec17ae94a7abcafd75e88d347cb",
            "a4791f5c19d748e58655c96a992ab316",
            "b74a59e9c2154e3c9daa5dfba70be016",
            "6b5f499ca9a348e9ab69c1c62f5db635",
            "493e55bc8662486abd2e5d94b639c3dd",
            "6b0d4a6e522046feb9eddf0c3e5b8450",
            "c43b3b0d96de4be39ee64e2b8e319125",
            "ec4b4d73edc24d41b0891ffe9fa0687c",
            "197361601e6b436b830d22726672c950",
            "1ef7348951fb4c9ca759194af9709edc",
            "f8371fc429f641689df46fdf1d205837",
            "48103bf5f8884c97920e71f647aeb309",
            "20c7e67e62d84740b1f0974bb0086857",
            "368c06633f714e2e9882331e400b0fef",
            "6e49aa72fb3149c296ca13bb1bc00b00",
            "060e631c24de4c4ebc5e11e609a07407",
            "b558bf9e9e3042d2822f64c3278ebba5",
            "8dee2044f129491c90d20189c91e1424",
            "293e8640c88c41dc95d1594972d93c23",
            "e65d2fd7fd034e1ca5fc1364acd31a8a",
            "c79441bbb4404a01a92bc5c8f37c52ea",
            "5b14f914b5344456ae456c35bd9ff090",
            "837bef428563480b9935fc825b6a6cc4",
            "a3c6959f32954bd896ff7aaabae60bd8",
            "9a0a97d246a74271a4bae33a22de2281",
            "0654d546a6d7476db945c28359308a8c"
          ]
        },
        "id": "ZvyvUVIMzWho",
        "outputId": "5fab3fe2-148e-43d4-ee8b-90b3a282fbdb"
      },
      "execution_count": null,
      "outputs": [
        {
          "output_type": "display_data",
          "data": {
            "text/plain": [
              "GridspecLayout(children=(Button(button_style='warning', description='Data Cache', layout=Layout(grid_area='wid…"
            ],
            "application/vnd.jupyter.widget-view+json": {
              "version_major": 2,
              "version_minor": 0,
              "model_id": "221aaec17ae94a7abcafd75e88d347cb"
            }
          },
          "metadata": {}
        }
      ]
    },
    {
      "cell_type": "markdown",
      "source": [
        "### Associative\n",
        "\n",
        "size=2\n",
        "line=32\n",
        "\n",
        "#### 20\n",
        "associative = ['1', '4', '16']\n",
        "misses = [7612, 4233, 4125]\n",
        "\n",
        "#### 60\n",
        "associative = ['1', '4', '16']\n",
        "misses = [62917, 7057, 5787]\n",
        "\n",
        "#### 90\n",
        "associative = ['1', '4', '16']\n",
        "misses = [290055, 17829, 22192]"
      ],
      "metadata": {
        "id": "fGqXAMopMBdh"
      }
    },
    {
      "cell_type": "markdown",
      "source": [
        "### Line\n",
        "\n",
        "size=2\n",
        "associative=1\n",
        "\n",
        "#### 20\n",
        "line = ['32', '64', '128']\n",
        "misses = [7612, 7214, 7005]\n",
        "\n",
        "#### 60\n",
        "line = ['32', '64', '128']\n",
        "misses = [62917, 104065, 142541]\n",
        "\n",
        "#### 90\n",
        "line = ['32', '64', '128']\n",
        "misses = [290055, 491539, 708842]"
      ],
      "metadata": {
        "id": "tm6lTkJZMCJQ"
      }
    },
    {
      "cell_type": "markdown",
      "source": [
        "### Associative"
      ],
      "metadata": {
        "id": "0adJU9fSML5Z"
      }
    },
    {
      "cell_type": "code",
      "source": [
        "#@title Size=20\n",
        "import matplotlib.pyplot as plt\n",
        "\n",
        "x = ['1', '4', '16']\n",
        "y = [7612, 4233, 4125]\n",
        "\n",
        "# Espessura das barras\n",
        "width = 0.5\n",
        "\n",
        "# Plotar o gráfico de barras\n",
        "plt.bar(x, y, width=width)\n",
        "\n",
        "# Definir rótulos e título\n",
        "plt.xlabel('Line (Bytes)')\n",
        "plt.ylabel('Misses')\n",
        "plt.title('Misses by associative')\n",
        "\n",
        "# Definir margem para o intervalo de variação dos valores em y\n",
        "margin = 0.01 * max(y)\n",
        "\n",
        "# Definir os limites do eixo y com margem\n",
        "plt.ylim(min(y) - margin, max(y) + margin)\n",
        "\n",
        "# Exibir o gráfico\n",
        "plt.show()"
      ],
      "metadata": {
        "colab": {
          "base_uri": "https://localhost:8080/",
          "height": 472
        },
        "id": "TGDRVrJrMMmA",
        "outputId": "fd51507c-7c0b-4db2-c23b-27b83912f750",
        "cellView": "form"
      },
      "execution_count": null,
      "outputs": [
        {
          "output_type": "display_data",
          "data": {
            "text/plain": [
              "<Figure size 640x480 with 1 Axes>"
            ],
            "image/png": "[encoded data removed]"
          },
          "metadata": {}
        }
      ]
    },
    {
      "cell_type": "code",
      "source": [
        "#@title Size=60\n",
        "import matplotlib.pyplot as plt\n",
        "\n",
        "x = ['1', '4', '16']\n",
        "y = [62917, 7057, 5787]\n",
        "\n",
        "# Espessura das barras\n",
        "width = 0.5\n",
        "\n",
        "# Plotar o gráfico de barras\n",
        "plt.bar(x, y, width=width)\n",
        "\n",
        "# Definir rótulos e título\n",
        "plt.xlabel('Line (Bytes)')\n",
        "plt.ylabel('Misses')\n",
        "plt.title('Misses by associative')\n",
        "\n",
        "# Definir margem para o intervalo de variação dos valores em y\n",
        "margin = 0.01 * max(y)\n",
        "\n",
        "# Definir os limites do eixo y com margem\n",
        "plt.ylim(min(y) - margin, max(y) + margin)\n",
        "\n",
        "# Exibir o gráfico\n",
        "plt.show()"
      ],
      "metadata": {
        "colab": {
          "base_uri": "https://localhost:8080/",
          "height": 472
        },
        "id": "EW99bQkjMPXZ",
        "outputId": "838546cb-9a62-4013-fe01-3cf6adc18763",
        "cellView": "form"
      },
      "execution_count": null,
      "outputs": [
        {
          "output_type": "display_data",
          "data": {
            "text/plain": [
              "<Figure size 640x480 with 1 Axes>"
            ],
            "image/png": "[encoded data removed]"
          },
          "metadata": {}
        }
      ]
    },
    {
      "cell_type": "code",
      "source": [
        "#@title Size=90\n",
        "import matplotlib.pyplot as plt\n",
        "\n",
        "x = ['1', '4', '16']\n",
        "y = [290055, 17829, 22192]\n",
        "\n",
        "# Espessura das barras\n",
        "width = 0.5\n",
        "\n",
        "# Plotar o gráfico de barras\n",
        "plt.bar(x, y, width=width)\n",
        "\n",
        "# Definir rótulos e título\n",
        "plt.xlabel('Line (Bytes)')\n",
        "plt.ylabel('Misses')\n",
        "plt.title('Misses by associative')\n",
        "\n",
        "# Definir margem para o intervalo de variação dos valores em y\n",
        "margin = 0.01 * max(y)\n",
        "\n",
        "# Definir os limites do eixo y com margem\n",
        "plt.ylim(min(y) - margin, max(y) + margin)\n",
        "\n",
        "# Exibir o gráfico\n",
        "plt.show()"
      ],
      "metadata": {
        "colab": {
          "base_uri": "https://localhost:8080/",
          "height": 472
        },
        "id": "UCnRVg-BMSQw",
        "outputId": "b6582630-25de-4f84-dbad-733531a66a3b",
        "cellView": "form"
      },
      "execution_count": null,
      "outputs": [
        {
          "output_type": "display_data",
          "data": {
            "text/plain": [
              "<Figure size 640x480 with 1 Axes>"
            ],
            "image/png": "[encoded data removed]"
          },
          "metadata": {}
        }
      ]
    },
    {
      "cell_type": "markdown",
      "source": [
        "### Lines (Bytes)"
      ],
      "metadata": {
        "id": "xSIXmqVLMUu_"
      }
    },
    {
      "cell_type": "code",
      "source": [
        "#@title Size=20\n",
        "import matplotlib.pyplot as plt\n",
        "\n",
        "line = ['32', '64', '128']\n",
        "misses = [7612, 7214, 7005]\n",
        "\n",
        "# Espessura das barras\n",
        "width = 0.5\n",
        "\n",
        "# Plotar o gráfico de barras\n",
        "plt.bar(x, y, width=width)\n",
        "\n",
        "# Definir rótulos e título\n",
        "plt.xlabel('Line (Bytes)')\n",
        "plt.ylabel('Misses')\n",
        "plt.title('Misses by line size')\n",
        "\n",
        "# Definir margem para o intervalo de variação dos valores em y\n",
        "margin = 0.01 * max(y)\n",
        "\n",
        "# Definir os limites do eixo y com margem\n",
        "plt.ylim(min(y) - margin, max(y) + margin)\n",
        "\n",
        "# Exibir o gráfico\n",
        "plt.show()"
      ],
      "metadata": {
        "colab": {
          "base_uri": "https://localhost:8080/",
          "height": 472
        },
        "id": "aYqn8so5MXT3",
        "outputId": "e977d73b-d368-4d1e-c1e5-f15f2964884c",
        "cellView": "form"
      },
      "execution_count": 37,
      "outputs": [
        {
          "output_type": "display_data",
          "data": {
            "text/plain": [
              "<Figure size 640x480 with 1 Axes>"
            ],
            "image/png": "[encoded data removed]"
          },
          "metadata": {}
        }
      ]
    },
    {
      "cell_type": "code",
      "source": [
        "#@title Size=60\n",
        "import matplotlib.pyplot as plt\n",
        "\n",
        "x = ['32', '64', '128']\n",
        "y = [62917, 104065, 142541]\n",
        "\n",
        "# Espessura das barras\n",
        "width = 0.5\n",
        "\n",
        "# Plotar o gráfico de barras\n",
        "plt.bar(x, y, width=width)\n",
        "\n",
        "# Definir rótulos e título\n",
        "plt.xlabel('Line (Bytes)')\n",
        "plt.ylabel('Misses')\n",
        "plt.title('Misses by line size')\n",
        "\n",
        "# Definir margem para o intervalo de variação dos valores em y\n",
        "margin = 0.01 * max(y)\n",
        "\n",
        "# Definir os limites do eixo y com margem\n",
        "plt.ylim(min(y) - margin, max(y) + margin)\n",
        "\n",
        "# Exibir o gráfico\n",
        "plt.show()"
      ],
      "metadata": {
        "colab": {
          "base_uri": "https://localhost:8080/",
          "height": 472
        },
        "id": "ODSpakMSMaGo",
        "outputId": "7803e5f1-6657-48de-8d12-ae59cb18a69c",
        "cellView": "form"
      },
      "execution_count": null,
      "outputs": [
        {
          "output_type": "display_data",
          "data": {
            "text/plain": [
              "<Figure size 640x480 with 1 Axes>"
            ],
            "image/png": "[encoded data removed]"
          },
          "metadata": {}
        }
      ]
    },
    {
      "cell_type": "code",
      "source": [
        "#@title Size=90\n",
        "import matplotlib.pyplot as plt\n",
        "\n",
        "x = ['32', '64', '128']\n",
        "y = [290055, 491539, 708842]\n",
        "\n",
        "# Espessura das barras\n",
        "width = 0.5\n",
        "\n",
        "# Plotar o gráfico de barras\n",
        "plt.bar(x, y, width=width)\n",
        "\n",
        "# Definir rótulos e título\n",
        "plt.xlabel('Line (Bytes)')\n",
        "plt.ylabel('Misses')\n",
        "plt.title('Misses by line size')\n",
        "\n",
        "# Definir margem para o intervalo de variação dos valores em y\n",
        "margin = 0.01 * max(y)\n",
        "\n",
        "# Definir os limites do eixo y com margem\n",
        "plt.ylim(min(y) - margin, max(y) + margin)\n",
        "\n",
        "# Exibir o gráfico\n",
        "plt.show()"
      ],
      "metadata": {
        "colab": {
          "base_uri": "https://localhost:8080/",
          "height": 472
        },
        "id": "Xe3FMFBrMeFI",
        "outputId": "a8c4f25f-5f8d-426a-e74c-5d9bb5cdee1e",
        "cellView": "form"
      },
      "execution_count": null,
      "outputs": [
        {
          "output_type": "display_data",
          "data": {
            "text/plain": [
              "<Figure size 640x480 with 1 Axes>"
            ],
            "image/png": "[encoded data removed]"
          },
          "metadata": {}
        }
      ]
    },
    {
      "cell_type": "markdown",
      "metadata": {
        "id": "0jtIuYs8pM7j"
      },
      "source": [
        "# Variando o tamanho da Cache e visualizando falhas e taxa de falhas\n",
        "\n",
        "A extensão **\\%\\%rangecachegrind** executa várias vezes com tamanhos de cache especificados pela lista **datacache=(4,8,16,32)**, em Kbytes. O usuário especifica a associatividade (**ways**) e o tamanho do linha  (**line**), os gráficos são gerados de forma automática."
      ]
    },
    {
      "cell_type": "code",
      "metadata": {
        "id": "b96CrTPcOk1k",
        "colab": {
          "base_uri": "https://localhost:8080/"
        },
        "outputId": "1f359169-46f1-4451-f6a7-a8f01df66ea0"
      },
      "source": [
        "%%rangecachegrind datacache=(8,16,32,64,128,256); ways=2; line=64; bargraph=(misses, miss_rate)\n",
        "\n",
        "#include <stdio.h>\n",
        "#include <stdlib.h>\n",
        "\n",
        "int main(int argc, char const *argv[]) {\n",
        "\n",
        "  int n = 2048;\n",
        "  int a[n][n], b[n][n], c[n][n];\n",
        "\n",
        "  for (int i = 0; i < n; ++i) {\n",
        "      for (int j = 0; j < n; ++j) {\n",
        "        a[i][j] = i + j;\n",
        "        b[i][j] = i*2 + j;\n",
        "      }\n",
        "  }\n",
        "\n",
        "  int temp;\n",
        "  for (int i = 0; i < n; ++i) {\n",
        "      for (int j = 0; j < n; ++j) {\n",
        "          temp = 0;\n",
        "          for (int k = 0; k < n; ++k) {\n",
        "              temp += a[i][k] * b[k][j];\n",
        "          }\n",
        "          c[i][j] = temp;\n",
        "      }\n",
        "  }\n",
        "  return 0;\n",
        "}"
      ],
      "execution_count": null,
      "outputs": [
        {
          "output_type": "stream",
          "name": "stdout",
          "text": [
            "\n"
          ]
        }
      ]
    },
    {
      "cell_type": "markdown",
      "source": [
        "# Parte II\n",
        "\n",
        "Executar os três códigos com rangegridcache e plotar os grafos."
      ],
      "metadata": {
        "id": "c7_J1Rrvd3MX"
      }
    },
    {
      "cell_type": "markdown",
      "source": [
        "# Parte III\n",
        "\n",
        "[escolher 4 versões de código neste repositório](https://github.com/neboat/Moore) para compilar e executar diretamente no colab, sem usar o Valgrind. Medir o tempo com **time** do SO ou alterar o código para usar **chromos**. Fazer uma tabela das 4 implementações com matrizes de três tamanhos: N=1024, N=2048 e N=4096. A Cache L3 do processador do Colab tem 56 MB. Além da tabela fazer um gráfico dos resultados (tempo de execução para cada versão em função do tamanho).\n"
      ],
      "metadata": {
        "id": "Xyc94CCImcUK"
      }
    },
    {
      "cell_type": "code",
      "source": [
        "!lscpu"
      ],
      "metadata": {
        "id": "M3nWJ5XJWwOS",
        "outputId": "4e0dbf82-74e7-4641-cc96-eb201b1fa2d4",
        "colab": {
          "base_uri": "https://localhost:8080/"
        }
      },
      "execution_count": null,
      "outputs": [
        {
          "output_type": "stream",
          "name": "stdout",
          "text": [
            "Architecture:                    x86_64\n",
            "CPU op-mode(s):                  32-bit, 64-bit\n",
            "Byte Order:                      Little Endian\n",
            "Address sizes:                   46 bits physical, 48 bits virtual\n",
            "CPU(s):                          2\n",
            "On-line CPU(s) list:             0,1\n",
            "Thread(s) per core:              2\n",
            "Core(s) per socket:              1\n",
            "Socket(s):                       1\n",
            "NUMA node(s):                    1\n",
            "Vendor ID:                       GenuineIntel\n",
            "CPU family:                      6\n",
            "Model:                           79\n",
            "Model name:                      Intel(R) Xeon(R) CPU @ 2.20GHz\n",
            "Stepping:                        0\n",
            "CPU MHz:                         2200.226\n",
            "BogoMIPS:                        4400.45\n",
            "Hypervisor vendor:               KVM\n",
            "Virtualization type:             full\n",
            "L1d cache:                       32 KiB\n",
            "L1i cache:                       32 KiB\n",
            "L2 cache:                        256 KiB\n",
            "L3 cache:                        55 MiB\n",
            "NUMA node0 CPU(s):               0,1\n",
            "Vulnerability Itlb multihit:     Not affected\n",
            "Vulnerability L1tf:              Mitigation; PTE Inversion\n",
            "Vulnerability Mds:               Vulnerable; SMT Host state unknown\n",
            "Vulnerability Meltdown:          Vulnerable\n",
            "Vulnerability Mmio stale data:   Vulnerable\n",
            "Vulnerability Retbleed:          Vulnerable\n",
            "Vulnerability Spec store bypass: Vulnerable\n",
            "Vulnerability Spectre v1:        Vulnerable: __user pointer sanitization and use\n",
            "                                 rcopy barriers only; no swapgs barriers\n",
            "Vulnerability Spectre v2:        Vulnerable, IBPB: disabled, STIBP: disabled, PB\n",
            "                                 RSB-eIBRS: Not affected\n",
            "Vulnerability Srbds:             Not affected\n",
            "Vulnerability Tsx async abort:   Vulnerable\n",
            "Flags:                           fpu vme de pse tsc msr pae mce cx8 apic sep mtr\n",
            "                                 r pge mca cmov pat pse36 clflush mmx fxsr sse s\n",
            "                                 se2 ss ht syscall nx pdpe1gb rdtscp lm constant\n",
            "                                 _tsc rep_good nopl xtopology nonstop_tsc cpuid \n",
            "                                 tsc_known_freq pni pclmulqdq ssse3 fma cx16 pci\n",
            "                                 d sse4_1 sse4_2 x2apic movbe popcnt aes xsave a\n",
            "                                 vx f16c rdrand hypervisor lahf_lm abm 3dnowpref\n",
            "                                 etch invpcid_single ssbd ibrs ibpb stibp fsgsba\n",
            "                                 se tsc_adjust bmi1 hle avx2 smep bmi2 erms invp\n",
            "                                 cid rtm rdseed adx smap xsaveopt arat md_clear \n",
            "                                 arch_capabilities\n"
          ]
        }
      ]
    },
    {
      "cell_type": "markdown",
      "source": [
        "# Questão 1 da Prova 3\n",
        "\n",
        "Abaixo sugestões de exercicios para a questão 1 da prova 3"
      ],
      "metadata": {
        "id": "AjnyZaBC1LE4"
      }
    },
    {
      "cell_type": "markdown",
      "source": [
        "## Suponha uma cache com bloco de 4 bytes e 16 posições mapeamento direto.\n",
        "\n",
        "Para o código abaixo, após 20 acessos a memória (pode ser de A, B ou C...) Qual será o conteúdo da cache. Suponha que **temp, i, j, k** sejam registradores ? Quantas falhas terão ? Suponha que a cache esteja vazia na execução do trecho.\n",
        "\n",
        "```\n",
        "  byte a[4][4], b[4][4], c[4][4];\n",
        "\n",
        "  int temp;\n",
        "  for (int i = 0; i < 4; ++i) {\n",
        "      for (int j = 0; j < 4; ++j) {\n",
        "          temp = 0;\n",
        "          for (int k = 0; k < 4; ++k) {\n",
        "              temp += a[i][k] * b[k][j];\n",
        "          }\n",
        "          c[i][j] = temp;\n",
        "      }\n",
        "  }\n",
        "```"
      ],
      "metadata": {
        "id": "KHdr9z2m1ScR"
      }
    },
    {
      "cell_type": "markdown",
      "source": [
        "## Outras  opções para questão anterior:\n",
        "\n",
        "* Cache de 32 ou 64, o que modifica ?\n",
        "* Bloco de 8 ?\n",
        "* 2-way ?\n",
        "* suponha que o acesso para matriz B seja por linha (a matriz foi transposta na memória antes de executar o código).\n",
        "\n"
      ],
      "metadata": {
        "id": "WiBP0TKQ2NLp"
      }
    },
    {
      "cell_type": "markdown",
      "source": [
        "# Pontos Extras\n",
        "\n",
        "* Fazer a analise para cache com 16 e 32 para a versão com Tile, considerando 2x2 para a execução dos 30 primeiros acessos. (2 pontos)\n",
        "* Fazer um simulador que gere os a contagem do acesso para uma cache de mapeamento direto onde o tamanho da cache, do bloco, da matriz e do tile são parametros (5 pontos)."
      ],
      "metadata": {
        "id": "x_FPtcsZ92uA"
      }
    }
  ]
}