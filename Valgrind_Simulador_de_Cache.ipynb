{
  "nbformat": 4,
  "nbformat_minor": 0,
  "metadata": {
    "colab": {
      "provenance": [],
      "toc_visible": true,
      "include_colab_link": true
    },
    "kernelspec": {
      "name": "python3",
      "display_name": "Python 3"
    },
    "widgets": {
      "application/vnd.jupyter.widget-state+json": {
        "838d215130b14b6eabf74276fffc8990": {
          "model_module": "@jupyter-widgets/controls",
          "model_name": "GridBoxModel",
          "model_module_version": "1.5.0",
          "state": {
            "_dom_classes": [],
            "_model_module": "@jupyter-widgets/controls",
            "_model_module_version": "1.5.0",
            "_model_name": "GridBoxModel",
            "_view_count": null,
            "_view_module": "@jupyter-widgets/controls",
            "_view_module_version": "1.5.0",
            "_view_name": "GridBoxView",
            "box_style": "",
            "children": [
              "IPY_MODEL_e3cb22b0c7944e94b6b76627eef86b6a",
              "IPY_MODEL_4249efa930204dfaa260ca5bb7a9a748",
              "IPY_MODEL_b76cc7c3dec24f9c95cd070491daaf19",
              "IPY_MODEL_b8631baecff841c1affe8da93d24e4d6",
              "IPY_MODEL_50e8cb1f93fe432cb962084c5fe897b1",
              "IPY_MODEL_7c54e50430c245bb896a320d7a05552f",
              "IPY_MODEL_47bc422c48e144d2aa4647adfad113e7",
              "IPY_MODEL_1533ab873e46463b9e157e8e1f153ae9"
            ],
            "layout": "IPY_MODEL_21367351078e4beda4731a955a10b3f0"
          }
        },
        "e3cb22b0c7944e94b6b76627eef86b6a": {
          "model_module": "@jupyter-widgets/controls",
          "model_name": "ButtonModel",
          "model_module_version": "1.5.0",
          "state": {
            "_dom_classes": [],
            "_model_module": "@jupyter-widgets/controls",
            "_model_module_version": "1.5.0",
            "_model_name": "ButtonModel",
            "_view_count": null,
            "_view_module": "@jupyter-widgets/controls",
            "_view_module_version": "1.5.0",
            "_view_name": "ButtonView",
            "button_style": "warning",
            "description": "Data Cache",
            "disabled": false,
            "icon": "",
            "layout": "IPY_MODEL_5e8540cce4c64ed09a34c22fe3fd4a02",
            "style": "IPY_MODEL_0fecf8cb8fa4430d87a01a4c5a020717",
            "tooltip": ""
          }
        },
        "4249efa930204dfaa260ca5bb7a9a748": {
          "model_module": "@jupyter-widgets/controls",
          "model_name": "ButtonModel",
          "model_module_version": "1.5.0",
          "state": {
            "_dom_classes": [],
            "_model_module": "@jupyter-widgets/controls",
            "_model_module_version": "1.5.0",
            "_model_name": "ButtonModel",
            "_view_count": null,
            "_view_module": "@jupyter-widgets/controls",
            "_view_module_version": "1.5.0",
            "_view_name": "ButtonView",
            "button_style": "warning",
            "description": "Size (kB)",
            "disabled": false,
            "icon": "",
            "layout": "IPY_MODEL_2233245997cf48849e7c9088734907c8",
            "style": "IPY_MODEL_b44a1944805f4107b20324bc8cada603",
            "tooltip": ""
          }
        },
        "b76cc7c3dec24f9c95cd070491daaf19": {
          "model_module": "@jupyter-widgets/controls",
          "model_name": "DropdownModel",
          "model_module_version": "1.5.0",
          "state": {
            "_dom_classes": [],
            "_model_module": "@jupyter-widgets/controls",
            "_model_module_version": "1.5.0",
            "_model_name": "DropdownModel",
            "_options_labels": [
              "1",
              "2",
              "4",
              "8",
              "16"
            ],
            "_view_count": null,
            "_view_module": "@jupyter-widgets/controls",
            "_view_module_version": "1.5.0",
            "_view_name": "DropdownView",
            "description": "",
            "description_tooltip": null,
            "disabled": false,
            "index": 0,
            "layout": "IPY_MODEL_dbb4306d81ef4c91bbb0655a1ea8d2d8",
            "style": "IPY_MODEL_02a5ea6619714df6b719e84eae03efe0"
          }
        },
        "b8631baecff841c1affe8da93d24e4d6": {
          "model_module": "@jupyter-widgets/controls",
          "model_name": "ButtonModel",
          "model_module_version": "1.5.0",
          "state": {
            "_dom_classes": [],
            "_model_module": "@jupyter-widgets/controls",
            "_model_module_version": "1.5.0",
            "_model_name": "ButtonModel",
            "_view_count": null,
            "_view_module": "@jupyter-widgets/controls",
            "_view_module_version": "1.5.0",
            "_view_name": "ButtonView",
            "button_style": "warning",
            "description": "Associative",
            "disabled": false,
            "icon": "",
            "layout": "IPY_MODEL_ddb96b0ab4294bc0a95a1eacd4e2176a",
            "style": "IPY_MODEL_f90226e5fe394f4c85c0d9b8233a212d",
            "tooltip": ""
          }
        },
        "50e8cb1f93fe432cb962084c5fe897b1": {
          "model_module": "@jupyter-widgets/controls",
          "model_name": "DropdownModel",
          "model_module_version": "1.5.0",
          "state": {
            "_dom_classes": [],
            "_model_module": "@jupyter-widgets/controls",
            "_model_module_version": "1.5.0",
            "_model_name": "DropdownModel",
            "_options_labels": [
              "1",
              "2",
              "4",
              "8",
              "16",
              "32"
            ],
            "_view_count": null,
            "_view_module": "@jupyter-widgets/controls",
            "_view_module_version": "1.5.0",
            "_view_name": "DropdownView",
            "description": "",
            "description_tooltip": null,
            "disabled": false,
            "index": 0,
            "layout": "IPY_MODEL_7fb9d4e2681c431995da4e0a101e4ff1",
            "style": "IPY_MODEL_41d9152845f04dd1adb80d5a0379cf0a"
          }
        },
        "7c54e50430c245bb896a320d7a05552f": {
          "model_module": "@jupyter-widgets/controls",
          "model_name": "ButtonModel",
          "model_module_version": "1.5.0",
          "state": {
            "_dom_classes": [],
            "_model_module": "@jupyter-widgets/controls",
            "_model_module_version": "1.5.0",
            "_model_name": "ButtonModel",
            "_view_count": null,
            "_view_module": "@jupyter-widgets/controls",
            "_view_module_version": "1.5.0",
            "_view_name": "ButtonView",
            "button_style": "warning",
            "description": "Line (Bytes)",
            "disabled": false,
            "icon": "",
            "layout": "IPY_MODEL_2ccb17534bf94bfab4b7e9e29b7cb95b",
            "style": "IPY_MODEL_ef3e543071ca4b79ac35fb59149f3815",
            "tooltip": ""
          }
        },
        "47bc422c48e144d2aa4647adfad113e7": {
          "model_module": "@jupyter-widgets/controls",
          "model_name": "DropdownModel",
          "model_module_version": "1.5.0",
          "state": {
            "_dom_classes": [],
            "_model_module": "@jupyter-widgets/controls",
            "_model_module_version": "1.5.0",
            "_model_name": "DropdownModel",
            "_options_labels": [
              "32",
              "64",
              "128"
            ],
            "_view_count": null,
            "_view_module": "@jupyter-widgets/controls",
            "_view_module_version": "1.5.0",
            "_view_name": "DropdownView",
            "description": "",
            "description_tooltip": null,
            "disabled": false,
            "index": 0,
            "layout": "IPY_MODEL_fb77a686bfa342129687b528ffd90ec5",
            "style": "IPY_MODEL_922077b9c4dd45e981d2ee631571ef3c"
          }
        },
        "1533ab873e46463b9e157e8e1f153ae9": {
          "model_module": "@jupyter-widgets/controls",
          "model_name": "ButtonModel",
          "model_module_version": "1.5.0",
          "state": {
            "_dom_classes": [],
            "_model_module": "@jupyter-widgets/controls",
            "_model_module_version": "1.5.0",
            "_model_name": "ButtonModel",
            "_view_count": null,
            "_view_module": "@jupyter-widgets/controls",
            "_view_module_version": "1.5.0",
            "_view_name": "ButtonView",
            "button_style": "success",
            "description": "Start execution",
            "disabled": false,
            "icon": "",
            "layout": "IPY_MODEL_8aa8370e1f8040cea182c55a8aa483e9",
            "style": "IPY_MODEL_a0ae569f1f634de8a9048c83fc7f654d",
            "tooltip": ""
          }
        },
        "21367351078e4beda4731a955a10b3f0": {
          "model_module": "@jupyter-widgets/base",
          "model_name": "LayoutModel",
          "model_module_version": "1.2.0",
          "state": {
            "_model_module": "@jupyter-widgets/base",
            "_model_module_version": "1.2.0",
            "_model_name": "LayoutModel",
            "_view_count": null,
            "_view_module": "@jupyter-widgets/base",
            "_view_module_version": "1.2.0",
            "_view_name": "LayoutView",
            "align_content": null,
            "align_items": null,
            "align_self": null,
            "border": null,
            "bottom": null,
            "display": null,
            "flex": null,
            "flex_flow": null,
            "grid_area": null,
            "grid_auto_columns": null,
            "grid_auto_flow": null,
            "grid_auto_rows": null,
            "grid_column": null,
            "grid_gap": null,
            "grid_row": null,
            "grid_template_areas": "\"widget001 . . . . . . . . .\"\n\"widget002 widget003 . . . . . . . .\"\n\"widget004 widget005 . . . . . . . .\"\n\"widget006 widget007 . . . . . . . .\"\n\"widget008 . . . . . . . . .\"",
            "grid_template_columns": "repeat(10, 1fr)",
            "grid_template_rows": "repeat(5, 1fr)",
            "height": null,
            "justify_content": null,
            "justify_items": null,
            "left": null,
            "margin": null,
            "max_height": null,
            "max_width": null,
            "min_height": null,
            "min_width": null,
            "object_fit": null,
            "object_position": null,
            "order": null,
            "overflow": null,
            "overflow_x": null,
            "overflow_y": null,
            "padding": null,
            "right": null,
            "top": null,
            "visibility": null,
            "width": null
          }
        },
        "5e8540cce4c64ed09a34c22fe3fd4a02": {
          "model_module": "@jupyter-widgets/base",
          "model_name": "LayoutModel",
          "model_module_version": "1.2.0",
          "state": {
            "_model_module": "@jupyter-widgets/base",
            "_model_module_version": "1.2.0",
            "_model_name": "LayoutModel",
            "_view_count": null,
            "_view_module": "@jupyter-widgets/base",
            "_view_module_version": "1.2.0",
            "_view_name": "LayoutView",
            "align_content": null,
            "align_items": null,
            "align_self": null,
            "border": null,
            "bottom": null,
            "display": null,
            "flex": null,
            "flex_flow": null,
            "grid_area": "widget001",
            "grid_auto_columns": null,
            "grid_auto_flow": null,
            "grid_auto_rows": null,
            "grid_column": null,
            "grid_gap": null,
            "grid_row": null,
            "grid_template_areas": null,
            "grid_template_columns": null,
            "grid_template_rows": null,
            "height": "auto",
            "justify_content": null,
            "justify_items": null,
            "left": null,
            "margin": null,
            "max_height": null,
            "max_width": null,
            "min_height": null,
            "min_width": null,
            "object_fit": null,
            "object_position": null,
            "order": null,
            "overflow": null,
            "overflow_x": null,
            "overflow_y": null,
            "padding": null,
            "right": null,
            "top": null,
            "visibility": null,
            "width": "auto"
          }
        },
        "0fecf8cb8fa4430d87a01a4c5a020717": {
          "model_module": "@jupyter-widgets/controls",
          "model_name": "ButtonStyleModel",
          "model_module_version": "1.5.0",
          "state": {
            "_model_module": "@jupyter-widgets/controls",
            "_model_module_version": "1.5.0",
            "_model_name": "ButtonStyleModel",
            "_view_count": null,
            "_view_module": "@jupyter-widgets/base",
            "_view_module_version": "1.2.0",
            "_view_name": "StyleView",
            "button_color": null,
            "font_weight": ""
          }
        },
        "2233245997cf48849e7c9088734907c8": {
          "model_module": "@jupyter-widgets/base",
          "model_name": "LayoutModel",
          "model_module_version": "1.2.0",
          "state": {
            "_model_module": "@jupyter-widgets/base",
            "_model_module_version": "1.2.0",
            "_model_name": "LayoutModel",
            "_view_count": null,
            "_view_module": "@jupyter-widgets/base",
            "_view_module_version": "1.2.0",
            "_view_name": "LayoutView",
            "align_content": null,
            "align_items": null,
            "align_self": null,
            "border": null,
            "bottom": null,
            "display": null,
            "flex": null,
            "flex_flow": null,
            "grid_area": "widget002",
            "grid_auto_columns": null,
            "grid_auto_flow": null,
            "grid_auto_rows": null,
            "grid_column": null,
            "grid_gap": null,
            "grid_row": null,
            "grid_template_areas": null,
            "grid_template_columns": null,
            "grid_template_rows": null,
            "height": "auto",
            "justify_content": null,
            "justify_items": null,
            "left": null,
            "margin": null,
            "max_height": null,
            "max_width": null,
            "min_height": null,
            "min_width": null,
            "object_fit": null,
            "object_position": null,
            "order": null,
            "overflow": null,
            "overflow_x": null,
            "overflow_y": null,
            "padding": null,
            "right": null,
            "top": null,
            "visibility": null,
            "width": "auto"
          }
        },
        "b44a1944805f4107b20324bc8cada603": {
          "model_module": "@jupyter-widgets/controls",
          "model_name": "ButtonStyleModel",
          "model_module_version": "1.5.0",
          "state": {
            "_model_module": "@jupyter-widgets/controls",
            "_model_module_version": "1.5.0",
            "_model_name": "ButtonStyleModel",
            "_view_count": null,
            "_view_module": "@jupyter-widgets/base",
            "_view_module_version": "1.2.0",
            "_view_name": "StyleView",
            "button_color": null,
            "font_weight": ""
          }
        },
        "dbb4306d81ef4c91bbb0655a1ea8d2d8": {
          "model_module": "@jupyter-widgets/base",
          "model_name": "LayoutModel",
          "model_module_version": "1.2.0",
          "state": {
            "_model_module": "@jupyter-widgets/base",
            "_model_module_version": "1.2.0",
            "_model_name": "LayoutModel",
            "_view_count": null,
            "_view_module": "@jupyter-widgets/base",
            "_view_module_version": "1.2.0",
            "_view_name": "LayoutView",
            "align_content": null,
            "align_items": null,
            "align_self": null,
            "border": null,
            "bottom": null,
            "display": null,
            "flex": null,
            "flex_flow": null,
            "grid_area": "widget003",
            "grid_auto_columns": null,
            "grid_auto_flow": null,
            "grid_auto_rows": null,
            "grid_column": null,
            "grid_gap": null,
            "grid_row": null,
            "grid_template_areas": null,
            "grid_template_columns": null,
            "grid_template_rows": null,
            "height": "30px",
            "justify_content": null,
            "justify_items": null,
            "left": null,
            "margin": null,
            "max_height": null,
            "max_width": null,
            "min_height": null,
            "min_width": null,
            "object_fit": null,
            "object_position": null,
            "order": null,
            "overflow": null,
            "overflow_x": null,
            "overflow_y": null,
            "padding": null,
            "right": null,
            "top": null,
            "visibility": null,
            "width": "auto"
          }
        },
        "02a5ea6619714df6b719e84eae03efe0": {
          "model_module": "@jupyter-widgets/controls",
          "model_name": "DescriptionStyleModel",
          "model_module_version": "1.5.0",
          "state": {
            "_model_module": "@jupyter-widgets/controls",
            "_model_module_version": "1.5.0",
            "_model_name": "DescriptionStyleModel",
            "_view_count": null,
            "_view_module": "@jupyter-widgets/base",
            "_view_module_version": "1.2.0",
            "_view_name": "StyleView",
            "description_width": ""
          }
        },
        "ddb96b0ab4294bc0a95a1eacd4e2176a": {
          "model_module": "@jupyter-widgets/base",
          "model_name": "LayoutModel",
          "model_module_version": "1.2.0",
          "state": {
            "_model_module": "@jupyter-widgets/base",
            "_model_module_version": "1.2.0",
            "_model_name": "LayoutModel",
            "_view_count": null,
            "_view_module": "@jupyter-widgets/base",
            "_view_module_version": "1.2.0",
            "_view_name": "LayoutView",
            "align_content": null,
            "align_items": null,
            "align_self": null,
            "border": null,
            "bottom": null,
            "display": null,
            "flex": null,
            "flex_flow": null,
            "grid_area": "widget004",
            "grid_auto_columns": null,
            "grid_auto_flow": null,
            "grid_auto_rows": null,
            "grid_column": null,
            "grid_gap": null,
            "grid_row": null,
            "grid_template_areas": null,
            "grid_template_columns": null,
            "grid_template_rows": null,
            "height": "auto",
            "justify_content": null,
            "justify_items": null,
            "left": null,
            "margin": null,
            "max_height": null,
            "max_width": null,
            "min_height": null,
            "min_width": null,
            "object_fit": null,
            "object_position": null,
            "order": null,
            "overflow": null,
            "overflow_x": null,
            "overflow_y": null,
            "padding": null,
            "right": null,
            "top": null,
            "visibility": null,
            "width": "auto"
          }
        },
        "f90226e5fe394f4c85c0d9b8233a212d": {
          "model_module": "@jupyter-widgets/controls",
          "model_name": "ButtonStyleModel",
          "model_module_version": "1.5.0",
          "state": {
            "_model_module": "@jupyter-widgets/controls",
            "_model_module_version": "1.5.0",
            "_model_name": "ButtonStyleModel",
            "_view_count": null,
            "_view_module": "@jupyter-widgets/base",
            "_view_module_version": "1.2.0",
            "_view_name": "StyleView",
            "button_color": null,
            "font_weight": ""
          }
        },
        "7fb9d4e2681c431995da4e0a101e4ff1": {
          "model_module": "@jupyter-widgets/base",
          "model_name": "LayoutModel",
          "model_module_version": "1.2.0",
          "state": {
            "_model_module": "@jupyter-widgets/base",
            "_model_module_version": "1.2.0",
            "_model_name": "LayoutModel",
            "_view_count": null,
            "_view_module": "@jupyter-widgets/base",
            "_view_module_version": "1.2.0",
            "_view_name": "LayoutView",
            "align_content": null,
            "align_items": null,
            "align_self": null,
            "border": null,
            "bottom": null,
            "display": null,
            "flex": null,
            "flex_flow": null,
            "grid_area": "widget005",
            "grid_auto_columns": null,
            "grid_auto_flow": null,
            "grid_auto_rows": null,
            "grid_column": null,
            "grid_gap": null,
            "grid_row": null,
            "grid_template_areas": null,
            "grid_template_columns": null,
            "grid_template_rows": null,
            "height": "30px",
            "justify_content": null,
            "justify_items": null,
            "left": null,
            "margin": null,
            "max_height": null,
            "max_width": null,
            "min_height": null,
            "min_width": null,
            "object_fit": null,
            "object_position": null,
            "order": null,
            "overflow": null,
            "overflow_x": null,
            "overflow_y": null,
            "padding": null,
            "right": null,
            "top": null,
            "visibility": null,
            "width": "auto"
          }
        },
        "41d9152845f04dd1adb80d5a0379cf0a": {
          "model_module": "@jupyter-widgets/controls",
          "model_name": "DescriptionStyleModel",
          "model_module_version": "1.5.0",
          "state": {
            "_model_module": "@jupyter-widgets/controls",
            "_model_module_version": "1.5.0",
            "_model_name": "DescriptionStyleModel",
            "_view_count": null,
            "_view_module": "@jupyter-widgets/base",
            "_view_module_version": "1.2.0",
            "_view_name": "StyleView",
            "description_width": ""
          }
        },
        "2ccb17534bf94bfab4b7e9e29b7cb95b": {
          "model_module": "@jupyter-widgets/base",
          "model_name": "LayoutModel",
          "model_module_version": "1.2.0",
          "state": {
            "_model_module": "@jupyter-widgets/base",
            "_model_module_version": "1.2.0",
            "_model_name": "LayoutModel",
            "_view_count": null,
            "_view_module": "@jupyter-widgets/base",
            "_view_module_version": "1.2.0",
            "_view_name": "LayoutView",
            "align_content": null,
            "align_items": null,
            "align_self": null,
            "border": null,
            "bottom": null,
            "display": null,
            "flex": null,
            "flex_flow": null,
            "grid_area": "widget006",
            "grid_auto_columns": null,
            "grid_auto_flow": null,
            "grid_auto_rows": null,
            "grid_column": null,
            "grid_gap": null,
            "grid_row": null,
            "grid_template_areas": null,
            "grid_template_columns": null,
            "grid_template_rows": null,
            "height": "auto",
            "justify_content": null,
            "justify_items": null,
            "left": null,
            "margin": null,
            "max_height": null,
            "max_width": null,
            "min_height": null,
            "min_width": null,
            "object_fit": null,
            "object_position": null,
            "order": null,
            "overflow": null,
            "overflow_x": null,
            "overflow_y": null,
            "padding": null,
            "right": null,
            "top": null,
            "visibility": null,
            "width": "auto"
          }
        },
        "ef3e543071ca4b79ac35fb59149f3815": {
          "model_module": "@jupyter-widgets/controls",
          "model_name": "ButtonStyleModel",
          "model_module_version": "1.5.0",
          "state": {
            "_model_module": "@jupyter-widgets/controls",
            "_model_module_version": "1.5.0",
            "_model_name": "ButtonStyleModel",
            "_view_count": null,
            "_view_module": "@jupyter-widgets/base",
            "_view_module_version": "1.2.0",
            "_view_name": "StyleView",
            "button_color": null,
            "font_weight": ""
          }
        },
        "fb77a686bfa342129687b528ffd90ec5": {
          "model_module": "@jupyter-widgets/base",
          "model_name": "LayoutModel",
          "model_module_version": "1.2.0",
          "state": {
            "_model_module": "@jupyter-widgets/base",
            "_model_module_version": "1.2.0",
            "_model_name": "LayoutModel",
            "_view_count": null,
            "_view_module": "@jupyter-widgets/base",
            "_view_module_version": "1.2.0",
            "_view_name": "LayoutView",
            "align_content": null,
            "align_items": null,
            "align_self": null,
            "border": null,
            "bottom": null,
            "display": null,
            "flex": null,
            "flex_flow": null,
            "grid_area": "widget007",
            "grid_auto_columns": null,
            "grid_auto_flow": null,
            "grid_auto_rows": null,
            "grid_column": null,
            "grid_gap": null,
            "grid_row": null,
            "grid_template_areas": null,
            "grid_template_columns": null,
            "grid_template_rows": null,
            "height": "30px",
            "justify_content": null,
            "justify_items": null,
            "left": null,
            "margin": null,
            "max_height": null,
            "max_width": null,
            "min_height": null,
            "min_width": null,
            "object_fit": null,
            "object_position": null,
            "order": null,
            "overflow": null,
            "overflow_x": null,
            "overflow_y": null,
            "padding": null,
            "right": null,
            "top": null,
            "visibility": null,
            "width": "auto"
          }
        },
        "922077b9c4dd45e981d2ee631571ef3c": {
          "model_module": "@jupyter-widgets/controls",
          "model_name": "DescriptionStyleModel",
          "model_module_version": "1.5.0",
          "state": {
            "_model_module": "@jupyter-widgets/controls",
            "_model_module_version": "1.5.0",
            "_model_name": "DescriptionStyleModel",
            "_view_count": null,
            "_view_module": "@jupyter-widgets/base",
            "_view_module_version": "1.2.0",
            "_view_name": "StyleView",
            "description_width": ""
          }
        },
        "8aa8370e1f8040cea182c55a8aa483e9": {
          "model_module": "@jupyter-widgets/base",
          "model_name": "LayoutModel",
          "model_module_version": "1.2.0",
          "state": {
            "_model_module": "@jupyter-widgets/base",
            "_model_module_version": "1.2.0",
            "_model_name": "LayoutModel",
            "_view_count": null,
            "_view_module": "@jupyter-widgets/base",
            "_view_module_version": "1.2.0",
            "_view_name": "LayoutView",
            "align_content": null,
            "align_items": null,
            "align_self": null,
            "border": null,
            "bottom": null,
            "display": null,
            "flex": null,
            "flex_flow": null,
            "grid_area": "widget008",
            "grid_auto_columns": null,
            "grid_auto_flow": null,
            "grid_auto_rows": null,
            "grid_column": null,
            "grid_gap": null,
            "grid_row": null,
            "grid_template_areas": null,
            "grid_template_columns": null,
            "grid_template_rows": null,
            "height": "auto",
            "justify_content": null,
            "justify_items": null,
            "left": null,
            "margin": null,
            "max_height": null,
            "max_width": null,
            "min_height": null,
            "min_width": null,
            "object_fit": null,
            "object_position": null,
            "order": null,
            "overflow": null,
            "overflow_x": null,
            "overflow_y": null,
            "padding": null,
            "right": null,
            "top": null,
            "visibility": null,
            "width": "auto"
          }
        },
        "a0ae569f1f634de8a9048c83fc7f654d": {
          "model_module": "@jupyter-widgets/controls",
          "model_name": "ButtonStyleModel",
          "model_module_version": "1.5.0",
          "state": {
            "_model_module": "@jupyter-widgets/controls",
            "_model_module_version": "1.5.0",
            "_model_name": "ButtonStyleModel",
            "_view_count": null,
            "_view_module": "@jupyter-widgets/base",
            "_view_module_version": "1.2.0",
            "_view_name": "StyleView",
            "button_color": null,
            "font_weight": ""
          }
        },
        "2fe7b9490cc54508b1b0b420a99e692c": {
          "model_module": "@jupyter-widgets/controls",
          "model_name": "GridBoxModel",
          "model_module_version": "1.5.0",
          "state": {
            "_dom_classes": [],
            "_model_module": "@jupyter-widgets/controls",
            "_model_module_version": "1.5.0",
            "_model_name": "GridBoxModel",
            "_view_count": null,
            "_view_module": "@jupyter-widgets/controls",
            "_view_module_version": "1.5.0",
            "_view_name": "GridBoxView",
            "box_style": "",
            "children": [
              "IPY_MODEL_e8f5b68a4ce74285a8cca58f5188b763",
              "IPY_MODEL_27d2351749f841388d2a96669c6c6bee",
              "IPY_MODEL_56bf963e42e845d89e320d3c9ead732c",
              "IPY_MODEL_36ed7bb071a046ac97b5e7f94ee92687",
              "IPY_MODEL_d578c1e303b84f09b32269e31236ac57",
              "IPY_MODEL_7e99047acfda4440a3780715db7633c9",
              "IPY_MODEL_e84cf7961e8a4037ad453b6058862707",
              "IPY_MODEL_37275a1da459429dad89e19569afbb3d"
            ],
            "layout": "IPY_MODEL_a0a01ed1d6f1446e97bdada0d7b7d6a6"
          }
        },
        "e8f5b68a4ce74285a8cca58f5188b763": {
          "model_module": "@jupyter-widgets/controls",
          "model_name": "ButtonModel",
          "model_module_version": "1.5.0",
          "state": {
            "_dom_classes": [],
            "_model_module": "@jupyter-widgets/controls",
            "_model_module_version": "1.5.0",
            "_model_name": "ButtonModel",
            "_view_count": null,
            "_view_module": "@jupyter-widgets/controls",
            "_view_module_version": "1.5.0",
            "_view_name": "ButtonView",
            "button_style": "warning",
            "description": "Data Cache",
            "disabled": false,
            "icon": "",
            "layout": "IPY_MODEL_6a7c588af2fd40ee93b5a4e2367c9377",
            "style": "IPY_MODEL_6ec4e1ef45eb45a591218d5cc6a024dc",
            "tooltip": ""
          }
        },
        "27d2351749f841388d2a96669c6c6bee": {
          "model_module": "@jupyter-widgets/controls",
          "model_name": "ButtonModel",
          "model_module_version": "1.5.0",
          "state": {
            "_dom_classes": [],
            "_model_module": "@jupyter-widgets/controls",
            "_model_module_version": "1.5.0",
            "_model_name": "ButtonModel",
            "_view_count": null,
            "_view_module": "@jupyter-widgets/controls",
            "_view_module_version": "1.5.0",
            "_view_name": "ButtonView",
            "button_style": "warning",
            "description": "Size (kB)",
            "disabled": false,
            "icon": "",
            "layout": "IPY_MODEL_d18f56a682674a32b422047f9d04c5a1",
            "style": "IPY_MODEL_a75561c862714960b2a19c6db151b50f",
            "tooltip": ""
          }
        },
        "56bf963e42e845d89e320d3c9ead732c": {
          "model_module": "@jupyter-widgets/controls",
          "model_name": "DropdownModel",
          "model_module_version": "1.5.0",
          "state": {
            "_dom_classes": [],
            "_model_module": "@jupyter-widgets/controls",
            "_model_module_version": "1.5.0",
            "_model_name": "DropdownModel",
            "_options_labels": [
              "1",
              "2",
              "4",
              "8",
              "16"
            ],
            "_view_count": null,
            "_view_module": "@jupyter-widgets/controls",
            "_view_module_version": "1.5.0",
            "_view_name": "DropdownView",
            "description": "",
            "description_tooltip": null,
            "disabled": false,
            "index": 0,
            "layout": "IPY_MODEL_1fb5da5150104b768ba0030c8dfcf3fc",
            "style": "IPY_MODEL_ca0cd95bd59d4899babfc576529356ad"
          }
        },
        "36ed7bb071a046ac97b5e7f94ee92687": {
          "model_module": "@jupyter-widgets/controls",
          "model_name": "ButtonModel",
          "model_module_version": "1.5.0",
          "state": {
            "_dom_classes": [],
            "_model_module": "@jupyter-widgets/controls",
            "_model_module_version": "1.5.0",
            "_model_name": "ButtonModel",
            "_view_count": null,
            "_view_module": "@jupyter-widgets/controls",
            "_view_module_version": "1.5.0",
            "_view_name": "ButtonView",
            "button_style": "warning",
            "description": "Associative",
            "disabled": false,
            "icon": "",
            "layout": "IPY_MODEL_5c722ae7ceed499482da1409f5f064f9",
            "style": "IPY_MODEL_fd7705d844f54ba0bb087ab97c08f0f8",
            "tooltip": ""
          }
        },
        "d578c1e303b84f09b32269e31236ac57": {
          "model_module": "@jupyter-widgets/controls",
          "model_name": "DropdownModel",
          "model_module_version": "1.5.0",
          "state": {
            "_dom_classes": [],
            "_model_module": "@jupyter-widgets/controls",
            "_model_module_version": "1.5.0",
            "_model_name": "DropdownModel",
            "_options_labels": [
              "1",
              "2",
              "4",
              "8",
              "16",
              "32"
            ],
            "_view_count": null,
            "_view_module": "@jupyter-widgets/controls",
            "_view_module_version": "1.5.0",
            "_view_name": "DropdownView",
            "description": "",
            "description_tooltip": null,
            "disabled": false,
            "index": 0,
            "layout": "IPY_MODEL_67c90960ee094a4887bc4b4d07fae125",
            "style": "IPY_MODEL_49e5853628b24dcd9de457ea8252f85b"
          }
        },
        "7e99047acfda4440a3780715db7633c9": {
          "model_module": "@jupyter-widgets/controls",
          "model_name": "ButtonModel",
          "model_module_version": "1.5.0",
          "state": {
            "_dom_classes": [],
            "_model_module": "@jupyter-widgets/controls",
            "_model_module_version": "1.5.0",
            "_model_name": "ButtonModel",
            "_view_count": null,
            "_view_module": "@jupyter-widgets/controls",
            "_view_module_version": "1.5.0",
            "_view_name": "ButtonView",
            "button_style": "warning",
            "description": "Line (Bytes)",
            "disabled": false,
            "icon": "",
            "layout": "IPY_MODEL_595c3bdf6d624c1e81fdb915799cf6ed",
            "style": "IPY_MODEL_e55cbd59b32c4265ab82c8c54be92267",
            "tooltip": ""
          }
        },
        "e84cf7961e8a4037ad453b6058862707": {
          "model_module": "@jupyter-widgets/controls",
          "model_name": "DropdownModel",
          "model_module_version": "1.5.0",
          "state": {
            "_dom_classes": [],
            "_model_module": "@jupyter-widgets/controls",
            "_model_module_version": "1.5.0",
            "_model_name": "DropdownModel",
            "_options_labels": [
              "32",
              "64",
              "128"
            ],
            "_view_count": null,
            "_view_module": "@jupyter-widgets/controls",
            "_view_module_version": "1.5.0",
            "_view_name": "DropdownView",
            "description": "",
            "description_tooltip": null,
            "disabled": false,
            "index": 0,
            "layout": "IPY_MODEL_2cb3c8c262644576835cd7a1a55d962e",
            "style": "IPY_MODEL_4ff1924b158e4190ac574b6e58f9db3b"
          }
        },
        "37275a1da459429dad89e19569afbb3d": {
          "model_module": "@jupyter-widgets/controls",
          "model_name": "ButtonModel",
          "model_module_version": "1.5.0",
          "state": {
            "_dom_classes": [],
            "_model_module": "@jupyter-widgets/controls",
            "_model_module_version": "1.5.0",
            "_model_name": "ButtonModel",
            "_view_count": null,
            "_view_module": "@jupyter-widgets/controls",
            "_view_module_version": "1.5.0",
            "_view_name": "ButtonView",
            "button_style": "success",
            "description": "Start execution",
            "disabled": false,
            "icon": "",
            "layout": "IPY_MODEL_db2ca6081c594fe29bd31673a40d94e5",
            "style": "IPY_MODEL_31ac6c350c39473793358b8250969573",
            "tooltip": ""
          }
        },
        "a0a01ed1d6f1446e97bdada0d7b7d6a6": {
          "model_module": "@jupyter-widgets/base",
          "model_name": "LayoutModel",
          "model_module_version": "1.2.0",
          "state": {
            "_model_module": "@jupyter-widgets/base",
            "_model_module_version": "1.2.0",
            "_model_name": "LayoutModel",
            "_view_count": null,
            "_view_module": "@jupyter-widgets/base",
            "_view_module_version": "1.2.0",
            "_view_name": "LayoutView",
            "align_content": null,
            "align_items": null,
            "align_self": null,
            "border": null,
            "bottom": null,
            "display": null,
            "flex": null,
            "flex_flow": null,
            "grid_area": null,
            "grid_auto_columns": null,
            "grid_auto_flow": null,
            "grid_auto_rows": null,
            "grid_column": null,
            "grid_gap": null,
            "grid_row": null,
            "grid_template_areas": "\"widget001 . . . . . . . . .\"\n\"widget002 widget003 . . . . . . . .\"\n\"widget004 widget005 . . . . . . . .\"\n\"widget006 widget007 . . . . . . . .\"\n\"widget008 . . . . . . . . .\"",
            "grid_template_columns": "repeat(10, 1fr)",
            "grid_template_rows": "repeat(5, 1fr)",
            "height": null,
            "justify_content": null,
            "justify_items": null,
            "left": null,
            "margin": null,
            "max_height": null,
            "max_width": null,
            "min_height": null,
            "min_width": null,
            "object_fit": null,
            "object_position": null,
            "order": null,
            "overflow": null,
            "overflow_x": null,
            "overflow_y": null,
            "padding": null,
            "right": null,
            "top": null,
            "visibility": null,
            "width": null
          }
        },
        "6a7c588af2fd40ee93b5a4e2367c9377": {
          "model_module": "@jupyter-widgets/base",
          "model_name": "LayoutModel",
          "model_module_version": "1.2.0",
          "state": {
            "_model_module": "@jupyter-widgets/base",
            "_model_module_version": "1.2.0",
            "_model_name": "LayoutModel",
            "_view_count": null,
            "_view_module": "@jupyter-widgets/base",
            "_view_module_version": "1.2.0",
            "_view_name": "LayoutView",
            "align_content": null,
            "align_items": null,
            "align_self": null,
            "border": null,
            "bottom": null,
            "display": null,
            "flex": null,
            "flex_flow": null,
            "grid_area": "widget001",
            "grid_auto_columns": null,
            "grid_auto_flow": null,
            "grid_auto_rows": null,
            "grid_column": null,
            "grid_gap": null,
            "grid_row": null,
            "grid_template_areas": null,
            "grid_template_columns": null,
            "grid_template_rows": null,
            "height": "auto",
            "justify_content": null,
            "justify_items": null,
            "left": null,
            "margin": null,
            "max_height": null,
            "max_width": null,
            "min_height": null,
            "min_width": null,
            "object_fit": null,
            "object_position": null,
            "order": null,
            "overflow": null,
            "overflow_x": null,
            "overflow_y": null,
            "padding": null,
            "right": null,
            "top": null,
            "visibility": null,
            "width": "auto"
          }
        },
        "6ec4e1ef45eb45a591218d5cc6a024dc": {
          "model_module": "@jupyter-widgets/controls",
          "model_name": "ButtonStyleModel",
          "model_module_version": "1.5.0",
          "state": {
            "_model_module": "@jupyter-widgets/controls",
            "_model_module_version": "1.5.0",
            "_model_name": "ButtonStyleModel",
            "_view_count": null,
            "_view_module": "@jupyter-widgets/base",
            "_view_module_version": "1.2.0",
            "_view_name": "StyleView",
            "button_color": null,
            "font_weight": ""
          }
        },
        "d18f56a682674a32b422047f9d04c5a1": {
          "model_module": "@jupyter-widgets/base",
          "model_name": "LayoutModel",
          "model_module_version": "1.2.0",
          "state": {
            "_model_module": "@jupyter-widgets/base",
            "_model_module_version": "1.2.0",
            "_model_name": "LayoutModel",
            "_view_count": null,
            "_view_module": "@jupyter-widgets/base",
            "_view_module_version": "1.2.0",
            "_view_name": "LayoutView",
            "align_content": null,
            "align_items": null,
            "align_self": null,
            "border": null,
            "bottom": null,
            "display": null,
            "flex": null,
            "flex_flow": null,
            "grid_area": "widget002",
            "grid_auto_columns": null,
            "grid_auto_flow": null,
            "grid_auto_rows": null,
            "grid_column": null,
            "grid_gap": null,
            "grid_row": null,
            "grid_template_areas": null,
            "grid_template_columns": null,
            "grid_template_rows": null,
            "height": "auto",
            "justify_content": null,
            "justify_items": null,
            "left": null,
            "margin": null,
            "max_height": null,
            "max_width": null,
            "min_height": null,
            "min_width": null,
            "object_fit": null,
            "object_position": null,
            "order": null,
            "overflow": null,
            "overflow_x": null,
            "overflow_y": null,
            "padding": null,
            "right": null,
            "top": null,
            "visibility": null,
            "width": "auto"
          }
        },
        "a75561c862714960b2a19c6db151b50f": {
          "model_module": "@jupyter-widgets/controls",
          "model_name": "ButtonStyleModel",
          "model_module_version": "1.5.0",
          "state": {
            "_model_module": "@jupyter-widgets/controls",
            "_model_module_version": "1.5.0",
            "_model_name": "ButtonStyleModel",
            "_view_count": null,
            "_view_module": "@jupyter-widgets/base",
            "_view_module_version": "1.2.0",
            "_view_name": "StyleView",
            "button_color": null,
            "font_weight": ""
          }
        },
        "1fb5da5150104b768ba0030c8dfcf3fc": {
          "model_module": "@jupyter-widgets/base",
          "model_name": "LayoutModel",
          "model_module_version": "1.2.0",
          "state": {
            "_model_module": "@jupyter-widgets/base",
            "_model_module_version": "1.2.0",
            "_model_name": "LayoutModel",
            "_view_count": null,
            "_view_module": "@jupyter-widgets/base",
            "_view_module_version": "1.2.0",
            "_view_name": "LayoutView",
            "align_content": null,
            "align_items": null,
            "align_self": null,
            "border": null,
            "bottom": null,
            "display": null,
            "flex": null,
            "flex_flow": null,
            "grid_area": "widget003",
            "grid_auto_columns": null,
            "grid_auto_flow": null,
            "grid_auto_rows": null,
            "grid_column": null,
            "grid_gap": null,
            "grid_row": null,
            "grid_template_areas": null,
            "grid_template_columns": null,
            "grid_template_rows": null,
            "height": "30px",
            "justify_content": null,
            "justify_items": null,
            "left": null,
            "margin": null,
            "max_height": null,
            "max_width": null,
            "min_height": null,
            "min_width": null,
            "object_fit": null,
            "object_position": null,
            "order": null,
            "overflow": null,
            "overflow_x": null,
            "overflow_y": null,
            "padding": null,
            "right": null,
            "top": null,
            "visibility": null,
            "width": "auto"
          }
        },
        "ca0cd95bd59d4899babfc576529356ad": {
          "model_module": "@jupyter-widgets/controls",
          "model_name": "DescriptionStyleModel",
          "model_module_version": "1.5.0",
          "state": {
            "_model_module": "@jupyter-widgets/controls",
            "_model_module_version": "1.5.0",
            "_model_name": "DescriptionStyleModel",
            "_view_count": null,
            "_view_module": "@jupyter-widgets/base",
            "_view_module_version": "1.2.0",
            "_view_name": "StyleView",
            "description_width": ""
          }
        },
        "5c722ae7ceed499482da1409f5f064f9": {
          "model_module": "@jupyter-widgets/base",
          "model_name": "LayoutModel",
          "model_module_version": "1.2.0",
          "state": {
            "_model_module": "@jupyter-widgets/base",
            "_model_module_version": "1.2.0",
            "_model_name": "LayoutModel",
            "_view_count": null,
            "_view_module": "@jupyter-widgets/base",
            "_view_module_version": "1.2.0",
            "_view_name": "LayoutView",
            "align_content": null,
            "align_items": null,
            "align_self": null,
            "border": null,
            "bottom": null,
            "display": null,
            "flex": null,
            "flex_flow": null,
            "grid_area": "widget004",
            "grid_auto_columns": null,
            "grid_auto_flow": null,
            "grid_auto_rows": null,
            "grid_column": null,
            "grid_gap": null,
            "grid_row": null,
            "grid_template_areas": null,
            "grid_template_columns": null,
            "grid_template_rows": null,
            "height": "auto",
            "justify_content": null,
            "justify_items": null,
            "left": null,
            "margin": null,
            "max_height": null,
            "max_width": null,
            "min_height": null,
            "min_width": null,
            "object_fit": null,
            "object_position": null,
            "order": null,
            "overflow": null,
            "overflow_x": null,
            "overflow_y": null,
            "padding": null,
            "right": null,
            "top": null,
            "visibility": null,
            "width": "auto"
          }
        },
        "fd7705d844f54ba0bb087ab97c08f0f8": {
          "model_module": "@jupyter-widgets/controls",
          "model_name": "ButtonStyleModel",
          "model_module_version": "1.5.0",
          "state": {
            "_model_module": "@jupyter-widgets/controls",
            "_model_module_version": "1.5.0",
            "_model_name": "ButtonStyleModel",
            "_view_count": null,
            "_view_module": "@jupyter-widgets/base",
            "_view_module_version": "1.2.0",
            "_view_name": "StyleView",
            "button_color": null,
            "font_weight": ""
          }
        },
        "67c90960ee094a4887bc4b4d07fae125": {
          "model_module": "@jupyter-widgets/base",
          "model_name": "LayoutModel",
          "model_module_version": "1.2.0",
          "state": {
            "_model_module": "@jupyter-widgets/base",
            "_model_module_version": "1.2.0",
            "_model_name": "LayoutModel",
            "_view_count": null,
            "_view_module": "@jupyter-widgets/base",
            "_view_module_version": "1.2.0",
            "_view_name": "LayoutView",
            "align_content": null,
            "align_items": null,
            "align_self": null,
            "border": null,
            "bottom": null,
            "display": null,
            "flex": null,
            "flex_flow": null,
            "grid_area": "widget005",
            "grid_auto_columns": null,
            "grid_auto_flow": null,
            "grid_auto_rows": null,
            "grid_column": null,
            "grid_gap": null,
            "grid_row": null,
            "grid_template_areas": null,
            "grid_template_columns": null,
            "grid_template_rows": null,
            "height": "30px",
            "justify_content": null,
            "justify_items": null,
            "left": null,
            "margin": null,
            "max_height": null,
            "max_width": null,
            "min_height": null,
            "min_width": null,
            "object_fit": null,
            "object_position": null,
            "order": null,
            "overflow": null,
            "overflow_x": null,
            "overflow_y": null,
            "padding": null,
            "right": null,
            "top": null,
            "visibility": null,
            "width": "auto"
          }
        },
        "49e5853628b24dcd9de457ea8252f85b": {
          "model_module": "@jupyter-widgets/controls",
          "model_name": "DescriptionStyleModel",
          "model_module_version": "1.5.0",
          "state": {
            "_model_module": "@jupyter-widgets/controls",
            "_model_module_version": "1.5.0",
            "_model_name": "DescriptionStyleModel",
            "_view_count": null,
            "_view_module": "@jupyter-widgets/base",
            "_view_module_version": "1.2.0",
            "_view_name": "StyleView",
            "description_width": ""
          }
        },
        "595c3bdf6d624c1e81fdb915799cf6ed": {
          "model_module": "@jupyter-widgets/base",
          "model_name": "LayoutModel",
          "model_module_version": "1.2.0",
          "state": {
            "_model_module": "@jupyter-widgets/base",
            "_model_module_version": "1.2.0",
            "_model_name": "LayoutModel",
            "_view_count": null,
            "_view_module": "@jupyter-widgets/base",
            "_view_module_version": "1.2.0",
            "_view_name": "LayoutView",
            "align_content": null,
            "align_items": null,
            "align_self": null,
            "border": null,
            "bottom": null,
            "display": null,
            "flex": null,
            "flex_flow": null,
            "grid_area": "widget006",
            "grid_auto_columns": null,
            "grid_auto_flow": null,
            "grid_auto_rows": null,
            "grid_column": null,
            "grid_gap": null,
            "grid_row": null,
            "grid_template_areas": null,
            "grid_template_columns": null,
            "grid_template_rows": null,
            "height": "auto",
            "justify_content": null,
            "justify_items": null,
            "left": null,
            "margin": null,
            "max_height": null,
            "max_width": null,
            "min_height": null,
            "min_width": null,
            "object_fit": null,
            "object_position": null,
            "order": null,
            "overflow": null,
            "overflow_x": null,
            "overflow_y": null,
            "padding": null,
            "right": null,
            "top": null,
            "visibility": null,
            "width": "auto"
          }
        },
        "e55cbd59b32c4265ab82c8c54be92267": {
          "model_module": "@jupyter-widgets/controls",
          "model_name": "ButtonStyleModel",
          "model_module_version": "1.5.0",
          "state": {
            "_model_module": "@jupyter-widgets/controls",
            "_model_module_version": "1.5.0",
            "_model_name": "ButtonStyleModel",
            "_view_count": null,
            "_view_module": "@jupyter-widgets/base",
            "_view_module_version": "1.2.0",
            "_view_name": "StyleView",
            "button_color": null,
            "font_weight": ""
          }
        },
        "2cb3c8c262644576835cd7a1a55d962e": {
          "model_module": "@jupyter-widgets/base",
          "model_name": "LayoutModel",
          "model_module_version": "1.2.0",
          "state": {
            "_model_module": "@jupyter-widgets/base",
            "_model_module_version": "1.2.0",
            "_model_name": "LayoutModel",
            "_view_count": null,
            "_view_module": "@jupyter-widgets/base",
            "_view_module_version": "1.2.0",
            "_view_name": "LayoutView",
            "align_content": null,
            "align_items": null,
            "align_self": null,
            "border": null,
            "bottom": null,
            "display": null,
            "flex": null,
            "flex_flow": null,
            "grid_area": "widget007",
            "grid_auto_columns": null,
            "grid_auto_flow": null,
            "grid_auto_rows": null,
            "grid_column": null,
            "grid_gap": null,
            "grid_row": null,
            "grid_template_areas": null,
            "grid_template_columns": null,
            "grid_template_rows": null,
            "height": "30px",
            "justify_content": null,
            "justify_items": null,
            "left": null,
            "margin": null,
            "max_height": null,
            "max_width": null,
            "min_height": null,
            "min_width": null,
            "object_fit": null,
            "object_position": null,
            "order": null,
            "overflow": null,
            "overflow_x": null,
            "overflow_y": null,
            "padding": null,
            "right": null,
            "top": null,
            "visibility": null,
            "width": "auto"
          }
        },
        "4ff1924b158e4190ac574b6e58f9db3b": {
          "model_module": "@jupyter-widgets/controls",
          "model_name": "DescriptionStyleModel",
          "model_module_version": "1.5.0",
          "state": {
            "_model_module": "@jupyter-widgets/controls",
            "_model_module_version": "1.5.0",
            "_model_name": "DescriptionStyleModel",
            "_view_count": null,
            "_view_module": "@jupyter-widgets/base",
            "_view_module_version": "1.2.0",
            "_view_name": "StyleView",
            "description_width": ""
          }
        },
        "db2ca6081c594fe29bd31673a40d94e5": {
          "model_module": "@jupyter-widgets/base",
          "model_name": "LayoutModel",
          "model_module_version": "1.2.0",
          "state": {
            "_model_module": "@jupyter-widgets/base",
            "_model_module_version": "1.2.0",
            "_model_name": "LayoutModel",
            "_view_count": null,
            "_view_module": "@jupyter-widgets/base",
            "_view_module_version": "1.2.0",
            "_view_name": "LayoutView",
            "align_content": null,
            "align_items": null,
            "align_self": null,
            "border": null,
            "bottom": null,
            "display": null,
            "flex": null,
            "flex_flow": null,
            "grid_area": "widget008",
            "grid_auto_columns": null,
            "grid_auto_flow": null,
            "grid_auto_rows": null,
            "grid_column": null,
            "grid_gap": null,
            "grid_row": null,
            "grid_template_areas": null,
            "grid_template_columns": null,
            "grid_template_rows": null,
            "height": "auto",
            "justify_content": null,
            "justify_items": null,
            "left": null,
            "margin": null,
            "max_height": null,
            "max_width": null,
            "min_height": null,
            "min_width": null,
            "object_fit": null,
            "object_position": null,
            "order": null,
            "overflow": null,
            "overflow_x": null,
            "overflow_y": null,
            "padding": null,
            "right": null,
            "top": null,
            "visibility": null,
            "width": "auto"
          }
        },
        "31ac6c350c39473793358b8250969573": {
          "model_module": "@jupyter-widgets/controls",
          "model_name": "ButtonStyleModel",
          "model_module_version": "1.5.0",
          "state": {
            "_model_module": "@jupyter-widgets/controls",
            "_model_module_version": "1.5.0",
            "_model_name": "ButtonStyleModel",
            "_view_count": null,
            "_view_module": "@jupyter-widgets/base",
            "_view_module_version": "1.2.0",
            "_view_name": "StyleView",
            "button_color": null,
            "font_weight": ""
          }
        },
        "def91ebe1b41427a9cc81c85c8966e26": {
          "model_module": "@jupyter-widgets/controls",
          "model_name": "GridBoxModel",
          "model_module_version": "1.5.0",
          "state": {
            "_dom_classes": [],
            "_model_module": "@jupyter-widgets/controls",
            "_model_module_version": "1.5.0",
            "_model_name": "GridBoxModel",
            "_view_count": null,
            "_view_module": "@jupyter-widgets/controls",
            "_view_module_version": "1.5.0",
            "_view_name": "GridBoxView",
            "box_style": "",
            "children": [
              "IPY_MODEL_f65daad947bd42e5b3780b853a35de0a",
              "IPY_MODEL_d2c05b26d0d4425ba0e907404699a93c",
              "IPY_MODEL_d70bd0597b4c4723be18bf4ae51579ee",
              "IPY_MODEL_c527c39bc64745068484ca9c9382395d",
              "IPY_MODEL_35a453bf5fd849db8358d775f03e7a5e",
              "IPY_MODEL_2abf51c81db5441d9562a943a84115cd",
              "IPY_MODEL_4facbe3f81774f1896a10d9a45cf06fa",
              "IPY_MODEL_d2bc19f52d134d4eb456a382773862a8"
            ],
            "layout": "IPY_MODEL_67b9c4662b504189b8e8db10578ba473"
          }
        },
        "f65daad947bd42e5b3780b853a35de0a": {
          "model_module": "@jupyter-widgets/controls",
          "model_name": "ButtonModel",
          "model_module_version": "1.5.0",
          "state": {
            "_dom_classes": [],
            "_model_module": "@jupyter-widgets/controls",
            "_model_module_version": "1.5.0",
            "_model_name": "ButtonModel",
            "_view_count": null,
            "_view_module": "@jupyter-widgets/controls",
            "_view_module_version": "1.5.0",
            "_view_name": "ButtonView",
            "button_style": "warning",
            "description": "Data Cache",
            "disabled": false,
            "icon": "",
            "layout": "IPY_MODEL_1712244f33ca4e9fbf4513c1c2d51812",
            "style": "IPY_MODEL_4e1a734a807241c89a1307d1c5773f84",
            "tooltip": ""
          }
        },
        "d2c05b26d0d4425ba0e907404699a93c": {
          "model_module": "@jupyter-widgets/controls",
          "model_name": "ButtonModel",
          "model_module_version": "1.5.0",
          "state": {
            "_dom_classes": [],
            "_model_module": "@jupyter-widgets/controls",
            "_model_module_version": "1.5.0",
            "_model_name": "ButtonModel",
            "_view_count": null,
            "_view_module": "@jupyter-widgets/controls",
            "_view_module_version": "1.5.0",
            "_view_name": "ButtonView",
            "button_style": "warning",
            "description": "Size (kB)",
            "disabled": false,
            "icon": "",
            "layout": "IPY_MODEL_aa075e7377ec4e24842a05f33a652f59",
            "style": "IPY_MODEL_49c944c10cf3450db92e885b9ef3676d",
            "tooltip": ""
          }
        },
        "d70bd0597b4c4723be18bf4ae51579ee": {
          "model_module": "@jupyter-widgets/controls",
          "model_name": "DropdownModel",
          "model_module_version": "1.5.0",
          "state": {
            "_dom_classes": [],
            "_model_module": "@jupyter-widgets/controls",
            "_model_module_version": "1.5.0",
            "_model_name": "DropdownModel",
            "_options_labels": [
              "1",
              "2",
              "4",
              "8",
              "16"
            ],
            "_view_count": null,
            "_view_module": "@jupyter-widgets/controls",
            "_view_module_version": "1.5.0",
            "_view_name": "DropdownView",
            "description": "",
            "description_tooltip": null,
            "disabled": false,
            "index": 0,
            "layout": "IPY_MODEL_0d7d84c12c19464fae769b4e977461bf",
            "style": "IPY_MODEL_f1323c3069a541428481f40a345bc26c"
          }
        },
        "c527c39bc64745068484ca9c9382395d": {
          "model_module": "@jupyter-widgets/controls",
          "model_name": "ButtonModel",
          "model_module_version": "1.5.0",
          "state": {
            "_dom_classes": [],
            "_model_module": "@jupyter-widgets/controls",
            "_model_module_version": "1.5.0",
            "_model_name": "ButtonModel",
            "_view_count": null,
            "_view_module": "@jupyter-widgets/controls",
            "_view_module_version": "1.5.0",
            "_view_name": "ButtonView",
            "button_style": "warning",
            "description": "Associative",
            "disabled": false,
            "icon": "",
            "layout": "IPY_MODEL_0925185a60134e7fab3763d6e64bc788",
            "style": "IPY_MODEL_9f12eb4d16ed4bc3bcda7832bbfac1e2",
            "tooltip": ""
          }
        },
        "35a453bf5fd849db8358d775f03e7a5e": {
          "model_module": "@jupyter-widgets/controls",
          "model_name": "DropdownModel",
          "model_module_version": "1.5.0",
          "state": {
            "_dom_classes": [],
            "_model_module": "@jupyter-widgets/controls",
            "_model_module_version": "1.5.0",
            "_model_name": "DropdownModel",
            "_options_labels": [
              "1",
              "2",
              "4",
              "8",
              "16",
              "32"
            ],
            "_view_count": null,
            "_view_module": "@jupyter-widgets/controls",
            "_view_module_version": "1.5.0",
            "_view_name": "DropdownView",
            "description": "",
            "description_tooltip": null,
            "disabled": false,
            "index": 0,
            "layout": "IPY_MODEL_09d02855434e42a680ee61abab6bf579",
            "style": "IPY_MODEL_2434438c58d04670aab5a7d47d31e2be"
          }
        },
        "2abf51c81db5441d9562a943a84115cd": {
          "model_module": "@jupyter-widgets/controls",
          "model_name": "ButtonModel",
          "model_module_version": "1.5.0",
          "state": {
            "_dom_classes": [],
            "_model_module": "@jupyter-widgets/controls",
            "_model_module_version": "1.5.0",
            "_model_name": "ButtonModel",
            "_view_count": null,
            "_view_module": "@jupyter-widgets/controls",
            "_view_module_version": "1.5.0",
            "_view_name": "ButtonView",
            "button_style": "warning",
            "description": "Line (Bytes)",
            "disabled": false,
            "icon": "",
            "layout": "IPY_MODEL_862dbc0e819c42a4afde22d4a1c3b0a9",
            "style": "IPY_MODEL_a5d6bb21c9db4ff5a4b946fdbb84e72e",
            "tooltip": ""
          }
        },
        "4facbe3f81774f1896a10d9a45cf06fa": {
          "model_module": "@jupyter-widgets/controls",
          "model_name": "DropdownModel",
          "model_module_version": "1.5.0",
          "state": {
            "_dom_classes": [],
            "_model_module": "@jupyter-widgets/controls",
            "_model_module_version": "1.5.0",
            "_model_name": "DropdownModel",
            "_options_labels": [
              "32",
              "64",
              "128"
            ],
            "_view_count": null,
            "_view_module": "@jupyter-widgets/controls",
            "_view_module_version": "1.5.0",
            "_view_name": "DropdownView",
            "description": "",
            "description_tooltip": null,
            "disabled": false,
            "index": 0,
            "layout": "IPY_MODEL_02704ac5c50b4f779b74f863a3618443",
            "style": "IPY_MODEL_6f3d42504daa4261917bb54a2d322153"
          }
        },
        "d2bc19f52d134d4eb456a382773862a8": {
          "model_module": "@jupyter-widgets/controls",
          "model_name": "ButtonModel",
          "model_module_version": "1.5.0",
          "state": {
            "_dom_classes": [],
            "_model_module": "@jupyter-widgets/controls",
            "_model_module_version": "1.5.0",
            "_model_name": "ButtonModel",
            "_view_count": null,
            "_view_module": "@jupyter-widgets/controls",
            "_view_module_version": "1.5.0",
            "_view_name": "ButtonView",
            "button_style": "success",
            "description": "Start execution",
            "disabled": false,
            "icon": "",
            "layout": "IPY_MODEL_2fa7ed90e83444c5a73d1d5d70696ebf",
            "style": "IPY_MODEL_6c17fb86980b4ca7a360473f53813489",
            "tooltip": ""
          }
        },
        "67b9c4662b504189b8e8db10578ba473": {
          "model_module": "@jupyter-widgets/base",
          "model_name": "LayoutModel",
          "model_module_version": "1.2.0",
          "state": {
            "_model_module": "@jupyter-widgets/base",
            "_model_module_version": "1.2.0",
            "_model_name": "LayoutModel",
            "_view_count": null,
            "_view_module": "@jupyter-widgets/base",
            "_view_module_version": "1.2.0",
            "_view_name": "LayoutView",
            "align_content": null,
            "align_items": null,
            "align_self": null,
            "border": null,
            "bottom": null,
            "display": null,
            "flex": null,
            "flex_flow": null,
            "grid_area": null,
            "grid_auto_columns": null,
            "grid_auto_flow": null,
            "grid_auto_rows": null,
            "grid_column": null,
            "grid_gap": null,
            "grid_row": null,
            "grid_template_areas": "\"widget001 . . . . . . . . .\"\n\"widget002 widget003 . . . . . . . .\"\n\"widget004 widget005 . . . . . . . .\"\n\"widget006 widget007 . . . . . . . .\"\n\"widget008 . . . . . . . . .\"",
            "grid_template_columns": "repeat(10, 1fr)",
            "grid_template_rows": "repeat(5, 1fr)",
            "height": null,
            "justify_content": null,
            "justify_items": null,
            "left": null,
            "margin": null,
            "max_height": null,
            "max_width": null,
            "min_height": null,
            "min_width": null,
            "object_fit": null,
            "object_position": null,
            "order": null,
            "overflow": null,
            "overflow_x": null,
            "overflow_y": null,
            "padding": null,
            "right": null,
            "top": null,
            "visibility": null,
            "width": null
          }
        },
        "1712244f33ca4e9fbf4513c1c2d51812": {
          "model_module": "@jupyter-widgets/base",
          "model_name": "LayoutModel",
          "model_module_version": "1.2.0",
          "state": {
            "_model_module": "@jupyter-widgets/base",
            "_model_module_version": "1.2.0",
            "_model_name": "LayoutModel",
            "_view_count": null,
            "_view_module": "@jupyter-widgets/base",
            "_view_module_version": "1.2.0",
            "_view_name": "LayoutView",
            "align_content": null,
            "align_items": null,
            "align_self": null,
            "border": null,
            "bottom": null,
            "display": null,
            "flex": null,
            "flex_flow": null,
            "grid_area": "widget001",
            "grid_auto_columns": null,
            "grid_auto_flow": null,
            "grid_auto_rows": null,
            "grid_column": null,
            "grid_gap": null,
            "grid_row": null,
            "grid_template_areas": null,
            "grid_template_columns": null,
            "grid_template_rows": null,
            "height": "auto",
            "justify_content": null,
            "justify_items": null,
            "left": null,
            "margin": null,
            "max_height": null,
            "max_width": null,
            "min_height": null,
            "min_width": null,
            "object_fit": null,
            "object_position": null,
            "order": null,
            "overflow": null,
            "overflow_x": null,
            "overflow_y": null,
            "padding": null,
            "right": null,
            "top": null,
            "visibility": null,
            "width": "auto"
          }
        },
        "4e1a734a807241c89a1307d1c5773f84": {
          "model_module": "@jupyter-widgets/controls",
          "model_name": "ButtonStyleModel",
          "model_module_version": "1.5.0",
          "state": {
            "_model_module": "@jupyter-widgets/controls",
            "_model_module_version": "1.5.0",
            "_model_name": "ButtonStyleModel",
            "_view_count": null,
            "_view_module": "@jupyter-widgets/base",
            "_view_module_version": "1.2.0",
            "_view_name": "StyleView",
            "button_color": null,
            "font_weight": ""
          }
        },
        "aa075e7377ec4e24842a05f33a652f59": {
          "model_module": "@jupyter-widgets/base",
          "model_name": "LayoutModel",
          "model_module_version": "1.2.0",
          "state": {
            "_model_module": "@jupyter-widgets/base",
            "_model_module_version": "1.2.0",
            "_model_name": "LayoutModel",
            "_view_count": null,
            "_view_module": "@jupyter-widgets/base",
            "_view_module_version": "1.2.0",
            "_view_name": "LayoutView",
            "align_content": null,
            "align_items": null,
            "align_self": null,
            "border": null,
            "bottom": null,
            "display": null,
            "flex": null,
            "flex_flow": null,
            "grid_area": "widget002",
            "grid_auto_columns": null,
            "grid_auto_flow": null,
            "grid_auto_rows": null,
            "grid_column": null,
            "grid_gap": null,
            "grid_row": null,
            "grid_template_areas": null,
            "grid_template_columns": null,
            "grid_template_rows": null,
            "height": "auto",
            "justify_content": null,
            "justify_items": null,
            "left": null,
            "margin": null,
            "max_height": null,
            "max_width": null,
            "min_height": null,
            "min_width": null,
            "object_fit": null,
            "object_position": null,
            "order": null,
            "overflow": null,
            "overflow_x": null,
            "overflow_y": null,
            "padding": null,
            "right": null,
            "top": null,
            "visibility": null,
            "width": "auto"
          }
        },
        "49c944c10cf3450db92e885b9ef3676d": {
          "model_module": "@jupyter-widgets/controls",
          "model_name": "ButtonStyleModel",
          "model_module_version": "1.5.0",
          "state": {
            "_model_module": "@jupyter-widgets/controls",
            "_model_module_version": "1.5.0",
            "_model_name": "ButtonStyleModel",
            "_view_count": null,
            "_view_module": "@jupyter-widgets/base",
            "_view_module_version": "1.2.0",
            "_view_name": "StyleView",
            "button_color": null,
            "font_weight": ""
          }
        },
        "0d7d84c12c19464fae769b4e977461bf": {
          "model_module": "@jupyter-widgets/base",
          "model_name": "LayoutModel",
          "model_module_version": "1.2.0",
          "state": {
            "_model_module": "@jupyter-widgets/base",
            "_model_module_version": "1.2.0",
            "_model_name": "LayoutModel",
            "_view_count": null,
            "_view_module": "@jupyter-widgets/base",
            "_view_module_version": "1.2.0",
            "_view_name": "LayoutView",
            "align_content": null,
            "align_items": null,
            "align_self": null,
            "border": null,
            "bottom": null,
            "display": null,
            "flex": null,
            "flex_flow": null,
            "grid_area": "widget003",
            "grid_auto_columns": null,
            "grid_auto_flow": null,
            "grid_auto_rows": null,
            "grid_column": null,
            "grid_gap": null,
            "grid_row": null,
            "grid_template_areas": null,
            "grid_template_columns": null,
            "grid_template_rows": null,
            "height": "30px",
            "justify_content": null,
            "justify_items": null,
            "left": null,
            "margin": null,
            "max_height": null,
            "max_width": null,
            "min_height": null,
            "min_width": null,
            "object_fit": null,
            "object_position": null,
            "order": null,
            "overflow": null,
            "overflow_x": null,
            "overflow_y": null,
            "padding": null,
            "right": null,
            "top": null,
            "visibility": null,
            "width": "auto"
          }
        },
        "f1323c3069a541428481f40a345bc26c": {
          "model_module": "@jupyter-widgets/controls",
          "model_name": "DescriptionStyleModel",
          "model_module_version": "1.5.0",
          "state": {
            "_model_module": "@jupyter-widgets/controls",
            "_model_module_version": "1.5.0",
            "_model_name": "DescriptionStyleModel",
            "_view_count": null,
            "_view_module": "@jupyter-widgets/base",
            "_view_module_version": "1.2.0",
            "_view_name": "StyleView",
            "description_width": ""
          }
        },
        "0925185a60134e7fab3763d6e64bc788": {
          "model_module": "@jupyter-widgets/base",
          "model_name": "LayoutModel",
          "model_module_version": "1.2.0",
          "state": {
            "_model_module": "@jupyter-widgets/base",
            "_model_module_version": "1.2.0",
            "_model_name": "LayoutModel",
            "_view_count": null,
            "_view_module": "@jupyter-widgets/base",
            "_view_module_version": "1.2.0",
            "_view_name": "LayoutView",
            "align_content": null,
            "align_items": null,
            "align_self": null,
            "border": null,
            "bottom": null,
            "display": null,
            "flex": null,
            "flex_flow": null,
            "grid_area": "widget004",
            "grid_auto_columns": null,
            "grid_auto_flow": null,
            "grid_auto_rows": null,
            "grid_column": null,
            "grid_gap": null,
            "grid_row": null,
            "grid_template_areas": null,
            "grid_template_columns": null,
            "grid_template_rows": null,
            "height": "auto",
            "justify_content": null,
            "justify_items": null,
            "left": null,
            "margin": null,
            "max_height": null,
            "max_width": null,
            "min_height": null,
            "min_width": null,
            "object_fit": null,
            "object_position": null,
            "order": null,
            "overflow": null,
            "overflow_x": null,
            "overflow_y": null,
            "padding": null,
            "right": null,
            "top": null,
            "visibility": null,
            "width": "auto"
          }
        },
        "9f12eb4d16ed4bc3bcda7832bbfac1e2": {
          "model_module": "@jupyter-widgets/controls",
          "model_name": "ButtonStyleModel",
          "model_module_version": "1.5.0",
          "state": {
            "_model_module": "@jupyter-widgets/controls",
            "_model_module_version": "1.5.0",
            "_model_name": "ButtonStyleModel",
            "_view_count": null,
            "_view_module": "@jupyter-widgets/base",
            "_view_module_version": "1.2.0",
            "_view_name": "StyleView",
            "button_color": null,
            "font_weight": ""
          }
        },
        "09d02855434e42a680ee61abab6bf579": {
          "model_module": "@jupyter-widgets/base",
          "model_name": "LayoutModel",
          "model_module_version": "1.2.0",
          "state": {
            "_model_module": "@jupyter-widgets/base",
            "_model_module_version": "1.2.0",
            "_model_name": "LayoutModel",
            "_view_count": null,
            "_view_module": "@jupyter-widgets/base",
            "_view_module_version": "1.2.0",
            "_view_name": "LayoutView",
            "align_content": null,
            "align_items": null,
            "align_self": null,
            "border": null,
            "bottom": null,
            "display": null,
            "flex": null,
            "flex_flow": null,
            "grid_area": "widget005",
            "grid_auto_columns": null,
            "grid_auto_flow": null,
            "grid_auto_rows": null,
            "grid_column": null,
            "grid_gap": null,
            "grid_row": null,
            "grid_template_areas": null,
            "grid_template_columns": null,
            "grid_template_rows": null,
            "height": "30px",
            "justify_content": null,
            "justify_items": null,
            "left": null,
            "margin": null,
            "max_height": null,
            "max_width": null,
            "min_height": null,
            "min_width": null,
            "object_fit": null,
            "object_position": null,
            "order": null,
            "overflow": null,
            "overflow_x": null,
            "overflow_y": null,
            "padding": null,
            "right": null,
            "top": null,
            "visibility": null,
            "width": "auto"
          }
        },
        "2434438c58d04670aab5a7d47d31e2be": {
          "model_module": "@jupyter-widgets/controls",
          "model_name": "DescriptionStyleModel",
          "model_module_version": "1.5.0",
          "state": {
            "_model_module": "@jupyter-widgets/controls",
            "_model_module_version": "1.5.0",
            "_model_name": "DescriptionStyleModel",
            "_view_count": null,
            "_view_module": "@jupyter-widgets/base",
            "_view_module_version": "1.2.0",
            "_view_name": "StyleView",
            "description_width": ""
          }
        },
        "862dbc0e819c42a4afde22d4a1c3b0a9": {
          "model_module": "@jupyter-widgets/base",
          "model_name": "LayoutModel",
          "model_module_version": "1.2.0",
          "state": {
            "_model_module": "@jupyter-widgets/base",
            "_model_module_version": "1.2.0",
            "_model_name": "LayoutModel",
            "_view_count": null,
            "_view_module": "@jupyter-widgets/base",
            "_view_module_version": "1.2.0",
            "_view_name": "LayoutView",
            "align_content": null,
            "align_items": null,
            "align_self": null,
            "border": null,
            "bottom": null,
            "display": null,
            "flex": null,
            "flex_flow": null,
            "grid_area": "widget006",
            "grid_auto_columns": null,
            "grid_auto_flow": null,
            "grid_auto_rows": null,
            "grid_column": null,
            "grid_gap": null,
            "grid_row": null,
            "grid_template_areas": null,
            "grid_template_columns": null,
            "grid_template_rows": null,
            "height": "auto",
            "justify_content": null,
            "justify_items": null,
            "left": null,
            "margin": null,
            "max_height": null,
            "max_width": null,
            "min_height": null,
            "min_width": null,
            "object_fit": null,
            "object_position": null,
            "order": null,
            "overflow": null,
            "overflow_x": null,
            "overflow_y": null,
            "padding": null,
            "right": null,
            "top": null,
            "visibility": null,
            "width": "auto"
          }
        },
        "a5d6bb21c9db4ff5a4b946fdbb84e72e": {
          "model_module": "@jupyter-widgets/controls",
          "model_name": "ButtonStyleModel",
          "model_module_version": "1.5.0",
          "state": {
            "_model_module": "@jupyter-widgets/controls",
            "_model_module_version": "1.5.0",
            "_model_name": "ButtonStyleModel",
            "_view_count": null,
            "_view_module": "@jupyter-widgets/base",
            "_view_module_version": "1.2.0",
            "_view_name": "StyleView",
            "button_color": null,
            "font_weight": ""
          }
        },
        "02704ac5c50b4f779b74f863a3618443": {
          "model_module": "@jupyter-widgets/base",
          "model_name": "LayoutModel",
          "model_module_version": "1.2.0",
          "state": {
            "_model_module": "@jupyter-widgets/base",
            "_model_module_version": "1.2.0",
            "_model_name": "LayoutModel",
            "_view_count": null,
            "_view_module": "@jupyter-widgets/base",
            "_view_module_version": "1.2.0",
            "_view_name": "LayoutView",
            "align_content": null,
            "align_items": null,
            "align_self": null,
            "border": null,
            "bottom": null,
            "display": null,
            "flex": null,
            "flex_flow": null,
            "grid_area": "widget007",
            "grid_auto_columns": null,
            "grid_auto_flow": null,
            "grid_auto_rows": null,
            "grid_column": null,
            "grid_gap": null,
            "grid_row": null,
            "grid_template_areas": null,
            "grid_template_columns": null,
            "grid_template_rows": null,
            "height": "30px",
            "justify_content": null,
            "justify_items": null,
            "left": null,
            "margin": null,
            "max_height": null,
            "max_width": null,
            "min_height": null,
            "min_width": null,
            "object_fit": null,
            "object_position": null,
            "order": null,
            "overflow": null,
            "overflow_x": null,
            "overflow_y": null,
            "padding": null,
            "right": null,
            "top": null,
            "visibility": null,
            "width": "auto"
          }
        },
        "6f3d42504daa4261917bb54a2d322153": {
          "model_module": "@jupyter-widgets/controls",
          "model_name": "DescriptionStyleModel",
          "model_module_version": "1.5.0",
          "state": {
            "_model_module": "@jupyter-widgets/controls",
            "_model_module_version": "1.5.0",
            "_model_name": "DescriptionStyleModel",
            "_view_count": null,
            "_view_module": "@jupyter-widgets/base",
            "_view_module_version": "1.2.0",
            "_view_name": "StyleView",
            "description_width": ""
          }
        },
        "2fa7ed90e83444c5a73d1d5d70696ebf": {
          "model_module": "@jupyter-widgets/base",
          "model_name": "LayoutModel",
          "model_module_version": "1.2.0",
          "state": {
            "_model_module": "@jupyter-widgets/base",
            "_model_module_version": "1.2.0",
            "_model_name": "LayoutModel",
            "_view_count": null,
            "_view_module": "@jupyter-widgets/base",
            "_view_module_version": "1.2.0",
            "_view_name": "LayoutView",
            "align_content": null,
            "align_items": null,
            "align_self": null,
            "border": null,
            "bottom": null,
            "display": null,
            "flex": null,
            "flex_flow": null,
            "grid_area": "widget008",
            "grid_auto_columns": null,
            "grid_auto_flow": null,
            "grid_auto_rows": null,
            "grid_column": null,
            "grid_gap": null,
            "grid_row": null,
            "grid_template_areas": null,
            "grid_template_columns": null,
            "grid_template_rows": null,
            "height": "auto",
            "justify_content": null,
            "justify_items": null,
            "left": null,
            "margin": null,
            "max_height": null,
            "max_width": null,
            "min_height": null,
            "min_width": null,
            "object_fit": null,
            "object_position": null,
            "order": null,
            "overflow": null,
            "overflow_x": null,
            "overflow_y": null,
            "padding": null,
            "right": null,
            "top": null,
            "visibility": null,
            "width": "auto"
          }
        },
        "6c17fb86980b4ca7a360473f53813489": {
          "model_module": "@jupyter-widgets/controls",
          "model_name": "ButtonStyleModel",
          "model_module_version": "1.5.0",
          "state": {
            "_model_module": "@jupyter-widgets/controls",
            "_model_module_version": "1.5.0",
            "_model_name": "ButtonStyleModel",
            "_view_count": null,
            "_view_module": "@jupyter-widgets/base",
            "_view_module_version": "1.2.0",
            "_view_name": "StyleView",
            "button_color": null,
            "font_weight": ""
          }
        },
        "072a97a46c7346d49a1e1388539d7f3f": {
          "model_module": "@jupyter-widgets/controls",
          "model_name": "GridBoxModel",
          "model_module_version": "1.5.0",
          "state": {
            "_dom_classes": [],
            "_model_module": "@jupyter-widgets/controls",
            "_model_module_version": "1.5.0",
            "_model_name": "GridBoxModel",
            "_view_count": null,
            "_view_module": "@jupyter-widgets/controls",
            "_view_module_version": "1.5.0",
            "_view_name": "GridBoxView",
            "box_style": "",
            "children": [
              "IPY_MODEL_c987b0772435431a87b3bacd93824706",
              "IPY_MODEL_1ba91c5c2e134bbea48bb74e87ecad5a",
              "IPY_MODEL_7bee82225dd540dc909f638e11562c34",
              "IPY_MODEL_32bddf1134be44899809e25b7747e6fb",
              "IPY_MODEL_5cb643c534e64d9590e0c8a8198c6b19",
              "IPY_MODEL_66d7daabc64f43ec84dd2de56b638e85",
              "IPY_MODEL_06ca50992f3f4c3e973fc2ff8e19d804",
              "IPY_MODEL_e701979fa203458ab1fb16e754ba817e"
            ],
            "layout": "IPY_MODEL_4e636997d4b44e0583df47378594d5ce"
          }
        },
        "c987b0772435431a87b3bacd93824706": {
          "model_module": "@jupyter-widgets/controls",
          "model_name": "ButtonModel",
          "model_module_version": "1.5.0",
          "state": {
            "_dom_classes": [],
            "_model_module": "@jupyter-widgets/controls",
            "_model_module_version": "1.5.0",
            "_model_name": "ButtonModel",
            "_view_count": null,
            "_view_module": "@jupyter-widgets/controls",
            "_view_module_version": "1.5.0",
            "_view_name": "ButtonView",
            "button_style": "warning",
            "description": "Data Cache",
            "disabled": false,
            "icon": "",
            "layout": "IPY_MODEL_bf424689b0b343d193f96c55c7a3b8ba",
            "style": "IPY_MODEL_30eacfa2bbb342b8b35373bb5fd991c8",
            "tooltip": ""
          }
        },
        "1ba91c5c2e134bbea48bb74e87ecad5a": {
          "model_module": "@jupyter-widgets/controls",
          "model_name": "ButtonModel",
          "model_module_version": "1.5.0",
          "state": {
            "_dom_classes": [],
            "_model_module": "@jupyter-widgets/controls",
            "_model_module_version": "1.5.0",
            "_model_name": "ButtonModel",
            "_view_count": null,
            "_view_module": "@jupyter-widgets/controls",
            "_view_module_version": "1.5.0",
            "_view_name": "ButtonView",
            "button_style": "warning",
            "description": "Size (kB)",
            "disabled": false,
            "icon": "",
            "layout": "IPY_MODEL_03b6a34f0d9f449aa7d663fce7b5ca72",
            "style": "IPY_MODEL_e4f9dd18799b45dfae0c3ac7b4ffdfa0",
            "tooltip": ""
          }
        },
        "7bee82225dd540dc909f638e11562c34": {
          "model_module": "@jupyter-widgets/controls",
          "model_name": "DropdownModel",
          "model_module_version": "1.5.0",
          "state": {
            "_dom_classes": [],
            "_model_module": "@jupyter-widgets/controls",
            "_model_module_version": "1.5.0",
            "_model_name": "DropdownModel",
            "_options_labels": [
              "1",
              "2",
              "4",
              "8",
              "16"
            ],
            "_view_count": null,
            "_view_module": "@jupyter-widgets/controls",
            "_view_module_version": "1.5.0",
            "_view_name": "DropdownView",
            "description": "",
            "description_tooltip": null,
            "disabled": false,
            "index": 0,
            "layout": "IPY_MODEL_b5d0aef7217c4f73801142289bf74dd5",
            "style": "IPY_MODEL_a1c5e2478ede4ad182c46f63c87b174e"
          }
        },
        "32bddf1134be44899809e25b7747e6fb": {
          "model_module": "@jupyter-widgets/controls",
          "model_name": "ButtonModel",
          "model_module_version": "1.5.0",
          "state": {
            "_dom_classes": [],
            "_model_module": "@jupyter-widgets/controls",
            "_model_module_version": "1.5.0",
            "_model_name": "ButtonModel",
            "_view_count": null,
            "_view_module": "@jupyter-widgets/controls",
            "_view_module_version": "1.5.0",
            "_view_name": "ButtonView",
            "button_style": "warning",
            "description": "Associative",
            "disabled": false,
            "icon": "",
            "layout": "IPY_MODEL_b23add9e48fa4602bc9b023a828127f7",
            "style": "IPY_MODEL_ddd5bc2816db4e39b3013d57d56a93eb",
            "tooltip": ""
          }
        },
        "5cb643c534e64d9590e0c8a8198c6b19": {
          "model_module": "@jupyter-widgets/controls",
          "model_name": "DropdownModel",
          "model_module_version": "1.5.0",
          "state": {
            "_dom_classes": [],
            "_model_module": "@jupyter-widgets/controls",
            "_model_module_version": "1.5.0",
            "_model_name": "DropdownModel",
            "_options_labels": [
              "1",
              "2",
              "4",
              "8",
              "16",
              "32"
            ],
            "_view_count": null,
            "_view_module": "@jupyter-widgets/controls",
            "_view_module_version": "1.5.0",
            "_view_name": "DropdownView",
            "description": "",
            "description_tooltip": null,
            "disabled": false,
            "index": 0,
            "layout": "IPY_MODEL_48a4eca9ccb0488887051c1ee48472a9",
            "style": "IPY_MODEL_dedd049ec5f74533a065b84cb31f1737"
          }
        },
        "66d7daabc64f43ec84dd2de56b638e85": {
          "model_module": "@jupyter-widgets/controls",
          "model_name": "ButtonModel",
          "model_module_version": "1.5.0",
          "state": {
            "_dom_classes": [],
            "_model_module": "@jupyter-widgets/controls",
            "_model_module_version": "1.5.0",
            "_model_name": "ButtonModel",
            "_view_count": null,
            "_view_module": "@jupyter-widgets/controls",
            "_view_module_version": "1.5.0",
            "_view_name": "ButtonView",
            "button_style": "warning",
            "description": "Line (Bytes)",
            "disabled": false,
            "icon": "",
            "layout": "IPY_MODEL_cbad8a94eab3444c8efe33fd8533745c",
            "style": "IPY_MODEL_c5eac150e9364d79a149adbf71f38f09",
            "tooltip": ""
          }
        },
        "06ca50992f3f4c3e973fc2ff8e19d804": {
          "model_module": "@jupyter-widgets/controls",
          "model_name": "DropdownModel",
          "model_module_version": "1.5.0",
          "state": {
            "_dom_classes": [],
            "_model_module": "@jupyter-widgets/controls",
            "_model_module_version": "1.5.0",
            "_model_name": "DropdownModel",
            "_options_labels": [
              "32",
              "64",
              "128"
            ],
            "_view_count": null,
            "_view_module": "@jupyter-widgets/controls",
            "_view_module_version": "1.5.0",
            "_view_name": "DropdownView",
            "description": "",
            "description_tooltip": null,
            "disabled": false,
            "index": 0,
            "layout": "IPY_MODEL_2cc665ae2c1040d998e12d3e21e70676",
            "style": "IPY_MODEL_1fc2021e85eb4ecba0dbe88d7bec2366"
          }
        },
        "e701979fa203458ab1fb16e754ba817e": {
          "model_module": "@jupyter-widgets/controls",
          "model_name": "ButtonModel",
          "model_module_version": "1.5.0",
          "state": {
            "_dom_classes": [],
            "_model_module": "@jupyter-widgets/controls",
            "_model_module_version": "1.5.0",
            "_model_name": "ButtonModel",
            "_view_count": null,
            "_view_module": "@jupyter-widgets/controls",
            "_view_module_version": "1.5.0",
            "_view_name": "ButtonView",
            "button_style": "success",
            "description": "Start execution",
            "disabled": false,
            "icon": "",
            "layout": "IPY_MODEL_d52b665fdc4242f4b5e6de6852b34981",
            "style": "IPY_MODEL_725093d6fb3447e2939766047682a8bc",
            "tooltip": ""
          }
        },
        "4e636997d4b44e0583df47378594d5ce": {
          "model_module": "@jupyter-widgets/base",
          "model_name": "LayoutModel",
          "model_module_version": "1.2.0",
          "state": {
            "_model_module": "@jupyter-widgets/base",
            "_model_module_version": "1.2.0",
            "_model_name": "LayoutModel",
            "_view_count": null,
            "_view_module": "@jupyter-widgets/base",
            "_view_module_version": "1.2.0",
            "_view_name": "LayoutView",
            "align_content": null,
            "align_items": null,
            "align_self": null,
            "border": null,
            "bottom": null,
            "display": null,
            "flex": null,
            "flex_flow": null,
            "grid_area": null,
            "grid_auto_columns": null,
            "grid_auto_flow": null,
            "grid_auto_rows": null,
            "grid_column": null,
            "grid_gap": null,
            "grid_row": null,
            "grid_template_areas": "\"widget001 . . . . . . . . .\"\n\"widget002 widget003 . . . . . . . .\"\n\"widget004 widget005 . . . . . . . .\"\n\"widget006 widget007 . . . . . . . .\"\n\"widget008 . . . . . . . . .\"",
            "grid_template_columns": "repeat(10, 1fr)",
            "grid_template_rows": "repeat(5, 1fr)",
            "height": null,
            "justify_content": null,
            "justify_items": null,
            "left": null,
            "margin": null,
            "max_height": null,
            "max_width": null,
            "min_height": null,
            "min_width": null,
            "object_fit": null,
            "object_position": null,
            "order": null,
            "overflow": null,
            "overflow_x": null,
            "overflow_y": null,
            "padding": null,
            "right": null,
            "top": null,
            "visibility": null,
            "width": null
          }
        },
        "bf424689b0b343d193f96c55c7a3b8ba": {
          "model_module": "@jupyter-widgets/base",
          "model_name": "LayoutModel",
          "model_module_version": "1.2.0",
          "state": {
            "_model_module": "@jupyter-widgets/base",
            "_model_module_version": "1.2.0",
            "_model_name": "LayoutModel",
            "_view_count": null,
            "_view_module": "@jupyter-widgets/base",
            "_view_module_version": "1.2.0",
            "_view_name": "LayoutView",
            "align_content": null,
            "align_items": null,
            "align_self": null,
            "border": null,
            "bottom": null,
            "display": null,
            "flex": null,
            "flex_flow": null,
            "grid_area": "widget001",
            "grid_auto_columns": null,
            "grid_auto_flow": null,
            "grid_auto_rows": null,
            "grid_column": null,
            "grid_gap": null,
            "grid_row": null,
            "grid_template_areas": null,
            "grid_template_columns": null,
            "grid_template_rows": null,
            "height": "auto",
            "justify_content": null,
            "justify_items": null,
            "left": null,
            "margin": null,
            "max_height": null,
            "max_width": null,
            "min_height": null,
            "min_width": null,
            "object_fit": null,
            "object_position": null,
            "order": null,
            "overflow": null,
            "overflow_x": null,
            "overflow_y": null,
            "padding": null,
            "right": null,
            "top": null,
            "visibility": null,
            "width": "auto"
          }
        },
        "30eacfa2bbb342b8b35373bb5fd991c8": {
          "model_module": "@jupyter-widgets/controls",
          "model_name": "ButtonStyleModel",
          "model_module_version": "1.5.0",
          "state": {
            "_model_module": "@jupyter-widgets/controls",
            "_model_module_version": "1.5.0",
            "_model_name": "ButtonStyleModel",
            "_view_count": null,
            "_view_module": "@jupyter-widgets/base",
            "_view_module_version": "1.2.0",
            "_view_name": "StyleView",
            "button_color": null,
            "font_weight": ""
          }
        },
        "03b6a34f0d9f449aa7d663fce7b5ca72": {
          "model_module": "@jupyter-widgets/base",
          "model_name": "LayoutModel",
          "model_module_version": "1.2.0",
          "state": {
            "_model_module": "@jupyter-widgets/base",
            "_model_module_version": "1.2.0",
            "_model_name": "LayoutModel",
            "_view_count": null,
            "_view_module": "@jupyter-widgets/base",
            "_view_module_version": "1.2.0",
            "_view_name": "LayoutView",
            "align_content": null,
            "align_items": null,
            "align_self": null,
            "border": null,
            "bottom": null,
            "display": null,
            "flex": null,
            "flex_flow": null,
            "grid_area": "widget002",
            "grid_auto_columns": null,
            "grid_auto_flow": null,
            "grid_auto_rows": null,
            "grid_column": null,
            "grid_gap": null,
            "grid_row": null,
            "grid_template_areas": null,
            "grid_template_columns": null,
            "grid_template_rows": null,
            "height": "auto",
            "justify_content": null,
            "justify_items": null,
            "left": null,
            "margin": null,
            "max_height": null,
            "max_width": null,
            "min_height": null,
            "min_width": null,
            "object_fit": null,
            "object_position": null,
            "order": null,
            "overflow": null,
            "overflow_x": null,
            "overflow_y": null,
            "padding": null,
            "right": null,
            "top": null,
            "visibility": null,
            "width": "auto"
          }
        },
        "e4f9dd18799b45dfae0c3ac7b4ffdfa0": {
          "model_module": "@jupyter-widgets/controls",
          "model_name": "ButtonStyleModel",
          "model_module_version": "1.5.0",
          "state": {
            "_model_module": "@jupyter-widgets/controls",
            "_model_module_version": "1.5.0",
            "_model_name": "ButtonStyleModel",
            "_view_count": null,
            "_view_module": "@jupyter-widgets/base",
            "_view_module_version": "1.2.0",
            "_view_name": "StyleView",
            "button_color": null,
            "font_weight": ""
          }
        },
        "b5d0aef7217c4f73801142289bf74dd5": {
          "model_module": "@jupyter-widgets/base",
          "model_name": "LayoutModel",
          "model_module_version": "1.2.0",
          "state": {
            "_model_module": "@jupyter-widgets/base",
            "_model_module_version": "1.2.0",
            "_model_name": "LayoutModel",
            "_view_count": null,
            "_view_module": "@jupyter-widgets/base",
            "_view_module_version": "1.2.0",
            "_view_name": "LayoutView",
            "align_content": null,
            "align_items": null,
            "align_self": null,
            "border": null,
            "bottom": null,
            "display": null,
            "flex": null,
            "flex_flow": null,
            "grid_area": "widget003",
            "grid_auto_columns": null,
            "grid_auto_flow": null,
            "grid_auto_rows": null,
            "grid_column": null,
            "grid_gap": null,
            "grid_row": null,
            "grid_template_areas": null,
            "grid_template_columns": null,
            "grid_template_rows": null,
            "height": "30px",
            "justify_content": null,
            "justify_items": null,
            "left": null,
            "margin": null,
            "max_height": null,
            "max_width": null,
            "min_height": null,
            "min_width": null,
            "object_fit": null,
            "object_position": null,
            "order": null,
            "overflow": null,
            "overflow_x": null,
            "overflow_y": null,
            "padding": null,
            "right": null,
            "top": null,
            "visibility": null,
            "width": "auto"
          }
        },
        "a1c5e2478ede4ad182c46f63c87b174e": {
          "model_module": "@jupyter-widgets/controls",
          "model_name": "DescriptionStyleModel",
          "model_module_version": "1.5.0",
          "state": {
            "_model_module": "@jupyter-widgets/controls",
            "_model_module_version": "1.5.0",
            "_model_name": "DescriptionStyleModel",
            "_view_count": null,
            "_view_module": "@jupyter-widgets/base",
            "_view_module_version": "1.2.0",
            "_view_name": "StyleView",
            "description_width": ""
          }
        },
        "b23add9e48fa4602bc9b023a828127f7": {
          "model_module": "@jupyter-widgets/base",
          "model_name": "LayoutModel",
          "model_module_version": "1.2.0",
          "state": {
            "_model_module": "@jupyter-widgets/base",
            "_model_module_version": "1.2.0",
            "_model_name": "LayoutModel",
            "_view_count": null,
            "_view_module": "@jupyter-widgets/base",
            "_view_module_version": "1.2.0",
            "_view_name": "LayoutView",
            "align_content": null,
            "align_items": null,
            "align_self": null,
            "border": null,
            "bottom": null,
            "display": null,
            "flex": null,
            "flex_flow": null,
            "grid_area": "widget004",
            "grid_auto_columns": null,
            "grid_auto_flow": null,
            "grid_auto_rows": null,
            "grid_column": null,
            "grid_gap": null,
            "grid_row": null,
            "grid_template_areas": null,
            "grid_template_columns": null,
            "grid_template_rows": null,
            "height": "auto",
            "justify_content": null,
            "justify_items": null,
            "left": null,
            "margin": null,
            "max_height": null,
            "max_width": null,
            "min_height": null,
            "min_width": null,
            "object_fit": null,
            "object_position": null,
            "order": null,
            "overflow": null,
            "overflow_x": null,
            "overflow_y": null,
            "padding": null,
            "right": null,
            "top": null,
            "visibility": null,
            "width": "auto"
          }
        },
        "ddd5bc2816db4e39b3013d57d56a93eb": {
          "model_module": "@jupyter-widgets/controls",
          "model_name": "ButtonStyleModel",
          "model_module_version": "1.5.0",
          "state": {
            "_model_module": "@jupyter-widgets/controls",
            "_model_module_version": "1.5.0",
            "_model_name": "ButtonStyleModel",
            "_view_count": null,
            "_view_module": "@jupyter-widgets/base",
            "_view_module_version": "1.2.0",
            "_view_name": "StyleView",
            "button_color": null,
            "font_weight": ""
          }
        },
        "48a4eca9ccb0488887051c1ee48472a9": {
          "model_module": "@jupyter-widgets/base",
          "model_name": "LayoutModel",
          "model_module_version": "1.2.0",
          "state": {
            "_model_module": "@jupyter-widgets/base",
            "_model_module_version": "1.2.0",
            "_model_name": "LayoutModel",
            "_view_count": null,
            "_view_module": "@jupyter-widgets/base",
            "_view_module_version": "1.2.0",
            "_view_name": "LayoutView",
            "align_content": null,
            "align_items": null,
            "align_self": null,
            "border": null,
            "bottom": null,
            "display": null,
            "flex": null,
            "flex_flow": null,
            "grid_area": "widget005",
            "grid_auto_columns": null,
            "grid_auto_flow": null,
            "grid_auto_rows": null,
            "grid_column": null,
            "grid_gap": null,
            "grid_row": null,
            "grid_template_areas": null,
            "grid_template_columns": null,
            "grid_template_rows": null,
            "height": "30px",
            "justify_content": null,
            "justify_items": null,
            "left": null,
            "margin": null,
            "max_height": null,
            "max_width": null,
            "min_height": null,
            "min_width": null,
            "object_fit": null,
            "object_position": null,
            "order": null,
            "overflow": null,
            "overflow_x": null,
            "overflow_y": null,
            "padding": null,
            "right": null,
            "top": null,
            "visibility": null,
            "width": "auto"
          }
        },
        "dedd049ec5f74533a065b84cb31f1737": {
          "model_module": "@jupyter-widgets/controls",
          "model_name": "DescriptionStyleModel",
          "model_module_version": "1.5.0",
          "state": {
            "_model_module": "@jupyter-widgets/controls",
            "_model_module_version": "1.5.0",
            "_model_name": "DescriptionStyleModel",
            "_view_count": null,
            "_view_module": "@jupyter-widgets/base",
            "_view_module_version": "1.2.0",
            "_view_name": "StyleView",
            "description_width": ""
          }
        },
        "cbad8a94eab3444c8efe33fd8533745c": {
          "model_module": "@jupyter-widgets/base",
          "model_name": "LayoutModel",
          "model_module_version": "1.2.0",
          "state": {
            "_model_module": "@jupyter-widgets/base",
            "_model_module_version": "1.2.0",
            "_model_name": "LayoutModel",
            "_view_count": null,
            "_view_module": "@jupyter-widgets/base",
            "_view_module_version": "1.2.0",
            "_view_name": "LayoutView",
            "align_content": null,
            "align_items": null,
            "align_self": null,
            "border": null,
            "bottom": null,
            "display": null,
            "flex": null,
            "flex_flow": null,
            "grid_area": "widget006",
            "grid_auto_columns": null,
            "grid_auto_flow": null,
            "grid_auto_rows": null,
            "grid_column": null,
            "grid_gap": null,
            "grid_row": null,
            "grid_template_areas": null,
            "grid_template_columns": null,
            "grid_template_rows": null,
            "height": "auto",
            "justify_content": null,
            "justify_items": null,
            "left": null,
            "margin": null,
            "max_height": null,
            "max_width": null,
            "min_height": null,
            "min_width": null,
            "object_fit": null,
            "object_position": null,
            "order": null,
            "overflow": null,
            "overflow_x": null,
            "overflow_y": null,
            "padding": null,
            "right": null,
            "top": null,
            "visibility": null,
            "width": "auto"
          }
        },
        "c5eac150e9364d79a149adbf71f38f09": {
          "model_module": "@jupyter-widgets/controls",
          "model_name": "ButtonStyleModel",
          "model_module_version": "1.5.0",
          "state": {
            "_model_module": "@jupyter-widgets/controls",
            "_model_module_version": "1.5.0",
            "_model_name": "ButtonStyleModel",
            "_view_count": null,
            "_view_module": "@jupyter-widgets/base",
            "_view_module_version": "1.2.0",
            "_view_name": "StyleView",
            "button_color": null,
            "font_weight": ""
          }
        },
        "2cc665ae2c1040d998e12d3e21e70676": {
          "model_module": "@jupyter-widgets/base",
          "model_name": "LayoutModel",
          "model_module_version": "1.2.0",
          "state": {
            "_model_module": "@jupyter-widgets/base",
            "_model_module_version": "1.2.0",
            "_model_name": "LayoutModel",
            "_view_count": null,
            "_view_module": "@jupyter-widgets/base",
            "_view_module_version": "1.2.0",
            "_view_name": "LayoutView",
            "align_content": null,
            "align_items": null,
            "align_self": null,
            "border": null,
            "bottom": null,
            "display": null,
            "flex": null,
            "flex_flow": null,
            "grid_area": "widget007",
            "grid_auto_columns": null,
            "grid_auto_flow": null,
            "grid_auto_rows": null,
            "grid_column": null,
            "grid_gap": null,
            "grid_row": null,
            "grid_template_areas": null,
            "grid_template_columns": null,
            "grid_template_rows": null,
            "height": "30px",
            "justify_content": null,
            "justify_items": null,
            "left": null,
            "margin": null,
            "max_height": null,
            "max_width": null,
            "min_height": null,
            "min_width": null,
            "object_fit": null,
            "object_position": null,
            "order": null,
            "overflow": null,
            "overflow_x": null,
            "overflow_y": null,
            "padding": null,
            "right": null,
            "top": null,
            "visibility": null,
            "width": "auto"
          }
        },
        "1fc2021e85eb4ecba0dbe88d7bec2366": {
          "model_module": "@jupyter-widgets/controls",
          "model_name": "DescriptionStyleModel",
          "model_module_version": "1.5.0",
          "state": {
            "_model_module": "@jupyter-widgets/controls",
            "_model_module_version": "1.5.0",
            "_model_name": "DescriptionStyleModel",
            "_view_count": null,
            "_view_module": "@jupyter-widgets/base",
            "_view_module_version": "1.2.0",
            "_view_name": "StyleView",
            "description_width": ""
          }
        },
        "d52b665fdc4242f4b5e6de6852b34981": {
          "model_module": "@jupyter-widgets/base",
          "model_name": "LayoutModel",
          "model_module_version": "1.2.0",
          "state": {
            "_model_module": "@jupyter-widgets/base",
            "_model_module_version": "1.2.0",
            "_model_name": "LayoutModel",
            "_view_count": null,
            "_view_module": "@jupyter-widgets/base",
            "_view_module_version": "1.2.0",
            "_view_name": "LayoutView",
            "align_content": null,
            "align_items": null,
            "align_self": null,
            "border": null,
            "bottom": null,
            "display": null,
            "flex": null,
            "flex_flow": null,
            "grid_area": "widget008",
            "grid_auto_columns": null,
            "grid_auto_flow": null,
            "grid_auto_rows": null,
            "grid_column": null,
            "grid_gap": null,
            "grid_row": null,
            "grid_template_areas": null,
            "grid_template_columns": null,
            "grid_template_rows": null,
            "height": "auto",
            "justify_content": null,
            "justify_items": null,
            "left": null,
            "margin": null,
            "max_height": null,
            "max_width": null,
            "min_height": null,
            "min_width": null,
            "object_fit": null,
            "object_position": null,
            "order": null,
            "overflow": null,
            "overflow_x": null,
            "overflow_y": null,
            "padding": null,
            "right": null,
            "top": null,
            "visibility": null,
            "width": "auto"
          }
        },
        "725093d6fb3447e2939766047682a8bc": {
          "model_module": "@jupyter-widgets/controls",
          "model_name": "ButtonStyleModel",
          "model_module_version": "1.5.0",
          "state": {
            "_model_module": "@jupyter-widgets/controls",
            "_model_module_version": "1.5.0",
            "_model_name": "ButtonStyleModel",
            "_view_count": null,
            "_view_module": "@jupyter-widgets/base",
            "_view_module_version": "1.2.0",
            "_view_name": "StyleView",
            "button_color": null,
            "font_weight": ""
          }
        }
      }
    }
  },
  "cells": [
    {
      "cell_type": "markdown",
      "metadata": {
        "id": "view-in-github",
        "colab_type": "text"
      },
      "source": [
        "<a href=\"https://colab.research.google.com/github/jpmedras/inf450_2023-1/blob/main/Valgrind_Simulador_de_Cache.ipynb\" target=\"_parent\"><img src=\"https://colab.research.google.com/assets/colab-badge.svg\" alt=\"Open In Colab\"/></a>"
      ]
    },
    {
      "cell_type": "markdown",
      "metadata": {
        "id": "RAQEhS3SxSRw"
      },
      "source": [
        "# Trabalho com  Valgrind e  Simulação de Cache: **Cachegrind**\n",
        "\n",
        "* [Introdução ao Trabalho](https://youtu.be/NMGbFyh2Q78)\n"
      ]
    },
    {
      "cell_type": "markdown",
      "metadata": {
        "id": "F6dL1CPWLPp6"
      },
      "source": [
        "\n",
        "\n",
        "Este laboratório apresenta o uso da ferramenta cachegrind do ambiente Valgrind, [para maiores informações consulte aqui](https://valgrind.org/docs/manual/cg-manual.html)\n",
        "\n",
        "**Importante**:\n",
        "* A primeira execução do Cachegrind irá fazer a instalação da ferramenta e pode demorar um pouco mais.\n",
        "* Os laboratorios usam uma multiplicação de matrizes como exemplo. O tamanho da matriz cresce com  $O(N^2)$ e o tempo de execução com $O(N^3)$.\n",
        "* Os exemplos estão em C. Mas o Cachegrind trabalha sobre o executável e pode ser usado em qualquer binário.\n",
        "* Fique a vontade para contribuir. Qualquer dúvidas escreva para ricardo@ufv.br\n"
      ]
    },
    {
      "cell_type": "markdown",
      "metadata": {
        "id": "m6xj7BkeMOzf"
      },
      "source": [
        "## Inicialização\n",
        "\n",
        "Primeiro, configurar o laboratório."
      ]
    },
    {
      "cell_type": "code",
      "metadata": {
        "id": "mibTjp3bOJl_",
        "outputId": "8cb0a9b1-d52e-41c6-e947-b4dd0652e367",
        "colab": {
          "base_uri": "https://localhost:8080/",
          "height": 121
        }
      },
      "source": [
        "!pip install git+https://github.com/lesc-ufv/cad4u >& /dev/null\n",
        "!git clone https://github.com/lesc-ufv/cad4u >& /dev/null\n",
        "!apt-get install g++\n",
        "%load_ext plugin"
      ],
      "execution_count": 1,
      "outputs": [
        {
          "output_type": "stream",
          "name": "stdout",
          "text": [
            "Reading package lists... Done\n",
            "Building dependency tree       \n",
            "Reading state information... Done\n",
            "g++ is already the newest version (4:9.3.0-1ubuntu2).\n",
            "g++ set to manually installed.\n",
            "0 upgraded, 0 newly installed, 0 to remove and 15 not upgraded.\n"
          ]
        }
      ]
    },
    {
      "cell_type": "markdown",
      "metadata": {
        "id": "RKkT82syMVAR"
      },
      "source": [
        "# Cache de Dados\n",
        "\n",
        "Criamos a extensão **\\%\\%datacache**, onde um código em C pode ser adicionado e compilado, para depois ser executado com  **cachegrind**. A cache de instrução tem o default: 32K, linhas de 64 Bytes, 8-way. A cache LL (Last level Cache) tem tamanho default de\n",
        "58.720.256 Bytes, linhas de 64 Bytes, 28-way.\n",
        "\n",
        "Criamos uma interface amigável onde o usuário especifica os parametros da cache de dados. Depois basta clicar no  **Start Execution** para ter os resultados de falhas (miss) e da taxa de falhas (miss rate).\n",
        "\n",
        "Caso, voce execute mais de uma vez, os resultados ficam temporariamente na sessão para efeitos de comparação.\n"
      ]
    },
    {
      "cell_type": "code",
      "metadata": {
        "id": "couX8O_gzI0v",
        "colab": {
          "base_uri": "https://localhost:8080/",
          "height": 204,
          "referenced_widgets": [
            "838d215130b14b6eabf74276fffc8990",
            "e3cb22b0c7944e94b6b76627eef86b6a",
            "4249efa930204dfaa260ca5bb7a9a748",
            "b76cc7c3dec24f9c95cd070491daaf19",
            "b8631baecff841c1affe8da93d24e4d6",
            "50e8cb1f93fe432cb962084c5fe897b1",
            "7c54e50430c245bb896a320d7a05552f",
            "47bc422c48e144d2aa4647adfad113e7",
            "1533ab873e46463b9e157e8e1f153ae9",
            "21367351078e4beda4731a955a10b3f0",
            "5e8540cce4c64ed09a34c22fe3fd4a02",
            "0fecf8cb8fa4430d87a01a4c5a020717",
            "2233245997cf48849e7c9088734907c8",
            "b44a1944805f4107b20324bc8cada603",
            "dbb4306d81ef4c91bbb0655a1ea8d2d8",
            "02a5ea6619714df6b719e84eae03efe0",
            "ddb96b0ab4294bc0a95a1eacd4e2176a",
            "f90226e5fe394f4c85c0d9b8233a212d",
            "7fb9d4e2681c431995da4e0a101e4ff1",
            "41d9152845f04dd1adb80d5a0379cf0a",
            "2ccb17534bf94bfab4b7e9e29b7cb95b",
            "ef3e543071ca4b79ac35fb59149f3815",
            "fb77a686bfa342129687b528ffd90ec5",
            "922077b9c4dd45e981d2ee631571ef3c",
            "8aa8370e1f8040cea182c55a8aa483e9",
            "a0ae569f1f634de8a9048c83fc7f654d"
          ]
        },
        "outputId": "e4fea4f2-336d-469e-e7e8-09aa63fae711"
      },
      "source": [
        "%%datacache\n",
        "#include <stdio.h>\n",
        "#include <stdlib.h>\n",
        "\n",
        "int main(int argc, char const *argv[]) {\n",
        "\n",
        "  int n = 90;\n",
        "  char a[n][n], b[n][n], c[n][n];\n",
        "\n",
        "  int s = 0;\n",
        "  for (int i = 0; i < n; ++i) {\n",
        "      for (int j = 0; j < n; ++j) {\n",
        "        a[i][j] = i + j;\n",
        "        b[i][j] = i*2 + j;\n",
        "      }\n",
        "  }\n",
        "\n",
        "  int temp;\n",
        "  for (int i = 0; i < n; ++i) {\n",
        "      for (int j = 0; j < n; ++j) {\n",
        "          temp = 0;\n",
        "          for (int k = 0; k < n; ++k) {\n",
        "              temp += a[i][k] * b[k][j];\n",
        "          }\n",
        "          c[i][j] = temp;\n",
        "      }\n",
        "  }\n",
        "\n",
        "  return 0;\n",
        "}"
      ],
      "execution_count": 2,
      "outputs": [
        {
          "output_type": "stream",
          "name": "stdout",
          "text": [
            "Installing. Please wait... done!\n"
          ]
        },
        {
          "output_type": "display_data",
          "data": {
            "text/plain": [
              "GridspecLayout(children=(Button(button_style='warning', description='Data Cache', layout=Layout(grid_area='wid…"
            ],
            "application/vnd.jupyter.widget-view+json": {
              "version_major": 2,
              "version_minor": 0,
              "model_id": "838d215130b14b6eabf74276fffc8990"
            }
          },
          "metadata": {}
        }
      ]
    },
    {
      "cell_type": "markdown",
      "metadata": {
        "id": "By0nurvCHgFx"
      },
      "source": [
        "## Outros Resultados\n",
        "\n",
        "Cada simulação irá criar um arquivo temporário com o número do processo **cachegrind.out.**\\<NumeroProcesso\\>.\n",
        "\n",
        "O comando abaixo lista as execuções que já foram realizadas."
      ]
    },
    {
      "cell_type": "code",
      "metadata": {
        "id": "sXQT2nBoHmyw",
        "colab": {
          "base_uri": "https://localhost:8080/"
        },
        "outputId": "a97580ad-25cc-486c-d370-3d6285243042"
      },
      "source": [
        "!ls -la cachegrind*"
      ],
      "execution_count": 3,
      "outputs": [
        {
          "output_type": "stream",
          "name": "stdout",
          "text": [
            "ls: cannot access 'cachegrind*': No such file or directory\n"
          ]
        }
      ]
    },
    {
      "cell_type": "code",
      "metadata": {
        "id": "2JPEjQ4gH_U7",
        "colab": {
          "base_uri": "https://localhost:8080/"
        },
        "outputId": "35860909-d0ae-4cf6-fcc2-0b3fbf993033"
      },
      "source": [
        "# Podemos listar o arquivo, mas o arquivo é grande 120K, tem muitas informações\n",
        "# Abaixo um exemplo (adaptar para o seu numero de processo) para ver apenas os tamanhos das caches.\n",
        "!grep desc cachegrind.out.1063"
      ],
      "execution_count": 4,
      "outputs": [
        {
          "output_type": "stream",
          "name": "stdout",
          "text": [
            "grep: cachegrind.out.1063: No such file or directory\n"
          ]
        }
      ]
    },
    {
      "cell_type": "markdown",
      "source": [
        "# Parte I"
      ],
      "metadata": {
        "id": "sLvqOhLg1E06"
      }
    },
    {
      "cell_type": "code",
      "source": [
        "# Digitar a lista das matriculas\n",
        "\n",
        "Mat = [105460, 105463, 105466, 105468, 105475]"
      ],
      "metadata": {
        "id": "TT0cP1g91HxG"
      },
      "execution_count": 5,
      "outputs": []
    },
    {
      "cell_type": "code",
      "source": [
        "#@title Gerando a parte I - Tem que **EXECUTAR ESTA CÉLULA !!!**\n",
        "L = [ [\"Cache 2k, Matrix 20x20, 60x60, 90x90 \"],[\"Cache 4k, Matrix 40x40, 60x60, 120x120\"],[\"Cache 2k, Matrix 15x15, 50x50, 100x100. \"],\n",
        " [\"Cache 4k, Matrix 30x30, 60x60, 110x110\"],[\"Cache 8k, Matrix 50x50, 100x100, 150x150.\"],[\"Cache 16k, Matrix 80x80, 160x160, 320x320\"]]\n",
        "\n",
        "D = {}\n",
        "print(\"Faça os testes usando estes tamanhos: \",L[(sum(Mat)//197)%len(L)])"
      ],
      "metadata": {
        "colab": {
          "base_uri": "https://localhost:8080/"
        },
        "id": "HeHFDrRw1O7z",
        "outputId": "3fd0f46f-7ca1-4383-a202-e0fee6b01062"
      },
      "execution_count": 6,
      "outputs": [
        {
          "output_type": "stream",
          "name": "stdout",
          "text": [
            "Faça os testes usando estes tamanhos:  ['Cache 2k, Matrix 20x20, 60x60, 90x90 ']\n"
          ]
        }
      ]
    },
    {
      "cell_type": "markdown",
      "source": [
        "\n",
        "\n",
        "Fazer três versões da multiplicação de Matrizes\n",
        "\n",
        "###**a.** Exemplo Anterior\n",
        "\n",
        "###**b.** Armazenar B na forma transposta para reduzir as falhas no acesso por coluna\n",
        "\n",
        "###**c.** Fazer a versão com Tile que seja o maior possivel que possa estar armazenado na Cache.\n",
        "\n",
        "Não considerar as falhas de inicialização.\n",
        "\n",
        "1. Mantendo o tamanho da cache. A associatividade faz diferença para alguma das três versões em relação a taxa de falhas? Execute para três tamanhos diferentes de matrizes (menor ou igual, maior que a cache) para as três versões e mostre na forma gráfica. Explique os resultados.\n",
        "\n",
        "2. Mantendo o tamanho da cache. O tamanho do bloco faz diferença para alguma das três versões em relação a taxa de falhas? Explique os resultados e mostre na forma gráfica."
      ],
      "metadata": {
        "id": "9SZoZZ-7b-Rx"
      }
    },
    {
      "cell_type": "markdown",
      "source": [
        "## Parte A"
      ],
      "metadata": {
        "id": "ZTyzPgUTyOiB"
      }
    },
    {
      "cell_type": "code",
      "metadata": {
        "colab": {
          "base_uri": "https://localhost:8080/",
          "height": 187,
          "referenced_widgets": [
            "2fe7b9490cc54508b1b0b420a99e692c",
            "e8f5b68a4ce74285a8cca58f5188b763",
            "27d2351749f841388d2a96669c6c6bee",
            "56bf963e42e845d89e320d3c9ead732c",
            "36ed7bb071a046ac97b5e7f94ee92687",
            "d578c1e303b84f09b32269e31236ac57",
            "7e99047acfda4440a3780715db7633c9",
            "e84cf7961e8a4037ad453b6058862707",
            "37275a1da459429dad89e19569afbb3d",
            "a0a01ed1d6f1446e97bdada0d7b7d6a6",
            "6a7c588af2fd40ee93b5a4e2367c9377",
            "6ec4e1ef45eb45a591218d5cc6a024dc",
            "d18f56a682674a32b422047f9d04c5a1",
            "a75561c862714960b2a19c6db151b50f",
            "1fb5da5150104b768ba0030c8dfcf3fc",
            "ca0cd95bd59d4899babfc576529356ad",
            "5c722ae7ceed499482da1409f5f064f9",
            "fd7705d844f54ba0bb087ab97c08f0f8",
            "67c90960ee094a4887bc4b4d07fae125",
            "49e5853628b24dcd9de457ea8252f85b",
            "595c3bdf6d624c1e81fdb915799cf6ed",
            "e55cbd59b32c4265ab82c8c54be92267",
            "2cb3c8c262644576835cd7a1a55d962e",
            "4ff1924b158e4190ac574b6e58f9db3b",
            "db2ca6081c594fe29bd31673a40d94e5",
            "31ac6c350c39473793358b8250969573"
          ]
        },
        "outputId": "9a018ef8-cdf7-40c3-8a3c-ffa0e6907ec0",
        "id": "ZItwM8qVySx9"
      },
      "source": [
        "%%datacache\n",
        "#include <stdio.h>\n",
        "#include <stdlib.h>\n",
        "\n",
        "int main(int argc, char const *argv[]) {\n",
        "\n",
        "  int n = 90;\n",
        "  char a[n][n], b[n][n], c[n][n];\n",
        "\n",
        "  // for (int i = 0; i < n; ++i) {\n",
        "  //      for (int j = 0; j < n; ++j) {\n",
        "  //        a[i][j] = i + j;\n",
        "  //        b[i][j] = i*2 + j;\n",
        "  //        c[i][j] = 0;\n",
        "  //      }\n",
        "  // }\n",
        "\n",
        "  for (int i = 0; i < n; ++i) {\n",
        "      for (int j = 0; j < n; ++j) {\n",
        "          for (int k = 0; k < n; ++k) {\n",
        "              c[i][j] += a[i][k] * b[k][j];\n",
        "          }\n",
        "      }\n",
        "  }\n",
        "\n",
        "  return 0;\n",
        "}"
      ],
      "execution_count": 7,
      "outputs": [
        {
          "output_type": "display_data",
          "data": {
            "text/plain": [
              "GridspecLayout(children=(Button(button_style='warning', description='Data Cache', layout=Layout(grid_area='wid…"
            ],
            "application/vnd.jupyter.widget-view+json": {
              "version_major": 2,
              "version_minor": 0,
              "model_id": "2fe7b9490cc54508b1b0b420a99e692c"
            }
          },
          "metadata": {}
        }
      ]
    },
    {
      "cell_type": "markdown",
      "source": [
        "### Associative"
      ],
      "metadata": {
        "id": "qXMpQqUL6n5r"
      }
    },
    {
      "cell_type": "code",
      "source": [
        "#@title Size=20\n",
        "import matplotlib.pyplot as plt\n",
        "\n",
        "x = ['1', '4', '16']\n",
        "y = [7613, 4234, 4128]\n",
        "\n",
        "# Espessura das barras\n",
        "width = 0.5\n",
        "\n",
        "# Plotar o gráfico de barras\n",
        "plt.bar(x, y, width=width)\n",
        "\n",
        "# Definir rótulos e título\n",
        "plt.xlabel('Line (Bytes)')\n",
        "plt.ylabel('Misses')\n",
        "plt.title('Misses by associative')\n",
        "\n",
        "# Definir margem para o intervalo de variação dos valores em y\n",
        "margin = 0.01 * max(y)\n",
        "\n",
        "# Definir os limites do eixo y com margem\n",
        "plt.ylim(min(y) - margin, max(y) + margin)\n",
        "\n",
        "# Exibir o gráfico\n",
        "plt.show()"
      ],
      "metadata": {
        "outputId": "913c36f8-c6dc-4108-93be-da975b8c490f",
        "colab": {
          "base_uri": "https://localhost:8080/",
          "height": 472
        },
        "id": "Cn1E2ZzW6n6B"
      },
      "execution_count": 8,
      "outputs": [
        {
          "output_type": "display_data",
          "data": {
            "text/plain": [
              "<Figure size 640x480 with 1 Axes>"
            ],
            "image/png": "[encoded data removed]"
          },
          "metadata": {}
        }
      ]
    },
    {
      "cell_type": "code",
      "source": [
        "#@title Size=60\n",
        "import matplotlib.pyplot as plt\n",
        "\n",
        "x = ['1', '4', '16']\n",
        "y = [50865, 27896, 5172]\n",
        "\n",
        "# Espessura das barras\n",
        "width = 0.5\n",
        "\n",
        "# Plotar o gráfico de barras\n",
        "plt.bar(x, y, width=width)\n",
        "\n",
        "# Definir rótulos e título\n",
        "plt.xlabel('Line (Bytes)')\n",
        "plt.ylabel('Misses')\n",
        "plt.title('Misses by associative')\n",
        "\n",
        "# Definir margem para o intervalo de variação dos valores em y\n",
        "margin = 0.01 * max(y)\n",
        "\n",
        "# Definir os limites do eixo y com margem\n",
        "plt.ylim(min(y) - margin, max(y) + margin)\n",
        "\n",
        "# Exibir o gráfico\n",
        "plt.show()"
      ],
      "metadata": {
        "colab": {
          "base_uri": "https://localhost:8080/",
          "height": 472
        },
        "outputId": "76d610ca-6ad6-4525-c936-3aab8f631400",
        "id": "tDLNPlfd6n6C"
      },
      "execution_count": 9,
      "outputs": [
        {
          "output_type": "display_data",
          "data": {
            "text/plain": [
              "<Figure size 640x480 with 1 Axes>"
            ],
            "image/png": "[encoded data removed]"
          },
          "metadata": {}
        }
      ]
    },
    {
      "cell_type": "code",
      "source": [
        "#@title Size=90\n",
        "import matplotlib.pyplot as plt\n",
        "\n",
        "x = ['1', '4', '16']\n",
        "y = [194208, 38300, 27573]\n",
        "\n",
        "# Espessura das barras\n",
        "width = 0.5\n",
        "\n",
        "# Plotar o gráfico de barras\n",
        "plt.bar(x, y, width=width)\n",
        "\n",
        "# Definir rótulos e título\n",
        "plt.xlabel('Line (Bytes)')\n",
        "plt.ylabel('Misses')\n",
        "plt.title('Misses by associative')\n",
        "\n",
        "# Definir margem para o intervalo de variação dos valores em y\n",
        "margin = 0.01 * max(y)\n",
        "\n",
        "# Definir os limites do eixo y com margem\n",
        "plt.ylim(min(y) - margin, max(y) + margin)\n",
        "\n",
        "# Exibir o gráfico\n",
        "plt.show()"
      ],
      "metadata": {
        "outputId": "36f188b1-7450-49e4-e614-2bd9257807f0",
        "colab": {
          "base_uri": "https://localhost:8080/",
          "height": 472
        },
        "id": "ey9neehP6n6E"
      },
      "execution_count": 10,
      "outputs": [
        {
          "output_type": "display_data",
          "data": {
            "text/plain": [
              "<Figure size 640x480 with 1 Axes>"
            ],
            "image/png": "[encoded data removed]"
          },
          "metadata": {}
        }
      ]
    },
    {
      "cell_type": "markdown",
      "source": [
        "### Line (Bytes)"
      ],
      "metadata": {
        "id": "vIPTCnoa5sJd"
      }
    },
    {
      "cell_type": "code",
      "source": [
        "#@title Size=20\n",
        "import matplotlib.pyplot as plt\n",
        "\n",
        "x = ['32', '64', '128']\n",
        "y = [7613, 7212, 7004]\n",
        "\n",
        "# Espessura das barras\n",
        "width = 0.5\n",
        "\n",
        "# Plotar o gráfico de barras\n",
        "plt.bar(x, y, width=width)\n",
        "\n",
        "# Definir rótulos e título\n",
        "plt.xlabel('Line (Bytes)')\n",
        "plt.ylabel('Misses')\n",
        "plt.title('Misses by line size')\n",
        "\n",
        "# Definir margem para o intervalo de variação dos valores em y\n",
        "margin = 0.01 * max(y)\n",
        "\n",
        "# Definir os limites do eixo y com margem\n",
        "plt.ylim(min(y) - margin, max(y) + margin)\n",
        "\n",
        "# Exibir o gráfico\n",
        "plt.show()"
      ],
      "metadata": {
        "colab": {
          "base_uri": "https://localhost:8080/",
          "height": 472
        },
        "id": "EVlXDa8y3v4s",
        "outputId": "77a509c5-bdc5-468c-b2bc-3249d11665c6"
      },
      "execution_count": 11,
      "outputs": [
        {
          "output_type": "display_data",
          "data": {
            "text/plain": [
              "<Figure size 640x480 with 1 Axes>"
            ],
            "image/png": "[encoded data removed]"
          },
          "metadata": {}
        }
      ]
    },
    {
      "cell_type": "code",
      "source": [
        "#@title Size=60\n",
        "import matplotlib.pyplot as plt\n",
        "\n",
        "x = ['32', '64', '128']\n",
        "y = [50865, 71789, 81966]\n",
        "\n",
        "# Espessura das barras\n",
        "width = 0.5\n",
        "\n",
        "# Plotar o gráfico de barras\n",
        "plt.bar(x, y, width=width)\n",
        "\n",
        "# Definir rótulos e título\n",
        "plt.xlabel('Line (Bytes)')\n",
        "plt.ylabel('Misses')\n",
        "plt.title('Misses by line size')\n",
        "\n",
        "# Definir margem para o intervalo de variação dos valores em y\n",
        "margin = 0.01 * max(y)\n",
        "\n",
        "# Definir os limites do eixo y com margem\n",
        "plt.ylim(min(y) - margin, max(y) + margin)\n",
        "\n",
        "# Exibir o gráfico\n",
        "plt.show()"
      ],
      "metadata": {
        "colab": {
          "base_uri": "https://localhost:8080/",
          "height": 472
        },
        "id": "O-Wx0xeE6BJ0",
        "outputId": "41067369-d2b4-4079-8d32-ea987b3d1301"
      },
      "execution_count": 12,
      "outputs": [
        {
          "output_type": "display_data",
          "data": {
            "text/plain": [
              "<Figure size 640x480 with 1 Axes>"
            ],
            "image/png": "[encoded data removed]"
          },
          "metadata": {}
        }
      ]
    },
    {
      "cell_type": "code",
      "source": [
        "#@title Size=90\n",
        "import matplotlib.pyplot as plt\n",
        "\n",
        "x = ['32', '64', '128']\n",
        "y = [194208, 638652, 772674]\n",
        "\n",
        "# Espessura das barras\n",
        "width = 0.5\n",
        "\n",
        "# Plotar o gráfico de barras\n",
        "plt.bar(x, y, width=width)\n",
        "\n",
        "# Definir rótulos e título\n",
        "plt.xlabel('Line (Bytes)')\n",
        "plt.ylabel('Misses')\n",
        "plt.title('Misses by line size')\n",
        "\n",
        "# Definir margem para o intervalo de variação dos valores em y\n",
        "margin = 0.01 * max(y)\n",
        "\n",
        "# Definir os limites do eixo y com margem\n",
        "plt.ylim(min(y) - margin, max(y) + margin)\n",
        "\n",
        "# Exibir o gráfico\n",
        "plt.show()"
      ],
      "metadata": {
        "colab": {
          "base_uri": "https://localhost:8080/",
          "height": 472
        },
        "id": "JHHpD3mk6HQe",
        "outputId": "8f46f0cb-21d6-4d7a-c892-b171b7793446"
      },
      "execution_count": 13,
      "outputs": [
        {
          "output_type": "display_data",
          "data": {
            "text/plain": [
              "<Figure size 640x480 with 1 Axes>"
            ],
            "image/png": "[encoded data removed]"
          },
          "metadata": {}
        }
      ]
    },
    {
      "cell_type": "markdown",
      "source": [
        "## Parte B"
      ],
      "metadata": {
        "id": "diNOlCqDyQD1"
      }
    },
    {
      "cell_type": "code",
      "source": [
        "%%datacache\n",
        "#include <stdio.h>\n",
        "#include <stdlib.h>\n",
        "\n",
        "int main(int argc, char const *argv[]) {\n",
        "\n",
        "  int n = 90;\n",
        "  char a[n][n], b[n][n], c[n][n];\n",
        "\n",
        "  // for (int i = 0; i < n; ++i) {\n",
        "  //     for (int j = 0; j < n; ++j) {\n",
        "  //       a[i][j] = i + j;\n",
        "  //       b[j][i] = i*2 + j;\n",
        "  //       c[i][j] = 0;\n",
        "  //     }\n",
        "  // }\n",
        "\n",
        "  for (int i = 0; i < n; ++i) {\n",
        "      for (int j = 0; j < n; ++j) {\n",
        "          for (int k = 0; k < n; ++k) {\n",
        "              c[i][j] += a[i][k] * b[j][k];\n",
        "          }\n",
        "      }\n",
        "  }\n",
        "\n",
        "  return 0;\n",
        "}"
      ],
      "metadata": {
        "colab": {
          "base_uri": "https://localhost:8080/",
          "height": 187,
          "referenced_widgets": [
            "def91ebe1b41427a9cc81c85c8966e26",
            "f65daad947bd42e5b3780b853a35de0a",
            "d2c05b26d0d4425ba0e907404699a93c",
            "d70bd0597b4c4723be18bf4ae51579ee",
            "c527c39bc64745068484ca9c9382395d",
            "35a453bf5fd849db8358d775f03e7a5e",
            "2abf51c81db5441d9562a943a84115cd",
            "4facbe3f81774f1896a10d9a45cf06fa",
            "d2bc19f52d134d4eb456a382773862a8",
            "67b9c4662b504189b8e8db10578ba473",
            "1712244f33ca4e9fbf4513c1c2d51812",
            "4e1a734a807241c89a1307d1c5773f84",
            "aa075e7377ec4e24842a05f33a652f59",
            "49c944c10cf3450db92e885b9ef3676d",
            "0d7d84c12c19464fae769b4e977461bf",
            "f1323c3069a541428481f40a345bc26c",
            "0925185a60134e7fab3763d6e64bc788",
            "9f12eb4d16ed4bc3bcda7832bbfac1e2",
            "09d02855434e42a680ee61abab6bf579",
            "2434438c58d04670aab5a7d47d31e2be",
            "862dbc0e819c42a4afde22d4a1c3b0a9",
            "a5d6bb21c9db4ff5a4b946fdbb84e72e",
            "02704ac5c50b4f779b74f863a3618443",
            "6f3d42504daa4261917bb54a2d322153",
            "2fa7ed90e83444c5a73d1d5d70696ebf",
            "6c17fb86980b4ca7a360473f53813489"
          ]
        },
        "id": "0YJb5-j2zVs2",
        "outputId": "96b632d2-ac5b-4934-f74d-39ba433e739b"
      },
      "execution_count": 14,
      "outputs": [
        {
          "output_type": "display_data",
          "data": {
            "text/plain": [
              "GridspecLayout(children=(Button(button_style='warning', description='Data Cache', layout=Layout(grid_area='wid…"
            ],
            "application/vnd.jupyter.widget-view+json": {
              "version_major": 2,
              "version_minor": 0,
              "model_id": "def91ebe1b41427a9cc81c85c8966e26"
            }
          },
          "metadata": {}
        }
      ]
    },
    {
      "cell_type": "markdown",
      "source": [
        "# Associative\n",
        "size=2\n",
        "line=32\n",
        "\n",
        "#### 20\n",
        "associative = ['1', '4', '16'] misses = [7611, 4232, 4124]\n",
        "\n",
        "#### 60\n",
        "associative = ['1', '4', '16'] misses = [57892, 6986 , 6090]\n",
        "\n",
        "#### 90\n",
        "associative = ['1', '4', '16'] misses = [204352, 28622, 28320]\n",
        "\n",
        "# Line\n",
        "size=2 associative=1\n",
        "\n",
        "#### 20\n",
        "line = ['32', '64', '128'] misses = [7611, 7213, 7004]\n",
        "\n",
        "#### 60\n",
        "line = ['32', '64', '128'] misses = [57892, 90578, 125968]\n",
        "\n",
        "#### 90\n",
        "line = ['32', '64', '128'] misses = [204352, 309374, 470653]"
      ],
      "metadata": {
        "id": "5fxEeAQ5OR2K"
      }
    },
    {
      "cell_type": "markdown",
      "source": [
        "### Associative"
      ],
      "metadata": {
        "id": "j0jB6DyAR0sr"
      }
    },
    {
      "cell_type": "code",
      "source": [
        "#@title Size=20\n",
        "import matplotlib.pyplot as plt\n",
        "\n",
        "associative = ['1', '4', '16']\n",
        "misses = [7613, 4234, 4128]\n",
        "\n",
        "# Espessura das barras\n",
        "width = 0.5\n",
        "\n",
        "# Plotar o gráfico de barras\n",
        "plt.bar(x, y, width=width)\n",
        "\n",
        "# Definir rótulos e título\n",
        "plt.xlabel('Line (Bytes)')\n",
        "plt.ylabel('Misses')\n",
        "plt.title('Misses by associative')\n",
        "\n",
        "# Definir margem para o intervalo de variação dos valores em y\n",
        "margin = 0.01 * max(y)\n",
        "\n",
        "# Definir os limites do eixo y com margem\n",
        "plt.ylim(min(y) - margin, max(y) + margin)\n",
        "\n",
        "# Exibir o gráfico\n",
        "plt.show()"
      ],
      "metadata": {
        "id": "YFC5xFsNRzQr",
        "outputId": "52c96a45-91b5-4abf-e67b-e5b9048aa7fc",
        "colab": {
          "base_uri": "https://localhost:8080/",
          "height": 472
        }
      },
      "execution_count": 15,
      "outputs": [
        {
          "output_type": "display_data",
          "data": {
            "text/plain": [
              "<Figure size 640x480 with 1 Axes>"
            ],
            "image/png": "[encoded data removed]"
          },
          "metadata": {}
        }
      ]
    },
    {
      "cell_type": "code",
      "source": [
        "#@title Size=60\n",
        "import matplotlib.pyplot as plt\n",
        "\n",
        "associative = ['1', '4', '16']\n",
        "misses = [45411, 5979, 5496]\n",
        "\n",
        "# Espessura das barras\n",
        "width = 0.5\n",
        "\n",
        "# Plotar o gráfico de barras\n",
        "plt.bar(x, y, width=width)\n",
        "\n",
        "# Definir rótulos e título\n",
        "plt.xlabel('Line (Bytes)')\n",
        "plt.ylabel('Misses')\n",
        "plt.title('Misses by associative')\n",
        "\n",
        "# Definir margem para o intervalo de variação dos valores em y\n",
        "margin = 0.01 * max(y)\n",
        "\n",
        "# Definir os limites do eixo y com margem\n",
        "plt.ylim(min(y) - margin, max(y) + margin)\n",
        "\n",
        "# Exibir o gráfico\n",
        "plt.show()"
      ],
      "metadata": {
        "id": "5BCvt_CCR-l-",
        "outputId": "a29cabae-ef53-4bf3-a385-ed4ac443ea48",
        "colab": {
          "base_uri": "https://localhost:8080/",
          "height": 472
        }
      },
      "execution_count": 16,
      "outputs": [
        {
          "output_type": "display_data",
          "data": {
            "text/plain": [
              "<Figure size 640x480 with 1 Axes>"
            ],
            "image/png": "[encoded data removed]"
          },
          "metadata": {}
        }
      ]
    },
    {
      "cell_type": "code",
      "source": [
        "#@title Size=90\n",
        "import matplotlib.pyplot as plt\n",
        "\n",
        "associative = ['1', '4', '16']\n",
        "misses = [164240, 27604, 27489]\n",
        "\n",
        "# Espessura das barras\n",
        "width = 0.5\n",
        "\n",
        "# Plotar o gráfico de barras\n",
        "plt.bar(x, y, width=width)\n",
        "\n",
        "# Definir rótulos e título\n",
        "plt.xlabel('Line (Bytes)')\n",
        "plt.ylabel('Misses')\n",
        "plt.title('Misses by associative')\n",
        "\n",
        "# Definir margem para o intervalo de variação dos valores em y\n",
        "margin = 0.01 * max(y)\n",
        "\n",
        "# Definir os limites do eixo y com margem\n",
        "plt.ylim(min(y) - margin, max(y) + margin)\n",
        "\n",
        "# Exibir o gráfico\n",
        "plt.show()"
      ],
      "metadata": {
        "id": "FxTj9GPhSJuu",
        "outputId": "7b62e8e9-ae09-4ec1-a04a-b3c0edb6ebd7",
        "colab": {
          "base_uri": "https://localhost:8080/",
          "height": 472
        }
      },
      "execution_count": 17,
      "outputs": [
        {
          "output_type": "display_data",
          "data": {
            "text/plain": [
              "<Figure size 640x480 with 1 Axes>"
            ],
            "image/png": "[encoded data removed]"
          },
          "metadata": {}
        }
      ]
    },
    {
      "cell_type": "markdown",
      "source": [
        "### Lines (Bytes)"
      ],
      "metadata": {
        "id": "SGehgQS_SipN"
      }
    },
    {
      "cell_type": "code",
      "source": [
        "#@title Size=20\n",
        "import matplotlib.pyplot as plt\n",
        "\n",
        "line = ['32', '64', '128']\n",
        "misses = [7613, 7212, 7004]\n",
        "\n",
        "# Espessura das barras\n",
        "width = 0.5\n",
        "\n",
        "# Plotar o gráfico de barras\n",
        "plt.bar(x, y, width=width)\n",
        "\n",
        "# Definir rótulos e título\n",
        "plt.xlabel('Line (Bytes)')\n",
        "plt.ylabel('Misses')\n",
        "plt.title('Misses by associative')\n",
        "\n",
        "# Definir margem para o intervalo de variação dos valores em y\n",
        "margin = 0.01 * max(y)\n",
        "\n",
        "# Definir os limites do eixo y com margem\n",
        "plt.ylim(min(y) - margin, max(y) + margin)\n",
        "\n",
        "# Exibir o gráfico\n",
        "plt.show()"
      ],
      "metadata": {
        "id": "hkTU1cg_SkTu",
        "outputId": "3f409383-12b2-4099-f921-9820a25cd0bc",
        "colab": {
          "base_uri": "https://localhost:8080/",
          "height": 472
        }
      },
      "execution_count": 18,
      "outputs": [
        {
          "output_type": "display_data",
          "data": {
            "text/plain": [
              "<Figure size 640x480 with 1 Axes>"
            ],
            "image/png": "[encoded data removed]"
          },
          "metadata": {}
        }
      ]
    },
    {
      "cell_type": "code",
      "source": [
        "#@title Size=60\n",
        "import matplotlib.pyplot as plt\n",
        "\n",
        "line = ['32', '64', '128']\n",
        "misses = [45411, 66577, 79244]\n",
        "\n",
        "# Espessura das barras\n",
        "width = 0.5\n",
        "\n",
        "# Plotar o gráfico de barras\n",
        "plt.bar(x, y, width=width)\n",
        "\n",
        "# Definir rótulos e título\n",
        "plt.xlabel('Line (Bytes)')\n",
        "plt.ylabel('Misses')\n",
        "plt.title('Misses by line size')\n",
        "\n",
        "# Definir margem para o intervalo de variação dos valores em y\n",
        "margin = 0.01 * max(y)\n",
        "\n",
        "# Definir os limites do eixo y com margem\n",
        "plt.ylim(min(y) - margin, max(y) + margin)\n",
        "\n",
        "# Exibir o gráfico\n",
        "plt.show()"
      ],
      "metadata": {
        "id": "5_V_yUFjTDFH",
        "outputId": "86585c25-3d8c-4e05-d5ee-76b37430e0b3",
        "colab": {
          "base_uri": "https://localhost:8080/",
          "height": 472
        }
      },
      "execution_count": 19,
      "outputs": [
        {
          "output_type": "display_data",
          "data": {
            "text/plain": [
              "<Figure size 640x480 with 1 Axes>"
            ],
            "image/png": "[encoded data removed]"
          },
          "metadata": {}
        }
      ]
    },
    {
      "cell_type": "code",
      "source": [
        "#@title Size=90\n",
        "import matplotlib.pyplot as plt\n",
        "\n",
        "line = ['32', '64', '128']\n",
        "misses = [164240, 229631, 309684]\n",
        "\n",
        "# Espessura das barras\n",
        "width = 0.5\n",
        "\n",
        "# Plotar o gráfico de barras\n",
        "plt.bar(x, y, width=width)\n",
        "\n",
        "# Definir rótulos e título\n",
        "plt.xlabel('Line (Bytes)')\n",
        "plt.ylabel('Misses')\n",
        "plt.title('Misses by line size')\n",
        "\n",
        "# Definir margem para o intervalo de variação dos valores em y\n",
        "margin = 0.01 * max(y)\n",
        "\n",
        "# Definir os limites do eixo y com margem\n",
        "plt.ylim(min(y) - margin, max(y) + margin)\n",
        "\n",
        "# Exibir o gráfico\n",
        "plt.show()"
      ],
      "metadata": {
        "id": "ePCw3t_9TXmh",
        "outputId": "679c6493-c00c-4e1a-c88b-ecd0fa84b335",
        "colab": {
          "base_uri": "https://localhost:8080/",
          "height": 472
        }
      },
      "execution_count": 20,
      "outputs": [
        {
          "output_type": "display_data",
          "data": {
            "text/plain": [
              "<Figure size 640x480 with 1 Axes>"
            ],
            "image/png": "[encoded data removed]"
          },
          "metadata": {}
        }
      ]
    },
    {
      "cell_type": "markdown",
      "source": [
        "## Parte C"
      ],
      "metadata": {
        "id": "ZA70l6K3yRQn"
      }
    },
    {
      "cell_type": "code",
      "source": [
        "%%datacache\n",
        "#include <stdio.h>\n",
        "#include <stdlib.h>\n",
        "\n",
        "int main(int argc, char const *argv[]) {\n",
        "\n",
        "  int n = 90;\n",
        "  char a[n][n], b[n][n], c[n][n];\n",
        "  int tilesize=8;\n",
        "\n",
        "  // for (int i = 0; i < n; ++i) {\n",
        "  //     for (int j = 0; j < n; ++j) {\n",
        "  //       a[i][j] = i + j;\n",
        "  //       b[i][j] = i*2 + j;\n",
        "  //       c[i][j] = 0;\n",
        "  //     }\n",
        "  // }\n",
        "\n",
        "  for (int ih = 0; ih < n; ih += tilesize) {                         ///\\lilabel{block_loop_i}\n",
        "    for (int jh = 0; jh < n; jh += tilesize) {                       ///\\lilabel{block_loop_k}\n",
        "      for (int kh = 0; kh < n; kh += tilesize) {                     ///\\lilabel{block_loop_j}\n",
        "        for (int il = 0; il < tilesize; ++il) {                      ///\\lilabel{base_loop_i}\n",
        "          for (int kl = 0; kl < tilesize; ++kl) {                    ///\\lilabel{base_loop_k}\n",
        "            for (int jl = 0; jl < tilesize; ++jl) {                  ///\\lilabel{base_loop_j}\n",
        "              c[ih+il][jh+jl] += a[ih+il][kh+kl] * b[kh+kl][jh+jl];  ///\\lilabel{base_multiply}\n",
        "        } } }\n",
        "      }\n",
        "    }\n",
        "  }\n",
        "\n",
        "  return 0;\n",
        "}"
      ],
      "metadata": {
        "colab": {
          "base_uri": "https://localhost:8080/",
          "height": 187,
          "referenced_widgets": [
            "072a97a46c7346d49a1e1388539d7f3f",
            "c987b0772435431a87b3bacd93824706",
            "1ba91c5c2e134bbea48bb74e87ecad5a",
            "7bee82225dd540dc909f638e11562c34",
            "32bddf1134be44899809e25b7747e6fb",
            "5cb643c534e64d9590e0c8a8198c6b19",
            "66d7daabc64f43ec84dd2de56b638e85",
            "06ca50992f3f4c3e973fc2ff8e19d804",
            "e701979fa203458ab1fb16e754ba817e",
            "4e636997d4b44e0583df47378594d5ce",
            "bf424689b0b343d193f96c55c7a3b8ba",
            "30eacfa2bbb342b8b35373bb5fd991c8",
            "03b6a34f0d9f449aa7d663fce7b5ca72",
            "e4f9dd18799b45dfae0c3ac7b4ffdfa0",
            "b5d0aef7217c4f73801142289bf74dd5",
            "a1c5e2478ede4ad182c46f63c87b174e",
            "b23add9e48fa4602bc9b023a828127f7",
            "ddd5bc2816db4e39b3013d57d56a93eb",
            "48a4eca9ccb0488887051c1ee48472a9",
            "dedd049ec5f74533a065b84cb31f1737",
            "cbad8a94eab3444c8efe33fd8533745c",
            "c5eac150e9364d79a149adbf71f38f09",
            "2cc665ae2c1040d998e12d3e21e70676",
            "1fc2021e85eb4ecba0dbe88d7bec2366",
            "d52b665fdc4242f4b5e6de6852b34981",
            "725093d6fb3447e2939766047682a8bc"
          ]
        },
        "id": "ZvyvUVIMzWho",
        "outputId": "f1220f82-6ea8-42e0-c08c-47b19580f5ea"
      },
      "execution_count": 21,
      "outputs": [
        {
          "output_type": "display_data",
          "data": {
            "text/plain": [
              "GridspecLayout(children=(Button(button_style='warning', description='Data Cache', layout=Layout(grid_area='wid…"
            ],
            "application/vnd.jupyter.widget-view+json": {
              "version_major": 2,
              "version_minor": 0,
              "model_id": "072a97a46c7346d49a1e1388539d7f3f"
            }
          },
          "metadata": {}
        }
      ]
    },
    {
      "cell_type": "markdown",
      "source": [
        "### Associative\n",
        "\n",
        "size=2\n",
        "line=32\n",
        "\n",
        "#### 20\n",
        "associative = ['1', '4', '16']\n",
        "misses = [7612, 4233, 4125]\n",
        "\n",
        "#### 60\n",
        "associative = ['1', '4', '16']\n",
        "misses = [62917, 7057, 5787]\n",
        "\n",
        "#### 90\n",
        "associative = ['1', '4', '16']\n",
        "misses = [290055, 17829, 22192]"
      ],
      "metadata": {
        "id": "fGqXAMopMBdh"
      }
    },
    {
      "cell_type": "markdown",
      "source": [
        "### Line\n",
        "\n",
        "size=2\n",
        "associative=1\n",
        "\n",
        "#### 20\n",
        "line = ['32', '64', '128']\n",
        "misses = [7612, 7214, 7005]\n",
        "\n",
        "#### 60\n",
        "line = ['32', '64', '128']\n",
        "misses = [62917, 104065, 142541]\n",
        "\n",
        "#### 90\n",
        "line = ['32', '64', '128']\n",
        "misses = [290055, 491539, 708842]"
      ],
      "metadata": {
        "id": "tm6lTkJZMCJQ"
      }
    },
    {
      "cell_type": "markdown",
      "source": [
        "### Associative"
      ],
      "metadata": {
        "id": "0adJU9fSML5Z"
      }
    },
    {
      "cell_type": "code",
      "source": [
        "#@title Size=20\n",
        "import matplotlib.pyplot as plt\n",
        "\n",
        "x = ['1', '4', '16']\n",
        "y = [7613, 4234, 4127]\n",
        "\n",
        "# Espessura das barras\n",
        "width = 0.5\n",
        "\n",
        "# Plotar o gráfico de barras\n",
        "plt.bar(x, y, width=width)\n",
        "\n",
        "# Definir rótulos e título\n",
        "plt.xlabel('Line (Bytes)')\n",
        "plt.ylabel('Misses')\n",
        "plt.title('Misses by associative')\n",
        "\n",
        "# Definir margem para o intervalo de variação dos valores em y\n",
        "margin = 0.01 * max(y)\n",
        "\n",
        "# Definir os limites do eixo y com margem\n",
        "plt.ylim(min(y) - margin, max(y) + margin)\n",
        "\n",
        "# Exibir o gráfico\n",
        "plt.show()"
      ],
      "metadata": {
        "colab": {
          "base_uri": "https://localhost:8080/",
          "height": 472
        },
        "id": "TGDRVrJrMMmA",
        "outputId": "d51041de-3290-40ca-aeca-527bc2bc50eb"
      },
      "execution_count": 22,
      "outputs": [
        {
          "output_type": "display_data",
          "data": {
            "text/plain": [
              "<Figure size 640x480 with 1 Axes>"
            ],
            "image/png": "[encoded data removed]"
          },
          "metadata": {}
        }
      ]
    },
    {
      "cell_type": "code",
      "source": [
        "#@title Size=60\n",
        "import matplotlib.pyplot as plt\n",
        "\n",
        "x = ['1', '4', '16']\n",
        "y = [66288, 6737, 5456]\n",
        "\n",
        "# Espessura das barras\n",
        "width = 0.5\n",
        "\n",
        "# Plotar o gráfico de barras\n",
        "plt.bar(x, y, width=width)\n",
        "\n",
        "# Definir rótulos e título\n",
        "plt.xlabel('Line (Bytes)')\n",
        "plt.ylabel('Misses')\n",
        "plt.title('Misses by associative')\n",
        "\n",
        "# Definir margem para o intervalo de variação dos valores em y\n",
        "margin = 0.01 * max(y)\n",
        "\n",
        "# Definir os limites do eixo y com margem\n",
        "plt.ylim(min(y) - margin, max(y) + margin)\n",
        "\n",
        "# Exibir o gráfico\n",
        "plt.show()"
      ],
      "metadata": {
        "colab": {
          "base_uri": "https://localhost:8080/",
          "height": 472
        },
        "id": "EW99bQkjMPXZ",
        "outputId": "57451ff5-649c-470d-c583-1436aed811ea"
      },
      "execution_count": 23,
      "outputs": [
        {
          "output_type": "display_data",
          "data": {
            "text/plain": [
              "<Figure size 640x480 with 1 Axes>"
            ],
            "image/png": "[encoded data removed]"
          },
          "metadata": {}
        }
      ]
    },
    {
      "cell_type": "code",
      "source": [
        "#@title Size=90\n",
        "import matplotlib.pyplot as plt\n",
        "\n",
        "x = ['1', '4', '16']\n",
        "y = [66288, 6737, 5456]\n",
        "\n",
        "# Espessura das barras\n",
        "width = 0.5\n",
        "\n",
        "# Plotar o gráfico de barras\n",
        "plt.bar(x, y, width=width)\n",
        "\n",
        "# Definir rótulos e título\n",
        "plt.xlabel('Line (Bytes)')\n",
        "plt.ylabel('Misses')\n",
        "plt.title('Misses by associative')\n",
        "\n",
        "# Definir margem para o intervalo de variação dos valores em y\n",
        "margin = 0.01 * max(y)\n",
        "\n",
        "# Definir os limites do eixo y com margem\n",
        "plt.ylim(min(y) - margin, max(y) + margin)\n",
        "\n",
        "# Exibir o gráfico\n",
        "plt.show()"
      ],
      "metadata": {
        "colab": {
          "base_uri": "https://localhost:8080/",
          "height": 472
        },
        "id": "UCnRVg-BMSQw",
        "outputId": "f109e924-3dff-4077-d246-b9116be995ab"
      },
      "execution_count": 24,
      "outputs": [
        {
          "output_type": "display_data",
          "data": {
            "text/plain": [
              "<Figure size 640x480 with 1 Axes>"
            ],
            "image/png": "[encoded data removed]"
          },
          "metadata": {}
        }
      ]
    },
    {
      "cell_type": "markdown",
      "source": [
        "### Lines (Bytes)"
      ],
      "metadata": {
        "id": "xSIXmqVLMUu_"
      }
    },
    {
      "cell_type": "code",
      "source": [
        "#@title Size=20\n",
        "import matplotlib.pyplot as plt\n",
        "\n",
        "line = ['32', '64', '128']\n",
        "misses = [7163, 7212, 7004]\n",
        "\n",
        "# Espessura das barras\n",
        "width = 0.5\n",
        "\n",
        "# Plotar o gráfico de barras\n",
        "plt.bar(x, y, width=width)\n",
        "\n",
        "# Definir rótulos e título\n",
        "plt.xlabel('Line (Bytes)')\n",
        "plt.ylabel('Misses')\n",
        "plt.title('Misses by line size')\n",
        "\n",
        "# Definir margem para o intervalo de variação dos valores em y\n",
        "margin = 0.01 * max(y)\n",
        "\n",
        "# Definir os limites do eixo y com margem\n",
        "plt.ylim(min(y) - margin, max(y) + margin)\n",
        "\n",
        "# Exibir o gráfico\n",
        "plt.show()"
      ],
      "metadata": {
        "colab": {
          "base_uri": "https://localhost:8080/",
          "height": 472
        },
        "id": "aYqn8so5MXT3",
        "outputId": "81cabb07-dd3f-4471-86b9-9170164843d7"
      },
      "execution_count": 25,
      "outputs": [
        {
          "output_type": "display_data",
          "data": {
            "text/plain": [
              "<Figure size 640x480 with 1 Axes>"
            ],
            "image/png": "[encoded data removed]"
          },
          "metadata": {}
        }
      ]
    },
    {
      "cell_type": "code",
      "source": [
        "#@title Size=60\n",
        "import matplotlib.pyplot as plt\n",
        "\n",
        "x = ['32', '64', '128']\n",
        "y = [66288, 104200, 142626]\n",
        "\n",
        "# Espessura das barras\n",
        "width = 0.5\n",
        "\n",
        "# Plotar o gráfico de barras\n",
        "plt.bar(x, y, width=width)\n",
        "\n",
        "# Definir rótulos e título\n",
        "plt.xlabel('Line (Bytes)')\n",
        "plt.ylabel('Misses')\n",
        "plt.title('Misses by line size')\n",
        "\n",
        "# Definir margem para o intervalo de variação dos valores em y\n",
        "margin = 0.01 * max(y)\n",
        "\n",
        "# Definir os limites do eixo y com margem\n",
        "plt.ylim(min(y) - margin, max(y) + margin)\n",
        "\n",
        "# Exibir o gráfico\n",
        "plt.show()"
      ],
      "metadata": {
        "colab": {
          "base_uri": "https://localhost:8080/",
          "height": 472
        },
        "id": "ODSpakMSMaGo",
        "outputId": "bae6429c-8cbd-4843-e6d0-6924742131a6"
      },
      "execution_count": 26,
      "outputs": [
        {
          "output_type": "display_data",
          "data": {
            "text/plain": [
              "<Figure size 640x480 with 1 Axes>"
            ],
            "image/png": "[encoded data removed]"
          },
          "metadata": {}
        }
      ]
    },
    {
      "cell_type": "code",
      "source": [
        "#@title Size=90\n",
        "import matplotlib.pyplot as plt\n",
        "\n",
        "x = ['32', '64', '128']\n",
        "y = [297403, 481085, 684040]\n",
        "\n",
        "# Espessura das barras\n",
        "width = 0.5\n",
        "\n",
        "# Plotar o gráfico de barras\n",
        "plt.bar(x, y, width=width)\n",
        "\n",
        "# Definir rótulos e título\n",
        "plt.xlabel('Line (Bytes)')\n",
        "plt.ylabel('Misses')\n",
        "plt.title('Misses by line size')\n",
        "\n",
        "# Definir margem para o intervalo de variação dos valores em y\n",
        "margin = 0.01 * max(y)\n",
        "\n",
        "# Definir os limites do eixo y com margem\n",
        "plt.ylim(min(y) - margin, max(y) + margin)\n",
        "\n",
        "# Exibir o gráfico\n",
        "plt.show()"
      ],
      "metadata": {
        "colab": {
          "base_uri": "https://localhost:8080/",
          "height": 472
        },
        "id": "Xe3FMFBrMeFI",
        "outputId": "99cefde2-6bbc-496d-9f38-475ccf652bde"
      },
      "execution_count": 27,
      "outputs": [
        {
          "output_type": "display_data",
          "data": {
            "text/plain": [
              "<Figure size 640x480 with 1 Axes>"
            ],
            "image/png": "[encoded data removed]"
          },
          "metadata": {}
        }
      ]
    },
    {
      "cell_type": "markdown",
      "metadata": {
        "id": "0jtIuYs8pM7j"
      },
      "source": [
        "# Variando o tamanho da Cache e visualizando falhas e taxa de falhas\n",
        "\n",
        "A extensão **\\%\\%rangecachegrind** executa várias vezes com tamanhos de cache especificados pela lista **datacache=(4,8,16,32)**, em Kbytes. O usuário especifica a associatividade (**ways**) e o tamanho do linha  (**line**), os gráficos são gerados de forma automática."
      ]
    },
    {
      "cell_type": "code",
      "metadata": {
        "id": "b96CrTPcOk1k",
        "colab": {
          "base_uri": "https://localhost:8080/"
        },
        "outputId": "a1377bea-0c46-4d72-e419-10b8e3b871f8"
      },
      "source": [
        "%%rangecachegrind datacache=(8,16,32,64,128,256); ways=2; line=64; bargraph=(misses, miss_rate)\n",
        "\n",
        "#include <stdio.h>\n",
        "#include <stdlib.h>\n",
        "\n",
        "int main(int argc, char const *argv[]) {\n",
        "\n",
        "  int n = 2048;\n",
        "  int a[n][n], b[n][n], c[n][n];\n",
        "\n",
        "  for (int i = 0; i < n; ++i) {\n",
        "      for (int j = 0; j < n; ++j) {\n",
        "        a[i][j] = i + j;\n",
        "        b[i][j] = i*2 + j;\n",
        "      }\n",
        "  }\n",
        "\n",
        "  int temp;\n",
        "  for (int i = 0; i < n; ++i) {\n",
        "      for (int j = 0; j < n; ++j) {\n",
        "          temp = 0;\n",
        "          for (int k = 0; k < n; ++k) {\n",
        "              temp += a[i][k] * b[k][j];\n",
        "          }\n",
        "          c[i][j] = temp;\n",
        "      }\n",
        "  }\n",
        "  return 0;\n",
        "}"
      ],
      "execution_count": 28,
      "outputs": [
        {
          "output_type": "stream",
          "name": "stdout",
          "text": [
            "\n"
          ]
        }
      ]
    },
    {
      "cell_type": "markdown",
      "source": [
        "# Parte II\n",
        "\n",
        "Executar os três códigos com rangegridcache e plotar os grafos."
      ],
      "metadata": {
        "id": "c7_J1Rrvd3MX"
      }
    },
    {
      "cell_type": "code",
      "source": [
        "%%rangecachegrind datacache=(8,16,32,64,128,256); ways=2; line=64; bargraph=(misses, miss_rate)\n",
        "\n",
        "#include <stdio.h>\n",
        "#include <stdlib.h>\n",
        "\n",
        "int main(int argc, char const *argv[]) {\n",
        "\n",
        "  int n = 90;\n",
        "  char a[n][n], b[n][n], c[n][n];\n",
        "\n",
        "  for (int i = 0; i < n; ++i) {\n",
        "        for (int j = 0; j < n; ++j) {\n",
        "          a[i][j] = i + j;\n",
        "          b[i][j] = i*2 + j;\n",
        "          c[i][j] = 0;\n",
        "        }\n",
        "  }\n",
        "\n",
        "  for (int i = 0; i < n; ++i) {\n",
        "      for (int j = 0; j < n; ++j) {\n",
        "          for (int k = 0; k < n; ++k) {\n",
        "              c[i][j] += a[i][k] * b[k][j];\n",
        "          }\n",
        "      }\n",
        "  }\n",
        "\n",
        "  return 0;\n",
        "}"
      ],
      "metadata": {
        "colab": {
          "base_uri": "https://localhost:8080/",
          "height": 944
        },
        "id": "ehlTRKdqrc1r",
        "outputId": "057e7df8-8818-418b-80a0-6429b0451680"
      },
      "execution_count": 29,
      "outputs": [
        {
          "output_type": "stream",
          "name": "stdout",
          "text": [
            "\n"
          ]
        },
        {
          "output_type": "display_data",
          "data": {
            "text/plain": [
              "<Figure size 640x480 with 1 Axes>"
            ],
            "image/png": "[encoded data removed]"
          },
          "metadata": {}
        },
        {
          "output_type": "display_data",
          "data": {
            "text/plain": [
              "<Figure size 640x480 with 1 Axes>"
            ],
            "image/png": "[encoded data removed]"
          },
          "metadata": {}
        }
      ]
    },
    {
      "cell_type": "code",
      "source": [
        "%%rangecachegrind datacache=(8,16,32,64,128,256); ways=2; line=64; bargraph=(misses, miss_rate)\n",
        "\n",
        "int main(int argc, char const *argv[]) {\n",
        "\n",
        "  int n = 90;\n",
        "  char a[n][n], b[n][n], c[n][n];\n",
        "\n",
        "  for (int i = 0; i < n; ++i) {\n",
        "      for (int j = 0; j < n; ++j) {\n",
        "        a[i][j] = i + j;\n",
        "        b[j][i] = i*2 + j;\n",
        "        c[i][j] = 0;\n",
        "      }\n",
        "  }\n",
        "\n",
        "  for (int i = 0; i < n; ++i) {\n",
        "      for (int j = 0; j < n; ++j) {\n",
        "          for (int k = 0; k < n; ++k) {\n",
        "              c[i][j] += a[i][k] * b[j][k];\n",
        "          }\n",
        "      }\n",
        "  }\n",
        "\n",
        "  return 0;\n",
        "}"
      ],
      "metadata": {
        "colab": {
          "base_uri": "https://localhost:8080/",
          "height": 944
        },
        "id": "fFHmfvvCrje2",
        "outputId": "0a10a878-4e58-44c6-d55c-08a6c865704e"
      },
      "execution_count": 30,
      "outputs": [
        {
          "output_type": "stream",
          "name": "stdout",
          "text": [
            "\n"
          ]
        },
        {
          "output_type": "display_data",
          "data": {
            "text/plain": [
              "<Figure size 640x480 with 1 Axes>"
            ],
            "image/png": "[encoded data removed]"
          },
          "metadata": {}
        },
        {
          "output_type": "display_data",
          "data": {
            "text/plain": [
              "<Figure size 640x480 with 1 Axes>"
            ],
            "image/png": "[encoded data removed]"
          },
          "metadata": {}
        }
      ]
    },
    {
      "cell_type": "code",
      "source": [
        "%%rangecachegrind datacache=(8,16,32,64,128,256); ways=2; line=64; bargraph=(misses, miss_rate)\n",
        "\n",
        "#include <stdio.h>\n",
        "#include <stdlib.h>\n",
        "\n",
        "int main(int argc, char const *argv[]) {\n",
        "\n",
        "  int n = 90;\n",
        "  char a[n][n], b[n][n], c[n][n];\n",
        "  int tilesize=8;\n",
        "\n",
        "  for (int i = 0; i < n; ++i) {\n",
        "      for (int j = 0; j < n; ++j) {\n",
        "        a[i][j] = i + j;\n",
        "        b[i][j] = i*2 + j;\n",
        "        c[i][j] = 0;\n",
        "      }\n",
        "  }\n",
        "\n",
        "  for (int ih = 0; ih < n; ih += tilesize) {                         ///\\lilabel{block_loop_i}\n",
        "    for (int jh = 0; jh < n; jh += tilesize) {                       ///\\lilabel{block_loop_k}\n",
        "      for (int kh = 0; kh < n; kh += tilesize) {                     ///\\lilabel{block_loop_j}\n",
        "        for (int il = 0; il < tilesize; ++il) {                      ///\\lilabel{base_loop_i}\n",
        "          for (int kl = 0; kl < tilesize; ++kl) {                    ///\\lilabel{base_loop_k}\n",
        "            for (int jl = 0; jl < tilesize; ++jl) {                  ///\\lilabel{base_loop_j}\n",
        "              c[ih+il][jh+jl] += a[ih+il][kh+kl] * b[kh+kl][jh+jl];  ///\\lilabel{base_multiply}\n",
        "        } } }\n",
        "      }\n",
        "    }\n",
        "  }\n",
        "\n",
        "  return 0;\n",
        "}"
      ],
      "metadata": {
        "colab": {
          "base_uri": "https://localhost:8080/",
          "height": 944
        },
        "id": "V_m7rdVorjvh",
        "outputId": "23541637-cf07-49a4-d281-7fee3b2e10fb"
      },
      "execution_count": 31,
      "outputs": [
        {
          "output_type": "stream",
          "name": "stdout",
          "text": [
            "\n"
          ]
        },
        {
          "output_type": "display_data",
          "data": {
            "text/plain": [
              "<Figure size 640x480 with 1 Axes>"
            ],
            "image/png": "[encoded data removed]"
          },
          "metadata": {}
        },
        {
          "output_type": "display_data",
          "data": {
            "text/plain": [
              "<Figure size 640x480 with 1 Axes>"
            ],
            "image/png": "[encoded data removed]"
          },
          "metadata": {}
        }
      ]
    },
    {
      "cell_type": "markdown",
      "source": [
        "# Parte III\n",
        "\n",
        "[escolher 4 versões de código neste repositório](https://github.com/neboat/Moore) para compilar e executar diretamente no colab, sem usar o Valgrind. Medir o tempo com **time** do SO ou alterar o código para usar **chromos**. Fazer uma tabela das 4 implementações com matrizes de três tamanhos: N=1024, N=2048 e N=4096. A Cache L3 do processador do Colab tem 56 MB. Além da tabela fazer um gráfico dos resultados (tempo de execução para cada versão em função do tamanho).\n"
      ],
      "metadata": {
        "id": "Xyc94CCImcUK"
      }
    },
    {
      "cell_type": "code",
      "source": [
        "!lscpu"
      ],
      "metadata": {
        "id": "M3nWJ5XJWwOS",
        "outputId": "a2361aaa-cd22-445b-c3f3-dc291ba360c6",
        "colab": {
          "base_uri": "https://localhost:8080/"
        }
      },
      "execution_count": 32,
      "outputs": [
        {
          "output_type": "stream",
          "name": "stdout",
          "text": [
            "Architecture:                    x86_64\n",
            "CPU op-mode(s):                  32-bit, 64-bit\n",
            "Byte Order:                      Little Endian\n",
            "Address sizes:                   46 bits physical, 48 bits virtual\n",
            "CPU(s):                          2\n",
            "On-line CPU(s) list:             0,1\n",
            "Thread(s) per core:              2\n",
            "Core(s) per socket:              1\n",
            "Socket(s):                       1\n",
            "NUMA node(s):                    1\n",
            "Vendor ID:                       GenuineIntel\n",
            "CPU family:                      6\n",
            "Model:                           79\n",
            "Model name:                      Intel(R) Xeon(R) CPU @ 2.20GHz\n",
            "Stepping:                        0\n",
            "CPU MHz:                         2199.998\n",
            "BogoMIPS:                        4399.99\n",
            "Hypervisor vendor:               KVM\n",
            "Virtualization type:             full\n",
            "L1d cache:                       32 KiB\n",
            "L1i cache:                       32 KiB\n",
            "L2 cache:                        256 KiB\n",
            "L3 cache:                        55 MiB\n",
            "NUMA node0 CPU(s):               0,1\n",
            "Vulnerability Itlb multihit:     Not affected\n",
            "Vulnerability L1tf:              Mitigation; PTE Inversion\n",
            "Vulnerability Mds:               Vulnerable; SMT Host state unknown\n",
            "Vulnerability Meltdown:          Vulnerable\n",
            "Vulnerability Mmio stale data:   Vulnerable\n",
            "Vulnerability Retbleed:          Vulnerable\n",
            "Vulnerability Spec store bypass: Vulnerable\n",
            "Vulnerability Spectre v1:        Vulnerable: __user pointer sanitization and use\n",
            "                                 rcopy barriers only; no swapgs barriers\n",
            "Vulnerability Spectre v2:        Vulnerable, IBPB: disabled, STIBP: disabled, PB\n",
            "                                 RSB-eIBRS: Not affected\n",
            "Vulnerability Srbds:             Not affected\n",
            "Vulnerability Tsx async abort:   Vulnerable\n",
            "Flags:                           fpu vme de pse tsc msr pae mce cx8 apic sep mtr\n",
            "                                 r pge mca cmov pat pse36 clflush mmx fxsr sse s\n",
            "                                 se2 ss ht syscall nx pdpe1gb rdtscp lm constant\n",
            "                                 _tsc rep_good nopl xtopology nonstop_tsc cpuid \n",
            "                                 tsc_known_freq pni pclmulqdq ssse3 fma cx16 pci\n",
            "                                 d sse4_1 sse4_2 x2apic movbe popcnt aes xsave a\n",
            "                                 vx f16c rdrand hypervisor lahf_lm abm 3dnowpref\n",
            "                                 etch invpcid_single ssbd ibrs ibpb stibp fsgsba\n",
            "                                 se tsc_adjust bmi1 hle avx2 smep bmi2 erms invp\n",
            "                                 cid rtm rdseed adx smap xsaveopt arat md_clear \n",
            "                                 arch_capabilities\n"
          ]
        }
      ]
    },
    {
      "cell_type": "markdown",
      "source": [
        "## Versão 1 (mm_c)"
      ],
      "metadata": {
        "id": "bnSG_eruyl8Q"
      }
    },
    {
      "cell_type": "code",
      "source": [
        "%%writefile mm_c.cpp\n",
        "\n",
        "#include <stdlib.h>\n",
        "#include <stdio.h>\n",
        "#include <sys/time.h>\n",
        "\n",
        "#ifndef n\n",
        "#define n 2048\n",
        "#endif\n",
        "double A[n][n];\n",
        "double B[n][n];\n",
        "double C[n][n];\n",
        "\n",
        "float tdiff(struct timeval *start, struct timeval *end) {\n",
        "  return (end->tv_sec-start->tv_sec) + 1e-6*(end->tv_usec-start->tv_usec);\n",
        "}\n",
        "\n",
        "int main(int argc __attribute__((unused)),\n",
        "         const char *argv[] __attribute__((unused))) {\n",
        "  for (int i = 0; i < n; ++i) {\n",
        "    for (int j = 0; j < n; ++j) {\n",
        "      A[i][j] = (double)rand() / (double)RAND_MAX;\n",
        "      B[i][j] = (double)rand() / (double)RAND_MAX;\n",
        "      C[i][j] = 0;\n",
        "    }\n",
        "  }\n",
        "\n",
        "  struct timeval start, end;\n",
        "  gettimeofday(&start, NULL);\n",
        "\n",
        "  for (int i = 0; i < n; ++i) {\n",
        "    for (int j = 0; j < n; ++j) {\n",
        "      for (int k = 0; k < n; ++k) {\n",
        "        C[i][j] += A[i][k] * B[k][j];\n",
        "      }\n",
        "    }\n",
        "  }\n",
        "\n",
        "  gettimeofday(&end, NULL);\n",
        "  printf(\"%0.6f\\n\", tdiff(&start, &end));\n",
        "  return 0;\n",
        "}"
      ],
      "metadata": {
        "id": "IHo_BZj3wilB",
        "outputId": "8d39d01d-d479-49a3-e738-abeae88b2a57",
        "colab": {
          "base_uri": "https://localhost:8080/"
        }
      },
      "execution_count": 68,
      "outputs": [
        {
          "output_type": "stream",
          "name": "stdout",
          "text": [
            "Overwriting mm_c.cpp\n"
          ]
        }
      ]
    },
    {
      "cell_type": "code",
      "source": [
        "!g++ mm_c.cpp -o mm_c\n",
        "!./mm_c"
      ],
      "metadata": {
        "id": "rVGsn286wjPZ",
        "outputId": "c6edaf04-edfc-400e-8dee-d0b5548da495",
        "colab": {
          "base_uri": "https://localhost:8080/"
        }
      },
      "execution_count": 69,
      "outputs": [
        {
          "output_type": "stream",
          "name": "stdout",
          "text": [
            "187.753632\n"
          ]
        }
      ]
    },
    {
      "cell_type": "markdown",
      "source": [
        "### Tabela Resultados"
      ],
      "metadata": {
        "id": "-TluX5K21Zdt"
      }
    },
    {
      "cell_type": "code",
      "source": [
        "import matplotlib.pyplot as plt\n",
        "\n",
        "n = [1024, 2048, 4096]\n",
        "resultados = [16.539150, 187.753632, 300]\n",
        "\n",
        "plt.bar(n, resultados)\n",
        "plt.xlabel('n')\n",
        "plt.ylabel('Resultados')\n",
        "plt.title('Gráfico de Barras')\n",
        "plt.show()"
      ],
      "metadata": {
        "id": "J9m90cuX1Y_w",
        "outputId": "74e0feec-22cb-4a82-f263-5b2a0f0928bc",
        "colab": {
          "base_uri": "https://localhost:8080/",
          "height": 472
        }
      },
      "execution_count": 70,
      "outputs": [
        {
          "output_type": "display_data",
          "data": {
            "text/plain": [
              "<Figure size 640x480 with 1 Axes>"
            ],
            "image/png": "[encoded data removed]"
          },
          "metadata": {}
        }
      ]
    },
    {
      "cell_type": "markdown",
      "source": [
        "## Versão 2 (mm_c_pres)"
      ],
      "metadata": {
        "id": "Iwn3Jt9KyvXa"
      }
    },
    {
      "cell_type": "code",
      "source": [
        "%%writefile mm_c_pres.cpp\n",
        "\n",
        "#include <stdlib.h>\n",
        "#include <stdio.h>\n",
        "#include <sys/time.h>\n",
        "\n",
        "#define n 1024\n",
        "double A[n][n];\n",
        "double B[n][n];\n",
        "double C[n][n];\n",
        "\n",
        "float tdiff(struct timeval *start,\n",
        "\t    struct timeval *end) {\n",
        "  return (end->tv_sec-start->tv_sec) +\n",
        "    1e-6*(end->tv_usec-start->tv_usec);\n",
        "}\n",
        "\n",
        "int main(int argc,\n",
        "         const char *argv[]) {\n",
        "  for (int i = 0; i < n; ++i) {\n",
        "    for (int j = 0; j < n; ++j) {\n",
        "      A[i][j] = (double)rand() / (double)RAND_MAX;\n",
        "      B[i][j] = (double)rand() / (double)RAND_MAX;\n",
        "      C[i][j] = 0;\n",
        "    }\n",
        "  }\n",
        "\n",
        "  struct timeval start, end;\n",
        "  gettimeofday(&start, NULL);\n",
        "\n",
        "  for (int i = 0; i < n; ++i) {\n",
        "    for (int j = 0; j < n; ++j) {\n",
        "      for (int k = 0; k < n; ++k) {\n",
        "        C[i][j] += A[i][k] * B[k][j];\n",
        "      }\n",
        "    }\n",
        "  }\n",
        "\n",
        "  gettimeofday(&end, NULL);\n",
        "  printf(\"%0.6f\\n\", tdiff(&start, &end));\n",
        "  return 0;\n",
        "}"
      ],
      "metadata": {
        "id": "8t1EpHq_wjhb",
        "outputId": "c6d76d66-0335-4b07-a7c7-987fc7dbb5f9",
        "colab": {
          "base_uri": "https://localhost:8080/"
        }
      },
      "execution_count": 42,
      "outputs": [
        {
          "output_type": "stream",
          "name": "stdout",
          "text": [
            "Writing mm_c_pres.cpp\n"
          ]
        }
      ]
    },
    {
      "cell_type": "code",
      "source": [
        "!g++ mm_c_pres.cpp -o mm_c_pres\n",
        "!./mm_c_pres"
      ],
      "metadata": {
        "id": "brbk8o_YwjyZ",
        "outputId": "aab5b2d8-d7cd-4b20-f958-a1acf28c82d4",
        "colab": {
          "base_uri": "https://localhost:8080/"
        }
      },
      "execution_count": 43,
      "outputs": [
        {
          "output_type": "stream",
          "name": "stdout",
          "text": [
            "16.200739\n"
          ]
        }
      ]
    },
    {
      "cell_type": "markdown",
      "source": [
        "### Tabela Resultados"
      ],
      "metadata": {
        "id": "CoQ0Q3Sy1kKB"
      }
    },
    {
      "cell_type": "code",
      "source": [
        "import matplotlib.pyplot as plt\n",
        "\n",
        "n = [1024, 2048, 4096]\n",
        "resultados = [16.200739, 200, 300]\n",
        "\n",
        "plt.bar(n, resultados)\n",
        "plt.xlabel('n')\n",
        "plt.ylabel('Resultados')\n",
        "plt.title('Gráfico de Barras')\n",
        "plt.show()"
      ],
      "metadata": {
        "id": "ih9HsQpP1pgA"
      },
      "execution_count": null,
      "outputs": []
    },
    {
      "cell_type": "markdown",
      "source": [
        "## Versão 3 (mm_vec)"
      ],
      "metadata": {
        "id": "ibZJPxgazIVj"
      }
    },
    {
      "cell_type": "code",
      "source": [
        "%%writefile mm_vec.cpp\n",
        "// Copyright 2013 Bradley C. Kuszmaul, Charles E. Leiserson, and Tao B. Schardl\n",
        "#include <stdlib.h>\n",
        "#include <stdio.h>\n",
        "#include <sys/time.h>\n",
        "#include <assert.h>\n",
        "\n",
        "#define n 1024\n",
        "double A[n][n];\n",
        "double B[n][n];\n",
        "double C[n][n];\n",
        "\n",
        "float tdiff(struct timeval *start, struct timeval *end) {\n",
        "  return (end->tv_sec-start->tv_sec) + 1e-6*(end->tv_usec-start->tv_usec);\n",
        "}\n",
        "\n",
        "int main(int argc, const char *argv[]) {\n",
        "  for (int i = 0; i < n; ++i) {\n",
        "    for (int j = 0; j < n; ++j) {\n",
        "      A[i][j] = (double)rand() / (double)RAND_MAX;\n",
        "      B[i][j] = (double)rand() / (double)RAND_MAX;\n",
        "      C[i][j] = 0;\n",
        "    }\n",
        "  }\n",
        "\n",
        "  struct timeval start, end;\n",
        "  gettimeofday(&start, NULL);\n",
        "///<<-------------------- Block of for's --------------------\n",
        "#line 1\n",
        "  for (int i = 0; i < n; ++i) {                    ///\\lilabel{loop_i} \\lilabel{loop_nest(}\n",
        "    for (int k = 0; k < n; ++k) {                  ///\\lilabel{loop_k}\n",
        "      for (int j = 0; j < n; ++j) {                ///\\lilabel{loop_j}\n",
        "        C[i][j] += A[i][k] * B[k][j];              ///\\lilabel{multiply}\n",
        "      }\n",
        "    }\n",
        "  }                                                ///\\lilabel{loop_nest)}\n",
        "///>>------------------ End block of for's ------------------\n",
        "  gettimeofday(&end, NULL);\n",
        "  printf(\"%0.6f\\n\", tdiff(&start, &end));\n",
        "  return 0;\n",
        "}"
      ],
      "metadata": {
        "id": "v5oeFSqVzYbZ",
        "outputId": "9259d0f2-e9dc-4b58-aa7b-f704a426d69c",
        "colab": {
          "base_uri": "https://localhost:8080/"
        }
      },
      "execution_count": 60,
      "outputs": [
        {
          "output_type": "stream",
          "name": "stdout",
          "text": [
            "Overwriting mm_vec.cpp\n"
          ]
        }
      ]
    },
    {
      "cell_type": "code",
      "source": [
        "!g++ mm_vec.cpp -o mm_vec\n",
        "!./mm_vec"
      ],
      "metadata": {
        "id": "z64u0bi7zvGX",
        "outputId": "44da1bd9-629b-415e-a07d-03468468cc6c",
        "colab": {
          "base_uri": "https://localhost:8080/"
        }
      },
      "execution_count": 61,
      "outputs": [
        {
          "output_type": "stream",
          "name": "stdout",
          "text": [
            "6.195158\n"
          ]
        }
      ]
    },
    {
      "cell_type": "markdown",
      "source": [
        "### Tabela Resultados"
      ],
      "metadata": {
        "id": "VjCQ1E0S1lqR"
      }
    },
    {
      "cell_type": "code",
      "source": [
        "import matplotlib.pyplot as plt\n",
        "\n",
        "n = [1024, 2048, 4096]\n",
        "resultados = [6.195158, 200, 300]\n",
        "\n",
        "plt.bar(n, resultados)\n",
        "plt.xlabel('n')\n",
        "plt.ylabel('Resultados')\n",
        "plt.title('Gráfico de Barras')\n",
        "plt.show()"
      ],
      "metadata": {
        "id": "z5dPgYYk1o6j"
      },
      "execution_count": null,
      "outputs": []
    },
    {
      "cell_type": "markdown",
      "source": [
        "## Versão 4 (mm_permute)"
      ],
      "metadata": {
        "id": "T6VfdoZF0A9Q"
      }
    },
    {
      "cell_type": "code",
      "source": [
        "%%writefile mm_permute.cpp\n",
        "\n",
        "#include <assert.h>\n",
        "#include <stdint.h>\n",
        "#include <stdio.h>\n",
        "#include <stdlib.h>\n",
        "#include <sys/time.h>\n",
        "\n",
        "#ifndef n\n",
        "#define n 1024\n",
        "#endif\n",
        "double A[n][n];\n",
        "double B[n][n];\n",
        "double C[n][n];\n",
        "\n",
        "float tdiff(struct timeval *start, struct timeval *end) {\n",
        "  return (end->tv_sec-start->tv_sec) + 1e-6*(end->tv_usec-start->tv_usec);\n",
        "}\n",
        "\n",
        "int main(int argc __attribute__((unused)), const char *argv[] __attribute__((unused))) {\n",
        "  for (int i = 0; i < n; ++i) {\n",
        "    for (int j = 0; j < n; ++j) {\n",
        "      A[i][j] = (double)rand() / (double)RAND_MAX;\n",
        "      B[i][j] = (double)rand() / (double)RAND_MAX;\n",
        "      C[i][j] = 0;\n",
        "    }\n",
        "  }\n",
        "\n",
        "  struct timeval start, end;\n",
        "  gettimeofday(&start, NULL);\n",
        "#line 1\n",
        "  for (uint64_t i = 0; i < n; ++i) {               ///\\lilabel{loop_i} \\lilabel{loop_nest(}\n",
        "    for (uint64_t k = 0; k < n; ++k) {             ///\\lilabel{loop_k}\n",
        "      for (uint64_t j = 0; j < n; ++j) {           ///\\lilabel{loop_j}\\lilabel{loop_j(}\n",
        "        C[i][j] += A[i][k] * B[k][j];              ///\\lilabel{multiply}\n",
        "      }                                            ///\\lilabel{loop_j)}\n",
        "    }\n",
        "  }                                                ///\\lilabel{loop_nest)}\n",
        "  gettimeofday(&end, NULL);\n",
        "  printf(\"%0.6f\\n\", tdiff(&start, &end));\n",
        "  return 0;\n",
        "}"
      ],
      "metadata": {
        "id": "9F2-w0pS0JFZ",
        "outputId": "a690a6e8-1705-45e3-c0b8-d35e42fdd87b",
        "colab": {
          "base_uri": "https://localhost:8080/"
        }
      },
      "execution_count": 63,
      "outputs": [
        {
          "output_type": "stream",
          "name": "stdout",
          "text": [
            "Overwriting mm_permute.cpp\n"
          ]
        }
      ]
    },
    {
      "cell_type": "code",
      "source": [
        "!g++ mm_permute.cpp -o mm_permute\n",
        "!./mm_permute"
      ],
      "metadata": {
        "id": "bK4MJhYj0yUO",
        "outputId": "e8f0ca37-a828-4e7a-d073-2967783ae55c",
        "colab": {
          "base_uri": "https://localhost:8080/"
        }
      },
      "execution_count": 64,
      "outputs": [
        {
          "output_type": "stream",
          "name": "stdout",
          "text": [
            "5.725018\n"
          ]
        }
      ]
    },
    {
      "cell_type": "markdown",
      "source": [
        "### Tabela Resultados"
      ],
      "metadata": {
        "id": "QKy6qI6g1nXO"
      }
    },
    {
      "cell_type": "code",
      "source": [
        "import matplotlib.pyplot as plt\n",
        "\n",
        "n = [1024, 2048, 4096]\n",
        "resultados = [5.725018, 1, 2]\n",
        "\n",
        "plt.bar(n, resultados)\n",
        "plt.xlabel('n')\n",
        "plt.ylabel('Resultados')\n",
        "plt.title('Gráfico de Barras')\n",
        "plt.show()"
      ],
      "metadata": {
        "id": "Grrd0DeD1oBT",
        "outputId": "9aa12c63-8d5c-48d9-8bce-d91364437cdb",
        "colab": {
          "base_uri": "https://localhost:8080/",
          "height": 472
        }
      },
      "execution_count": 67,
      "outputs": [
        {
          "output_type": "display_data",
          "data": {
            "text/plain": [
              "<Figure size 640x480 with 1 Axes>"
            ],
            "image/png": "[encoded data removed]"
          },
          "metadata": {}
        }
      ]
    },
    {
      "cell_type": "markdown",
      "source": [
        "# Questão 1 da Prova 3\n",
        "\n",
        "Abaixo sugestões de exercicios para a questão 1 da prova 3"
      ],
      "metadata": {
        "id": "AjnyZaBC1LE4"
      }
    },
    {
      "cell_type": "markdown",
      "source": [
        "## Suponha uma cache com bloco de 4 bytes e 16 posições mapeamento direto.\n",
        "\n",
        "Para o código abaixo, após 20 acessos a memória (pode ser de A, B ou C...) Qual será o conteúdo da cache. Suponha que **temp, i, j, k** sejam registradores ? Quantas falhas terão ? Suponha que a cache esteja vazia na execução do trecho.\n",
        "\n",
        "```\n",
        "  byte a[4][4], b[4][4], c[4][4];\n",
        "\n",
        "  int temp;\n",
        "  for (int i = 0; i < 4; ++i) {\n",
        "      for (int j = 0; j < 4; ++j) {\n",
        "          temp = 0;\n",
        "          for (int k = 0; k < 4; ++k) {\n",
        "              temp += a[i][k] * b[k][j];\n",
        "          }\n",
        "          c[i][j] = temp;\n",
        "      }\n",
        "  }\n",
        "```"
      ],
      "metadata": {
        "id": "KHdr9z2m1ScR"
      }
    },
    {
      "cell_type": "markdown",
      "source": [
        "## Outras  opções para questão anterior:\n",
        "\n",
        "* Cache de 32 ou 64, o que modifica ?\n",
        "* Bloco de 8 ?\n",
        "* 2-way ?\n",
        "* suponha que o acesso para matriz B seja por linha (a matriz foi transposta na memória antes de executar o código).\n",
        "\n"
      ],
      "metadata": {
        "id": "WiBP0TKQ2NLp"
      }
    },
    {
      "cell_type": "markdown",
      "source": [
        "# Pontos Extras\n",
        "\n",
        "* Fazer a analise para cache com 16 e 32 para a versão com Tile, considerando 2x2 para a execução dos 30 primeiros acessos. (2 pontos)\n",
        "* Fazer um simulador que gere os a contagem do acesso para uma cache de mapeamento direto onde o tamanho da cache, do bloco, da matriz e do tile são parametros (5 pontos)."
      ],
      "metadata": {
        "id": "x_FPtcsZ92uA"
      }
    },
    {
      "cell_type": "markdown",
      "source": [
        "# Análise da versão Tile (20 × 20)\n",
        "\n",
        "## Cache de 16 [elementos]\n",
        "\n",
        "Bloco = 4 [elementos]\n",
        "* Hit em A = 3\n",
        "* Hit em B = 6\n",
        "* Hit em C = 5\n",
        "\n",
        "## Cache de 32 [elementos]\n",
        "Bloco = 4 [elementos]\n",
        "* Hit em A = 5\n",
        "* Hit em B = 10\n",
        "* Hit em C = 5"
      ],
      "metadata": {
        "id": "VyvPvq4isLh-"
      }
    },
    {
      "cell_type": "markdown",
      "source": [
        "# Simulador de Cache"
      ],
      "metadata": {
        "id": "8BQwtXsQtIMR"
      }
    },
    {
      "cell_type": "code",
      "source": [
        "%%writefile cache.cpp\n",
        "#include <stdio.h>\n",
        "#include <stdlib.h>\n",
        "#include <vector>\n",
        "#include <map>\n",
        "\n",
        "class Cache {\n",
        "\tprivate:\n",
        "\t\tint cache_b;\n",
        "\t\tint line_b;\n",
        "\t\tint block_b;\n",
        "\n",
        "\t\tint cache_s;\n",
        "\t\tint line_s;\n",
        "\t\tint block_s;\n",
        "\n",
        "\t\tstd::vector<std::vector<int>> cache;\n",
        "\n",
        "\t\tchar *under;\n",
        "\n",
        "\t\tint getBase(const int mem) const {\n",
        "\t\t\t\t\t\t\t\t\t// e.g. => mem  = 001100|100|01\n",
        "\t\t\tint mask = 1 << block_b; \t\t\t// e.g. => mask = 000000|001|00\n",
        "\t\t\tmask -= 1;\t\t\t\t\t// e.g. => mask = 000000|000|11\n",
        "\t\t\tmask = ~mask;\t\t\t\t\t// e.g. => mask = 111111|111|00\n",
        "\t\t\treturn (mem & mask);\t\t\t\t// e.g. => base = 001100|100|00\n",
        "\t\t}\n",
        "\n",
        "\t\tint getBlock(const int mem) const {\n",
        "\t\t\t\t\t\t\t\t\t// e.g. => mem  = 001100|100|01\n",
        "\t\t\tint mask = ~1;\t\t\t\t\t// e.g. => mask = 111111|111|11\n",
        "\t\t\tmask = mask << block_b;\t\t\t// e.g. => mask = 111111|111|00\n",
        "\t\t\tmask = ~mask;\t\t\t\t\t// e.g. => mask = 000000|000|11\n",
        "\t\t\treturn (mem & mask);\t\t\t\t// e.g. => blk  = 000000|000|01\n",
        "\t\t}\n",
        "\n",
        "\t\tint getLine(const int mem) const {\n",
        "\t\t\t\t\t\t\t\t\t// e.g. => mem  = 001100|100|00\n",
        "\t\t\tint mask = ~0;\t\t\t\t\t// e.g. => mask = 111111|111|11\n",
        "\t\t\tmask = mask << (line_b + block_b);\t\t// e.g. => mask = 111111|000|00\n",
        "\t\t\tmask = ~mask;\t\t\t\t\t// e.g. => mask = 000000|111|11\n",
        "\t\t\tint line = mem & mask;\t\t\t\t// e.g. => line = 000000|100|00\n",
        "\t\t\treturn line >> block_b;\t\t\t// e.g. => line = 000000|001|00\n",
        "\t\t}\n",
        "\n",
        "\tpublic:\n",
        "\t\tCache(const int cache_b, const int line_b, const int block_b): cache_b(cache_b), line_b(line_b), block_b(block_b) {\n",
        "\t\t\tcache_s = 1 << cache_b;\n",
        "\t\t\tline_s = 1 << line_b;\n",
        "\t\t\tblock_s = 1 << block_b;\n",
        "\n",
        "\t\t\tcache = std::vector<std::vector<int>>(line_s, std::vector<int>(block_s, -1));\n",
        "\n",
        "\t\t\tunder = new char[(block_s * 5)/2];\n",
        "\t\t\tfor (int i = 0; i < (block_s * 5)/2; i++)\n",
        "\t\t\t\tunder[i] = '=';\n",
        "\t\t}\n",
        "\n",
        "\t\tbool read(const int mem) {\n",
        "\t\t\tint line = getLine(mem);\n",
        "\t\t\tint block = getBlock(mem);\n",
        "\n",
        "\t\t\tbool hit = false;\n",
        "\n",
        "\t\t\tif (cache[line][block] == mem) hit = true;\n",
        "\t\t\telse {\n",
        "\t\t\t\tint base = getBase(mem);\n",
        "\t\t\t\tfor (int b = 0; b < block_s; b++)\n",
        "\t\t\t\t\tcache[line][b] = base + b;\n",
        "\t\t\t}\n",
        "\n",
        "\t\t\treturn hit;\n",
        "\t\t}\n",
        "\n",
        "\t\tvoid print() {\n",
        "\t\t\tprintf(\"%s\", under);\n",
        "\t\t\tprintf(\"CACHE\");\n",
        "\t\t\tprintf(\"%s\\n\", under);\n",
        "\t\t\tfor (const auto &line : cache) {\n",
        "\t\t\t\tfor (const auto &elem : line)\n",
        "\t\t\t\t\tprintf(\"%*d\", 5, elem);\n",
        "\t\t\t\tprintf(\"\\n\");\n",
        "\t\t\t}\n",
        "\t\t\tprintf(\"%s\", under);\n",
        "\t\t\tprintf(\"=====\");\n",
        "\t\t\tprintf(\"%s\\n\", under);\n",
        "\t\t}\n",
        "};\n",
        "\n",
        "class Memory {\n",
        "\tprivate:\n",
        "\t\tint size;\n",
        "\t\tint used;\n",
        "\t\tstd::map<char, int> tables;\n",
        "\n",
        "\t\tbool verbose;\n",
        "\tpublic:\n",
        "\t\tMemory(const int size, const bool verbose = false): size(size), used(0), verbose(verbose) {}\n",
        "\n",
        "\t\tvoid add(const char name) {\n",
        "\t\t\tused += size*size;\n",
        "\t\t\ttables[name] = tables.size();\n",
        "\t\t}\n",
        "\n",
        "\t\tint toMem(const char name, const int x, const int y) const {\n",
        "\t\t\tint mem = tables.at(name)*size*size + size*x + y;\n",
        "\t\t\tif (verbose) printf(\"read %c in [%d][%d] => %d\\n\", name, x, y, mem);\n",
        "\t\t\treturn mem;\n",
        "\t\t}\n",
        "};\n",
        "\n",
        "int main(int argc, char const *argv[]) {\n",
        "\n",
        "  const int n = 20;\n",
        "  const int tilesize = 2;\n",
        "\n",
        "  const int CACHE_B = 5;\n",
        "  const int BLOCK_B = 2;\n",
        "  const int LINE_B = CACHE_B - BLOCK_B;\n",
        "\n",
        "  char a[n][n], b[n][n], c[n][n];\n",
        "\n",
        "  // Inicializando matrizes\n",
        "  for (int i = 0; i < n; ++i) {\n",
        "      for (int j = 0; j < n; ++j) {\n",
        "        a[i][j] = i + j;\n",
        "        b[i][j] = i*2 + j;\n",
        "        c[i][j] = 0;\n",
        "      }\n",
        "  }\n",
        "\n",
        "  // Inicializando matrizes na memória\n",
        "  Memory memo(n, true);\n",
        "  memo.add('a');\n",
        "  memo.add('b');\n",
        "  memo.add('c');\n",
        "\n",
        "  /*\n",
        "  printf(\"TESTE\\n\");\n",
        "  printf(\"%s\\n\", (memo.toMem('a', 0, 0) == 0)?(\"true\"):(\"false\"));\n",
        "  printf(\"%s\\n\", (memo.toMem('b', 0, 0) == 400)?(\"true\"):(\"false\"));\n",
        "  printf(\"\\n\");\n",
        "  */\n",
        "\n",
        "  // Iniciliazando cache\n",
        "  Cache cache(CACHE_B, LINE_B, BLOCK_B);\n",
        "\n",
        "  int cont_a = 0, cont_b = 0, cont_c = 0;\n",
        "  int cont = 30;\n",
        "\n",
        "  for (int ih = 0; ih < n; ih += tilesize) {                         ///\\lilabel{block_loop_i}\n",
        "    for (int jh = 0; jh < n; jh += tilesize) {                       ///\\lilabel{block_loop_k}\n",
        "      for (int kh = 0; kh < n; kh += tilesize) {                     ///\\lilabel{block_loop_j}\n",
        "        for (int il = 0; il < tilesize; ++il) {                      ///\\lilabel{base_loop_i}\n",
        "          for (int kl = 0; kl < tilesize; ++kl) {                    ///\\lilabel{base_loop_k}\n",
        "            for (int jl = 0; jl < tilesize; ++jl) {                  ///\\lilabel{base_loop_j}\n",
        "              c[ih+il][jh+jl] += a[ih+il][kh+kl] * b[kh+kl][jh+jl];  ///\\lilabel{base_multiply}\n",
        "\n",
        "              if (cont > 0) {\n",
        "              \tcache.print();\n",
        "              \tif (cache.read(memo.toMem('a', ih+il, kh+kl))) cont_a++;\n",
        "              \tif (cache.read(memo.toMem('b', kh+kl, jh+jl))) cont_b++;\n",
        "              \tif (cache.read(memo.toMem('c', ih+il, jh+jl))) cont_c++;\n",
        "              \tcont--;\n",
        "              }\n",
        "        } } }\n",
        "      }\n",
        "    }\n",
        "  }\n",
        "\n",
        "  //cache.print();\n",
        "\n",
        "  printf(\"\\nHIT A = %d\\nHIT B = %d\\nHIT C = %d\\n\", cont_a, cont_b, cont_c);\n",
        "\n",
        "  return 0;\n",
        "}"
      ],
      "metadata": {
        "colab": {
          "base_uri": "https://localhost:8080/"
        },
        "id": "oulXhd-PtKyO",
        "outputId": "f55c5831-f046-429a-9359-3b084d07063e"
      },
      "execution_count": 33,
      "outputs": [
        {
          "output_type": "stream",
          "name": "stdout",
          "text": [
            "Writing cache.cpp\n"
          ]
        }
      ]
    },
    {
      "cell_type": "code",
      "source": [
        "!g++ cache.cpp -o cache\n",
        "!./cache"
      ],
      "metadata": {
        "colab": {
          "base_uri": "https://localhost:8080/"
        },
        "id": "OjW-tlmNtjdG",
        "outputId": "41745008-013f-424e-f881-1820b82e609f"
      },
      "execution_count": 34,
      "outputs": [
        {
          "output_type": "stream",
          "name": "stdout",
          "text": [
            "==========CACHE==========\n",
            "   -1   -1   -1   -1\n",
            "   -1   -1   -1   -1\n",
            "   -1   -1   -1   -1\n",
            "   -1   -1   -1   -1\n",
            "   -1   -1   -1   -1\n",
            "   -1   -1   -1   -1\n",
            "   -1   -1   -1   -1\n",
            "   -1   -1   -1   -1\n",
            "=========================\n",
            "read a in [0][0] => 0\n",
            "read b in [0][0] => 400\n",
            "read c in [0][0] => 800\n",
            "==========CACHE==========\n",
            "  800  801  802  803\n",
            "   -1   -1   -1   -1\n",
            "   -1   -1   -1   -1\n",
            "   -1   -1   -1   -1\n",
            "  400  401  402  403\n",
            "   -1   -1   -1   -1\n",
            "   -1   -1   -1   -1\n",
            "   -1   -1   -1   -1\n",
            "=========================\n",
            "read a in [0][0] => 0\n",
            "read b in [0][1] => 401\n",
            "read c in [0][1] => 801\n",
            "==========CACHE==========\n",
            "  800  801  802  803\n",
            "   -1   -1   -1   -1\n",
            "   -1   -1   -1   -1\n",
            "   -1   -1   -1   -1\n",
            "  400  401  402  403\n",
            "   -1   -1   -1   -1\n",
            "   -1   -1   -1   -1\n",
            "   -1   -1   -1   -1\n",
            "=========================\n",
            "read a in [0][1] => 1\n",
            "read b in [1][0] => 420\n",
            "read c in [0][0] => 800\n",
            "==========CACHE==========\n",
            "  800  801  802  803\n",
            "  420  421  422  423\n",
            "   -1   -1   -1   -1\n",
            "   -1   -1   -1   -1\n",
            "  400  401  402  403\n",
            "   -1   -1   -1   -1\n",
            "   -1   -1   -1   -1\n",
            "   -1   -1   -1   -1\n",
            "=========================\n",
            "read a in [0][1] => 1\n",
            "read b in [1][1] => 421\n",
            "read c in [0][1] => 801\n",
            "==========CACHE==========\n",
            "  800  801  802  803\n",
            "  420  421  422  423\n",
            "   -1   -1   -1   -1\n",
            "   -1   -1   -1   -1\n",
            "  400  401  402  403\n",
            "   -1   -1   -1   -1\n",
            "   -1   -1   -1   -1\n",
            "   -1   -1   -1   -1\n",
            "=========================\n",
            "read a in [1][0] => 20\n",
            "read b in [0][0] => 400\n",
            "read c in [1][0] => 820\n",
            "==========CACHE==========\n",
            "  800  801  802  803\n",
            "  420  421  422  423\n",
            "   -1   -1   -1   -1\n",
            "   -1   -1   -1   -1\n",
            "  400  401  402  403\n",
            "  820  821  822  823\n",
            "   -1   -1   -1   -1\n",
            "   -1   -1   -1   -1\n",
            "=========================\n",
            "read a in [1][0] => 20\n",
            "read b in [0][1] => 401\n",
            "read c in [1][1] => 821\n",
            "==========CACHE==========\n",
            "  800  801  802  803\n",
            "  420  421  422  423\n",
            "   -1   -1   -1   -1\n",
            "   -1   -1   -1   -1\n",
            "  400  401  402  403\n",
            "  820  821  822  823\n",
            "   -1   -1   -1   -1\n",
            "   -1   -1   -1   -1\n",
            "=========================\n",
            "read a in [1][1] => 21\n",
            "read b in [1][0] => 420\n",
            "read c in [1][0] => 820\n",
            "==========CACHE==========\n",
            "  800  801  802  803\n",
            "  420  421  422  423\n",
            "   -1   -1   -1   -1\n",
            "   -1   -1   -1   -1\n",
            "  400  401  402  403\n",
            "  820  821  822  823\n",
            "   -1   -1   -1   -1\n",
            "   -1   -1   -1   -1\n",
            "=========================\n",
            "read a in [1][1] => 21\n",
            "read b in [1][1] => 421\n",
            "read c in [1][1] => 821\n",
            "==========CACHE==========\n",
            "  800  801  802  803\n",
            "  420  421  422  423\n",
            "   -1   -1   -1   -1\n",
            "   -1   -1   -1   -1\n",
            "  400  401  402  403\n",
            "  820  821  822  823\n",
            "   -1   -1   -1   -1\n",
            "   -1   -1   -1   -1\n",
            "=========================\n",
            "read a in [0][2] => 2\n",
            "read b in [2][0] => 440\n",
            "read c in [0][0] => 800\n",
            "==========CACHE==========\n",
            "  800  801  802  803\n",
            "  420  421  422  423\n",
            "   -1   -1   -1   -1\n",
            "   -1   -1   -1   -1\n",
            "  400  401  402  403\n",
            "  820  821  822  823\n",
            "  440  441  442  443\n",
            "   -1   -1   -1   -1\n",
            "=========================\n",
            "read a in [0][2] => 2\n",
            "read b in [2][1] => 441\n",
            "read c in [0][1] => 801\n",
            "==========CACHE==========\n",
            "  800  801  802  803\n",
            "  420  421  422  423\n",
            "   -1   -1   -1   -1\n",
            "   -1   -1   -1   -1\n",
            "  400  401  402  403\n",
            "  820  821  822  823\n",
            "  440  441  442  443\n",
            "   -1   -1   -1   -1\n",
            "=========================\n",
            "read a in [0][3] => 3\n",
            "read b in [3][0] => 460\n",
            "read c in [0][0] => 800\n",
            "==========CACHE==========\n",
            "  800  801  802  803\n",
            "  420  421  422  423\n",
            "   -1   -1   -1   -1\n",
            "  460  461  462  463\n",
            "  400  401  402  403\n",
            "  820  821  822  823\n",
            "  440  441  442  443\n",
            "   -1   -1   -1   -1\n",
            "=========================\n",
            "read a in [0][3] => 3\n",
            "read b in [3][1] => 461\n",
            "read c in [0][1] => 801\n",
            "==========CACHE==========\n",
            "  800  801  802  803\n",
            "  420  421  422  423\n",
            "   -1   -1   -1   -1\n",
            "  460  461  462  463\n",
            "  400  401  402  403\n",
            "  820  821  822  823\n",
            "  440  441  442  443\n",
            "   -1   -1   -1   -1\n",
            "=========================\n",
            "read a in [1][2] => 22\n",
            "read b in [2][0] => 440\n",
            "read c in [1][0] => 820\n",
            "==========CACHE==========\n",
            "  800  801  802  803\n",
            "  420  421  422  423\n",
            "   -1   -1   -1   -1\n",
            "  460  461  462  463\n",
            "  400  401  402  403\n",
            "  820  821  822  823\n",
            "  440  441  442  443\n",
            "   -1   -1   -1   -1\n",
            "=========================\n",
            "read a in [1][2] => 22\n",
            "read b in [2][1] => 441\n",
            "read c in [1][1] => 821\n",
            "==========CACHE==========\n",
            "  800  801  802  803\n",
            "  420  421  422  423\n",
            "   -1   -1   -1   -1\n",
            "  460  461  462  463\n",
            "  400  401  402  403\n",
            "  820  821  822  823\n",
            "  440  441  442  443\n",
            "   -1   -1   -1   -1\n",
            "=========================\n",
            "read a in [1][3] => 23\n",
            "read b in [3][0] => 460\n",
            "read c in [1][0] => 820\n",
            "==========CACHE==========\n",
            "  800  801  802  803\n",
            "  420  421  422  423\n",
            "   -1   -1   -1   -1\n",
            "  460  461  462  463\n",
            "  400  401  402  403\n",
            "  820  821  822  823\n",
            "  440  441  442  443\n",
            "   -1   -1   -1   -1\n",
            "=========================\n",
            "read a in [1][3] => 23\n",
            "read b in [3][1] => 461\n",
            "read c in [1][1] => 821\n",
            "==========CACHE==========\n",
            "  800  801  802  803\n",
            "  420  421  422  423\n",
            "   -1   -1   -1   -1\n",
            "  460  461  462  463\n",
            "  400  401  402  403\n",
            "  820  821  822  823\n",
            "  440  441  442  443\n",
            "   -1   -1   -1   -1\n",
            "=========================\n",
            "read a in [0][4] => 4\n",
            "read b in [4][0] => 480\n",
            "read c in [0][0] => 800\n",
            "==========CACHE==========\n",
            "  800  801  802  803\n",
            "    4    5    6    7\n",
            "   -1   -1   -1   -1\n",
            "  460  461  462  463\n",
            "  400  401  402  403\n",
            "  820  821  822  823\n",
            "  440  441  442  443\n",
            "   -1   -1   -1   -1\n",
            "=========================\n",
            "read a in [0][4] => 4\n",
            "read b in [4][1] => 481\n",
            "read c in [0][1] => 801\n",
            "==========CACHE==========\n",
            "  800  801  802  803\n",
            "    4    5    6    7\n",
            "   -1   -1   -1   -1\n",
            "  460  461  462  463\n",
            "  400  401  402  403\n",
            "  820  821  822  823\n",
            "  440  441  442  443\n",
            "   -1   -1   -1   -1\n",
            "=========================\n",
            "read a in [0][5] => 5\n",
            "read b in [5][0] => 500\n",
            "read c in [0][0] => 800\n",
            "==========CACHE==========\n",
            "  800  801  802  803\n",
            "    4    5    6    7\n",
            "   -1   -1   -1   -1\n",
            "  460  461  462  463\n",
            "  400  401  402  403\n",
            "  500  501  502  503\n",
            "  440  441  442  443\n",
            "   -1   -1   -1   -1\n",
            "=========================\n",
            "read a in [0][5] => 5\n",
            "read b in [5][1] => 501\n",
            "read c in [0][1] => 801\n",
            "==========CACHE==========\n",
            "  800  801  802  803\n",
            "    4    5    6    7\n",
            "   -1   -1   -1   -1\n",
            "  460  461  462  463\n",
            "  400  401  402  403\n",
            "  500  501  502  503\n",
            "  440  441  442  443\n",
            "   -1   -1   -1   -1\n",
            "=========================\n",
            "read a in [1][4] => 24\n",
            "read b in [4][0] => 480\n",
            "read c in [1][0] => 820\n",
            "==========CACHE==========\n",
            "  480  481  482  483\n",
            "    4    5    6    7\n",
            "   -1   -1   -1   -1\n",
            "  460  461  462  463\n",
            "  400  401  402  403\n",
            "  820  821  822  823\n",
            "   24   25   26   27\n",
            "   -1   -1   -1   -1\n",
            "=========================\n",
            "read a in [1][4] => 24\n",
            "read b in [4][1] => 481\n",
            "read c in [1][1] => 821\n",
            "==========CACHE==========\n",
            "  480  481  482  483\n",
            "    4    5    6    7\n",
            "   -1   -1   -1   -1\n",
            "  460  461  462  463\n",
            "  400  401  402  403\n",
            "  820  821  822  823\n",
            "   24   25   26   27\n",
            "   -1   -1   -1   -1\n",
            "=========================\n",
            "read a in [1][5] => 25\n",
            "read b in [5][0] => 500\n",
            "read c in [1][0] => 820\n",
            "==========CACHE==========\n",
            "  480  481  482  483\n",
            "    4    5    6    7\n",
            "   -1   -1   -1   -1\n",
            "  460  461  462  463\n",
            "  400  401  402  403\n",
            "  820  821  822  823\n",
            "   24   25   26   27\n",
            "   -1   -1   -1   -1\n",
            "=========================\n",
            "read a in [1][5] => 25\n",
            "read b in [5][1] => 501\n",
            "read c in [1][1] => 821\n",
            "==========CACHE==========\n",
            "  480  481  482  483\n",
            "    4    5    6    7\n",
            "   -1   -1   -1   -1\n",
            "  460  461  462  463\n",
            "  400  401  402  403\n",
            "  820  821  822  823\n",
            "   24   25   26   27\n",
            "   -1   -1   -1   -1\n",
            "=========================\n",
            "read a in [0][6] => 6\n",
            "read b in [6][0] => 520\n",
            "read c in [0][0] => 800\n",
            "==========CACHE==========\n",
            "  800  801  802  803\n",
            "    4    5    6    7\n",
            "  520  521  522  523\n",
            "  460  461  462  463\n",
            "  400  401  402  403\n",
            "  820  821  822  823\n",
            "   24   25   26   27\n",
            "   -1   -1   -1   -1\n",
            "=========================\n",
            "read a in [0][6] => 6\n",
            "read b in [6][1] => 521\n",
            "read c in [0][1] => 801\n",
            "==========CACHE==========\n",
            "  800  801  802  803\n",
            "    4    5    6    7\n",
            "  520  521  522  523\n",
            "  460  461  462  463\n",
            "  400  401  402  403\n",
            "  820  821  822  823\n",
            "   24   25   26   27\n",
            "   -1   -1   -1   -1\n",
            "=========================\n",
            "read a in [0][7] => 7\n",
            "read b in [7][0] => 540\n",
            "read c in [0][0] => 800\n",
            "==========CACHE==========\n",
            "  800  801  802  803\n",
            "    4    5    6    7\n",
            "  520  521  522  523\n",
            "  460  461  462  463\n",
            "  400  401  402  403\n",
            "  820  821  822  823\n",
            "   24   25   26   27\n",
            "  540  541  542  543\n",
            "=========================\n",
            "read a in [0][7] => 7\n",
            "read b in [7][1] => 541\n",
            "read c in [0][1] => 801\n",
            "==========CACHE==========\n",
            "  800  801  802  803\n",
            "    4    5    6    7\n",
            "  520  521  522  523\n",
            "  460  461  462  463\n",
            "  400  401  402  403\n",
            "  820  821  822  823\n",
            "   24   25   26   27\n",
            "  540  541  542  543\n",
            "=========================\n",
            "read a in [1][6] => 26\n",
            "read b in [6][0] => 520\n",
            "read c in [1][0] => 820\n",
            "==========CACHE==========\n",
            "  800  801  802  803\n",
            "    4    5    6    7\n",
            "  520  521  522  523\n",
            "  460  461  462  463\n",
            "  400  401  402  403\n",
            "  820  821  822  823\n",
            "   24   25   26   27\n",
            "  540  541  542  543\n",
            "=========================\n",
            "read a in [1][6] => 26\n",
            "read b in [6][1] => 521\n",
            "read c in [1][1] => 821\n",
            "\n",
            "HIT A = 5\n",
            "HIT B = 10\n",
            "HIT C = 5\n"
          ]
        }
      ]
    }
  ]
}