{
  "nbformat": 4,
  "nbformat_minor": 0,
  "metadata": {
    "colab": {
      "provenance": [],
      "include_colab_link": true
    },
    "kernelspec": {
      "name": "python3",
      "display_name": "Python 3"
    },
    "widgets": {
      "application/vnd.jupyter.widget-state+json": {
        "ef1320c819674877a17a2fec589508a2": {
          "model_module": "@jupyter-widgets/controls",
          "model_name": "GridBoxModel",
          "model_module_version": "1.5.0",
          "state": {
            "_dom_classes": [],
            "_model_module": "@jupyter-widgets/controls",
            "_model_module_version": "1.5.0",
            "_model_name": "GridBoxModel",
            "_view_count": null,
            "_view_module": "@jupyter-widgets/controls",
            "_view_module_version": "1.5.0",
            "_view_name": "GridBoxView",
            "box_style": "",
            "children": [
              "IPY_MODEL_dcc6b8dfc8724cb8a8571cc6447bd76e",
              "IPY_MODEL_c8482e2c5709446e8cb78ec6d2c98b53",
              "IPY_MODEL_a97b0228de2c4bc3a4409ed8bba2478c",
              "IPY_MODEL_ad22d6904282433498483b8c5d0b75d9",
              "IPY_MODEL_5588ca49edca4d3c82ec7a6e859b0471",
              "IPY_MODEL_5d60cbd9a12747afb089daf263545b3d",
              "IPY_MODEL_bea85bc6c80140eaa36ea5ba7d9cc5b7",
              "IPY_MODEL_f6f357ffeb764d5aa6d6382c3177e459"
            ],
            "layout": "IPY_MODEL_ef99f35f17f84b06bc6d0d8458f2aaab"
          }
        },
        "dcc6b8dfc8724cb8a8571cc6447bd76e": {
          "model_module": "@jupyter-widgets/controls",
          "model_name": "ButtonModel",
          "model_module_version": "1.5.0",
          "state": {
            "_dom_classes": [],
            "_model_module": "@jupyter-widgets/controls",
            "_model_module_version": "1.5.0",
            "_model_name": "ButtonModel",
            "_view_count": null,
            "_view_module": "@jupyter-widgets/controls",
            "_view_module_version": "1.5.0",
            "_view_name": "ButtonView",
            "button_style": "warning",
            "description": "Data Cache",
            "disabled": false,
            "icon": "",
            "layout": "IPY_MODEL_9bb7b17f3d1f4deab0118903d422780b",
            "style": "IPY_MODEL_13b981670ab44ee19290a8e4b80af8c8",
            "tooltip": ""
          }
        },
        "c8482e2c5709446e8cb78ec6d2c98b53": {
          "model_module": "@jupyter-widgets/controls",
          "model_name": "ButtonModel",
          "model_module_version": "1.5.0",
          "state": {
            "_dom_classes": [],
            "_model_module": "@jupyter-widgets/controls",
            "_model_module_version": "1.5.0",
            "_model_name": "ButtonModel",
            "_view_count": null,
            "_view_module": "@jupyter-widgets/controls",
            "_view_module_version": "1.5.0",
            "_view_name": "ButtonView",
            "button_style": "warning",
            "description": "Size (kB)",
            "disabled": false,
            "icon": "",
            "layout": "IPY_MODEL_1b4cd8199aaf46babdfcd2fd52e5a86b",
            "style": "IPY_MODEL_05f89f97297e4cfda1252f4af8b8cf7d",
            "tooltip": ""
          }
        },
        "a97b0228de2c4bc3a4409ed8bba2478c": {
          "model_module": "@jupyter-widgets/controls",
          "model_name": "DropdownModel",
          "model_module_version": "1.5.0",
          "state": {
            "_dom_classes": [],
            "_model_module": "@jupyter-widgets/controls",
            "_model_module_version": "1.5.0",
            "_model_name": "DropdownModel",
            "_options_labels": [
              "1",
              "2",
              "4",
              "8",
              "16"
            ],
            "_view_count": null,
            "_view_module": "@jupyter-widgets/controls",
            "_view_module_version": "1.5.0",
            "_view_name": "DropdownView",
            "description": "",
            "description_tooltip": null,
            "disabled": false,
            "index": 0,
            "layout": "IPY_MODEL_fd150400f4b54ee6aa5294fd5b7026cd",
            "style": "IPY_MODEL_e44ce59a85c24ba6a517fa894cf79b2b"
          }
        },
        "ad22d6904282433498483b8c5d0b75d9": {
          "model_module": "@jupyter-widgets/controls",
          "model_name": "ButtonModel",
          "model_module_version": "1.5.0",
          "state": {
            "_dom_classes": [],
            "_model_module": "@jupyter-widgets/controls",
            "_model_module_version": "1.5.0",
            "_model_name": "ButtonModel",
            "_view_count": null,
            "_view_module": "@jupyter-widgets/controls",
            "_view_module_version": "1.5.0",
            "_view_name": "ButtonView",
            "button_style": "warning",
            "description": "Associative",
            "disabled": false,
            "icon": "",
            "layout": "IPY_MODEL_e8068c67fa2647e3a3161ee85bedaa58",
            "style": "IPY_MODEL_6c4dc727a4704cb68bff99e96dcf5968",
            "tooltip": ""
          }
        },
        "5588ca49edca4d3c82ec7a6e859b0471": {
          "model_module": "@jupyter-widgets/controls",
          "model_name": "DropdownModel",
          "model_module_version": "1.5.0",
          "state": {
            "_dom_classes": [],
            "_model_module": "@jupyter-widgets/controls",
            "_model_module_version": "1.5.0",
            "_model_name": "DropdownModel",
            "_options_labels": [
              "1",
              "2",
              "4",
              "8",
              "16",
              "32"
            ],
            "_view_count": null,
            "_view_module": "@jupyter-widgets/controls",
            "_view_module_version": "1.5.0",
            "_view_name": "DropdownView",
            "description": "",
            "description_tooltip": null,
            "disabled": false,
            "index": 0,
            "layout": "IPY_MODEL_3dd03cdfcc9f4a31a2b7b5ff2d4bb4de",
            "style": "IPY_MODEL_73c9723d19e0434db8df5809c9fc8fa6"
          }
        },
        "5d60cbd9a12747afb089daf263545b3d": {
          "model_module": "@jupyter-widgets/controls",
          "model_name": "ButtonModel",
          "model_module_version": "1.5.0",
          "state": {
            "_dom_classes": [],
            "_model_module": "@jupyter-widgets/controls",
            "_model_module_version": "1.5.0",
            "_model_name": "ButtonModel",
            "_view_count": null,
            "_view_module": "@jupyter-widgets/controls",
            "_view_module_version": "1.5.0",
            "_view_name": "ButtonView",
            "button_style": "warning",
            "description": "Line (Bytes)",
            "disabled": false,
            "icon": "",
            "layout": "IPY_MODEL_5623cd9840fb4c9c952432eba10d6eb1",
            "style": "IPY_MODEL_eb40c3129f904d87b1763f57663d4e05",
            "tooltip": ""
          }
        },
        "bea85bc6c80140eaa36ea5ba7d9cc5b7": {
          "model_module": "@jupyter-widgets/controls",
          "model_name": "DropdownModel",
          "model_module_version": "1.5.0",
          "state": {
            "_dom_classes": [],
            "_model_module": "@jupyter-widgets/controls",
            "_model_module_version": "1.5.0",
            "_model_name": "DropdownModel",
            "_options_labels": [
              "32",
              "64",
              "128"
            ],
            "_view_count": null,
            "_view_module": "@jupyter-widgets/controls",
            "_view_module_version": "1.5.0",
            "_view_name": "DropdownView",
            "description": "",
            "description_tooltip": null,
            "disabled": false,
            "index": 0,
            "layout": "IPY_MODEL_49ad8c045bab4183ba66f1074595238d",
            "style": "IPY_MODEL_ce3f1b232a584e0096483b1c46b8d1b0"
          }
        },
        "f6f357ffeb764d5aa6d6382c3177e459": {
          "model_module": "@jupyter-widgets/controls",
          "model_name": "ButtonModel",
          "model_module_version": "1.5.0",
          "state": {
            "_dom_classes": [],
            "_model_module": "@jupyter-widgets/controls",
            "_model_module_version": "1.5.0",
            "_model_name": "ButtonModel",
            "_view_count": null,
            "_view_module": "@jupyter-widgets/controls",
            "_view_module_version": "1.5.0",
            "_view_name": "ButtonView",
            "button_style": "success",
            "description": "Start execution",
            "disabled": false,
            "icon": "",
            "layout": "IPY_MODEL_eebddf6c6add49bb9bfb605d8e07e4c4",
            "style": "IPY_MODEL_d538334226284502b8809b73f4860b4a",
            "tooltip": ""
          }
        },
        "ef99f35f17f84b06bc6d0d8458f2aaab": {
          "model_module": "@jupyter-widgets/base",
          "model_name": "LayoutModel",
          "model_module_version": "1.2.0",
          "state": {
            "_model_module": "@jupyter-widgets/base",
            "_model_module_version": "1.2.0",
            "_model_name": "LayoutModel",
            "_view_count": null,
            "_view_module": "@jupyter-widgets/base",
            "_view_module_version": "1.2.0",
            "_view_name": "LayoutView",
            "align_content": null,
            "align_items": null,
            "align_self": null,
            "border": null,
            "bottom": null,
            "display": null,
            "flex": null,
            "flex_flow": null,
            "grid_area": null,
            "grid_auto_columns": null,
            "grid_auto_flow": null,
            "grid_auto_rows": null,
            "grid_column": null,
            "grid_gap": null,
            "grid_row": null,
            "grid_template_areas": "\"widget001 . . . . . . . . .\"\n\"widget002 widget003 . . . . . . . .\"\n\"widget004 widget005 . . . . . . . .\"\n\"widget006 widget007 . . . . . . . .\"\n\"widget008 . . . . . . . . .\"",
            "grid_template_columns": "repeat(10, 1fr)",
            "grid_template_rows": "repeat(5, 1fr)",
            "height": null,
            "justify_content": null,
            "justify_items": null,
            "left": null,
            "margin": null,
            "max_height": null,
            "max_width": null,
            "min_height": null,
            "min_width": null,
            "object_fit": null,
            "object_position": null,
            "order": null,
            "overflow": null,
            "overflow_x": null,
            "overflow_y": null,
            "padding": null,
            "right": null,
            "top": null,
            "visibility": null,
            "width": null
          }
        },
        "9bb7b17f3d1f4deab0118903d422780b": {
          "model_module": "@jupyter-widgets/base",
          "model_name": "LayoutModel",
          "model_module_version": "1.2.0",
          "state": {
            "_model_module": "@jupyter-widgets/base",
            "_model_module_version": "1.2.0",
            "_model_name": "LayoutModel",
            "_view_count": null,
            "_view_module": "@jupyter-widgets/base",
            "_view_module_version": "1.2.0",
            "_view_name": "LayoutView",
            "align_content": null,
            "align_items": null,
            "align_self": null,
            "border": null,
            "bottom": null,
            "display": null,
            "flex": null,
            "flex_flow": null,
            "grid_area": "widget001",
            "grid_auto_columns": null,
            "grid_auto_flow": null,
            "grid_auto_rows": null,
            "grid_column": null,
            "grid_gap": null,
            "grid_row": null,
            "grid_template_areas": null,
            "grid_template_columns": null,
            "grid_template_rows": null,
            "height": "auto",
            "justify_content": null,
            "justify_items": null,
            "left": null,
            "margin": null,
            "max_height": null,
            "max_width": null,
            "min_height": null,
            "min_width": null,
            "object_fit": null,
            "object_position": null,
            "order": null,
            "overflow": null,
            "overflow_x": null,
            "overflow_y": null,
            "padding": null,
            "right": null,
            "top": null,
            "visibility": null,
            "width": "auto"
          }
        },
        "13b981670ab44ee19290a8e4b80af8c8": {
          "model_module": "@jupyter-widgets/controls",
          "model_name": "ButtonStyleModel",
          "model_module_version": "1.5.0",
          "state": {
            "_model_module": "@jupyter-widgets/controls",
            "_model_module_version": "1.5.0",
            "_model_name": "ButtonStyleModel",
            "_view_count": null,
            "_view_module": "@jupyter-widgets/base",
            "_view_module_version": "1.2.0",
            "_view_name": "StyleView",
            "button_color": null,
            "font_weight": ""
          }
        },
        "1b4cd8199aaf46babdfcd2fd52e5a86b": {
          "model_module": "@jupyter-widgets/base",
          "model_name": "LayoutModel",
          "model_module_version": "1.2.0",
          "state": {
            "_model_module": "@jupyter-widgets/base",
            "_model_module_version": "1.2.0",
            "_model_name": "LayoutModel",
            "_view_count": null,
            "_view_module": "@jupyter-widgets/base",
            "_view_module_version": "1.2.0",
            "_view_name": "LayoutView",
            "align_content": null,
            "align_items": null,
            "align_self": null,
            "border": null,
            "bottom": null,
            "display": null,
            "flex": null,
            "flex_flow": null,
            "grid_area": "widget002",
            "grid_auto_columns": null,
            "grid_auto_flow": null,
            "grid_auto_rows": null,
            "grid_column": null,
            "grid_gap": null,
            "grid_row": null,
            "grid_template_areas": null,
            "grid_template_columns": null,
            "grid_template_rows": null,
            "height": "auto",
            "justify_content": null,
            "justify_items": null,
            "left": null,
            "margin": null,
            "max_height": null,
            "max_width": null,
            "min_height": null,
            "min_width": null,
            "object_fit": null,
            "object_position": null,
            "order": null,
            "overflow": null,
            "overflow_x": null,
            "overflow_y": null,
            "padding": null,
            "right": null,
            "top": null,
            "visibility": null,
            "width": "auto"
          }
        },
        "05f89f97297e4cfda1252f4af8b8cf7d": {
          "model_module": "@jupyter-widgets/controls",
          "model_name": "ButtonStyleModel",
          "model_module_version": "1.5.0",
          "state": {
            "_model_module": "@jupyter-widgets/controls",
            "_model_module_version": "1.5.0",
            "_model_name": "ButtonStyleModel",
            "_view_count": null,
            "_view_module": "@jupyter-widgets/base",
            "_view_module_version": "1.2.0",
            "_view_name": "StyleView",
            "button_color": null,
            "font_weight": ""
          }
        },
        "fd150400f4b54ee6aa5294fd5b7026cd": {
          "model_module": "@jupyter-widgets/base",
          "model_name": "LayoutModel",
          "model_module_version": "1.2.0",
          "state": {
            "_model_module": "@jupyter-widgets/base",
            "_model_module_version": "1.2.0",
            "_model_name": "LayoutModel",
            "_view_count": null,
            "_view_module": "@jupyter-widgets/base",
            "_view_module_version": "1.2.0",
            "_view_name": "LayoutView",
            "align_content": null,
            "align_items": null,
            "align_self": null,
            "border": null,
            "bottom": null,
            "display": null,
            "flex": null,
            "flex_flow": null,
            "grid_area": "widget003",
            "grid_auto_columns": null,
            "grid_auto_flow": null,
            "grid_auto_rows": null,
            "grid_column": null,
            "grid_gap": null,
            "grid_row": null,
            "grid_template_areas": null,
            "grid_template_columns": null,
            "grid_template_rows": null,
            "height": "30px",
            "justify_content": null,
            "justify_items": null,
            "left": null,
            "margin": null,
            "max_height": null,
            "max_width": null,
            "min_height": null,
            "min_width": null,
            "object_fit": null,
            "object_position": null,
            "order": null,
            "overflow": null,
            "overflow_x": null,
            "overflow_y": null,
            "padding": null,
            "right": null,
            "top": null,
            "visibility": null,
            "width": "auto"
          }
        },
        "e44ce59a85c24ba6a517fa894cf79b2b": {
          "model_module": "@jupyter-widgets/controls",
          "model_name": "DescriptionStyleModel",
          "model_module_version": "1.5.0",
          "state": {
            "_model_module": "@jupyter-widgets/controls",
            "_model_module_version": "1.5.0",
            "_model_name": "DescriptionStyleModel",
            "_view_count": null,
            "_view_module": "@jupyter-widgets/base",
            "_view_module_version": "1.2.0",
            "_view_name": "StyleView",
            "description_width": ""
          }
        },
        "e8068c67fa2647e3a3161ee85bedaa58": {
          "model_module": "@jupyter-widgets/base",
          "model_name": "LayoutModel",
          "model_module_version": "1.2.0",
          "state": {
            "_model_module": "@jupyter-widgets/base",
            "_model_module_version": "1.2.0",
            "_model_name": "LayoutModel",
            "_view_count": null,
            "_view_module": "@jupyter-widgets/base",
            "_view_module_version": "1.2.0",
            "_view_name": "LayoutView",
            "align_content": null,
            "align_items": null,
            "align_self": null,
            "border": null,
            "bottom": null,
            "display": null,
            "flex": null,
            "flex_flow": null,
            "grid_area": "widget004",
            "grid_auto_columns": null,
            "grid_auto_flow": null,
            "grid_auto_rows": null,
            "grid_column": null,
            "grid_gap": null,
            "grid_row": null,
            "grid_template_areas": null,
            "grid_template_columns": null,
            "grid_template_rows": null,
            "height": "auto",
            "justify_content": null,
            "justify_items": null,
            "left": null,
            "margin": null,
            "max_height": null,
            "max_width": null,
            "min_height": null,
            "min_width": null,
            "object_fit": null,
            "object_position": null,
            "order": null,
            "overflow": null,
            "overflow_x": null,
            "overflow_y": null,
            "padding": null,
            "right": null,
            "top": null,
            "visibility": null,
            "width": "auto"
          }
        },
        "6c4dc727a4704cb68bff99e96dcf5968": {
          "model_module": "@jupyter-widgets/controls",
          "model_name": "ButtonStyleModel",
          "model_module_version": "1.5.0",
          "state": {
            "_model_module": "@jupyter-widgets/controls",
            "_model_module_version": "1.5.0",
            "_model_name": "ButtonStyleModel",
            "_view_count": null,
            "_view_module": "@jupyter-widgets/base",
            "_view_module_version": "1.2.0",
            "_view_name": "StyleView",
            "button_color": null,
            "font_weight": ""
          }
        },
        "3dd03cdfcc9f4a31a2b7b5ff2d4bb4de": {
          "model_module": "@jupyter-widgets/base",
          "model_name": "LayoutModel",
          "model_module_version": "1.2.0",
          "state": {
            "_model_module": "@jupyter-widgets/base",
            "_model_module_version": "1.2.0",
            "_model_name": "LayoutModel",
            "_view_count": null,
            "_view_module": "@jupyter-widgets/base",
            "_view_module_version": "1.2.0",
            "_view_name": "LayoutView",
            "align_content": null,
            "align_items": null,
            "align_self": null,
            "border": null,
            "bottom": null,
            "display": null,
            "flex": null,
            "flex_flow": null,
            "grid_area": "widget005",
            "grid_auto_columns": null,
            "grid_auto_flow": null,
            "grid_auto_rows": null,
            "grid_column": null,
            "grid_gap": null,
            "grid_row": null,
            "grid_template_areas": null,
            "grid_template_columns": null,
            "grid_template_rows": null,
            "height": "30px",
            "justify_content": null,
            "justify_items": null,
            "left": null,
            "margin": null,
            "max_height": null,
            "max_width": null,
            "min_height": null,
            "min_width": null,
            "object_fit": null,
            "object_position": null,
            "order": null,
            "overflow": null,
            "overflow_x": null,
            "overflow_y": null,
            "padding": null,
            "right": null,
            "top": null,
            "visibility": null,
            "width": "auto"
          }
        },
        "73c9723d19e0434db8df5809c9fc8fa6": {
          "model_module": "@jupyter-widgets/controls",
          "model_name": "DescriptionStyleModel",
          "model_module_version": "1.5.0",
          "state": {
            "_model_module": "@jupyter-widgets/controls",
            "_model_module_version": "1.5.0",
            "_model_name": "DescriptionStyleModel",
            "_view_count": null,
            "_view_module": "@jupyter-widgets/base",
            "_view_module_version": "1.2.0",
            "_view_name": "StyleView",
            "description_width": ""
          }
        },
        "5623cd9840fb4c9c952432eba10d6eb1": {
          "model_module": "@jupyter-widgets/base",
          "model_name": "LayoutModel",
          "model_module_version": "1.2.0",
          "state": {
            "_model_module": "@jupyter-widgets/base",
            "_model_module_version": "1.2.0",
            "_model_name": "LayoutModel",
            "_view_count": null,
            "_view_module": "@jupyter-widgets/base",
            "_view_module_version": "1.2.0",
            "_view_name": "LayoutView",
            "align_content": null,
            "align_items": null,
            "align_self": null,
            "border": null,
            "bottom": null,
            "display": null,
            "flex": null,
            "flex_flow": null,
            "grid_area": "widget006",
            "grid_auto_columns": null,
            "grid_auto_flow": null,
            "grid_auto_rows": null,
            "grid_column": null,
            "grid_gap": null,
            "grid_row": null,
            "grid_template_areas": null,
            "grid_template_columns": null,
            "grid_template_rows": null,
            "height": "auto",
            "justify_content": null,
            "justify_items": null,
            "left": null,
            "margin": null,
            "max_height": null,
            "max_width": null,
            "min_height": null,
            "min_width": null,
            "object_fit": null,
            "object_position": null,
            "order": null,
            "overflow": null,
            "overflow_x": null,
            "overflow_y": null,
            "padding": null,
            "right": null,
            "top": null,
            "visibility": null,
            "width": "auto"
          }
        },
        "eb40c3129f904d87b1763f57663d4e05": {
          "model_module": "@jupyter-widgets/controls",
          "model_name": "ButtonStyleModel",
          "model_module_version": "1.5.0",
          "state": {
            "_model_module": "@jupyter-widgets/controls",
            "_model_module_version": "1.5.0",
            "_model_name": "ButtonStyleModel",
            "_view_count": null,
            "_view_module": "@jupyter-widgets/base",
            "_view_module_version": "1.2.0",
            "_view_name": "StyleView",
            "button_color": null,
            "font_weight": ""
          }
        },
        "49ad8c045bab4183ba66f1074595238d": {
          "model_module": "@jupyter-widgets/base",
          "model_name": "LayoutModel",
          "model_module_version": "1.2.0",
          "state": {
            "_model_module": "@jupyter-widgets/base",
            "_model_module_version": "1.2.0",
            "_model_name": "LayoutModel",
            "_view_count": null,
            "_view_module": "@jupyter-widgets/base",
            "_view_module_version": "1.2.0",
            "_view_name": "LayoutView",
            "align_content": null,
            "align_items": null,
            "align_self": null,
            "border": null,
            "bottom": null,
            "display": null,
            "flex": null,
            "flex_flow": null,
            "grid_area": "widget007",
            "grid_auto_columns": null,
            "grid_auto_flow": null,
            "grid_auto_rows": null,
            "grid_column": null,
            "grid_gap": null,
            "grid_row": null,
            "grid_template_areas": null,
            "grid_template_columns": null,
            "grid_template_rows": null,
            "height": "30px",
            "justify_content": null,
            "justify_items": null,
            "left": null,
            "margin": null,
            "max_height": null,
            "max_width": null,
            "min_height": null,
            "min_width": null,
            "object_fit": null,
            "object_position": null,
            "order": null,
            "overflow": null,
            "overflow_x": null,
            "overflow_y": null,
            "padding": null,
            "right": null,
            "top": null,
            "visibility": null,
            "width": "auto"
          }
        },
        "ce3f1b232a584e0096483b1c46b8d1b0": {
          "model_module": "@jupyter-widgets/controls",
          "model_name": "DescriptionStyleModel",
          "model_module_version": "1.5.0",
          "state": {
            "_model_module": "@jupyter-widgets/controls",
            "_model_module_version": "1.5.0",
            "_model_name": "DescriptionStyleModel",
            "_view_count": null,
            "_view_module": "@jupyter-widgets/base",
            "_view_module_version": "1.2.0",
            "_view_name": "StyleView",
            "description_width": ""
          }
        },
        "eebddf6c6add49bb9bfb605d8e07e4c4": {
          "model_module": "@jupyter-widgets/base",
          "model_name": "LayoutModel",
          "model_module_version": "1.2.0",
          "state": {
            "_model_module": "@jupyter-widgets/base",
            "_model_module_version": "1.2.0",
            "_model_name": "LayoutModel",
            "_view_count": null,
            "_view_module": "@jupyter-widgets/base",
            "_view_module_version": "1.2.0",
            "_view_name": "LayoutView",
            "align_content": null,
            "align_items": null,
            "align_self": null,
            "border": null,
            "bottom": null,
            "display": null,
            "flex": null,
            "flex_flow": null,
            "grid_area": "widget008",
            "grid_auto_columns": null,
            "grid_auto_flow": null,
            "grid_auto_rows": null,
            "grid_column": null,
            "grid_gap": null,
            "grid_row": null,
            "grid_template_areas": null,
            "grid_template_columns": null,
            "grid_template_rows": null,
            "height": "auto",
            "justify_content": null,
            "justify_items": null,
            "left": null,
            "margin": null,
            "max_height": null,
            "max_width": null,
            "min_height": null,
            "min_width": null,
            "object_fit": null,
            "object_position": null,
            "order": null,
            "overflow": null,
            "overflow_x": null,
            "overflow_y": null,
            "padding": null,
            "right": null,
            "top": null,
            "visibility": null,
            "width": "auto"
          }
        },
        "d538334226284502b8809b73f4860b4a": {
          "model_module": "@jupyter-widgets/controls",
          "model_name": "ButtonStyleModel",
          "model_module_version": "1.5.0",
          "state": {
            "_model_module": "@jupyter-widgets/controls",
            "_model_module_version": "1.5.0",
            "_model_name": "ButtonStyleModel",
            "_view_count": null,
            "_view_module": "@jupyter-widgets/base",
            "_view_module_version": "1.2.0",
            "_view_name": "StyleView",
            "button_color": null,
            "font_weight": ""
          }
        },
        "39a69fd898b54af698b02b1b06ac7fbc": {
          "model_module": "@jupyter-widgets/controls",
          "model_name": "GridBoxModel",
          "model_module_version": "1.5.0",
          "state": {
            "_dom_classes": [],
            "_model_module": "@jupyter-widgets/controls",
            "_model_module_version": "1.5.0",
            "_model_name": "GridBoxModel",
            "_view_count": null,
            "_view_module": "@jupyter-widgets/controls",
            "_view_module_version": "1.5.0",
            "_view_name": "GridBoxView",
            "box_style": "",
            "children": [
              "IPY_MODEL_8c6655307de545278fe1c00d9bd607d1",
              "IPY_MODEL_4f852e4d3cb14f719fce8c1882c1008c",
              "IPY_MODEL_905487c39efc401388ab6f49e5f8dc8a",
              "IPY_MODEL_d40946c063e0478286a1c9d389285901",
              "IPY_MODEL_18091af6ef6c4c9781ee08953abae34b",
              "IPY_MODEL_7e7d90ff8b8048c5a3fb7b1a0a8bf511",
              "IPY_MODEL_2a8b2404795947f9a0c90ea7380fae03",
              "IPY_MODEL_dbacb0cff8cc4da7bef82ee5cccc5d46"
            ],
            "layout": "IPY_MODEL_54b5340ed50d4bd08e4217e3ff348f1a"
          }
        },
        "8c6655307de545278fe1c00d9bd607d1": {
          "model_module": "@jupyter-widgets/controls",
          "model_name": "ButtonModel",
          "model_module_version": "1.5.0",
          "state": {
            "_dom_classes": [],
            "_model_module": "@jupyter-widgets/controls",
            "_model_module_version": "1.5.0",
            "_model_name": "ButtonModel",
            "_view_count": null,
            "_view_module": "@jupyter-widgets/controls",
            "_view_module_version": "1.5.0",
            "_view_name": "ButtonView",
            "button_style": "warning",
            "description": "Data Cache",
            "disabled": false,
            "icon": "",
            "layout": "IPY_MODEL_e8dec08284bc4ccc9049e0f6679236ca",
            "style": "IPY_MODEL_05323eaa4b504057ab99a1dc1b6e0abc",
            "tooltip": ""
          }
        },
        "4f852e4d3cb14f719fce8c1882c1008c": {
          "model_module": "@jupyter-widgets/controls",
          "model_name": "ButtonModel",
          "model_module_version": "1.5.0",
          "state": {
            "_dom_classes": [],
            "_model_module": "@jupyter-widgets/controls",
            "_model_module_version": "1.5.0",
            "_model_name": "ButtonModel",
            "_view_count": null,
            "_view_module": "@jupyter-widgets/controls",
            "_view_module_version": "1.5.0",
            "_view_name": "ButtonView",
            "button_style": "warning",
            "description": "Size (kB)",
            "disabled": false,
            "icon": "",
            "layout": "IPY_MODEL_64ca50374884487dbd7da2a82f1a1751",
            "style": "IPY_MODEL_c4c662a5e7f14883b4561f29dc37d973",
            "tooltip": ""
          }
        },
        "905487c39efc401388ab6f49e5f8dc8a": {
          "model_module": "@jupyter-widgets/controls",
          "model_name": "DropdownModel",
          "model_module_version": "1.5.0",
          "state": {
            "_dom_classes": [],
            "_model_module": "@jupyter-widgets/controls",
            "_model_module_version": "1.5.0",
            "_model_name": "DropdownModel",
            "_options_labels": [
              "1",
              "2",
              "4",
              "8",
              "16"
            ],
            "_view_count": null,
            "_view_module": "@jupyter-widgets/controls",
            "_view_module_version": "1.5.0",
            "_view_name": "DropdownView",
            "description": "",
            "description_tooltip": null,
            "disabled": false,
            "index": 0,
            "layout": "IPY_MODEL_8691ed395602427eab1d94ed1cfca232",
            "style": "IPY_MODEL_85ac0afb2ace4153bb96e31c27d0da1f"
          }
        },
        "d40946c063e0478286a1c9d389285901": {
          "model_module": "@jupyter-widgets/controls",
          "model_name": "ButtonModel",
          "model_module_version": "1.5.0",
          "state": {
            "_dom_classes": [],
            "_model_module": "@jupyter-widgets/controls",
            "_model_module_version": "1.5.0",
            "_model_name": "ButtonModel",
            "_view_count": null,
            "_view_module": "@jupyter-widgets/controls",
            "_view_module_version": "1.5.0",
            "_view_name": "ButtonView",
            "button_style": "warning",
            "description": "Associative",
            "disabled": false,
            "icon": "",
            "layout": "IPY_MODEL_b17ab3cac8484db78a5b37cc14ada217",
            "style": "IPY_MODEL_bac0868425734d3b99d7759e0f98fafc",
            "tooltip": ""
          }
        },
        "18091af6ef6c4c9781ee08953abae34b": {
          "model_module": "@jupyter-widgets/controls",
          "model_name": "DropdownModel",
          "model_module_version": "1.5.0",
          "state": {
            "_dom_classes": [],
            "_model_module": "@jupyter-widgets/controls",
            "_model_module_version": "1.5.0",
            "_model_name": "DropdownModel",
            "_options_labels": [
              "1",
              "2",
              "4",
              "8",
              "16",
              "32"
            ],
            "_view_count": null,
            "_view_module": "@jupyter-widgets/controls",
            "_view_module_version": "1.5.0",
            "_view_name": "DropdownView",
            "description": "",
            "description_tooltip": null,
            "disabled": false,
            "index": 0,
            "layout": "IPY_MODEL_aa70888108e445f68ab5a0c29a59417a",
            "style": "IPY_MODEL_0b388e6e803440de9b6d1a0985954630"
          }
        },
        "7e7d90ff8b8048c5a3fb7b1a0a8bf511": {
          "model_module": "@jupyter-widgets/controls",
          "model_name": "ButtonModel",
          "model_module_version": "1.5.0",
          "state": {
            "_dom_classes": [],
            "_model_module": "@jupyter-widgets/controls",
            "_model_module_version": "1.5.0",
            "_model_name": "ButtonModel",
            "_view_count": null,
            "_view_module": "@jupyter-widgets/controls",
            "_view_module_version": "1.5.0",
            "_view_name": "ButtonView",
            "button_style": "warning",
            "description": "Line (Bytes)",
            "disabled": false,
            "icon": "",
            "layout": "IPY_MODEL_91f3552782ff4d3fa6986dc2e87134d1",
            "style": "IPY_MODEL_3b3332438f0344c8b21c50e629fc1171",
            "tooltip": ""
          }
        },
        "2a8b2404795947f9a0c90ea7380fae03": {
          "model_module": "@jupyter-widgets/controls",
          "model_name": "DropdownModel",
          "model_module_version": "1.5.0",
          "state": {
            "_dom_classes": [],
            "_model_module": "@jupyter-widgets/controls",
            "_model_module_version": "1.5.0",
            "_model_name": "DropdownModel",
            "_options_labels": [
              "32",
              "64",
              "128"
            ],
            "_view_count": null,
            "_view_module": "@jupyter-widgets/controls",
            "_view_module_version": "1.5.0",
            "_view_name": "DropdownView",
            "description": "",
            "description_tooltip": null,
            "disabled": false,
            "index": 0,
            "layout": "IPY_MODEL_560719a5304a458884fcc2a8378eb58b",
            "style": "IPY_MODEL_9ac3256e1e42481ab9396613afe0de70"
          }
        },
        "dbacb0cff8cc4da7bef82ee5cccc5d46": {
          "model_module": "@jupyter-widgets/controls",
          "model_name": "ButtonModel",
          "model_module_version": "1.5.0",
          "state": {
            "_dom_classes": [],
            "_model_module": "@jupyter-widgets/controls",
            "_model_module_version": "1.5.0",
            "_model_name": "ButtonModel",
            "_view_count": null,
            "_view_module": "@jupyter-widgets/controls",
            "_view_module_version": "1.5.0",
            "_view_name": "ButtonView",
            "button_style": "success",
            "description": "Start execution",
            "disabled": false,
            "icon": "",
            "layout": "IPY_MODEL_dd15759586094073899c777ede1a7d51",
            "style": "IPY_MODEL_4b3a9e4660f7451c8cd2cd7a40e4d414",
            "tooltip": ""
          }
        },
        "54b5340ed50d4bd08e4217e3ff348f1a": {
          "model_module": "@jupyter-widgets/base",
          "model_name": "LayoutModel",
          "model_module_version": "1.2.0",
          "state": {
            "_model_module": "@jupyter-widgets/base",
            "_model_module_version": "1.2.0",
            "_model_name": "LayoutModel",
            "_view_count": null,
            "_view_module": "@jupyter-widgets/base",
            "_view_module_version": "1.2.0",
            "_view_name": "LayoutView",
            "align_content": null,
            "align_items": null,
            "align_self": null,
            "border": null,
            "bottom": null,
            "display": null,
            "flex": null,
            "flex_flow": null,
            "grid_area": null,
            "grid_auto_columns": null,
            "grid_auto_flow": null,
            "grid_auto_rows": null,
            "grid_column": null,
            "grid_gap": null,
            "grid_row": null,
            "grid_template_areas": "\"widget001 . . . . . . . . .\"\n\"widget002 widget003 . . . . . . . .\"\n\"widget004 widget005 . . . . . . . .\"\n\"widget006 widget007 . . . . . . . .\"\n\"widget008 . . . . . . . . .\"",
            "grid_template_columns": "repeat(10, 1fr)",
            "grid_template_rows": "repeat(5, 1fr)",
            "height": null,
            "justify_content": null,
            "justify_items": null,
            "left": null,
            "margin": null,
            "max_height": null,
            "max_width": null,
            "min_height": null,
            "min_width": null,
            "object_fit": null,
            "object_position": null,
            "order": null,
            "overflow": null,
            "overflow_x": null,
            "overflow_y": null,
            "padding": null,
            "right": null,
            "top": null,
            "visibility": null,
            "width": null
          }
        },
        "e8dec08284bc4ccc9049e0f6679236ca": {
          "model_module": "@jupyter-widgets/base",
          "model_name": "LayoutModel",
          "model_module_version": "1.2.0",
          "state": {
            "_model_module": "@jupyter-widgets/base",
            "_model_module_version": "1.2.0",
            "_model_name": "LayoutModel",
            "_view_count": null,
            "_view_module": "@jupyter-widgets/base",
            "_view_module_version": "1.2.0",
            "_view_name": "LayoutView",
            "align_content": null,
            "align_items": null,
            "align_self": null,
            "border": null,
            "bottom": null,
            "display": null,
            "flex": null,
            "flex_flow": null,
            "grid_area": "widget001",
            "grid_auto_columns": null,
            "grid_auto_flow": null,
            "grid_auto_rows": null,
            "grid_column": null,
            "grid_gap": null,
            "grid_row": null,
            "grid_template_areas": null,
            "grid_template_columns": null,
            "grid_template_rows": null,
            "height": "auto",
            "justify_content": null,
            "justify_items": null,
            "left": null,
            "margin": null,
            "max_height": null,
            "max_width": null,
            "min_height": null,
            "min_width": null,
            "object_fit": null,
            "object_position": null,
            "order": null,
            "overflow": null,
            "overflow_x": null,
            "overflow_y": null,
            "padding": null,
            "right": null,
            "top": null,
            "visibility": null,
            "width": "auto"
          }
        },
        "05323eaa4b504057ab99a1dc1b6e0abc": {
          "model_module": "@jupyter-widgets/controls",
          "model_name": "ButtonStyleModel",
          "model_module_version": "1.5.0",
          "state": {
            "_model_module": "@jupyter-widgets/controls",
            "_model_module_version": "1.5.0",
            "_model_name": "ButtonStyleModel",
            "_view_count": null,
            "_view_module": "@jupyter-widgets/base",
            "_view_module_version": "1.2.0",
            "_view_name": "StyleView",
            "button_color": null,
            "font_weight": ""
          }
        },
        "64ca50374884487dbd7da2a82f1a1751": {
          "model_module": "@jupyter-widgets/base",
          "model_name": "LayoutModel",
          "model_module_version": "1.2.0",
          "state": {
            "_model_module": "@jupyter-widgets/base",
            "_model_module_version": "1.2.0",
            "_model_name": "LayoutModel",
            "_view_count": null,
            "_view_module": "@jupyter-widgets/base",
            "_view_module_version": "1.2.0",
            "_view_name": "LayoutView",
            "align_content": null,
            "align_items": null,
            "align_self": null,
            "border": null,
            "bottom": null,
            "display": null,
            "flex": null,
            "flex_flow": null,
            "grid_area": "widget002",
            "grid_auto_columns": null,
            "grid_auto_flow": null,
            "grid_auto_rows": null,
            "grid_column": null,
            "grid_gap": null,
            "grid_row": null,
            "grid_template_areas": null,
            "grid_template_columns": null,
            "grid_template_rows": null,
            "height": "auto",
            "justify_content": null,
            "justify_items": null,
            "left": null,
            "margin": null,
            "max_height": null,
            "max_width": null,
            "min_height": null,
            "min_width": null,
            "object_fit": null,
            "object_position": null,
            "order": null,
            "overflow": null,
            "overflow_x": null,
            "overflow_y": null,
            "padding": null,
            "right": null,
            "top": null,
            "visibility": null,
            "width": "auto"
          }
        },
        "c4c662a5e7f14883b4561f29dc37d973": {
          "model_module": "@jupyter-widgets/controls",
          "model_name": "ButtonStyleModel",
          "model_module_version": "1.5.0",
          "state": {
            "_model_module": "@jupyter-widgets/controls",
            "_model_module_version": "1.5.0",
            "_model_name": "ButtonStyleModel",
            "_view_count": null,
            "_view_module": "@jupyter-widgets/base",
            "_view_module_version": "1.2.0",
            "_view_name": "StyleView",
            "button_color": null,
            "font_weight": ""
          }
        },
        "8691ed395602427eab1d94ed1cfca232": {
          "model_module": "@jupyter-widgets/base",
          "model_name": "LayoutModel",
          "model_module_version": "1.2.0",
          "state": {
            "_model_module": "@jupyter-widgets/base",
            "_model_module_version": "1.2.0",
            "_model_name": "LayoutModel",
            "_view_count": null,
            "_view_module": "@jupyter-widgets/base",
            "_view_module_version": "1.2.0",
            "_view_name": "LayoutView",
            "align_content": null,
            "align_items": null,
            "align_self": null,
            "border": null,
            "bottom": null,
            "display": null,
            "flex": null,
            "flex_flow": null,
            "grid_area": "widget003",
            "grid_auto_columns": null,
            "grid_auto_flow": null,
            "grid_auto_rows": null,
            "grid_column": null,
            "grid_gap": null,
            "grid_row": null,
            "grid_template_areas": null,
            "grid_template_columns": null,
            "grid_template_rows": null,
            "height": "30px",
            "justify_content": null,
            "justify_items": null,
            "left": null,
            "margin": null,
            "max_height": null,
            "max_width": null,
            "min_height": null,
            "min_width": null,
            "object_fit": null,
            "object_position": null,
            "order": null,
            "overflow": null,
            "overflow_x": null,
            "overflow_y": null,
            "padding": null,
            "right": null,
            "top": null,
            "visibility": null,
            "width": "auto"
          }
        },
        "85ac0afb2ace4153bb96e31c27d0da1f": {
          "model_module": "@jupyter-widgets/controls",
          "model_name": "DescriptionStyleModel",
          "model_module_version": "1.5.0",
          "state": {
            "_model_module": "@jupyter-widgets/controls",
            "_model_module_version": "1.5.0",
            "_model_name": "DescriptionStyleModel",
            "_view_count": null,
            "_view_module": "@jupyter-widgets/base",
            "_view_module_version": "1.2.0",
            "_view_name": "StyleView",
            "description_width": ""
          }
        },
        "b17ab3cac8484db78a5b37cc14ada217": {
          "model_module": "@jupyter-widgets/base",
          "model_name": "LayoutModel",
          "model_module_version": "1.2.0",
          "state": {
            "_model_module": "@jupyter-widgets/base",
            "_model_module_version": "1.2.0",
            "_model_name": "LayoutModel",
            "_view_count": null,
            "_view_module": "@jupyter-widgets/base",
            "_view_module_version": "1.2.0",
            "_view_name": "LayoutView",
            "align_content": null,
            "align_items": null,
            "align_self": null,
            "border": null,
            "bottom": null,
            "display": null,
            "flex": null,
            "flex_flow": null,
            "grid_area": "widget004",
            "grid_auto_columns": null,
            "grid_auto_flow": null,
            "grid_auto_rows": null,
            "grid_column": null,
            "grid_gap": null,
            "grid_row": null,
            "grid_template_areas": null,
            "grid_template_columns": null,
            "grid_template_rows": null,
            "height": "auto",
            "justify_content": null,
            "justify_items": null,
            "left": null,
            "margin": null,
            "max_height": null,
            "max_width": null,
            "min_height": null,
            "min_width": null,
            "object_fit": null,
            "object_position": null,
            "order": null,
            "overflow": null,
            "overflow_x": null,
            "overflow_y": null,
            "padding": null,
            "right": null,
            "top": null,
            "visibility": null,
            "width": "auto"
          }
        },
        "bac0868425734d3b99d7759e0f98fafc": {
          "model_module": "@jupyter-widgets/controls",
          "model_name": "ButtonStyleModel",
          "model_module_version": "1.5.0",
          "state": {
            "_model_module": "@jupyter-widgets/controls",
            "_model_module_version": "1.5.0",
            "_model_name": "ButtonStyleModel",
            "_view_count": null,
            "_view_module": "@jupyter-widgets/base",
            "_view_module_version": "1.2.0",
            "_view_name": "StyleView",
            "button_color": null,
            "font_weight": ""
          }
        },
        "aa70888108e445f68ab5a0c29a59417a": {
          "model_module": "@jupyter-widgets/base",
          "model_name": "LayoutModel",
          "model_module_version": "1.2.0",
          "state": {
            "_model_module": "@jupyter-widgets/base",
            "_model_module_version": "1.2.0",
            "_model_name": "LayoutModel",
            "_view_count": null,
            "_view_module": "@jupyter-widgets/base",
            "_view_module_version": "1.2.0",
            "_view_name": "LayoutView",
            "align_content": null,
            "align_items": null,
            "align_self": null,
            "border": null,
            "bottom": null,
            "display": null,
            "flex": null,
            "flex_flow": null,
            "grid_area": "widget005",
            "grid_auto_columns": null,
            "grid_auto_flow": null,
            "grid_auto_rows": null,
            "grid_column": null,
            "grid_gap": null,
            "grid_row": null,
            "grid_template_areas": null,
            "grid_template_columns": null,
            "grid_template_rows": null,
            "height": "30px",
            "justify_content": null,
            "justify_items": null,
            "left": null,
            "margin": null,
            "max_height": null,
            "max_width": null,
            "min_height": null,
            "min_width": null,
            "object_fit": null,
            "object_position": null,
            "order": null,
            "overflow": null,
            "overflow_x": null,
            "overflow_y": null,
            "padding": null,
            "right": null,
            "top": null,
            "visibility": null,
            "width": "auto"
          }
        },
        "0b388e6e803440de9b6d1a0985954630": {
          "model_module": "@jupyter-widgets/controls",
          "model_name": "DescriptionStyleModel",
          "model_module_version": "1.5.0",
          "state": {
            "_model_module": "@jupyter-widgets/controls",
            "_model_module_version": "1.5.0",
            "_model_name": "DescriptionStyleModel",
            "_view_count": null,
            "_view_module": "@jupyter-widgets/base",
            "_view_module_version": "1.2.0",
            "_view_name": "StyleView",
            "description_width": ""
          }
        },
        "91f3552782ff4d3fa6986dc2e87134d1": {
          "model_module": "@jupyter-widgets/base",
          "model_name": "LayoutModel",
          "model_module_version": "1.2.0",
          "state": {
            "_model_module": "@jupyter-widgets/base",
            "_model_module_version": "1.2.0",
            "_model_name": "LayoutModel",
            "_view_count": null,
            "_view_module": "@jupyter-widgets/base",
            "_view_module_version": "1.2.0",
            "_view_name": "LayoutView",
            "align_content": null,
            "align_items": null,
            "align_self": null,
            "border": null,
            "bottom": null,
            "display": null,
            "flex": null,
            "flex_flow": null,
            "grid_area": "widget006",
            "grid_auto_columns": null,
            "grid_auto_flow": null,
            "grid_auto_rows": null,
            "grid_column": null,
            "grid_gap": null,
            "grid_row": null,
            "grid_template_areas": null,
            "grid_template_columns": null,
            "grid_template_rows": null,
            "height": "auto",
            "justify_content": null,
            "justify_items": null,
            "left": null,
            "margin": null,
            "max_height": null,
            "max_width": null,
            "min_height": null,
            "min_width": null,
            "object_fit": null,
            "object_position": null,
            "order": null,
            "overflow": null,
            "overflow_x": null,
            "overflow_y": null,
            "padding": null,
            "right": null,
            "top": null,
            "visibility": null,
            "width": "auto"
          }
        },
        "3b3332438f0344c8b21c50e629fc1171": {
          "model_module": "@jupyter-widgets/controls",
          "model_name": "ButtonStyleModel",
          "model_module_version": "1.5.0",
          "state": {
            "_model_module": "@jupyter-widgets/controls",
            "_model_module_version": "1.5.0",
            "_model_name": "ButtonStyleModel",
            "_view_count": null,
            "_view_module": "@jupyter-widgets/base",
            "_view_module_version": "1.2.0",
            "_view_name": "StyleView",
            "button_color": null,
            "font_weight": ""
          }
        },
        "560719a5304a458884fcc2a8378eb58b": {
          "model_module": "@jupyter-widgets/base",
          "model_name": "LayoutModel",
          "model_module_version": "1.2.0",
          "state": {
            "_model_module": "@jupyter-widgets/base",
            "_model_module_version": "1.2.0",
            "_model_name": "LayoutModel",
            "_view_count": null,
            "_view_module": "@jupyter-widgets/base",
            "_view_module_version": "1.2.0",
            "_view_name": "LayoutView",
            "align_content": null,
            "align_items": null,
            "align_self": null,
            "border": null,
            "bottom": null,
            "display": null,
            "flex": null,
            "flex_flow": null,
            "grid_area": "widget007",
            "grid_auto_columns": null,
            "grid_auto_flow": null,
            "grid_auto_rows": null,
            "grid_column": null,
            "grid_gap": null,
            "grid_row": null,
            "grid_template_areas": null,
            "grid_template_columns": null,
            "grid_template_rows": null,
            "height": "30px",
            "justify_content": null,
            "justify_items": null,
            "left": null,
            "margin": null,
            "max_height": null,
            "max_width": null,
            "min_height": null,
            "min_width": null,
            "object_fit": null,
            "object_position": null,
            "order": null,
            "overflow": null,
            "overflow_x": null,
            "overflow_y": null,
            "padding": null,
            "right": null,
            "top": null,
            "visibility": null,
            "width": "auto"
          }
        },
        "9ac3256e1e42481ab9396613afe0de70": {
          "model_module": "@jupyter-widgets/controls",
          "model_name": "DescriptionStyleModel",
          "model_module_version": "1.5.0",
          "state": {
            "_model_module": "@jupyter-widgets/controls",
            "_model_module_version": "1.5.0",
            "_model_name": "DescriptionStyleModel",
            "_view_count": null,
            "_view_module": "@jupyter-widgets/base",
            "_view_module_version": "1.2.0",
            "_view_name": "StyleView",
            "description_width": ""
          }
        },
        "dd15759586094073899c777ede1a7d51": {
          "model_module": "@jupyter-widgets/base",
          "model_name": "LayoutModel",
          "model_module_version": "1.2.0",
          "state": {
            "_model_module": "@jupyter-widgets/base",
            "_model_module_version": "1.2.0",
            "_model_name": "LayoutModel",
            "_view_count": null,
            "_view_module": "@jupyter-widgets/base",
            "_view_module_version": "1.2.0",
            "_view_name": "LayoutView",
            "align_content": null,
            "align_items": null,
            "align_self": null,
            "border": null,
            "bottom": null,
            "display": null,
            "flex": null,
            "flex_flow": null,
            "grid_area": "widget008",
            "grid_auto_columns": null,
            "grid_auto_flow": null,
            "grid_auto_rows": null,
            "grid_column": null,
            "grid_gap": null,
            "grid_row": null,
            "grid_template_areas": null,
            "grid_template_columns": null,
            "grid_template_rows": null,
            "height": "auto",
            "justify_content": null,
            "justify_items": null,
            "left": null,
            "margin": null,
            "max_height": null,
            "max_width": null,
            "min_height": null,
            "min_width": null,
            "object_fit": null,
            "object_position": null,
            "order": null,
            "overflow": null,
            "overflow_x": null,
            "overflow_y": null,
            "padding": null,
            "right": null,
            "top": null,
            "visibility": null,
            "width": "auto"
          }
        },
        "4b3a9e4660f7451c8cd2cd7a40e4d414": {
          "model_module": "@jupyter-widgets/controls",
          "model_name": "ButtonStyleModel",
          "model_module_version": "1.5.0",
          "state": {
            "_model_module": "@jupyter-widgets/controls",
            "_model_module_version": "1.5.0",
            "_model_name": "ButtonStyleModel",
            "_view_count": null,
            "_view_module": "@jupyter-widgets/base",
            "_view_module_version": "1.2.0",
            "_view_name": "StyleView",
            "button_color": null,
            "font_weight": ""
          }
        },
        "6bbaf065eedf47baa8789406125d9565": {
          "model_module": "@jupyter-widgets/controls",
          "model_name": "GridBoxModel",
          "model_module_version": "1.5.0",
          "state": {
            "_dom_classes": [],
            "_model_module": "@jupyter-widgets/controls",
            "_model_module_version": "1.5.0",
            "_model_name": "GridBoxModel",
            "_view_count": null,
            "_view_module": "@jupyter-widgets/controls",
            "_view_module_version": "1.5.0",
            "_view_name": "GridBoxView",
            "box_style": "",
            "children": [
              "IPY_MODEL_cb6bca59596540eda73ba9141b30f553",
              "IPY_MODEL_917a82024288447d9066843795b92f3c",
              "IPY_MODEL_8d6cde62f4794e16a4531acc03aea249",
              "IPY_MODEL_bb4b70f13bf8435f9d931726bd436a61",
              "IPY_MODEL_17f1b46fa0ca4150a780397bbb4976ac",
              "IPY_MODEL_b71338dd914e424384df0fb0d5ddb247",
              "IPY_MODEL_33f87c04143f468f800d1d834d758cc4",
              "IPY_MODEL_b34bd6c438134ab68cef434ddcdb8064"
            ],
            "layout": "IPY_MODEL_2877a70aa9e841c9903a590917ce0549"
          }
        },
        "cb6bca59596540eda73ba9141b30f553": {
          "model_module": "@jupyter-widgets/controls",
          "model_name": "ButtonModel",
          "model_module_version": "1.5.0",
          "state": {
            "_dom_classes": [],
            "_model_module": "@jupyter-widgets/controls",
            "_model_module_version": "1.5.0",
            "_model_name": "ButtonModel",
            "_view_count": null,
            "_view_module": "@jupyter-widgets/controls",
            "_view_module_version": "1.5.0",
            "_view_name": "ButtonView",
            "button_style": "warning",
            "description": "Data Cache",
            "disabled": false,
            "icon": "",
            "layout": "IPY_MODEL_989010e02d534a52ba4a2a7351b60a5a",
            "style": "IPY_MODEL_8757f77bc2a34f65a098738d58c1e2d0",
            "tooltip": ""
          }
        },
        "917a82024288447d9066843795b92f3c": {
          "model_module": "@jupyter-widgets/controls",
          "model_name": "ButtonModel",
          "model_module_version": "1.5.0",
          "state": {
            "_dom_classes": [],
            "_model_module": "@jupyter-widgets/controls",
            "_model_module_version": "1.5.0",
            "_model_name": "ButtonModel",
            "_view_count": null,
            "_view_module": "@jupyter-widgets/controls",
            "_view_module_version": "1.5.0",
            "_view_name": "ButtonView",
            "button_style": "warning",
            "description": "Size (kB)",
            "disabled": false,
            "icon": "",
            "layout": "IPY_MODEL_3b61d0f228e1451391fd86ae02bf2884",
            "style": "IPY_MODEL_19cd38c2d013413eb4347adfd610a21e",
            "tooltip": ""
          }
        },
        "8d6cde62f4794e16a4531acc03aea249": {
          "model_module": "@jupyter-widgets/controls",
          "model_name": "DropdownModel",
          "model_module_version": "1.5.0",
          "state": {
            "_dom_classes": [],
            "_model_module": "@jupyter-widgets/controls",
            "_model_module_version": "1.5.0",
            "_model_name": "DropdownModel",
            "_options_labels": [
              "1",
              "2",
              "4",
              "8",
              "16"
            ],
            "_view_count": null,
            "_view_module": "@jupyter-widgets/controls",
            "_view_module_version": "1.5.0",
            "_view_name": "DropdownView",
            "description": "",
            "description_tooltip": null,
            "disabled": false,
            "index": 0,
            "layout": "IPY_MODEL_069f1f7e5109435099f5a68822bd830b",
            "style": "IPY_MODEL_7eada567b8a4440eab2dc67b6c28fe54"
          }
        },
        "bb4b70f13bf8435f9d931726bd436a61": {
          "model_module": "@jupyter-widgets/controls",
          "model_name": "ButtonModel",
          "model_module_version": "1.5.0",
          "state": {
            "_dom_classes": [],
            "_model_module": "@jupyter-widgets/controls",
            "_model_module_version": "1.5.0",
            "_model_name": "ButtonModel",
            "_view_count": null,
            "_view_module": "@jupyter-widgets/controls",
            "_view_module_version": "1.5.0",
            "_view_name": "ButtonView",
            "button_style": "warning",
            "description": "Associative",
            "disabled": false,
            "icon": "",
            "layout": "IPY_MODEL_abe8370d72d24cb1af189affee185e73",
            "style": "IPY_MODEL_5240bb79d8d84c15bb48eb44c6828c96",
            "tooltip": ""
          }
        },
        "17f1b46fa0ca4150a780397bbb4976ac": {
          "model_module": "@jupyter-widgets/controls",
          "model_name": "DropdownModel",
          "model_module_version": "1.5.0",
          "state": {
            "_dom_classes": [],
            "_model_module": "@jupyter-widgets/controls",
            "_model_module_version": "1.5.0",
            "_model_name": "DropdownModel",
            "_options_labels": [
              "1",
              "2",
              "4",
              "8",
              "16",
              "32"
            ],
            "_view_count": null,
            "_view_module": "@jupyter-widgets/controls",
            "_view_module_version": "1.5.0",
            "_view_name": "DropdownView",
            "description": "",
            "description_tooltip": null,
            "disabled": false,
            "index": 0,
            "layout": "IPY_MODEL_6c07335e5d6443e2a43bf68102d7d405",
            "style": "IPY_MODEL_d28bc541a6bd4c7dae2a717ced1a1cc4"
          }
        },
        "b71338dd914e424384df0fb0d5ddb247": {
          "model_module": "@jupyter-widgets/controls",
          "model_name": "ButtonModel",
          "model_module_version": "1.5.0",
          "state": {
            "_dom_classes": [],
            "_model_module": "@jupyter-widgets/controls",
            "_model_module_version": "1.5.0",
            "_model_name": "ButtonModel",
            "_view_count": null,
            "_view_module": "@jupyter-widgets/controls",
            "_view_module_version": "1.5.0",
            "_view_name": "ButtonView",
            "button_style": "warning",
            "description": "Line (Bytes)",
            "disabled": false,
            "icon": "",
            "layout": "IPY_MODEL_5bdb5922c1b9499b81a6a116bfab0693",
            "style": "IPY_MODEL_51af9ea959e940ea8149c7f2dbc2dd66",
            "tooltip": ""
          }
        },
        "33f87c04143f468f800d1d834d758cc4": {
          "model_module": "@jupyter-widgets/controls",
          "model_name": "DropdownModel",
          "model_module_version": "1.5.0",
          "state": {
            "_dom_classes": [],
            "_model_module": "@jupyter-widgets/controls",
            "_model_module_version": "1.5.0",
            "_model_name": "DropdownModel",
            "_options_labels": [
              "32",
              "64",
              "128"
            ],
            "_view_count": null,
            "_view_module": "@jupyter-widgets/controls",
            "_view_module_version": "1.5.0",
            "_view_name": "DropdownView",
            "description": "",
            "description_tooltip": null,
            "disabled": false,
            "index": 0,
            "layout": "IPY_MODEL_53c08a524d7b491091321abf5c07f2ba",
            "style": "IPY_MODEL_e50896386d974b969166b4587ba3b491"
          }
        },
        "b34bd6c438134ab68cef434ddcdb8064": {
          "model_module": "@jupyter-widgets/controls",
          "model_name": "ButtonModel",
          "model_module_version": "1.5.0",
          "state": {
            "_dom_classes": [],
            "_model_module": "@jupyter-widgets/controls",
            "_model_module_version": "1.5.0",
            "_model_name": "ButtonModel",
            "_view_count": null,
            "_view_module": "@jupyter-widgets/controls",
            "_view_module_version": "1.5.0",
            "_view_name": "ButtonView",
            "button_style": "success",
            "description": "Start execution",
            "disabled": false,
            "icon": "",
            "layout": "IPY_MODEL_23834f20d140494b935ffc555cd286df",
            "style": "IPY_MODEL_b33a96d141f54fbba6a10c7eb22697f7",
            "tooltip": ""
          }
        },
        "2877a70aa9e841c9903a590917ce0549": {
          "model_module": "@jupyter-widgets/base",
          "model_name": "LayoutModel",
          "model_module_version": "1.2.0",
          "state": {
            "_model_module": "@jupyter-widgets/base",
            "_model_module_version": "1.2.0",
            "_model_name": "LayoutModel",
            "_view_count": null,
            "_view_module": "@jupyter-widgets/base",
            "_view_module_version": "1.2.0",
            "_view_name": "LayoutView",
            "align_content": null,
            "align_items": null,
            "align_self": null,
            "border": null,
            "bottom": null,
            "display": null,
            "flex": null,
            "flex_flow": null,
            "grid_area": null,
            "grid_auto_columns": null,
            "grid_auto_flow": null,
            "grid_auto_rows": null,
            "grid_column": null,
            "grid_gap": null,
            "grid_row": null,
            "grid_template_areas": "\"widget001 . . . . . . . . .\"\n\"widget002 widget003 . . . . . . . .\"\n\"widget004 widget005 . . . . . . . .\"\n\"widget006 widget007 . . . . . . . .\"\n\"widget008 . . . . . . . . .\"",
            "grid_template_columns": "repeat(10, 1fr)",
            "grid_template_rows": "repeat(5, 1fr)",
            "height": null,
            "justify_content": null,
            "justify_items": null,
            "left": null,
            "margin": null,
            "max_height": null,
            "max_width": null,
            "min_height": null,
            "min_width": null,
            "object_fit": null,
            "object_position": null,
            "order": null,
            "overflow": null,
            "overflow_x": null,
            "overflow_y": null,
            "padding": null,
            "right": null,
            "top": null,
            "visibility": null,
            "width": null
          }
        },
        "989010e02d534a52ba4a2a7351b60a5a": {
          "model_module": "@jupyter-widgets/base",
          "model_name": "LayoutModel",
          "model_module_version": "1.2.0",
          "state": {
            "_model_module": "@jupyter-widgets/base",
            "_model_module_version": "1.2.0",
            "_model_name": "LayoutModel",
            "_view_count": null,
            "_view_module": "@jupyter-widgets/base",
            "_view_module_version": "1.2.0",
            "_view_name": "LayoutView",
            "align_content": null,
            "align_items": null,
            "align_self": null,
            "border": null,
            "bottom": null,
            "display": null,
            "flex": null,
            "flex_flow": null,
            "grid_area": "widget001",
            "grid_auto_columns": null,
            "grid_auto_flow": null,
            "grid_auto_rows": null,
            "grid_column": null,
            "grid_gap": null,
            "grid_row": null,
            "grid_template_areas": null,
            "grid_template_columns": null,
            "grid_template_rows": null,
            "height": "auto",
            "justify_content": null,
            "justify_items": null,
            "left": null,
            "margin": null,
            "max_height": null,
            "max_width": null,
            "min_height": null,
            "min_width": null,
            "object_fit": null,
            "object_position": null,
            "order": null,
            "overflow": null,
            "overflow_x": null,
            "overflow_y": null,
            "padding": null,
            "right": null,
            "top": null,
            "visibility": null,
            "width": "auto"
          }
        },
        "8757f77bc2a34f65a098738d58c1e2d0": {
          "model_module": "@jupyter-widgets/controls",
          "model_name": "ButtonStyleModel",
          "model_module_version": "1.5.0",
          "state": {
            "_model_module": "@jupyter-widgets/controls",
            "_model_module_version": "1.5.0",
            "_model_name": "ButtonStyleModel",
            "_view_count": null,
            "_view_module": "@jupyter-widgets/base",
            "_view_module_version": "1.2.0",
            "_view_name": "StyleView",
            "button_color": null,
            "font_weight": ""
          }
        },
        "3b61d0f228e1451391fd86ae02bf2884": {
          "model_module": "@jupyter-widgets/base",
          "model_name": "LayoutModel",
          "model_module_version": "1.2.0",
          "state": {
            "_model_module": "@jupyter-widgets/base",
            "_model_module_version": "1.2.0",
            "_model_name": "LayoutModel",
            "_view_count": null,
            "_view_module": "@jupyter-widgets/base",
            "_view_module_version": "1.2.0",
            "_view_name": "LayoutView",
            "align_content": null,
            "align_items": null,
            "align_self": null,
            "border": null,
            "bottom": null,
            "display": null,
            "flex": null,
            "flex_flow": null,
            "grid_area": "widget002",
            "grid_auto_columns": null,
            "grid_auto_flow": null,
            "grid_auto_rows": null,
            "grid_column": null,
            "grid_gap": null,
            "grid_row": null,
            "grid_template_areas": null,
            "grid_template_columns": null,
            "grid_template_rows": null,
            "height": "auto",
            "justify_content": null,
            "justify_items": null,
            "left": null,
            "margin": null,
            "max_height": null,
            "max_width": null,
            "min_height": null,
            "min_width": null,
            "object_fit": null,
            "object_position": null,
            "order": null,
            "overflow": null,
            "overflow_x": null,
            "overflow_y": null,
            "padding": null,
            "right": null,
            "top": null,
            "visibility": null,
            "width": "auto"
          }
        },
        "19cd38c2d013413eb4347adfd610a21e": {
          "model_module": "@jupyter-widgets/controls",
          "model_name": "ButtonStyleModel",
          "model_module_version": "1.5.0",
          "state": {
            "_model_module": "@jupyter-widgets/controls",
            "_model_module_version": "1.5.0",
            "_model_name": "ButtonStyleModel",
            "_view_count": null,
            "_view_module": "@jupyter-widgets/base",
            "_view_module_version": "1.2.0",
            "_view_name": "StyleView",
            "button_color": null,
            "font_weight": ""
          }
        },
        "069f1f7e5109435099f5a68822bd830b": {
          "model_module": "@jupyter-widgets/base",
          "model_name": "LayoutModel",
          "model_module_version": "1.2.0",
          "state": {
            "_model_module": "@jupyter-widgets/base",
            "_model_module_version": "1.2.0",
            "_model_name": "LayoutModel",
            "_view_count": null,
            "_view_module": "@jupyter-widgets/base",
            "_view_module_version": "1.2.0",
            "_view_name": "LayoutView",
            "align_content": null,
            "align_items": null,
            "align_self": null,
            "border": null,
            "bottom": null,
            "display": null,
            "flex": null,
            "flex_flow": null,
            "grid_area": "widget003",
            "grid_auto_columns": null,
            "grid_auto_flow": null,
            "grid_auto_rows": null,
            "grid_column": null,
            "grid_gap": null,
            "grid_row": null,
            "grid_template_areas": null,
            "grid_template_columns": null,
            "grid_template_rows": null,
            "height": "30px",
            "justify_content": null,
            "justify_items": null,
            "left": null,
            "margin": null,
            "max_height": null,
            "max_width": null,
            "min_height": null,
            "min_width": null,
            "object_fit": null,
            "object_position": null,
            "order": null,
            "overflow": null,
            "overflow_x": null,
            "overflow_y": null,
            "padding": null,
            "right": null,
            "top": null,
            "visibility": null,
            "width": "auto"
          }
        },
        "7eada567b8a4440eab2dc67b6c28fe54": {
          "model_module": "@jupyter-widgets/controls",
          "model_name": "DescriptionStyleModel",
          "model_module_version": "1.5.0",
          "state": {
            "_model_module": "@jupyter-widgets/controls",
            "_model_module_version": "1.5.0",
            "_model_name": "DescriptionStyleModel",
            "_view_count": null,
            "_view_module": "@jupyter-widgets/base",
            "_view_module_version": "1.2.0",
            "_view_name": "StyleView",
            "description_width": ""
          }
        },
        "abe8370d72d24cb1af189affee185e73": {
          "model_module": "@jupyter-widgets/base",
          "model_name": "LayoutModel",
          "model_module_version": "1.2.0",
          "state": {
            "_model_module": "@jupyter-widgets/base",
            "_model_module_version": "1.2.0",
            "_model_name": "LayoutModel",
            "_view_count": null,
            "_view_module": "@jupyter-widgets/base",
            "_view_module_version": "1.2.0",
            "_view_name": "LayoutView",
            "align_content": null,
            "align_items": null,
            "align_self": null,
            "border": null,
            "bottom": null,
            "display": null,
            "flex": null,
            "flex_flow": null,
            "grid_area": "widget004",
            "grid_auto_columns": null,
            "grid_auto_flow": null,
            "grid_auto_rows": null,
            "grid_column": null,
            "grid_gap": null,
            "grid_row": null,
            "grid_template_areas": null,
            "grid_template_columns": null,
            "grid_template_rows": null,
            "height": "auto",
            "justify_content": null,
            "justify_items": null,
            "left": null,
            "margin": null,
            "max_height": null,
            "max_width": null,
            "min_height": null,
            "min_width": null,
            "object_fit": null,
            "object_position": null,
            "order": null,
            "overflow": null,
            "overflow_x": null,
            "overflow_y": null,
            "padding": null,
            "right": null,
            "top": null,
            "visibility": null,
            "width": "auto"
          }
        },
        "5240bb79d8d84c15bb48eb44c6828c96": {
          "model_module": "@jupyter-widgets/controls",
          "model_name": "ButtonStyleModel",
          "model_module_version": "1.5.0",
          "state": {
            "_model_module": "@jupyter-widgets/controls",
            "_model_module_version": "1.5.0",
            "_model_name": "ButtonStyleModel",
            "_view_count": null,
            "_view_module": "@jupyter-widgets/base",
            "_view_module_version": "1.2.0",
            "_view_name": "StyleView",
            "button_color": null,
            "font_weight": ""
          }
        },
        "6c07335e5d6443e2a43bf68102d7d405": {
          "model_module": "@jupyter-widgets/base",
          "model_name": "LayoutModel",
          "model_module_version": "1.2.0",
          "state": {
            "_model_module": "@jupyter-widgets/base",
            "_model_module_version": "1.2.0",
            "_model_name": "LayoutModel",
            "_view_count": null,
            "_view_module": "@jupyter-widgets/base",
            "_view_module_version": "1.2.0",
            "_view_name": "LayoutView",
            "align_content": null,
            "align_items": null,
            "align_self": null,
            "border": null,
            "bottom": null,
            "display": null,
            "flex": null,
            "flex_flow": null,
            "grid_area": "widget005",
            "grid_auto_columns": null,
            "grid_auto_flow": null,
            "grid_auto_rows": null,
            "grid_column": null,
            "grid_gap": null,
            "grid_row": null,
            "grid_template_areas": null,
            "grid_template_columns": null,
            "grid_template_rows": null,
            "height": "30px",
            "justify_content": null,
            "justify_items": null,
            "left": null,
            "margin": null,
            "max_height": null,
            "max_width": null,
            "min_height": null,
            "min_width": null,
            "object_fit": null,
            "object_position": null,
            "order": null,
            "overflow": null,
            "overflow_x": null,
            "overflow_y": null,
            "padding": null,
            "right": null,
            "top": null,
            "visibility": null,
            "width": "auto"
          }
        },
        "d28bc541a6bd4c7dae2a717ced1a1cc4": {
          "model_module": "@jupyter-widgets/controls",
          "model_name": "DescriptionStyleModel",
          "model_module_version": "1.5.0",
          "state": {
            "_model_module": "@jupyter-widgets/controls",
            "_model_module_version": "1.5.0",
            "_model_name": "DescriptionStyleModel",
            "_view_count": null,
            "_view_module": "@jupyter-widgets/base",
            "_view_module_version": "1.2.0",
            "_view_name": "StyleView",
            "description_width": ""
          }
        },
        "5bdb5922c1b9499b81a6a116bfab0693": {
          "model_module": "@jupyter-widgets/base",
          "model_name": "LayoutModel",
          "model_module_version": "1.2.0",
          "state": {
            "_model_module": "@jupyter-widgets/base",
            "_model_module_version": "1.2.0",
            "_model_name": "LayoutModel",
            "_view_count": null,
            "_view_module": "@jupyter-widgets/base",
            "_view_module_version": "1.2.0",
            "_view_name": "LayoutView",
            "align_content": null,
            "align_items": null,
            "align_self": null,
            "border": null,
            "bottom": null,
            "display": null,
            "flex": null,
            "flex_flow": null,
            "grid_area": "widget006",
            "grid_auto_columns": null,
            "grid_auto_flow": null,
            "grid_auto_rows": null,
            "grid_column": null,
            "grid_gap": null,
            "grid_row": null,
            "grid_template_areas": null,
            "grid_template_columns": null,
            "grid_template_rows": null,
            "height": "auto",
            "justify_content": null,
            "justify_items": null,
            "left": null,
            "margin": null,
            "max_height": null,
            "max_width": null,
            "min_height": null,
            "min_width": null,
            "object_fit": null,
            "object_position": null,
            "order": null,
            "overflow": null,
            "overflow_x": null,
            "overflow_y": null,
            "padding": null,
            "right": null,
            "top": null,
            "visibility": null,
            "width": "auto"
          }
        },
        "51af9ea959e940ea8149c7f2dbc2dd66": {
          "model_module": "@jupyter-widgets/controls",
          "model_name": "ButtonStyleModel",
          "model_module_version": "1.5.0",
          "state": {
            "_model_module": "@jupyter-widgets/controls",
            "_model_module_version": "1.5.0",
            "_model_name": "ButtonStyleModel",
            "_view_count": null,
            "_view_module": "@jupyter-widgets/base",
            "_view_module_version": "1.2.0",
            "_view_name": "StyleView",
            "button_color": null,
            "font_weight": ""
          }
        },
        "53c08a524d7b491091321abf5c07f2ba": {
          "model_module": "@jupyter-widgets/base",
          "model_name": "LayoutModel",
          "model_module_version": "1.2.0",
          "state": {
            "_model_module": "@jupyter-widgets/base",
            "_model_module_version": "1.2.0",
            "_model_name": "LayoutModel",
            "_view_count": null,
            "_view_module": "@jupyter-widgets/base",
            "_view_module_version": "1.2.0",
            "_view_name": "LayoutView",
            "align_content": null,
            "align_items": null,
            "align_self": null,
            "border": null,
            "bottom": null,
            "display": null,
            "flex": null,
            "flex_flow": null,
            "grid_area": "widget007",
            "grid_auto_columns": null,
            "grid_auto_flow": null,
            "grid_auto_rows": null,
            "grid_column": null,
            "grid_gap": null,
            "grid_row": null,
            "grid_template_areas": null,
            "grid_template_columns": null,
            "grid_template_rows": null,
            "height": "30px",
            "justify_content": null,
            "justify_items": null,
            "left": null,
            "margin": null,
            "max_height": null,
            "max_width": null,
            "min_height": null,
            "min_width": null,
            "object_fit": null,
            "object_position": null,
            "order": null,
            "overflow": null,
            "overflow_x": null,
            "overflow_y": null,
            "padding": null,
            "right": null,
            "top": null,
            "visibility": null,
            "width": "auto"
          }
        },
        "e50896386d974b969166b4587ba3b491": {
          "model_module": "@jupyter-widgets/controls",
          "model_name": "DescriptionStyleModel",
          "model_module_version": "1.5.0",
          "state": {
            "_model_module": "@jupyter-widgets/controls",
            "_model_module_version": "1.5.0",
            "_model_name": "DescriptionStyleModel",
            "_view_count": null,
            "_view_module": "@jupyter-widgets/base",
            "_view_module_version": "1.2.0",
            "_view_name": "StyleView",
            "description_width": ""
          }
        },
        "23834f20d140494b935ffc555cd286df": {
          "model_module": "@jupyter-widgets/base",
          "model_name": "LayoutModel",
          "model_module_version": "1.2.0",
          "state": {
            "_model_module": "@jupyter-widgets/base",
            "_model_module_version": "1.2.0",
            "_model_name": "LayoutModel",
            "_view_count": null,
            "_view_module": "@jupyter-widgets/base",
            "_view_module_version": "1.2.0",
            "_view_name": "LayoutView",
            "align_content": null,
            "align_items": null,
            "align_self": null,
            "border": null,
            "bottom": null,
            "display": null,
            "flex": null,
            "flex_flow": null,
            "grid_area": "widget008",
            "grid_auto_columns": null,
            "grid_auto_flow": null,
            "grid_auto_rows": null,
            "grid_column": null,
            "grid_gap": null,
            "grid_row": null,
            "grid_template_areas": null,
            "grid_template_columns": null,
            "grid_template_rows": null,
            "height": "auto",
            "justify_content": null,
            "justify_items": null,
            "left": null,
            "margin": null,
            "max_height": null,
            "max_width": null,
            "min_height": null,
            "min_width": null,
            "object_fit": null,
            "object_position": null,
            "order": null,
            "overflow": null,
            "overflow_x": null,
            "overflow_y": null,
            "padding": null,
            "right": null,
            "top": null,
            "visibility": null,
            "width": "auto"
          }
        },
        "b33a96d141f54fbba6a10c7eb22697f7": {
          "model_module": "@jupyter-widgets/controls",
          "model_name": "ButtonStyleModel",
          "model_module_version": "1.5.0",
          "state": {
            "_model_module": "@jupyter-widgets/controls",
            "_model_module_version": "1.5.0",
            "_model_name": "ButtonStyleModel",
            "_view_count": null,
            "_view_module": "@jupyter-widgets/base",
            "_view_module_version": "1.2.0",
            "_view_name": "StyleView",
            "button_color": null,
            "font_weight": ""
          }
        },
        "221aaec17ae94a7abcafd75e88d347cb": {
          "model_module": "@jupyter-widgets/controls",
          "model_name": "GridBoxModel",
          "model_module_version": "1.5.0",
          "state": {
            "_dom_classes": [],
            "_model_module": "@jupyter-widgets/controls",
            "_model_module_version": "1.5.0",
            "_model_name": "GridBoxModel",
            "_view_count": null,
            "_view_module": "@jupyter-widgets/controls",
            "_view_module_version": "1.5.0",
            "_view_name": "GridBoxView",
            "box_style": "",
            "children": [
              "IPY_MODEL_a4791f5c19d748e58655c96a992ab316",
              "IPY_MODEL_b74a59e9c2154e3c9daa5dfba70be016",
              "IPY_MODEL_6b5f499ca9a348e9ab69c1c62f5db635",
              "IPY_MODEL_493e55bc8662486abd2e5d94b639c3dd",
              "IPY_MODEL_6b0d4a6e522046feb9eddf0c3e5b8450",
              "IPY_MODEL_c43b3b0d96de4be39ee64e2b8e319125",
              "IPY_MODEL_ec4b4d73edc24d41b0891ffe9fa0687c",
              "IPY_MODEL_197361601e6b436b830d22726672c950"
            ],
            "layout": "IPY_MODEL_1ef7348951fb4c9ca759194af9709edc"
          }
        },
        "a4791f5c19d748e58655c96a992ab316": {
          "model_module": "@jupyter-widgets/controls",
          "model_name": "ButtonModel",
          "model_module_version": "1.5.0",
          "state": {
            "_dom_classes": [],
            "_model_module": "@jupyter-widgets/controls",
            "_model_module_version": "1.5.0",
            "_model_name": "ButtonModel",
            "_view_count": null,
            "_view_module": "@jupyter-widgets/controls",
            "_view_module_version": "1.5.0",
            "_view_name": "ButtonView",
            "button_style": "warning",
            "description": "Data Cache",
            "disabled": false,
            "icon": "",
            "layout": "IPY_MODEL_f8371fc429f641689df46fdf1d205837",
            "style": "IPY_MODEL_48103bf5f8884c97920e71f647aeb309",
            "tooltip": ""
          }
        },
        "b74a59e9c2154e3c9daa5dfba70be016": {
          "model_module": "@jupyter-widgets/controls",
          "model_name": "ButtonModel",
          "model_module_version": "1.5.0",
          "state": {
            "_dom_classes": [],
            "_model_module": "@jupyter-widgets/controls",
            "_model_module_version": "1.5.0",
            "_model_name": "ButtonModel",
            "_view_count": null,
            "_view_module": "@jupyter-widgets/controls",
            "_view_module_version": "1.5.0",
            "_view_name": "ButtonView",
            "button_style": "warning",
            "description": "Size (kB)",
            "disabled": false,
            "icon": "",
            "layout": "IPY_MODEL_20c7e67e62d84740b1f0974bb0086857",
            "style": "IPY_MODEL_368c06633f714e2e9882331e400b0fef",
            "tooltip": ""
          }
        },
        "6b5f499ca9a348e9ab69c1c62f5db635": {
          "model_module": "@jupyter-widgets/controls",
          "model_name": "DropdownModel",
          "model_module_version": "1.5.0",
          "state": {
            "_dom_classes": [],
            "_model_module": "@jupyter-widgets/controls",
            "_model_module_version": "1.5.0",
            "_model_name": "DropdownModel",
            "_options_labels": [
              "1",
              "2",
              "4",
              "8",
              "16"
            ],
            "_view_count": null,
            "_view_module": "@jupyter-widgets/controls",
            "_view_module_version": "1.5.0",
            "_view_name": "DropdownView",
            "description": "",
            "description_tooltip": null,
            "disabled": false,
            "index": 0,
            "layout": "IPY_MODEL_6e49aa72fb3149c296ca13bb1bc00b00",
            "style": "IPY_MODEL_060e631c24de4c4ebc5e11e609a07407"
          }
        },
        "493e55bc8662486abd2e5d94b639c3dd": {
          "model_module": "@jupyter-widgets/controls",
          "model_name": "ButtonModel",
          "model_module_version": "1.5.0",
          "state": {
            "_dom_classes": [],
            "_model_module": "@jupyter-widgets/controls",
            "_model_module_version": "1.5.0",
            "_model_name": "ButtonModel",
            "_view_count": null,
            "_view_module": "@jupyter-widgets/controls",
            "_view_module_version": "1.5.0",
            "_view_name": "ButtonView",
            "button_style": "warning",
            "description": "Associative",
            "disabled": false,
            "icon": "",
            "layout": "IPY_MODEL_b558bf9e9e3042d2822f64c3278ebba5",
            "style": "IPY_MODEL_8dee2044f129491c90d20189c91e1424",
            "tooltip": ""
          }
        },
        "6b0d4a6e522046feb9eddf0c3e5b8450": {
          "model_module": "@jupyter-widgets/controls",
          "model_name": "DropdownModel",
          "model_module_version": "1.5.0",
          "state": {
            "_dom_classes": [],
            "_model_module": "@jupyter-widgets/controls",
            "_model_module_version": "1.5.0",
            "_model_name": "DropdownModel",
            "_options_labels": [
              "1",
              "2",
              "4",
              "8",
              "16",
              "32"
            ],
            "_view_count": null,
            "_view_module": "@jupyter-widgets/controls",
            "_view_module_version": "1.5.0",
            "_view_name": "DropdownView",
            "description": "",
            "description_tooltip": null,
            "disabled": false,
            "index": 0,
            "layout": "IPY_MODEL_293e8640c88c41dc95d1594972d93c23",
            "style": "IPY_MODEL_e65d2fd7fd034e1ca5fc1364acd31a8a"
          }
        },
        "c43b3b0d96de4be39ee64e2b8e319125": {
          "model_module": "@jupyter-widgets/controls",
          "model_name": "ButtonModel",
          "model_module_version": "1.5.0",
          "state": {
            "_dom_classes": [],
            "_model_module": "@jupyter-widgets/controls",
            "_model_module_version": "1.5.0",
            "_model_name": "ButtonModel",
            "_view_count": null,
            "_view_module": "@jupyter-widgets/controls",
            "_view_module_version": "1.5.0",
            "_view_name": "ButtonView",
            "button_style": "warning",
            "description": "Line (Bytes)",
            "disabled": false,
            "icon": "",
            "layout": "IPY_MODEL_c79441bbb4404a01a92bc5c8f37c52ea",
            "style": "IPY_MODEL_5b14f914b5344456ae456c35bd9ff090",
            "tooltip": ""
          }
        },
        "ec4b4d73edc24d41b0891ffe9fa0687c": {
          "model_module": "@jupyter-widgets/controls",
          "model_name": "DropdownModel",
          "model_module_version": "1.5.0",
          "state": {
            "_dom_classes": [],
            "_model_module": "@jupyter-widgets/controls",
            "_model_module_version": "1.5.0",
            "_model_name": "DropdownModel",
            "_options_labels": [
              "32",
              "64",
              "128"
            ],
            "_view_count": null,
            "_view_module": "@jupyter-widgets/controls",
            "_view_module_version": "1.5.0",
            "_view_name": "DropdownView",
            "description": "",
            "description_tooltip": null,
            "disabled": false,
            "index": 0,
            "layout": "IPY_MODEL_837bef428563480b9935fc825b6a6cc4",
            "style": "IPY_MODEL_a3c6959f32954bd896ff7aaabae60bd8"
          }
        },
        "197361601e6b436b830d22726672c950": {
          "model_module": "@jupyter-widgets/controls",
          "model_name": "ButtonModel",
          "model_module_version": "1.5.0",
          "state": {
            "_dom_classes": [],
            "_model_module": "@jupyter-widgets/controls",
            "_model_module_version": "1.5.0",
            "_model_name": "ButtonModel",
            "_view_count": null,
            "_view_module": "@jupyter-widgets/controls",
            "_view_module_version": "1.5.0",
            "_view_name": "ButtonView",
            "button_style": "success",
            "description": "Start execution",
            "disabled": false,
            "icon": "",
            "layout": "IPY_MODEL_9a0a97d246a74271a4bae33a22de2281",
            "style": "IPY_MODEL_0654d546a6d7476db945c28359308a8c",
            "tooltip": ""
          }
        },
        "1ef7348951fb4c9ca759194af9709edc": {
          "model_module": "@jupyter-widgets/base",
          "model_name": "LayoutModel",
          "model_module_version": "1.2.0",
          "state": {
            "_model_module": "@jupyter-widgets/base",
            "_model_module_version": "1.2.0",
            "_model_name": "LayoutModel",
            "_view_count": null,
            "_view_module": "@jupyter-widgets/base",
            "_view_module_version": "1.2.0",
            "_view_name": "LayoutView",
            "align_content": null,
            "align_items": null,
            "align_self": null,
            "border": null,
            "bottom": null,
            "display": null,
            "flex": null,
            "flex_flow": null,
            "grid_area": null,
            "grid_auto_columns": null,
            "grid_auto_flow": null,
            "grid_auto_rows": null,
            "grid_column": null,
            "grid_gap": null,
            "grid_row": null,
            "grid_template_areas": "\"widget001 . . . . . . . . .\"\n\"widget002 widget003 . . . . . . . .\"\n\"widget004 widget005 . . . . . . . .\"\n\"widget006 widget007 . . . . . . . .\"\n\"widget008 . . . . . . . . .\"",
            "grid_template_columns": "repeat(10, 1fr)",
            "grid_template_rows": "repeat(5, 1fr)",
            "height": null,
            "justify_content": null,
            "justify_items": null,
            "left": null,
            "margin": null,
            "max_height": null,
            "max_width": null,
            "min_height": null,
            "min_width": null,
            "object_fit": null,
            "object_position": null,
            "order": null,
            "overflow": null,
            "overflow_x": null,
            "overflow_y": null,
            "padding": null,
            "right": null,
            "top": null,
            "visibility": null,
            "width": null
          }
        },
        "f8371fc429f641689df46fdf1d205837": {
          "model_module": "@jupyter-widgets/base",
          "model_name": "LayoutModel",
          "model_module_version": "1.2.0",
          "state": {
            "_model_module": "@jupyter-widgets/base",
            "_model_module_version": "1.2.0",
            "_model_name": "LayoutModel",
            "_view_count": null,
            "_view_module": "@jupyter-widgets/base",
            "_view_module_version": "1.2.0",
            "_view_name": "LayoutView",
            "align_content": null,
            "align_items": null,
            "align_self": null,
            "border": null,
            "bottom": null,
            "display": null,
            "flex": null,
            "flex_flow": null,
            "grid_area": "widget001",
            "grid_auto_columns": null,
            "grid_auto_flow": null,
            "grid_auto_rows": null,
            "grid_column": null,
            "grid_gap": null,
            "grid_row": null,
            "grid_template_areas": null,
            "grid_template_columns": null,
            "grid_template_rows": null,
            "height": "auto",
            "justify_content": null,
            "justify_items": null,
            "left": null,
            "margin": null,
            "max_height": null,
            "max_width": null,
            "min_height": null,
            "min_width": null,
            "object_fit": null,
            "object_position": null,
            "order": null,
            "overflow": null,
            "overflow_x": null,
            "overflow_y": null,
            "padding": null,
            "right": null,
            "top": null,
            "visibility": null,
            "width": "auto"
          }
        },
        "48103bf5f8884c97920e71f647aeb309": {
          "model_module": "@jupyter-widgets/controls",
          "model_name": "ButtonStyleModel",
          "model_module_version": "1.5.0",
          "state": {
            "_model_module": "@jupyter-widgets/controls",
            "_model_module_version": "1.5.0",
            "_model_name": "ButtonStyleModel",
            "_view_count": null,
            "_view_module": "@jupyter-widgets/base",
            "_view_module_version": "1.2.0",
            "_view_name": "StyleView",
            "button_color": null,
            "font_weight": ""
          }
        },
        "20c7e67e62d84740b1f0974bb0086857": {
          "model_module": "@jupyter-widgets/base",
          "model_name": "LayoutModel",
          "model_module_version": "1.2.0",
          "state": {
            "_model_module": "@jupyter-widgets/base",
            "_model_module_version": "1.2.0",
            "_model_name": "LayoutModel",
            "_view_count": null,
            "_view_module": "@jupyter-widgets/base",
            "_view_module_version": "1.2.0",
            "_view_name": "LayoutView",
            "align_content": null,
            "align_items": null,
            "align_self": null,
            "border": null,
            "bottom": null,
            "display": null,
            "flex": null,
            "flex_flow": null,
            "grid_area": "widget002",
            "grid_auto_columns": null,
            "grid_auto_flow": null,
            "grid_auto_rows": null,
            "grid_column": null,
            "grid_gap": null,
            "grid_row": null,
            "grid_template_areas": null,
            "grid_template_columns": null,
            "grid_template_rows": null,
            "height": "auto",
            "justify_content": null,
            "justify_items": null,
            "left": null,
            "margin": null,
            "max_height": null,
            "max_width": null,
            "min_height": null,
            "min_width": null,
            "object_fit": null,
            "object_position": null,
            "order": null,
            "overflow": null,
            "overflow_x": null,
            "overflow_y": null,
            "padding": null,
            "right": null,
            "top": null,
            "visibility": null,
            "width": "auto"
          }
        },
        "368c06633f714e2e9882331e400b0fef": {
          "model_module": "@jupyter-widgets/controls",
          "model_name": "ButtonStyleModel",
          "model_module_version": "1.5.0",
          "state": {
            "_model_module": "@jupyter-widgets/controls",
            "_model_module_version": "1.5.0",
            "_model_name": "ButtonStyleModel",
            "_view_count": null,
            "_view_module": "@jupyter-widgets/base",
            "_view_module_version": "1.2.0",
            "_view_name": "StyleView",
            "button_color": null,
            "font_weight": ""
          }
        },
        "6e49aa72fb3149c296ca13bb1bc00b00": {
          "model_module": "@jupyter-widgets/base",
          "model_name": "LayoutModel",
          "model_module_version": "1.2.0",
          "state": {
            "_model_module": "@jupyter-widgets/base",
            "_model_module_version": "1.2.0",
            "_model_name": "LayoutModel",
            "_view_count": null,
            "_view_module": "@jupyter-widgets/base",
            "_view_module_version": "1.2.0",
            "_view_name": "LayoutView",
            "align_content": null,
            "align_items": null,
            "align_self": null,
            "border": null,
            "bottom": null,
            "display": null,
            "flex": null,
            "flex_flow": null,
            "grid_area": "widget003",
            "grid_auto_columns": null,
            "grid_auto_flow": null,
            "grid_auto_rows": null,
            "grid_column": null,
            "grid_gap": null,
            "grid_row": null,
            "grid_template_areas": null,
            "grid_template_columns": null,
            "grid_template_rows": null,
            "height": "30px",
            "justify_content": null,
            "justify_items": null,
            "left": null,
            "margin": null,
            "max_height": null,
            "max_width": null,
            "min_height": null,
            "min_width": null,
            "object_fit": null,
            "object_position": null,
            "order": null,
            "overflow": null,
            "overflow_x": null,
            "overflow_y": null,
            "padding": null,
            "right": null,
            "top": null,
            "visibility": null,
            "width": "auto"
          }
        },
        "060e631c24de4c4ebc5e11e609a07407": {
          "model_module": "@jupyter-widgets/controls",
          "model_name": "DescriptionStyleModel",
          "model_module_version": "1.5.0",
          "state": {
            "_model_module": "@jupyter-widgets/controls",
            "_model_module_version": "1.5.0",
            "_model_name": "DescriptionStyleModel",
            "_view_count": null,
            "_view_module": "@jupyter-widgets/base",
            "_view_module_version": "1.2.0",
            "_view_name": "StyleView",
            "description_width": ""
          }
        },
        "b558bf9e9e3042d2822f64c3278ebba5": {
          "model_module": "@jupyter-widgets/base",
          "model_name": "LayoutModel",
          "model_module_version": "1.2.0",
          "state": {
            "_model_module": "@jupyter-widgets/base",
            "_model_module_version": "1.2.0",
            "_model_name": "LayoutModel",
            "_view_count": null,
            "_view_module": "@jupyter-widgets/base",
            "_view_module_version": "1.2.0",
            "_view_name": "LayoutView",
            "align_content": null,
            "align_items": null,
            "align_self": null,
            "border": null,
            "bottom": null,
            "display": null,
            "flex": null,
            "flex_flow": null,
            "grid_area": "widget004",
            "grid_auto_columns": null,
            "grid_auto_flow": null,
            "grid_auto_rows": null,
            "grid_column": null,
            "grid_gap": null,
            "grid_row": null,
            "grid_template_areas": null,
            "grid_template_columns": null,
            "grid_template_rows": null,
            "height": "auto",
            "justify_content": null,
            "justify_items": null,
            "left": null,
            "margin": null,
            "max_height": null,
            "max_width": null,
            "min_height": null,
            "min_width": null,
            "object_fit": null,
            "object_position": null,
            "order": null,
            "overflow": null,
            "overflow_x": null,
            "overflow_y": null,
            "padding": null,
            "right": null,
            "top": null,
            "visibility": null,
            "width": "auto"
          }
        },
        "8dee2044f129491c90d20189c91e1424": {
          "model_module": "@jupyter-widgets/controls",
          "model_name": "ButtonStyleModel",
          "model_module_version": "1.5.0",
          "state": {
            "_model_module": "@jupyter-widgets/controls",
            "_model_module_version": "1.5.0",
            "_model_name": "ButtonStyleModel",
            "_view_count": null,
            "_view_module": "@jupyter-widgets/base",
            "_view_module_version": "1.2.0",
            "_view_name": "StyleView",
            "button_color": null,
            "font_weight": ""
          }
        },
        "293e8640c88c41dc95d1594972d93c23": {
          "model_module": "@jupyter-widgets/base",
          "model_name": "LayoutModel",
          "model_module_version": "1.2.0",
          "state": {
            "_model_module": "@jupyter-widgets/base",
            "_model_module_version": "1.2.0",
            "_model_name": "LayoutModel",
            "_view_count": null,
            "_view_module": "@jupyter-widgets/base",
            "_view_module_version": "1.2.0",
            "_view_name": "LayoutView",
            "align_content": null,
            "align_items": null,
            "align_self": null,
            "border": null,
            "bottom": null,
            "display": null,
            "flex": null,
            "flex_flow": null,
            "grid_area": "widget005",
            "grid_auto_columns": null,
            "grid_auto_flow": null,
            "grid_auto_rows": null,
            "grid_column": null,
            "grid_gap": null,
            "grid_row": null,
            "grid_template_areas": null,
            "grid_template_columns": null,
            "grid_template_rows": null,
            "height": "30px",
            "justify_content": null,
            "justify_items": null,
            "left": null,
            "margin": null,
            "max_height": null,
            "max_width": null,
            "min_height": null,
            "min_width": null,
            "object_fit": null,
            "object_position": null,
            "order": null,
            "overflow": null,
            "overflow_x": null,
            "overflow_y": null,
            "padding": null,
            "right": null,
            "top": null,
            "visibility": null,
            "width": "auto"
          }
        },
        "e65d2fd7fd034e1ca5fc1364acd31a8a": {
          "model_module": "@jupyter-widgets/controls",
          "model_name": "DescriptionStyleModel",
          "model_module_version": "1.5.0",
          "state": {
            "_model_module": "@jupyter-widgets/controls",
            "_model_module_version": "1.5.0",
            "_model_name": "DescriptionStyleModel",
            "_view_count": null,
            "_view_module": "@jupyter-widgets/base",
            "_view_module_version": "1.2.0",
            "_view_name": "StyleView",
            "description_width": ""
          }
        },
        "c79441bbb4404a01a92bc5c8f37c52ea": {
          "model_module": "@jupyter-widgets/base",
          "model_name": "LayoutModel",
          "model_module_version": "1.2.0",
          "state": {
            "_model_module": "@jupyter-widgets/base",
            "_model_module_version": "1.2.0",
            "_model_name": "LayoutModel",
            "_view_count": null,
            "_view_module": "@jupyter-widgets/base",
            "_view_module_version": "1.2.0",
            "_view_name": "LayoutView",
            "align_content": null,
            "align_items": null,
            "align_self": null,
            "border": null,
            "bottom": null,
            "display": null,
            "flex": null,
            "flex_flow": null,
            "grid_area": "widget006",
            "grid_auto_columns": null,
            "grid_auto_flow": null,
            "grid_auto_rows": null,
            "grid_column": null,
            "grid_gap": null,
            "grid_row": null,
            "grid_template_areas": null,
            "grid_template_columns": null,
            "grid_template_rows": null,
            "height": "auto",
            "justify_content": null,
            "justify_items": null,
            "left": null,
            "margin": null,
            "max_height": null,
            "max_width": null,
            "min_height": null,
            "min_width": null,
            "object_fit": null,
            "object_position": null,
            "order": null,
            "overflow": null,
            "overflow_x": null,
            "overflow_y": null,
            "padding": null,
            "right": null,
            "top": null,
            "visibility": null,
            "width": "auto"
          }
        },
        "5b14f914b5344456ae456c35bd9ff090": {
          "model_module": "@jupyter-widgets/controls",
          "model_name": "ButtonStyleModel",
          "model_module_version": "1.5.0",
          "state": {
            "_model_module": "@jupyter-widgets/controls",
            "_model_module_version": "1.5.0",
            "_model_name": "ButtonStyleModel",
            "_view_count": null,
            "_view_module": "@jupyter-widgets/base",
            "_view_module_version": "1.2.0",
            "_view_name": "StyleView",
            "button_color": null,
            "font_weight": ""
          }
        },
        "837bef428563480b9935fc825b6a6cc4": {
          "model_module": "@jupyter-widgets/base",
          "model_name": "LayoutModel",
          "model_module_version": "1.2.0",
          "state": {
            "_model_module": "@jupyter-widgets/base",
            "_model_module_version": "1.2.0",
            "_model_name": "LayoutModel",
            "_view_count": null,
            "_view_module": "@jupyter-widgets/base",
            "_view_module_version": "1.2.0",
            "_view_name": "LayoutView",
            "align_content": null,
            "align_items": null,
            "align_self": null,
            "border": null,
            "bottom": null,
            "display": null,
            "flex": null,
            "flex_flow": null,
            "grid_area": "widget007",
            "grid_auto_columns": null,
            "grid_auto_flow": null,
            "grid_auto_rows": null,
            "grid_column": null,
            "grid_gap": null,
            "grid_row": null,
            "grid_template_areas": null,
            "grid_template_columns": null,
            "grid_template_rows": null,
            "height": "30px",
            "justify_content": null,
            "justify_items": null,
            "left": null,
            "margin": null,
            "max_height": null,
            "max_width": null,
            "min_height": null,
            "min_width": null,
            "object_fit": null,
            "object_position": null,
            "order": null,
            "overflow": null,
            "overflow_x": null,
            "overflow_y": null,
            "padding": null,
            "right": null,
            "top": null,
            "visibility": null,
            "width": "auto"
          }
        },
        "a3c6959f32954bd896ff7aaabae60bd8": {
          "model_module": "@jupyter-widgets/controls",
          "model_name": "DescriptionStyleModel",
          "model_module_version": "1.5.0",
          "state": {
            "_model_module": "@jupyter-widgets/controls",
            "_model_module_version": "1.5.0",
            "_model_name": "DescriptionStyleModel",
            "_view_count": null,
            "_view_module": "@jupyter-widgets/base",
            "_view_module_version": "1.2.0",
            "_view_name": "StyleView",
            "description_width": ""
          }
        },
        "9a0a97d246a74271a4bae33a22de2281": {
          "model_module": "@jupyter-widgets/base",
          "model_name": "LayoutModel",
          "model_module_version": "1.2.0",
          "state": {
            "_model_module": "@jupyter-widgets/base",
            "_model_module_version": "1.2.0",
            "_model_name": "LayoutModel",
            "_view_count": null,
            "_view_module": "@jupyter-widgets/base",
            "_view_module_version": "1.2.0",
            "_view_name": "LayoutView",
            "align_content": null,
            "align_items": null,
            "align_self": null,
            "border": null,
            "bottom": null,
            "display": null,
            "flex": null,
            "flex_flow": null,
            "grid_area": "widget008",
            "grid_auto_columns": null,
            "grid_auto_flow": null,
            "grid_auto_rows": null,
            "grid_column": null,
            "grid_gap": null,
            "grid_row": null,
            "grid_template_areas": null,
            "grid_template_columns": null,
            "grid_template_rows": null,
            "height": "auto",
            "justify_content": null,
            "justify_items": null,
            "left": null,
            "margin": null,
            "max_height": null,
            "max_width": null,
            "min_height": null,
            "min_width": null,
            "object_fit": null,
            "object_position": null,
            "order": null,
            "overflow": null,
            "overflow_x": null,
            "overflow_y": null,
            "padding": null,
            "right": null,
            "top": null,
            "visibility": null,
            "width": "auto"
          }
        },
        "0654d546a6d7476db945c28359308a8c": {
          "model_module": "@jupyter-widgets/controls",
          "model_name": "ButtonStyleModel",
          "model_module_version": "1.5.0",
          "state": {
            "_model_module": "@jupyter-widgets/controls",
            "_model_module_version": "1.5.0",
            "_model_name": "ButtonStyleModel",
            "_view_count": null,
            "_view_module": "@jupyter-widgets/base",
            "_view_module_version": "1.2.0",
            "_view_name": "StyleView",
            "button_color": null,
            "font_weight": ""
          }
        }
      }
    }
  },
  "cells": [
    {
      "cell_type": "markdown",
      "metadata": {
        "id": "view-in-github",
        "colab_type": "text"
      },
      "source": [
        "<a href=\"https://colab.research.google.com/github/jpmedras/inf450_2023-1/blob/main/Valgrind_Simulador_de_Cache.ipynb\" target=\"_parent\"><img src=\"https://colab.research.google.com/assets/colab-badge.svg\" alt=\"Open In Colab\"/></a>"
      ]
    },
    {
      "cell_type": "markdown",
      "metadata": {
        "id": "RAQEhS3SxSRw"
      },
      "source": [
        "# Trabalho com  Valgrind e  Simulação de Cache: **Cachegrind**\n",
        "\n",
        "* [Introdução ao Trabalho](https://youtu.be/NMGbFyh2Q78)\n"
      ]
    },
    {
      "cell_type": "markdown",
      "metadata": {
        "id": "F6dL1CPWLPp6"
      },
      "source": [
        "\n",
        "\n",
        "Este laboratório apresenta o uso da ferramenta cachegrind do ambiente Valgrind, [para maiores informações consulte aqui](https://valgrind.org/docs/manual/cg-manual.html)\n",
        "\n",
        "**Importante**:\n",
        "* A primeira execução do Cachegrind irá fazer a instalação da ferramenta e pode demorar um pouco mais.\n",
        "* Os laboratorios usam uma multiplicação de matrizes como exemplo. O tamanho da matriz cresce com  $O(N^2)$ e o tempo de execução com $O(N^3)$.\n",
        "* Os exemplos estão em C. Mas o Cachegrind trabalha sobre o executável e pode ser usado em qualquer binário.\n",
        "* Fique a vontade para contribuir. Qualquer dúvidas escreva para ricardo@ufv.br\n"
      ]
    },
    {
      "cell_type": "markdown",
      "metadata": {
        "id": "m6xj7BkeMOzf"
      },
      "source": [
        "## Inicialização\n",
        "\n",
        "Primeiro, configurar o laboratório."
      ]
    },
    {
      "cell_type": "code",
      "metadata": {
        "id": "mibTjp3bOJl_"
      },
      "source": [
        "!pip install git+https://github.com/lesc-ufv/cad4u >& /dev/null\n",
        "!git clone https://github.com/lesc-ufv/cad4u >& /dev/null\n",
        "%load_ext plugin"
      ],
      "execution_count": 2,
      "outputs": []
    },
    {
      "cell_type": "markdown",
      "metadata": {
        "id": "RKkT82syMVAR"
      },
      "source": [
        "# Cache de Dados\n",
        "\n",
        "Criamos a extensão **\\%\\%datacache**, onde um código em C pode ser adicionado e compilado, para depois ser executado com  **cachegrind**. A cache de instrução tem o default: 32K, linhas de 64 Bytes, 8-way. A cache LL (Last level Cache) tem tamanho default de\n",
        "58.720.256 Bytes, linhas de 64 Bytes, 28-way.\n",
        "\n",
        "Criamos uma interface amigável onde o usuário especifica os parametros da cache de dados. Depois basta clicar no  **Start Execution** para ter os resultados de falhas (miss) e da taxa de falhas (miss rate).\n",
        "\n",
        "Caso, voce execute mais de uma vez, os resultados ficam temporariamente na sessão para efeitos de comparação.\n"
      ]
    },
    {
      "cell_type": "code",
      "metadata": {
        "id": "couX8O_gzI0v",
        "colab": {
          "base_uri": "https://localhost:8080/",
          "height": 204,
          "referenced_widgets": [
            "ef1320c819674877a17a2fec589508a2",
            "dcc6b8dfc8724cb8a8571cc6447bd76e",
            "c8482e2c5709446e8cb78ec6d2c98b53",
            "a97b0228de2c4bc3a4409ed8bba2478c",
            "ad22d6904282433498483b8c5d0b75d9",
            "5588ca49edca4d3c82ec7a6e859b0471",
            "5d60cbd9a12747afb089daf263545b3d",
            "bea85bc6c80140eaa36ea5ba7d9cc5b7",
            "f6f357ffeb764d5aa6d6382c3177e459",
            "ef99f35f17f84b06bc6d0d8458f2aaab",
            "9bb7b17f3d1f4deab0118903d422780b",
            "13b981670ab44ee19290a8e4b80af8c8",
            "1b4cd8199aaf46babdfcd2fd52e5a86b",
            "05f89f97297e4cfda1252f4af8b8cf7d",
            "fd150400f4b54ee6aa5294fd5b7026cd",
            "e44ce59a85c24ba6a517fa894cf79b2b",
            "e8068c67fa2647e3a3161ee85bedaa58",
            "6c4dc727a4704cb68bff99e96dcf5968",
            "3dd03cdfcc9f4a31a2b7b5ff2d4bb4de",
            "73c9723d19e0434db8df5809c9fc8fa6",
            "5623cd9840fb4c9c952432eba10d6eb1",
            "eb40c3129f904d87b1763f57663d4e05",
            "49ad8c045bab4183ba66f1074595238d",
            "ce3f1b232a584e0096483b1c46b8d1b0",
            "eebddf6c6add49bb9bfb605d8e07e4c4",
            "d538334226284502b8809b73f4860b4a"
          ]
        },
        "outputId": "01364172-8c57-4c67-8e83-f09e5dc7a334"
      },
      "source": [
        "%%datacache\n",
        "#include <stdio.h>\n",
        "#include <stdlib.h>\n",
        "\n",
        "int main(int argc, char const *argv[]) {\n",
        "\n",
        "  int n = 90;\n",
        "  char a[n][n], b[n][n], c[n][n];\n",
        "\n",
        "  int s = 0;\n",
        "  for (int i = 0; i < n; ++i) {\n",
        "      for (int j = 0; j < n; ++j) {\n",
        "        a[i][j] = i + j;\n",
        "        b[i][j] = i*2 + j;\n",
        "      }\n",
        "  }\n",
        "\n",
        "  int temp;\n",
        "  for (int i = 0; i < n; ++i) {\n",
        "      for (int j = 0; j < n; ++j) {\n",
        "          temp = 0;\n",
        "          for (int k = 0; k < n; ++k) {\n",
        "              temp += a[i][k] * b[k][j];\n",
        "          }\n",
        "          c[i][j] = temp;\n",
        "      }\n",
        "  }\n",
        "\n",
        "  return 0;\n",
        "}"
      ],
      "execution_count": 3,
      "outputs": [
        {
          "output_type": "stream",
          "name": "stdout",
          "text": [
            "Installing. Please wait... done!\n"
          ]
        },
        {
          "output_type": "display_data",
          "data": {
            "text/plain": [
              "GridspecLayout(children=(Button(button_style='warning', description='Data Cache', layout=Layout(grid_area='wid…"
            ],
            "application/vnd.jupyter.widget-view+json": {
              "version_major": 2,
              "version_minor": 0,
              "model_id": "ef1320c819674877a17a2fec589508a2"
            }
          },
          "metadata": {}
        }
      ]
    },
    {
      "cell_type": "markdown",
      "metadata": {
        "id": "By0nurvCHgFx"
      },
      "source": [
        "## Outros Resultados\n",
        "\n",
        "Cada simulação irá criar um arquivo temporário com o número do processo **cachegrind.out.**\\<NumeroProcesso\\>.\n",
        "\n",
        "O comando abaixo lista as execuções que já foram realizadas."
      ]
    },
    {
      "cell_type": "code",
      "metadata": {
        "id": "sXQT2nBoHmyw",
        "colab": {
          "base_uri": "https://localhost:8080/"
        },
        "outputId": "edc5a21e-936c-433f-bf07-8084e1d85036"
      },
      "source": [
        "!ls -la cachegrind*"
      ],
      "execution_count": 4,
      "outputs": [
        {
          "output_type": "stream",
          "name": "stdout",
          "text": [
            "ls: cannot access 'cachegrind*': No such file or directory\n"
          ]
        }
      ]
    },
    {
      "cell_type": "code",
      "metadata": {
        "id": "2JPEjQ4gH_U7",
        "colab": {
          "base_uri": "https://localhost:8080/"
        },
        "outputId": "6ad3fbb5-d854-41ee-e5f9-d8596ba7e32f"
      },
      "source": [
        "# Podemos listar o arquivo, mas o arquivo é grande 120K, tem muitas informações\n",
        "# Abaixo um exemplo (adaptar para o seu numero de processo) para ver apenas os tamanhos das caches.\n",
        "!grep desc cachegrind.out.1063"
      ],
      "execution_count": 5,
      "outputs": [
        {
          "output_type": "stream",
          "name": "stdout",
          "text": [
            "grep: cachegrind.out.1063: No such file or directory\n"
          ]
        }
      ]
    },
    {
      "cell_type": "markdown",
      "source": [
        "# Parte I"
      ],
      "metadata": {
        "id": "sLvqOhLg1E06"
      }
    },
    {
      "cell_type": "code",
      "source": [
        "# Digitar a lista das matriculas\n",
        "\n",
        "Mat = [105460, 105463, 105466, 105468, 105475]"
      ],
      "metadata": {
        "id": "TT0cP1g91HxG"
      },
      "execution_count": 6,
      "outputs": []
    },
    {
      "cell_type": "code",
      "source": [
        "#@title Gerando a parte I - Tem que **EXECUTAR ESTA CÉLULA !!!**\n",
        "L = [ [\"Cache 2k, Matrix 20x20, 60x60, 90x90 \"],[\"Cache 4k, Matrix 40x40, 60x60, 120x120\"],[\"Cache 2k, Matrix 15x15, 50x50, 100x100. \"],\n",
        " [\"Cache 4k, Matrix 30x30, 60x60, 110x110\"],[\"Cache 8k, Matrix 50x50, 100x100, 150x150.\"],[\"Cache 16k, Matrix 80x80, 160x160, 320x320\"]]\n",
        "\n",
        "D = {}\n",
        "print(\"Faça os testes usando estes tamanhos: \",L[(sum(Mat)//197)%len(L)])"
      ],
      "metadata": {
        "colab": {
          "base_uri": "https://localhost:8080/"
        },
        "id": "HeHFDrRw1O7z",
        "outputId": "a2ad2d6e-0219-4ca6-b5ed-18cbfa6fbf08"
      },
      "execution_count": 7,
      "outputs": [
        {
          "output_type": "stream",
          "name": "stdout",
          "text": [
            "Faça os testes usando estes tamanhos:  ['Cache 2k, Matrix 20x20, 60x60, 90x90 ']\n"
          ]
        }
      ]
    },
    {
      "cell_type": "markdown",
      "source": [
        "\n",
        "\n",
        "Fazer três versões da multiplicação de Matrizes\n",
        "\n",
        "###**a.** Exemplo Anterior\n",
        "\n",
        "###**b.** Armazenar B na forma transposta para reduzir as falhas no acesso por coluna\n",
        "\n",
        "###**c.** Fazer a versão com Tile que seja o maior possivel que possa estar armazenado na Cache.\n",
        "\n",
        "Não considerar as falhas de inicialização.\n",
        "\n",
        "1. Mantendo o tamanho da cache. A associatividade faz diferença para alguma das três versões em relação a taxa de falhas? Execute para três tamanhos diferentes de matrizes (menor ou igual, maior que a cache) para as três versões e mostre na forma gráfica. Explique os resultados.\n",
        "\n",
        "2. Mantendo o tamanho da cache. O tamanho do bloco faz diferença para alguma das três versões em relação a taxa de falhas? Explique os resultados e mostre na forma gráfica."
      ],
      "metadata": {
        "id": "9SZoZZ-7b-Rx"
      }
    },
    {
      "cell_type": "markdown",
      "source": [
        "## Parte A"
      ],
      "metadata": {
        "id": "ZTyzPgUTyOiB"
      }
    },
    {
      "cell_type": "code",
      "metadata": {
        "colab": {
          "base_uri": "https://localhost:8080/",
          "height": 187,
          "referenced_widgets": [
            "39a69fd898b54af698b02b1b06ac7fbc",
            "8c6655307de545278fe1c00d9bd607d1",
            "4f852e4d3cb14f719fce8c1882c1008c",
            "905487c39efc401388ab6f49e5f8dc8a",
            "d40946c063e0478286a1c9d389285901",
            "18091af6ef6c4c9781ee08953abae34b",
            "7e7d90ff8b8048c5a3fb7b1a0a8bf511",
            "2a8b2404795947f9a0c90ea7380fae03",
            "dbacb0cff8cc4da7bef82ee5cccc5d46",
            "54b5340ed50d4bd08e4217e3ff348f1a",
            "e8dec08284bc4ccc9049e0f6679236ca",
            "05323eaa4b504057ab99a1dc1b6e0abc",
            "64ca50374884487dbd7da2a82f1a1751",
            "c4c662a5e7f14883b4561f29dc37d973",
            "8691ed395602427eab1d94ed1cfca232",
            "85ac0afb2ace4153bb96e31c27d0da1f",
            "b17ab3cac8484db78a5b37cc14ada217",
            "bac0868425734d3b99d7759e0f98fafc",
            "aa70888108e445f68ab5a0c29a59417a",
            "0b388e6e803440de9b6d1a0985954630",
            "91f3552782ff4d3fa6986dc2e87134d1",
            "3b3332438f0344c8b21c50e629fc1171",
            "560719a5304a458884fcc2a8378eb58b",
            "9ac3256e1e42481ab9396613afe0de70",
            "dd15759586094073899c777ede1a7d51",
            "4b3a9e4660f7451c8cd2cd7a40e4d414"
          ]
        },
        "outputId": "e02a4796-986d-4144-f871-13069bf1e988",
        "id": "ZItwM8qVySx9"
      },
      "source": [
        "%%datacache\n",
        "#include <stdio.h>\n",
        "#include <stdlib.h>\n",
        "\n",
        "int main(int argc, char const *argv[]) {\n",
        "\n",
        "  int n = 20;\n",
        "  char a[n][n], b[n][n], c[n][n];\n",
        "\n",
        "  int s = 0;\n",
        "  for (int i = 0; i < n; ++i) {\n",
        "      for (int j = 0; j < n; ++j) {\n",
        "        a[i][j] = i + j;\n",
        "        b[i][j] = i*2 + j;\n",
        "        c[i][j] = 0;\n",
        "      }\n",
        "  }\n",
        "\n",
        "  for (int i = 0; i < n; ++i) {\n",
        "      for (int j = 0; j < n; ++j) {\n",
        "          for (int k = 0; k < n; ++k) {\n",
        "              c[i][j] += a[i][k] * b[k][j];\n",
        "          }\n",
        "      }\n",
        "  }\n",
        "\n",
        "  return 0;\n",
        "}"
      ],
      "execution_count": 8,
      "outputs": [
        {
          "output_type": "display_data",
          "data": {
            "text/plain": [
              "GridspecLayout(children=(Button(button_style='warning', description='Data Cache', layout=Layout(grid_area='wid…"
            ],
            "application/vnd.jupyter.widget-view+json": {
              "version_major": 2,
              "version_minor": 0,
              "model_id": "39a69fd898b54af698b02b1b06ac7fbc"
            }
          },
          "metadata": {}
        }
      ]
    },
    {
      "cell_type": "markdown",
      "source": [
        "### Associative\n",
        "\n",
        "size=2\n",
        "line=32\n",
        "\n",
        "#### 20\n",
        "associative = ['1', '4', '16']\n",
        "misses = [7611, 4232, 4124]\n",
        "\n",
        "#### 60\n",
        "associative = ['1', '4', '16']\n",
        "misses = [63177, 32842, 5687]\n",
        "\n",
        "#### 90\n",
        "associative = ['1', '4', '16']\n",
        "misses = [233398, 42604, 28325]"
      ],
      "metadata": {
        "id": "Q_btSzmR1Gki"
      }
    },
    {
      "cell_type": "markdown",
      "source": [
        "### Line\n",
        "\n",
        "size=2\n",
        "associative=1\n",
        "\n",
        "#### 20\n",
        "line = ['32', '64', '128']\n",
        "misses = [7613, 7212, 7004]\n",
        "\n",
        "#### 60\n",
        "line = ['32', '64', '128']\n",
        "misses = [63179, 95547, 128425]\n",
        "\n",
        "#### 90\n",
        "line = ['32', '64', '128']\n",
        "misses = [234323, 708200, 933525]"
      ],
      "metadata": {
        "id": "f1pN9fvA0wvJ"
      }
    },
    {
      "cell_type": "markdown",
      "source": [
        "### Associative"
      ],
      "metadata": {
        "id": "qXMpQqUL6n5r"
      }
    },
    {
      "cell_type": "code",
      "source": [
        "#@title Size=20\n",
        "import matplotlib.pyplot as plt\n",
        "\n",
        "x = ['1', '4', '16']\n",
        "y = [7611, 4232, 4124]\n",
        "\n",
        "# Espessura das barras\n",
        "width = 0.5\n",
        "\n",
        "# Plotar o gráfico de barras\n",
        "plt.bar(x, y, width=width)\n",
        "\n",
        "# Definir rótulos e título\n",
        "plt.xlabel('Line (Bytes)')\n",
        "plt.ylabel('Misses')\n",
        "plt.title('Misses by associative')\n",
        "\n",
        "# Definir margem para o intervalo de variação dos valores em y\n",
        "margin = 0.01 * max(y)\n",
        "\n",
        "# Definir os limites do eixo y com margem\n",
        "plt.ylim(min(y) - margin, max(y) + margin)\n",
        "\n",
        "# Exibir o gráfico\n",
        "plt.show()"
      ],
      "metadata": {
        "cellView": "form",
        "outputId": "a2afe13c-e365-422d-b59c-2c108c520171",
        "colab": {
          "base_uri": "https://localhost:8080/",
          "height": 472
        },
        "id": "Cn1E2ZzW6n6B"
      },
      "execution_count": 9,
      "outputs": [
        {
          "output_type": "display_data",
          "data": {
            "text/plain": [
              "<Figure size 640x480 with 1 Axes>"
            ],
            "image/png": "[encoded data removed]"
          },
          "metadata": {}
        }
      ]
    },
    {
      "cell_type": "code",
      "source": [
        "#@title Size=60\n",
        "import matplotlib.pyplot as plt\n",
        "\n",
        "x = ['1', '4', '16']\n",
        "y = [63177, 32842, 5687]\n",
        "\n",
        "# Espessura das barras\n",
        "width = 0.5\n",
        "\n",
        "# Plotar o gráfico de barras\n",
        "plt.bar(x, y, width=width)\n",
        "\n",
        "# Definir rótulos e título\n",
        "plt.xlabel('Line (Bytes)')\n",
        "plt.ylabel('Misses')\n",
        "plt.title('Misses by associative')\n",
        "\n",
        "# Definir margem para o intervalo de variação dos valores em y\n",
        "margin = 0.01 * max(y)\n",
        "\n",
        "# Definir os limites do eixo y com margem\n",
        "plt.ylim(min(y) - margin, max(y) + margin)\n",
        "\n",
        "# Exibir o gráfico\n",
        "plt.show()"
      ],
      "metadata": {
        "colab": {
          "base_uri": "https://localhost:8080/",
          "height": 472
        },
        "cellView": "form",
        "outputId": "5e0f5587-f9ee-4a64-c40f-c8e38532d92c",
        "id": "tDLNPlfd6n6C"
      },
      "execution_count": 10,
      "outputs": [
        {
          "output_type": "display_data",
          "data": {
            "text/plain": [
              "<Figure size 640x480 with 1 Axes>"
            ],
            "image/png": "[encoded data removed]"
          },
          "metadata": {}
        }
      ]
    },
    {
      "cell_type": "code",
      "source": [
        "#@title Size=90\n",
        "import matplotlib.pyplot as plt\n",
        "\n",
        "x = ['1', '4', '16']\n",
        "y = [233398, 42604, 28325]\n",
        "\n",
        "# Espessura das barras\n",
        "width = 0.5\n",
        "\n",
        "# Plotar o gráfico de barras\n",
        "plt.bar(x, y, width=width)\n",
        "\n",
        "# Definir rótulos e título\n",
        "plt.xlabel('Line (Bytes)')\n",
        "plt.ylabel('Misses')\n",
        "plt.title('Misses by associative')\n",
        "\n",
        "# Definir margem para o intervalo de variação dos valores em y\n",
        "margin = 0.01 * max(y)\n",
        "\n",
        "# Definir os limites do eixo y com margem\n",
        "plt.ylim(min(y) - margin, max(y) + margin)\n",
        "\n",
        "# Exibir o gráfico\n",
        "plt.show()"
      ],
      "metadata": {
        "cellView": "form",
        "outputId": "fb6f4aa4-4e03-4547-ee3f-71eaeafffdaa",
        "colab": {
          "base_uri": "https://localhost:8080/",
          "height": 472
        },
        "id": "ey9neehP6n6E"
      },
      "execution_count": 11,
      "outputs": [
        {
          "output_type": "display_data",
          "data": {
            "text/plain": [
              "<Figure size 640x480 with 1 Axes>"
            ],
            "image/png": "[encoded data removed]"
          },
          "metadata": {}
        }
      ]
    },
    {
      "cell_type": "markdown",
      "source": [
        "### Line (Bytes)"
      ],
      "metadata": {
        "id": "vIPTCnoa5sJd"
      }
    },
    {
      "cell_type": "code",
      "source": [
        "#@title Size=20\n",
        "import matplotlib.pyplot as plt\n",
        "\n",
        "x = ['32', '64', '128']\n",
        "y = [7613, 7212, 7004]\n",
        "\n",
        "# Espessura das barras\n",
        "width = 0.5\n",
        "\n",
        "# Plotar o gráfico de barras\n",
        "plt.bar(x, y, width=width)\n",
        "\n",
        "# Definir rótulos e título\n",
        "plt.xlabel('Line (Bytes)')\n",
        "plt.ylabel('Misses')\n",
        "plt.title('Misses by line size')\n",
        "\n",
        "# Definir margem para o intervalo de variação dos valores em y\n",
        "margin = 0.01 * max(y)\n",
        "\n",
        "# Definir os limites do eixo y com margem\n",
        "plt.ylim(min(y) - margin, max(y) + margin)\n",
        "\n",
        "# Exibir o gráfico\n",
        "plt.show()"
      ],
      "metadata": {
        "colab": {
          "base_uri": "https://localhost:8080/",
          "height": 472
        },
        "cellView": "form",
        "id": "EVlXDa8y3v4s",
        "outputId": "c5edc0dd-da82-4970-90f1-f035dff16fff"
      },
      "execution_count": 12,
      "outputs": [
        {
          "output_type": "display_data",
          "data": {
            "text/plain": [
              "<Figure size 640x480 with 1 Axes>"
            ],
            "image/png": "[encoded data removed]"
          },
          "metadata": {}
        }
      ]
    },
    {
      "cell_type": "code",
      "source": [
        "#@title Size=60\n",
        "import matplotlib.pyplot as plt\n",
        "\n",
        "x = ['32', '64', '128']\n",
        "y = [63179, 95547, 128425]\n",
        "\n",
        "# Espessura das barras\n",
        "width = 0.5\n",
        "\n",
        "# Plotar o gráfico de barras\n",
        "plt.bar(x, y, width=width)\n",
        "\n",
        "# Definir rótulos e título\n",
        "plt.xlabel('Line (Bytes)')\n",
        "plt.ylabel('Misses')\n",
        "plt.title('Misses by line size')\n",
        "\n",
        "# Definir margem para o intervalo de variação dos valores em y\n",
        "margin = 0.01 * max(y)\n",
        "\n",
        "# Definir os limites do eixo y com margem\n",
        "plt.ylim(min(y) - margin, max(y) + margin)\n",
        "\n",
        "# Exibir o gráfico\n",
        "plt.show()"
      ],
      "metadata": {
        "colab": {
          "base_uri": "https://localhost:8080/",
          "height": 472
        },
        "cellView": "form",
        "id": "O-Wx0xeE6BJ0",
        "outputId": "0c0f1bc9-0fbf-4019-d48c-71543b56a839"
      },
      "execution_count": 13,
      "outputs": [
        {
          "output_type": "display_data",
          "data": {
            "text/plain": [
              "<Figure size 640x480 with 1 Axes>"
            ],
            "image/png": "[encoded data removed]"
          },
          "metadata": {}
        }
      ]
    },
    {
      "cell_type": "code",
      "source": [
        "#@title Size=90\n",
        "import matplotlib.pyplot as plt\n",
        "\n",
        "x = ['32', '64', '128']\n",
        "y = [234323, 708200, 933525]\n",
        "\n",
        "# Espessura das barras\n",
        "width = 0.5\n",
        "\n",
        "# Plotar o gráfico de barras\n",
        "plt.bar(x, y, width=width)\n",
        "\n",
        "# Definir rótulos e título\n",
        "plt.xlabel('Line (Bytes)')\n",
        "plt.ylabel('Misses')\n",
        "plt.title('Misses by line size')\n",
        "\n",
        "# Definir margem para o intervalo de variação dos valores em y\n",
        "margin = 0.01 * max(y)\n",
        "\n",
        "# Definir os limites do eixo y com margem\n",
        "plt.ylim(min(y) - margin, max(y) + margin)\n",
        "\n",
        "# Exibir o gráfico\n",
        "plt.show()"
      ],
      "metadata": {
        "colab": {
          "base_uri": "https://localhost:8080/",
          "height": 472
        },
        "cellView": "form",
        "id": "JHHpD3mk6HQe",
        "outputId": "2e415263-fd7e-45f4-9518-69ddf2be3924"
      },
      "execution_count": 14,
      "outputs": [
        {
          "output_type": "display_data",
          "data": {
            "text/plain": [
              "<Figure size 640x480 with 1 Axes>"
            ],
            "image/png": "[encoded data removed]"
          },
          "metadata": {}
        }
      ]
    },
    {
      "cell_type": "markdown",
      "source": [
        "## Parte B"
      ],
      "metadata": {
        "id": "diNOlCqDyQD1"
      }
    },
    {
      "cell_type": "code",
      "source": [
        "%%datacache\n",
        "#include <stdio.h>\n",
        "#include <stdlib.h>\n",
        "\n",
        "int main(int argc, char const *argv[]) {\n",
        "\n",
        "  int n = 20;\n",
        "  char a[n][n], b[n][n], c[n][n];\n",
        "\n",
        "  int s = 0;\n",
        "  for (int i = 0; i < n; ++i) {\n",
        "      for (int j = 0; j < n; ++j) {\n",
        "        a[i][j] = i + j;\n",
        "        b[j][i] = i*2 + j;\n",
        "        c[i][j] = 0;\n",
        "      }\n",
        "  }\n",
        "\n",
        "  for (int i = 0; i < n; ++i) {\n",
        "      for (int j = 0; j < n; ++j) {\n",
        "          for (int k = 0; k < n; ++k) {\n",
        "              c[i][j] += a[i][k] * b[j][k];\n",
        "          }\n",
        "      }\n",
        "  }\n",
        "\n",
        "  return 0;\n",
        "}"
      ],
      "metadata": {
        "colab": {
          "base_uri": "https://localhost:8080/",
          "height": 187,
          "referenced_widgets": [
            "6bbaf065eedf47baa8789406125d9565",
            "cb6bca59596540eda73ba9141b30f553",
            "917a82024288447d9066843795b92f3c",
            "8d6cde62f4794e16a4531acc03aea249",
            "bb4b70f13bf8435f9d931726bd436a61",
            "17f1b46fa0ca4150a780397bbb4976ac",
            "b71338dd914e424384df0fb0d5ddb247",
            "33f87c04143f468f800d1d834d758cc4",
            "b34bd6c438134ab68cef434ddcdb8064",
            "2877a70aa9e841c9903a590917ce0549",
            "989010e02d534a52ba4a2a7351b60a5a",
            "8757f77bc2a34f65a098738d58c1e2d0",
            "3b61d0f228e1451391fd86ae02bf2884",
            "19cd38c2d013413eb4347adfd610a21e",
            "069f1f7e5109435099f5a68822bd830b",
            "7eada567b8a4440eab2dc67b6c28fe54",
            "abe8370d72d24cb1af189affee185e73",
            "5240bb79d8d84c15bb48eb44c6828c96",
            "6c07335e5d6443e2a43bf68102d7d405",
            "d28bc541a6bd4c7dae2a717ced1a1cc4",
            "5bdb5922c1b9499b81a6a116bfab0693",
            "51af9ea959e940ea8149c7f2dbc2dd66",
            "53c08a524d7b491091321abf5c07f2ba",
            "e50896386d974b969166b4587ba3b491",
            "23834f20d140494b935ffc555cd286df",
            "b33a96d141f54fbba6a10c7eb22697f7"
          ]
        },
        "id": "0YJb5-j2zVs2",
        "outputId": "31c89cc3-27dc-45b4-f6d9-a5b10a1e7743"
      },
      "execution_count": 15,
      "outputs": [
        {
          "output_type": "display_data",
          "data": {
            "text/plain": [
              "GridspecLayout(children=(Button(button_style='warning', description='Data Cache', layout=Layout(grid_area='wid…"
            ],
            "application/vnd.jupyter.widget-view+json": {
              "version_major": 2,
              "version_minor": 0,
              "model_id": "6bbaf065eedf47baa8789406125d9565"
            }
          },
          "metadata": {}
        }
      ]
    },
    {
      "cell_type": "markdown",
      "source": [
        "## Parte C"
      ],
      "metadata": {
        "id": "ZA70l6K3yRQn"
      }
    },
    {
      "cell_type": "code",
      "source": [
        "%%datacache\n",
        "#include <stdio.h>\n",
        "#include <stdlib.h>\n",
        "\n",
        "int main(int argc, char const *argv[]) {\n",
        "\n",
        "  int n = 90;\n",
        "  char a[n][n], b[n][n], c[n][n];\n",
        "  int tilesize=8;\n",
        "\n",
        "  int s = 0;\n",
        "  for (int i = 0; i < n; ++i) {\n",
        "      for (int j = 0; j < n; ++j) {\n",
        "        a[i][j] = i + j;\n",
        "        b[i][j] = i*2 + j;\n",
        "        c[i][j] = 0;\n",
        "      }\n",
        "  }\n",
        "\n",
        "  for (int ih = 0; ih < n; ih += tilesize) {                         ///\\lilabel{block_loop_i}\n",
        "    for (int jh = 0; jh < n; jh += tilesize) {                       ///\\lilabel{block_loop_k}\n",
        "      for (int kh = 0; kh < n; kh += tilesize) {                     ///\\lilabel{block_loop_j}\n",
        "        for (int il = 0; il < tilesize; ++il) {                      ///\\lilabel{base_loop_i}\n",
        "          for (int kl = 0; kl < tilesize; ++kl) {                    ///\\lilabel{base_loop_k}\n",
        "            for (int jl = 0; jl < tilesize; ++jl) {                  ///\\lilabel{base_loop_j}\n",
        "              c[ih+il][jh+jl] += a[ih+il][kh+kl] * b[kh+kl][jh+jl];  ///\\lilabel{base_multiply}\n",
        "        } } }\n",
        "      }\n",
        "    }\n",
        "  }\n",
        "\n",
        "  return 0;\n",
        "}"
      ],
      "metadata": {
        "colab": {
          "base_uri": "https://localhost:8080/",
          "height": 187,
          "referenced_widgets": [
            "221aaec17ae94a7abcafd75e88d347cb",
            "a4791f5c19d748e58655c96a992ab316",
            "b74a59e9c2154e3c9daa5dfba70be016",
            "6b5f499ca9a348e9ab69c1c62f5db635",
            "493e55bc8662486abd2e5d94b639c3dd",
            "6b0d4a6e522046feb9eddf0c3e5b8450",
            "c43b3b0d96de4be39ee64e2b8e319125",
            "ec4b4d73edc24d41b0891ffe9fa0687c",
            "197361601e6b436b830d22726672c950",
            "1ef7348951fb4c9ca759194af9709edc",
            "f8371fc429f641689df46fdf1d205837",
            "48103bf5f8884c97920e71f647aeb309",
            "20c7e67e62d84740b1f0974bb0086857",
            "368c06633f714e2e9882331e400b0fef",
            "6e49aa72fb3149c296ca13bb1bc00b00",
            "060e631c24de4c4ebc5e11e609a07407",
            "b558bf9e9e3042d2822f64c3278ebba5",
            "8dee2044f129491c90d20189c91e1424",
            "293e8640c88c41dc95d1594972d93c23",
            "e65d2fd7fd034e1ca5fc1364acd31a8a",
            "c79441bbb4404a01a92bc5c8f37c52ea",
            "5b14f914b5344456ae456c35bd9ff090",
            "837bef428563480b9935fc825b6a6cc4",
            "a3c6959f32954bd896ff7aaabae60bd8",
            "9a0a97d246a74271a4bae33a22de2281",
            "0654d546a6d7476db945c28359308a8c"
          ]
        },
        "id": "ZvyvUVIMzWho",
        "outputId": "5fab3fe2-148e-43d4-ee8b-90b3a282fbdb"
      },
      "execution_count": 16,
      "outputs": [
        {
          "output_type": "display_data",
          "data": {
            "text/plain": [
              "GridspecLayout(children=(Button(button_style='warning', description='Data Cache', layout=Layout(grid_area='wid…"
            ],
            "application/vnd.jupyter.widget-view+json": {
              "version_major": 2,
              "version_minor": 0,
              "model_id": "221aaec17ae94a7abcafd75e88d347cb"
            }
          },
          "metadata": {}
        }
      ]
    },
    {
      "cell_type": "markdown",
      "source": [
        "### Associative\n",
        "\n",
        "size=2\n",
        "line=32\n",
        "\n",
        "#### 20\n",
        "associative = ['1', '4', '16']\n",
        "misses = [7612, 4233, 4125]\n",
        "\n",
        "#### 60\n",
        "associative = ['1', '4', '16']\n",
        "misses = [62917, 7057, 5787]\n",
        "\n",
        "#### 90\n",
        "associative = ['1', '4', '16']\n",
        "misses = [290055, 17829, 22192]"
      ],
      "metadata": {
        "id": "fGqXAMopMBdh"
      }
    },
    {
      "cell_type": "markdown",
      "source": [
        "### Line\n",
        "\n",
        "size=2\n",
        "associative=1\n",
        "\n",
        "#### 20\n",
        "line = ['32', '64', '128']\n",
        "misses = [7612, 7214, 7005]\n",
        "\n",
        "#### 60\n",
        "line = ['32', '64', '128']\n",
        "misses = [62917, 104065, 142541]\n",
        "\n",
        "#### 90\n",
        "line = ['32', '64', '128']\n",
        "misses = [290055, 491539, 708842]"
      ],
      "metadata": {
        "id": "tm6lTkJZMCJQ"
      }
    },
    {
      "cell_type": "markdown",
      "source": [
        "### Associative"
      ],
      "metadata": {
        "id": "0adJU9fSML5Z"
      }
    },
    {
      "cell_type": "code",
      "source": [
        "#@title Size=20\n",
        "import matplotlib.pyplot as plt\n",
        "\n",
        "x = ['1', '4', '16']\n",
        "y = [7612, 4233, 4125]\n",
        "\n",
        "# Espessura das barras\n",
        "width = 0.5\n",
        "\n",
        "# Plotar o gráfico de barras\n",
        "plt.bar(x, y, width=width)\n",
        "\n",
        "# Definir rótulos e título\n",
        "plt.xlabel('Line (Bytes)')\n",
        "plt.ylabel('Misses')\n",
        "plt.title('Misses by associative')\n",
        "\n",
        "# Definir margem para o intervalo de variação dos valores em y\n",
        "margin = 0.01 * max(y)\n",
        "\n",
        "# Definir os limites do eixo y com margem\n",
        "plt.ylim(min(y) - margin, max(y) + margin)\n",
        "\n",
        "# Exibir o gráfico\n",
        "plt.show()"
      ],
      "metadata": {
        "colab": {
          "base_uri": "https://localhost:8080/",
          "height": 472
        },
        "id": "TGDRVrJrMMmA",
        "outputId": "fd51507c-7c0b-4db2-c23b-27b83912f750"
      },
      "execution_count": 17,
      "outputs": [
        {
          "output_type": "display_data",
          "data": {
            "text/plain": [
              "<Figure size 640x480 with 1 Axes>"
            ],
            "image/png": "[encoded data removed]"
          },
          "metadata": {}
        }
      ]
    },
    {
      "cell_type": "code",
      "source": [
        "#@title Size=60\n",
        "import matplotlib.pyplot as plt\n",
        "\n",
        "x = ['1', '4', '16']\n",
        "y = [62917, 7057, 5787]\n",
        "\n",
        "# Espessura das barras\n",
        "width = 0.5\n",
        "\n",
        "# Plotar o gráfico de barras\n",
        "plt.bar(x, y, width=width)\n",
        "\n",
        "# Definir rótulos e título\n",
        "plt.xlabel('Line (Bytes)')\n",
        "plt.ylabel('Misses')\n",
        "plt.title('Misses by associative')\n",
        "\n",
        "# Definir margem para o intervalo de variação dos valores em y\n",
        "margin = 0.01 * max(y)\n",
        "\n",
        "# Definir os limites do eixo y com margem\n",
        "plt.ylim(min(y) - margin, max(y) + margin)\n",
        "\n",
        "# Exibir o gráfico\n",
        "plt.show()"
      ],
      "metadata": {
        "colab": {
          "base_uri": "https://localhost:8080/",
          "height": 472
        },
        "id": "EW99bQkjMPXZ",
        "outputId": "838546cb-9a62-4013-fe01-3cf6adc18763"
      },
      "execution_count": 18,
      "outputs": [
        {
          "output_type": "display_data",
          "data": {
            "text/plain": [
              "<Figure size 640x480 with 1 Axes>"
            ],
            "image/png": "[encoded data removed]"
          },
          "metadata": {}
        }
      ]
    },
    {
      "cell_type": "code",
      "source": [
        "#@title Size=90\n",
        "import matplotlib.pyplot as plt\n",
        "\n",
        "x = ['1', '4', '16']\n",
        "y = [290055, 17829, 22192]\n",
        "\n",
        "# Espessura das barras\n",
        "width = 0.5\n",
        "\n",
        "# Plotar o gráfico de barras\n",
        "plt.bar(x, y, width=width)\n",
        "\n",
        "# Definir rótulos e título\n",
        "plt.xlabel('Line (Bytes)')\n",
        "plt.ylabel('Misses')\n",
        "plt.title('Misses by associative')\n",
        "\n",
        "# Definir margem para o intervalo de variação dos valores em y\n",
        "margin = 0.01 * max(y)\n",
        "\n",
        "# Definir os limites do eixo y com margem\n",
        "plt.ylim(min(y) - margin, max(y) + margin)\n",
        "\n",
        "# Exibir o gráfico\n",
        "plt.show()"
      ],
      "metadata": {
        "colab": {
          "base_uri": "https://localhost:8080/",
          "height": 472
        },
        "id": "UCnRVg-BMSQw",
        "outputId": "b6582630-25de-4f84-dbad-733531a66a3b"
      },
      "execution_count": 19,
      "outputs": [
        {
          "output_type": "display_data",
          "data": {
            "text/plain": [
              "<Figure size 640x480 with 1 Axes>"
            ],
            "image/png": "[encoded data removed]"
          },
          "metadata": {}
        }
      ]
    },
    {
      "cell_type": "markdown",
      "source": [
        "### Lines (Bytes)"
      ],
      "metadata": {
        "id": "xSIXmqVLMUu_"
      }
    },
    {
      "cell_type": "code",
      "source": [
        "#@title Size=20\n",
        "import matplotlib.pyplot as plt\n",
        "\n",
        "x = ['32', '64', '128']\n",
        "y = [7612, 7214, 7005]\n",
        "\n",
        "# Espessura das barras\n",
        "width = 0.5\n",
        "\n",
        "# Plotar o gráfico de barras\n",
        "plt.bar(x, y, width=width)\n",
        "\n",
        "# Definir rótulos e título\n",
        "plt.xlabel('Line (Bytes)')\n",
        "plt.ylabel('Misses')\n",
        "plt.title('Misses by line size')\n",
        "\n",
        "# Definir margem para o intervalo de variação dos valores em y\n",
        "margin = 0.01 * max(y)\n",
        "\n",
        "# Definir os limites do eixo y com margem\n",
        "plt.ylim(min(y) - margin, max(y) + margin)\n",
        "\n",
        "# Exibir o gráfico\n",
        "plt.show()"
      ],
      "metadata": {
        "colab": {
          "base_uri": "https://localhost:8080/",
          "height": 472
        },
        "id": "aYqn8so5MXT3",
        "outputId": "da56d6eb-1ee9-44fa-932b-547cb70f01ec"
      },
      "execution_count": 20,
      "outputs": [
        {
          "output_type": "display_data",
          "data": {
            "text/plain": [
              "<Figure size 640x480 with 1 Axes>"
            ],
            "image/png": "[encoded data removed]"
          },
          "metadata": {}
        }
      ]
    },
    {
      "cell_type": "code",
      "source": [
        "#@title Size=60\n",
        "import matplotlib.pyplot as plt\n",
        "\n",
        "x = ['32', '64', '128']\n",
        "y = [62917, 104065, 142541]\n",
        "\n",
        "# Espessura das barras\n",
        "width = 0.5\n",
        "\n",
        "# Plotar o gráfico de barras\n",
        "plt.bar(x, y, width=width)\n",
        "\n",
        "# Definir rótulos e título\n",
        "plt.xlabel('Line (Bytes)')\n",
        "plt.ylabel('Misses')\n",
        "plt.title('Misses by line size')\n",
        "\n",
        "# Definir margem para o intervalo de variação dos valores em y\n",
        "margin = 0.01 * max(y)\n",
        "\n",
        "# Definir os limites do eixo y com margem\n",
        "plt.ylim(min(y) - margin, max(y) + margin)\n",
        "\n",
        "# Exibir o gráfico\n",
        "plt.show()"
      ],
      "metadata": {
        "colab": {
          "base_uri": "https://localhost:8080/",
          "height": 472
        },
        "id": "ODSpakMSMaGo",
        "outputId": "7803e5f1-6657-48de-8d12-ae59cb18a69c"
      },
      "execution_count": 21,
      "outputs": [
        {
          "output_type": "display_data",
          "data": {
            "text/plain": [
              "<Figure size 640x480 with 1 Axes>"
            ],
            "image/png": "[encoded data removed]"
          },
          "metadata": {}
        }
      ]
    },
    {
      "cell_type": "code",
      "source": [
        "#@title Size=90\n",
        "import matplotlib.pyplot as plt\n",
        "\n",
        "x = ['32', '64', '128']\n",
        "y = [290055, 491539, 708842]\n",
        "\n",
        "# Espessura das barras\n",
        "width = 0.5\n",
        "\n",
        "# Plotar o gráfico de barras\n",
        "plt.bar(x, y, width=width)\n",
        "\n",
        "# Definir rótulos e título\n",
        "plt.xlabel('Line (Bytes)')\n",
        "plt.ylabel('Misses')\n",
        "plt.title('Misses by line size')\n",
        "\n",
        "# Definir margem para o intervalo de variação dos valores em y\n",
        "margin = 0.01 * max(y)\n",
        "\n",
        "# Definir os limites do eixo y com margem\n",
        "plt.ylim(min(y) - margin, max(y) + margin)\n",
        "\n",
        "# Exibir o gráfico\n",
        "plt.show()"
      ],
      "metadata": {
        "colab": {
          "base_uri": "https://localhost:8080/",
          "height": 472
        },
        "id": "Xe3FMFBrMeFI",
        "outputId": "a8c4f25f-5f8d-426a-e74c-5d9bb5cdee1e"
      },
      "execution_count": 22,
      "outputs": [
        {
          "output_type": "display_data",
          "data": {
            "text/plain": [
              "<Figure size 640x480 with 1 Axes>"
            ],
            "image/png": "[encoded data removed]"
          },
          "metadata": {}
        }
      ]
    },
    {
      "cell_type": "markdown",
      "metadata": {
        "id": "0jtIuYs8pM7j"
      },
      "source": [
        "# Variando o tamanho da Cache e visualizando falhas e taxa de falhas\n",
        "\n",
        "A extensão **\\%\\%rangecachegrind** executa várias vezes com tamanhos de cache especificados pela lista **datacache=(4,8,16,32)**, em Kbytes. O usuário especifica a associatividade (**ways**) e o tamanho do linha  (**line**), os gráficos são gerados de forma automática."
      ]
    },
    {
      "cell_type": "code",
      "metadata": {
        "id": "b96CrTPcOk1k",
        "colab": {
          "base_uri": "https://localhost:8080/"
        },
        "outputId": "1f359169-46f1-4451-f6a7-a8f01df66ea0"
      },
      "source": [
        "%%rangecachegrind datacache=(8,16,32,64,128,256); ways=2; line=64; bargraph=(misses, miss_rate)\n",
        "\n",
        "#include <stdio.h>\n",
        "#include <stdlib.h>\n",
        "\n",
        "int main(int argc, char const *argv[]) {\n",
        "\n",
        "  int n = 2048;\n",
        "  int a[n][n], b[n][n], c[n][n];\n",
        "\n",
        "  for (int i = 0; i < n; ++i) {\n",
        "      for (int j = 0; j < n; ++j) {\n",
        "        a[i][j] = i + j;\n",
        "        b[i][j] = i*2 + j;\n",
        "      }\n",
        "  }\n",
        "\n",
        "  int temp;\n",
        "  for (int i = 0; i < n; ++i) {\n",
        "      for (int j = 0; j < n; ++j) {\n",
        "          temp = 0;\n",
        "          for (int k = 0; k < n; ++k) {\n",
        "              temp += a[i][k] * b[k][j];\n",
        "          }\n",
        "          c[i][j] = temp;\n",
        "      }\n",
        "  }\n",
        "  return 0;\n",
        "}"
      ],
      "execution_count": 23,
      "outputs": [
        {
          "output_type": "stream",
          "name": "stdout",
          "text": [
            "\n"
          ]
        }
      ]
    },
    {
      "cell_type": "markdown",
      "source": [
        "# Parte II\n",
        "\n",
        "Executar os três códigos com rangegridcache e plotar os grafos."
      ],
      "metadata": {
        "id": "c7_J1Rrvd3MX"
      }
    },
    {
      "cell_type": "markdown",
      "source": [
        "# Parte III\n",
        "\n",
        "[escolher 4 versões de código neste repositório](https://github.com/neboat/Moore) para compilar e executar diretamente no colab, sem usar o Valgrind. Medir o tempo com **time** do SO ou alterar o código para usar **chromos**. Fazer uma tabela das 4 implementações com matrizes de três tamanhos: N=1024, N=2048 e N=4096. A Cache L3 do processador do Colab tem 56 MB. Além da tabela fazer um gráfico dos resultados (tempo de execução para cada versão em função do tamanho).\n"
      ],
      "metadata": {
        "id": "Xyc94CCImcUK"
      }
    },
    {
      "cell_type": "code",
      "source": [
        "!lscpu"
      ],
      "metadata": {
        "id": "M3nWJ5XJWwOS",
        "outputId": "4e0dbf82-74e7-4641-cc96-eb201b1fa2d4",
        "colab": {
          "base_uri": "https://localhost:8080/"
        }
      },
      "execution_count": 24,
      "outputs": [
        {
          "output_type": "stream",
          "name": "stdout",
          "text": [
            "Architecture:                    x86_64\n",
            "CPU op-mode(s):                  32-bit, 64-bit\n",
            "Byte Order:                      Little Endian\n",
            "Address sizes:                   46 bits physical, 48 bits virtual\n",
            "CPU(s):                          2\n",
            "On-line CPU(s) list:             0,1\n",
            "Thread(s) per core:              2\n",
            "Core(s) per socket:              1\n",
            "Socket(s):                       1\n",
            "NUMA node(s):                    1\n",
            "Vendor ID:                       GenuineIntel\n",
            "CPU family:                      6\n",
            "Model:                           79\n",
            "Model name:                      Intel(R) Xeon(R) CPU @ 2.20GHz\n",
            "Stepping:                        0\n",
            "CPU MHz:                         2200.226\n",
            "BogoMIPS:                        4400.45\n",
            "Hypervisor vendor:               KVM\n",
            "Virtualization type:             full\n",
            "L1d cache:                       32 KiB\n",
            "L1i cache:                       32 KiB\n",
            "L2 cache:                        256 KiB\n",
            "L3 cache:                        55 MiB\n",
            "NUMA node0 CPU(s):               0,1\n",
            "Vulnerability Itlb multihit:     Not affected\n",
            "Vulnerability L1tf:              Mitigation; PTE Inversion\n",
            "Vulnerability Mds:               Vulnerable; SMT Host state unknown\n",
            "Vulnerability Meltdown:          Vulnerable\n",
            "Vulnerability Mmio stale data:   Vulnerable\n",
            "Vulnerability Retbleed:          Vulnerable\n",
            "Vulnerability Spec store bypass: Vulnerable\n",
            "Vulnerability Spectre v1:        Vulnerable: __user pointer sanitization and use\n",
            "                                 rcopy barriers only; no swapgs barriers\n",
            "Vulnerability Spectre v2:        Vulnerable, IBPB: disabled, STIBP: disabled, PB\n",
            "                                 RSB-eIBRS: Not affected\n",
            "Vulnerability Srbds:             Not affected\n",
            "Vulnerability Tsx async abort:   Vulnerable\n",
            "Flags:                           fpu vme de pse tsc msr pae mce cx8 apic sep mtr\n",
            "                                 r pge mca cmov pat pse36 clflush mmx fxsr sse s\n",
            "                                 se2 ss ht syscall nx pdpe1gb rdtscp lm constant\n",
            "                                 _tsc rep_good nopl xtopology nonstop_tsc cpuid \n",
            "                                 tsc_known_freq pni pclmulqdq ssse3 fma cx16 pci\n",
            "                                 d sse4_1 sse4_2 x2apic movbe popcnt aes xsave a\n",
            "                                 vx f16c rdrand hypervisor lahf_lm abm 3dnowpref\n",
            "                                 etch invpcid_single ssbd ibrs ibpb stibp fsgsba\n",
            "                                 se tsc_adjust bmi1 hle avx2 smep bmi2 erms invp\n",
            "                                 cid rtm rdseed adx smap xsaveopt arat md_clear \n",
            "                                 arch_capabilities\n"
          ]
        }
      ]
    },
    {
      "cell_type": "markdown",
      "source": [
        "# Questão 1 da Prova 3\n",
        "\n",
        "Abaixo sugestões de exercicios para a questão 1 da prova 3"
      ],
      "metadata": {
        "id": "AjnyZaBC1LE4"
      }
    },
    {
      "cell_type": "markdown",
      "source": [
        "## Suponha uma cache com bloco de 4 bytes e 16 posições mapeamento direto.\n",
        "\n",
        "Para o código abaixo, após 20 acessos a memória (pode ser de A, B ou C...) Qual será o conteúdo da cache. Suponha que **temp, i, j, k** sejam registradores ? Quantas falhas terão ? Suponha que a cache esteja vazia na execução do trecho.\n",
        "\n",
        "```\n",
        "  byte a[4][4], b[4][4], c[4][4];\n",
        "\n",
        "  int temp;\n",
        "  for (int i = 0; i < 4; ++i) {\n",
        "      for (int j = 0; j < 4; ++j) {\n",
        "          temp = 0;\n",
        "          for (int k = 0; k < 4; ++k) {\n",
        "              temp += a[i][k] * b[k][j];\n",
        "          }\n",
        "          c[i][j] = temp;\n",
        "      }\n",
        "  }\n",
        "```"
      ],
      "metadata": {
        "id": "KHdr9z2m1ScR"
      }
    },
    {
      "cell_type": "markdown",
      "source": [
        "## Outras  opções para questão anterior:\n",
        "\n",
        "* Cache de 32 ou 64, o que modifica ?\n",
        "* Bloco de 8 ?\n",
        "* 2-way ?\n",
        "* suponha que o acesso para matriz B seja por linha (a matriz foi transposta na memória antes de executar o código).\n",
        "\n"
      ],
      "metadata": {
        "id": "WiBP0TKQ2NLp"
      }
    },
    {
      "cell_type": "markdown",
      "source": [
        "# Pontos Extras\n",
        "\n",
        "* Fazer a analise para cache com 16 e 32 para a versão com Tile, considerando 2x2 para a execução dos 30 primeiros acessos. (2 pontos)\n",
        "* Fazer um simulador que gere os a contagem do acesso para uma cache de mapeamento direto onde o tamanho da cache, do bloco, da matriz e do tile são parametros (5 pontos)."
      ],
      "metadata": {
        "id": "x_FPtcsZ92uA"
      }
    }
  ]
}