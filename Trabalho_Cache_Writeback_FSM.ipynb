{
  "nbformat": 4,
  "nbformat_minor": 0,
  "metadata": {
    "colab": {
      "provenance": [],
      "include_colab_link": true
    },
    "kernelspec": {
      "name": "python3",
      "display_name": "Python 3"
    },
    "language_info": {
      "name": "python"
    }
  },
  "cells": [
    {
      "cell_type": "markdown",
      "metadata": {
        "id": "view-in-github",
        "colab_type": "text"
      },
      "source": [
        "<a href=\"https://colab.research.google.com/github/jpmedras/inf450_2023-1/blob/main/ajnpr_de_inf450_2023_TrabalhoCacheWriteback_FSM.ipynb\" target=\"_parent\"><img src=\"https://colab.research.google.com/assets/colab-badge.svg\" alt=\"Open In Colab\"/></a>"
      ]
    },
    {
      "cell_type": "markdown",
      "source": [
        "# Trabalho inf450 Cache Write-back\n",
        "\n",
        "* Cache Mapeamento Direto\n",
        "* Write-back\n",
        "* Máquina de estados para Teste da Cache\n",
        "  * Ler um sequencia da memoria\n",
        "\n",
        "  \n",
        "posicao | operacao | endereco | dado\n",
        "---     | ---      | ---|---\n",
        "0 | 0 (read) | 30 |\n",
        "1 | 1 (write) | 21 | 3\n",
        "... |\n",
        "10 | 1 (write) | 44 | 1\n",
        "\n",
        "* O sistema deve monitorar o total de ciclos para a execução da sequencia\n",
        "* Mostrar o número de MISS\n",
        "\n",
        "\n",
        "[playlist com explicações](https://www.youtube.com/playlist?list=PLcvOyD_LMr6kDv1GhR8eLMkzxwKzXGDvo)\n",
        "\n"
      ],
      "metadata": {
        "id": "Rlrhkw8acgPi"
      }
    },
    {
      "cell_type": "markdown",
      "source": [
        "# Referencias\n",
        "\n",
        "* Fazer as adaptações no trabalho de cache  [Colab Mapeamento Direto em Verilog](https://colab.research.google.com/drive/1bh5ODMjvlMs8Zem0-SQ6tOvOpMCL16Ob?usp=sharing)\n",
        "\n",
        "\n",
        "\n",
        "* Referências para Memória [com colab](https://colab.research.google.com/drive/1EKR4iBx_EGQgHr4tDHwQXRv_OY65b5CP?usp=sharing)\n",
        "\n"
      ],
      "metadata": {
        "id": "9Pq3pTeZdZsi"
      }
    },
    {
      "cell_type": "markdown",
      "source": [
        "# Maquina de Estados com Write-back"
      ],
      "metadata": {
        "id": "kVD6hpOpe8FX"
      }
    },
    {
      "cell_type": "markdown",
      "source": [
        "## [Descrição do projeto](https://excalidraw.com/#json=NUkS9gpN7MOLbnIfPlsuJ,lbAEMzmIIlkMNQfdWim_Yg)"
      ],
      "metadata": {
        "id": "pWNdEZKvsMkx"
      }
    },
    {
      "cell_type": "markdown",
      "source": [
        "## Diagrama da Maquina\n",
        "\n",
        "* Alterar a FSM da read-only"
      ],
      "metadata": {
        "id": "PiAHALaTfOwk"
      }
    },
    {
      "cell_type": "code",
      "source": [
        "\n",
        "from graphviz import Digraph\n",
        "e = Digraph('fsmCache', filename='fsmCache.gv')\n",
        "\n",
        "e.attr('node', shape='box')\n",
        "\n",
        "with e.subgraph() as s:\n",
        "    s.attr(rank='bottom')\n",
        "    s.node('ReadData', label = 'ReadData Done == 1')\n",
        "    s.node('ReadTag', label = 'ReadTag Cnt == 1 & Mux == 0',shape=\"box3d\")\n",
        "    s.node('WriteData', label = 'WriteData Done == 1')\n",
        "\n",
        "e.edge('ReadTag','ReadData','c & v & ~op')\n",
        "e.edge('ReadTag','ReadBlock','~c & v & w & ~op')\n",
        "e.edge('ReadTag','WriteBlock','(~v & ~op) | (~c & ~w & ~op)')\n",
        "\n",
        "\n",
        "with e.subgraph() as s:\n",
        "    s.attr(rank='top')\n",
        "    s.node('ReadBlock', label = 'ReadBlock Dwr == 1 & RAMr == 1 & 1 Mux == 1')\n",
        "    s.node('UpdateTag', label = 'UpdateTag Twr == 1')\n",
        "    s.node('WriteBlock', label = 'WriteBlock \\n RAMwr == 1 & Mux == 1')\n",
        "\n",
        "e.edge('ReadData','ReadTag')\n",
        "e.edge('ReadBlock','UpdateTag','END');\n",
        "e.edge('ReadBlock','ReadBlock','¬END')\n",
        "e.edge('WriteBlock','WriteBlock','¬END')\n",
        "e.edge('WriteBlock','ReadBlock','END')\n",
        "e.edge(\"UpdateTag\",\"ReadData\", '~op')\n",
        "\n",
        "with e.subgraph() as s:\n",
        "    s.node('WriteData', label = 'WriteData Done == 1 Dwr == 1')\n",
        "    #s.node('WriteData', label = 'WriteData Done == 1')\n",
        "    s.node('UpdateDirty', label = 'UpdateDirty Wwr == 1')\n",
        "\n",
        "e.edge('ReadTag','WriteBlock', '~c & v & w & op')\n",
        "e.edge('ReadTag','ReadBlock','(~v & op) | (~c & ~w & op)');\n",
        "e.edge('ReadTag','WriteData','(c & v & op)');\n",
        "e.edge('UpdateTag','UpdateDirty','op');\n",
        "e.edge('UpdateDirty','WriteData');\n",
        "e.edge('WriteData', 'ReadTag')\n",
        "\n",
        "e.view()\n",
        "\n",
        "\n",
        "# assign wRAM = (~c & v & w);\n",
        "# assign rRAM = (~v) | (~c & ~w);\n",
        "# assign rCache = (c & v);"
      ],
      "metadata": {
        "colab": {
          "base_uri": "https://localhost:8080/",
          "height": 35
        },
        "id": "izvsNTZp6pG7",
        "outputId": "60e69700-d77d-4a68-a02e-5a94b8677b01"
      },
      "execution_count": null,
      "outputs": [
        {
          "output_type": "execute_result",
          "data": {
            "text/plain": [
              "'fsmCache.gv.pdf'"
            ],
            "application/vnd.google.colaboratory.intrinsic+json": {
              "type": "string"
            }
          },
          "metadata": {},
          "execution_count": 18
        }
      ]
    },
    {
      "cell_type": "code",
      "source": [
        "\n",
        "from graphviz import Digraph\n",
        "e = Digraph('fsmCache', filename='fsmCache.gv')\n",
        "\n",
        "e.attr('node', shape='box')\n",
        "\n",
        "with e.subgraph() as s:\n",
        "    s.attr(rank='bottom')\n",
        "    s.node('ReadData', label = 'ReadData Done == 1')\n",
        "    s.node('ReadTag', label = 'ReadTag Cnt == 1 & Mux == 0',shape=\"box3d\")\n",
        "    s.node('WriteData', label = 'WriteData Done == 1')\n",
        "\n",
        "e.edge('ReadTag','ReadData','c & v & ~op')\n",
        "e.edge('ReadTag','ReadBlock','(~v) | (~c & ~w)')\n",
        "e.edge('ReadTag','WriteBlock','~c & v & w')\n",
        "\n",
        "\n",
        "with e.subgraph() as s:\n",
        "    s.attr(rank='top')\n",
        "    s.node('ReadBlock', label = 'ReadBlock Dwr == 1 & Mux == 1')\n",
        "    s.node('UpdateTag', label = 'UpdateTag Twr == 1')\n",
        "    s.node('WriteBlock', label = 'WriteBlock \\n RAMwr == 1 & Mux == 1')\n",
        "\n",
        "e.edge('ReadData','ReadTag')\n",
        "e.edge('ReadBlock','UpdateTag','RB_End');\n",
        "e.edge('ReadBlock','ReadBlock','¬RB_End')\n",
        "e.edge('WriteBlock','ReadBlock','WB_End')\n",
        "e.edge('WriteBlock','WriteBlock','¬WB_End')\n",
        "e.edge(\"UpdateTag\",\"ReadData\", '~op')\n",
        "\n",
        "with e.subgraph() as s:\n",
        "    s.node('WriteData', label = 'WriteData Done == 1 Dwr == 1')\n",
        "    s.node('UpdateDirty', label = 'UpdateDirty DTwr == 1')\n",
        "\n",
        "e.edge('ReadTag','WriteData','c & v & op');\n",
        "e.edge('UpdateTag','UpdateDirty','op');\n",
        "e.edge('UpdateDirty','WriteData');\n",
        "e.edge('WriteData', 'ReadTag')\n",
        "\n",
        "e.view()\n",
        "\n",
        "\n",
        "# assign wRAM = (~c & v & w);\n",
        "# assign rRAM = (~v) | (~c & ~w);\n",
        "# assign rCache = (c & v);"
      ],
      "metadata": {
        "colab": {
          "base_uri": "https://localhost:8080/",
          "height": 35
        },
        "id": "Dz2ljhIGPmTa",
        "outputId": "313bc7b4-211e-4a4e-976a-96b90e646fab"
      },
      "execution_count": null,
      "outputs": [
        {
          "output_type": "execute_result",
          "data": {
            "text/plain": [
              "'fsmCache.gv.pdf'"
            ],
            "application/vnd.google.colaboratory.intrinsic+json": {
              "type": "string"
            }
          },
          "metadata": {},
          "execution_count": 12
        }
      ]
    },
    {
      "cell_type": "code",
      "source": [
        "#@title Final State Machine Visualization\n",
        "from graphviz import Source\n",
        "Source.from_file('fsmCache.gv') # visualizando"
      ],
      "metadata": {
        "colab": {
          "base_uri": "https://localhost:8080/",
          "height": 760
        },
        "id": "KfLJx2kB7hNG",
        "outputId": "9e332f01-a500-4e69-ce02-32a449b252d7"
      },
      "execution_count": null,
      "outputs": [
        {
          "output_type": "execute_result",
          "data": {
            "image/svg+xml": "<?xml version=\"1.0\" encoding=\"UTF-8\" standalone=\"no\"?>\n<!DOCTYPE svg PUBLIC \"-//W3C//DTD SVG 1.1//EN\"\n \"http://www.w3.org/Graphics/SVG/1.1/DTD/svg11.dtd\">\n<!-- Generated by graphviz version 2.43.0 (0)\n -->\n<!-- Title: fsmCache Pages: 1 -->\n<svg width=\"573pt\" height=\"554pt\"\n viewBox=\"0.00 0.00 572.50 554.00\" xmlns=\"http://www.w3.org/2000/svg\" xmlns:xlink=\"http://www.w3.org/1999/xlink\">\n<g id=\"graph0\" class=\"graph\" transform=\"scale(1 1) rotate(0) translate(4 550)\">\n<title>fsmCache</title>\n<polygon fill=\"white\" stroke=\"transparent\" points=\"-4,4 -4,-550 568.5,-550 568.5,4 -4,4\"/>\n<!-- ReadData -->\n<g id=\"node1\" class=\"node\">\n<title>ReadData</title>\n<polygon fill=\"none\" stroke=\"black\" points=\"243.5,-546 109.5,-546 109.5,-510 243.5,-510 243.5,-546\"/>\n<text text-anchor=\"middle\" x=\"176.5\" y=\"-524.3\" font-family=\"Times,serif\" font-size=\"14.00\">ReadData Done == 1</text>\n</g>\n<!-- ReadTag -->\n<g id=\"node2\" class=\"node\">\n<title>ReadTag</title>\n<polygon fill=\"none\" stroke=\"black\" points=\"240.5,-459 50.5,-459 46.5,-455 46.5,-423 236.5,-423 240.5,-427 240.5,-459\"/>\n<polyline fill=\"none\" stroke=\"black\" points=\"236.5,-455 46.5,-455 \"/>\n<polyline fill=\"none\" stroke=\"black\" points=\"236.5,-455 236.5,-423 \"/>\n<polyline fill=\"none\" stroke=\"black\" points=\"236.5,-455 240.5,-459 \"/>\n<text text-anchor=\"middle\" x=\"143.5\" y=\"-437.3\" font-family=\"Times,serif\" font-size=\"14.00\">ReadTag Cnt == 1 &amp; Mux == 0</text>\n</g>\n<!-- ReadData&#45;&gt;ReadTag -->\n<g id=\"edge4\" class=\"edge\">\n<title>ReadData&#45;&gt;ReadTag</title>\n<path fill=\"none\" stroke=\"black\" d=\"M166.24,-509.93C163.15,-504.34 159.94,-498.02 157.5,-492 154.57,-484.76 152.01,-476.7 149.92,-469.2\"/>\n<polygon fill=\"black\" stroke=\"black\" points=\"153.29,-468.23 147.36,-459.44 146.52,-470 153.29,-468.23\"/>\n</g>\n<!-- ReadTag&#45;&gt;ReadData -->\n<g id=\"edge1\" class=\"edge\">\n<title>ReadTag&#45;&gt;ReadData</title>\n<path fill=\"none\" stroke=\"black\" d=\"M150.17,-459.18C154.73,-470.92 160.87,-486.73 166.07,-500.13\"/>\n<polygon fill=\"black\" stroke=\"black\" points=\"162.94,-501.74 169.82,-509.8 169.47,-499.21 162.94,-501.74\"/>\n<text text-anchor=\"middle\" x=\"198.5\" y=\"-480.8\" font-family=\"Times,serif\" font-size=\"14.00\">c &amp; v &amp; ~op</text>\n</g>\n<!-- WriteData -->\n<g id=\"node3\" class=\"node\">\n<title>WriteData</title>\n<polygon fill=\"none\" stroke=\"black\" points=\"195,-36 0,-36 0,0 195,0 195,-36\"/>\n<text text-anchor=\"middle\" x=\"97.5\" y=\"-14.3\" font-family=\"Times,serif\" font-size=\"14.00\">WriteData Done == 1 Dwr == 1</text>\n</g>\n<!-- ReadTag&#45;&gt;WriteData -->\n<g id=\"edge10\" class=\"edge\">\n<title>ReadTag&#45;&gt;WriteData</title>\n<path fill=\"none\" stroke=\"black\" d=\"M82.46,-422.89C50.73,-409.89 18.5,-388.24 18.5,-354 18.5,-354 18.5,-354 18.5,-90 18.5,-69.59 33.27,-53.55 50.04,-41.92\"/>\n<polygon fill=\"black\" stroke=\"black\" points=\"52.38,-44.58 58.93,-36.25 48.61,-38.68 52.38,-44.58\"/>\n<text text-anchor=\"middle\" x=\"50.5\" y=\"-217.8\" font-family=\"Times,serif\" font-size=\"14.00\">c &amp; v &amp; op</text>\n</g>\n<!-- ReadBlock -->\n<g id=\"node4\" class=\"node\">\n<title>ReadBlock</title>\n<polygon fill=\"none\" stroke=\"black\" points=\"407,-283 196,-283 196,-247 407,-247 407,-283\"/>\n<text text-anchor=\"middle\" x=\"301.5\" y=\"-261.3\" font-family=\"Times,serif\" font-size=\"14.00\">ReadBlock Dwr == 1 &amp; Mux == 1</text>\n</g>\n<!-- ReadTag&#45;&gt;ReadBlock -->\n<g id=\"edge2\" class=\"edge\">\n<title>ReadTag&#45;&gt;ReadBlock</title>\n<path fill=\"none\" stroke=\"black\" d=\"M140.04,-422.82C136.52,-400.25 133.89,-360.42 152.5,-334 168.04,-311.94 192.52,-296.9 217.19,-286.69\"/>\n<polygon fill=\"black\" stroke=\"black\" points=\"218.59,-289.9 226.64,-283.01 216.05,-283.38 218.59,-289.9\"/>\n<text text-anchor=\"middle\" x=\"199\" y=\"-349.3\" font-family=\"Times,serif\" font-size=\"14.00\">(~v) | (~c &amp; ~w)</text>\n</g>\n<!-- WriteBlock -->\n<g id=\"node5\" class=\"node\">\n<title>WriteBlock</title>\n<polygon fill=\"none\" stroke=\"black\" points=\"428,-372 255,-372 255,-334 428,-334 428,-372\"/>\n<text text-anchor=\"middle\" x=\"341.5\" y=\"-356.8\" font-family=\"Times,serif\" font-size=\"14.00\">WriteBlock </text>\n<text text-anchor=\"middle\" x=\"341.5\" y=\"-341.8\" font-family=\"Times,serif\" font-size=\"14.00\"> RAMwr == 1 &amp; Mux == 1</text>\n</g>\n<!-- ReadTag&#45;&gt;WriteBlock -->\n<g id=\"edge3\" class=\"edge\">\n<title>ReadTag&#45;&gt;WriteBlock</title>\n<path fill=\"none\" stroke=\"black\" d=\"M183.09,-422.8C213.91,-409.42 256.91,-390.74 290.33,-376.22\"/>\n<polygon fill=\"black\" stroke=\"black\" points=\"292.15,-379.25 299.93,-372.06 289.36,-372.83 292.15,-379.25\"/>\n<text text-anchor=\"middle\" x=\"288.5\" y=\"-393.8\" font-family=\"Times,serif\" font-size=\"14.00\">~c &amp; v &amp; w</text>\n</g>\n<!-- WriteData&#45;&gt;ReadTag -->\n<g id=\"edge13\" class=\"edge\">\n<title>WriteData&#45;&gt;ReadTag</title>\n<path fill=\"none\" stroke=\"black\" d=\"M97.5,-36.22C97.5,-50.59 97.5,-71.63 97.5,-90 97.5,-354 97.5,-354 97.5,-354 97.5,-376.49 109.89,-398.8 121.8,-415.06\"/>\n<polygon fill=\"black\" stroke=\"black\" points=\"119.04,-417.2 127.93,-422.98 124.58,-412.92 119.04,-417.2\"/>\n</g>\n<!-- ReadBlock&#45;&gt;ReadBlock -->\n<g id=\"edge6\" class=\"edge\">\n<title>ReadBlock&#45;&gt;ReadBlock</title>\n<path fill=\"none\" stroke=\"black\" d=\"M407.34,-271.47C418.12,-270.19 425,-268.04 425,-265 425,-263.06 422.18,-261.47 417.31,-260.25\"/>\n<polygon fill=\"black\" stroke=\"black\" points=\"417.79,-256.78 407.34,-258.53 416.6,-263.68 417.79,-256.78\"/>\n<text text-anchor=\"middle\" x=\"452.5\" y=\"-261.3\" font-family=\"Times,serif\" font-size=\"14.00\">¬RB_End</text>\n</g>\n<!-- UpdateTag -->\n<g id=\"node6\" class=\"node\">\n<title>UpdateTag</title>\n<polygon fill=\"none\" stroke=\"black\" points=\"367,-196 236,-196 236,-160 367,-160 367,-196\"/>\n<text text-anchor=\"middle\" x=\"301.5\" y=\"-174.3\" font-family=\"Times,serif\" font-size=\"14.00\">UpdateTag Twr == 1</text>\n</g>\n<!-- ReadBlock&#45;&gt;UpdateTag -->\n<g id=\"edge5\" class=\"edge\">\n<title>ReadBlock&#45;&gt;UpdateTag</title>\n<path fill=\"none\" stroke=\"black\" d=\"M301.5,-246.8C301.5,-235.16 301.5,-219.55 301.5,-206.24\"/>\n<polygon fill=\"black\" stroke=\"black\" points=\"305,-206.18 301.5,-196.18 298,-206.18 305,-206.18\"/>\n<text text-anchor=\"middle\" x=\"325\" y=\"-217.8\" font-family=\"Times,serif\" font-size=\"14.00\">RB_End</text>\n</g>\n<!-- WriteBlock&#45;&gt;ReadBlock -->\n<g id=\"edge7\" class=\"edge\">\n<title>WriteBlock&#45;&gt;ReadBlock</title>\n<path fill=\"none\" stroke=\"black\" d=\"M333.02,-333.76C327.41,-321.7 319.96,-305.7 313.72,-292.27\"/>\n<polygon fill=\"black\" stroke=\"black\" points=\"316.82,-290.63 309.43,-283.04 310.47,-293.59 316.82,-290.63\"/>\n<text text-anchor=\"middle\" x=\"349.5\" y=\"-304.8\" font-family=\"Times,serif\" font-size=\"14.00\">WB_End</text>\n</g>\n<!-- WriteBlock&#45;&gt;WriteBlock -->\n<g id=\"edge8\" class=\"edge\">\n<title>WriteBlock&#45;&gt;WriteBlock</title>\n<path fill=\"none\" stroke=\"black\" d=\"M428.39,-360.14C439.03,-358.86 446,-356.48 446,-353 446,-350.77 443.14,-348.99 438.28,-347.67\"/>\n<polygon fill=\"black\" stroke=\"black\" points=\"438.85,-344.21 428.39,-345.86 437.6,-351.1 438.85,-344.21\"/>\n<text text-anchor=\"middle\" x=\"476\" y=\"-349.3\" font-family=\"Times,serif\" font-size=\"14.00\">¬WB_End</text>\n</g>\n<!-- UpdateTag&#45;&gt;ReadData -->\n<g id=\"edge9\" class=\"edge\">\n<title>UpdateTag&#45;&gt;ReadData</title>\n<path fill=\"none\" stroke=\"black\" d=\"M367.04,-188.96C438.4,-201.7 542.5,-226.68 542.5,-264 542.5,-442 542.5,-442 542.5,-442 542.5,-500.77 361.18,-518.92 253.78,-524.51\"/>\n<polygon fill=\"black\" stroke=\"black\" points=\"253.44,-521.03 243.63,-525.02 253.79,-528.02 253.44,-521.03\"/>\n<text text-anchor=\"middle\" x=\"553.5\" y=\"-349.3\" font-family=\"Times,serif\" font-size=\"14.00\">~op</text>\n</g>\n<!-- UpdateDirty -->\n<g id=\"node7\" class=\"node\">\n<title>UpdateDirty</title>\n<polygon fill=\"none\" stroke=\"black\" points=\"342.5,-109 192.5,-109 192.5,-73 342.5,-73 342.5,-109\"/>\n<text text-anchor=\"middle\" x=\"267.5\" y=\"-87.3\" font-family=\"Times,serif\" font-size=\"14.00\">UpdateDirty DTwr == 1</text>\n</g>\n<!-- UpdateTag&#45;&gt;UpdateDirty -->\n<g id=\"edge11\" class=\"edge\">\n<title>UpdateTag&#45;&gt;UpdateDirty</title>\n<path fill=\"none\" stroke=\"black\" d=\"M294.62,-159.8C289.92,-148.05 283.6,-132.24 278.24,-118.84\"/>\n<polygon fill=\"black\" stroke=\"black\" points=\"281.33,-117.16 274.37,-109.18 274.83,-119.76 281.33,-117.16\"/>\n<text text-anchor=\"middle\" x=\"293.5\" y=\"-130.8\" font-family=\"Times,serif\" font-size=\"14.00\">op</text>\n</g>\n<!-- UpdateDirty&#45;&gt;WriteData -->\n<g id=\"edge12\" class=\"edge\">\n<title>UpdateDirty&#45;&gt;WriteData</title>\n<path fill=\"none\" stroke=\"black\" d=\"M226.78,-72.99C203.09,-63.1 173.03,-50.54 147.86,-40.03\"/>\n<polygon fill=\"black\" stroke=\"black\" points=\"149.05,-36.74 138.48,-36.11 146.35,-43.2 149.05,-36.74\"/>\n</g>\n</g>\n</svg>\n",
            "text/plain": [
              "<graphviz.sources.Source at 0x7fbfcaf0cf10>"
            ]
          },
          "metadata": {},
          "execution_count": 13
        }
      ]
    },
    {
      "cell_type": "markdown",
      "source": [
        "## Código Verilog\n",
        "\n",
        "[esboço das mudancas](https://excalidraw.com/#json=tA8BlVuaEDYLh1P6uK1IV,wtL9VBNzucDj81_xj67iAA)\n",
        "\n",
        "* criar uma memoria de 1 bit (clonar a memoria de valido) para anotar se os dados mudaram na cache (write back).\n"
      ],
      "metadata": {
        "id": "HzvjjjyufSVl"
      }
    },
    {
      "cell_type": "markdown",
      "source": [
        "# Projeto da Cache Mapeamento Direto com Write-back\n",
        "\n",
        "Adaptar a cache só de leitura."
      ],
      "metadata": {
        "id": "Ch24zp9vfCis"
      }
    },
    {
      "cell_type": "markdown",
      "source": [
        "# Funções para Visualizar o Resultado\n",
        "\n",
        "* Mostrar a Cache\n",
        "* Mostrar as células de memória que foram atualizadas"
      ],
      "metadata": {
        "id": "zlEWJFHKfYrs"
      }
    },
    {
      "cell_type": "markdown",
      "source": [
        "# Maquina de Estados para Consulta e Teste da Cache"
      ],
      "metadata": {
        "id": "-ErFOdY-gDwD"
      }
    }
  ]
}
